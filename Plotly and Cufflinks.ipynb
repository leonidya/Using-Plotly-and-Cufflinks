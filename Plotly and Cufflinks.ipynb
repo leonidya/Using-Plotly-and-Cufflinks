{
 "cells": [
  {
   "cell_type": "code",
   "execution_count": 1,
   "id": "fdf1c418",
   "metadata": {
    "ExecuteTime": {
     "end_time": "2023-03-23T11:32:34.181662Z",
     "start_time": "2023-03-23T11:32:30.953333Z"
    },
    "scrolled": false
   },
   "outputs": [
    {
     "name": "stdout",
     "output_type": "stream",
     "text": [
      "Requirement already satisfied: plotly in c:\\users\\leon\\anaconda3\\envs\\workdata\\lib\\site-packages (5.13.0)\n",
      "Requirement already satisfied: tenacity>=6.2.0 in c:\\users\\leon\\anaconda3\\envs\\workdata\\lib\\site-packages (from plotly) (8.2.1)\n"
     ]
    }
   ],
   "source": [
    "!pip install plotly"
   ]
  },
  {
   "cell_type": "code",
   "execution_count": 2,
   "id": "be49b43c",
   "metadata": {
    "ExecuteTime": {
     "end_time": "2023-03-23T11:32:47.787304Z",
     "start_time": "2023-03-23T11:32:40.901790Z"
    }
   },
   "outputs": [
    {
     "name": "stdout",
     "output_type": "stream",
     "text": [
      "Collecting cufflinks\n",
      "  Downloading cufflinks-0.17.3.tar.gz (81 kB)\n",
      "     -------------------------------------- 81.7/81.7 kB 415.7 kB/s eta 0:00:00\n",
      "  Preparing metadata (setup.py): started\n",
      "  Preparing metadata (setup.py): finished with status 'done'\n",
      "Requirement already satisfied: numpy>=1.9.2 in c:\\users\\leon\\appdata\\roaming\\python\\python39\\site-packages (from cufflinks) (1.23.4)\n",
      "Requirement already satisfied: pandas>=0.19.2 in c:\\users\\leon\\anaconda3\\envs\\workdata\\lib\\site-packages (from cufflinks) (1.5.2)\n",
      "Requirement already satisfied: plotly>=4.1.1 in c:\\users\\leon\\anaconda3\\envs\\workdata\\lib\\site-packages (from cufflinks) (5.13.0)\n",
      "Requirement already satisfied: six>=1.9.0 in c:\\users\\leon\\anaconda3\\envs\\workdata\\lib\\site-packages (from cufflinks) (1.16.0)\n",
      "Collecting colorlover>=0.2.1\n",
      "  Downloading colorlover-0.3.0-py3-none-any.whl (8.9 kB)\n",
      "Requirement already satisfied: setuptools>=34.4.1 in c:\\users\\leon\\anaconda3\\envs\\workdata\\lib\\site-packages (from cufflinks) (65.5.1)\n",
      "Requirement already satisfied: ipython>=5.3.0 in c:\\users\\leon\\anaconda3\\envs\\workdata\\lib\\site-packages (from cufflinks) (8.6.0)\n",
      "Requirement already satisfied: ipywidgets>=7.0.0 in c:\\users\\leon\\anaconda3\\envs\\workdata\\lib\\site-packages (from cufflinks) (8.0.4)\n",
      "Requirement already satisfied: pygments>=2.4.0 in c:\\users\\leon\\anaconda3\\envs\\workdata\\lib\\site-packages (from ipython>=5.3.0->cufflinks) (2.13.0)\n",
      "Requirement already satisfied: traitlets>=5 in c:\\users\\leon\\anaconda3\\envs\\workdata\\lib\\site-packages (from ipython>=5.3.0->cufflinks) (5.5.0)\n",
      "Requirement already satisfied: decorator in c:\\users\\leon\\anaconda3\\envs\\workdata\\lib\\site-packages (from ipython>=5.3.0->cufflinks) (5.1.1)\n",
      "Requirement already satisfied: stack-data in c:\\users\\leon\\anaconda3\\envs\\workdata\\lib\\site-packages (from ipython>=5.3.0->cufflinks) (0.6.1)\n",
      "Requirement already satisfied: matplotlib-inline in c:\\users\\leon\\anaconda3\\envs\\workdata\\lib\\site-packages (from ipython>=5.3.0->cufflinks) (0.1.6)\n",
      "Requirement already satisfied: colorama in c:\\users\\leon\\appdata\\roaming\\python\\python39\\site-packages (from ipython>=5.3.0->cufflinks) (0.4.6)\n",
      "Requirement already satisfied: backcall in c:\\users\\leon\\anaconda3\\envs\\workdata\\lib\\site-packages (from ipython>=5.3.0->cufflinks) (0.2.0)\n",
      "Requirement already satisfied: jedi>=0.16 in c:\\users\\leon\\anaconda3\\envs\\workdata\\lib\\site-packages (from ipython>=5.3.0->cufflinks) (0.18.2)\n",
      "Requirement already satisfied: prompt-toolkit<3.1.0,>3.0.1 in c:\\users\\leon\\anaconda3\\envs\\workdata\\lib\\site-packages (from ipython>=5.3.0->cufflinks) (3.0.33)\n",
      "Requirement already satisfied: pickleshare in c:\\users\\leon\\anaconda3\\envs\\workdata\\lib\\site-packages (from ipython>=5.3.0->cufflinks) (0.7.5)\n",
      "Requirement already satisfied: ipykernel>=4.5.1 in c:\\users\\leon\\anaconda3\\envs\\workdata\\lib\\site-packages (from ipywidgets>=7.0.0->cufflinks) (6.17.1)\n",
      "Requirement already satisfied: widgetsnbextension~=4.0 in c:\\users\\leon\\anaconda3\\envs\\workdata\\lib\\site-packages (from ipywidgets>=7.0.0->cufflinks) (4.0.5)\n",
      "Requirement already satisfied: jupyterlab-widgets~=3.0 in c:\\users\\leon\\anaconda3\\envs\\workdata\\lib\\site-packages (from ipywidgets>=7.0.0->cufflinks) (3.0.5)\n",
      "Requirement already satisfied: python-dateutil>=2.8.1 in c:\\users\\leon\\anaconda3\\envs\\workdata\\lib\\site-packages (from pandas>=0.19.2->cufflinks) (2.8.2)\n",
      "Requirement already satisfied: pytz>=2020.1 in c:\\users\\leon\\anaconda3\\envs\\workdata\\lib\\site-packages (from pandas>=0.19.2->cufflinks) (2022.6)\n",
      "Requirement already satisfied: tenacity>=6.2.0 in c:\\users\\leon\\anaconda3\\envs\\workdata\\lib\\site-packages (from plotly>=4.1.1->cufflinks) (8.2.1)\n",
      "Requirement already satisfied: debugpy>=1.0 in c:\\users\\leon\\anaconda3\\envs\\workdata\\lib\\site-packages (from ipykernel>=4.5.1->ipywidgets>=7.0.0->cufflinks) (1.6.3)\n",
      "Requirement already satisfied: packaging in c:\\users\\leon\\appdata\\roaming\\python\\python39\\site-packages (from ipykernel>=4.5.1->ipywidgets>=7.0.0->cufflinks) (21.3)\n",
      "Requirement already satisfied: tornado>=6.1 in c:\\users\\leon\\anaconda3\\envs\\workdata\\lib\\site-packages (from ipykernel>=4.5.1->ipywidgets>=7.0.0->cufflinks) (6.2)\n",
      "Requirement already satisfied: nest-asyncio in c:\\users\\leon\\anaconda3\\envs\\workdata\\lib\\site-packages (from ipykernel>=4.5.1->ipywidgets>=7.0.0->cufflinks) (1.5.6)\n",
      "Requirement already satisfied: psutil in c:\\users\\leon\\anaconda3\\envs\\workdata\\lib\\site-packages (from ipykernel>=4.5.1->ipywidgets>=7.0.0->cufflinks) (5.9.4)\n",
      "Requirement already satisfied: jupyter-client>=6.1.12 in c:\\users\\leon\\anaconda3\\envs\\workdata\\lib\\site-packages (from ipykernel>=4.5.1->ipywidgets>=7.0.0->cufflinks) (7.4.7)\n",
      "Requirement already satisfied: pyzmq>=17 in c:\\users\\leon\\anaconda3\\envs\\workdata\\lib\\site-packages (from ipykernel>=4.5.1->ipywidgets>=7.0.0->cufflinks) (24.0.1)\n",
      "Requirement already satisfied: parso<0.9.0,>=0.8.0 in c:\\users\\leon\\anaconda3\\envs\\workdata\\lib\\site-packages (from jedi>=0.16->ipython>=5.3.0->cufflinks) (0.8.3)\n",
      "Requirement already satisfied: wcwidth in c:\\users\\leon\\anaconda3\\envs\\workdata\\lib\\site-packages (from prompt-toolkit<3.1.0,>3.0.1->ipython>=5.3.0->cufflinks) (0.2.5)\n",
      "Requirement already satisfied: asttokens>=2.1.0 in c:\\users\\leon\\anaconda3\\envs\\workdata\\lib\\site-packages (from stack-data->ipython>=5.3.0->cufflinks) (2.1.0)\n",
      "Requirement already satisfied: executing>=1.2.0 in c:\\users\\leon\\anaconda3\\envs\\workdata\\lib\\site-packages (from stack-data->ipython>=5.3.0->cufflinks) (1.2.0)\n",
      "Requirement already satisfied: pure-eval in c:\\users\\leon\\anaconda3\\envs\\workdata\\lib\\site-packages (from stack-data->ipython>=5.3.0->cufflinks) (0.2.2)\n",
      "Requirement already satisfied: entrypoints in c:\\users\\leon\\anaconda3\\envs\\workdata\\lib\\site-packages (from jupyter-client>=6.1.12->ipykernel>=4.5.1->ipywidgets>=7.0.0->cufflinks) (0.4)\n",
      "Requirement already satisfied: jupyter-core>=4.9.2 in c:\\users\\leon\\anaconda3\\envs\\workdata\\lib\\site-packages (from jupyter-client>=6.1.12->ipykernel>=4.5.1->ipywidgets>=7.0.0->cufflinks) (5.0.0)\n",
      "Requirement already satisfied: pyparsing!=3.0.5,>=2.0.2 in c:\\users\\leon\\appdata\\roaming\\python\\python39\\site-packages (from packaging->ipykernel>=4.5.1->ipywidgets>=7.0.0->cufflinks) (3.0.9)\n",
      "Requirement already satisfied: pywin32>=1.0 in c:\\users\\leon\\anaconda3\\envs\\workdata\\lib\\site-packages (from jupyter-core>=4.9.2->jupyter-client>=6.1.12->ipykernel>=4.5.1->ipywidgets>=7.0.0->cufflinks) (304)\n",
      "Requirement already satisfied: platformdirs in c:\\users\\leon\\anaconda3\\envs\\workdata\\lib\\site-packages (from jupyter-core>=4.9.2->jupyter-client>=6.1.12->ipykernel>=4.5.1->ipywidgets>=7.0.0->cufflinks) (2.5.2)\n",
      "Building wheels for collected packages: cufflinks\n",
      "  Building wheel for cufflinks (setup.py): started\n",
      "  Building wheel for cufflinks (setup.py): finished with status 'done'\n",
      "  Created wheel for cufflinks: filename=cufflinks-0.17.3-py3-none-any.whl size=68725 sha256=b55ae1bae1ca3a6dad77d0b7e92de6d4d6c6875477098aef757a40cbace615de\n",
      "  Stored in directory: c:\\users\\leon\\appdata\\local\\pip\\cache\\wheels\\32\\f7\\bd\\3b5f431b9a740489de249dad87142f8ee000b7c6b6e8e58d54\n",
      "Successfully built cufflinks\n",
      "Installing collected packages: colorlover, cufflinks\n",
      "Successfully installed colorlover-0.3.0 cufflinks-0.17.3\n"
     ]
    }
   ],
   "source": [
    "!pip install cufflinks"
   ]
  },
  {
   "cell_type": "code",
   "execution_count": 1,
   "id": "2e738355",
   "metadata": {
    "ExecuteTime": {
     "end_time": "2023-03-25T09:00:33.615919Z",
     "start_time": "2023-03-25T09:00:31.901132Z"
    }
   },
   "outputs": [],
   "source": [
    "import plotly as np\n",
    "import pandas as pd"
   ]
  },
  {
   "cell_type": "code",
   "execution_count": 2,
   "id": "59842e47",
   "metadata": {
    "ExecuteTime": {
     "end_time": "2023-03-25T09:00:33.631756Z",
     "start_time": "2023-03-25T09:00:33.619754Z"
    }
   },
   "outputs": [],
   "source": [
    "from plotly import __version__"
   ]
  },
  {
   "cell_type": "code",
   "execution_count": 3,
   "id": "3473f18b",
   "metadata": {
    "ExecuteTime": {
     "end_time": "2023-03-25T09:00:33.647377Z",
     "start_time": "2023-03-25T09:00:33.634764Z"
    }
   },
   "outputs": [
    {
     "name": "stdout",
     "output_type": "stream",
     "text": [
      "5.13.0\n"
     ]
    }
   ],
   "source": [
    "print(__version__)"
   ]
  },
  {
   "cell_type": "code",
   "execution_count": 4,
   "id": "58de5fa5",
   "metadata": {
    "ExecuteTime": {
     "end_time": "2023-03-25T09:00:35.553413Z",
     "start_time": "2023-03-25T09:00:33.652337Z"
    }
   },
   "outputs": [],
   "source": [
    "import cufflinks as cf"
   ]
  },
  {
   "cell_type": "code",
   "execution_count": 5,
   "id": "9fcd993d",
   "metadata": {
    "ExecuteTime": {
     "end_time": "2023-03-25T09:00:35.568925Z",
     "start_time": "2023-03-25T09:00:35.556415Z"
    }
   },
   "outputs": [],
   "source": [
    "from plotly.offline import download_plotlyjs, init_notebook_mode, plot, iplot"
   ]
  },
  {
   "cell_type": "code",
   "execution_count": 6,
   "id": "f08d0749",
   "metadata": {
    "ExecuteTime": {
     "end_time": "2023-03-25T09:00:35.756607Z",
     "start_time": "2023-03-25T09:00:35.572379Z"
    }
   },
   "outputs": [
    {
     "data": {
      "text/html": [
       "        <script type=\"text/javascript\">\n",
       "        window.PlotlyConfig = {MathJaxConfig: 'local'};\n",
       "        if (window.MathJax && window.MathJax.Hub && window.MathJax.Hub.Config) {window.MathJax.Hub.Config({SVG: {font: \"STIX-Web\"}});}\n",
       "        if (typeof require !== 'undefined') {\n",
       "        require.undef(\"plotly\");\n",
       "        requirejs.config({\n",
       "            paths: {\n",
       "                'plotly': ['https://cdn.plot.ly/plotly-2.18.0.min']\n",
       "            }\n",
       "        });\n",
       "        require(['plotly'], function(Plotly) {\n",
       "            window._Plotly = Plotly;\n",
       "        });\n",
       "        }\n",
       "        </script>\n",
       "        "
      ]
     },
     "metadata": {},
     "output_type": "display_data"
    }
   ],
   "source": [
    "init_notebook_mode(connected=True)"
   ]
  },
  {
   "cell_type": "code",
   "execution_count": 7,
   "id": "97e886f9",
   "metadata": {
    "ExecuteTime": {
     "end_time": "2023-03-25T09:00:35.772342Z",
     "start_time": "2023-03-25T09:00:35.760600Z"
    }
   },
   "outputs": [
    {
     "data": {
      "text/html": [
       "        <script type=\"text/javascript\">\n",
       "        window.PlotlyConfig = {MathJaxConfig: 'local'};\n",
       "        if (window.MathJax && window.MathJax.Hub && window.MathJax.Hub.Config) {window.MathJax.Hub.Config({SVG: {font: \"STIX-Web\"}});}\n",
       "        if (typeof require !== 'undefined') {\n",
       "        require.undef(\"plotly\");\n",
       "        requirejs.config({\n",
       "            paths: {\n",
       "                'plotly': ['https://cdn.plot.ly/plotly-2.18.0.min']\n",
       "            }\n",
       "        });\n",
       "        require(['plotly'], function(Plotly) {\n",
       "            window._Plotly = Plotly;\n",
       "        });\n",
       "        }\n",
       "        </script>\n",
       "        "
      ]
     },
     "metadata": {},
     "output_type": "display_data"
    }
   ],
   "source": [
    "cf.go_offline()"
   ]
  },
  {
   "cell_type": "code",
   "execution_count": 8,
   "id": "5ee65f4d",
   "metadata": {
    "ExecuteTime": {
     "end_time": "2023-03-25T09:00:35.788228Z",
     "start_time": "2023-03-25T09:00:35.775354Z"
    }
   },
   "outputs": [],
   "source": [
    "import numpy as np\n",
    "import pandas as pd\n",
    "\n",
    "df = pd.DataFrame(np.random.randn(100, 4), columns=['A', 'B', 'C', 'D'])"
   ]
  },
  {
   "cell_type": "code",
   "execution_count": 9,
   "id": "950b2e86",
   "metadata": {
    "ExecuteTime": {
     "end_time": "2023-03-25T09:00:35.819705Z",
     "start_time": "2023-03-25T09:00:35.791434Z"
    }
   },
   "outputs": [
    {
     "data": {
      "text/html": [
       "<div>\n",
       "<style scoped>\n",
       "    .dataframe tbody tr th:only-of-type {\n",
       "        vertical-align: middle;\n",
       "    }\n",
       "\n",
       "    .dataframe tbody tr th {\n",
       "        vertical-align: top;\n",
       "    }\n",
       "\n",
       "    .dataframe thead th {\n",
       "        text-align: right;\n",
       "    }\n",
       "</style>\n",
       "<table border=\"1\" class=\"dataframe\">\n",
       "  <thead>\n",
       "    <tr style=\"text-align: right;\">\n",
       "      <th></th>\n",
       "      <th>A</th>\n",
       "      <th>B</th>\n",
       "      <th>C</th>\n",
       "      <th>D</th>\n",
       "    </tr>\n",
       "  </thead>\n",
       "  <tbody>\n",
       "    <tr>\n",
       "      <th>0</th>\n",
       "      <td>-0.618586</td>\n",
       "      <td>-0.459252</td>\n",
       "      <td>-0.842160</td>\n",
       "      <td>0.512611</td>\n",
       "    </tr>\n",
       "    <tr>\n",
       "      <th>1</th>\n",
       "      <td>-0.095497</td>\n",
       "      <td>1.614961</td>\n",
       "      <td>-0.970604</td>\n",
       "      <td>1.489227</td>\n",
       "    </tr>\n",
       "    <tr>\n",
       "      <th>2</th>\n",
       "      <td>0.773516</td>\n",
       "      <td>-1.420643</td>\n",
       "      <td>0.683253</td>\n",
       "      <td>-0.064665</td>\n",
       "    </tr>\n",
       "    <tr>\n",
       "      <th>3</th>\n",
       "      <td>-1.954421</td>\n",
       "      <td>1.155145</td>\n",
       "      <td>1.646868</td>\n",
       "      <td>0.807094</td>\n",
       "    </tr>\n",
       "    <tr>\n",
       "      <th>4</th>\n",
       "      <td>0.932106</td>\n",
       "      <td>-0.346131</td>\n",
       "      <td>-0.165681</td>\n",
       "      <td>0.099128</td>\n",
       "    </tr>\n",
       "  </tbody>\n",
       "</table>\n",
       "</div>"
      ],
      "text/plain": [
       "          A         B         C         D\n",
       "0 -0.618586 -0.459252 -0.842160  0.512611\n",
       "1 -0.095497  1.614961 -0.970604  1.489227\n",
       "2  0.773516 -1.420643  0.683253 -0.064665\n",
       "3 -1.954421  1.155145  1.646868  0.807094\n",
       "4  0.932106 -0.346131 -0.165681  0.099128"
      ]
     },
     "execution_count": 9,
     "metadata": {},
     "output_type": "execute_result"
    }
   ],
   "source": [
    "df.head()"
   ]
  },
  {
   "cell_type": "code",
   "execution_count": null,
   "id": "09fc57a0",
   "metadata": {},
   "outputs": [],
   "source": []
  },
  {
   "cell_type": "code",
   "execution_count": 10,
   "id": "565b39df",
   "metadata": {
    "ExecuteTime": {
     "end_time": "2023-03-25T09:00:35.835071Z",
     "start_time": "2023-03-25T09:00:35.823706Z"
    }
   },
   "outputs": [],
   "source": [
    "df2= pd.DataFrame({'Category':['A','B','C'],'Values':[32,43,50]})"
   ]
  },
  {
   "cell_type": "code",
   "execution_count": 11,
   "id": "992075b0",
   "metadata": {
    "ExecuteTime": {
     "end_time": "2023-03-25T09:00:35.850450Z",
     "start_time": "2023-03-25T09:00:35.837019Z"
    }
   },
   "outputs": [
    {
     "data": {
      "text/html": [
       "<div>\n",
       "<style scoped>\n",
       "    .dataframe tbody tr th:only-of-type {\n",
       "        vertical-align: middle;\n",
       "    }\n",
       "\n",
       "    .dataframe tbody tr th {\n",
       "        vertical-align: top;\n",
       "    }\n",
       "\n",
       "    .dataframe thead th {\n",
       "        text-align: right;\n",
       "    }\n",
       "</style>\n",
       "<table border=\"1\" class=\"dataframe\">\n",
       "  <thead>\n",
       "    <tr style=\"text-align: right;\">\n",
       "      <th></th>\n",
       "      <th>Category</th>\n",
       "      <th>Values</th>\n",
       "    </tr>\n",
       "  </thead>\n",
       "  <tbody>\n",
       "    <tr>\n",
       "      <th>0</th>\n",
       "      <td>A</td>\n",
       "      <td>32</td>\n",
       "    </tr>\n",
       "    <tr>\n",
       "      <th>1</th>\n",
       "      <td>B</td>\n",
       "      <td>43</td>\n",
       "    </tr>\n",
       "    <tr>\n",
       "      <th>2</th>\n",
       "      <td>C</td>\n",
       "      <td>50</td>\n",
       "    </tr>\n",
       "  </tbody>\n",
       "</table>\n",
       "</div>"
      ],
      "text/plain": [
       "  Category  Values\n",
       "0        A      32\n",
       "1        B      43\n",
       "2        C      50"
      ]
     },
     "execution_count": 11,
     "metadata": {},
     "output_type": "execute_result"
    }
   ],
   "source": [
    "df2"
   ]
  },
  {
   "cell_type": "code",
   "execution_count": 12,
   "id": "1e86816e",
   "metadata": {
    "ExecuteTime": {
     "end_time": "2023-03-25T09:00:36.623283Z",
     "start_time": "2023-03-25T09:00:35.854395Z"
    }
   },
   "outputs": [],
   "source": [
    "%matplotlib inline"
   ]
  },
  {
   "cell_type": "code",
   "execution_count": 13,
   "id": "e62205e6",
   "metadata": {
    "ExecuteTime": {
     "end_time": "2023-03-25T09:00:36.954623Z",
     "start_time": "2023-03-25T09:00:36.626276Z"
    }
   },
   "outputs": [
    {
     "data": {
      "text/plain": [
       "<AxesSubplot: >"
      ]
     },
     "execution_count": 13,
     "metadata": {},
     "output_type": "execute_result"
    },
    {
     "data": {
      "image/png": "[encoded data removed]",
      "text/plain": [
       "<Figure size 640x480 with 1 Axes>"
      ]
     },
     "metadata": {},
     "output_type": "display_data"
    }
   ],
   "source": [
    "df.plot()"
   ]
  },
  {
   "cell_type": "code",
   "execution_count": 14,
   "id": "c16747eb",
   "metadata": {
    "ExecuteTime": {
     "end_time": "2023-03-25T09:00:38.013268Z",
     "start_time": "2023-03-25T09:00:36.957624Z"
    }
   },
   "outputs": [
    {
     "data": {
      "application/vnd.plotly.v1+json": {
       "config": {
        "linkText": "Export to plot.ly",
        "plotlyServerURL": "https://plot.ly",
        "showLink": true
       },
       "data": [
        {
         "line": {
          "color": "rgba(255, 153, 51, 1.0)",
          "dash": "solid",
          "shape": "linear",
          "width": 1.3
         },
         "mode": "lines",
         "name": "A",
         "text": "",
         "type": "scatter",
         "x": [
          0,
          1,
          2,
          3,
          4,
          5,
          6,
          7,
          8,
          9,
          10,
          11,
          12,
          13,
          14,
          15,
          16,
          17,
          18,
          19,
          20,
          21,
          22,
          23,
          24,
          25,
          26,
          27,
          28,
          29,
          30,
          31,
          32,
          33,
          34,
          35,
          36,
          37,
          38,
          39,
          40,
          41,
          42,
          43,
          44,
          45,
          46,
          47,
          48,
          49,
          50,
          51,
          52,
          53,
          54,
          55,
          56,
          57,
          58,
          59,
          60,
          61,
          62,
          63,
          64,
          65,
          66,
          67,
          68,
          69,
          70,
          71,
          72,
          73,
          74,
          75,
          76,
          77,
          78,
          79,
          80,
          81,
          82,
          83,
          84,
          85,
          86,
          87,
          88,
          89,
          90,
          91,
          92,
          93,
          94,
          95,
          96,
          97,
          98,
          99
         ],
         "y": [
          -0.6185864777596235,
          -0.09549749996174815,
          0.7735155947714842,
          -1.9544208522009834,
          0.9321062993468145,
          0.36391957912219924,
          1.0222517106252103,
          0.21428349229504423,
          0.30155723927183736,
          -1.7737081556426644,
          -0.8813197097782401,
          -1.1833788622984094,
          1.0921030137803465,
          0.47150727733146436,
          -1.6539348028518632,
          -0.28566133680357586,
          1.6103067819704,
          -1.8417392372265438,
          0.039193584163302084,
          -0.6695950365093897,
          -0.7291227819448418,
          0.17384486693441867,
          1.5625067918950442,
          -2.118320960980159,
          -0.6478092575126989,
          -1.3354358976613383,
          -0.11900269907027594,
          1.8690436615397525,
          0.3602185862801853,
          0.954444106941083,
          -1.3426442266410488,
          -0.5861974838373313,
          -1.2776509648542993,
          -0.17202929225908314,
          -0.5899977906595941,
          1.3660735045819095,
          -1.096820738909289,
          0.09159655138384042,
          0.8669297839834728,
          0.11618036291092862,
          -0.1306793735655419,
          -1.409084507446096,
          -1.1458344122244621,
          -0.20695860339653058,
          -1.037860881063523,
          0.01958383190177941,
          1.877231153321232,
          -0.4861599541240264,
          0.2256221614426137,
          1.0191400317688684,
          -1.7994981450956142,
          -0.449892724101533,
          -1.7060329759096715,
          -0.7097216977459914,
          -0.8825995557308481,
          0.33962848154734276,
          0.20113285388190974,
          0.46035911247198713,
          0.7091683111522437,
          -1.2284387339475709,
          0.11445375532849965,
          -0.11410251539813779,
          -0.433581463941365,
          -0.1506692378419643,
          0.33482007756007925,
          -1.5145111918515755,
          0.570038479119206,
          -1.2112103535764067,
          -0.4029111539814335,
          -0.19348347413316772,
          -0.18662039060185484,
          -0.4020159349141075,
          -1.104221400696765,
          -0.7881037638705021,
          0.9624880966553944,
          0.8370910133274343,
          0.08064775753280434,
          0.4529394450193887,
          0.8144227765728742,
          -0.4139266273079406,
          -0.16045457024510903,
          0.11560583805022592,
          0.5018750969144258,
          -1.05549272187284,
          0.6646897400226129,
          0.7252518633264401,
          -0.8634744428274881,
          0.14526679817629318,
          0.5642348261932901,
          -0.5739339256594503,
          0.15846871036688384,
          0.5303216539889294,
          -0.4638919188417855,
          -2.653303499100419,
          0.30810942245492506,
          1.337533737637027,
          1.0885583937029353,
          -1.6447907309114553,
          0.6693410844821837,
          -0.023858538897312875
         ]
        },
        {
         "line": {
          "color": "rgba(55, 128, 191, 1.0)",
          "dash": "solid",
          "shape": "linear",
          "width": 1.3
         },
         "mode": "lines",
         "name": "B",
         "text": "",
         "type": "scatter",
         "x": [
          0,
          1,
          2,
          3,
          4,
          5,
          6,
          7,
          8,
          9,
          10,
          11,
          12,
          13,
          14,
          15,
          16,
          17,
          18,
          19,
          20,
          21,
          22,
          23,
          24,
          25,
          26,
          27,
          28,
          29,
          30,
          31,
          32,
          33,
          34,
          35,
          36,
          37,
          38,
          39,
          40,
          41,
          42,
          43,
          44,
          45,
          46,
          47,
          48,
          49,
          50,
          51,
          52,
          53,
          54,
          55,
          56,
          57,
          58,
          59,
          60,
          61,
          62,
          63,
          64,
          65,
          66,
          67,
          68,
          69,
          70,
          71,
          72,
          73,
          74,
          75,
          76,
          77,
          78,
          79,
          80,
          81,
          82,
          83,
          84,
          85,
          86,
          87,
          88,
          89,
          90,
          91,
          92,
          93,
          94,
          95,
          96,
          97,
          98,
          99
         ],
         "y": [
          -0.4592523817006714,
          1.614960731672855,
          -1.4206426925982674,
          1.1551454541846038,
          -0.34613058552962517,
          1.6624230716641488,
          -0.11554649598016219,
          -0.01851161969972325,
          0.09984663041486533,
          -2.043102167532454,
          -1.478451948264321,
          -0.2788843499486517,
          -0.1497492795430963,
          1.9533168820677445,
          -0.10989230038135865,
          0.31344790900193625,
          0.08678752237308349,
          -0.3990447395439932,
          -1.4424816562369789,
          -0.028981252459112657,
          -0.4160821900068768,
          -0.9024826500293118,
          -0.5208567006043135,
          0.37071150697915956,
          0.29340762940465925,
          -0.15303788800844492,
          -1.7013013838151183,
          -2.1032089257065056,
          0.01803007769576685,
          0.774085466469011,
          -0.0130218043338703,
          0.7479391896322369,
          0.7318773540406959,
          -1.800944110150754,
          1.4099248117758916,
          -1.5325103771876123,
          0.5782922057046384,
          0.3053398932705239,
          -0.06430529590814345,
          1.0236623980295185,
          0.6914789499794927,
          0.7371810656811424,
          2.606242974469369,
          -1.5007673763044456,
          -1.0420156920821377,
          0.046743919591023995,
          1.3154764187085386,
          -0.18591517662231646,
          0.7578452017067829,
          -1.1201103682918108,
          -1.4809656473238406,
          -1.932290152656959,
          0.5687456244608741,
          -2.183122855649209,
          -0.18703771863844015,
          0.38248194212075454,
          -1.4501529065420269,
          1.0649615189495414,
          -0.44540408458769665,
          -0.5991301447361154,
          0.608703902269564,
          0.4058260851185324,
          0.457400126610244,
          0.5464347317371752,
          -0.2577028738771836,
          -0.6222900815300759,
          0.04461153224918688,
          -2.447018762098259,
          -0.23888100490859634,
          0.08761509395317087,
          1.623124602304495,
          1.1845787037770144,
          0.5492856988758372,
          1.130595322987083,
          -1.8840243529998721,
          0.18955829582691278,
          1.6839930239683714,
          0.5334500493016082,
          1.8492431165364005,
          0.4549707177333402,
          0.6697077146222054,
          0.4085483537015883,
          -0.5082199635442869,
          0.3448252142610793,
          -0.9833076650745944,
          0.2228561564482779,
          1.314600834470803,
          0.5969614245184819,
          0.5615669274826204,
          -0.03580808061129372,
          0.2825263823615819,
          -2.104980414657762,
          -1.8480485079071858,
          -1.2798589824928985,
          -0.4685176982797968,
          1.3615871560013324,
          0.7947295589257131,
          -1.018205327768071,
          0.6838015779839137,
          -0.445118498396265
         ]
        },
        {
         "line": {
          "color": "rgba(50, 171, 96, 1.0)",
          "dash": "solid",
          "shape": "linear",
          "width": 1.3
         },
         "mode": "lines",
         "name": "C",
         "text": "",
         "type": "scatter",
         "x": [
          0,
          1,
          2,
          3,
          4,
          5,
          6,
          7,
          8,
          9,
          10,
          11,
          12,
          13,
          14,
          15,
          16,
          17,
          18,
          19,
          20,
          21,
          22,
          23,
          24,
          25,
          26,
          27,
          28,
          29,
          30,
          31,
          32,
          33,
          34,
          35,
          36,
          37,
          38,
          39,
          40,
          41,
          42,
          43,
          44,
          45,
          46,
          47,
          48,
          49,
          50,
          51,
          52,
          53,
          54,
          55,
          56,
          57,
          58,
          59,
          60,
          61,
          62,
          63,
          64,
          65,
          66,
          67,
          68,
          69,
          70,
          71,
          72,
          73,
          74,
          75,
          76,
          77,
          78,
          79,
          80,
          81,
          82,
          83,
          84,
          85,
          86,
          87,
          88,
          89,
          90,
          91,
          92,
          93,
          94,
          95,
          96,
          97,
          98,
          99
         ],
         "y": [
          -0.8421603506766187,
          -0.9706041899799989,
          0.6832531168715341,
          1.6468678884740529,
          -0.16568135375708265,
          0.6293779960362839,
          1.2922687753064812,
          -0.09669053752515908,
          0.758570054065179,
          -0.8839507721828632,
          1.2280342442807675,
          -0.4628807989882697,
          -0.7161165844696878,
          1.4464843188409209,
          1.4629995097962403,
          -0.6286919968925113,
          0.5498266948912985,
          0.46202528676540383,
          -1.5968510028160237,
          1.6849093652971419,
          1.3184842391473701,
          1.7523413485734658,
          1.1145417017973525,
          0.8238061796830247,
          -0.11673079421807615,
          -0.9431413499758955,
          -0.6661012696103875,
          1.59665769705926,
          -1.4418095782645222,
          -0.028825792028261146,
          0.8846910659012178,
          1.3445888166417854,
          0.831313865520293,
          0.8984402570930786,
          0.9547597163223918,
          0.7243675719745242,
          -0.8504776604197904,
          0.7231445379854539,
          0.2122902086328843,
          -0.6319829696360213,
          0.8116987479536433,
          0.5663356880650702,
          -1.4081827739065174,
          1.3257080152455498,
          -0.35341041248399896,
          0.5986991170484928,
          -1.601105994725186,
          0.4510025063777082,
          -1.843962988505521,
          -0.6175567323014791,
          -0.46874922145868564,
          0.8017055728270843,
          0.9295789737059647,
          0.5769158548612651,
          0.8241325254974661,
          -1.3989811469531985,
          -0.1737328629106375,
          -1.1120987796057764,
          0.08397943697541344,
          0.41450385508002524,
          0.37813446451759153,
          0.5637465086282746,
          0.23448459891588502,
          -0.646152213425436,
          0.6888265843952968,
          1.1773248338495332,
          -2.366822749360234,
          2.5593268473776716,
          -0.8337284202472874,
          -0.6349992892264821,
          -1.1108274470015802,
          -0.5504924823973055,
          -0.5166790104444628,
          -0.35967398108001764,
          0.03304142061605584,
          -0.9953569079540042,
          -0.34225235175776236,
          0.05415196437471269,
          1.4312114089526344,
          -0.06819439128707315,
          0.9337859534275348,
          -0.9979806075142508,
          2.5153526996216797,
          -0.9202468939840021,
          -0.5645653682586875,
          -0.41454134423968747,
          -0.37516634580729047,
          -1.0212328426549688,
          -1.462300513745385,
          -1.767508363123518,
          -0.40178821637522183,
          -0.17122260507528686,
          0.4352737343905665,
          -0.01868513096343089,
          1.0548725514811137,
          -0.3919034473977661,
          0.08727005314804788,
          1.5252750004784736,
          1.2406486221739632,
          -1.5894052324070254
         ]
        },
        {
         "line": {
          "color": "rgba(128, 0, 128, 1.0)",
          "dash": "solid",
          "shape": "linear",
          "width": 1.3
         },
         "mode": "lines",
         "name": "D",
         "text": "",
         "type": "scatter",
         "x": [
          0,
          1,
          2,
          3,
          4,
          5,
          6,
          7,
          8,
          9,
          10,
          11,
          12,
          13,
          14,
          15,
          16,
          17,
          18,
          19,
          20,
          21,
          22,
          23,
          24,
          25,
          26,
          27,
          28,
          29,
          30,
          31,
          32,
          33,
          34,
          35,
          36,
          37,
          38,
          39,
          40,
          41,
          42,
          43,
          44,
          45,
          46,
          47,
          48,
          49,
          50,
          51,
          52,
          53,
          54,
          55,
          56,
          57,
          58,
          59,
          60,
          61,
          62,
          63,
          64,
          65,
          66,
          67,
          68,
          69,
          70,
          71,
          72,
          73,
          74,
          75,
          76,
          77,
          78,
          79,
          80,
          81,
          82,
          83,
          84,
          85,
          86,
          87,
          88,
          89,
          90,
          91,
          92,
          93,
          94,
          95,
          96,
          97,
          98,
          99
         ],
         "y": [
          0.5126109428890469,
          1.4892272058537255,
          -0.06466481511960792,
          0.807094467503425,
          0.09912812177445302,
          0.0037604224907197346,
          1.7881832836634417,
          1.4373731417175712,
          -0.49032218019714713,
          0.7844086874638536,
          -0.9135354119307758,
          0.5083954666397061,
          -3.1349339074281404,
          -2.21207508186638,
          0.4447330266031348,
          0.18787135141075115,
          0.14751055603017138,
          -1.0925191742194862,
          -1.420182643360601,
          -2.6950447421847166,
          -1.1120408459566193,
          -1.5119946162620084,
          0.21487814882806078,
          -0.5778547810602227,
          -0.6157290651613634,
          -0.5141466764562026,
          -1.5873889037285451,
          -0.3247674515862568,
          1.8465745931558841,
          0.3717136751793924,
          -0.0944745193772145,
          -0.7256893345692426,
          0.6329911919873296,
          0.8432331721074044,
          0.21506185326754326,
          -0.3946349840372016,
          1.0164983176266524,
          0.2707980457033641,
          0.43401711765144985,
          -0.7514870419734236,
          1.5967967931952454,
          -0.5192006010979153,
          -0.16636177789934467,
          1.063769112378764,
          0.04824552637562311,
          -0.30927218647456906,
          -0.8455324146613583,
          -1.292727257811507,
          0.8011477929185559,
          -0.35765870279142736,
          -0.1801085848973175,
          -0.5179106531571229,
          0.20678839468290003,
          0.21217097423294343,
          -0.5197920666799181,
          1.5452085633784096,
          0.8164027682792973,
          1.7211677024187413,
          -0.056769339959388786,
          -1.441754323154373,
          -2.1037029742663806,
          0.784787163635707,
          -0.9254897742956887,
          -0.30742465476637876,
          -0.795795144089506,
          -0.20367749333363674,
          -0.44097727181532287,
          1.1106618413964617,
          -1.4799913193064362,
          0.820803062794328,
          -0.885579677922769,
          0.7746145957497992,
          -0.584185617026759,
          0.44814214424737153,
          0.7327582698609134,
          -0.42593933722798827,
          0.5025705667376403,
          -1.94052132088566,
          1.151791010936278,
          0.18333509384631916,
          -0.8832256403000278,
          1.4734051005315147,
          2.1904546051168485,
          0.9807512609165957,
          -1.121059250174489,
          0.22222861053794152,
          -0.5101600824000081,
          0.0960439749329373,
          -0.9434158601417526,
          0.2280746660646097,
          -0.6199711206314074,
          -0.19296185060244755,
          -0.7950160586572694,
          -0.650755287984872,
          0.10002357639733761,
          -0.399410590339489,
          0.4257795860026511,
          -0.9861302587332238,
          1.2273480606955298,
          -0.45426223575550595
         ]
        }
       ],
       "layout": {
        "legend": {
         "bgcolor": "#F5F6F9",
         "font": {
          "color": "#4D5663"
         }
        },
        "paper_bgcolor": "#F5F6F9",
        "plot_bgcolor": "#F5F6F9",
        "template": {
         "data": {
          "bar": [
           {
            "error_x": {
             "color": "#2a3f5f"
            },
            "error_y": {
             "color": "#2a3f5f"
            },
            "marker": {
             "line": {
              "color": "#E5ECF6",
              "width": 0.5
             },
             "pattern": {
              "fillmode": "overlay",
              "size": 10,
              "solidity": 0.2
             }
            },
            "type": "bar"
           }
          ],
          "barpolar": [
           {
            "marker": {
             "line": {
              "color": "#E5ECF6",
              "width": 0.5
             },
             "pattern": {
              "fillmode": "overlay",
              "size": 10,
              "solidity": 0.2
             }
            },
            "type": "barpolar"
           }
          ],
          "carpet": [
           {
            "aaxis": {
             "endlinecolor": "#2a3f5f",
             "gridcolor": "white",
             "linecolor": "white",
             "minorgridcolor": "white",
             "startlinecolor": "#2a3f5f"
            },
            "baxis": {
             "endlinecolor": "#2a3f5f",
             "gridcolor": "white",
             "linecolor": "white",
             "minorgridcolor": "white",
             "startlinecolor": "#2a3f5f"
            },
            "type": "carpet"
           }
          ],
          "choropleth": [
           {
            "colorbar": {
             "outlinewidth": 0,
             "ticks": ""
            },
            "type": "choropleth"
           }
          ],
          "contour": [
           {
            "colorbar": {
             "outlinewidth": 0,
             "ticks": ""
            },
            "colorscale": [
             [
              0,
              "#0d0887"
             ],
             [
              0.1111111111111111,
              "#46039f"
             ],
             [
              0.2222222222222222,
              "#7201a8"
             ],
             [
              0.3333333333333333,
              "#9c179e"
             ],
             [
              0.4444444444444444,
              "#bd3786"
             ],
             [
              0.5555555555555556,
              "#d8576b"
             ],
             [
              0.6666666666666666,
              "#ed7953"
             ],
             [
              0.7777777777777778,
              "#fb9f3a"
             ],
             [
              0.8888888888888888,
              "#fdca26"
             ],
             [
              1,
              "#f0f921"
             ]
            ],
            "type": "contour"
           }
          ],
          "contourcarpet": [
           {
            "colorbar": {
             "outlinewidth": 0,
             "ticks": ""
            },
            "type": "contourcarpet"
           }
          ],
          "heatmap": [
           {
            "colorbar": {
             "outlinewidth": 0,
             "ticks": ""
            },
            "colorscale": [
             [
              0,
              "#0d0887"
             ],
             [
              0.1111111111111111,
              "#46039f"
             ],
             [
              0.2222222222222222,
              "#7201a8"
             ],
             [
              0.3333333333333333,
              "#9c179e"
             ],
             [
              0.4444444444444444,
              "#bd3786"
             ],
             [
              0.5555555555555556,
              "#d8576b"
             ],
             [
              0.6666666666666666,
              "#ed7953"
             ],
             [
              0.7777777777777778,
              "#fb9f3a"
             ],
             [
              0.8888888888888888,
              "#fdca26"
             ],
             [
              1,
              "#f0f921"
             ]
            ],
            "type": "heatmap"
           }
          ],
          "heatmapgl": [
           {
            "colorbar": {
             "outlinewidth": 0,
             "ticks": ""
            },
            "colorscale": [
             [
              0,
              "#0d0887"
             ],
             [
              0.1111111111111111,
              "#46039f"
             ],
             [
              0.2222222222222222,
              "#7201a8"
             ],
             [
              0.3333333333333333,
              "#9c179e"
             ],
             [
              0.4444444444444444,
              "#bd3786"
             ],
             [
              0.5555555555555556,
              "#d8576b"
             ],
             [
              0.6666666666666666,
              "#ed7953"
             ],
             [
              0.7777777777777778,
              "#fb9f3a"
             ],
             [
              0.8888888888888888,
              "#fdca26"
             ],
             [
              1,
              "#f0f921"
             ]
            ],
            "type": "heatmapgl"
           }
          ],
          "histogram": [
           {
            "marker": {
             "pattern": {
              "fillmode": "overlay",
              "size": 10,
              "solidity": 0.2
             }
            },
            "type": "histogram"
           }
          ],
          "histogram2d": [
           {
            "colorbar": {
             "outlinewidth": 0,
             "ticks": ""
            },
            "colorscale": [
             [
              0,
              "#0d0887"
             ],
             [
              0.1111111111111111,
              "#46039f"
             ],
             [
              0.2222222222222222,
              "#7201a8"
             ],
             [
              0.3333333333333333,
              "#9c179e"
             ],
             [
              0.4444444444444444,
              "#bd3786"
             ],
             [
              0.5555555555555556,
              "#d8576b"
             ],
             [
              0.6666666666666666,
              "#ed7953"
             ],
             [
              0.7777777777777778,
              "#fb9f3a"
             ],
             [
              0.8888888888888888,
              "#fdca26"
             ],
             [
              1,
              "#f0f921"
             ]
            ],
            "type": "histogram2d"
           }
          ],
          "histogram2dcontour": [
           {
            "colorbar": {
             "outlinewidth": 0,
             "ticks": ""
            },
            "colorscale": [
             [
              0,
              "#0d0887"
             ],
             [
              0.1111111111111111,
              "#46039f"
             ],
             [
              0.2222222222222222,
              "#7201a8"
             ],
             [
              0.3333333333333333,
              "#9c179e"
             ],
             [
              0.4444444444444444,
              "#bd3786"
             ],
             [
              0.5555555555555556,
              "#d8576b"
             ],
             [
              0.6666666666666666,
              "#ed7953"
             ],
             [
              0.7777777777777778,
              "#fb9f3a"
             ],
             [
              0.8888888888888888,
              "#fdca26"
             ],
             [
              1,
              "#f0f921"
             ]
            ],
            "type": "histogram2dcontour"
           }
          ],
          "mesh3d": [
           {
            "colorbar": {
             "outlinewidth": 0,
             "ticks": ""
            },
            "type": "mesh3d"
           }
          ],
          "parcoords": [
           {
            "line": {
             "colorbar": {
              "outlinewidth": 0,
              "ticks": ""
             }
            },
            "type": "parcoords"
           }
          ],
          "pie": [
           {
            "automargin": true,
            "type": "pie"
           }
          ],
          "scatter": [
           {
            "fillpattern": {
             "fillmode": "overlay",
             "size": 10,
             "solidity": 0.2
            },
            "type": "scatter"
           }
          ],
          "scatter3d": [
           {
            "line": {
             "colorbar": {
              "outlinewidth": 0,
              "ticks": ""
             }
            },
            "marker": {
             "colorbar": {
              "outlinewidth": 0,
              "ticks": ""
             }
            },
            "type": "scatter3d"
           }
          ],
          "scattercarpet": [
           {
            "marker": {
             "colorbar": {
              "outlinewidth": 0,
              "ticks": ""
             }
            },
            "type": "scattercarpet"
           }
          ],
          "scattergeo": [
           {
            "marker": {
             "colorbar": {
              "outlinewidth": 0,
              "ticks": ""
             }
            },
            "type": "scattergeo"
           }
          ],
          "scattergl": [
           {
            "marker": {
             "colorbar": {
              "outlinewidth": 0,
              "ticks": ""
             }
            },
            "type": "scattergl"
           }
          ],
          "scattermapbox": [
           {
            "marker": {
             "colorbar": {
              "outlinewidth": 0,
              "ticks": ""
             }
            },
            "type": "scattermapbox"
           }
          ],
          "scatterpolar": [
           {
            "marker": {
             "colorbar": {
              "outlinewidth": 0,
              "ticks": ""
             }
            },
            "type": "scatterpolar"
           }
          ],
          "scatterpolargl": [
           {
            "marker": {
             "colorbar": {
              "outlinewidth": 0,
              "ticks": ""
             }
            },
            "type": "scatterpolargl"
           }
          ],
          "scatterternary": [
           {
            "marker": {
             "colorbar": {
              "outlinewidth": 0,
              "ticks": ""
             }
            },
            "type": "scatterternary"
           }
          ],
          "surface": [
           {
            "colorbar": {
             "outlinewidth": 0,
             "ticks": ""
            },
            "colorscale": [
             [
              0,
              "#0d0887"
             ],
             [
              0.1111111111111111,
              "#46039f"
             ],
             [
              0.2222222222222222,
              "#7201a8"
             ],
             [
              0.3333333333333333,
              "#9c179e"
             ],
             [
              0.4444444444444444,
              "#bd3786"
             ],
             [
              0.5555555555555556,
              "#d8576b"
             ],
             [
              0.6666666666666666,
              "#ed7953"
             ],
             [
              0.7777777777777778,
              "#fb9f3a"
             ],
             [
              0.8888888888888888,
              "#fdca26"
             ],
             [
              1,
              "#f0f921"
             ]
            ],
            "type": "surface"
           }
          ],
          "table": [
           {
            "cells": {
             "fill": {
              "color": "#EBF0F8"
             },
             "line": {
              "color": "white"
             }
            },
            "header": {
             "fill": {
              "color": "#C8D4E3"
             },
             "line": {
              "color": "white"
             }
            },
            "type": "table"
           }
          ]
         },
         "layout": {
          "annotationdefaults": {
           "arrowcolor": "#2a3f5f",
           "arrowhead": 0,
           "arrowwidth": 1
          },
          "autotypenumbers": "strict",
          "coloraxis": {
           "colorbar": {
            "outlinewidth": 0,
            "ticks": ""
           }
          },
          "colorscale": {
           "diverging": [
            [
             0,
             "#8e0152"
            ],
            [
             0.1,
             "#c51b7d"
            ],
            [
             0.2,
             "#de77ae"
            ],
            [
             0.3,
             "#f1b6da"
            ],
            [
             0.4,
             "#fde0ef"
            ],
            [
             0.5,
             "#f7f7f7"
            ],
            [
             0.6,
             "#e6f5d0"
            ],
            [
             0.7,
             "#b8e186"
            ],
            [
             0.8,
             "#7fbc41"
            ],
            [
             0.9,
             "#4d9221"
            ],
            [
             1,
             "#276419"
            ]
           ],
           "sequential": [
            [
             0,
             "#0d0887"
            ],
            [
             0.1111111111111111,
             "#46039f"
            ],
            [
             0.2222222222222222,
             "#7201a8"
            ],
            [
             0.3333333333333333,
             "#9c179e"
            ],
            [
             0.4444444444444444,
             "#bd3786"
            ],
            [
             0.5555555555555556,
             "#d8576b"
            ],
            [
             0.6666666666666666,
             "#ed7953"
            ],
            [
             0.7777777777777778,
             "#fb9f3a"
            ],
            [
             0.8888888888888888,
             "#fdca26"
            ],
            [
             1,
             "#f0f921"
            ]
           ],
           "sequentialminus": [
            [
             0,
             "#0d0887"
            ],
            [
             0.1111111111111111,
             "#46039f"
            ],
            [
             0.2222222222222222,
             "#7201a8"
            ],
            [
             0.3333333333333333,
             "#9c179e"
            ],
            [
             0.4444444444444444,
             "#bd3786"
            ],
            [
             0.5555555555555556,
             "#d8576b"
            ],
            [
             0.6666666666666666,
             "#ed7953"
            ],
            [
             0.7777777777777778,
             "#fb9f3a"
            ],
            [
             0.8888888888888888,
             "#fdca26"
            ],
            [
             1,
             "#f0f921"
            ]
           ]
          },
          "colorway": [
           "#636efa",
           "#EF553B",
           "#00cc96",
           "#ab63fa",
           "#FFA15A",
           "#19d3f3",
           "#FF6692",
           "#B6E880",
           "#FF97FF",
           "#FECB52"
          ],
          "font": {
           "color": "#2a3f5f"
          },
          "geo": {
           "bgcolor": "white",
           "lakecolor": "white",
           "landcolor": "#E5ECF6",
           "showlakes": true,
           "showland": true,
           "subunitcolor": "white"
          },
          "hoverlabel": {
           "align": "left"
          },
          "hovermode": "closest",
          "mapbox": {
           "style": "light"
          },
          "paper_bgcolor": "white",
          "plot_bgcolor": "#E5ECF6",
          "polar": {
           "angularaxis": {
            "gridcolor": "white",
            "linecolor": "white",
            "ticks": ""
           },
           "bgcolor": "#E5ECF6",
           "radialaxis": {
            "gridcolor": "white",
            "linecolor": "white",
            "ticks": ""
           }
          },
          "scene": {
           "xaxis": {
            "backgroundcolor": "#E5ECF6",
            "gridcolor": "white",
            "gridwidth": 2,
            "linecolor": "white",
            "showbackground": true,
            "ticks": "",
            "zerolinecolor": "white"
           },
           "yaxis": {
            "backgroundcolor": "#E5ECF6",
            "gridcolor": "white",
            "gridwidth": 2,
            "linecolor": "white",
            "showbackground": true,
            "ticks": "",
            "zerolinecolor": "white"
           },
           "zaxis": {
            "backgroundcolor": "#E5ECF6",
            "gridcolor": "white",
            "gridwidth": 2,
            "linecolor": "white",
            "showbackground": true,
            "ticks": "",
            "zerolinecolor": "white"
           }
          },
          "shapedefaults": {
           "line": {
            "color": "#2a3f5f"
           }
          },
          "ternary": {
           "aaxis": {
            "gridcolor": "white",
            "linecolor": "white",
            "ticks": ""
           },
           "baxis": {
            "gridcolor": "white",
            "linecolor": "white",
            "ticks": ""
           },
           "bgcolor": "#E5ECF6",
           "caxis": {
            "gridcolor": "white",
            "linecolor": "white",
            "ticks": ""
           }
          },
          "title": {
           "x": 0.05
          },
          "xaxis": {
           "automargin": true,
           "gridcolor": "white",
           "linecolor": "white",
           "ticks": "",
           "title": {
            "standoff": 15
           },
           "zerolinecolor": "white",
           "zerolinewidth": 2
          },
          "yaxis": {
           "automargin": true,
           "gridcolor": "white",
           "linecolor": "white",
           "ticks": "",
           "title": {
            "standoff": 15
           },
           "zerolinecolor": "white",
           "zerolinewidth": 2
          }
         }
        },
        "title": {
         "font": {
          "color": "#4D5663"
         }
        },
        "xaxis": {
         "gridcolor": "#E1E5ED",
         "showgrid": true,
         "tickfont": {
          "color": "#4D5663"
         },
         "title": {
          "font": {
           "color": "#4D5663"
          },
          "text": ""
         },
         "zerolinecolor": "#E1E5ED"
        },
        "yaxis": {
         "gridcolor": "#E1E5ED",
         "showgrid": true,
         "tickfont": {
          "color": "#4D5663"
         },
         "title": {
          "font": {
           "color": "#4D5663"
          },
          "text": ""
         },
         "zerolinecolor": "#E1E5ED"
        }
       }
      },
      "text/html": [
       "<div>                            <div id=\"7d97cabf-cc2c-432a-ba83-ebd54da6da49\" class=\"plotly-graph-div\" style=\"height:525px; width:100%;\"></div>            <script type=\"text/javascript\">                require([\"plotly\"], function(Plotly) {                    window.PLOTLYENV=window.PLOTLYENV || {};\n",
       "                    window.PLOTLYENV.BASE_URL='https://plot.ly';                                    if (document.getElementById(\"7d97cabf-cc2c-432a-ba83-ebd54da6da49\")) {                    Plotly.newPlot(                        \"7d97cabf-cc2c-432a-ba83-ebd54da6da49\",                        [{\"line\":{\"color\":\"rgba(255, 153, 51, 1.0)\",\"dash\":\"solid\",\"shape\":\"linear\",\"width\":1.3},\"mode\":\"lines\",\"name\":\"A\",\"text\":\"\",\"x\":[0,1,2,3,4,5,6,7,8,9,10,11,12,13,14,15,16,17,18,19,20,21,22,23,24,25,26,27,28,29,30,31,32,33,34,35,36,37,38,39,40,41,42,43,44,45,46,47,48,49,50,51,52,53,54,55,56,57,58,59,60,61,62,63,64,65,66,67,68,69,70,71,72,73,74,75,76,77,78,79,80,81,82,83,84,85,86,87,88,89,90,91,92,93,94,95,96,97,98,99],\"y\":[-0.6185864777596235,-0.09549749996174815,0.7735155947714842,-1.9544208522009834,0.9321062993468145,0.36391957912219924,1.0222517106252103,0.21428349229504423,0.30155723927183736,-1.7737081556426644,-0.8813197097782401,-1.1833788622984094,1.0921030137803465,0.47150727733146436,-1.6539348028518632,-0.28566133680357586,1.6103067819704,-1.8417392372265438,0.039193584163302084,-0.6695950365093897,-0.7291227819448418,0.17384486693441867,1.5625067918950442,-2.118320960980159,-0.6478092575126989,-1.3354358976613383,-0.11900269907027594,1.8690436615397525,0.3602185862801853,0.954444106941083,-1.3426442266410488,-0.5861974838373313,-1.2776509648542993,-0.17202929225908314,-0.5899977906595941,1.3660735045819095,-1.096820738909289,0.09159655138384042,0.8669297839834728,0.11618036291092862,-0.1306793735655419,-1.409084507446096,-1.1458344122244621,-0.20695860339653058,-1.037860881063523,0.01958383190177941,1.877231153321232,-0.4861599541240264,0.2256221614426137,1.0191400317688684,-1.7994981450956142,-0.449892724101533,-1.7060329759096715,-0.7097216977459914,-0.8825995557308481,0.33962848154734276,0.20113285388190974,0.46035911247198713,0.7091683111522437,-1.2284387339475709,0.11445375532849965,-0.11410251539813779,-0.433581463941365,-0.1506692378419643,0.33482007756007925,-1.5145111918515755,0.570038479119206,-1.2112103535764067,-0.4029111539814335,-0.19348347413316772,-0.18662039060185484,-0.4020159349141075,-1.104221400696765,-0.7881037638705021,0.9624880966553944,0.8370910133274343,0.08064775753280434,0.4529394450193887,0.8144227765728742,-0.4139266273079406,-0.16045457024510903,0.11560583805022592,0.5018750969144258,-1.05549272187284,0.6646897400226129,0.7252518633264401,-0.8634744428274881,0.14526679817629318,0.5642348261932901,-0.5739339256594503,0.15846871036688384,0.5303216539889294,-0.4638919188417855,-2.653303499100419,0.30810942245492506,1.337533737637027,1.0885583937029353,-1.6447907309114553,0.6693410844821837,-0.023858538897312875],\"type\":\"scatter\"},{\"line\":{\"color\":\"rgba(55, 128, 191, 1.0)\",\"dash\":\"solid\",\"shape\":\"linear\",\"width\":1.3},\"mode\":\"lines\",\"name\":\"B\",\"text\":\"\",\"x\":[0,1,2,3,4,5,6,7,8,9,10,11,12,13,14,15,16,17,18,19,20,21,22,23,24,25,26,27,28,29,30,31,32,33,34,35,36,37,38,39,40,41,42,43,44,45,46,47,48,49,50,51,52,53,54,55,56,57,58,59,60,61,62,63,64,65,66,67,68,69,70,71,72,73,74,75,76,77,78,79,80,81,82,83,84,85,86,87,88,89,90,91,92,93,94,95,96,97,98,99],\"y\":[-0.4592523817006714,1.614960731672855,-1.4206426925982674,1.1551454541846038,-0.34613058552962517,1.6624230716641488,-0.11554649598016219,-0.01851161969972325,0.09984663041486533,-2.043102167532454,-1.478451948264321,-0.2788843499486517,-0.1497492795430963,1.9533168820677445,-0.10989230038135865,0.31344790900193625,0.08678752237308349,-0.3990447395439932,-1.4424816562369789,-0.028981252459112657,-0.4160821900068768,-0.9024826500293118,-0.5208567006043135,0.37071150697915956,0.29340762940465925,-0.15303788800844492,-1.7013013838151183,-2.1032089257065056,0.01803007769576685,0.774085466469011,-0.0130218043338703,0.7479391896322369,0.7318773540406959,-1.800944110150754,1.4099248117758916,-1.5325103771876123,0.5782922057046384,0.3053398932705239,-0.06430529590814345,1.0236623980295185,0.6914789499794927,0.7371810656811424,2.606242974469369,-1.5007673763044456,-1.0420156920821377,0.046743919591023995,1.3154764187085386,-0.18591517662231646,0.7578452017067829,-1.1201103682918108,-1.4809656473238406,-1.932290152656959,0.5687456244608741,-2.183122855649209,-0.18703771863844015,0.38248194212075454,-1.4501529065420269,1.0649615189495414,-0.44540408458769665,-0.5991301447361154,0.608703902269564,0.4058260851185324,0.457400126610244,0.5464347317371752,-0.2577028738771836,-0.6222900815300759,0.04461153224918688,-2.447018762098259,-0.23888100490859634,0.08761509395317087,1.623124602304495,1.1845787037770144,0.5492856988758372,1.130595322987083,-1.8840243529998721,0.18955829582691278,1.6839930239683714,0.5334500493016082,1.8492431165364005,0.4549707177333402,0.6697077146222054,0.4085483537015883,-0.5082199635442869,0.3448252142610793,-0.9833076650745944,0.2228561564482779,1.314600834470803,0.5969614245184819,0.5615669274826204,-0.03580808061129372,0.2825263823615819,-2.104980414657762,-1.8480485079071858,-1.2798589824928985,-0.4685176982797968,1.3615871560013324,0.7947295589257131,-1.018205327768071,0.6838015779839137,-0.445118498396265],\"type\":\"scatter\"},{\"line\":{\"color\":\"rgba(50, 171, 96, 1.0)\",\"dash\":\"solid\",\"shape\":\"linear\",\"width\":1.3},\"mode\":\"lines\",\"name\":\"C\",\"text\":\"\",\"x\":[0,1,2,3,4,5,6,7,8,9,10,11,12,13,14,15,16,17,18,19,20,21,22,23,24,25,26,27,28,29,30,31,32,33,34,35,36,37,38,39,40,41,42,43,44,45,46,47,48,49,50,51,52,53,54,55,56,57,58,59,60,61,62,63,64,65,66,67,68,69,70,71,72,73,74,75,76,77,78,79,80,81,82,83,84,85,86,87,88,89,90,91,92,93,94,95,96,97,98,99],\"y\":[-0.8421603506766187,-0.9706041899799989,0.6832531168715341,1.6468678884740529,-0.16568135375708265,0.6293779960362839,1.2922687753064812,-0.09669053752515908,0.758570054065179,-0.8839507721828632,1.2280342442807675,-0.4628807989882697,-0.7161165844696878,1.4464843188409209,1.4629995097962403,-0.6286919968925113,0.5498266948912985,0.46202528676540383,-1.5968510028160237,1.6849093652971419,1.3184842391473701,1.7523413485734658,1.1145417017973525,0.8238061796830247,-0.11673079421807615,-0.9431413499758955,-0.6661012696103875,1.59665769705926,-1.4418095782645222,-0.028825792028261146,0.8846910659012178,1.3445888166417854,0.831313865520293,0.8984402570930786,0.9547597163223918,0.7243675719745242,-0.8504776604197904,0.7231445379854539,0.2122902086328843,-0.6319829696360213,0.8116987479536433,0.5663356880650702,-1.4081827739065174,1.3257080152455498,-0.35341041248399896,0.5986991170484928,-1.601105994725186,0.4510025063777082,-1.843962988505521,-0.6175567323014791,-0.46874922145868564,0.8017055728270843,0.9295789737059647,0.5769158548612651,0.8241325254974661,-1.3989811469531985,-0.1737328629106375,-1.1120987796057764,0.08397943697541344,0.41450385508002524,0.37813446451759153,0.5637465086282746,0.23448459891588502,-0.646152213425436,0.6888265843952968,1.1773248338495332,-2.366822749360234,2.5593268473776716,-0.8337284202472874,-0.6349992892264821,-1.1108274470015802,-0.5504924823973055,-0.5166790104444628,-0.35967398108001764,0.03304142061605584,-0.9953569079540042,-0.34225235175776236,0.05415196437471269,1.4312114089526344,-0.06819439128707315,0.9337859534275348,-0.9979806075142508,2.5153526996216797,-0.9202468939840021,-0.5645653682586875,-0.41454134423968747,-0.37516634580729047,-1.0212328426549688,-1.462300513745385,-1.767508363123518,-0.40178821637522183,-0.17122260507528686,0.4352737343905665,-0.01868513096343089,1.0548725514811137,-0.3919034473977661,0.08727005314804788,1.5252750004784736,1.2406486221739632,-1.5894052324070254],\"type\":\"scatter\"},{\"line\":{\"color\":\"rgba(128, 0, 128, 1.0)\",\"dash\":\"solid\",\"shape\":\"linear\",\"width\":1.3},\"mode\":\"lines\",\"name\":\"D\",\"text\":\"\",\"x\":[0,1,2,3,4,5,6,7,8,9,10,11,12,13,14,15,16,17,18,19,20,21,22,23,24,25,26,27,28,29,30,31,32,33,34,35,36,37,38,39,40,41,42,43,44,45,46,47,48,49,50,51,52,53,54,55,56,57,58,59,60,61,62,63,64,65,66,67,68,69,70,71,72,73,74,75,76,77,78,79,80,81,82,83,84,85,86,87,88,89,90,91,92,93,94,95,96,97,98,99],\"y\":[0.5126109428890469,1.4892272058537255,-0.06466481511960792,0.807094467503425,0.09912812177445302,0.0037604224907197346,1.7881832836634417,1.4373731417175712,-0.49032218019714713,0.7844086874638536,-0.9135354119307758,0.5083954666397061,-3.1349339074281404,-2.21207508186638,0.4447330266031348,0.18787135141075115,0.14751055603017138,-1.0925191742194862,-1.420182643360601,-2.6950447421847166,-1.1120408459566193,-1.5119946162620084,0.21487814882806078,-0.5778547810602227,-0.6157290651613634,-0.5141466764562026,-1.5873889037285451,-0.3247674515862568,1.8465745931558841,0.3717136751793924,-0.0944745193772145,-0.7256893345692426,0.6329911919873296,0.8432331721074044,0.21506185326754326,-0.3946349840372016,1.0164983176266524,0.2707980457033641,0.43401711765144985,-0.7514870419734236,1.5967967931952454,-0.5192006010979153,-0.16636177789934467,1.063769112378764,0.04824552637562311,-0.30927218647456906,-0.8455324146613583,-1.292727257811507,0.8011477929185559,-0.35765870279142736,-0.1801085848973175,-0.5179106531571229,0.20678839468290003,0.21217097423294343,-0.5197920666799181,1.5452085633784096,0.8164027682792973,1.7211677024187413,-0.056769339959388786,-1.441754323154373,-2.1037029742663806,0.784787163635707,-0.9254897742956887,-0.30742465476637876,-0.795795144089506,-0.20367749333363674,-0.44097727181532287,1.1106618413964617,-1.4799913193064362,0.820803062794328,-0.885579677922769,0.7746145957497992,-0.584185617026759,0.44814214424737153,0.7327582698609134,-0.42593933722798827,0.5025705667376403,-1.94052132088566,1.151791010936278,0.18333509384631916,-0.8832256403000278,1.4734051005315147,2.1904546051168485,0.9807512609165957,-1.121059250174489,0.22222861053794152,-0.5101600824000081,0.0960439749329373,-0.9434158601417526,0.2280746660646097,-0.6199711206314074,-0.19296185060244755,-0.7950160586572694,-0.650755287984872,0.10002357639733761,-0.399410590339489,0.4257795860026511,-0.9861302587332238,1.2273480606955298,-0.45426223575550595],\"type\":\"scatter\"}],                        {\"legend\":{\"bgcolor\":\"#F5F6F9\",\"font\":{\"color\":\"#4D5663\"}},\"paper_bgcolor\":\"#F5F6F9\",\"plot_bgcolor\":\"#F5F6F9\",\"template\":{\"data\":{\"barpolar\":[{\"marker\":{\"line\":{\"color\":\"#E5ECF6\",\"width\":0.5},\"pattern\":{\"fillmode\":\"overlay\",\"size\":10,\"solidity\":0.2}},\"type\":\"barpolar\"}],\"bar\":[{\"error_x\":{\"color\":\"#2a3f5f\"},\"error_y\":{\"color\":\"#2a3f5f\"},\"marker\":{\"line\":{\"color\":\"#E5ECF6\",\"width\":0.5},\"pattern\":{\"fillmode\":\"overlay\",\"size\":10,\"solidity\":0.2}},\"type\":\"bar\"}],\"carpet\":[{\"aaxis\":{\"endlinecolor\":\"#2a3f5f\",\"gridcolor\":\"white\",\"linecolor\":\"white\",\"minorgridcolor\":\"white\",\"startlinecolor\":\"#2a3f5f\"},\"baxis\":{\"endlinecolor\":\"#2a3f5f\",\"gridcolor\":\"white\",\"linecolor\":\"white\",\"minorgridcolor\":\"white\",\"startlinecolor\":\"#2a3f5f\"},\"type\":\"carpet\"}],\"choropleth\":[{\"colorbar\":{\"outlinewidth\":0,\"ticks\":\"\"},\"type\":\"choropleth\"}],\"contourcarpet\":[{\"colorbar\":{\"outlinewidth\":0,\"ticks\":\"\"},\"type\":\"contourcarpet\"}],\"contour\":[{\"colorbar\":{\"outlinewidth\":0,\"ticks\":\"\"},\"colorscale\":[[0.0,\"#0d0887\"],[0.1111111111111111,\"#46039f\"],[0.2222222222222222,\"#7201a8\"],[0.3333333333333333,\"#9c179e\"],[0.4444444444444444,\"#bd3786\"],[0.5555555555555556,\"#d8576b\"],[0.6666666666666666,\"#ed7953\"],[0.7777777777777778,\"#fb9f3a\"],[0.8888888888888888,\"#fdca26\"],[1.0,\"#f0f921\"]],\"type\":\"contour\"}],\"heatmapgl\":[{\"colorbar\":{\"outlinewidth\":0,\"ticks\":\"\"},\"colorscale\":[[0.0,\"#0d0887\"],[0.1111111111111111,\"#46039f\"],[0.2222222222222222,\"#7201a8\"],[0.3333333333333333,\"#9c179e\"],[0.4444444444444444,\"#bd3786\"],[0.5555555555555556,\"#d8576b\"],[0.6666666666666666,\"#ed7953\"],[0.7777777777777778,\"#fb9f3a\"],[0.8888888888888888,\"#fdca26\"],[1.0,\"#f0f921\"]],\"type\":\"heatmapgl\"}],\"heatmap\":[{\"colorbar\":{\"outlinewidth\":0,\"ticks\":\"\"},\"colorscale\":[[0.0,\"#0d0887\"],[0.1111111111111111,\"#46039f\"],[0.2222222222222222,\"#7201a8\"],[0.3333333333333333,\"#9c179e\"],[0.4444444444444444,\"#bd3786\"],[0.5555555555555556,\"#d8576b\"],[0.6666666666666666,\"#ed7953\"],[0.7777777777777778,\"#fb9f3a\"],[0.8888888888888888,\"#fdca26\"],[1.0,\"#f0f921\"]],\"type\":\"heatmap\"}],\"histogram2dcontour\":[{\"colorbar\":{\"outlinewidth\":0,\"ticks\":\"\"},\"colorscale\":[[0.0,\"#0d0887\"],[0.1111111111111111,\"#46039f\"],[0.2222222222222222,\"#7201a8\"],[0.3333333333333333,\"#9c179e\"],[0.4444444444444444,\"#bd3786\"],[0.5555555555555556,\"#d8576b\"],[0.6666666666666666,\"#ed7953\"],[0.7777777777777778,\"#fb9f3a\"],[0.8888888888888888,\"#fdca26\"],[1.0,\"#f0f921\"]],\"type\":\"histogram2dcontour\"}],\"histogram2d\":[{\"colorbar\":{\"outlinewidth\":0,\"ticks\":\"\"},\"colorscale\":[[0.0,\"#0d0887\"],[0.1111111111111111,\"#46039f\"],[0.2222222222222222,\"#7201a8\"],[0.3333333333333333,\"#9c179e\"],[0.4444444444444444,\"#bd3786\"],[0.5555555555555556,\"#d8576b\"],[0.6666666666666666,\"#ed7953\"],[0.7777777777777778,\"#fb9f3a\"],[0.8888888888888888,\"#fdca26\"],[1.0,\"#f0f921\"]],\"type\":\"histogram2d\"}],\"histogram\":[{\"marker\":{\"pattern\":{\"fillmode\":\"overlay\",\"size\":10,\"solidity\":0.2}},\"type\":\"histogram\"}],\"mesh3d\":[{\"colorbar\":{\"outlinewidth\":0,\"ticks\":\"\"},\"type\":\"mesh3d\"}],\"parcoords\":[{\"line\":{\"colorbar\":{\"outlinewidth\":0,\"ticks\":\"\"}},\"type\":\"parcoords\"}],\"pie\":[{\"automargin\":true,\"type\":\"pie\"}],\"scatter3d\":[{\"line\":{\"colorbar\":{\"outlinewidth\":0,\"ticks\":\"\"}},\"marker\":{\"colorbar\":{\"outlinewidth\":0,\"ticks\":\"\"}},\"type\":\"scatter3d\"}],\"scattercarpet\":[{\"marker\":{\"colorbar\":{\"outlinewidth\":0,\"ticks\":\"\"}},\"type\":\"scattercarpet\"}],\"scattergeo\":[{\"marker\":{\"colorbar\":{\"outlinewidth\":0,\"ticks\":\"\"}},\"type\":\"scattergeo\"}],\"scattergl\":[{\"marker\":{\"colorbar\":{\"outlinewidth\":0,\"ticks\":\"\"}},\"type\":\"scattergl\"}],\"scattermapbox\":[{\"marker\":{\"colorbar\":{\"outlinewidth\":0,\"ticks\":\"\"}},\"type\":\"scattermapbox\"}],\"scatterpolargl\":[{\"marker\":{\"colorbar\":{\"outlinewidth\":0,\"ticks\":\"\"}},\"type\":\"scatterpolargl\"}],\"scatterpolar\":[{\"marker\":{\"colorbar\":{\"outlinewidth\":0,\"ticks\":\"\"}},\"type\":\"scatterpolar\"}],\"scatter\":[{\"fillpattern\":{\"fillmode\":\"overlay\",\"size\":10,\"solidity\":0.2},\"type\":\"scatter\"}],\"scatterternary\":[{\"marker\":{\"colorbar\":{\"outlinewidth\":0,\"ticks\":\"\"}},\"type\":\"scatterternary\"}],\"surface\":[{\"colorbar\":{\"outlinewidth\":0,\"ticks\":\"\"},\"colorscale\":[[0.0,\"#0d0887\"],[0.1111111111111111,\"#46039f\"],[0.2222222222222222,\"#7201a8\"],[0.3333333333333333,\"#9c179e\"],[0.4444444444444444,\"#bd3786\"],[0.5555555555555556,\"#d8576b\"],[0.6666666666666666,\"#ed7953\"],[0.7777777777777778,\"#fb9f3a\"],[0.8888888888888888,\"#fdca26\"],[1.0,\"#f0f921\"]],\"type\":\"surface\"}],\"table\":[{\"cells\":{\"fill\":{\"color\":\"#EBF0F8\"},\"line\":{\"color\":\"white\"}},\"header\":{\"fill\":{\"color\":\"#C8D4E3\"},\"line\":{\"color\":\"white\"}},\"type\":\"table\"}]},\"layout\":{\"annotationdefaults\":{\"arrowcolor\":\"#2a3f5f\",\"arrowhead\":0,\"arrowwidth\":1},\"autotypenumbers\":\"strict\",\"coloraxis\":{\"colorbar\":{\"outlinewidth\":0,\"ticks\":\"\"}},\"colorscale\":{\"diverging\":[[0,\"#8e0152\"],[0.1,\"#c51b7d\"],[0.2,\"#de77ae\"],[0.3,\"#f1b6da\"],[0.4,\"#fde0ef\"],[0.5,\"#f7f7f7\"],[0.6,\"#e6f5d0\"],[0.7,\"#b8e186\"],[0.8,\"#7fbc41\"],[0.9,\"#4d9221\"],[1,\"#276419\"]],\"sequential\":[[0.0,\"#0d0887\"],[0.1111111111111111,\"#46039f\"],[0.2222222222222222,\"#7201a8\"],[0.3333333333333333,\"#9c179e\"],[0.4444444444444444,\"#bd3786\"],[0.5555555555555556,\"#d8576b\"],[0.6666666666666666,\"#ed7953\"],[0.7777777777777778,\"#fb9f3a\"],[0.8888888888888888,\"#fdca26\"],[1.0,\"#f0f921\"]],\"sequentialminus\":[[0.0,\"#0d0887\"],[0.1111111111111111,\"#46039f\"],[0.2222222222222222,\"#7201a8\"],[0.3333333333333333,\"#9c179e\"],[0.4444444444444444,\"#bd3786\"],[0.5555555555555556,\"#d8576b\"],[0.6666666666666666,\"#ed7953\"],[0.7777777777777778,\"#fb9f3a\"],[0.8888888888888888,\"#fdca26\"],[1.0,\"#f0f921\"]]},\"colorway\":[\"#636efa\",\"#EF553B\",\"#00cc96\",\"#ab63fa\",\"#FFA15A\",\"#19d3f3\",\"#FF6692\",\"#B6E880\",\"#FF97FF\",\"#FECB52\"],\"font\":{\"color\":\"#2a3f5f\"},\"geo\":{\"bgcolor\":\"white\",\"lakecolor\":\"white\",\"landcolor\":\"#E5ECF6\",\"showlakes\":true,\"showland\":true,\"subunitcolor\":\"white\"},\"hoverlabel\":{\"align\":\"left\"},\"hovermode\":\"closest\",\"mapbox\":{\"style\":\"light\"},\"paper_bgcolor\":\"white\",\"plot_bgcolor\":\"#E5ECF6\",\"polar\":{\"angularaxis\":{\"gridcolor\":\"white\",\"linecolor\":\"white\",\"ticks\":\"\"},\"bgcolor\":\"#E5ECF6\",\"radialaxis\":{\"gridcolor\":\"white\",\"linecolor\":\"white\",\"ticks\":\"\"}},\"scene\":{\"xaxis\":{\"backgroundcolor\":\"#E5ECF6\",\"gridcolor\":\"white\",\"gridwidth\":2,\"linecolor\":\"white\",\"showbackground\":true,\"ticks\":\"\",\"zerolinecolor\":\"white\"},\"yaxis\":{\"backgroundcolor\":\"#E5ECF6\",\"gridcolor\":\"white\",\"gridwidth\":2,\"linecolor\":\"white\",\"showbackground\":true,\"ticks\":\"\",\"zerolinecolor\":\"white\"},\"zaxis\":{\"backgroundcolor\":\"#E5ECF6\",\"gridcolor\":\"white\",\"gridwidth\":2,\"linecolor\":\"white\",\"showbackground\":true,\"ticks\":\"\",\"zerolinecolor\":\"white\"}},\"shapedefaults\":{\"line\":{\"color\":\"#2a3f5f\"}},\"ternary\":{\"aaxis\":{\"gridcolor\":\"white\",\"linecolor\":\"white\",\"ticks\":\"\"},\"baxis\":{\"gridcolor\":\"white\",\"linecolor\":\"white\",\"ticks\":\"\"},\"bgcolor\":\"#E5ECF6\",\"caxis\":{\"gridcolor\":\"white\",\"linecolor\":\"white\",\"ticks\":\"\"}},\"title\":{\"x\":0.05},\"xaxis\":{\"automargin\":true,\"gridcolor\":\"white\",\"linecolor\":\"white\",\"ticks\":\"\",\"title\":{\"standoff\":15},\"zerolinecolor\":\"white\",\"zerolinewidth\":2},\"yaxis\":{\"automargin\":true,\"gridcolor\":\"white\",\"linecolor\":\"white\",\"ticks\":\"\",\"title\":{\"standoff\":15},\"zerolinecolor\":\"white\",\"zerolinewidth\":2}}},\"title\":{\"font\":{\"color\":\"#4D5663\"}},\"xaxis\":{\"gridcolor\":\"#E1E5ED\",\"showgrid\":true,\"tickfont\":{\"color\":\"#4D5663\"},\"title\":{\"font\":{\"color\":\"#4D5663\"},\"text\":\"\"},\"zerolinecolor\":\"#E1E5ED\"},\"yaxis\":{\"gridcolor\":\"#E1E5ED\",\"showgrid\":true,\"tickfont\":{\"color\":\"#4D5663\"},\"title\":{\"font\":{\"color\":\"#4D5663\"},\"text\":\"\"},\"zerolinecolor\":\"#E1E5ED\"}},                        {\"showLink\": true, \"linkText\": \"Export to plot.ly\", \"plotlyServerURL\": \"https://plot.ly\", \"responsive\": true}                    ).then(function(){\n",
       "                            \n",
       "var gd = document.getElementById('7d97cabf-cc2c-432a-ba83-ebd54da6da49');\n",
       "var x = new MutationObserver(function (mutations, observer) {{\n",
       "        var display = window.getComputedStyle(gd).display;\n",
       "        if (!display || display === 'none') {{\n",
       "            console.log([gd, 'removed!']);\n",
       "            Plotly.purge(gd);\n",
       "            observer.disconnect();\n",
       "        }}\n",
       "}});\n",
       "\n",
       "// Listen for the removal of the full notebook cells\n",
       "var notebookContainer = gd.closest('#notebook-container');\n",
       "if (notebookContainer) {{\n",
       "    x.observe(notebookContainer, {childList: true});\n",
       "}}\n",
       "\n",
       "// Listen for the clearing of the current output cell\n",
       "var outputEl = gd.closest('.output');\n",
       "if (outputEl) {{\n",
       "    x.observe(outputEl, {childList: true});\n",
       "}}\n",
       "\n",
       "                        })                };                });            </script>        </div>"
      ]
     },
     "metadata": {},
     "output_type": "display_data"
    }
   ],
   "source": [
    "df.iplot()"
   ]
  },
  {
   "cell_type": "code",
   "execution_count": 15,
   "id": "8c2481a1",
   "metadata": {
    "ExecuteTime": {
     "end_time": "2023-03-25T09:00:38.184105Z",
     "start_time": "2023-03-25T09:00:38.016528Z"
    }
   },
   "outputs": [
    {
     "data": {
      "application/vnd.plotly.v1+json": {
       "config": {
        "linkText": "Export to plot.ly",
        "plotlyServerURL": "https://plot.ly",
        "showLink": true
       },
       "data": [
        {
         "line": {
          "color": "rgba(255, 153, 51, 1.0)",
          "dash": "solid",
          "shape": "linear",
          "width": 1.3
         },
         "mode": "lines",
         "name": "B",
         "text": "",
         "type": "scatter",
         "x": [
          -0.6185864777596235,
          -0.09549749996174815,
          0.7735155947714842,
          -1.9544208522009834,
          0.9321062993468145,
          0.36391957912219924,
          1.0222517106252103,
          0.21428349229504423,
          0.30155723927183736,
          -1.7737081556426644,
          -0.8813197097782401,
          -1.1833788622984094,
          1.0921030137803465,
          0.47150727733146436,
          -1.6539348028518632,
          -0.28566133680357586,
          1.6103067819704,
          -1.8417392372265438,
          0.039193584163302084,
          -0.6695950365093897,
          -0.7291227819448418,
          0.17384486693441867,
          1.5625067918950442,
          -2.118320960980159,
          -0.6478092575126989,
          -1.3354358976613383,
          -0.11900269907027594,
          1.8690436615397525,
          0.3602185862801853,
          0.954444106941083,
          -1.3426442266410488,
          -0.5861974838373313,
          -1.2776509648542993,
          -0.17202929225908314,
          -0.5899977906595941,
          1.3660735045819095,
          -1.096820738909289,
          0.09159655138384042,
          0.8669297839834728,
          0.11618036291092862,
          -0.1306793735655419,
          -1.409084507446096,
          -1.1458344122244621,
          -0.20695860339653058,
          -1.037860881063523,
          0.01958383190177941,
          1.877231153321232,
          -0.4861599541240264,
          0.2256221614426137,
          1.0191400317688684,
          -1.7994981450956142,
          -0.449892724101533,
          -1.7060329759096715,
          -0.7097216977459914,
          -0.8825995557308481,
          0.33962848154734276,
          0.20113285388190974,
          0.46035911247198713,
          0.7091683111522437,
          -1.2284387339475709,
          0.11445375532849965,
          -0.11410251539813779,
          -0.433581463941365,
          -0.1506692378419643,
          0.33482007756007925,
          -1.5145111918515755,
          0.570038479119206,
          -1.2112103535764067,
          -0.4029111539814335,
          -0.19348347413316772,
          -0.18662039060185484,
          -0.4020159349141075,
          -1.104221400696765,
          -0.7881037638705021,
          0.9624880966553944,
          0.8370910133274343,
          0.08064775753280434,
          0.4529394450193887,
          0.8144227765728742,
          -0.4139266273079406,
          -0.16045457024510903,
          0.11560583805022592,
          0.5018750969144258,
          -1.05549272187284,
          0.6646897400226129,
          0.7252518633264401,
          -0.8634744428274881,
          0.14526679817629318,
          0.5642348261932901,
          -0.5739339256594503,
          0.15846871036688384,
          0.5303216539889294,
          -0.4638919188417855,
          -2.653303499100419,
          0.30810942245492506,
          1.337533737637027,
          1.0885583937029353,
          -1.6447907309114553,
          0.6693410844821837,
          -0.023858538897312875
         ],
         "y": [
          -0.4592523817006714,
          1.614960731672855,
          -1.4206426925982674,
          1.1551454541846038,
          -0.34613058552962517,
          1.6624230716641488,
          -0.11554649598016219,
          -0.01851161969972325,
          0.09984663041486533,
          -2.043102167532454,
          -1.478451948264321,
          -0.2788843499486517,
          -0.1497492795430963,
          1.9533168820677445,
          -0.10989230038135865,
          0.31344790900193625,
          0.08678752237308349,
          -0.3990447395439932,
          -1.4424816562369789,
          -0.028981252459112657,
          -0.4160821900068768,
          -0.9024826500293118,
          -0.5208567006043135,
          0.37071150697915956,
          0.29340762940465925,
          -0.15303788800844492,
          -1.7013013838151183,
          -2.1032089257065056,
          0.01803007769576685,
          0.774085466469011,
          -0.0130218043338703,
          0.7479391896322369,
          0.7318773540406959,
          -1.800944110150754,
          1.4099248117758916,
          -1.5325103771876123,
          0.5782922057046384,
          0.3053398932705239,
          -0.06430529590814345,
          1.0236623980295185,
          0.6914789499794927,
          0.7371810656811424,
          2.606242974469369,
          -1.5007673763044456,
          -1.0420156920821377,
          0.046743919591023995,
          1.3154764187085386,
          -0.18591517662231646,
          0.7578452017067829,
          -1.1201103682918108,
          -1.4809656473238406,
          -1.932290152656959,
          0.5687456244608741,
          -2.183122855649209,
          -0.18703771863844015,
          0.38248194212075454,
          -1.4501529065420269,
          1.0649615189495414,
          -0.44540408458769665,
          -0.5991301447361154,
          0.608703902269564,
          0.4058260851185324,
          0.457400126610244,
          0.5464347317371752,
          -0.2577028738771836,
          -0.6222900815300759,
          0.04461153224918688,
          -2.447018762098259,
          -0.23888100490859634,
          0.08761509395317087,
          1.623124602304495,
          1.1845787037770144,
          0.5492856988758372,
          1.130595322987083,
          -1.8840243529998721,
          0.18955829582691278,
          1.6839930239683714,
          0.5334500493016082,
          1.8492431165364005,
          0.4549707177333402,
          0.6697077146222054,
          0.4085483537015883,
          -0.5082199635442869,
          0.3448252142610793,
          -0.9833076650745944,
          0.2228561564482779,
          1.314600834470803,
          0.5969614245184819,
          0.5615669274826204,
          -0.03580808061129372,
          0.2825263823615819,
          -2.104980414657762,
          -1.8480485079071858,
          -1.2798589824928985,
          -0.4685176982797968,
          1.3615871560013324,
          0.7947295589257131,
          -1.018205327768071,
          0.6838015779839137,
          -0.445118498396265
         ]
        }
       ],
       "layout": {
        "legend": {
         "bgcolor": "#F5F6F9",
         "font": {
          "color": "#4D5663"
         }
        },
        "paper_bgcolor": "#F5F6F9",
        "plot_bgcolor": "#F5F6F9",
        "template": {
         "data": {
          "bar": [
           {
            "error_x": {
             "color": "#2a3f5f"
            },
            "error_y": {
             "color": "#2a3f5f"
            },
            "marker": {
             "line": {
              "color": "#E5ECF6",
              "width": 0.5
             },
             "pattern": {
              "fillmode": "overlay",
              "size": 10,
              "solidity": 0.2
             }
            },
            "type": "bar"
           }
          ],
          "barpolar": [
           {
            "marker": {
             "line": {
              "color": "#E5ECF6",
              "width": 0.5
             },
             "pattern": {
              "fillmode": "overlay",
              "size": 10,
              "solidity": 0.2
             }
            },
            "type": "barpolar"
           }
          ],
          "carpet": [
           {
            "aaxis": {
             "endlinecolor": "#2a3f5f",
             "gridcolor": "white",
             "linecolor": "white",
             "minorgridcolor": "white",
             "startlinecolor": "#2a3f5f"
            },
            "baxis": {
             "endlinecolor": "#2a3f5f",
             "gridcolor": "white",
             "linecolor": "white",
             "minorgridcolor": "white",
             "startlinecolor": "#2a3f5f"
            },
            "type": "carpet"
           }
          ],
          "choropleth": [
           {
            "colorbar": {
             "outlinewidth": 0,
             "ticks": ""
            },
            "type": "choropleth"
           }
          ],
          "contour": [
           {
            "colorbar": {
             "outlinewidth": 0,
             "ticks": ""
            },
            "colorscale": [
             [
              0,
              "#0d0887"
             ],
             [
              0.1111111111111111,
              "#46039f"
             ],
             [
              0.2222222222222222,
              "#7201a8"
             ],
             [
              0.3333333333333333,
              "#9c179e"
             ],
             [
              0.4444444444444444,
              "#bd3786"
             ],
             [
              0.5555555555555556,
              "#d8576b"
             ],
             [
              0.6666666666666666,
              "#ed7953"
             ],
             [
              0.7777777777777778,
              "#fb9f3a"
             ],
             [
              0.8888888888888888,
              "#fdca26"
             ],
             [
              1,
              "#f0f921"
             ]
            ],
            "type": "contour"
           }
          ],
          "contourcarpet": [
           {
            "colorbar": {
             "outlinewidth": 0,
             "ticks": ""
            },
            "type": "contourcarpet"
           }
          ],
          "heatmap": [
           {
            "colorbar": {
             "outlinewidth": 0,
             "ticks": ""
            },
            "colorscale": [
             [
              0,
              "#0d0887"
             ],
             [
              0.1111111111111111,
              "#46039f"
             ],
             [
              0.2222222222222222,
              "#7201a8"
             ],
             [
              0.3333333333333333,
              "#9c179e"
             ],
             [
              0.4444444444444444,
              "#bd3786"
             ],
             [
              0.5555555555555556,
              "#d8576b"
             ],
             [
              0.6666666666666666,
              "#ed7953"
             ],
             [
              0.7777777777777778,
              "#fb9f3a"
             ],
             [
              0.8888888888888888,
              "#fdca26"
             ],
             [
              1,
              "#f0f921"
             ]
            ],
            "type": "heatmap"
           }
          ],
          "heatmapgl": [
           {
            "colorbar": {
             "outlinewidth": 0,
             "ticks": ""
            },
            "colorscale": [
             [
              0,
              "#0d0887"
             ],
             [
              0.1111111111111111,
              "#46039f"
             ],
             [
              0.2222222222222222,
              "#7201a8"
             ],
             [
              0.3333333333333333,
              "#9c179e"
             ],
             [
              0.4444444444444444,
              "#bd3786"
             ],
             [
              0.5555555555555556,
              "#d8576b"
             ],
             [
              0.6666666666666666,
              "#ed7953"
             ],
             [
              0.7777777777777778,
              "#fb9f3a"
             ],
             [
              0.8888888888888888,
              "#fdca26"
             ],
             [
              1,
              "#f0f921"
             ]
            ],
            "type": "heatmapgl"
           }
          ],
          "histogram": [
           {
            "marker": {
             "pattern": {
              "fillmode": "overlay",
              "size": 10,
              "solidity": 0.2
             }
            },
            "type": "histogram"
           }
          ],
          "histogram2d": [
           {
            "colorbar": {
             "outlinewidth": 0,
             "ticks": ""
            },
            "colorscale": [
             [
              0,
              "#0d0887"
             ],
             [
              0.1111111111111111,
              "#46039f"
             ],
             [
              0.2222222222222222,
              "#7201a8"
             ],
             [
              0.3333333333333333,
              "#9c179e"
             ],
             [
              0.4444444444444444,
              "#bd3786"
             ],
             [
              0.5555555555555556,
              "#d8576b"
             ],
             [
              0.6666666666666666,
              "#ed7953"
             ],
             [
              0.7777777777777778,
              "#fb9f3a"
             ],
             [
              0.8888888888888888,
              "#fdca26"
             ],
             [
              1,
              "#f0f921"
             ]
            ],
            "type": "histogram2d"
           }
          ],
          "histogram2dcontour": [
           {
            "colorbar": {
             "outlinewidth": 0,
             "ticks": ""
            },
            "colorscale": [
             [
              0,
              "#0d0887"
             ],
             [
              0.1111111111111111,
              "#46039f"
             ],
             [
              0.2222222222222222,
              "#7201a8"
             ],
             [
              0.3333333333333333,
              "#9c179e"
             ],
             [
              0.4444444444444444,
              "#bd3786"
             ],
             [
              0.5555555555555556,
              "#d8576b"
             ],
             [
              0.6666666666666666,
              "#ed7953"
             ],
             [
              0.7777777777777778,
              "#fb9f3a"
             ],
             [
              0.8888888888888888,
              "#fdca26"
             ],
             [
              1,
              "#f0f921"
             ]
            ],
            "type": "histogram2dcontour"
           }
          ],
          "mesh3d": [
           {
            "colorbar": {
             "outlinewidth": 0,
             "ticks": ""
            },
            "type": "mesh3d"
           }
          ],
          "parcoords": [
           {
            "line": {
             "colorbar": {
              "outlinewidth": 0,
              "ticks": ""
             }
            },
            "type": "parcoords"
           }
          ],
          "pie": [
           {
            "automargin": true,
            "type": "pie"
           }
          ],
          "scatter": [
           {
            "fillpattern": {
             "fillmode": "overlay",
             "size": 10,
             "solidity": 0.2
            },
            "type": "scatter"
           }
          ],
          "scatter3d": [
           {
            "line": {
             "colorbar": {
              "outlinewidth": 0,
              "ticks": ""
             }
            },
            "marker": {
             "colorbar": {
              "outlinewidth": 0,
              "ticks": ""
             }
            },
            "type": "scatter3d"
           }
          ],
          "scattercarpet": [
           {
            "marker": {
             "colorbar": {
              "outlinewidth": 0,
              "ticks": ""
             }
            },
            "type": "scattercarpet"
           }
          ],
          "scattergeo": [
           {
            "marker": {
             "colorbar": {
              "outlinewidth": 0,
              "ticks": ""
             }
            },
            "type": "scattergeo"
           }
          ],
          "scattergl": [
           {
            "marker": {
             "colorbar": {
              "outlinewidth": 0,
              "ticks": ""
             }
            },
            "type": "scattergl"
           }
          ],
          "scattermapbox": [
           {
            "marker": {
             "colorbar": {
              "outlinewidth": 0,
              "ticks": ""
             }
            },
            "type": "scattermapbox"
           }
          ],
          "scatterpolar": [
           {
            "marker": {
             "colorbar": {
              "outlinewidth": 0,
              "ticks": ""
             }
            },
            "type": "scatterpolar"
           }
          ],
          "scatterpolargl": [
           {
            "marker": {
             "colorbar": {
              "outlinewidth": 0,
              "ticks": ""
             }
            },
            "type": "scatterpolargl"
           }
          ],
          "scatterternary": [
           {
            "marker": {
             "colorbar": {
              "outlinewidth": 0,
              "ticks": ""
             }
            },
            "type": "scatterternary"
           }
          ],
          "surface": [
           {
            "colorbar": {
             "outlinewidth": 0,
             "ticks": ""
            },
            "colorscale": [
             [
              0,
              "#0d0887"
             ],
             [
              0.1111111111111111,
              "#46039f"
             ],
             [
              0.2222222222222222,
              "#7201a8"
             ],
             [
              0.3333333333333333,
              "#9c179e"
             ],
             [
              0.4444444444444444,
              "#bd3786"
             ],
             [
              0.5555555555555556,
              "#d8576b"
             ],
             [
              0.6666666666666666,
              "#ed7953"
             ],
             [
              0.7777777777777778,
              "#fb9f3a"
             ],
             [
              0.8888888888888888,
              "#fdca26"
             ],
             [
              1,
              "#f0f921"
             ]
            ],
            "type": "surface"
           }
          ],
          "table": [
           {
            "cells": {
             "fill": {
              "color": "#EBF0F8"
             },
             "line": {
              "color": "white"
             }
            },
            "header": {
             "fill": {
              "color": "#C8D4E3"
             },
             "line": {
              "color": "white"
             }
            },
            "type": "table"
           }
          ]
         },
         "layout": {
          "annotationdefaults": {
           "arrowcolor": "#2a3f5f",
           "arrowhead": 0,
           "arrowwidth": 1
          },
          "autotypenumbers": "strict",
          "coloraxis": {
           "colorbar": {
            "outlinewidth": 0,
            "ticks": ""
           }
          },
          "colorscale": {
           "diverging": [
            [
             0,
             "#8e0152"
            ],
            [
             0.1,
             "#c51b7d"
            ],
            [
             0.2,
             "#de77ae"
            ],
            [
             0.3,
             "#f1b6da"
            ],
            [
             0.4,
             "#fde0ef"
            ],
            [
             0.5,
             "#f7f7f7"
            ],
            [
             0.6,
             "#e6f5d0"
            ],
            [
             0.7,
             "#b8e186"
            ],
            [
             0.8,
             "#7fbc41"
            ],
            [
             0.9,
             "#4d9221"
            ],
            [
             1,
             "#276419"
            ]
           ],
           "sequential": [
            [
             0,
             "#0d0887"
            ],
            [
             0.1111111111111111,
             "#46039f"
            ],
            [
             0.2222222222222222,
             "#7201a8"
            ],
            [
             0.3333333333333333,
             "#9c179e"
            ],
            [
             0.4444444444444444,
             "#bd3786"
            ],
            [
             0.5555555555555556,
             "#d8576b"
            ],
            [
             0.6666666666666666,
             "#ed7953"
            ],
            [
             0.7777777777777778,
             "#fb9f3a"
            ],
            [
             0.8888888888888888,
             "#fdca26"
            ],
            [
             1,
             "#f0f921"
            ]
           ],
           "sequentialminus": [
            [
             0,
             "#0d0887"
            ],
            [
             0.1111111111111111,
             "#46039f"
            ],
            [
             0.2222222222222222,
             "#7201a8"
            ],
            [
             0.3333333333333333,
             "#9c179e"
            ],
            [
             0.4444444444444444,
             "#bd3786"
            ],
            [
             0.5555555555555556,
             "#d8576b"
            ],
            [
             0.6666666666666666,
             "#ed7953"
            ],
            [
             0.7777777777777778,
             "#fb9f3a"
            ],
            [
             0.8888888888888888,
             "#fdca26"
            ],
            [
             1,
             "#f0f921"
            ]
           ]
          },
          "colorway": [
           "#636efa",
           "#EF553B",
           "#00cc96",
           "#ab63fa",
           "#FFA15A",
           "#19d3f3",
           "#FF6692",
           "#B6E880",
           "#FF97FF",
           "#FECB52"
          ],
          "font": {
           "color": "#2a3f5f"
          },
          "geo": {
           "bgcolor": "white",
           "lakecolor": "white",
           "landcolor": "#E5ECF6",
           "showlakes": true,
           "showland": true,
           "subunitcolor": "white"
          },
          "hoverlabel": {
           "align": "left"
          },
          "hovermode": "closest",
          "mapbox": {
           "style": "light"
          },
          "paper_bgcolor": "white",
          "plot_bgcolor": "#E5ECF6",
          "polar": {
           "angularaxis": {
            "gridcolor": "white",
            "linecolor": "white",
            "ticks": ""
           },
           "bgcolor": "#E5ECF6",
           "radialaxis": {
            "gridcolor": "white",
            "linecolor": "white",
            "ticks": ""
           }
          },
          "scene": {
           "xaxis": {
            "backgroundcolor": "#E5ECF6",
            "gridcolor": "white",
            "gridwidth": 2,
            "linecolor": "white",
            "showbackground": true,
            "ticks": "",
            "zerolinecolor": "white"
           },
           "yaxis": {
            "backgroundcolor": "#E5ECF6",
            "gridcolor": "white",
            "gridwidth": 2,
            "linecolor": "white",
            "showbackground": true,
            "ticks": "",
            "zerolinecolor": "white"
           },
           "zaxis": {
            "backgroundcolor": "#E5ECF6",
            "gridcolor": "white",
            "gridwidth": 2,
            "linecolor": "white",
            "showbackground": true,
            "ticks": "",
            "zerolinecolor": "white"
           }
          },
          "shapedefaults": {
           "line": {
            "color": "#2a3f5f"
           }
          },
          "ternary": {
           "aaxis": {
            "gridcolor": "white",
            "linecolor": "white",
            "ticks": ""
           },
           "baxis": {
            "gridcolor": "white",
            "linecolor": "white",
            "ticks": ""
           },
           "bgcolor": "#E5ECF6",
           "caxis": {
            "gridcolor": "white",
            "linecolor": "white",
            "ticks": ""
           }
          },
          "title": {
           "x": 0.05
          },
          "xaxis": {
           "automargin": true,
           "gridcolor": "white",
           "linecolor": "white",
           "ticks": "",
           "title": {
            "standoff": 15
           },
           "zerolinecolor": "white",
           "zerolinewidth": 2
          },
          "yaxis": {
           "automargin": true,
           "gridcolor": "white",
           "linecolor": "white",
           "ticks": "",
           "title": {
            "standoff": 15
           },
           "zerolinecolor": "white",
           "zerolinewidth": 2
          }
         }
        },
        "title": {
         "font": {
          "color": "#4D5663"
         }
        },
        "xaxis": {
         "gridcolor": "#E1E5ED",
         "showgrid": true,
         "tickfont": {
          "color": "#4D5663"
         },
         "title": {
          "font": {
           "color": "#4D5663"
          },
          "text": ""
         },
         "zerolinecolor": "#E1E5ED"
        },
        "yaxis": {
         "gridcolor": "#E1E5ED",
         "showgrid": true,
         "tickfont": {
          "color": "#4D5663"
         },
         "title": {
          "font": {
           "color": "#4D5663"
          },
          "text": ""
         },
         "zerolinecolor": "#E1E5ED"
        }
       }
      },
      "text/html": [
       "<div>                            <div id=\"547fadff-f696-4a16-a313-6232560978f7\" class=\"plotly-graph-div\" style=\"height:525px; width:100%;\"></div>            <script type=\"text/javascript\">                require([\"plotly\"], function(Plotly) {                    window.PLOTLYENV=window.PLOTLYENV || {};\n",
       "                    window.PLOTLYENV.BASE_URL='https://plot.ly';                                    if (document.getElementById(\"547fadff-f696-4a16-a313-6232560978f7\")) {                    Plotly.newPlot(                        \"547fadff-f696-4a16-a313-6232560978f7\",                        [{\"line\":{\"color\":\"rgba(255, 153, 51, 1.0)\",\"dash\":\"solid\",\"shape\":\"linear\",\"width\":1.3},\"mode\":\"lines\",\"name\":\"B\",\"text\":\"\",\"x\":[-0.6185864777596235,-0.09549749996174815,0.7735155947714842,-1.9544208522009834,0.9321062993468145,0.36391957912219924,1.0222517106252103,0.21428349229504423,0.30155723927183736,-1.7737081556426644,-0.8813197097782401,-1.1833788622984094,1.0921030137803465,0.47150727733146436,-1.6539348028518632,-0.28566133680357586,1.6103067819704,-1.8417392372265438,0.039193584163302084,-0.6695950365093897,-0.7291227819448418,0.17384486693441867,1.5625067918950442,-2.118320960980159,-0.6478092575126989,-1.3354358976613383,-0.11900269907027594,1.8690436615397525,0.3602185862801853,0.954444106941083,-1.3426442266410488,-0.5861974838373313,-1.2776509648542993,-0.17202929225908314,-0.5899977906595941,1.3660735045819095,-1.096820738909289,0.09159655138384042,0.8669297839834728,0.11618036291092862,-0.1306793735655419,-1.409084507446096,-1.1458344122244621,-0.20695860339653058,-1.037860881063523,0.01958383190177941,1.877231153321232,-0.4861599541240264,0.2256221614426137,1.0191400317688684,-1.7994981450956142,-0.449892724101533,-1.7060329759096715,-0.7097216977459914,-0.8825995557308481,0.33962848154734276,0.20113285388190974,0.46035911247198713,0.7091683111522437,-1.2284387339475709,0.11445375532849965,-0.11410251539813779,-0.433581463941365,-0.1506692378419643,0.33482007756007925,-1.5145111918515755,0.570038479119206,-1.2112103535764067,-0.4029111539814335,-0.19348347413316772,-0.18662039060185484,-0.4020159349141075,-1.104221400696765,-0.7881037638705021,0.9624880966553944,0.8370910133274343,0.08064775753280434,0.4529394450193887,0.8144227765728742,-0.4139266273079406,-0.16045457024510903,0.11560583805022592,0.5018750969144258,-1.05549272187284,0.6646897400226129,0.7252518633264401,-0.8634744428274881,0.14526679817629318,0.5642348261932901,-0.5739339256594503,0.15846871036688384,0.5303216539889294,-0.4638919188417855,-2.653303499100419,0.30810942245492506,1.337533737637027,1.0885583937029353,-1.6447907309114553,0.6693410844821837,-0.023858538897312875],\"y\":[-0.4592523817006714,1.614960731672855,-1.4206426925982674,1.1551454541846038,-0.34613058552962517,1.6624230716641488,-0.11554649598016219,-0.01851161969972325,0.09984663041486533,-2.043102167532454,-1.478451948264321,-0.2788843499486517,-0.1497492795430963,1.9533168820677445,-0.10989230038135865,0.31344790900193625,0.08678752237308349,-0.3990447395439932,-1.4424816562369789,-0.028981252459112657,-0.4160821900068768,-0.9024826500293118,-0.5208567006043135,0.37071150697915956,0.29340762940465925,-0.15303788800844492,-1.7013013838151183,-2.1032089257065056,0.01803007769576685,0.774085466469011,-0.0130218043338703,0.7479391896322369,0.7318773540406959,-1.800944110150754,1.4099248117758916,-1.5325103771876123,0.5782922057046384,0.3053398932705239,-0.06430529590814345,1.0236623980295185,0.6914789499794927,0.7371810656811424,2.606242974469369,-1.5007673763044456,-1.0420156920821377,0.046743919591023995,1.3154764187085386,-0.18591517662231646,0.7578452017067829,-1.1201103682918108,-1.4809656473238406,-1.932290152656959,0.5687456244608741,-2.183122855649209,-0.18703771863844015,0.38248194212075454,-1.4501529065420269,1.0649615189495414,-0.44540408458769665,-0.5991301447361154,0.608703902269564,0.4058260851185324,0.457400126610244,0.5464347317371752,-0.2577028738771836,-0.6222900815300759,0.04461153224918688,-2.447018762098259,-0.23888100490859634,0.08761509395317087,1.623124602304495,1.1845787037770144,0.5492856988758372,1.130595322987083,-1.8840243529998721,0.18955829582691278,1.6839930239683714,0.5334500493016082,1.8492431165364005,0.4549707177333402,0.6697077146222054,0.4085483537015883,-0.5082199635442869,0.3448252142610793,-0.9833076650745944,0.2228561564482779,1.314600834470803,0.5969614245184819,0.5615669274826204,-0.03580808061129372,0.2825263823615819,-2.104980414657762,-1.8480485079071858,-1.2798589824928985,-0.4685176982797968,1.3615871560013324,0.7947295589257131,-1.018205327768071,0.6838015779839137,-0.445118498396265],\"type\":\"scatter\"}],                        {\"legend\":{\"bgcolor\":\"#F5F6F9\",\"font\":{\"color\":\"#4D5663\"}},\"paper_bgcolor\":\"#F5F6F9\",\"plot_bgcolor\":\"#F5F6F9\",\"template\":{\"data\":{\"barpolar\":[{\"marker\":{\"line\":{\"color\":\"#E5ECF6\",\"width\":0.5},\"pattern\":{\"fillmode\":\"overlay\",\"size\":10,\"solidity\":0.2}},\"type\":\"barpolar\"}],\"bar\":[{\"error_x\":{\"color\":\"#2a3f5f\"},\"error_y\":{\"color\":\"#2a3f5f\"},\"marker\":{\"line\":{\"color\":\"#E5ECF6\",\"width\":0.5},\"pattern\":{\"fillmode\":\"overlay\",\"size\":10,\"solidity\":0.2}},\"type\":\"bar\"}],\"carpet\":[{\"aaxis\":{\"endlinecolor\":\"#2a3f5f\",\"gridcolor\":\"white\",\"linecolor\":\"white\",\"minorgridcolor\":\"white\",\"startlinecolor\":\"#2a3f5f\"},\"baxis\":{\"endlinecolor\":\"#2a3f5f\",\"gridcolor\":\"white\",\"linecolor\":\"white\",\"minorgridcolor\":\"white\",\"startlinecolor\":\"#2a3f5f\"},\"type\":\"carpet\"}],\"choropleth\":[{\"colorbar\":{\"outlinewidth\":0,\"ticks\":\"\"},\"type\":\"choropleth\"}],\"contourcarpet\":[{\"colorbar\":{\"outlinewidth\":0,\"ticks\":\"\"},\"type\":\"contourcarpet\"}],\"contour\":[{\"colorbar\":{\"outlinewidth\":0,\"ticks\":\"\"},\"colorscale\":[[0.0,\"#0d0887\"],[0.1111111111111111,\"#46039f\"],[0.2222222222222222,\"#7201a8\"],[0.3333333333333333,\"#9c179e\"],[0.4444444444444444,\"#bd3786\"],[0.5555555555555556,\"#d8576b\"],[0.6666666666666666,\"#ed7953\"],[0.7777777777777778,\"#fb9f3a\"],[0.8888888888888888,\"#fdca26\"],[1.0,\"#f0f921\"]],\"type\":\"contour\"}],\"heatmapgl\":[{\"colorbar\":{\"outlinewidth\":0,\"ticks\":\"\"},\"colorscale\":[[0.0,\"#0d0887\"],[0.1111111111111111,\"#46039f\"],[0.2222222222222222,\"#7201a8\"],[0.3333333333333333,\"#9c179e\"],[0.4444444444444444,\"#bd3786\"],[0.5555555555555556,\"#d8576b\"],[0.6666666666666666,\"#ed7953\"],[0.7777777777777778,\"#fb9f3a\"],[0.8888888888888888,\"#fdca26\"],[1.0,\"#f0f921\"]],\"type\":\"heatmapgl\"}],\"heatmap\":[{\"colorbar\":{\"outlinewidth\":0,\"ticks\":\"\"},\"colorscale\":[[0.0,\"#0d0887\"],[0.1111111111111111,\"#46039f\"],[0.2222222222222222,\"#7201a8\"],[0.3333333333333333,\"#9c179e\"],[0.4444444444444444,\"#bd3786\"],[0.5555555555555556,\"#d8576b\"],[0.6666666666666666,\"#ed7953\"],[0.7777777777777778,\"#fb9f3a\"],[0.8888888888888888,\"#fdca26\"],[1.0,\"#f0f921\"]],\"type\":\"heatmap\"}],\"histogram2dcontour\":[{\"colorbar\":{\"outlinewidth\":0,\"ticks\":\"\"},\"colorscale\":[[0.0,\"#0d0887\"],[0.1111111111111111,\"#46039f\"],[0.2222222222222222,\"#7201a8\"],[0.3333333333333333,\"#9c179e\"],[0.4444444444444444,\"#bd3786\"],[0.5555555555555556,\"#d8576b\"],[0.6666666666666666,\"#ed7953\"],[0.7777777777777778,\"#fb9f3a\"],[0.8888888888888888,\"#fdca26\"],[1.0,\"#f0f921\"]],\"type\":\"histogram2dcontour\"}],\"histogram2d\":[{\"colorbar\":{\"outlinewidth\":0,\"ticks\":\"\"},\"colorscale\":[[0.0,\"#0d0887\"],[0.1111111111111111,\"#46039f\"],[0.2222222222222222,\"#7201a8\"],[0.3333333333333333,\"#9c179e\"],[0.4444444444444444,\"#bd3786\"],[0.5555555555555556,\"#d8576b\"],[0.6666666666666666,\"#ed7953\"],[0.7777777777777778,\"#fb9f3a\"],[0.8888888888888888,\"#fdca26\"],[1.0,\"#f0f921\"]],\"type\":\"histogram2d\"}],\"histogram\":[{\"marker\":{\"pattern\":{\"fillmode\":\"overlay\",\"size\":10,\"solidity\":0.2}},\"type\":\"histogram\"}],\"mesh3d\":[{\"colorbar\":{\"outlinewidth\":0,\"ticks\":\"\"},\"type\":\"mesh3d\"}],\"parcoords\":[{\"line\":{\"colorbar\":{\"outlinewidth\":0,\"ticks\":\"\"}},\"type\":\"parcoords\"}],\"pie\":[{\"automargin\":true,\"type\":\"pie\"}],\"scatter3d\":[{\"line\":{\"colorbar\":{\"outlinewidth\":0,\"ticks\":\"\"}},\"marker\":{\"colorbar\":{\"outlinewidth\":0,\"ticks\":\"\"}},\"type\":\"scatter3d\"}],\"scattercarpet\":[{\"marker\":{\"colorbar\":{\"outlinewidth\":0,\"ticks\":\"\"}},\"type\":\"scattercarpet\"}],\"scattergeo\":[{\"marker\":{\"colorbar\":{\"outlinewidth\":0,\"ticks\":\"\"}},\"type\":\"scattergeo\"}],\"scattergl\":[{\"marker\":{\"colorbar\":{\"outlinewidth\":0,\"ticks\":\"\"}},\"type\":\"scattergl\"}],\"scattermapbox\":[{\"marker\":{\"colorbar\":{\"outlinewidth\":0,\"ticks\":\"\"}},\"type\":\"scattermapbox\"}],\"scatterpolargl\":[{\"marker\":{\"colorbar\":{\"outlinewidth\":0,\"ticks\":\"\"}},\"type\":\"scatterpolargl\"}],\"scatterpolar\":[{\"marker\":{\"colorbar\":{\"outlinewidth\":0,\"ticks\":\"\"}},\"type\":\"scatterpolar\"}],\"scatter\":[{\"fillpattern\":{\"fillmode\":\"overlay\",\"size\":10,\"solidity\":0.2},\"type\":\"scatter\"}],\"scatterternary\":[{\"marker\":{\"colorbar\":{\"outlinewidth\":0,\"ticks\":\"\"}},\"type\":\"scatterternary\"}],\"surface\":[{\"colorbar\":{\"outlinewidth\":0,\"ticks\":\"\"},\"colorscale\":[[0.0,\"#0d0887\"],[0.1111111111111111,\"#46039f\"],[0.2222222222222222,\"#7201a8\"],[0.3333333333333333,\"#9c179e\"],[0.4444444444444444,\"#bd3786\"],[0.5555555555555556,\"#d8576b\"],[0.6666666666666666,\"#ed7953\"],[0.7777777777777778,\"#fb9f3a\"],[0.8888888888888888,\"#fdca26\"],[1.0,\"#f0f921\"]],\"type\":\"surface\"}],\"table\":[{\"cells\":{\"fill\":{\"color\":\"#EBF0F8\"},\"line\":{\"color\":\"white\"}},\"header\":{\"fill\":{\"color\":\"#C8D4E3\"},\"line\":{\"color\":\"white\"}},\"type\":\"table\"}]},\"layout\":{\"annotationdefaults\":{\"arrowcolor\":\"#2a3f5f\",\"arrowhead\":0,\"arrowwidth\":1},\"autotypenumbers\":\"strict\",\"coloraxis\":{\"colorbar\":{\"outlinewidth\":0,\"ticks\":\"\"}},\"colorscale\":{\"diverging\":[[0,\"#8e0152\"],[0.1,\"#c51b7d\"],[0.2,\"#de77ae\"],[0.3,\"#f1b6da\"],[0.4,\"#fde0ef\"],[0.5,\"#f7f7f7\"],[0.6,\"#e6f5d0\"],[0.7,\"#b8e186\"],[0.8,\"#7fbc41\"],[0.9,\"#4d9221\"],[1,\"#276419\"]],\"sequential\":[[0.0,\"#0d0887\"],[0.1111111111111111,\"#46039f\"],[0.2222222222222222,\"#7201a8\"],[0.3333333333333333,\"#9c179e\"],[0.4444444444444444,\"#bd3786\"],[0.5555555555555556,\"#d8576b\"],[0.6666666666666666,\"#ed7953\"],[0.7777777777777778,\"#fb9f3a\"],[0.8888888888888888,\"#fdca26\"],[1.0,\"#f0f921\"]],\"sequentialminus\":[[0.0,\"#0d0887\"],[0.1111111111111111,\"#46039f\"],[0.2222222222222222,\"#7201a8\"],[0.3333333333333333,\"#9c179e\"],[0.4444444444444444,\"#bd3786\"],[0.5555555555555556,\"#d8576b\"],[0.6666666666666666,\"#ed7953\"],[0.7777777777777778,\"#fb9f3a\"],[0.8888888888888888,\"#fdca26\"],[1.0,\"#f0f921\"]]},\"colorway\":[\"#636efa\",\"#EF553B\",\"#00cc96\",\"#ab63fa\",\"#FFA15A\",\"#19d3f3\",\"#FF6692\",\"#B6E880\",\"#FF97FF\",\"#FECB52\"],\"font\":{\"color\":\"#2a3f5f\"},\"geo\":{\"bgcolor\":\"white\",\"lakecolor\":\"white\",\"landcolor\":\"#E5ECF6\",\"showlakes\":true,\"showland\":true,\"subunitcolor\":\"white\"},\"hoverlabel\":{\"align\":\"left\"},\"hovermode\":\"closest\",\"mapbox\":{\"style\":\"light\"},\"paper_bgcolor\":\"white\",\"plot_bgcolor\":\"#E5ECF6\",\"polar\":{\"angularaxis\":{\"gridcolor\":\"white\",\"linecolor\":\"white\",\"ticks\":\"\"},\"bgcolor\":\"#E5ECF6\",\"radialaxis\":{\"gridcolor\":\"white\",\"linecolor\":\"white\",\"ticks\":\"\"}},\"scene\":{\"xaxis\":{\"backgroundcolor\":\"#E5ECF6\",\"gridcolor\":\"white\",\"gridwidth\":2,\"linecolor\":\"white\",\"showbackground\":true,\"ticks\":\"\",\"zerolinecolor\":\"white\"},\"yaxis\":{\"backgroundcolor\":\"#E5ECF6\",\"gridcolor\":\"white\",\"gridwidth\":2,\"linecolor\":\"white\",\"showbackground\":true,\"ticks\":\"\",\"zerolinecolor\":\"white\"},\"zaxis\":{\"backgroundcolor\":\"#E5ECF6\",\"gridcolor\":\"white\",\"gridwidth\":2,\"linecolor\":\"white\",\"showbackground\":true,\"ticks\":\"\",\"zerolinecolor\":\"white\"}},\"shapedefaults\":{\"line\":{\"color\":\"#2a3f5f\"}},\"ternary\":{\"aaxis\":{\"gridcolor\":\"white\",\"linecolor\":\"white\",\"ticks\":\"\"},\"baxis\":{\"gridcolor\":\"white\",\"linecolor\":\"white\",\"ticks\":\"\"},\"bgcolor\":\"#E5ECF6\",\"caxis\":{\"gridcolor\":\"white\",\"linecolor\":\"white\",\"ticks\":\"\"}},\"title\":{\"x\":0.05},\"xaxis\":{\"automargin\":true,\"gridcolor\":\"white\",\"linecolor\":\"white\",\"ticks\":\"\",\"title\":{\"standoff\":15},\"zerolinecolor\":\"white\",\"zerolinewidth\":2},\"yaxis\":{\"automargin\":true,\"gridcolor\":\"white\",\"linecolor\":\"white\",\"ticks\":\"\",\"title\":{\"standoff\":15},\"zerolinecolor\":\"white\",\"zerolinewidth\":2}}},\"title\":{\"font\":{\"color\":\"#4D5663\"}},\"xaxis\":{\"gridcolor\":\"#E1E5ED\",\"showgrid\":true,\"tickfont\":{\"color\":\"#4D5663\"},\"title\":{\"font\":{\"color\":\"#4D5663\"},\"text\":\"\"},\"zerolinecolor\":\"#E1E5ED\"},\"yaxis\":{\"gridcolor\":\"#E1E5ED\",\"showgrid\":true,\"tickfont\":{\"color\":\"#4D5663\"},\"title\":{\"font\":{\"color\":\"#4D5663\"},\"text\":\"\"},\"zerolinecolor\":\"#E1E5ED\"}},                        {\"showLink\": true, \"linkText\": \"Export to plot.ly\", \"plotlyServerURL\": \"https://plot.ly\", \"responsive\": true}                    ).then(function(){\n",
       "                            \n",
       "var gd = document.getElementById('547fadff-f696-4a16-a313-6232560978f7');\n",
       "var x = new MutationObserver(function (mutations, observer) {{\n",
       "        var display = window.getComputedStyle(gd).display;\n",
       "        if (!display || display === 'none') {{\n",
       "            console.log([gd, 'removed!']);\n",
       "            Plotly.purge(gd);\n",
       "            observer.disconnect();\n",
       "        }}\n",
       "}});\n",
       "\n",
       "// Listen for the removal of the full notebook cells\n",
       "var notebookContainer = gd.closest('#notebook-container');\n",
       "if (notebookContainer) {{\n",
       "    x.observe(notebookContainer, {childList: true});\n",
       "}}\n",
       "\n",
       "// Listen for the clearing of the current output cell\n",
       "var outputEl = gd.closest('.output');\n",
       "if (outputEl) {{\n",
       "    x.observe(outputEl, {childList: true});\n",
       "}}\n",
       "\n",
       "                        })                };                });            </script>        </div>"
      ]
     },
     "metadata": {},
     "output_type": "display_data"
    }
   ],
   "source": [
    "df.iplot(kind=\"scatter\",x='A', y='B')"
   ]
  },
  {
   "cell_type": "code",
   "execution_count": 16,
   "id": "b42a6ce6",
   "metadata": {
    "ExecuteTime": {
     "end_time": "2023-03-25T09:00:38.262770Z",
     "start_time": "2023-03-25T09:00:38.186593Z"
    }
   },
   "outputs": [
    {
     "data": {
      "application/vnd.plotly.v1+json": {
       "config": {
        "linkText": "Export to plot.ly",
        "plotlyServerURL": "https://plot.ly",
        "showLink": true
       },
       "data": [
        {
         "line": {
          "color": "rgba(255, 153, 51, 1.0)",
          "dash": "solid",
          "shape": "linear",
          "width": 1.3
         },
         "marker": {
          "size": 12,
          "symbol": "circle"
         },
         "mode": "markers",
         "name": "B",
         "text": "",
         "type": "scatter",
         "x": [
          -0.6185864777596235,
          -0.09549749996174815,
          0.7735155947714842,
          -1.9544208522009834,
          0.9321062993468145,
          0.36391957912219924,
          1.0222517106252103,
          0.21428349229504423,
          0.30155723927183736,
          -1.7737081556426644,
          -0.8813197097782401,
          -1.1833788622984094,
          1.0921030137803465,
          0.47150727733146436,
          -1.6539348028518632,
          -0.28566133680357586,
          1.6103067819704,
          -1.8417392372265438,
          0.039193584163302084,
          -0.6695950365093897,
          -0.7291227819448418,
          0.17384486693441867,
          1.5625067918950442,
          -2.118320960980159,
          -0.6478092575126989,
          -1.3354358976613383,
          -0.11900269907027594,
          1.8690436615397525,
          0.3602185862801853,
          0.954444106941083,
          -1.3426442266410488,
          -0.5861974838373313,
          -1.2776509648542993,
          -0.17202929225908314,
          -0.5899977906595941,
          1.3660735045819095,
          -1.096820738909289,
          0.09159655138384042,
          0.8669297839834728,
          0.11618036291092862,
          -0.1306793735655419,
          -1.409084507446096,
          -1.1458344122244621,
          -0.20695860339653058,
          -1.037860881063523,
          0.01958383190177941,
          1.877231153321232,
          -0.4861599541240264,
          0.2256221614426137,
          1.0191400317688684,
          -1.7994981450956142,
          -0.449892724101533,
          -1.7060329759096715,
          -0.7097216977459914,
          -0.8825995557308481,
          0.33962848154734276,
          0.20113285388190974,
          0.46035911247198713,
          0.7091683111522437,
          -1.2284387339475709,
          0.11445375532849965,
          -0.11410251539813779,
          -0.433581463941365,
          -0.1506692378419643,
          0.33482007756007925,
          -1.5145111918515755,
          0.570038479119206,
          -1.2112103535764067,
          -0.4029111539814335,
          -0.19348347413316772,
          -0.18662039060185484,
          -0.4020159349141075,
          -1.104221400696765,
          -0.7881037638705021,
          0.9624880966553944,
          0.8370910133274343,
          0.08064775753280434,
          0.4529394450193887,
          0.8144227765728742,
          -0.4139266273079406,
          -0.16045457024510903,
          0.11560583805022592,
          0.5018750969144258,
          -1.05549272187284,
          0.6646897400226129,
          0.7252518633264401,
          -0.8634744428274881,
          0.14526679817629318,
          0.5642348261932901,
          -0.5739339256594503,
          0.15846871036688384,
          0.5303216539889294,
          -0.4638919188417855,
          -2.653303499100419,
          0.30810942245492506,
          1.337533737637027,
          1.0885583937029353,
          -1.6447907309114553,
          0.6693410844821837,
          -0.023858538897312875
         ],
         "y": [
          -0.4592523817006714,
          1.614960731672855,
          -1.4206426925982674,
          1.1551454541846038,
          -0.34613058552962517,
          1.6624230716641488,
          -0.11554649598016219,
          -0.01851161969972325,
          0.09984663041486533,
          -2.043102167532454,
          -1.478451948264321,
          -0.2788843499486517,
          -0.1497492795430963,
          1.9533168820677445,
          -0.10989230038135865,
          0.31344790900193625,
          0.08678752237308349,
          -0.3990447395439932,
          -1.4424816562369789,
          -0.028981252459112657,
          -0.4160821900068768,
          -0.9024826500293118,
          -0.5208567006043135,
          0.37071150697915956,
          0.29340762940465925,
          -0.15303788800844492,
          -1.7013013838151183,
          -2.1032089257065056,
          0.01803007769576685,
          0.774085466469011,
          -0.0130218043338703,
          0.7479391896322369,
          0.7318773540406959,
          -1.800944110150754,
          1.4099248117758916,
          -1.5325103771876123,
          0.5782922057046384,
          0.3053398932705239,
          -0.06430529590814345,
          1.0236623980295185,
          0.6914789499794927,
          0.7371810656811424,
          2.606242974469369,
          -1.5007673763044456,
          -1.0420156920821377,
          0.046743919591023995,
          1.3154764187085386,
          -0.18591517662231646,
          0.7578452017067829,
          -1.1201103682918108,
          -1.4809656473238406,
          -1.932290152656959,
          0.5687456244608741,
          -2.183122855649209,
          -0.18703771863844015,
          0.38248194212075454,
          -1.4501529065420269,
          1.0649615189495414,
          -0.44540408458769665,
          -0.5991301447361154,
          0.608703902269564,
          0.4058260851185324,
          0.457400126610244,
          0.5464347317371752,
          -0.2577028738771836,
          -0.6222900815300759,
          0.04461153224918688,
          -2.447018762098259,
          -0.23888100490859634,
          0.08761509395317087,
          1.623124602304495,
          1.1845787037770144,
          0.5492856988758372,
          1.130595322987083,
          -1.8840243529998721,
          0.18955829582691278,
          1.6839930239683714,
          0.5334500493016082,
          1.8492431165364005,
          0.4549707177333402,
          0.6697077146222054,
          0.4085483537015883,
          -0.5082199635442869,
          0.3448252142610793,
          -0.9833076650745944,
          0.2228561564482779,
          1.314600834470803,
          0.5969614245184819,
          0.5615669274826204,
          -0.03580808061129372,
          0.2825263823615819,
          -2.104980414657762,
          -1.8480485079071858,
          -1.2798589824928985,
          -0.4685176982797968,
          1.3615871560013324,
          0.7947295589257131,
          -1.018205327768071,
          0.6838015779839137,
          -0.445118498396265
         ]
        }
       ],
       "layout": {
        "legend": {
         "bgcolor": "#F5F6F9",
         "font": {
          "color": "#4D5663"
         }
        },
        "paper_bgcolor": "#F5F6F9",
        "plot_bgcolor": "#F5F6F9",
        "template": {
         "data": {
          "bar": [
           {
            "error_x": {
             "color": "#2a3f5f"
            },
            "error_y": {
             "color": "#2a3f5f"
            },
            "marker": {
             "line": {
              "color": "#E5ECF6",
              "width": 0.5
             },
             "pattern": {
              "fillmode": "overlay",
              "size": 10,
              "solidity": 0.2
             }
            },
            "type": "bar"
           }
          ],
          "barpolar": [
           {
            "marker": {
             "line": {
              "color": "#E5ECF6",
              "width": 0.5
             },
             "pattern": {
              "fillmode": "overlay",
              "size": 10,
              "solidity": 0.2
             }
            },
            "type": "barpolar"
           }
          ],
          "carpet": [
           {
            "aaxis": {
             "endlinecolor": "#2a3f5f",
             "gridcolor": "white",
             "linecolor": "white",
             "minorgridcolor": "white",
             "startlinecolor": "#2a3f5f"
            },
            "baxis": {
             "endlinecolor": "#2a3f5f",
             "gridcolor": "white",
             "linecolor": "white",
             "minorgridcolor": "white",
             "startlinecolor": "#2a3f5f"
            },
            "type": "carpet"
           }
          ],
          "choropleth": [
           {
            "colorbar": {
             "outlinewidth": 0,
             "ticks": ""
            },
            "type": "choropleth"
           }
          ],
          "contour": [
           {
            "colorbar": {
             "outlinewidth": 0,
             "ticks": ""
            },
            "colorscale": [
             [
              0,
              "#0d0887"
             ],
             [
              0.1111111111111111,
              "#46039f"
             ],
             [
              0.2222222222222222,
              "#7201a8"
             ],
             [
              0.3333333333333333,
              "#9c179e"
             ],
             [
              0.4444444444444444,
              "#bd3786"
             ],
             [
              0.5555555555555556,
              "#d8576b"
             ],
             [
              0.6666666666666666,
              "#ed7953"
             ],
             [
              0.7777777777777778,
              "#fb9f3a"
             ],
             [
              0.8888888888888888,
              "#fdca26"
             ],
             [
              1,
              "#f0f921"
             ]
            ],
            "type": "contour"
           }
          ],
          "contourcarpet": [
           {
            "colorbar": {
             "outlinewidth": 0,
             "ticks": ""
            },
            "type": "contourcarpet"
           }
          ],
          "heatmap": [
           {
            "colorbar": {
             "outlinewidth": 0,
             "ticks": ""
            },
            "colorscale": [
             [
              0,
              "#0d0887"
             ],
             [
              0.1111111111111111,
              "#46039f"
             ],
             [
              0.2222222222222222,
              "#7201a8"
             ],
             [
              0.3333333333333333,
              "#9c179e"
             ],
             [
              0.4444444444444444,
              "#bd3786"
             ],
             [
              0.5555555555555556,
              "#d8576b"
             ],
             [
              0.6666666666666666,
              "#ed7953"
             ],
             [
              0.7777777777777778,
              "#fb9f3a"
             ],
             [
              0.8888888888888888,
              "#fdca26"
             ],
             [
              1,
              "#f0f921"
             ]
            ],
            "type": "heatmap"
           }
          ],
          "heatmapgl": [
           {
            "colorbar": {
             "outlinewidth": 0,
             "ticks": ""
            },
            "colorscale": [
             [
              0,
              "#0d0887"
             ],
             [
              0.1111111111111111,
              "#46039f"
             ],
             [
              0.2222222222222222,
              "#7201a8"
             ],
             [
              0.3333333333333333,
              "#9c179e"
             ],
             [
              0.4444444444444444,
              "#bd3786"
             ],
             [
              0.5555555555555556,
              "#d8576b"
             ],
             [
              0.6666666666666666,
              "#ed7953"
             ],
             [
              0.7777777777777778,
              "#fb9f3a"
             ],
             [
              0.8888888888888888,
              "#fdca26"
             ],
             [
              1,
              "#f0f921"
             ]
            ],
            "type": "heatmapgl"
           }
          ],
          "histogram": [
           {
            "marker": {
             "pattern": {
              "fillmode": "overlay",
              "size": 10,
              "solidity": 0.2
             }
            },
            "type": "histogram"
           }
          ],
          "histogram2d": [
           {
            "colorbar": {
             "outlinewidth": 0,
             "ticks": ""
            },
            "colorscale": [
             [
              0,
              "#0d0887"
             ],
             [
              0.1111111111111111,
              "#46039f"
             ],
             [
              0.2222222222222222,
              "#7201a8"
             ],
             [
              0.3333333333333333,
              "#9c179e"
             ],
             [
              0.4444444444444444,
              "#bd3786"
             ],
             [
              0.5555555555555556,
              "#d8576b"
             ],
             [
              0.6666666666666666,
              "#ed7953"
             ],
             [
              0.7777777777777778,
              "#fb9f3a"
             ],
             [
              0.8888888888888888,
              "#fdca26"
             ],
             [
              1,
              "#f0f921"
             ]
            ],
            "type": "histogram2d"
           }
          ],
          "histogram2dcontour": [
           {
            "colorbar": {
             "outlinewidth": 0,
             "ticks": ""
            },
            "colorscale": [
             [
              0,
              "#0d0887"
             ],
             [
              0.1111111111111111,
              "#46039f"
             ],
             [
              0.2222222222222222,
              "#7201a8"
             ],
             [
              0.3333333333333333,
              "#9c179e"
             ],
             [
              0.4444444444444444,
              "#bd3786"
             ],
             [
              0.5555555555555556,
              "#d8576b"
             ],
             [
              0.6666666666666666,
              "#ed7953"
             ],
             [
              0.7777777777777778,
              "#fb9f3a"
             ],
             [
              0.8888888888888888,
              "#fdca26"
             ],
             [
              1,
              "#f0f921"
             ]
            ],
            "type": "histogram2dcontour"
           }
          ],
          "mesh3d": [
           {
            "colorbar": {
             "outlinewidth": 0,
             "ticks": ""
            },
            "type": "mesh3d"
           }
          ],
          "parcoords": [
           {
            "line": {
             "colorbar": {
              "outlinewidth": 0,
              "ticks": ""
             }
            },
            "type": "parcoords"
           }
          ],
          "pie": [
           {
            "automargin": true,
            "type": "pie"
           }
          ],
          "scatter": [
           {
            "fillpattern": {
             "fillmode": "overlay",
             "size": 10,
             "solidity": 0.2
            },
            "type": "scatter"
           }
          ],
          "scatter3d": [
           {
            "line": {
             "colorbar": {
              "outlinewidth": 0,
              "ticks": ""
             }
            },
            "marker": {
             "colorbar": {
              "outlinewidth": 0,
              "ticks": ""
             }
            },
            "type": "scatter3d"
           }
          ],
          "scattercarpet": [
           {
            "marker": {
             "colorbar": {
              "outlinewidth": 0,
              "ticks": ""
             }
            },
            "type": "scattercarpet"
           }
          ],
          "scattergeo": [
           {
            "marker": {
             "colorbar": {
              "outlinewidth": 0,
              "ticks": ""
             }
            },
            "type": "scattergeo"
           }
          ],
          "scattergl": [
           {
            "marker": {
             "colorbar": {
              "outlinewidth": 0,
              "ticks": ""
             }
            },
            "type": "scattergl"
           }
          ],
          "scattermapbox": [
           {
            "marker": {
             "colorbar": {
              "outlinewidth": 0,
              "ticks": ""
             }
            },
            "type": "scattermapbox"
           }
          ],
          "scatterpolar": [
           {
            "marker": {
             "colorbar": {
              "outlinewidth": 0,
              "ticks": ""
             }
            },
            "type": "scatterpolar"
           }
          ],
          "scatterpolargl": [
           {
            "marker": {
             "colorbar": {
              "outlinewidth": 0,
              "ticks": ""
             }
            },
            "type": "scatterpolargl"
           }
          ],
          "scatterternary": [
           {
            "marker": {
             "colorbar": {
              "outlinewidth": 0,
              "ticks": ""
             }
            },
            "type": "scatterternary"
           }
          ],
          "surface": [
           {
            "colorbar": {
             "outlinewidth": 0,
             "ticks": ""
            },
            "colorscale": [
             [
              0,
              "#0d0887"
             ],
             [
              0.1111111111111111,
              "#46039f"
             ],
             [
              0.2222222222222222,
              "#7201a8"
             ],
             [
              0.3333333333333333,
              "#9c179e"
             ],
             [
              0.4444444444444444,
              "#bd3786"
             ],
             [
              0.5555555555555556,
              "#d8576b"
             ],
             [
              0.6666666666666666,
              "#ed7953"
             ],
             [
              0.7777777777777778,
              "#fb9f3a"
             ],
             [
              0.8888888888888888,
              "#fdca26"
             ],
             [
              1,
              "#f0f921"
             ]
            ],
            "type": "surface"
           }
          ],
          "table": [
           {
            "cells": {
             "fill": {
              "color": "#EBF0F8"
             },
             "line": {
              "color": "white"
             }
            },
            "header": {
             "fill": {
              "color": "#C8D4E3"
             },
             "line": {
              "color": "white"
             }
            },
            "type": "table"
           }
          ]
         },
         "layout": {
          "annotationdefaults": {
           "arrowcolor": "#2a3f5f",
           "arrowhead": 0,
           "arrowwidth": 1
          },
          "autotypenumbers": "strict",
          "coloraxis": {
           "colorbar": {
            "outlinewidth": 0,
            "ticks": ""
           }
          },
          "colorscale": {
           "diverging": [
            [
             0,
             "#8e0152"
            ],
            [
             0.1,
             "#c51b7d"
            ],
            [
             0.2,
             "#de77ae"
            ],
            [
             0.3,
             "#f1b6da"
            ],
            [
             0.4,
             "#fde0ef"
            ],
            [
             0.5,
             "#f7f7f7"
            ],
            [
             0.6,
             "#e6f5d0"
            ],
            [
             0.7,
             "#b8e186"
            ],
            [
             0.8,
             "#7fbc41"
            ],
            [
             0.9,
             "#4d9221"
            ],
            [
             1,
             "#276419"
            ]
           ],
           "sequential": [
            [
             0,
             "#0d0887"
            ],
            [
             0.1111111111111111,
             "#46039f"
            ],
            [
             0.2222222222222222,
             "#7201a8"
            ],
            [
             0.3333333333333333,
             "#9c179e"
            ],
            [
             0.4444444444444444,
             "#bd3786"
            ],
            [
             0.5555555555555556,
             "#d8576b"
            ],
            [
             0.6666666666666666,
             "#ed7953"
            ],
            [
             0.7777777777777778,
             "#fb9f3a"
            ],
            [
             0.8888888888888888,
             "#fdca26"
            ],
            [
             1,
             "#f0f921"
            ]
           ],
           "sequentialminus": [
            [
             0,
             "#0d0887"
            ],
            [
             0.1111111111111111,
             "#46039f"
            ],
            [
             0.2222222222222222,
             "#7201a8"
            ],
            [
             0.3333333333333333,
             "#9c179e"
            ],
            [
             0.4444444444444444,
             "#bd3786"
            ],
            [
             0.5555555555555556,
             "#d8576b"
            ],
            [
             0.6666666666666666,
             "#ed7953"
            ],
            [
             0.7777777777777778,
             "#fb9f3a"
            ],
            [
             0.8888888888888888,
             "#fdca26"
            ],
            [
             1,
             "#f0f921"
            ]
           ]
          },
          "colorway": [
           "#636efa",
           "#EF553B",
           "#00cc96",
           "#ab63fa",
           "#FFA15A",
           "#19d3f3",
           "#FF6692",
           "#B6E880",
           "#FF97FF",
           "#FECB52"
          ],
          "font": {
           "color": "#2a3f5f"
          },
          "geo": {
           "bgcolor": "white",
           "lakecolor": "white",
           "landcolor": "#E5ECF6",
           "showlakes": true,
           "showland": true,
           "subunitcolor": "white"
          },
          "hoverlabel": {
           "align": "left"
          },
          "hovermode": "closest",
          "mapbox": {
           "style": "light"
          },
          "paper_bgcolor": "white",
          "plot_bgcolor": "#E5ECF6",
          "polar": {
           "angularaxis": {
            "gridcolor": "white",
            "linecolor": "white",
            "ticks": ""
           },
           "bgcolor": "#E5ECF6",
           "radialaxis": {
            "gridcolor": "white",
            "linecolor": "white",
            "ticks": ""
           }
          },
          "scene": {
           "xaxis": {
            "backgroundcolor": "#E5ECF6",
            "gridcolor": "white",
            "gridwidth": 2,
            "linecolor": "white",
            "showbackground": true,
            "ticks": "",
            "zerolinecolor": "white"
           },
           "yaxis": {
            "backgroundcolor": "#E5ECF6",
            "gridcolor": "white",
            "gridwidth": 2,
            "linecolor": "white",
            "showbackground": true,
            "ticks": "",
            "zerolinecolor": "white"
           },
           "zaxis": {
            "backgroundcolor": "#E5ECF6",
            "gridcolor": "white",
            "gridwidth": 2,
            "linecolor": "white",
            "showbackground": true,
            "ticks": "",
            "zerolinecolor": "white"
           }
          },
          "shapedefaults": {
           "line": {
            "color": "#2a3f5f"
           }
          },
          "ternary": {
           "aaxis": {
            "gridcolor": "white",
            "linecolor": "white",
            "ticks": ""
           },
           "baxis": {
            "gridcolor": "white",
            "linecolor": "white",
            "ticks": ""
           },
           "bgcolor": "#E5ECF6",
           "caxis": {
            "gridcolor": "white",
            "linecolor": "white",
            "ticks": ""
           }
          },
          "title": {
           "x": 0.05
          },
          "xaxis": {
           "automargin": true,
           "gridcolor": "white",
           "linecolor": "white",
           "ticks": "",
           "title": {
            "standoff": 15
           },
           "zerolinecolor": "white",
           "zerolinewidth": 2
          },
          "yaxis": {
           "automargin": true,
           "gridcolor": "white",
           "linecolor": "white",
           "ticks": "",
           "title": {
            "standoff": 15
           },
           "zerolinecolor": "white",
           "zerolinewidth": 2
          }
         }
        },
        "title": {
         "font": {
          "color": "#4D5663"
         }
        },
        "xaxis": {
         "gridcolor": "#E1E5ED",
         "showgrid": true,
         "tickfont": {
          "color": "#4D5663"
         },
         "title": {
          "font": {
           "color": "#4D5663"
          },
          "text": ""
         },
         "zerolinecolor": "#E1E5ED"
        },
        "yaxis": {
         "gridcolor": "#E1E5ED",
         "showgrid": true,
         "tickfont": {
          "color": "#4D5663"
         },
         "title": {
          "font": {
           "color": "#4D5663"
          },
          "text": ""
         },
         "zerolinecolor": "#E1E5ED"
        }
       }
      },
      "text/html": [
       "<div>                            <div id=\"22a7de06-dca4-41f1-83fe-92239ef9169e\" class=\"plotly-graph-div\" style=\"height:525px; width:100%;\"></div>            <script type=\"text/javascript\">                require([\"plotly\"], function(Plotly) {                    window.PLOTLYENV=window.PLOTLYENV || {};\n",
       "                    window.PLOTLYENV.BASE_URL='https://plot.ly';                                    if (document.getElementById(\"22a7de06-dca4-41f1-83fe-92239ef9169e\")) {                    Plotly.newPlot(                        \"22a7de06-dca4-41f1-83fe-92239ef9169e\",                        [{\"line\":{\"color\":\"rgba(255, 153, 51, 1.0)\",\"dash\":\"solid\",\"shape\":\"linear\",\"width\":1.3},\"marker\":{\"size\":12,\"symbol\":\"circle\"},\"mode\":\"markers\",\"name\":\"B\",\"text\":\"\",\"x\":[-0.6185864777596235,-0.09549749996174815,0.7735155947714842,-1.9544208522009834,0.9321062993468145,0.36391957912219924,1.0222517106252103,0.21428349229504423,0.30155723927183736,-1.7737081556426644,-0.8813197097782401,-1.1833788622984094,1.0921030137803465,0.47150727733146436,-1.6539348028518632,-0.28566133680357586,1.6103067819704,-1.8417392372265438,0.039193584163302084,-0.6695950365093897,-0.7291227819448418,0.17384486693441867,1.5625067918950442,-2.118320960980159,-0.6478092575126989,-1.3354358976613383,-0.11900269907027594,1.8690436615397525,0.3602185862801853,0.954444106941083,-1.3426442266410488,-0.5861974838373313,-1.2776509648542993,-0.17202929225908314,-0.5899977906595941,1.3660735045819095,-1.096820738909289,0.09159655138384042,0.8669297839834728,0.11618036291092862,-0.1306793735655419,-1.409084507446096,-1.1458344122244621,-0.20695860339653058,-1.037860881063523,0.01958383190177941,1.877231153321232,-0.4861599541240264,0.2256221614426137,1.0191400317688684,-1.7994981450956142,-0.449892724101533,-1.7060329759096715,-0.7097216977459914,-0.8825995557308481,0.33962848154734276,0.20113285388190974,0.46035911247198713,0.7091683111522437,-1.2284387339475709,0.11445375532849965,-0.11410251539813779,-0.433581463941365,-0.1506692378419643,0.33482007756007925,-1.5145111918515755,0.570038479119206,-1.2112103535764067,-0.4029111539814335,-0.19348347413316772,-0.18662039060185484,-0.4020159349141075,-1.104221400696765,-0.7881037638705021,0.9624880966553944,0.8370910133274343,0.08064775753280434,0.4529394450193887,0.8144227765728742,-0.4139266273079406,-0.16045457024510903,0.11560583805022592,0.5018750969144258,-1.05549272187284,0.6646897400226129,0.7252518633264401,-0.8634744428274881,0.14526679817629318,0.5642348261932901,-0.5739339256594503,0.15846871036688384,0.5303216539889294,-0.4638919188417855,-2.653303499100419,0.30810942245492506,1.337533737637027,1.0885583937029353,-1.6447907309114553,0.6693410844821837,-0.023858538897312875],\"y\":[-0.4592523817006714,1.614960731672855,-1.4206426925982674,1.1551454541846038,-0.34613058552962517,1.6624230716641488,-0.11554649598016219,-0.01851161969972325,0.09984663041486533,-2.043102167532454,-1.478451948264321,-0.2788843499486517,-0.1497492795430963,1.9533168820677445,-0.10989230038135865,0.31344790900193625,0.08678752237308349,-0.3990447395439932,-1.4424816562369789,-0.028981252459112657,-0.4160821900068768,-0.9024826500293118,-0.5208567006043135,0.37071150697915956,0.29340762940465925,-0.15303788800844492,-1.7013013838151183,-2.1032089257065056,0.01803007769576685,0.774085466469011,-0.0130218043338703,0.7479391896322369,0.7318773540406959,-1.800944110150754,1.4099248117758916,-1.5325103771876123,0.5782922057046384,0.3053398932705239,-0.06430529590814345,1.0236623980295185,0.6914789499794927,0.7371810656811424,2.606242974469369,-1.5007673763044456,-1.0420156920821377,0.046743919591023995,1.3154764187085386,-0.18591517662231646,0.7578452017067829,-1.1201103682918108,-1.4809656473238406,-1.932290152656959,0.5687456244608741,-2.183122855649209,-0.18703771863844015,0.38248194212075454,-1.4501529065420269,1.0649615189495414,-0.44540408458769665,-0.5991301447361154,0.608703902269564,0.4058260851185324,0.457400126610244,0.5464347317371752,-0.2577028738771836,-0.6222900815300759,0.04461153224918688,-2.447018762098259,-0.23888100490859634,0.08761509395317087,1.623124602304495,1.1845787037770144,0.5492856988758372,1.130595322987083,-1.8840243529998721,0.18955829582691278,1.6839930239683714,0.5334500493016082,1.8492431165364005,0.4549707177333402,0.6697077146222054,0.4085483537015883,-0.5082199635442869,0.3448252142610793,-0.9833076650745944,0.2228561564482779,1.314600834470803,0.5969614245184819,0.5615669274826204,-0.03580808061129372,0.2825263823615819,-2.104980414657762,-1.8480485079071858,-1.2798589824928985,-0.4685176982797968,1.3615871560013324,0.7947295589257131,-1.018205327768071,0.6838015779839137,-0.445118498396265],\"type\":\"scatter\"}],                        {\"legend\":{\"bgcolor\":\"#F5F6F9\",\"font\":{\"color\":\"#4D5663\"}},\"paper_bgcolor\":\"#F5F6F9\",\"plot_bgcolor\":\"#F5F6F9\",\"template\":{\"data\":{\"barpolar\":[{\"marker\":{\"line\":{\"color\":\"#E5ECF6\",\"width\":0.5},\"pattern\":{\"fillmode\":\"overlay\",\"size\":10,\"solidity\":0.2}},\"type\":\"barpolar\"}],\"bar\":[{\"error_x\":{\"color\":\"#2a3f5f\"},\"error_y\":{\"color\":\"#2a3f5f\"},\"marker\":{\"line\":{\"color\":\"#E5ECF6\",\"width\":0.5},\"pattern\":{\"fillmode\":\"overlay\",\"size\":10,\"solidity\":0.2}},\"type\":\"bar\"}],\"carpet\":[{\"aaxis\":{\"endlinecolor\":\"#2a3f5f\",\"gridcolor\":\"white\",\"linecolor\":\"white\",\"minorgridcolor\":\"white\",\"startlinecolor\":\"#2a3f5f\"},\"baxis\":{\"endlinecolor\":\"#2a3f5f\",\"gridcolor\":\"white\",\"linecolor\":\"white\",\"minorgridcolor\":\"white\",\"startlinecolor\":\"#2a3f5f\"},\"type\":\"carpet\"}],\"choropleth\":[{\"colorbar\":{\"outlinewidth\":0,\"ticks\":\"\"},\"type\":\"choropleth\"}],\"contourcarpet\":[{\"colorbar\":{\"outlinewidth\":0,\"ticks\":\"\"},\"type\":\"contourcarpet\"}],\"contour\":[{\"colorbar\":{\"outlinewidth\":0,\"ticks\":\"\"},\"colorscale\":[[0.0,\"#0d0887\"],[0.1111111111111111,\"#46039f\"],[0.2222222222222222,\"#7201a8\"],[0.3333333333333333,\"#9c179e\"],[0.4444444444444444,\"#bd3786\"],[0.5555555555555556,\"#d8576b\"],[0.6666666666666666,\"#ed7953\"],[0.7777777777777778,\"#fb9f3a\"],[0.8888888888888888,\"#fdca26\"],[1.0,\"#f0f921\"]],\"type\":\"contour\"}],\"heatmapgl\":[{\"colorbar\":{\"outlinewidth\":0,\"ticks\":\"\"},\"colorscale\":[[0.0,\"#0d0887\"],[0.1111111111111111,\"#46039f\"],[0.2222222222222222,\"#7201a8\"],[0.3333333333333333,\"#9c179e\"],[0.4444444444444444,\"#bd3786\"],[0.5555555555555556,\"#d8576b\"],[0.6666666666666666,\"#ed7953\"],[0.7777777777777778,\"#fb9f3a\"],[0.8888888888888888,\"#fdca26\"],[1.0,\"#f0f921\"]],\"type\":\"heatmapgl\"}],\"heatmap\":[{\"colorbar\":{\"outlinewidth\":0,\"ticks\":\"\"},\"colorscale\":[[0.0,\"#0d0887\"],[0.1111111111111111,\"#46039f\"],[0.2222222222222222,\"#7201a8\"],[0.3333333333333333,\"#9c179e\"],[0.4444444444444444,\"#bd3786\"],[0.5555555555555556,\"#d8576b\"],[0.6666666666666666,\"#ed7953\"],[0.7777777777777778,\"#fb9f3a\"],[0.8888888888888888,\"#fdca26\"],[1.0,\"#f0f921\"]],\"type\":\"heatmap\"}],\"histogram2dcontour\":[{\"colorbar\":{\"outlinewidth\":0,\"ticks\":\"\"},\"colorscale\":[[0.0,\"#0d0887\"],[0.1111111111111111,\"#46039f\"],[0.2222222222222222,\"#7201a8\"],[0.3333333333333333,\"#9c179e\"],[0.4444444444444444,\"#bd3786\"],[0.5555555555555556,\"#d8576b\"],[0.6666666666666666,\"#ed7953\"],[0.7777777777777778,\"#fb9f3a\"],[0.8888888888888888,\"#fdca26\"],[1.0,\"#f0f921\"]],\"type\":\"histogram2dcontour\"}],\"histogram2d\":[{\"colorbar\":{\"outlinewidth\":0,\"ticks\":\"\"},\"colorscale\":[[0.0,\"#0d0887\"],[0.1111111111111111,\"#46039f\"],[0.2222222222222222,\"#7201a8\"],[0.3333333333333333,\"#9c179e\"],[0.4444444444444444,\"#bd3786\"],[0.5555555555555556,\"#d8576b\"],[0.6666666666666666,\"#ed7953\"],[0.7777777777777778,\"#fb9f3a\"],[0.8888888888888888,\"#fdca26\"],[1.0,\"#f0f921\"]],\"type\":\"histogram2d\"}],\"histogram\":[{\"marker\":{\"pattern\":{\"fillmode\":\"overlay\",\"size\":10,\"solidity\":0.2}},\"type\":\"histogram\"}],\"mesh3d\":[{\"colorbar\":{\"outlinewidth\":0,\"ticks\":\"\"},\"type\":\"mesh3d\"}],\"parcoords\":[{\"line\":{\"colorbar\":{\"outlinewidth\":0,\"ticks\":\"\"}},\"type\":\"parcoords\"}],\"pie\":[{\"automargin\":true,\"type\":\"pie\"}],\"scatter3d\":[{\"line\":{\"colorbar\":{\"outlinewidth\":0,\"ticks\":\"\"}},\"marker\":{\"colorbar\":{\"outlinewidth\":0,\"ticks\":\"\"}},\"type\":\"scatter3d\"}],\"scattercarpet\":[{\"marker\":{\"colorbar\":{\"outlinewidth\":0,\"ticks\":\"\"}},\"type\":\"scattercarpet\"}],\"scattergeo\":[{\"marker\":{\"colorbar\":{\"outlinewidth\":0,\"ticks\":\"\"}},\"type\":\"scattergeo\"}],\"scattergl\":[{\"marker\":{\"colorbar\":{\"outlinewidth\":0,\"ticks\":\"\"}},\"type\":\"scattergl\"}],\"scattermapbox\":[{\"marker\":{\"colorbar\":{\"outlinewidth\":0,\"ticks\":\"\"}},\"type\":\"scattermapbox\"}],\"scatterpolargl\":[{\"marker\":{\"colorbar\":{\"outlinewidth\":0,\"ticks\":\"\"}},\"type\":\"scatterpolargl\"}],\"scatterpolar\":[{\"marker\":{\"colorbar\":{\"outlinewidth\":0,\"ticks\":\"\"}},\"type\":\"scatterpolar\"}],\"scatter\":[{\"fillpattern\":{\"fillmode\":\"overlay\",\"size\":10,\"solidity\":0.2},\"type\":\"scatter\"}],\"scatterternary\":[{\"marker\":{\"colorbar\":{\"outlinewidth\":0,\"ticks\":\"\"}},\"type\":\"scatterternary\"}],\"surface\":[{\"colorbar\":{\"outlinewidth\":0,\"ticks\":\"\"},\"colorscale\":[[0.0,\"#0d0887\"],[0.1111111111111111,\"#46039f\"],[0.2222222222222222,\"#7201a8\"],[0.3333333333333333,\"#9c179e\"],[0.4444444444444444,\"#bd3786\"],[0.5555555555555556,\"#d8576b\"],[0.6666666666666666,\"#ed7953\"],[0.7777777777777778,\"#fb9f3a\"],[0.8888888888888888,\"#fdca26\"],[1.0,\"#f0f921\"]],\"type\":\"surface\"}],\"table\":[{\"cells\":{\"fill\":{\"color\":\"#EBF0F8\"},\"line\":{\"color\":\"white\"}},\"header\":{\"fill\":{\"color\":\"#C8D4E3\"},\"line\":{\"color\":\"white\"}},\"type\":\"table\"}]},\"layout\":{\"annotationdefaults\":{\"arrowcolor\":\"#2a3f5f\",\"arrowhead\":0,\"arrowwidth\":1},\"autotypenumbers\":\"strict\",\"coloraxis\":{\"colorbar\":{\"outlinewidth\":0,\"ticks\":\"\"}},\"colorscale\":{\"diverging\":[[0,\"#8e0152\"],[0.1,\"#c51b7d\"],[0.2,\"#de77ae\"],[0.3,\"#f1b6da\"],[0.4,\"#fde0ef\"],[0.5,\"#f7f7f7\"],[0.6,\"#e6f5d0\"],[0.7,\"#b8e186\"],[0.8,\"#7fbc41\"],[0.9,\"#4d9221\"],[1,\"#276419\"]],\"sequential\":[[0.0,\"#0d0887\"],[0.1111111111111111,\"#46039f\"],[0.2222222222222222,\"#7201a8\"],[0.3333333333333333,\"#9c179e\"],[0.4444444444444444,\"#bd3786\"],[0.5555555555555556,\"#d8576b\"],[0.6666666666666666,\"#ed7953\"],[0.7777777777777778,\"#fb9f3a\"],[0.8888888888888888,\"#fdca26\"],[1.0,\"#f0f921\"]],\"sequentialminus\":[[0.0,\"#0d0887\"],[0.1111111111111111,\"#46039f\"],[0.2222222222222222,\"#7201a8\"],[0.3333333333333333,\"#9c179e\"],[0.4444444444444444,\"#bd3786\"],[0.5555555555555556,\"#d8576b\"],[0.6666666666666666,\"#ed7953\"],[0.7777777777777778,\"#fb9f3a\"],[0.8888888888888888,\"#fdca26\"],[1.0,\"#f0f921\"]]},\"colorway\":[\"#636efa\",\"#EF553B\",\"#00cc96\",\"#ab63fa\",\"#FFA15A\",\"#19d3f3\",\"#FF6692\",\"#B6E880\",\"#FF97FF\",\"#FECB52\"],\"font\":{\"color\":\"#2a3f5f\"},\"geo\":{\"bgcolor\":\"white\",\"lakecolor\":\"white\",\"landcolor\":\"#E5ECF6\",\"showlakes\":true,\"showland\":true,\"subunitcolor\":\"white\"},\"hoverlabel\":{\"align\":\"left\"},\"hovermode\":\"closest\",\"mapbox\":{\"style\":\"light\"},\"paper_bgcolor\":\"white\",\"plot_bgcolor\":\"#E5ECF6\",\"polar\":{\"angularaxis\":{\"gridcolor\":\"white\",\"linecolor\":\"white\",\"ticks\":\"\"},\"bgcolor\":\"#E5ECF6\",\"radialaxis\":{\"gridcolor\":\"white\",\"linecolor\":\"white\",\"ticks\":\"\"}},\"scene\":{\"xaxis\":{\"backgroundcolor\":\"#E5ECF6\",\"gridcolor\":\"white\",\"gridwidth\":2,\"linecolor\":\"white\",\"showbackground\":true,\"ticks\":\"\",\"zerolinecolor\":\"white\"},\"yaxis\":{\"backgroundcolor\":\"#E5ECF6\",\"gridcolor\":\"white\",\"gridwidth\":2,\"linecolor\":\"white\",\"showbackground\":true,\"ticks\":\"\",\"zerolinecolor\":\"white\"},\"zaxis\":{\"backgroundcolor\":\"#E5ECF6\",\"gridcolor\":\"white\",\"gridwidth\":2,\"linecolor\":\"white\",\"showbackground\":true,\"ticks\":\"\",\"zerolinecolor\":\"white\"}},\"shapedefaults\":{\"line\":{\"color\":\"#2a3f5f\"}},\"ternary\":{\"aaxis\":{\"gridcolor\":\"white\",\"linecolor\":\"white\",\"ticks\":\"\"},\"baxis\":{\"gridcolor\":\"white\",\"linecolor\":\"white\",\"ticks\":\"\"},\"bgcolor\":\"#E5ECF6\",\"caxis\":{\"gridcolor\":\"white\",\"linecolor\":\"white\",\"ticks\":\"\"}},\"title\":{\"x\":0.05},\"xaxis\":{\"automargin\":true,\"gridcolor\":\"white\",\"linecolor\":\"white\",\"ticks\":\"\",\"title\":{\"standoff\":15},\"zerolinecolor\":\"white\",\"zerolinewidth\":2},\"yaxis\":{\"automargin\":true,\"gridcolor\":\"white\",\"linecolor\":\"white\",\"ticks\":\"\",\"title\":{\"standoff\":15},\"zerolinecolor\":\"white\",\"zerolinewidth\":2}}},\"title\":{\"font\":{\"color\":\"#4D5663\"}},\"xaxis\":{\"gridcolor\":\"#E1E5ED\",\"showgrid\":true,\"tickfont\":{\"color\":\"#4D5663\"},\"title\":{\"font\":{\"color\":\"#4D5663\"},\"text\":\"\"},\"zerolinecolor\":\"#E1E5ED\"},\"yaxis\":{\"gridcolor\":\"#E1E5ED\",\"showgrid\":true,\"tickfont\":{\"color\":\"#4D5663\"},\"title\":{\"font\":{\"color\":\"#4D5663\"},\"text\":\"\"},\"zerolinecolor\":\"#E1E5ED\"}},                        {\"showLink\": true, \"linkText\": \"Export to plot.ly\", \"plotlyServerURL\": \"https://plot.ly\", \"responsive\": true}                    ).then(function(){\n",
       "                            \n",
       "var gd = document.getElementById('22a7de06-dca4-41f1-83fe-92239ef9169e');\n",
       "var x = new MutationObserver(function (mutations, observer) {{\n",
       "        var display = window.getComputedStyle(gd).display;\n",
       "        if (!display || display === 'none') {{\n",
       "            console.log([gd, 'removed!']);\n",
       "            Plotly.purge(gd);\n",
       "            observer.disconnect();\n",
       "        }}\n",
       "}});\n",
       "\n",
       "// Listen for the removal of the full notebook cells\n",
       "var notebookContainer = gd.closest('#notebook-container');\n",
       "if (notebookContainer) {{\n",
       "    x.observe(notebookContainer, {childList: true});\n",
       "}}\n",
       "\n",
       "// Listen for the clearing of the current output cell\n",
       "var outputEl = gd.closest('.output');\n",
       "if (outputEl) {{\n",
       "    x.observe(outputEl, {childList: true});\n",
       "}}\n",
       "\n",
       "                        })                };                });            </script>        </div>"
      ]
     },
     "metadata": {},
     "output_type": "display_data"
    }
   ],
   "source": [
    "df.iplot(kind=\"scatter\",x='A', y='B', mode='markers')"
   ]
  },
  {
   "cell_type": "code",
   "execution_count": 17,
   "id": "c8a353f5",
   "metadata": {
    "ExecuteTime": {
     "end_time": "2023-03-25T09:00:38.339582Z",
     "start_time": "2023-03-25T09:00:38.265769Z"
    }
   },
   "outputs": [
    {
     "data": {
      "application/vnd.plotly.v1+json": {
       "config": {
        "linkText": "Export to plot.ly",
        "plotlyServerURL": "https://plot.ly",
        "showLink": true
       },
       "data": [
        {
         "line": {
          "color": "rgba(255, 153, 51, 1.0)",
          "dash": "solid",
          "shape": "linear",
          "width": 1.3
         },
         "marker": {
          "size": 20,
          "symbol": "circle"
         },
         "mode": "markers",
         "name": "B",
         "text": "",
         "type": "scatter",
         "x": [
          -0.6185864777596235,
          -0.09549749996174815,
          0.7735155947714842,
          -1.9544208522009834,
          0.9321062993468145,
          0.36391957912219924,
          1.0222517106252103,
          0.21428349229504423,
          0.30155723927183736,
          -1.7737081556426644,
          -0.8813197097782401,
          -1.1833788622984094,
          1.0921030137803465,
          0.47150727733146436,
          -1.6539348028518632,
          -0.28566133680357586,
          1.6103067819704,
          -1.8417392372265438,
          0.039193584163302084,
          -0.6695950365093897,
          -0.7291227819448418,
          0.17384486693441867,
          1.5625067918950442,
          -2.118320960980159,
          -0.6478092575126989,
          -1.3354358976613383,
          -0.11900269907027594,
          1.8690436615397525,
          0.3602185862801853,
          0.954444106941083,
          -1.3426442266410488,
          -0.5861974838373313,
          -1.2776509648542993,
          -0.17202929225908314,
          -0.5899977906595941,
          1.3660735045819095,
          -1.096820738909289,
          0.09159655138384042,
          0.8669297839834728,
          0.11618036291092862,
          -0.1306793735655419,
          -1.409084507446096,
          -1.1458344122244621,
          -0.20695860339653058,
          -1.037860881063523,
          0.01958383190177941,
          1.877231153321232,
          -0.4861599541240264,
          0.2256221614426137,
          1.0191400317688684,
          -1.7994981450956142,
          -0.449892724101533,
          -1.7060329759096715,
          -0.7097216977459914,
          -0.8825995557308481,
          0.33962848154734276,
          0.20113285388190974,
          0.46035911247198713,
          0.7091683111522437,
          -1.2284387339475709,
          0.11445375532849965,
          -0.11410251539813779,
          -0.433581463941365,
          -0.1506692378419643,
          0.33482007756007925,
          -1.5145111918515755,
          0.570038479119206,
          -1.2112103535764067,
          -0.4029111539814335,
          -0.19348347413316772,
          -0.18662039060185484,
          -0.4020159349141075,
          -1.104221400696765,
          -0.7881037638705021,
          0.9624880966553944,
          0.8370910133274343,
          0.08064775753280434,
          0.4529394450193887,
          0.8144227765728742,
          -0.4139266273079406,
          -0.16045457024510903,
          0.11560583805022592,
          0.5018750969144258,
          -1.05549272187284,
          0.6646897400226129,
          0.7252518633264401,
          -0.8634744428274881,
          0.14526679817629318,
          0.5642348261932901,
          -0.5739339256594503,
          0.15846871036688384,
          0.5303216539889294,
          -0.4638919188417855,
          -2.653303499100419,
          0.30810942245492506,
          1.337533737637027,
          1.0885583937029353,
          -1.6447907309114553,
          0.6693410844821837,
          -0.023858538897312875
         ],
         "y": [
          -0.4592523817006714,
          1.614960731672855,
          -1.4206426925982674,
          1.1551454541846038,
          -0.34613058552962517,
          1.6624230716641488,
          -0.11554649598016219,
          -0.01851161969972325,
          0.09984663041486533,
          -2.043102167532454,
          -1.478451948264321,
          -0.2788843499486517,
          -0.1497492795430963,
          1.9533168820677445,
          -0.10989230038135865,
          0.31344790900193625,
          0.08678752237308349,
          -0.3990447395439932,
          -1.4424816562369789,
          -0.028981252459112657,
          -0.4160821900068768,
          -0.9024826500293118,
          -0.5208567006043135,
          0.37071150697915956,
          0.29340762940465925,
          -0.15303788800844492,
          -1.7013013838151183,
          -2.1032089257065056,
          0.01803007769576685,
          0.774085466469011,
          -0.0130218043338703,
          0.7479391896322369,
          0.7318773540406959,
          -1.800944110150754,
          1.4099248117758916,
          -1.5325103771876123,
          0.5782922057046384,
          0.3053398932705239,
          -0.06430529590814345,
          1.0236623980295185,
          0.6914789499794927,
          0.7371810656811424,
          2.606242974469369,
          -1.5007673763044456,
          -1.0420156920821377,
          0.046743919591023995,
          1.3154764187085386,
          -0.18591517662231646,
          0.7578452017067829,
          -1.1201103682918108,
          -1.4809656473238406,
          -1.932290152656959,
          0.5687456244608741,
          -2.183122855649209,
          -0.18703771863844015,
          0.38248194212075454,
          -1.4501529065420269,
          1.0649615189495414,
          -0.44540408458769665,
          -0.5991301447361154,
          0.608703902269564,
          0.4058260851185324,
          0.457400126610244,
          0.5464347317371752,
          -0.2577028738771836,
          -0.6222900815300759,
          0.04461153224918688,
          -2.447018762098259,
          -0.23888100490859634,
          0.08761509395317087,
          1.623124602304495,
          1.1845787037770144,
          0.5492856988758372,
          1.130595322987083,
          -1.8840243529998721,
          0.18955829582691278,
          1.6839930239683714,
          0.5334500493016082,
          1.8492431165364005,
          0.4549707177333402,
          0.6697077146222054,
          0.4085483537015883,
          -0.5082199635442869,
          0.3448252142610793,
          -0.9833076650745944,
          0.2228561564482779,
          1.314600834470803,
          0.5969614245184819,
          0.5615669274826204,
          -0.03580808061129372,
          0.2825263823615819,
          -2.104980414657762,
          -1.8480485079071858,
          -1.2798589824928985,
          -0.4685176982797968,
          1.3615871560013324,
          0.7947295589257131,
          -1.018205327768071,
          0.6838015779839137,
          -0.445118498396265
         ]
        }
       ],
       "layout": {
        "legend": {
         "bgcolor": "#F5F6F9",
         "font": {
          "color": "#4D5663"
         }
        },
        "paper_bgcolor": "#F5F6F9",
        "plot_bgcolor": "#F5F6F9",
        "template": {
         "data": {
          "bar": [
           {
            "error_x": {
             "color": "#2a3f5f"
            },
            "error_y": {
             "color": "#2a3f5f"
            },
            "marker": {
             "line": {
              "color": "#E5ECF6",
              "width": 0.5
             },
             "pattern": {
              "fillmode": "overlay",
              "size": 10,
              "solidity": 0.2
             }
            },
            "type": "bar"
           }
          ],
          "barpolar": [
           {
            "marker": {
             "line": {
              "color": "#E5ECF6",
              "width": 0.5
             },
             "pattern": {
              "fillmode": "overlay",
              "size": 10,
              "solidity": 0.2
             }
            },
            "type": "barpolar"
           }
          ],
          "carpet": [
           {
            "aaxis": {
             "endlinecolor": "#2a3f5f",
             "gridcolor": "white",
             "linecolor": "white",
             "minorgridcolor": "white",
             "startlinecolor": "#2a3f5f"
            },
            "baxis": {
             "endlinecolor": "#2a3f5f",
             "gridcolor": "white",
             "linecolor": "white",
             "minorgridcolor": "white",
             "startlinecolor": "#2a3f5f"
            },
            "type": "carpet"
           }
          ],
          "choropleth": [
           {
            "colorbar": {
             "outlinewidth": 0,
             "ticks": ""
            },
            "type": "choropleth"
           }
          ],
          "contour": [
           {
            "colorbar": {
             "outlinewidth": 0,
             "ticks": ""
            },
            "colorscale": [
             [
              0,
              "#0d0887"
             ],
             [
              0.1111111111111111,
              "#46039f"
             ],
             [
              0.2222222222222222,
              "#7201a8"
             ],
             [
              0.3333333333333333,
              "#9c179e"
             ],
             [
              0.4444444444444444,
              "#bd3786"
             ],
             [
              0.5555555555555556,
              "#d8576b"
             ],
             [
              0.6666666666666666,
              "#ed7953"
             ],
             [
              0.7777777777777778,
              "#fb9f3a"
             ],
             [
              0.8888888888888888,
              "#fdca26"
             ],
             [
              1,
              "#f0f921"
             ]
            ],
            "type": "contour"
           }
          ],
          "contourcarpet": [
           {
            "colorbar": {
             "outlinewidth": 0,
             "ticks": ""
            },
            "type": "contourcarpet"
           }
          ],
          "heatmap": [
           {
            "colorbar": {
             "outlinewidth": 0,
             "ticks": ""
            },
            "colorscale": [
             [
              0,
              "#0d0887"
             ],
             [
              0.1111111111111111,
              "#46039f"
             ],
             [
              0.2222222222222222,
              "#7201a8"
             ],
             [
              0.3333333333333333,
              "#9c179e"
             ],
             [
              0.4444444444444444,
              "#bd3786"
             ],
             [
              0.5555555555555556,
              "#d8576b"
             ],
             [
              0.6666666666666666,
              "#ed7953"
             ],
             [
              0.7777777777777778,
              "#fb9f3a"
             ],
             [
              0.8888888888888888,
              "#fdca26"
             ],
             [
              1,
              "#f0f921"
             ]
            ],
            "type": "heatmap"
           }
          ],
          "heatmapgl": [
           {
            "colorbar": {
             "outlinewidth": 0,
             "ticks": ""
            },
            "colorscale": [
             [
              0,
              "#0d0887"
             ],
             [
              0.1111111111111111,
              "#46039f"
             ],
             [
              0.2222222222222222,
              "#7201a8"
             ],
             [
              0.3333333333333333,
              "#9c179e"
             ],
             [
              0.4444444444444444,
              "#bd3786"
             ],
             [
              0.5555555555555556,
              "#d8576b"
             ],
             [
              0.6666666666666666,
              "#ed7953"
             ],
             [
              0.7777777777777778,
              "#fb9f3a"
             ],
             [
              0.8888888888888888,
              "#fdca26"
             ],
             [
              1,
              "#f0f921"
             ]
            ],
            "type": "heatmapgl"
           }
          ],
          "histogram": [
           {
            "marker": {
             "pattern": {
              "fillmode": "overlay",
              "size": 10,
              "solidity": 0.2
             }
            },
            "type": "histogram"
           }
          ],
          "histogram2d": [
           {
            "colorbar": {
             "outlinewidth": 0,
             "ticks": ""
            },
            "colorscale": [
             [
              0,
              "#0d0887"
             ],
             [
              0.1111111111111111,
              "#46039f"
             ],
             [
              0.2222222222222222,
              "#7201a8"
             ],
             [
              0.3333333333333333,
              "#9c179e"
             ],
             [
              0.4444444444444444,
              "#bd3786"
             ],
             [
              0.5555555555555556,
              "#d8576b"
             ],
             [
              0.6666666666666666,
              "#ed7953"
             ],
             [
              0.7777777777777778,
              "#fb9f3a"
             ],
             [
              0.8888888888888888,
              "#fdca26"
             ],
             [
              1,
              "#f0f921"
             ]
            ],
            "type": "histogram2d"
           }
          ],
          "histogram2dcontour": [
           {
            "colorbar": {
             "outlinewidth": 0,
             "ticks": ""
            },
            "colorscale": [
             [
              0,
              "#0d0887"
             ],
             [
              0.1111111111111111,
              "#46039f"
             ],
             [
              0.2222222222222222,
              "#7201a8"
             ],
             [
              0.3333333333333333,
              "#9c179e"
             ],
             [
              0.4444444444444444,
              "#bd3786"
             ],
             [
              0.5555555555555556,
              "#d8576b"
             ],
             [
              0.6666666666666666,
              "#ed7953"
             ],
             [
              0.7777777777777778,
              "#fb9f3a"
             ],
             [
              0.8888888888888888,
              "#fdca26"
             ],
             [
              1,
              "#f0f921"
             ]
            ],
            "type": "histogram2dcontour"
           }
          ],
          "mesh3d": [
           {
            "colorbar": {
             "outlinewidth": 0,
             "ticks": ""
            },
            "type": "mesh3d"
           }
          ],
          "parcoords": [
           {
            "line": {
             "colorbar": {
              "outlinewidth": 0,
              "ticks": ""
             }
            },
            "type": "parcoords"
           }
          ],
          "pie": [
           {
            "automargin": true,
            "type": "pie"
           }
          ],
          "scatter": [
           {
            "fillpattern": {
             "fillmode": "overlay",
             "size": 10,
             "solidity": 0.2
            },
            "type": "scatter"
           }
          ],
          "scatter3d": [
           {
            "line": {
             "colorbar": {
              "outlinewidth": 0,
              "ticks": ""
             }
            },
            "marker": {
             "colorbar": {
              "outlinewidth": 0,
              "ticks": ""
             }
            },
            "type": "scatter3d"
           }
          ],
          "scattercarpet": [
           {
            "marker": {
             "colorbar": {
              "outlinewidth": 0,
              "ticks": ""
             }
            },
            "type": "scattercarpet"
           }
          ],
          "scattergeo": [
           {
            "marker": {
             "colorbar": {
              "outlinewidth": 0,
              "ticks": ""
             }
            },
            "type": "scattergeo"
           }
          ],
          "scattergl": [
           {
            "marker": {
             "colorbar": {
              "outlinewidth": 0,
              "ticks": ""
             }
            },
            "type": "scattergl"
           }
          ],
          "scattermapbox": [
           {
            "marker": {
             "colorbar": {
              "outlinewidth": 0,
              "ticks": ""
             }
            },
            "type": "scattermapbox"
           }
          ],
          "scatterpolar": [
           {
            "marker": {
             "colorbar": {
              "outlinewidth": 0,
              "ticks": ""
             }
            },
            "type": "scatterpolar"
           }
          ],
          "scatterpolargl": [
           {
            "marker": {
             "colorbar": {
              "outlinewidth": 0,
              "ticks": ""
             }
            },
            "type": "scatterpolargl"
           }
          ],
          "scatterternary": [
           {
            "marker": {
             "colorbar": {
              "outlinewidth": 0,
              "ticks": ""
             }
            },
            "type": "scatterternary"
           }
          ],
          "surface": [
           {
            "colorbar": {
             "outlinewidth": 0,
             "ticks": ""
            },
            "colorscale": [
             [
              0,
              "#0d0887"
             ],
             [
              0.1111111111111111,
              "#46039f"
             ],
             [
              0.2222222222222222,
              "#7201a8"
             ],
             [
              0.3333333333333333,
              "#9c179e"
             ],
             [
              0.4444444444444444,
              "#bd3786"
             ],
             [
              0.5555555555555556,
              "#d8576b"
             ],
             [
              0.6666666666666666,
              "#ed7953"
             ],
             [
              0.7777777777777778,
              "#fb9f3a"
             ],
             [
              0.8888888888888888,
              "#fdca26"
             ],
             [
              1,
              "#f0f921"
             ]
            ],
            "type": "surface"
           }
          ],
          "table": [
           {
            "cells": {
             "fill": {
              "color": "#EBF0F8"
             },
             "line": {
              "color": "white"
             }
            },
            "header": {
             "fill": {
              "color": "#C8D4E3"
             },
             "line": {
              "color": "white"
             }
            },
            "type": "table"
           }
          ]
         },
         "layout": {
          "annotationdefaults": {
           "arrowcolor": "#2a3f5f",
           "arrowhead": 0,
           "arrowwidth": 1
          },
          "autotypenumbers": "strict",
          "coloraxis": {
           "colorbar": {
            "outlinewidth": 0,
            "ticks": ""
           }
          },
          "colorscale": {
           "diverging": [
            [
             0,
             "#8e0152"
            ],
            [
             0.1,
             "#c51b7d"
            ],
            [
             0.2,
             "#de77ae"
            ],
            [
             0.3,
             "#f1b6da"
            ],
            [
             0.4,
             "#fde0ef"
            ],
            [
             0.5,
             "#f7f7f7"
            ],
            [
             0.6,
             "#e6f5d0"
            ],
            [
             0.7,
             "#b8e186"
            ],
            [
             0.8,
             "#7fbc41"
            ],
            [
             0.9,
             "#4d9221"
            ],
            [
             1,
             "#276419"
            ]
           ],
           "sequential": [
            [
             0,
             "#0d0887"
            ],
            [
             0.1111111111111111,
             "#46039f"
            ],
            [
             0.2222222222222222,
             "#7201a8"
            ],
            [
             0.3333333333333333,
             "#9c179e"
            ],
            [
             0.4444444444444444,
             "#bd3786"
            ],
            [
             0.5555555555555556,
             "#d8576b"
            ],
            [
             0.6666666666666666,
             "#ed7953"
            ],
            [
             0.7777777777777778,
             "#fb9f3a"
            ],
            [
             0.8888888888888888,
             "#fdca26"
            ],
            [
             1,
             "#f0f921"
            ]
           ],
           "sequentialminus": [
            [
             0,
             "#0d0887"
            ],
            [
             0.1111111111111111,
             "#46039f"
            ],
            [
             0.2222222222222222,
             "#7201a8"
            ],
            [
             0.3333333333333333,
             "#9c179e"
            ],
            [
             0.4444444444444444,
             "#bd3786"
            ],
            [
             0.5555555555555556,
             "#d8576b"
            ],
            [
             0.6666666666666666,
             "#ed7953"
            ],
            [
             0.7777777777777778,
             "#fb9f3a"
            ],
            [
             0.8888888888888888,
             "#fdca26"
            ],
            [
             1,
             "#f0f921"
            ]
           ]
          },
          "colorway": [
           "#636efa",
           "#EF553B",
           "#00cc96",
           "#ab63fa",
           "#FFA15A",
           "#19d3f3",
           "#FF6692",
           "#B6E880",
           "#FF97FF",
           "#FECB52"
          ],
          "font": {
           "color": "#2a3f5f"
          },
          "geo": {
           "bgcolor": "white",
           "lakecolor": "white",
           "landcolor": "#E5ECF6",
           "showlakes": true,
           "showland": true,
           "subunitcolor": "white"
          },
          "hoverlabel": {
           "align": "left"
          },
          "hovermode": "closest",
          "mapbox": {
           "style": "light"
          },
          "paper_bgcolor": "white",
          "plot_bgcolor": "#E5ECF6",
          "polar": {
           "angularaxis": {
            "gridcolor": "white",
            "linecolor": "white",
            "ticks": ""
           },
           "bgcolor": "#E5ECF6",
           "radialaxis": {
            "gridcolor": "white",
            "linecolor": "white",
            "ticks": ""
           }
          },
          "scene": {
           "xaxis": {
            "backgroundcolor": "#E5ECF6",
            "gridcolor": "white",
            "gridwidth": 2,
            "linecolor": "white",
            "showbackground": true,
            "ticks": "",
            "zerolinecolor": "white"
           },
           "yaxis": {
            "backgroundcolor": "#E5ECF6",
            "gridcolor": "white",
            "gridwidth": 2,
            "linecolor": "white",
            "showbackground": true,
            "ticks": "",
            "zerolinecolor": "white"
           },
           "zaxis": {
            "backgroundcolor": "#E5ECF6",
            "gridcolor": "white",
            "gridwidth": 2,
            "linecolor": "white",
            "showbackground": true,
            "ticks": "",
            "zerolinecolor": "white"
           }
          },
          "shapedefaults": {
           "line": {
            "color": "#2a3f5f"
           }
          },
          "ternary": {
           "aaxis": {
            "gridcolor": "white",
            "linecolor": "white",
            "ticks": ""
           },
           "baxis": {
            "gridcolor": "white",
            "linecolor": "white",
            "ticks": ""
           },
           "bgcolor": "#E5ECF6",
           "caxis": {
            "gridcolor": "white",
            "linecolor": "white",
            "ticks": ""
           }
          },
          "title": {
           "x": 0.05
          },
          "xaxis": {
           "automargin": true,
           "gridcolor": "white",
           "linecolor": "white",
           "ticks": "",
           "title": {
            "standoff": 15
           },
           "zerolinecolor": "white",
           "zerolinewidth": 2
          },
          "yaxis": {
           "automargin": true,
           "gridcolor": "white",
           "linecolor": "white",
           "ticks": "",
           "title": {
            "standoff": 15
           },
           "zerolinecolor": "white",
           "zerolinewidth": 2
          }
         }
        },
        "title": {
         "font": {
          "color": "#4D5663"
         }
        },
        "xaxis": {
         "gridcolor": "#E1E5ED",
         "showgrid": true,
         "tickfont": {
          "color": "#4D5663"
         },
         "title": {
          "font": {
           "color": "#4D5663"
          },
          "text": ""
         },
         "zerolinecolor": "#E1E5ED"
        },
        "yaxis": {
         "gridcolor": "#E1E5ED",
         "showgrid": true,
         "tickfont": {
          "color": "#4D5663"
         },
         "title": {
          "font": {
           "color": "#4D5663"
          },
          "text": ""
         },
         "zerolinecolor": "#E1E5ED"
        }
       }
      },
      "text/html": [
       "<div>                            <div id=\"3270c02e-ad72-4b65-be9c-0d38951a37da\" class=\"plotly-graph-div\" style=\"height:525px; width:100%;\"></div>            <script type=\"text/javascript\">                require([\"plotly\"], function(Plotly) {                    window.PLOTLYENV=window.PLOTLYENV || {};\n",
       "                    window.PLOTLYENV.BASE_URL='https://plot.ly';                                    if (document.getElementById(\"3270c02e-ad72-4b65-be9c-0d38951a37da\")) {                    Plotly.newPlot(                        \"3270c02e-ad72-4b65-be9c-0d38951a37da\",                        [{\"line\":{\"color\":\"rgba(255, 153, 51, 1.0)\",\"dash\":\"solid\",\"shape\":\"linear\",\"width\":1.3},\"marker\":{\"size\":20,\"symbol\":\"circle\"},\"mode\":\"markers\",\"name\":\"B\",\"text\":\"\",\"x\":[-0.6185864777596235,-0.09549749996174815,0.7735155947714842,-1.9544208522009834,0.9321062993468145,0.36391957912219924,1.0222517106252103,0.21428349229504423,0.30155723927183736,-1.7737081556426644,-0.8813197097782401,-1.1833788622984094,1.0921030137803465,0.47150727733146436,-1.6539348028518632,-0.28566133680357586,1.6103067819704,-1.8417392372265438,0.039193584163302084,-0.6695950365093897,-0.7291227819448418,0.17384486693441867,1.5625067918950442,-2.118320960980159,-0.6478092575126989,-1.3354358976613383,-0.11900269907027594,1.8690436615397525,0.3602185862801853,0.954444106941083,-1.3426442266410488,-0.5861974838373313,-1.2776509648542993,-0.17202929225908314,-0.5899977906595941,1.3660735045819095,-1.096820738909289,0.09159655138384042,0.8669297839834728,0.11618036291092862,-0.1306793735655419,-1.409084507446096,-1.1458344122244621,-0.20695860339653058,-1.037860881063523,0.01958383190177941,1.877231153321232,-0.4861599541240264,0.2256221614426137,1.0191400317688684,-1.7994981450956142,-0.449892724101533,-1.7060329759096715,-0.7097216977459914,-0.8825995557308481,0.33962848154734276,0.20113285388190974,0.46035911247198713,0.7091683111522437,-1.2284387339475709,0.11445375532849965,-0.11410251539813779,-0.433581463941365,-0.1506692378419643,0.33482007756007925,-1.5145111918515755,0.570038479119206,-1.2112103535764067,-0.4029111539814335,-0.19348347413316772,-0.18662039060185484,-0.4020159349141075,-1.104221400696765,-0.7881037638705021,0.9624880966553944,0.8370910133274343,0.08064775753280434,0.4529394450193887,0.8144227765728742,-0.4139266273079406,-0.16045457024510903,0.11560583805022592,0.5018750969144258,-1.05549272187284,0.6646897400226129,0.7252518633264401,-0.8634744428274881,0.14526679817629318,0.5642348261932901,-0.5739339256594503,0.15846871036688384,0.5303216539889294,-0.4638919188417855,-2.653303499100419,0.30810942245492506,1.337533737637027,1.0885583937029353,-1.6447907309114553,0.6693410844821837,-0.023858538897312875],\"y\":[-0.4592523817006714,1.614960731672855,-1.4206426925982674,1.1551454541846038,-0.34613058552962517,1.6624230716641488,-0.11554649598016219,-0.01851161969972325,0.09984663041486533,-2.043102167532454,-1.478451948264321,-0.2788843499486517,-0.1497492795430963,1.9533168820677445,-0.10989230038135865,0.31344790900193625,0.08678752237308349,-0.3990447395439932,-1.4424816562369789,-0.028981252459112657,-0.4160821900068768,-0.9024826500293118,-0.5208567006043135,0.37071150697915956,0.29340762940465925,-0.15303788800844492,-1.7013013838151183,-2.1032089257065056,0.01803007769576685,0.774085466469011,-0.0130218043338703,0.7479391896322369,0.7318773540406959,-1.800944110150754,1.4099248117758916,-1.5325103771876123,0.5782922057046384,0.3053398932705239,-0.06430529590814345,1.0236623980295185,0.6914789499794927,0.7371810656811424,2.606242974469369,-1.5007673763044456,-1.0420156920821377,0.046743919591023995,1.3154764187085386,-0.18591517662231646,0.7578452017067829,-1.1201103682918108,-1.4809656473238406,-1.932290152656959,0.5687456244608741,-2.183122855649209,-0.18703771863844015,0.38248194212075454,-1.4501529065420269,1.0649615189495414,-0.44540408458769665,-0.5991301447361154,0.608703902269564,0.4058260851185324,0.457400126610244,0.5464347317371752,-0.2577028738771836,-0.6222900815300759,0.04461153224918688,-2.447018762098259,-0.23888100490859634,0.08761509395317087,1.623124602304495,1.1845787037770144,0.5492856988758372,1.130595322987083,-1.8840243529998721,0.18955829582691278,1.6839930239683714,0.5334500493016082,1.8492431165364005,0.4549707177333402,0.6697077146222054,0.4085483537015883,-0.5082199635442869,0.3448252142610793,-0.9833076650745944,0.2228561564482779,1.314600834470803,0.5969614245184819,0.5615669274826204,-0.03580808061129372,0.2825263823615819,-2.104980414657762,-1.8480485079071858,-1.2798589824928985,-0.4685176982797968,1.3615871560013324,0.7947295589257131,-1.018205327768071,0.6838015779839137,-0.445118498396265],\"type\":\"scatter\"}],                        {\"legend\":{\"bgcolor\":\"#F5F6F9\",\"font\":{\"color\":\"#4D5663\"}},\"paper_bgcolor\":\"#F5F6F9\",\"plot_bgcolor\":\"#F5F6F9\",\"template\":{\"data\":{\"barpolar\":[{\"marker\":{\"line\":{\"color\":\"#E5ECF6\",\"width\":0.5},\"pattern\":{\"fillmode\":\"overlay\",\"size\":10,\"solidity\":0.2}},\"type\":\"barpolar\"}],\"bar\":[{\"error_x\":{\"color\":\"#2a3f5f\"},\"error_y\":{\"color\":\"#2a3f5f\"},\"marker\":{\"line\":{\"color\":\"#E5ECF6\",\"width\":0.5},\"pattern\":{\"fillmode\":\"overlay\",\"size\":10,\"solidity\":0.2}},\"type\":\"bar\"}],\"carpet\":[{\"aaxis\":{\"endlinecolor\":\"#2a3f5f\",\"gridcolor\":\"white\",\"linecolor\":\"white\",\"minorgridcolor\":\"white\",\"startlinecolor\":\"#2a3f5f\"},\"baxis\":{\"endlinecolor\":\"#2a3f5f\",\"gridcolor\":\"white\",\"linecolor\":\"white\",\"minorgridcolor\":\"white\",\"startlinecolor\":\"#2a3f5f\"},\"type\":\"carpet\"}],\"choropleth\":[{\"colorbar\":{\"outlinewidth\":0,\"ticks\":\"\"},\"type\":\"choropleth\"}],\"contourcarpet\":[{\"colorbar\":{\"outlinewidth\":0,\"ticks\":\"\"},\"type\":\"contourcarpet\"}],\"contour\":[{\"colorbar\":{\"outlinewidth\":0,\"ticks\":\"\"},\"colorscale\":[[0.0,\"#0d0887\"],[0.1111111111111111,\"#46039f\"],[0.2222222222222222,\"#7201a8\"],[0.3333333333333333,\"#9c179e\"],[0.4444444444444444,\"#bd3786\"],[0.5555555555555556,\"#d8576b\"],[0.6666666666666666,\"#ed7953\"],[0.7777777777777778,\"#fb9f3a\"],[0.8888888888888888,\"#fdca26\"],[1.0,\"#f0f921\"]],\"type\":\"contour\"}],\"heatmapgl\":[{\"colorbar\":{\"outlinewidth\":0,\"ticks\":\"\"},\"colorscale\":[[0.0,\"#0d0887\"],[0.1111111111111111,\"#46039f\"],[0.2222222222222222,\"#7201a8\"],[0.3333333333333333,\"#9c179e\"],[0.4444444444444444,\"#bd3786\"],[0.5555555555555556,\"#d8576b\"],[0.6666666666666666,\"#ed7953\"],[0.7777777777777778,\"#fb9f3a\"],[0.8888888888888888,\"#fdca26\"],[1.0,\"#f0f921\"]],\"type\":\"heatmapgl\"}],\"heatmap\":[{\"colorbar\":{\"outlinewidth\":0,\"ticks\":\"\"},\"colorscale\":[[0.0,\"#0d0887\"],[0.1111111111111111,\"#46039f\"],[0.2222222222222222,\"#7201a8\"],[0.3333333333333333,\"#9c179e\"],[0.4444444444444444,\"#bd3786\"],[0.5555555555555556,\"#d8576b\"],[0.6666666666666666,\"#ed7953\"],[0.7777777777777778,\"#fb9f3a\"],[0.8888888888888888,\"#fdca26\"],[1.0,\"#f0f921\"]],\"type\":\"heatmap\"}],\"histogram2dcontour\":[{\"colorbar\":{\"outlinewidth\":0,\"ticks\":\"\"},\"colorscale\":[[0.0,\"#0d0887\"],[0.1111111111111111,\"#46039f\"],[0.2222222222222222,\"#7201a8\"],[0.3333333333333333,\"#9c179e\"],[0.4444444444444444,\"#bd3786\"],[0.5555555555555556,\"#d8576b\"],[0.6666666666666666,\"#ed7953\"],[0.7777777777777778,\"#fb9f3a\"],[0.8888888888888888,\"#fdca26\"],[1.0,\"#f0f921\"]],\"type\":\"histogram2dcontour\"}],\"histogram2d\":[{\"colorbar\":{\"outlinewidth\":0,\"ticks\":\"\"},\"colorscale\":[[0.0,\"#0d0887\"],[0.1111111111111111,\"#46039f\"],[0.2222222222222222,\"#7201a8\"],[0.3333333333333333,\"#9c179e\"],[0.4444444444444444,\"#bd3786\"],[0.5555555555555556,\"#d8576b\"],[0.6666666666666666,\"#ed7953\"],[0.7777777777777778,\"#fb9f3a\"],[0.8888888888888888,\"#fdca26\"],[1.0,\"#f0f921\"]],\"type\":\"histogram2d\"}],\"histogram\":[{\"marker\":{\"pattern\":{\"fillmode\":\"overlay\",\"size\":10,\"solidity\":0.2}},\"type\":\"histogram\"}],\"mesh3d\":[{\"colorbar\":{\"outlinewidth\":0,\"ticks\":\"\"},\"type\":\"mesh3d\"}],\"parcoords\":[{\"line\":{\"colorbar\":{\"outlinewidth\":0,\"ticks\":\"\"}},\"type\":\"parcoords\"}],\"pie\":[{\"automargin\":true,\"type\":\"pie\"}],\"scatter3d\":[{\"line\":{\"colorbar\":{\"outlinewidth\":0,\"ticks\":\"\"}},\"marker\":{\"colorbar\":{\"outlinewidth\":0,\"ticks\":\"\"}},\"type\":\"scatter3d\"}],\"scattercarpet\":[{\"marker\":{\"colorbar\":{\"outlinewidth\":0,\"ticks\":\"\"}},\"type\":\"scattercarpet\"}],\"scattergeo\":[{\"marker\":{\"colorbar\":{\"outlinewidth\":0,\"ticks\":\"\"}},\"type\":\"scattergeo\"}],\"scattergl\":[{\"marker\":{\"colorbar\":{\"outlinewidth\":0,\"ticks\":\"\"}},\"type\":\"scattergl\"}],\"scattermapbox\":[{\"marker\":{\"colorbar\":{\"outlinewidth\":0,\"ticks\":\"\"}},\"type\":\"scattermapbox\"}],\"scatterpolargl\":[{\"marker\":{\"colorbar\":{\"outlinewidth\":0,\"ticks\":\"\"}},\"type\":\"scatterpolargl\"}],\"scatterpolar\":[{\"marker\":{\"colorbar\":{\"outlinewidth\":0,\"ticks\":\"\"}},\"type\":\"scatterpolar\"}],\"scatter\":[{\"fillpattern\":{\"fillmode\":\"overlay\",\"size\":10,\"solidity\":0.2},\"type\":\"scatter\"}],\"scatterternary\":[{\"marker\":{\"colorbar\":{\"outlinewidth\":0,\"ticks\":\"\"}},\"type\":\"scatterternary\"}],\"surface\":[{\"colorbar\":{\"outlinewidth\":0,\"ticks\":\"\"},\"colorscale\":[[0.0,\"#0d0887\"],[0.1111111111111111,\"#46039f\"],[0.2222222222222222,\"#7201a8\"],[0.3333333333333333,\"#9c179e\"],[0.4444444444444444,\"#bd3786\"],[0.5555555555555556,\"#d8576b\"],[0.6666666666666666,\"#ed7953\"],[0.7777777777777778,\"#fb9f3a\"],[0.8888888888888888,\"#fdca26\"],[1.0,\"#f0f921\"]],\"type\":\"surface\"}],\"table\":[{\"cells\":{\"fill\":{\"color\":\"#EBF0F8\"},\"line\":{\"color\":\"white\"}},\"header\":{\"fill\":{\"color\":\"#C8D4E3\"},\"line\":{\"color\":\"white\"}},\"type\":\"table\"}]},\"layout\":{\"annotationdefaults\":{\"arrowcolor\":\"#2a3f5f\",\"arrowhead\":0,\"arrowwidth\":1},\"autotypenumbers\":\"strict\",\"coloraxis\":{\"colorbar\":{\"outlinewidth\":0,\"ticks\":\"\"}},\"colorscale\":{\"diverging\":[[0,\"#8e0152\"],[0.1,\"#c51b7d\"],[0.2,\"#de77ae\"],[0.3,\"#f1b6da\"],[0.4,\"#fde0ef\"],[0.5,\"#f7f7f7\"],[0.6,\"#e6f5d0\"],[0.7,\"#b8e186\"],[0.8,\"#7fbc41\"],[0.9,\"#4d9221\"],[1,\"#276419\"]],\"sequential\":[[0.0,\"#0d0887\"],[0.1111111111111111,\"#46039f\"],[0.2222222222222222,\"#7201a8\"],[0.3333333333333333,\"#9c179e\"],[0.4444444444444444,\"#bd3786\"],[0.5555555555555556,\"#d8576b\"],[0.6666666666666666,\"#ed7953\"],[0.7777777777777778,\"#fb9f3a\"],[0.8888888888888888,\"#fdca26\"],[1.0,\"#f0f921\"]],\"sequentialminus\":[[0.0,\"#0d0887\"],[0.1111111111111111,\"#46039f\"],[0.2222222222222222,\"#7201a8\"],[0.3333333333333333,\"#9c179e\"],[0.4444444444444444,\"#bd3786\"],[0.5555555555555556,\"#d8576b\"],[0.6666666666666666,\"#ed7953\"],[0.7777777777777778,\"#fb9f3a\"],[0.8888888888888888,\"#fdca26\"],[1.0,\"#f0f921\"]]},\"colorway\":[\"#636efa\",\"#EF553B\",\"#00cc96\",\"#ab63fa\",\"#FFA15A\",\"#19d3f3\",\"#FF6692\",\"#B6E880\",\"#FF97FF\",\"#FECB52\"],\"font\":{\"color\":\"#2a3f5f\"},\"geo\":{\"bgcolor\":\"white\",\"lakecolor\":\"white\",\"landcolor\":\"#E5ECF6\",\"showlakes\":true,\"showland\":true,\"subunitcolor\":\"white\"},\"hoverlabel\":{\"align\":\"left\"},\"hovermode\":\"closest\",\"mapbox\":{\"style\":\"light\"},\"paper_bgcolor\":\"white\",\"plot_bgcolor\":\"#E5ECF6\",\"polar\":{\"angularaxis\":{\"gridcolor\":\"white\",\"linecolor\":\"white\",\"ticks\":\"\"},\"bgcolor\":\"#E5ECF6\",\"radialaxis\":{\"gridcolor\":\"white\",\"linecolor\":\"white\",\"ticks\":\"\"}},\"scene\":{\"xaxis\":{\"backgroundcolor\":\"#E5ECF6\",\"gridcolor\":\"white\",\"gridwidth\":2,\"linecolor\":\"white\",\"showbackground\":true,\"ticks\":\"\",\"zerolinecolor\":\"white\"},\"yaxis\":{\"backgroundcolor\":\"#E5ECF6\",\"gridcolor\":\"white\",\"gridwidth\":2,\"linecolor\":\"white\",\"showbackground\":true,\"ticks\":\"\",\"zerolinecolor\":\"white\"},\"zaxis\":{\"backgroundcolor\":\"#E5ECF6\",\"gridcolor\":\"white\",\"gridwidth\":2,\"linecolor\":\"white\",\"showbackground\":true,\"ticks\":\"\",\"zerolinecolor\":\"white\"}},\"shapedefaults\":{\"line\":{\"color\":\"#2a3f5f\"}},\"ternary\":{\"aaxis\":{\"gridcolor\":\"white\",\"linecolor\":\"white\",\"ticks\":\"\"},\"baxis\":{\"gridcolor\":\"white\",\"linecolor\":\"white\",\"ticks\":\"\"},\"bgcolor\":\"#E5ECF6\",\"caxis\":{\"gridcolor\":\"white\",\"linecolor\":\"white\",\"ticks\":\"\"}},\"title\":{\"x\":0.05},\"xaxis\":{\"automargin\":true,\"gridcolor\":\"white\",\"linecolor\":\"white\",\"ticks\":\"\",\"title\":{\"standoff\":15},\"zerolinecolor\":\"white\",\"zerolinewidth\":2},\"yaxis\":{\"automargin\":true,\"gridcolor\":\"white\",\"linecolor\":\"white\",\"ticks\":\"\",\"title\":{\"standoff\":15},\"zerolinecolor\":\"white\",\"zerolinewidth\":2}}},\"title\":{\"font\":{\"color\":\"#4D5663\"}},\"xaxis\":{\"gridcolor\":\"#E1E5ED\",\"showgrid\":true,\"tickfont\":{\"color\":\"#4D5663\"},\"title\":{\"font\":{\"color\":\"#4D5663\"},\"text\":\"\"},\"zerolinecolor\":\"#E1E5ED\"},\"yaxis\":{\"gridcolor\":\"#E1E5ED\",\"showgrid\":true,\"tickfont\":{\"color\":\"#4D5663\"},\"title\":{\"font\":{\"color\":\"#4D5663\"},\"text\":\"\"},\"zerolinecolor\":\"#E1E5ED\"}},                        {\"showLink\": true, \"linkText\": \"Export to plot.ly\", \"plotlyServerURL\": \"https://plot.ly\", \"responsive\": true}                    ).then(function(){\n",
       "                            \n",
       "var gd = document.getElementById('3270c02e-ad72-4b65-be9c-0d38951a37da');\n",
       "var x = new MutationObserver(function (mutations, observer) {{\n",
       "        var display = window.getComputedStyle(gd).display;\n",
       "        if (!display || display === 'none') {{\n",
       "            console.log([gd, 'removed!']);\n",
       "            Plotly.purge(gd);\n",
       "            observer.disconnect();\n",
       "        }}\n",
       "}});\n",
       "\n",
       "// Listen for the removal of the full notebook cells\n",
       "var notebookContainer = gd.closest('#notebook-container');\n",
       "if (notebookContainer) {{\n",
       "    x.observe(notebookContainer, {childList: true});\n",
       "}}\n",
       "\n",
       "// Listen for the clearing of the current output cell\n",
       "var outputEl = gd.closest('.output');\n",
       "if (outputEl) {{\n",
       "    x.observe(outputEl, {childList: true});\n",
       "}}\n",
       "\n",
       "                        })                };                });            </script>        </div>"
      ]
     },
     "metadata": {},
     "output_type": "display_data"
    }
   ],
   "source": [
    "df.iplot(kind=\"scatter\",x='A', y='B', mode='markers',size=20)"
   ]
  },
  {
   "cell_type": "code",
   "execution_count": 18,
   "id": "07c317f6",
   "metadata": {
    "ExecuteTime": {
     "end_time": "2023-03-25T09:00:38.418110Z",
     "start_time": "2023-03-25T09:00:38.342583Z"
    }
   },
   "outputs": [
    {
     "data": {
      "application/vnd.plotly.v1+json": {
       "config": {
        "linkText": "Export to plot.ly",
        "plotlyServerURL": "https://plot.ly",
        "showLink": true
       },
       "data": [
        {
         "marker": {
          "color": "rgba(255, 153, 51, 0.6)",
          "line": {
           "color": "rgba(255, 153, 51, 1.0)",
           "width": 1
          }
         },
         "name": "Values",
         "orientation": "v",
         "text": "",
         "type": "bar",
         "x": [
          "A",
          "B",
          "C"
         ],
         "y": [
          32,
          43,
          50
         ]
        }
       ],
       "layout": {
        "legend": {
         "bgcolor": "#F5F6F9",
         "font": {
          "color": "#4D5663"
         }
        },
        "paper_bgcolor": "#F5F6F9",
        "plot_bgcolor": "#F5F6F9",
        "template": {
         "data": {
          "bar": [
           {
            "error_x": {
             "color": "#2a3f5f"
            },
            "error_y": {
             "color": "#2a3f5f"
            },
            "marker": {
             "line": {
              "color": "#E5ECF6",
              "width": 0.5
             },
             "pattern": {
              "fillmode": "overlay",
              "size": 10,
              "solidity": 0.2
             }
            },
            "type": "bar"
           }
          ],
          "barpolar": [
           {
            "marker": {
             "line": {
              "color": "#E5ECF6",
              "width": 0.5
             },
             "pattern": {
              "fillmode": "overlay",
              "size": 10,
              "solidity": 0.2
             }
            },
            "type": "barpolar"
           }
          ],
          "carpet": [
           {
            "aaxis": {
             "endlinecolor": "#2a3f5f",
             "gridcolor": "white",
             "linecolor": "white",
             "minorgridcolor": "white",
             "startlinecolor": "#2a3f5f"
            },
            "baxis": {
             "endlinecolor": "#2a3f5f",
             "gridcolor": "white",
             "linecolor": "white",
             "minorgridcolor": "white",
             "startlinecolor": "#2a3f5f"
            },
            "type": "carpet"
           }
          ],
          "choropleth": [
           {
            "colorbar": {
             "outlinewidth": 0,
             "ticks": ""
            },
            "type": "choropleth"
           }
          ],
          "contour": [
           {
            "colorbar": {
             "outlinewidth": 0,
             "ticks": ""
            },
            "colorscale": [
             [
              0,
              "#0d0887"
             ],
             [
              0.1111111111111111,
              "#46039f"
             ],
             [
              0.2222222222222222,
              "#7201a8"
             ],
             [
              0.3333333333333333,
              "#9c179e"
             ],
             [
              0.4444444444444444,
              "#bd3786"
             ],
             [
              0.5555555555555556,
              "#d8576b"
             ],
             [
              0.6666666666666666,
              "#ed7953"
             ],
             [
              0.7777777777777778,
              "#fb9f3a"
             ],
             [
              0.8888888888888888,
              "#fdca26"
             ],
             [
              1,
              "#f0f921"
             ]
            ],
            "type": "contour"
           }
          ],
          "contourcarpet": [
           {
            "colorbar": {
             "outlinewidth": 0,
             "ticks": ""
            },
            "type": "contourcarpet"
           }
          ],
          "heatmap": [
           {
            "colorbar": {
             "outlinewidth": 0,
             "ticks": ""
            },
            "colorscale": [
             [
              0,
              "#0d0887"
             ],
             [
              0.1111111111111111,
              "#46039f"
             ],
             [
              0.2222222222222222,
              "#7201a8"
             ],
             [
              0.3333333333333333,
              "#9c179e"
             ],
             [
              0.4444444444444444,
              "#bd3786"
             ],
             [
              0.5555555555555556,
              "#d8576b"
             ],
             [
              0.6666666666666666,
              "#ed7953"
             ],
             [
              0.7777777777777778,
              "#fb9f3a"
             ],
             [
              0.8888888888888888,
              "#fdca26"
             ],
             [
              1,
              "#f0f921"
             ]
            ],
            "type": "heatmap"
           }
          ],
          "heatmapgl": [
           {
            "colorbar": {
             "outlinewidth": 0,
             "ticks": ""
            },
            "colorscale": [
             [
              0,
              "#0d0887"
             ],
             [
              0.1111111111111111,
              "#46039f"
             ],
             [
              0.2222222222222222,
              "#7201a8"
             ],
             [
              0.3333333333333333,
              "#9c179e"
             ],
             [
              0.4444444444444444,
              "#bd3786"
             ],
             [
              0.5555555555555556,
              "#d8576b"
             ],
             [
              0.6666666666666666,
              "#ed7953"
             ],
             [
              0.7777777777777778,
              "#fb9f3a"
             ],
             [
              0.8888888888888888,
              "#fdca26"
             ],
             [
              1,
              "#f0f921"
             ]
            ],
            "type": "heatmapgl"
           }
          ],
          "histogram": [
           {
            "marker": {
             "pattern": {
              "fillmode": "overlay",
              "size": 10,
              "solidity": 0.2
             }
            },
            "type": "histogram"
           }
          ],
          "histogram2d": [
           {
            "colorbar": {
             "outlinewidth": 0,
             "ticks": ""
            },
            "colorscale": [
             [
              0,
              "#0d0887"
             ],
             [
              0.1111111111111111,
              "#46039f"
             ],
             [
              0.2222222222222222,
              "#7201a8"
             ],
             [
              0.3333333333333333,
              "#9c179e"
             ],
             [
              0.4444444444444444,
              "#bd3786"
             ],
             [
              0.5555555555555556,
              "#d8576b"
             ],
             [
              0.6666666666666666,
              "#ed7953"
             ],
             [
              0.7777777777777778,
              "#fb9f3a"
             ],
             [
              0.8888888888888888,
              "#fdca26"
             ],
             [
              1,
              "#f0f921"
             ]
            ],
            "type": "histogram2d"
           }
          ],
          "histogram2dcontour": [
           {
            "colorbar": {
             "outlinewidth": 0,
             "ticks": ""
            },
            "colorscale": [
             [
              0,
              "#0d0887"
             ],
             [
              0.1111111111111111,
              "#46039f"
             ],
             [
              0.2222222222222222,
              "#7201a8"
             ],
             [
              0.3333333333333333,
              "#9c179e"
             ],
             [
              0.4444444444444444,
              "#bd3786"
             ],
             [
              0.5555555555555556,
              "#d8576b"
             ],
             [
              0.6666666666666666,
              "#ed7953"
             ],
             [
              0.7777777777777778,
              "#fb9f3a"
             ],
             [
              0.8888888888888888,
              "#fdca26"
             ],
             [
              1,
              "#f0f921"
             ]
            ],
            "type": "histogram2dcontour"
           }
          ],
          "mesh3d": [
           {
            "colorbar": {
             "outlinewidth": 0,
             "ticks": ""
            },
            "type": "mesh3d"
           }
          ],
          "parcoords": [
           {
            "line": {
             "colorbar": {
              "outlinewidth": 0,
              "ticks": ""
             }
            },
            "type": "parcoords"
           }
          ],
          "pie": [
           {
            "automargin": true,
            "type": "pie"
           }
          ],
          "scatter": [
           {
            "fillpattern": {
             "fillmode": "overlay",
             "size": 10,
             "solidity": 0.2
            },
            "type": "scatter"
           }
          ],
          "scatter3d": [
           {
            "line": {
             "colorbar": {
              "outlinewidth": 0,
              "ticks": ""
             }
            },
            "marker": {
             "colorbar": {
              "outlinewidth": 0,
              "ticks": ""
             }
            },
            "type": "scatter3d"
           }
          ],
          "scattercarpet": [
           {
            "marker": {
             "colorbar": {
              "outlinewidth": 0,
              "ticks": ""
             }
            },
            "type": "scattercarpet"
           }
          ],
          "scattergeo": [
           {
            "marker": {
             "colorbar": {
              "outlinewidth": 0,
              "ticks": ""
             }
            },
            "type": "scattergeo"
           }
          ],
          "scattergl": [
           {
            "marker": {
             "colorbar": {
              "outlinewidth": 0,
              "ticks": ""
             }
            },
            "type": "scattergl"
           }
          ],
          "scattermapbox": [
           {
            "marker": {
             "colorbar": {
              "outlinewidth": 0,
              "ticks": ""
             }
            },
            "type": "scattermapbox"
           }
          ],
          "scatterpolar": [
           {
            "marker": {
             "colorbar": {
              "outlinewidth": 0,
              "ticks": ""
             }
            },
            "type": "scatterpolar"
           }
          ],
          "scatterpolargl": [
           {
            "marker": {
             "colorbar": {
              "outlinewidth": 0,
              "ticks": ""
             }
            },
            "type": "scatterpolargl"
           }
          ],
          "scatterternary": [
           {
            "marker": {
             "colorbar": {
              "outlinewidth": 0,
              "ticks": ""
             }
            },
            "type": "scatterternary"
           }
          ],
          "surface": [
           {
            "colorbar": {
             "outlinewidth": 0,
             "ticks": ""
            },
            "colorscale": [
             [
              0,
              "#0d0887"
             ],
             [
              0.1111111111111111,
              "#46039f"
             ],
             [
              0.2222222222222222,
              "#7201a8"
             ],
             [
              0.3333333333333333,
              "#9c179e"
             ],
             [
              0.4444444444444444,
              "#bd3786"
             ],
             [
              0.5555555555555556,
              "#d8576b"
             ],
             [
              0.6666666666666666,
              "#ed7953"
             ],
             [
              0.7777777777777778,
              "#fb9f3a"
             ],
             [
              0.8888888888888888,
              "#fdca26"
             ],
             [
              1,
              "#f0f921"
             ]
            ],
            "type": "surface"
           }
          ],
          "table": [
           {
            "cells": {
             "fill": {
              "color": "#EBF0F8"
             },
             "line": {
              "color": "white"
             }
            },
            "header": {
             "fill": {
              "color": "#C8D4E3"
             },
             "line": {
              "color": "white"
             }
            },
            "type": "table"
           }
          ]
         },
         "layout": {
          "annotationdefaults": {
           "arrowcolor": "#2a3f5f",
           "arrowhead": 0,
           "arrowwidth": 1
          },
          "autotypenumbers": "strict",
          "coloraxis": {
           "colorbar": {
            "outlinewidth": 0,
            "ticks": ""
           }
          },
          "colorscale": {
           "diverging": [
            [
             0,
             "#8e0152"
            ],
            [
             0.1,
             "#c51b7d"
            ],
            [
             0.2,
             "#de77ae"
            ],
            [
             0.3,
             "#f1b6da"
            ],
            [
             0.4,
             "#fde0ef"
            ],
            [
             0.5,
             "#f7f7f7"
            ],
            [
             0.6,
             "#e6f5d0"
            ],
            [
             0.7,
             "#b8e186"
            ],
            [
             0.8,
             "#7fbc41"
            ],
            [
             0.9,
             "#4d9221"
            ],
            [
             1,
             "#276419"
            ]
           ],
           "sequential": [
            [
             0,
             "#0d0887"
            ],
            [
             0.1111111111111111,
             "#46039f"
            ],
            [
             0.2222222222222222,
             "#7201a8"
            ],
            [
             0.3333333333333333,
             "#9c179e"
            ],
            [
             0.4444444444444444,
             "#bd3786"
            ],
            [
             0.5555555555555556,
             "#d8576b"
            ],
            [
             0.6666666666666666,
             "#ed7953"
            ],
            [
             0.7777777777777778,
             "#fb9f3a"
            ],
            [
             0.8888888888888888,
             "#fdca26"
            ],
            [
             1,
             "#f0f921"
            ]
           ],
           "sequentialminus": [
            [
             0,
             "#0d0887"
            ],
            [
             0.1111111111111111,
             "#46039f"
            ],
            [
             0.2222222222222222,
             "#7201a8"
            ],
            [
             0.3333333333333333,
             "#9c179e"
            ],
            [
             0.4444444444444444,
             "#bd3786"
            ],
            [
             0.5555555555555556,
             "#d8576b"
            ],
            [
             0.6666666666666666,
             "#ed7953"
            ],
            [
             0.7777777777777778,
             "#fb9f3a"
            ],
            [
             0.8888888888888888,
             "#fdca26"
            ],
            [
             1,
             "#f0f921"
            ]
           ]
          },
          "colorway": [
           "#636efa",
           "#EF553B",
           "#00cc96",
           "#ab63fa",
           "#FFA15A",
           "#19d3f3",
           "#FF6692",
           "#B6E880",
           "#FF97FF",
           "#FECB52"
          ],
          "font": {
           "color": "#2a3f5f"
          },
          "geo": {
           "bgcolor": "white",
           "lakecolor": "white",
           "landcolor": "#E5ECF6",
           "showlakes": true,
           "showland": true,
           "subunitcolor": "white"
          },
          "hoverlabel": {
           "align": "left"
          },
          "hovermode": "closest",
          "mapbox": {
           "style": "light"
          },
          "paper_bgcolor": "white",
          "plot_bgcolor": "#E5ECF6",
          "polar": {
           "angularaxis": {
            "gridcolor": "white",
            "linecolor": "white",
            "ticks": ""
           },
           "bgcolor": "#E5ECF6",
           "radialaxis": {
            "gridcolor": "white",
            "linecolor": "white",
            "ticks": ""
           }
          },
          "scene": {
           "xaxis": {
            "backgroundcolor": "#E5ECF6",
            "gridcolor": "white",
            "gridwidth": 2,
            "linecolor": "white",
            "showbackground": true,
            "ticks": "",
            "zerolinecolor": "white"
           },
           "yaxis": {
            "backgroundcolor": "#E5ECF6",
            "gridcolor": "white",
            "gridwidth": 2,
            "linecolor": "white",
            "showbackground": true,
            "ticks": "",
            "zerolinecolor": "white"
           },
           "zaxis": {
            "backgroundcolor": "#E5ECF6",
            "gridcolor": "white",
            "gridwidth": 2,
            "linecolor": "white",
            "showbackground": true,
            "ticks": "",
            "zerolinecolor": "white"
           }
          },
          "shapedefaults": {
           "line": {
            "color": "#2a3f5f"
           }
          },
          "ternary": {
           "aaxis": {
            "gridcolor": "white",
            "linecolor": "white",
            "ticks": ""
           },
           "baxis": {
            "gridcolor": "white",
            "linecolor": "white",
            "ticks": ""
           },
           "bgcolor": "#E5ECF6",
           "caxis": {
            "gridcolor": "white",
            "linecolor": "white",
            "ticks": ""
           }
          },
          "title": {
           "x": 0.05
          },
          "xaxis": {
           "automargin": true,
           "gridcolor": "white",
           "linecolor": "white",
           "ticks": "",
           "title": {
            "standoff": 15
           },
           "zerolinecolor": "white",
           "zerolinewidth": 2
          },
          "yaxis": {
           "automargin": true,
           "gridcolor": "white",
           "linecolor": "white",
           "ticks": "",
           "title": {
            "standoff": 15
           },
           "zerolinecolor": "white",
           "zerolinewidth": 2
          }
         }
        },
        "title": {
         "font": {
          "color": "#4D5663"
         }
        },
        "xaxis": {
         "gridcolor": "#E1E5ED",
         "showgrid": true,
         "tickfont": {
          "color": "#4D5663"
         },
         "title": {
          "font": {
           "color": "#4D5663"
          },
          "text": ""
         },
         "zerolinecolor": "#E1E5ED"
        },
        "yaxis": {
         "gridcolor": "#E1E5ED",
         "showgrid": true,
         "tickfont": {
          "color": "#4D5663"
         },
         "title": {
          "font": {
           "color": "#4D5663"
          },
          "text": ""
         },
         "zerolinecolor": "#E1E5ED"
        }
       }
      },
      "text/html": [
       "<div>                            <div id=\"27d829c3-efa8-431a-b4d4-5c30f4a8d3ee\" class=\"plotly-graph-div\" style=\"height:525px; width:100%;\"></div>            <script type=\"text/javascript\">                require([\"plotly\"], function(Plotly) {                    window.PLOTLYENV=window.PLOTLYENV || {};\n",
       "                    window.PLOTLYENV.BASE_URL='https://plot.ly';                                    if (document.getElementById(\"27d829c3-efa8-431a-b4d4-5c30f4a8d3ee\")) {                    Plotly.newPlot(                        \"27d829c3-efa8-431a-b4d4-5c30f4a8d3ee\",                        [{\"marker\":{\"color\":\"rgba(255, 153, 51, 0.6)\",\"line\":{\"color\":\"rgba(255, 153, 51, 1.0)\",\"width\":1}},\"name\":\"Values\",\"orientation\":\"v\",\"text\":\"\",\"x\":[\"A\",\"B\",\"C\"],\"y\":[32,43,50],\"type\":\"bar\"}],                        {\"legend\":{\"bgcolor\":\"#F5F6F9\",\"font\":{\"color\":\"#4D5663\"}},\"paper_bgcolor\":\"#F5F6F9\",\"plot_bgcolor\":\"#F5F6F9\",\"template\":{\"data\":{\"barpolar\":[{\"marker\":{\"line\":{\"color\":\"#E5ECF6\",\"width\":0.5},\"pattern\":{\"fillmode\":\"overlay\",\"size\":10,\"solidity\":0.2}},\"type\":\"barpolar\"}],\"bar\":[{\"error_x\":{\"color\":\"#2a3f5f\"},\"error_y\":{\"color\":\"#2a3f5f\"},\"marker\":{\"line\":{\"color\":\"#E5ECF6\",\"width\":0.5},\"pattern\":{\"fillmode\":\"overlay\",\"size\":10,\"solidity\":0.2}},\"type\":\"bar\"}],\"carpet\":[{\"aaxis\":{\"endlinecolor\":\"#2a3f5f\",\"gridcolor\":\"white\",\"linecolor\":\"white\",\"minorgridcolor\":\"white\",\"startlinecolor\":\"#2a3f5f\"},\"baxis\":{\"endlinecolor\":\"#2a3f5f\",\"gridcolor\":\"white\",\"linecolor\":\"white\",\"minorgridcolor\":\"white\",\"startlinecolor\":\"#2a3f5f\"},\"type\":\"carpet\"}],\"choropleth\":[{\"colorbar\":{\"outlinewidth\":0,\"ticks\":\"\"},\"type\":\"choropleth\"}],\"contourcarpet\":[{\"colorbar\":{\"outlinewidth\":0,\"ticks\":\"\"},\"type\":\"contourcarpet\"}],\"contour\":[{\"colorbar\":{\"outlinewidth\":0,\"ticks\":\"\"},\"colorscale\":[[0.0,\"#0d0887\"],[0.1111111111111111,\"#46039f\"],[0.2222222222222222,\"#7201a8\"],[0.3333333333333333,\"#9c179e\"],[0.4444444444444444,\"#bd3786\"],[0.5555555555555556,\"#d8576b\"],[0.6666666666666666,\"#ed7953\"],[0.7777777777777778,\"#fb9f3a\"],[0.8888888888888888,\"#fdca26\"],[1.0,\"#f0f921\"]],\"type\":\"contour\"}],\"heatmapgl\":[{\"colorbar\":{\"outlinewidth\":0,\"ticks\":\"\"},\"colorscale\":[[0.0,\"#0d0887\"],[0.1111111111111111,\"#46039f\"],[0.2222222222222222,\"#7201a8\"],[0.3333333333333333,\"#9c179e\"],[0.4444444444444444,\"#bd3786\"],[0.5555555555555556,\"#d8576b\"],[0.6666666666666666,\"#ed7953\"],[0.7777777777777778,\"#fb9f3a\"],[0.8888888888888888,\"#fdca26\"],[1.0,\"#f0f921\"]],\"type\":\"heatmapgl\"}],\"heatmap\":[{\"colorbar\":{\"outlinewidth\":0,\"ticks\":\"\"},\"colorscale\":[[0.0,\"#0d0887\"],[0.1111111111111111,\"#46039f\"],[0.2222222222222222,\"#7201a8\"],[0.3333333333333333,\"#9c179e\"],[0.4444444444444444,\"#bd3786\"],[0.5555555555555556,\"#d8576b\"],[0.6666666666666666,\"#ed7953\"],[0.7777777777777778,\"#fb9f3a\"],[0.8888888888888888,\"#fdca26\"],[1.0,\"#f0f921\"]],\"type\":\"heatmap\"}],\"histogram2dcontour\":[{\"colorbar\":{\"outlinewidth\":0,\"ticks\":\"\"},\"colorscale\":[[0.0,\"#0d0887\"],[0.1111111111111111,\"#46039f\"],[0.2222222222222222,\"#7201a8\"],[0.3333333333333333,\"#9c179e\"],[0.4444444444444444,\"#bd3786\"],[0.5555555555555556,\"#d8576b\"],[0.6666666666666666,\"#ed7953\"],[0.7777777777777778,\"#fb9f3a\"],[0.8888888888888888,\"#fdca26\"],[1.0,\"#f0f921\"]],\"type\":\"histogram2dcontour\"}],\"histogram2d\":[{\"colorbar\":{\"outlinewidth\":0,\"ticks\":\"\"},\"colorscale\":[[0.0,\"#0d0887\"],[0.1111111111111111,\"#46039f\"],[0.2222222222222222,\"#7201a8\"],[0.3333333333333333,\"#9c179e\"],[0.4444444444444444,\"#bd3786\"],[0.5555555555555556,\"#d8576b\"],[0.6666666666666666,\"#ed7953\"],[0.7777777777777778,\"#fb9f3a\"],[0.8888888888888888,\"#fdca26\"],[1.0,\"#f0f921\"]],\"type\":\"histogram2d\"}],\"histogram\":[{\"marker\":{\"pattern\":{\"fillmode\":\"overlay\",\"size\":10,\"solidity\":0.2}},\"type\":\"histogram\"}],\"mesh3d\":[{\"colorbar\":{\"outlinewidth\":0,\"ticks\":\"\"},\"type\":\"mesh3d\"}],\"parcoords\":[{\"line\":{\"colorbar\":{\"outlinewidth\":0,\"ticks\":\"\"}},\"type\":\"parcoords\"}],\"pie\":[{\"automargin\":true,\"type\":\"pie\"}],\"scatter3d\":[{\"line\":{\"colorbar\":{\"outlinewidth\":0,\"ticks\":\"\"}},\"marker\":{\"colorbar\":{\"outlinewidth\":0,\"ticks\":\"\"}},\"type\":\"scatter3d\"}],\"scattercarpet\":[{\"marker\":{\"colorbar\":{\"outlinewidth\":0,\"ticks\":\"\"}},\"type\":\"scattercarpet\"}],\"scattergeo\":[{\"marker\":{\"colorbar\":{\"outlinewidth\":0,\"ticks\":\"\"}},\"type\":\"scattergeo\"}],\"scattergl\":[{\"marker\":{\"colorbar\":{\"outlinewidth\":0,\"ticks\":\"\"}},\"type\":\"scattergl\"}],\"scattermapbox\":[{\"marker\":{\"colorbar\":{\"outlinewidth\":0,\"ticks\":\"\"}},\"type\":\"scattermapbox\"}],\"scatterpolargl\":[{\"marker\":{\"colorbar\":{\"outlinewidth\":0,\"ticks\":\"\"}},\"type\":\"scatterpolargl\"}],\"scatterpolar\":[{\"marker\":{\"colorbar\":{\"outlinewidth\":0,\"ticks\":\"\"}},\"type\":\"scatterpolar\"}],\"scatter\":[{\"fillpattern\":{\"fillmode\":\"overlay\",\"size\":10,\"solidity\":0.2},\"type\":\"scatter\"}],\"scatterternary\":[{\"marker\":{\"colorbar\":{\"outlinewidth\":0,\"ticks\":\"\"}},\"type\":\"scatterternary\"}],\"surface\":[{\"colorbar\":{\"outlinewidth\":0,\"ticks\":\"\"},\"colorscale\":[[0.0,\"#0d0887\"],[0.1111111111111111,\"#46039f\"],[0.2222222222222222,\"#7201a8\"],[0.3333333333333333,\"#9c179e\"],[0.4444444444444444,\"#bd3786\"],[0.5555555555555556,\"#d8576b\"],[0.6666666666666666,\"#ed7953\"],[0.7777777777777778,\"#fb9f3a\"],[0.8888888888888888,\"#fdca26\"],[1.0,\"#f0f921\"]],\"type\":\"surface\"}],\"table\":[{\"cells\":{\"fill\":{\"color\":\"#EBF0F8\"},\"line\":{\"color\":\"white\"}},\"header\":{\"fill\":{\"color\":\"#C8D4E3\"},\"line\":{\"color\":\"white\"}},\"type\":\"table\"}]},\"layout\":{\"annotationdefaults\":{\"arrowcolor\":\"#2a3f5f\",\"arrowhead\":0,\"arrowwidth\":1},\"autotypenumbers\":\"strict\",\"coloraxis\":{\"colorbar\":{\"outlinewidth\":0,\"ticks\":\"\"}},\"colorscale\":{\"diverging\":[[0,\"#8e0152\"],[0.1,\"#c51b7d\"],[0.2,\"#de77ae\"],[0.3,\"#f1b6da\"],[0.4,\"#fde0ef\"],[0.5,\"#f7f7f7\"],[0.6,\"#e6f5d0\"],[0.7,\"#b8e186\"],[0.8,\"#7fbc41\"],[0.9,\"#4d9221\"],[1,\"#276419\"]],\"sequential\":[[0.0,\"#0d0887\"],[0.1111111111111111,\"#46039f\"],[0.2222222222222222,\"#7201a8\"],[0.3333333333333333,\"#9c179e\"],[0.4444444444444444,\"#bd3786\"],[0.5555555555555556,\"#d8576b\"],[0.6666666666666666,\"#ed7953\"],[0.7777777777777778,\"#fb9f3a\"],[0.8888888888888888,\"#fdca26\"],[1.0,\"#f0f921\"]],\"sequentialminus\":[[0.0,\"#0d0887\"],[0.1111111111111111,\"#46039f\"],[0.2222222222222222,\"#7201a8\"],[0.3333333333333333,\"#9c179e\"],[0.4444444444444444,\"#bd3786\"],[0.5555555555555556,\"#d8576b\"],[0.6666666666666666,\"#ed7953\"],[0.7777777777777778,\"#fb9f3a\"],[0.8888888888888888,\"#fdca26\"],[1.0,\"#f0f921\"]]},\"colorway\":[\"#636efa\",\"#EF553B\",\"#00cc96\",\"#ab63fa\",\"#FFA15A\",\"#19d3f3\",\"#FF6692\",\"#B6E880\",\"#FF97FF\",\"#FECB52\"],\"font\":{\"color\":\"#2a3f5f\"},\"geo\":{\"bgcolor\":\"white\",\"lakecolor\":\"white\",\"landcolor\":\"#E5ECF6\",\"showlakes\":true,\"showland\":true,\"subunitcolor\":\"white\"},\"hoverlabel\":{\"align\":\"left\"},\"hovermode\":\"closest\",\"mapbox\":{\"style\":\"light\"},\"paper_bgcolor\":\"white\",\"plot_bgcolor\":\"#E5ECF6\",\"polar\":{\"angularaxis\":{\"gridcolor\":\"white\",\"linecolor\":\"white\",\"ticks\":\"\"},\"bgcolor\":\"#E5ECF6\",\"radialaxis\":{\"gridcolor\":\"white\",\"linecolor\":\"white\",\"ticks\":\"\"}},\"scene\":{\"xaxis\":{\"backgroundcolor\":\"#E5ECF6\",\"gridcolor\":\"white\",\"gridwidth\":2,\"linecolor\":\"white\",\"showbackground\":true,\"ticks\":\"\",\"zerolinecolor\":\"white\"},\"yaxis\":{\"backgroundcolor\":\"#E5ECF6\",\"gridcolor\":\"white\",\"gridwidth\":2,\"linecolor\":\"white\",\"showbackground\":true,\"ticks\":\"\",\"zerolinecolor\":\"white\"},\"zaxis\":{\"backgroundcolor\":\"#E5ECF6\",\"gridcolor\":\"white\",\"gridwidth\":2,\"linecolor\":\"white\",\"showbackground\":true,\"ticks\":\"\",\"zerolinecolor\":\"white\"}},\"shapedefaults\":{\"line\":{\"color\":\"#2a3f5f\"}},\"ternary\":{\"aaxis\":{\"gridcolor\":\"white\",\"linecolor\":\"white\",\"ticks\":\"\"},\"baxis\":{\"gridcolor\":\"white\",\"linecolor\":\"white\",\"ticks\":\"\"},\"bgcolor\":\"#E5ECF6\",\"caxis\":{\"gridcolor\":\"white\",\"linecolor\":\"white\",\"ticks\":\"\"}},\"title\":{\"x\":0.05},\"xaxis\":{\"automargin\":true,\"gridcolor\":\"white\",\"linecolor\":\"white\",\"ticks\":\"\",\"title\":{\"standoff\":15},\"zerolinecolor\":\"white\",\"zerolinewidth\":2},\"yaxis\":{\"automargin\":true,\"gridcolor\":\"white\",\"linecolor\":\"white\",\"ticks\":\"\",\"title\":{\"standoff\":15},\"zerolinecolor\":\"white\",\"zerolinewidth\":2}}},\"title\":{\"font\":{\"color\":\"#4D5663\"}},\"xaxis\":{\"gridcolor\":\"#E1E5ED\",\"showgrid\":true,\"tickfont\":{\"color\":\"#4D5663\"},\"title\":{\"font\":{\"color\":\"#4D5663\"},\"text\":\"\"},\"zerolinecolor\":\"#E1E5ED\"},\"yaxis\":{\"gridcolor\":\"#E1E5ED\",\"showgrid\":true,\"tickfont\":{\"color\":\"#4D5663\"},\"title\":{\"font\":{\"color\":\"#4D5663\"},\"text\":\"\"},\"zerolinecolor\":\"#E1E5ED\"}},                        {\"showLink\": true, \"linkText\": \"Export to plot.ly\", \"plotlyServerURL\": \"https://plot.ly\", \"responsive\": true}                    ).then(function(){\n",
       "                            \n",
       "var gd = document.getElementById('27d829c3-efa8-431a-b4d4-5c30f4a8d3ee');\n",
       "var x = new MutationObserver(function (mutations, observer) {{\n",
       "        var display = window.getComputedStyle(gd).display;\n",
       "        if (!display || display === 'none') {{\n",
       "            console.log([gd, 'removed!']);\n",
       "            Plotly.purge(gd);\n",
       "            observer.disconnect();\n",
       "        }}\n",
       "}});\n",
       "\n",
       "// Listen for the removal of the full notebook cells\n",
       "var notebookContainer = gd.closest('#notebook-container');\n",
       "if (notebookContainer) {{\n",
       "    x.observe(notebookContainer, {childList: true});\n",
       "}}\n",
       "\n",
       "// Listen for the clearing of the current output cell\n",
       "var outputEl = gd.closest('.output');\n",
       "if (outputEl) {{\n",
       "    x.observe(outputEl, {childList: true});\n",
       "}}\n",
       "\n",
       "                        })                };                });            </script>        </div>"
      ]
     },
     "metadata": {},
     "output_type": "display_data"
    }
   ],
   "source": [
    "df2.iplot(kind='bar', x='Category', y='Values')"
   ]
  },
  {
   "cell_type": "code",
   "execution_count": 19,
   "id": "c2c7186a",
   "metadata": {
    "ExecuteTime": {
     "end_time": "2023-03-25T09:00:38.449472Z",
     "start_time": "2023-03-25T09:00:38.420892Z"
    }
   },
   "outputs": [
    {
     "data": {
      "text/html": [
       "<div>\n",
       "<style scoped>\n",
       "    .dataframe tbody tr th:only-of-type {\n",
       "        vertical-align: middle;\n",
       "    }\n",
       "\n",
       "    .dataframe tbody tr th {\n",
       "        vertical-align: top;\n",
       "    }\n",
       "\n",
       "    .dataframe thead th {\n",
       "        text-align: right;\n",
       "    }\n",
       "</style>\n",
       "<table border=\"1\" class=\"dataframe\">\n",
       "  <thead>\n",
       "    <tr style=\"text-align: right;\">\n",
       "      <th></th>\n",
       "      <th>A</th>\n",
       "      <th>B</th>\n",
       "      <th>C</th>\n",
       "      <th>D</th>\n",
       "    </tr>\n",
       "  </thead>\n",
       "  <tbody>\n",
       "    <tr>\n",
       "      <th>0</th>\n",
       "      <td>-0.618586</td>\n",
       "      <td>-0.459252</td>\n",
       "      <td>-0.842160</td>\n",
       "      <td>0.512611</td>\n",
       "    </tr>\n",
       "    <tr>\n",
       "      <th>1</th>\n",
       "      <td>-0.095497</td>\n",
       "      <td>1.614961</td>\n",
       "      <td>-0.970604</td>\n",
       "      <td>1.489227</td>\n",
       "    </tr>\n",
       "    <tr>\n",
       "      <th>2</th>\n",
       "      <td>0.773516</td>\n",
       "      <td>-1.420643</td>\n",
       "      <td>0.683253</td>\n",
       "      <td>-0.064665</td>\n",
       "    </tr>\n",
       "    <tr>\n",
       "      <th>3</th>\n",
       "      <td>-1.954421</td>\n",
       "      <td>1.155145</td>\n",
       "      <td>1.646868</td>\n",
       "      <td>0.807094</td>\n",
       "    </tr>\n",
       "    <tr>\n",
       "      <th>4</th>\n",
       "      <td>0.932106</td>\n",
       "      <td>-0.346131</td>\n",
       "      <td>-0.165681</td>\n",
       "      <td>0.099128</td>\n",
       "    </tr>\n",
       "    <tr>\n",
       "      <th>...</th>\n",
       "      <td>...</td>\n",
       "      <td>...</td>\n",
       "      <td>...</td>\n",
       "      <td>...</td>\n",
       "    </tr>\n",
       "    <tr>\n",
       "      <th>95</th>\n",
       "      <td>1.337534</td>\n",
       "      <td>1.361587</td>\n",
       "      <td>-0.391903</td>\n",
       "      <td>-0.399411</td>\n",
       "    </tr>\n",
       "    <tr>\n",
       "      <th>96</th>\n",
       "      <td>1.088558</td>\n",
       "      <td>0.794730</td>\n",
       "      <td>0.087270</td>\n",
       "      <td>0.425780</td>\n",
       "    </tr>\n",
       "    <tr>\n",
       "      <th>97</th>\n",
       "      <td>-1.644791</td>\n",
       "      <td>-1.018205</td>\n",
       "      <td>1.525275</td>\n",
       "      <td>-0.986130</td>\n",
       "    </tr>\n",
       "    <tr>\n",
       "      <th>98</th>\n",
       "      <td>0.669341</td>\n",
       "      <td>0.683802</td>\n",
       "      <td>1.240649</td>\n",
       "      <td>1.227348</td>\n",
       "    </tr>\n",
       "    <tr>\n",
       "      <th>99</th>\n",
       "      <td>-0.023859</td>\n",
       "      <td>-0.445118</td>\n",
       "      <td>-1.589405</td>\n",
       "      <td>-0.454262</td>\n",
       "    </tr>\n",
       "  </tbody>\n",
       "</table>\n",
       "<p>100 rows × 4 columns</p>\n",
       "</div>"
      ],
      "text/plain": [
       "           A         B         C         D\n",
       "0  -0.618586 -0.459252 -0.842160  0.512611\n",
       "1  -0.095497  1.614961 -0.970604  1.489227\n",
       "2   0.773516 -1.420643  0.683253 -0.064665\n",
       "3  -1.954421  1.155145  1.646868  0.807094\n",
       "4   0.932106 -0.346131 -0.165681  0.099128\n",
       "..       ...       ...       ...       ...\n",
       "95  1.337534  1.361587 -0.391903 -0.399411\n",
       "96  1.088558  0.794730  0.087270  0.425780\n",
       "97 -1.644791 -1.018205  1.525275 -0.986130\n",
       "98  0.669341  0.683802  1.240649  1.227348\n",
       "99 -0.023859 -0.445118 -1.589405 -0.454262\n",
       "\n",
       "[100 rows x 4 columns]"
      ]
     },
     "execution_count": 19,
     "metadata": {},
     "output_type": "execute_result"
    }
   ],
   "source": [
    "df"
   ]
  },
  {
   "cell_type": "code",
   "execution_count": 20,
   "id": "00e9bbd4",
   "metadata": {
    "ExecuteTime": {
     "end_time": "2023-03-25T09:00:38.511269Z",
     "start_time": "2023-03-25T09:00:38.452871Z"
    }
   },
   "outputs": [
    {
     "data": {
      "application/vnd.plotly.v1+json": {
       "config": {
        "linkText": "Export to plot.ly",
        "plotlyServerURL": "https://plot.ly",
        "showLink": true
       },
       "data": [
        {
         "marker": {
          "color": "rgba(255, 153, 51, 0.6)",
          "line": {
           "color": "rgba(255, 153, 51, 1.0)",
           "width": 1
          }
         },
         "name": "None",
         "orientation": "v",
         "text": "",
         "type": "bar",
         "x": [
          "A",
          "B",
          "C",
          "D"
         ],
         "y": [
          -16.51058619313692,
          -3.8658584786751127,
          8.778827926923789,
          -8.568893297908065
         ]
        }
       ],
       "layout": {
        "legend": {
         "bgcolor": "#F5F6F9",
         "font": {
          "color": "#4D5663"
         }
        },
        "paper_bgcolor": "#F5F6F9",
        "plot_bgcolor": "#F5F6F9",
        "template": {
         "data": {
          "bar": [
           {
            "error_x": {
             "color": "#2a3f5f"
            },
            "error_y": {
             "color": "#2a3f5f"
            },
            "marker": {
             "line": {
              "color": "#E5ECF6",
              "width": 0.5
             },
             "pattern": {
              "fillmode": "overlay",
              "size": 10,
              "solidity": 0.2
             }
            },
            "type": "bar"
           }
          ],
          "barpolar": [
           {
            "marker": {
             "line": {
              "color": "#E5ECF6",
              "width": 0.5
             },
             "pattern": {
              "fillmode": "overlay",
              "size": 10,
              "solidity": 0.2
             }
            },
            "type": "barpolar"
           }
          ],
          "carpet": [
           {
            "aaxis": {
             "endlinecolor": "#2a3f5f",
             "gridcolor": "white",
             "linecolor": "white",
             "minorgridcolor": "white",
             "startlinecolor": "#2a3f5f"
            },
            "baxis": {
             "endlinecolor": "#2a3f5f",
             "gridcolor": "white",
             "linecolor": "white",
             "minorgridcolor": "white",
             "startlinecolor": "#2a3f5f"
            },
            "type": "carpet"
           }
          ],
          "choropleth": [
           {
            "colorbar": {
             "outlinewidth": 0,
             "ticks": ""
            },
            "type": "choropleth"
           }
          ],
          "contour": [
           {
            "colorbar": {
             "outlinewidth": 0,
             "ticks": ""
            },
            "colorscale": [
             [
              0,
              "#0d0887"
             ],
             [
              0.1111111111111111,
              "#46039f"
             ],
             [
              0.2222222222222222,
              "#7201a8"
             ],
             [
              0.3333333333333333,
              "#9c179e"
             ],
             [
              0.4444444444444444,
              "#bd3786"
             ],
             [
              0.5555555555555556,
              "#d8576b"
             ],
             [
              0.6666666666666666,
              "#ed7953"
             ],
             [
              0.7777777777777778,
              "#fb9f3a"
             ],
             [
              0.8888888888888888,
              "#fdca26"
             ],
             [
              1,
              "#f0f921"
             ]
            ],
            "type": "contour"
           }
          ],
          "contourcarpet": [
           {
            "colorbar": {
             "outlinewidth": 0,
             "ticks": ""
            },
            "type": "contourcarpet"
           }
          ],
          "heatmap": [
           {
            "colorbar": {
             "outlinewidth": 0,
             "ticks": ""
            },
            "colorscale": [
             [
              0,
              "#0d0887"
             ],
             [
              0.1111111111111111,
              "#46039f"
             ],
             [
              0.2222222222222222,
              "#7201a8"
             ],
             [
              0.3333333333333333,
              "#9c179e"
             ],
             [
              0.4444444444444444,
              "#bd3786"
             ],
             [
              0.5555555555555556,
              "#d8576b"
             ],
             [
              0.6666666666666666,
              "#ed7953"
             ],
             [
              0.7777777777777778,
              "#fb9f3a"
             ],
             [
              0.8888888888888888,
              "#fdca26"
             ],
             [
              1,
              "#f0f921"
             ]
            ],
            "type": "heatmap"
           }
          ],
          "heatmapgl": [
           {
            "colorbar": {
             "outlinewidth": 0,
             "ticks": ""
            },
            "colorscale": [
             [
              0,
              "#0d0887"
             ],
             [
              0.1111111111111111,
              "#46039f"
             ],
             [
              0.2222222222222222,
              "#7201a8"
             ],
             [
              0.3333333333333333,
              "#9c179e"
             ],
             [
              0.4444444444444444,
              "#bd3786"
             ],
             [
              0.5555555555555556,
              "#d8576b"
             ],
             [
              0.6666666666666666,
              "#ed7953"
             ],
             [
              0.7777777777777778,
              "#fb9f3a"
             ],
             [
              0.8888888888888888,
              "#fdca26"
             ],
             [
              1,
              "#f0f921"
             ]
            ],
            "type": "heatmapgl"
           }
          ],
          "histogram": [
           {
            "marker": {
             "pattern": {
              "fillmode": "overlay",
              "size": 10,
              "solidity": 0.2
             }
            },
            "type": "histogram"
           }
          ],
          "histogram2d": [
           {
            "colorbar": {
             "outlinewidth": 0,
             "ticks": ""
            },
            "colorscale": [
             [
              0,
              "#0d0887"
             ],
             [
              0.1111111111111111,
              "#46039f"
             ],
             [
              0.2222222222222222,
              "#7201a8"
             ],
             [
              0.3333333333333333,
              "#9c179e"
             ],
             [
              0.4444444444444444,
              "#bd3786"
             ],
             [
              0.5555555555555556,
              "#d8576b"
             ],
             [
              0.6666666666666666,
              "#ed7953"
             ],
             [
              0.7777777777777778,
              "#fb9f3a"
             ],
             [
              0.8888888888888888,
              "#fdca26"
             ],
             [
              1,
              "#f0f921"
             ]
            ],
            "type": "histogram2d"
           }
          ],
          "histogram2dcontour": [
           {
            "colorbar": {
             "outlinewidth": 0,
             "ticks": ""
            },
            "colorscale": [
             [
              0,
              "#0d0887"
             ],
             [
              0.1111111111111111,
              "#46039f"
             ],
             [
              0.2222222222222222,
              "#7201a8"
             ],
             [
              0.3333333333333333,
              "#9c179e"
             ],
             [
              0.4444444444444444,
              "#bd3786"
             ],
             [
              0.5555555555555556,
              "#d8576b"
             ],
             [
              0.6666666666666666,
              "#ed7953"
             ],
             [
              0.7777777777777778,
              "#fb9f3a"
             ],
             [
              0.8888888888888888,
              "#fdca26"
             ],
             [
              1,
              "#f0f921"
             ]
            ],
            "type": "histogram2dcontour"
           }
          ],
          "mesh3d": [
           {
            "colorbar": {
             "outlinewidth": 0,
             "ticks": ""
            },
            "type": "mesh3d"
           }
          ],
          "parcoords": [
           {
            "line": {
             "colorbar": {
              "outlinewidth": 0,
              "ticks": ""
             }
            },
            "type": "parcoords"
           }
          ],
          "pie": [
           {
            "automargin": true,
            "type": "pie"
           }
          ],
          "scatter": [
           {
            "fillpattern": {
             "fillmode": "overlay",
             "size": 10,
             "solidity": 0.2
            },
            "type": "scatter"
           }
          ],
          "scatter3d": [
           {
            "line": {
             "colorbar": {
              "outlinewidth": 0,
              "ticks": ""
             }
            },
            "marker": {
             "colorbar": {
              "outlinewidth": 0,
              "ticks": ""
             }
            },
            "type": "scatter3d"
           }
          ],
          "scattercarpet": [
           {
            "marker": {
             "colorbar": {
              "outlinewidth": 0,
              "ticks": ""
             }
            },
            "type": "scattercarpet"
           }
          ],
          "scattergeo": [
           {
            "marker": {
             "colorbar": {
              "outlinewidth": 0,
              "ticks": ""
             }
            },
            "type": "scattergeo"
           }
          ],
          "scattergl": [
           {
            "marker": {
             "colorbar": {
              "outlinewidth": 0,
              "ticks": ""
             }
            },
            "type": "scattergl"
           }
          ],
          "scattermapbox": [
           {
            "marker": {
             "colorbar": {
              "outlinewidth": 0,
              "ticks": ""
             }
            },
            "type": "scattermapbox"
           }
          ],
          "scatterpolar": [
           {
            "marker": {
             "colorbar": {
              "outlinewidth": 0,
              "ticks": ""
             }
            },
            "type": "scatterpolar"
           }
          ],
          "scatterpolargl": [
           {
            "marker": {
             "colorbar": {
              "outlinewidth": 0,
              "ticks": ""
             }
            },
            "type": "scatterpolargl"
           }
          ],
          "scatterternary": [
           {
            "marker": {
             "colorbar": {
              "outlinewidth": 0,
              "ticks": ""
             }
            },
            "type": "scatterternary"
           }
          ],
          "surface": [
           {
            "colorbar": {
             "outlinewidth": 0,
             "ticks": ""
            },
            "colorscale": [
             [
              0,
              "#0d0887"
             ],
             [
              0.1111111111111111,
              "#46039f"
             ],
             [
              0.2222222222222222,
              "#7201a8"
             ],
             [
              0.3333333333333333,
              "#9c179e"
             ],
             [
              0.4444444444444444,
              "#bd3786"
             ],
             [
              0.5555555555555556,
              "#d8576b"
             ],
             [
              0.6666666666666666,
              "#ed7953"
             ],
             [
              0.7777777777777778,
              "#fb9f3a"
             ],
             [
              0.8888888888888888,
              "#fdca26"
             ],
             [
              1,
              "#f0f921"
             ]
            ],
            "type": "surface"
           }
          ],
          "table": [
           {
            "cells": {
             "fill": {
              "color": "#EBF0F8"
             },
             "line": {
              "color": "white"
             }
            },
            "header": {
             "fill": {
              "color": "#C8D4E3"
             },
             "line": {
              "color": "white"
             }
            },
            "type": "table"
           }
          ]
         },
         "layout": {
          "annotationdefaults": {
           "arrowcolor": "#2a3f5f",
           "arrowhead": 0,
           "arrowwidth": 1
          },
          "autotypenumbers": "strict",
          "coloraxis": {
           "colorbar": {
            "outlinewidth": 0,
            "ticks": ""
           }
          },
          "colorscale": {
           "diverging": [
            [
             0,
             "#8e0152"
            ],
            [
             0.1,
             "#c51b7d"
            ],
            [
             0.2,
             "#de77ae"
            ],
            [
             0.3,
             "#f1b6da"
            ],
            [
             0.4,
             "#fde0ef"
            ],
            [
             0.5,
             "#f7f7f7"
            ],
            [
             0.6,
             "#e6f5d0"
            ],
            [
             0.7,
             "#b8e186"
            ],
            [
             0.8,
             "#7fbc41"
            ],
            [
             0.9,
             "#4d9221"
            ],
            [
             1,
             "#276419"
            ]
           ],
           "sequential": [
            [
             0,
             "#0d0887"
            ],
            [
             0.1111111111111111,
             "#46039f"
            ],
            [
             0.2222222222222222,
             "#7201a8"
            ],
            [
             0.3333333333333333,
             "#9c179e"
            ],
            [
             0.4444444444444444,
             "#bd3786"
            ],
            [
             0.5555555555555556,
             "#d8576b"
            ],
            [
             0.6666666666666666,
             "#ed7953"
            ],
            [
             0.7777777777777778,
             "#fb9f3a"
            ],
            [
             0.8888888888888888,
             "#fdca26"
            ],
            [
             1,
             "#f0f921"
            ]
           ],
           "sequentialminus": [
            [
             0,
             "#0d0887"
            ],
            [
             0.1111111111111111,
             "#46039f"
            ],
            [
             0.2222222222222222,
             "#7201a8"
            ],
            [
             0.3333333333333333,
             "#9c179e"
            ],
            [
             0.4444444444444444,
             "#bd3786"
            ],
            [
             0.5555555555555556,
             "#d8576b"
            ],
            [
             0.6666666666666666,
             "#ed7953"
            ],
            [
             0.7777777777777778,
             "#fb9f3a"
            ],
            [
             0.8888888888888888,
             "#fdca26"
            ],
            [
             1,
             "#f0f921"
            ]
           ]
          },
          "colorway": [
           "#636efa",
           "#EF553B",
           "#00cc96",
           "#ab63fa",
           "#FFA15A",
           "#19d3f3",
           "#FF6692",
           "#B6E880",
           "#FF97FF",
           "#FECB52"
          ],
          "font": {
           "color": "#2a3f5f"
          },
          "geo": {
           "bgcolor": "white",
           "lakecolor": "white",
           "landcolor": "#E5ECF6",
           "showlakes": true,
           "showland": true,
           "subunitcolor": "white"
          },
          "hoverlabel": {
           "align": "left"
          },
          "hovermode": "closest",
          "mapbox": {
           "style": "light"
          },
          "paper_bgcolor": "white",
          "plot_bgcolor": "#E5ECF6",
          "polar": {
           "angularaxis": {
            "gridcolor": "white",
            "linecolor": "white",
            "ticks": ""
           },
           "bgcolor": "#E5ECF6",
           "radialaxis": {
            "gridcolor": "white",
            "linecolor": "white",
            "ticks": ""
           }
          },
          "scene": {
           "xaxis": {
            "backgroundcolor": "#E5ECF6",
            "gridcolor": "white",
            "gridwidth": 2,
            "linecolor": "white",
            "showbackground": true,
            "ticks": "",
            "zerolinecolor": "white"
           },
           "yaxis": {
            "backgroundcolor": "#E5ECF6",
            "gridcolor": "white",
            "gridwidth": 2,
            "linecolor": "white",
            "showbackground": true,
            "ticks": "",
            "zerolinecolor": "white"
           },
           "zaxis": {
            "backgroundcolor": "#E5ECF6",
            "gridcolor": "white",
            "gridwidth": 2,
            "linecolor": "white",
            "showbackground": true,
            "ticks": "",
            "zerolinecolor": "white"
           }
          },
          "shapedefaults": {
           "line": {
            "color": "#2a3f5f"
           }
          },
          "ternary": {
           "aaxis": {
            "gridcolor": "white",
            "linecolor": "white",
            "ticks": ""
           },
           "baxis": {
            "gridcolor": "white",
            "linecolor": "white",
            "ticks": ""
           },
           "bgcolor": "#E5ECF6",
           "caxis": {
            "gridcolor": "white",
            "linecolor": "white",
            "ticks": ""
           }
          },
          "title": {
           "x": 0.05
          },
          "xaxis": {
           "automargin": true,
           "gridcolor": "white",
           "linecolor": "white",
           "ticks": "",
           "title": {
            "standoff": 15
           },
           "zerolinecolor": "white",
           "zerolinewidth": 2
          },
          "yaxis": {
           "automargin": true,
           "gridcolor": "white",
           "linecolor": "white",
           "ticks": "",
           "title": {
            "standoff": 15
           },
           "zerolinecolor": "white",
           "zerolinewidth": 2
          }
         }
        },
        "title": {
         "font": {
          "color": "#4D5663"
         }
        },
        "xaxis": {
         "gridcolor": "#E1E5ED",
         "showgrid": true,
         "tickfont": {
          "color": "#4D5663"
         },
         "title": {
          "font": {
           "color": "#4D5663"
          },
          "text": ""
         },
         "zerolinecolor": "#E1E5ED"
        },
        "yaxis": {
         "gridcolor": "#E1E5ED",
         "showgrid": true,
         "tickfont": {
          "color": "#4D5663"
         },
         "title": {
          "font": {
           "color": "#4D5663"
          },
          "text": ""
         },
         "zerolinecolor": "#E1E5ED"
        }
       }
      },
      "text/html": [
       "<div>                            <div id=\"6b3c1791-bae1-4101-8eb0-a7899551b289\" class=\"plotly-graph-div\" style=\"height:525px; width:100%;\"></div>            <script type=\"text/javascript\">                require([\"plotly\"], function(Plotly) {                    window.PLOTLYENV=window.PLOTLYENV || {};\n",
       "                    window.PLOTLYENV.BASE_URL='https://plot.ly';                                    if (document.getElementById(\"6b3c1791-bae1-4101-8eb0-a7899551b289\")) {                    Plotly.newPlot(                        \"6b3c1791-bae1-4101-8eb0-a7899551b289\",                        [{\"marker\":{\"color\":\"rgba(255, 153, 51, 0.6)\",\"line\":{\"color\":\"rgba(255, 153, 51, 1.0)\",\"width\":1}},\"name\":\"None\",\"orientation\":\"v\",\"text\":\"\",\"x\":[\"A\",\"B\",\"C\",\"D\"],\"y\":[-16.51058619313692,-3.8658584786751127,8.778827926923789,-8.568893297908065],\"type\":\"bar\"}],                        {\"legend\":{\"bgcolor\":\"#F5F6F9\",\"font\":{\"color\":\"#4D5663\"}},\"paper_bgcolor\":\"#F5F6F9\",\"plot_bgcolor\":\"#F5F6F9\",\"template\":{\"data\":{\"barpolar\":[{\"marker\":{\"line\":{\"color\":\"#E5ECF6\",\"width\":0.5},\"pattern\":{\"fillmode\":\"overlay\",\"size\":10,\"solidity\":0.2}},\"type\":\"barpolar\"}],\"bar\":[{\"error_x\":{\"color\":\"#2a3f5f\"},\"error_y\":{\"color\":\"#2a3f5f\"},\"marker\":{\"line\":{\"color\":\"#E5ECF6\",\"width\":0.5},\"pattern\":{\"fillmode\":\"overlay\",\"size\":10,\"solidity\":0.2}},\"type\":\"bar\"}],\"carpet\":[{\"aaxis\":{\"endlinecolor\":\"#2a3f5f\",\"gridcolor\":\"white\",\"linecolor\":\"white\",\"minorgridcolor\":\"white\",\"startlinecolor\":\"#2a3f5f\"},\"baxis\":{\"endlinecolor\":\"#2a3f5f\",\"gridcolor\":\"white\",\"linecolor\":\"white\",\"minorgridcolor\":\"white\",\"startlinecolor\":\"#2a3f5f\"},\"type\":\"carpet\"}],\"choropleth\":[{\"colorbar\":{\"outlinewidth\":0,\"ticks\":\"\"},\"type\":\"choropleth\"}],\"contourcarpet\":[{\"colorbar\":{\"outlinewidth\":0,\"ticks\":\"\"},\"type\":\"contourcarpet\"}],\"contour\":[{\"colorbar\":{\"outlinewidth\":0,\"ticks\":\"\"},\"colorscale\":[[0.0,\"#0d0887\"],[0.1111111111111111,\"#46039f\"],[0.2222222222222222,\"#7201a8\"],[0.3333333333333333,\"#9c179e\"],[0.4444444444444444,\"#bd3786\"],[0.5555555555555556,\"#d8576b\"],[0.6666666666666666,\"#ed7953\"],[0.7777777777777778,\"#fb9f3a\"],[0.8888888888888888,\"#fdca26\"],[1.0,\"#f0f921\"]],\"type\":\"contour\"}],\"heatmapgl\":[{\"colorbar\":{\"outlinewidth\":0,\"ticks\":\"\"},\"colorscale\":[[0.0,\"#0d0887\"],[0.1111111111111111,\"#46039f\"],[0.2222222222222222,\"#7201a8\"],[0.3333333333333333,\"#9c179e\"],[0.4444444444444444,\"#bd3786\"],[0.5555555555555556,\"#d8576b\"],[0.6666666666666666,\"#ed7953\"],[0.7777777777777778,\"#fb9f3a\"],[0.8888888888888888,\"#fdca26\"],[1.0,\"#f0f921\"]],\"type\":\"heatmapgl\"}],\"heatmap\":[{\"colorbar\":{\"outlinewidth\":0,\"ticks\":\"\"},\"colorscale\":[[0.0,\"#0d0887\"],[0.1111111111111111,\"#46039f\"],[0.2222222222222222,\"#7201a8\"],[0.3333333333333333,\"#9c179e\"],[0.4444444444444444,\"#bd3786\"],[0.5555555555555556,\"#d8576b\"],[0.6666666666666666,\"#ed7953\"],[0.7777777777777778,\"#fb9f3a\"],[0.8888888888888888,\"#fdca26\"],[1.0,\"#f0f921\"]],\"type\":\"heatmap\"}],\"histogram2dcontour\":[{\"colorbar\":{\"outlinewidth\":0,\"ticks\":\"\"},\"colorscale\":[[0.0,\"#0d0887\"],[0.1111111111111111,\"#46039f\"],[0.2222222222222222,\"#7201a8\"],[0.3333333333333333,\"#9c179e\"],[0.4444444444444444,\"#bd3786\"],[0.5555555555555556,\"#d8576b\"],[0.6666666666666666,\"#ed7953\"],[0.7777777777777778,\"#fb9f3a\"],[0.8888888888888888,\"#fdca26\"],[1.0,\"#f0f921\"]],\"type\":\"histogram2dcontour\"}],\"histogram2d\":[{\"colorbar\":{\"outlinewidth\":0,\"ticks\":\"\"},\"colorscale\":[[0.0,\"#0d0887\"],[0.1111111111111111,\"#46039f\"],[0.2222222222222222,\"#7201a8\"],[0.3333333333333333,\"#9c179e\"],[0.4444444444444444,\"#bd3786\"],[0.5555555555555556,\"#d8576b\"],[0.6666666666666666,\"#ed7953\"],[0.7777777777777778,\"#fb9f3a\"],[0.8888888888888888,\"#fdca26\"],[1.0,\"#f0f921\"]],\"type\":\"histogram2d\"}],\"histogram\":[{\"marker\":{\"pattern\":{\"fillmode\":\"overlay\",\"size\":10,\"solidity\":0.2}},\"type\":\"histogram\"}],\"mesh3d\":[{\"colorbar\":{\"outlinewidth\":0,\"ticks\":\"\"},\"type\":\"mesh3d\"}],\"parcoords\":[{\"line\":{\"colorbar\":{\"outlinewidth\":0,\"ticks\":\"\"}},\"type\":\"parcoords\"}],\"pie\":[{\"automargin\":true,\"type\":\"pie\"}],\"scatter3d\":[{\"line\":{\"colorbar\":{\"outlinewidth\":0,\"ticks\":\"\"}},\"marker\":{\"colorbar\":{\"outlinewidth\":0,\"ticks\":\"\"}},\"type\":\"scatter3d\"}],\"scattercarpet\":[{\"marker\":{\"colorbar\":{\"outlinewidth\":0,\"ticks\":\"\"}},\"type\":\"scattercarpet\"}],\"scattergeo\":[{\"marker\":{\"colorbar\":{\"outlinewidth\":0,\"ticks\":\"\"}},\"type\":\"scattergeo\"}],\"scattergl\":[{\"marker\":{\"colorbar\":{\"outlinewidth\":0,\"ticks\":\"\"}},\"type\":\"scattergl\"}],\"scattermapbox\":[{\"marker\":{\"colorbar\":{\"outlinewidth\":0,\"ticks\":\"\"}},\"type\":\"scattermapbox\"}],\"scatterpolargl\":[{\"marker\":{\"colorbar\":{\"outlinewidth\":0,\"ticks\":\"\"}},\"type\":\"scatterpolargl\"}],\"scatterpolar\":[{\"marker\":{\"colorbar\":{\"outlinewidth\":0,\"ticks\":\"\"}},\"type\":\"scatterpolar\"}],\"scatter\":[{\"fillpattern\":{\"fillmode\":\"overlay\",\"size\":10,\"solidity\":0.2},\"type\":\"scatter\"}],\"scatterternary\":[{\"marker\":{\"colorbar\":{\"outlinewidth\":0,\"ticks\":\"\"}},\"type\":\"scatterternary\"}],\"surface\":[{\"colorbar\":{\"outlinewidth\":0,\"ticks\":\"\"},\"colorscale\":[[0.0,\"#0d0887\"],[0.1111111111111111,\"#46039f\"],[0.2222222222222222,\"#7201a8\"],[0.3333333333333333,\"#9c179e\"],[0.4444444444444444,\"#bd3786\"],[0.5555555555555556,\"#d8576b\"],[0.6666666666666666,\"#ed7953\"],[0.7777777777777778,\"#fb9f3a\"],[0.8888888888888888,\"#fdca26\"],[1.0,\"#f0f921\"]],\"type\":\"surface\"}],\"table\":[{\"cells\":{\"fill\":{\"color\":\"#EBF0F8\"},\"line\":{\"color\":\"white\"}},\"header\":{\"fill\":{\"color\":\"#C8D4E3\"},\"line\":{\"color\":\"white\"}},\"type\":\"table\"}]},\"layout\":{\"annotationdefaults\":{\"arrowcolor\":\"#2a3f5f\",\"arrowhead\":0,\"arrowwidth\":1},\"autotypenumbers\":\"strict\",\"coloraxis\":{\"colorbar\":{\"outlinewidth\":0,\"ticks\":\"\"}},\"colorscale\":{\"diverging\":[[0,\"#8e0152\"],[0.1,\"#c51b7d\"],[0.2,\"#de77ae\"],[0.3,\"#f1b6da\"],[0.4,\"#fde0ef\"],[0.5,\"#f7f7f7\"],[0.6,\"#e6f5d0\"],[0.7,\"#b8e186\"],[0.8,\"#7fbc41\"],[0.9,\"#4d9221\"],[1,\"#276419\"]],\"sequential\":[[0.0,\"#0d0887\"],[0.1111111111111111,\"#46039f\"],[0.2222222222222222,\"#7201a8\"],[0.3333333333333333,\"#9c179e\"],[0.4444444444444444,\"#bd3786\"],[0.5555555555555556,\"#d8576b\"],[0.6666666666666666,\"#ed7953\"],[0.7777777777777778,\"#fb9f3a\"],[0.8888888888888888,\"#fdca26\"],[1.0,\"#f0f921\"]],\"sequentialminus\":[[0.0,\"#0d0887\"],[0.1111111111111111,\"#46039f\"],[0.2222222222222222,\"#7201a8\"],[0.3333333333333333,\"#9c179e\"],[0.4444444444444444,\"#bd3786\"],[0.5555555555555556,\"#d8576b\"],[0.6666666666666666,\"#ed7953\"],[0.7777777777777778,\"#fb9f3a\"],[0.8888888888888888,\"#fdca26\"],[1.0,\"#f0f921\"]]},\"colorway\":[\"#636efa\",\"#EF553B\",\"#00cc96\",\"#ab63fa\",\"#FFA15A\",\"#19d3f3\",\"#FF6692\",\"#B6E880\",\"#FF97FF\",\"#FECB52\"],\"font\":{\"color\":\"#2a3f5f\"},\"geo\":{\"bgcolor\":\"white\",\"lakecolor\":\"white\",\"landcolor\":\"#E5ECF6\",\"showlakes\":true,\"showland\":true,\"subunitcolor\":\"white\"},\"hoverlabel\":{\"align\":\"left\"},\"hovermode\":\"closest\",\"mapbox\":{\"style\":\"light\"},\"paper_bgcolor\":\"white\",\"plot_bgcolor\":\"#E5ECF6\",\"polar\":{\"angularaxis\":{\"gridcolor\":\"white\",\"linecolor\":\"white\",\"ticks\":\"\"},\"bgcolor\":\"#E5ECF6\",\"radialaxis\":{\"gridcolor\":\"white\",\"linecolor\":\"white\",\"ticks\":\"\"}},\"scene\":{\"xaxis\":{\"backgroundcolor\":\"#E5ECF6\",\"gridcolor\":\"white\",\"gridwidth\":2,\"linecolor\":\"white\",\"showbackground\":true,\"ticks\":\"\",\"zerolinecolor\":\"white\"},\"yaxis\":{\"backgroundcolor\":\"#E5ECF6\",\"gridcolor\":\"white\",\"gridwidth\":2,\"linecolor\":\"white\",\"showbackground\":true,\"ticks\":\"\",\"zerolinecolor\":\"white\"},\"zaxis\":{\"backgroundcolor\":\"#E5ECF6\",\"gridcolor\":\"white\",\"gridwidth\":2,\"linecolor\":\"white\",\"showbackground\":true,\"ticks\":\"\",\"zerolinecolor\":\"white\"}},\"shapedefaults\":{\"line\":{\"color\":\"#2a3f5f\"}},\"ternary\":{\"aaxis\":{\"gridcolor\":\"white\",\"linecolor\":\"white\",\"ticks\":\"\"},\"baxis\":{\"gridcolor\":\"white\",\"linecolor\":\"white\",\"ticks\":\"\"},\"bgcolor\":\"#E5ECF6\",\"caxis\":{\"gridcolor\":\"white\",\"linecolor\":\"white\",\"ticks\":\"\"}},\"title\":{\"x\":0.05},\"xaxis\":{\"automargin\":true,\"gridcolor\":\"white\",\"linecolor\":\"white\",\"ticks\":\"\",\"title\":{\"standoff\":15},\"zerolinecolor\":\"white\",\"zerolinewidth\":2},\"yaxis\":{\"automargin\":true,\"gridcolor\":\"white\",\"linecolor\":\"white\",\"ticks\":\"\",\"title\":{\"standoff\":15},\"zerolinecolor\":\"white\",\"zerolinewidth\":2}}},\"title\":{\"font\":{\"color\":\"#4D5663\"}},\"xaxis\":{\"gridcolor\":\"#E1E5ED\",\"showgrid\":true,\"tickfont\":{\"color\":\"#4D5663\"},\"title\":{\"font\":{\"color\":\"#4D5663\"},\"text\":\"\"},\"zerolinecolor\":\"#E1E5ED\"},\"yaxis\":{\"gridcolor\":\"#E1E5ED\",\"showgrid\":true,\"tickfont\":{\"color\":\"#4D5663\"},\"title\":{\"font\":{\"color\":\"#4D5663\"},\"text\":\"\"},\"zerolinecolor\":\"#E1E5ED\"}},                        {\"showLink\": true, \"linkText\": \"Export to plot.ly\", \"plotlyServerURL\": \"https://plot.ly\", \"responsive\": true}                    ).then(function(){\n",
       "                            \n",
       "var gd = document.getElementById('6b3c1791-bae1-4101-8eb0-a7899551b289');\n",
       "var x = new MutationObserver(function (mutations, observer) {{\n",
       "        var display = window.getComputedStyle(gd).display;\n",
       "        if (!display || display === 'none') {{\n",
       "            console.log([gd, 'removed!']);\n",
       "            Plotly.purge(gd);\n",
       "            observer.disconnect();\n",
       "        }}\n",
       "}});\n",
       "\n",
       "// Listen for the removal of the full notebook cells\n",
       "var notebookContainer = gd.closest('#notebook-container');\n",
       "if (notebookContainer) {{\n",
       "    x.observe(notebookContainer, {childList: true});\n",
       "}}\n",
       "\n",
       "// Listen for the clearing of the current output cell\n",
       "var outputEl = gd.closest('.output');\n",
       "if (outputEl) {{\n",
       "    x.observe(outputEl, {childList: true});\n",
       "}}\n",
       "\n",
       "                        })                };                });            </script>        </div>"
      ]
     },
     "metadata": {},
     "output_type": "display_data"
    }
   ],
   "source": [
    "#df.count().iplot(kind='bar')\n",
    "df.sum().iplot(kind='bar')"
   ]
  },
  {
   "cell_type": "code",
   "execution_count": 21,
   "id": "f548f12f",
   "metadata": {
    "ExecuteTime": {
     "end_time": "2023-03-25T09:00:38.651721Z",
     "start_time": "2023-03-25T09:00:38.513268Z"
    }
   },
   "outputs": [
    {
     "data": {
      "application/vnd.plotly.v1+json": {
       "config": {
        "linkText": "Export to plot.ly",
        "plotlyServerURL": "https://plot.ly",
        "showLink": true
       },
       "data": [
        {
         "boxpoints": false,
         "line": {
          "width": 1.3
         },
         "marker": {
          "color": "rgba(255, 153, 51, 1.0)"
         },
         "name": "A",
         "orientation": "v",
         "type": "box",
         "y": [
          -0.6185864777596235,
          -0.09549749996174815,
          0.7735155947714842,
          -1.9544208522009834,
          0.9321062993468145,
          0.36391957912219924,
          1.0222517106252103,
          0.21428349229504423,
          0.30155723927183736,
          -1.7737081556426644,
          -0.8813197097782401,
          -1.1833788622984094,
          1.0921030137803465,
          0.47150727733146436,
          -1.6539348028518632,
          -0.28566133680357586,
          1.6103067819704,
          -1.8417392372265438,
          0.039193584163302084,
          -0.6695950365093897,
          -0.7291227819448418,
          0.17384486693441867,
          1.5625067918950442,
          -2.118320960980159,
          -0.6478092575126989,
          -1.3354358976613383,
          -0.11900269907027594,
          1.8690436615397525,
          0.3602185862801853,
          0.954444106941083,
          -1.3426442266410488,
          -0.5861974838373313,
          -1.2776509648542993,
          -0.17202929225908314,
          -0.5899977906595941,
          1.3660735045819095,
          -1.096820738909289,
          0.09159655138384042,
          0.8669297839834728,
          0.11618036291092862,
          -0.1306793735655419,
          -1.409084507446096,
          -1.1458344122244621,
          -0.20695860339653058,
          -1.037860881063523,
          0.01958383190177941,
          1.877231153321232,
          -0.4861599541240264,
          0.2256221614426137,
          1.0191400317688684,
          -1.7994981450956142,
          -0.449892724101533,
          -1.7060329759096715,
          -0.7097216977459914,
          -0.8825995557308481,
          0.33962848154734276,
          0.20113285388190974,
          0.46035911247198713,
          0.7091683111522437,
          -1.2284387339475709,
          0.11445375532849965,
          -0.11410251539813779,
          -0.433581463941365,
          -0.1506692378419643,
          0.33482007756007925,
          -1.5145111918515755,
          0.570038479119206,
          -1.2112103535764067,
          -0.4029111539814335,
          -0.19348347413316772,
          -0.18662039060185484,
          -0.4020159349141075,
          -1.104221400696765,
          -0.7881037638705021,
          0.9624880966553944,
          0.8370910133274343,
          0.08064775753280434,
          0.4529394450193887,
          0.8144227765728742,
          -0.4139266273079406,
          -0.16045457024510903,
          0.11560583805022592,
          0.5018750969144258,
          -1.05549272187284,
          0.6646897400226129,
          0.7252518633264401,
          -0.8634744428274881,
          0.14526679817629318,
          0.5642348261932901,
          -0.5739339256594503,
          0.15846871036688384,
          0.5303216539889294,
          -0.4638919188417855,
          -2.653303499100419,
          0.30810942245492506,
          1.337533737637027,
          1.0885583937029353,
          -1.6447907309114553,
          0.6693410844821837,
          -0.023858538897312875
         ]
        },
        {
         "boxpoints": false,
         "line": {
          "width": 1.3
         },
         "marker": {
          "color": "rgba(55, 128, 191, 1.0)"
         },
         "name": "B",
         "orientation": "v",
         "type": "box",
         "y": [
          -0.4592523817006714,
          1.614960731672855,
          -1.4206426925982674,
          1.1551454541846038,
          -0.34613058552962517,
          1.6624230716641488,
          -0.11554649598016219,
          -0.01851161969972325,
          0.09984663041486533,
          -2.043102167532454,
          -1.478451948264321,
          -0.2788843499486517,
          -0.1497492795430963,
          1.9533168820677445,
          -0.10989230038135865,
          0.31344790900193625,
          0.08678752237308349,
          -0.3990447395439932,
          -1.4424816562369789,
          -0.028981252459112657,
          -0.4160821900068768,
          -0.9024826500293118,
          -0.5208567006043135,
          0.37071150697915956,
          0.29340762940465925,
          -0.15303788800844492,
          -1.7013013838151183,
          -2.1032089257065056,
          0.01803007769576685,
          0.774085466469011,
          -0.0130218043338703,
          0.7479391896322369,
          0.7318773540406959,
          -1.800944110150754,
          1.4099248117758916,
          -1.5325103771876123,
          0.5782922057046384,
          0.3053398932705239,
          -0.06430529590814345,
          1.0236623980295185,
          0.6914789499794927,
          0.7371810656811424,
          2.606242974469369,
          -1.5007673763044456,
          -1.0420156920821377,
          0.046743919591023995,
          1.3154764187085386,
          -0.18591517662231646,
          0.7578452017067829,
          -1.1201103682918108,
          -1.4809656473238406,
          -1.932290152656959,
          0.5687456244608741,
          -2.183122855649209,
          -0.18703771863844015,
          0.38248194212075454,
          -1.4501529065420269,
          1.0649615189495414,
          -0.44540408458769665,
          -0.5991301447361154,
          0.608703902269564,
          0.4058260851185324,
          0.457400126610244,
          0.5464347317371752,
          -0.2577028738771836,
          -0.6222900815300759,
          0.04461153224918688,
          -2.447018762098259,
          -0.23888100490859634,
          0.08761509395317087,
          1.623124602304495,
          1.1845787037770144,
          0.5492856988758372,
          1.130595322987083,
          -1.8840243529998721,
          0.18955829582691278,
          1.6839930239683714,
          0.5334500493016082,
          1.8492431165364005,
          0.4549707177333402,
          0.6697077146222054,
          0.4085483537015883,
          -0.5082199635442869,
          0.3448252142610793,
          -0.9833076650745944,
          0.2228561564482779,
          1.314600834470803,
          0.5969614245184819,
          0.5615669274826204,
          -0.03580808061129372,
          0.2825263823615819,
          -2.104980414657762,
          -1.8480485079071858,
          -1.2798589824928985,
          -0.4685176982797968,
          1.3615871560013324,
          0.7947295589257131,
          -1.018205327768071,
          0.6838015779839137,
          -0.445118498396265
         ]
        },
        {
         "boxpoints": false,
         "line": {
          "width": 1.3
         },
         "marker": {
          "color": "rgba(50, 171, 96, 1.0)"
         },
         "name": "C",
         "orientation": "v",
         "type": "box",
         "y": [
          -0.8421603506766187,
          -0.9706041899799989,
          0.6832531168715341,
          1.6468678884740529,
          -0.16568135375708265,
          0.6293779960362839,
          1.2922687753064812,
          -0.09669053752515908,
          0.758570054065179,
          -0.8839507721828632,
          1.2280342442807675,
          -0.4628807989882697,
          -0.7161165844696878,
          1.4464843188409209,
          1.4629995097962403,
          -0.6286919968925113,
          0.5498266948912985,
          0.46202528676540383,
          -1.5968510028160237,
          1.6849093652971419,
          1.3184842391473701,
          1.7523413485734658,
          1.1145417017973525,
          0.8238061796830247,
          -0.11673079421807615,
          -0.9431413499758955,
          -0.6661012696103875,
          1.59665769705926,
          -1.4418095782645222,
          -0.028825792028261146,
          0.8846910659012178,
          1.3445888166417854,
          0.831313865520293,
          0.8984402570930786,
          0.9547597163223918,
          0.7243675719745242,
          -0.8504776604197904,
          0.7231445379854539,
          0.2122902086328843,
          -0.6319829696360213,
          0.8116987479536433,
          0.5663356880650702,
          -1.4081827739065174,
          1.3257080152455498,
          -0.35341041248399896,
          0.5986991170484928,
          -1.601105994725186,
          0.4510025063777082,
          -1.843962988505521,
          -0.6175567323014791,
          -0.46874922145868564,
          0.8017055728270843,
          0.9295789737059647,
          0.5769158548612651,
          0.8241325254974661,
          -1.3989811469531985,
          -0.1737328629106375,
          -1.1120987796057764,
          0.08397943697541344,
          0.41450385508002524,
          0.37813446451759153,
          0.5637465086282746,
          0.23448459891588502,
          -0.646152213425436,
          0.6888265843952968,
          1.1773248338495332,
          -2.366822749360234,
          2.5593268473776716,
          -0.8337284202472874,
          -0.6349992892264821,
          -1.1108274470015802,
          -0.5504924823973055,
          -0.5166790104444628,
          -0.35967398108001764,
          0.03304142061605584,
          -0.9953569079540042,
          -0.34225235175776236,
          0.05415196437471269,
          1.4312114089526344,
          -0.06819439128707315,
          0.9337859534275348,
          -0.9979806075142508,
          2.5153526996216797,
          -0.9202468939840021,
          -0.5645653682586875,
          -0.41454134423968747,
          -0.37516634580729047,
          -1.0212328426549688,
          -1.462300513745385,
          -1.767508363123518,
          -0.40178821637522183,
          -0.17122260507528686,
          0.4352737343905665,
          -0.01868513096343089,
          1.0548725514811137,
          -0.3919034473977661,
          0.08727005314804788,
          1.5252750004784736,
          1.2406486221739632,
          -1.5894052324070254
         ]
        },
        {
         "boxpoints": false,
         "line": {
          "width": 1.3
         },
         "marker": {
          "color": "rgba(128, 0, 128, 1.0)"
         },
         "name": "D",
         "orientation": "v",
         "type": "box",
         "y": [
          0.5126109428890469,
          1.4892272058537255,
          -0.06466481511960792,
          0.807094467503425,
          0.09912812177445302,
          0.0037604224907197346,
          1.7881832836634417,
          1.4373731417175712,
          -0.49032218019714713,
          0.7844086874638536,
          -0.9135354119307758,
          0.5083954666397061,
          -3.1349339074281404,
          -2.21207508186638,
          0.4447330266031348,
          0.18787135141075115,
          0.14751055603017138,
          -1.0925191742194862,
          -1.420182643360601,
          -2.6950447421847166,
          -1.1120408459566193,
          -1.5119946162620084,
          0.21487814882806078,
          -0.5778547810602227,
          -0.6157290651613634,
          -0.5141466764562026,
          -1.5873889037285451,
          -0.3247674515862568,
          1.8465745931558841,
          0.3717136751793924,
          -0.0944745193772145,
          -0.7256893345692426,
          0.6329911919873296,
          0.8432331721074044,
          0.21506185326754326,
          -0.3946349840372016,
          1.0164983176266524,
          0.2707980457033641,
          0.43401711765144985,
          -0.7514870419734236,
          1.5967967931952454,
          -0.5192006010979153,
          -0.16636177789934467,
          1.063769112378764,
          0.04824552637562311,
          -0.30927218647456906,
          -0.8455324146613583,
          -1.292727257811507,
          0.8011477929185559,
          -0.35765870279142736,
          -0.1801085848973175,
          -0.5179106531571229,
          0.20678839468290003,
          0.21217097423294343,
          -0.5197920666799181,
          1.5452085633784096,
          0.8164027682792973,
          1.7211677024187413,
          -0.056769339959388786,
          -1.441754323154373,
          -2.1037029742663806,
          0.784787163635707,
          -0.9254897742956887,
          -0.30742465476637876,
          -0.795795144089506,
          -0.20367749333363674,
          -0.44097727181532287,
          1.1106618413964617,
          -1.4799913193064362,
          0.820803062794328,
          -0.885579677922769,
          0.7746145957497992,
          -0.584185617026759,
          0.44814214424737153,
          0.7327582698609134,
          -0.42593933722798827,
          0.5025705667376403,
          -1.94052132088566,
          1.151791010936278,
          0.18333509384631916,
          -0.8832256403000278,
          1.4734051005315147,
          2.1904546051168485,
          0.9807512609165957,
          -1.121059250174489,
          0.22222861053794152,
          -0.5101600824000081,
          0.0960439749329373,
          -0.9434158601417526,
          0.2280746660646097,
          -0.6199711206314074,
          -0.19296185060244755,
          -0.7950160586572694,
          -0.650755287984872,
          0.10002357639733761,
          -0.399410590339489,
          0.4257795860026511,
          -0.9861302587332238,
          1.2273480606955298,
          -0.45426223575550595
         ]
        }
       ],
       "layout": {
        "legend": {
         "bgcolor": "#F5F6F9",
         "font": {
          "color": "#4D5663"
         }
        },
        "paper_bgcolor": "#F5F6F9",
        "plot_bgcolor": "#F5F6F9",
        "template": {
         "data": {
          "bar": [
           {
            "error_x": {
             "color": "#2a3f5f"
            },
            "error_y": {
             "color": "#2a3f5f"
            },
            "marker": {
             "line": {
              "color": "#E5ECF6",
              "width": 0.5
             },
             "pattern": {
              "fillmode": "overlay",
              "size": 10,
              "solidity": 0.2
             }
            },
            "type": "bar"
           }
          ],
          "barpolar": [
           {
            "marker": {
             "line": {
              "color": "#E5ECF6",
              "width": 0.5
             },
             "pattern": {
              "fillmode": "overlay",
              "size": 10,
              "solidity": 0.2
             }
            },
            "type": "barpolar"
           }
          ],
          "carpet": [
           {
            "aaxis": {
             "endlinecolor": "#2a3f5f",
             "gridcolor": "white",
             "linecolor": "white",
             "minorgridcolor": "white",
             "startlinecolor": "#2a3f5f"
            },
            "baxis": {
             "endlinecolor": "#2a3f5f",
             "gridcolor": "white",
             "linecolor": "white",
             "minorgridcolor": "white",
             "startlinecolor": "#2a3f5f"
            },
            "type": "carpet"
           }
          ],
          "choropleth": [
           {
            "colorbar": {
             "outlinewidth": 0,
             "ticks": ""
            },
            "type": "choropleth"
           }
          ],
          "contour": [
           {
            "colorbar": {
             "outlinewidth": 0,
             "ticks": ""
            },
            "colorscale": [
             [
              0,
              "#0d0887"
             ],
             [
              0.1111111111111111,
              "#46039f"
             ],
             [
              0.2222222222222222,
              "#7201a8"
             ],
             [
              0.3333333333333333,
              "#9c179e"
             ],
             [
              0.4444444444444444,
              "#bd3786"
             ],
             [
              0.5555555555555556,
              "#d8576b"
             ],
             [
              0.6666666666666666,
              "#ed7953"
             ],
             [
              0.7777777777777778,
              "#fb9f3a"
             ],
             [
              0.8888888888888888,
              "#fdca26"
             ],
             [
              1,
              "#f0f921"
             ]
            ],
            "type": "contour"
           }
          ],
          "contourcarpet": [
           {
            "colorbar": {
             "outlinewidth": 0,
             "ticks": ""
            },
            "type": "contourcarpet"
           }
          ],
          "heatmap": [
           {
            "colorbar": {
             "outlinewidth": 0,
             "ticks": ""
            },
            "colorscale": [
             [
              0,
              "#0d0887"
             ],
             [
              0.1111111111111111,
              "#46039f"
             ],
             [
              0.2222222222222222,
              "#7201a8"
             ],
             [
              0.3333333333333333,
              "#9c179e"
             ],
             [
              0.4444444444444444,
              "#bd3786"
             ],
             [
              0.5555555555555556,
              "#d8576b"
             ],
             [
              0.6666666666666666,
              "#ed7953"
             ],
             [
              0.7777777777777778,
              "#fb9f3a"
             ],
             [
              0.8888888888888888,
              "#fdca26"
             ],
             [
              1,
              "#f0f921"
             ]
            ],
            "type": "heatmap"
           }
          ],
          "heatmapgl": [
           {
            "colorbar": {
             "outlinewidth": 0,
             "ticks": ""
            },
            "colorscale": [
             [
              0,
              "#0d0887"
             ],
             [
              0.1111111111111111,
              "#46039f"
             ],
             [
              0.2222222222222222,
              "#7201a8"
             ],
             [
              0.3333333333333333,
              "#9c179e"
             ],
             [
              0.4444444444444444,
              "#bd3786"
             ],
             [
              0.5555555555555556,
              "#d8576b"
             ],
             [
              0.6666666666666666,
              "#ed7953"
             ],
             [
              0.7777777777777778,
              "#fb9f3a"
             ],
             [
              0.8888888888888888,
              "#fdca26"
             ],
             [
              1,
              "#f0f921"
             ]
            ],
            "type": "heatmapgl"
           }
          ],
          "histogram": [
           {
            "marker": {
             "pattern": {
              "fillmode": "overlay",
              "size": 10,
              "solidity": 0.2
             }
            },
            "type": "histogram"
           }
          ],
          "histogram2d": [
           {
            "colorbar": {
             "outlinewidth": 0,
             "ticks": ""
            },
            "colorscale": [
             [
              0,
              "#0d0887"
             ],
             [
              0.1111111111111111,
              "#46039f"
             ],
             [
              0.2222222222222222,
              "#7201a8"
             ],
             [
              0.3333333333333333,
              "#9c179e"
             ],
             [
              0.4444444444444444,
              "#bd3786"
             ],
             [
              0.5555555555555556,
              "#d8576b"
             ],
             [
              0.6666666666666666,
              "#ed7953"
             ],
             [
              0.7777777777777778,
              "#fb9f3a"
             ],
             [
              0.8888888888888888,
              "#fdca26"
             ],
             [
              1,
              "#f0f921"
             ]
            ],
            "type": "histogram2d"
           }
          ],
          "histogram2dcontour": [
           {
            "colorbar": {
             "outlinewidth": 0,
             "ticks": ""
            },
            "colorscale": [
             [
              0,
              "#0d0887"
             ],
             [
              0.1111111111111111,
              "#46039f"
             ],
             [
              0.2222222222222222,
              "#7201a8"
             ],
             [
              0.3333333333333333,
              "#9c179e"
             ],
             [
              0.4444444444444444,
              "#bd3786"
             ],
             [
              0.5555555555555556,
              "#d8576b"
             ],
             [
              0.6666666666666666,
              "#ed7953"
             ],
             [
              0.7777777777777778,
              "#fb9f3a"
             ],
             [
              0.8888888888888888,
              "#fdca26"
             ],
             [
              1,
              "#f0f921"
             ]
            ],
            "type": "histogram2dcontour"
           }
          ],
          "mesh3d": [
           {
            "colorbar": {
             "outlinewidth": 0,
             "ticks": ""
            },
            "type": "mesh3d"
           }
          ],
          "parcoords": [
           {
            "line": {
             "colorbar": {
              "outlinewidth": 0,
              "ticks": ""
             }
            },
            "type": "parcoords"
           }
          ],
          "pie": [
           {
            "automargin": true,
            "type": "pie"
           }
          ],
          "scatter": [
           {
            "fillpattern": {
             "fillmode": "overlay",
             "size": 10,
             "solidity": 0.2
            },
            "type": "scatter"
           }
          ],
          "scatter3d": [
           {
            "line": {
             "colorbar": {
              "outlinewidth": 0,
              "ticks": ""
             }
            },
            "marker": {
             "colorbar": {
              "outlinewidth": 0,
              "ticks": ""
             }
            },
            "type": "scatter3d"
           }
          ],
          "scattercarpet": [
           {
            "marker": {
             "colorbar": {
              "outlinewidth": 0,
              "ticks": ""
             }
            },
            "type": "scattercarpet"
           }
          ],
          "scattergeo": [
           {
            "marker": {
             "colorbar": {
              "outlinewidth": 0,
              "ticks": ""
             }
            },
            "type": "scattergeo"
           }
          ],
          "scattergl": [
           {
            "marker": {
             "colorbar": {
              "outlinewidth": 0,
              "ticks": ""
             }
            },
            "type": "scattergl"
           }
          ],
          "scattermapbox": [
           {
            "marker": {
             "colorbar": {
              "outlinewidth": 0,
              "ticks": ""
             }
            },
            "type": "scattermapbox"
           }
          ],
          "scatterpolar": [
           {
            "marker": {
             "colorbar": {
              "outlinewidth": 0,
              "ticks": ""
             }
            },
            "type": "scatterpolar"
           }
          ],
          "scatterpolargl": [
           {
            "marker": {
             "colorbar": {
              "outlinewidth": 0,
              "ticks": ""
             }
            },
            "type": "scatterpolargl"
           }
          ],
          "scatterternary": [
           {
            "marker": {
             "colorbar": {
              "outlinewidth": 0,
              "ticks": ""
             }
            },
            "type": "scatterternary"
           }
          ],
          "surface": [
           {
            "colorbar": {
             "outlinewidth": 0,
             "ticks": ""
            },
            "colorscale": [
             [
              0,
              "#0d0887"
             ],
             [
              0.1111111111111111,
              "#46039f"
             ],
             [
              0.2222222222222222,
              "#7201a8"
             ],
             [
              0.3333333333333333,
              "#9c179e"
             ],
             [
              0.4444444444444444,
              "#bd3786"
             ],
             [
              0.5555555555555556,
              "#d8576b"
             ],
             [
              0.6666666666666666,
              "#ed7953"
             ],
             [
              0.7777777777777778,
              "#fb9f3a"
             ],
             [
              0.8888888888888888,
              "#fdca26"
             ],
             [
              1,
              "#f0f921"
             ]
            ],
            "type": "surface"
           }
          ],
          "table": [
           {
            "cells": {
             "fill": {
              "color": "#EBF0F8"
             },
             "line": {
              "color": "white"
             }
            },
            "header": {
             "fill": {
              "color": "#C8D4E3"
             },
             "line": {
              "color": "white"
             }
            },
            "type": "table"
           }
          ]
         },
         "layout": {
          "annotationdefaults": {
           "arrowcolor": "#2a3f5f",
           "arrowhead": 0,
           "arrowwidth": 1
          },
          "autotypenumbers": "strict",
          "coloraxis": {
           "colorbar": {
            "outlinewidth": 0,
            "ticks": ""
           }
          },
          "colorscale": {
           "diverging": [
            [
             0,
             "#8e0152"
            ],
            [
             0.1,
             "#c51b7d"
            ],
            [
             0.2,
             "#de77ae"
            ],
            [
             0.3,
             "#f1b6da"
            ],
            [
             0.4,
             "#fde0ef"
            ],
            [
             0.5,
             "#f7f7f7"
            ],
            [
             0.6,
             "#e6f5d0"
            ],
            [
             0.7,
             "#b8e186"
            ],
            [
             0.8,
             "#7fbc41"
            ],
            [
             0.9,
             "#4d9221"
            ],
            [
             1,
             "#276419"
            ]
           ],
           "sequential": [
            [
             0,
             "#0d0887"
            ],
            [
             0.1111111111111111,
             "#46039f"
            ],
            [
             0.2222222222222222,
             "#7201a8"
            ],
            [
             0.3333333333333333,
             "#9c179e"
            ],
            [
             0.4444444444444444,
             "#bd3786"
            ],
            [
             0.5555555555555556,
             "#d8576b"
            ],
            [
             0.6666666666666666,
             "#ed7953"
            ],
            [
             0.7777777777777778,
             "#fb9f3a"
            ],
            [
             0.8888888888888888,
             "#fdca26"
            ],
            [
             1,
             "#f0f921"
            ]
           ],
           "sequentialminus": [
            [
             0,
             "#0d0887"
            ],
            [
             0.1111111111111111,
             "#46039f"
            ],
            [
             0.2222222222222222,
             "#7201a8"
            ],
            [
             0.3333333333333333,
             "#9c179e"
            ],
            [
             0.4444444444444444,
             "#bd3786"
            ],
            [
             0.5555555555555556,
             "#d8576b"
            ],
            [
             0.6666666666666666,
             "#ed7953"
            ],
            [
             0.7777777777777778,
             "#fb9f3a"
            ],
            [
             0.8888888888888888,
             "#fdca26"
            ],
            [
             1,
             "#f0f921"
            ]
           ]
          },
          "colorway": [
           "#636efa",
           "#EF553B",
           "#00cc96",
           "#ab63fa",
           "#FFA15A",
           "#19d3f3",
           "#FF6692",
           "#B6E880",
           "#FF97FF",
           "#FECB52"
          ],
          "font": {
           "color": "#2a3f5f"
          },
          "geo": {
           "bgcolor": "white",
           "lakecolor": "white",
           "landcolor": "#E5ECF6",
           "showlakes": true,
           "showland": true,
           "subunitcolor": "white"
          },
          "hoverlabel": {
           "align": "left"
          },
          "hovermode": "closest",
          "mapbox": {
           "style": "light"
          },
          "paper_bgcolor": "white",
          "plot_bgcolor": "#E5ECF6",
          "polar": {
           "angularaxis": {
            "gridcolor": "white",
            "linecolor": "white",
            "ticks": ""
           },
           "bgcolor": "#E5ECF6",
           "radialaxis": {
            "gridcolor": "white",
            "linecolor": "white",
            "ticks": ""
           }
          },
          "scene": {
           "xaxis": {
            "backgroundcolor": "#E5ECF6",
            "gridcolor": "white",
            "gridwidth": 2,
            "linecolor": "white",
            "showbackground": true,
            "ticks": "",
            "zerolinecolor": "white"
           },
           "yaxis": {
            "backgroundcolor": "#E5ECF6",
            "gridcolor": "white",
            "gridwidth": 2,
            "linecolor": "white",
            "showbackground": true,
            "ticks": "",
            "zerolinecolor": "white"
           },
           "zaxis": {
            "backgroundcolor": "#E5ECF6",
            "gridcolor": "white",
            "gridwidth": 2,
            "linecolor": "white",
            "showbackground": true,
            "ticks": "",
            "zerolinecolor": "white"
           }
          },
          "shapedefaults": {
           "line": {
            "color": "#2a3f5f"
           }
          },
          "ternary": {
           "aaxis": {
            "gridcolor": "white",
            "linecolor": "white",
            "ticks": ""
           },
           "baxis": {
            "gridcolor": "white",
            "linecolor": "white",
            "ticks": ""
           },
           "bgcolor": "#E5ECF6",
           "caxis": {
            "gridcolor": "white",
            "linecolor": "white",
            "ticks": ""
           }
          },
          "title": {
           "x": 0.05
          },
          "xaxis": {
           "automargin": true,
           "gridcolor": "white",
           "linecolor": "white",
           "ticks": "",
           "title": {
            "standoff": 15
           },
           "zerolinecolor": "white",
           "zerolinewidth": 2
          },
          "yaxis": {
           "automargin": true,
           "gridcolor": "white",
           "linecolor": "white",
           "ticks": "",
           "title": {
            "standoff": 15
           },
           "zerolinecolor": "white",
           "zerolinewidth": 2
          }
         }
        },
        "title": {
         "font": {
          "color": "#4D5663"
         }
        },
        "xaxis": {
         "gridcolor": "#E1E5ED",
         "showgrid": true,
         "tickfont": {
          "color": "#4D5663"
         },
         "title": {
          "font": {
           "color": "#4D5663"
          },
          "text": ""
         },
         "zerolinecolor": "#E1E5ED"
        },
        "yaxis": {
         "gridcolor": "#E1E5ED",
         "showgrid": true,
         "tickfont": {
          "color": "#4D5663"
         },
         "title": {
          "font": {
           "color": "#4D5663"
          },
          "text": ""
         },
         "zerolinecolor": "#E1E5ED"
        }
       }
      },
      "text/html": [
       "<div>                            <div id=\"57cbe94d-1ba4-4dba-935d-3df1ba764fa0\" class=\"plotly-graph-div\" style=\"height:525px; width:100%;\"></div>            <script type=\"text/javascript\">                require([\"plotly\"], function(Plotly) {                    window.PLOTLYENV=window.PLOTLYENV || {};\n",
       "                    window.PLOTLYENV.BASE_URL='https://plot.ly';                                    if (document.getElementById(\"57cbe94d-1ba4-4dba-935d-3df1ba764fa0\")) {                    Plotly.newPlot(                        \"57cbe94d-1ba4-4dba-935d-3df1ba764fa0\",                        [{\"boxpoints\":false,\"line\":{\"width\":1.3},\"marker\":{\"color\":\"rgba(255, 153, 51, 1.0)\"},\"name\":\"A\",\"orientation\":\"v\",\"y\":[-0.6185864777596235,-0.09549749996174815,0.7735155947714842,-1.9544208522009834,0.9321062993468145,0.36391957912219924,1.0222517106252103,0.21428349229504423,0.30155723927183736,-1.7737081556426644,-0.8813197097782401,-1.1833788622984094,1.0921030137803465,0.47150727733146436,-1.6539348028518632,-0.28566133680357586,1.6103067819704,-1.8417392372265438,0.039193584163302084,-0.6695950365093897,-0.7291227819448418,0.17384486693441867,1.5625067918950442,-2.118320960980159,-0.6478092575126989,-1.3354358976613383,-0.11900269907027594,1.8690436615397525,0.3602185862801853,0.954444106941083,-1.3426442266410488,-0.5861974838373313,-1.2776509648542993,-0.17202929225908314,-0.5899977906595941,1.3660735045819095,-1.096820738909289,0.09159655138384042,0.8669297839834728,0.11618036291092862,-0.1306793735655419,-1.409084507446096,-1.1458344122244621,-0.20695860339653058,-1.037860881063523,0.01958383190177941,1.877231153321232,-0.4861599541240264,0.2256221614426137,1.0191400317688684,-1.7994981450956142,-0.449892724101533,-1.7060329759096715,-0.7097216977459914,-0.8825995557308481,0.33962848154734276,0.20113285388190974,0.46035911247198713,0.7091683111522437,-1.2284387339475709,0.11445375532849965,-0.11410251539813779,-0.433581463941365,-0.1506692378419643,0.33482007756007925,-1.5145111918515755,0.570038479119206,-1.2112103535764067,-0.4029111539814335,-0.19348347413316772,-0.18662039060185484,-0.4020159349141075,-1.104221400696765,-0.7881037638705021,0.9624880966553944,0.8370910133274343,0.08064775753280434,0.4529394450193887,0.8144227765728742,-0.4139266273079406,-0.16045457024510903,0.11560583805022592,0.5018750969144258,-1.05549272187284,0.6646897400226129,0.7252518633264401,-0.8634744428274881,0.14526679817629318,0.5642348261932901,-0.5739339256594503,0.15846871036688384,0.5303216539889294,-0.4638919188417855,-2.653303499100419,0.30810942245492506,1.337533737637027,1.0885583937029353,-1.6447907309114553,0.6693410844821837,-0.023858538897312875],\"type\":\"box\"},{\"boxpoints\":false,\"line\":{\"width\":1.3},\"marker\":{\"color\":\"rgba(55, 128, 191, 1.0)\"},\"name\":\"B\",\"orientation\":\"v\",\"y\":[-0.4592523817006714,1.614960731672855,-1.4206426925982674,1.1551454541846038,-0.34613058552962517,1.6624230716641488,-0.11554649598016219,-0.01851161969972325,0.09984663041486533,-2.043102167532454,-1.478451948264321,-0.2788843499486517,-0.1497492795430963,1.9533168820677445,-0.10989230038135865,0.31344790900193625,0.08678752237308349,-0.3990447395439932,-1.4424816562369789,-0.028981252459112657,-0.4160821900068768,-0.9024826500293118,-0.5208567006043135,0.37071150697915956,0.29340762940465925,-0.15303788800844492,-1.7013013838151183,-2.1032089257065056,0.01803007769576685,0.774085466469011,-0.0130218043338703,0.7479391896322369,0.7318773540406959,-1.800944110150754,1.4099248117758916,-1.5325103771876123,0.5782922057046384,0.3053398932705239,-0.06430529590814345,1.0236623980295185,0.6914789499794927,0.7371810656811424,2.606242974469369,-1.5007673763044456,-1.0420156920821377,0.046743919591023995,1.3154764187085386,-0.18591517662231646,0.7578452017067829,-1.1201103682918108,-1.4809656473238406,-1.932290152656959,0.5687456244608741,-2.183122855649209,-0.18703771863844015,0.38248194212075454,-1.4501529065420269,1.0649615189495414,-0.44540408458769665,-0.5991301447361154,0.608703902269564,0.4058260851185324,0.457400126610244,0.5464347317371752,-0.2577028738771836,-0.6222900815300759,0.04461153224918688,-2.447018762098259,-0.23888100490859634,0.08761509395317087,1.623124602304495,1.1845787037770144,0.5492856988758372,1.130595322987083,-1.8840243529998721,0.18955829582691278,1.6839930239683714,0.5334500493016082,1.8492431165364005,0.4549707177333402,0.6697077146222054,0.4085483537015883,-0.5082199635442869,0.3448252142610793,-0.9833076650745944,0.2228561564482779,1.314600834470803,0.5969614245184819,0.5615669274826204,-0.03580808061129372,0.2825263823615819,-2.104980414657762,-1.8480485079071858,-1.2798589824928985,-0.4685176982797968,1.3615871560013324,0.7947295589257131,-1.018205327768071,0.6838015779839137,-0.445118498396265],\"type\":\"box\"},{\"boxpoints\":false,\"line\":{\"width\":1.3},\"marker\":{\"color\":\"rgba(50, 171, 96, 1.0)\"},\"name\":\"C\",\"orientation\":\"v\",\"y\":[-0.8421603506766187,-0.9706041899799989,0.6832531168715341,1.6468678884740529,-0.16568135375708265,0.6293779960362839,1.2922687753064812,-0.09669053752515908,0.758570054065179,-0.8839507721828632,1.2280342442807675,-0.4628807989882697,-0.7161165844696878,1.4464843188409209,1.4629995097962403,-0.6286919968925113,0.5498266948912985,0.46202528676540383,-1.5968510028160237,1.6849093652971419,1.3184842391473701,1.7523413485734658,1.1145417017973525,0.8238061796830247,-0.11673079421807615,-0.9431413499758955,-0.6661012696103875,1.59665769705926,-1.4418095782645222,-0.028825792028261146,0.8846910659012178,1.3445888166417854,0.831313865520293,0.8984402570930786,0.9547597163223918,0.7243675719745242,-0.8504776604197904,0.7231445379854539,0.2122902086328843,-0.6319829696360213,0.8116987479536433,0.5663356880650702,-1.4081827739065174,1.3257080152455498,-0.35341041248399896,0.5986991170484928,-1.601105994725186,0.4510025063777082,-1.843962988505521,-0.6175567323014791,-0.46874922145868564,0.8017055728270843,0.9295789737059647,0.5769158548612651,0.8241325254974661,-1.3989811469531985,-0.1737328629106375,-1.1120987796057764,0.08397943697541344,0.41450385508002524,0.37813446451759153,0.5637465086282746,0.23448459891588502,-0.646152213425436,0.6888265843952968,1.1773248338495332,-2.366822749360234,2.5593268473776716,-0.8337284202472874,-0.6349992892264821,-1.1108274470015802,-0.5504924823973055,-0.5166790104444628,-0.35967398108001764,0.03304142061605584,-0.9953569079540042,-0.34225235175776236,0.05415196437471269,1.4312114089526344,-0.06819439128707315,0.9337859534275348,-0.9979806075142508,2.5153526996216797,-0.9202468939840021,-0.5645653682586875,-0.41454134423968747,-0.37516634580729047,-1.0212328426549688,-1.462300513745385,-1.767508363123518,-0.40178821637522183,-0.17122260507528686,0.4352737343905665,-0.01868513096343089,1.0548725514811137,-0.3919034473977661,0.08727005314804788,1.5252750004784736,1.2406486221739632,-1.5894052324070254],\"type\":\"box\"},{\"boxpoints\":false,\"line\":{\"width\":1.3},\"marker\":{\"color\":\"rgba(128, 0, 128, 1.0)\"},\"name\":\"D\",\"orientation\":\"v\",\"y\":[0.5126109428890469,1.4892272058537255,-0.06466481511960792,0.807094467503425,0.09912812177445302,0.0037604224907197346,1.7881832836634417,1.4373731417175712,-0.49032218019714713,0.7844086874638536,-0.9135354119307758,0.5083954666397061,-3.1349339074281404,-2.21207508186638,0.4447330266031348,0.18787135141075115,0.14751055603017138,-1.0925191742194862,-1.420182643360601,-2.6950447421847166,-1.1120408459566193,-1.5119946162620084,0.21487814882806078,-0.5778547810602227,-0.6157290651613634,-0.5141466764562026,-1.5873889037285451,-0.3247674515862568,1.8465745931558841,0.3717136751793924,-0.0944745193772145,-0.7256893345692426,0.6329911919873296,0.8432331721074044,0.21506185326754326,-0.3946349840372016,1.0164983176266524,0.2707980457033641,0.43401711765144985,-0.7514870419734236,1.5967967931952454,-0.5192006010979153,-0.16636177789934467,1.063769112378764,0.04824552637562311,-0.30927218647456906,-0.8455324146613583,-1.292727257811507,0.8011477929185559,-0.35765870279142736,-0.1801085848973175,-0.5179106531571229,0.20678839468290003,0.21217097423294343,-0.5197920666799181,1.5452085633784096,0.8164027682792973,1.7211677024187413,-0.056769339959388786,-1.441754323154373,-2.1037029742663806,0.784787163635707,-0.9254897742956887,-0.30742465476637876,-0.795795144089506,-0.20367749333363674,-0.44097727181532287,1.1106618413964617,-1.4799913193064362,0.820803062794328,-0.885579677922769,0.7746145957497992,-0.584185617026759,0.44814214424737153,0.7327582698609134,-0.42593933722798827,0.5025705667376403,-1.94052132088566,1.151791010936278,0.18333509384631916,-0.8832256403000278,1.4734051005315147,2.1904546051168485,0.9807512609165957,-1.121059250174489,0.22222861053794152,-0.5101600824000081,0.0960439749329373,-0.9434158601417526,0.2280746660646097,-0.6199711206314074,-0.19296185060244755,-0.7950160586572694,-0.650755287984872,0.10002357639733761,-0.399410590339489,0.4257795860026511,-0.9861302587332238,1.2273480606955298,-0.45426223575550595],\"type\":\"box\"}],                        {\"legend\":{\"bgcolor\":\"#F5F6F9\",\"font\":{\"color\":\"#4D5663\"}},\"paper_bgcolor\":\"#F5F6F9\",\"plot_bgcolor\":\"#F5F6F9\",\"template\":{\"data\":{\"barpolar\":[{\"marker\":{\"line\":{\"color\":\"#E5ECF6\",\"width\":0.5},\"pattern\":{\"fillmode\":\"overlay\",\"size\":10,\"solidity\":0.2}},\"type\":\"barpolar\"}],\"bar\":[{\"error_x\":{\"color\":\"#2a3f5f\"},\"error_y\":{\"color\":\"#2a3f5f\"},\"marker\":{\"line\":{\"color\":\"#E5ECF6\",\"width\":0.5},\"pattern\":{\"fillmode\":\"overlay\",\"size\":10,\"solidity\":0.2}},\"type\":\"bar\"}],\"carpet\":[{\"aaxis\":{\"endlinecolor\":\"#2a3f5f\",\"gridcolor\":\"white\",\"linecolor\":\"white\",\"minorgridcolor\":\"white\",\"startlinecolor\":\"#2a3f5f\"},\"baxis\":{\"endlinecolor\":\"#2a3f5f\",\"gridcolor\":\"white\",\"linecolor\":\"white\",\"minorgridcolor\":\"white\",\"startlinecolor\":\"#2a3f5f\"},\"type\":\"carpet\"}],\"choropleth\":[{\"colorbar\":{\"outlinewidth\":0,\"ticks\":\"\"},\"type\":\"choropleth\"}],\"contourcarpet\":[{\"colorbar\":{\"outlinewidth\":0,\"ticks\":\"\"},\"type\":\"contourcarpet\"}],\"contour\":[{\"colorbar\":{\"outlinewidth\":0,\"ticks\":\"\"},\"colorscale\":[[0.0,\"#0d0887\"],[0.1111111111111111,\"#46039f\"],[0.2222222222222222,\"#7201a8\"],[0.3333333333333333,\"#9c179e\"],[0.4444444444444444,\"#bd3786\"],[0.5555555555555556,\"#d8576b\"],[0.6666666666666666,\"#ed7953\"],[0.7777777777777778,\"#fb9f3a\"],[0.8888888888888888,\"#fdca26\"],[1.0,\"#f0f921\"]],\"type\":\"contour\"}],\"heatmapgl\":[{\"colorbar\":{\"outlinewidth\":0,\"ticks\":\"\"},\"colorscale\":[[0.0,\"#0d0887\"],[0.1111111111111111,\"#46039f\"],[0.2222222222222222,\"#7201a8\"],[0.3333333333333333,\"#9c179e\"],[0.4444444444444444,\"#bd3786\"],[0.5555555555555556,\"#d8576b\"],[0.6666666666666666,\"#ed7953\"],[0.7777777777777778,\"#fb9f3a\"],[0.8888888888888888,\"#fdca26\"],[1.0,\"#f0f921\"]],\"type\":\"heatmapgl\"}],\"heatmap\":[{\"colorbar\":{\"outlinewidth\":0,\"ticks\":\"\"},\"colorscale\":[[0.0,\"#0d0887\"],[0.1111111111111111,\"#46039f\"],[0.2222222222222222,\"#7201a8\"],[0.3333333333333333,\"#9c179e\"],[0.4444444444444444,\"#bd3786\"],[0.5555555555555556,\"#d8576b\"],[0.6666666666666666,\"#ed7953\"],[0.7777777777777778,\"#fb9f3a\"],[0.8888888888888888,\"#fdca26\"],[1.0,\"#f0f921\"]],\"type\":\"heatmap\"}],\"histogram2dcontour\":[{\"colorbar\":{\"outlinewidth\":0,\"ticks\":\"\"},\"colorscale\":[[0.0,\"#0d0887\"],[0.1111111111111111,\"#46039f\"],[0.2222222222222222,\"#7201a8\"],[0.3333333333333333,\"#9c179e\"],[0.4444444444444444,\"#bd3786\"],[0.5555555555555556,\"#d8576b\"],[0.6666666666666666,\"#ed7953\"],[0.7777777777777778,\"#fb9f3a\"],[0.8888888888888888,\"#fdca26\"],[1.0,\"#f0f921\"]],\"type\":\"histogram2dcontour\"}],\"histogram2d\":[{\"colorbar\":{\"outlinewidth\":0,\"ticks\":\"\"},\"colorscale\":[[0.0,\"#0d0887\"],[0.1111111111111111,\"#46039f\"],[0.2222222222222222,\"#7201a8\"],[0.3333333333333333,\"#9c179e\"],[0.4444444444444444,\"#bd3786\"],[0.5555555555555556,\"#d8576b\"],[0.6666666666666666,\"#ed7953\"],[0.7777777777777778,\"#fb9f3a\"],[0.8888888888888888,\"#fdca26\"],[1.0,\"#f0f921\"]],\"type\":\"histogram2d\"}],\"histogram\":[{\"marker\":{\"pattern\":{\"fillmode\":\"overlay\",\"size\":10,\"solidity\":0.2}},\"type\":\"histogram\"}],\"mesh3d\":[{\"colorbar\":{\"outlinewidth\":0,\"ticks\":\"\"},\"type\":\"mesh3d\"}],\"parcoords\":[{\"line\":{\"colorbar\":{\"outlinewidth\":0,\"ticks\":\"\"}},\"type\":\"parcoords\"}],\"pie\":[{\"automargin\":true,\"type\":\"pie\"}],\"scatter3d\":[{\"line\":{\"colorbar\":{\"outlinewidth\":0,\"ticks\":\"\"}},\"marker\":{\"colorbar\":{\"outlinewidth\":0,\"ticks\":\"\"}},\"type\":\"scatter3d\"}],\"scattercarpet\":[{\"marker\":{\"colorbar\":{\"outlinewidth\":0,\"ticks\":\"\"}},\"type\":\"scattercarpet\"}],\"scattergeo\":[{\"marker\":{\"colorbar\":{\"outlinewidth\":0,\"ticks\":\"\"}},\"type\":\"scattergeo\"}],\"scattergl\":[{\"marker\":{\"colorbar\":{\"outlinewidth\":0,\"ticks\":\"\"}},\"type\":\"scattergl\"}],\"scattermapbox\":[{\"marker\":{\"colorbar\":{\"outlinewidth\":0,\"ticks\":\"\"}},\"type\":\"scattermapbox\"}],\"scatterpolargl\":[{\"marker\":{\"colorbar\":{\"outlinewidth\":0,\"ticks\":\"\"}},\"type\":\"scatterpolargl\"}],\"scatterpolar\":[{\"marker\":{\"colorbar\":{\"outlinewidth\":0,\"ticks\":\"\"}},\"type\":\"scatterpolar\"}],\"scatter\":[{\"fillpattern\":{\"fillmode\":\"overlay\",\"size\":10,\"solidity\":0.2},\"type\":\"scatter\"}],\"scatterternary\":[{\"marker\":{\"colorbar\":{\"outlinewidth\":0,\"ticks\":\"\"}},\"type\":\"scatterternary\"}],\"surface\":[{\"colorbar\":{\"outlinewidth\":0,\"ticks\":\"\"},\"colorscale\":[[0.0,\"#0d0887\"],[0.1111111111111111,\"#46039f\"],[0.2222222222222222,\"#7201a8\"],[0.3333333333333333,\"#9c179e\"],[0.4444444444444444,\"#bd3786\"],[0.5555555555555556,\"#d8576b\"],[0.6666666666666666,\"#ed7953\"],[0.7777777777777778,\"#fb9f3a\"],[0.8888888888888888,\"#fdca26\"],[1.0,\"#f0f921\"]],\"type\":\"surface\"}],\"table\":[{\"cells\":{\"fill\":{\"color\":\"#EBF0F8\"},\"line\":{\"color\":\"white\"}},\"header\":{\"fill\":{\"color\":\"#C8D4E3\"},\"line\":{\"color\":\"white\"}},\"type\":\"table\"}]},\"layout\":{\"annotationdefaults\":{\"arrowcolor\":\"#2a3f5f\",\"arrowhead\":0,\"arrowwidth\":1},\"autotypenumbers\":\"strict\",\"coloraxis\":{\"colorbar\":{\"outlinewidth\":0,\"ticks\":\"\"}},\"colorscale\":{\"diverging\":[[0,\"#8e0152\"],[0.1,\"#c51b7d\"],[0.2,\"#de77ae\"],[0.3,\"#f1b6da\"],[0.4,\"#fde0ef\"],[0.5,\"#f7f7f7\"],[0.6,\"#e6f5d0\"],[0.7,\"#b8e186\"],[0.8,\"#7fbc41\"],[0.9,\"#4d9221\"],[1,\"#276419\"]],\"sequential\":[[0.0,\"#0d0887\"],[0.1111111111111111,\"#46039f\"],[0.2222222222222222,\"#7201a8\"],[0.3333333333333333,\"#9c179e\"],[0.4444444444444444,\"#bd3786\"],[0.5555555555555556,\"#d8576b\"],[0.6666666666666666,\"#ed7953\"],[0.7777777777777778,\"#fb9f3a\"],[0.8888888888888888,\"#fdca26\"],[1.0,\"#f0f921\"]],\"sequentialminus\":[[0.0,\"#0d0887\"],[0.1111111111111111,\"#46039f\"],[0.2222222222222222,\"#7201a8\"],[0.3333333333333333,\"#9c179e\"],[0.4444444444444444,\"#bd3786\"],[0.5555555555555556,\"#d8576b\"],[0.6666666666666666,\"#ed7953\"],[0.7777777777777778,\"#fb9f3a\"],[0.8888888888888888,\"#fdca26\"],[1.0,\"#f0f921\"]]},\"colorway\":[\"#636efa\",\"#EF553B\",\"#00cc96\",\"#ab63fa\",\"#FFA15A\",\"#19d3f3\",\"#FF6692\",\"#B6E880\",\"#FF97FF\",\"#FECB52\"],\"font\":{\"color\":\"#2a3f5f\"},\"geo\":{\"bgcolor\":\"white\",\"lakecolor\":\"white\",\"landcolor\":\"#E5ECF6\",\"showlakes\":true,\"showland\":true,\"subunitcolor\":\"white\"},\"hoverlabel\":{\"align\":\"left\"},\"hovermode\":\"closest\",\"mapbox\":{\"style\":\"light\"},\"paper_bgcolor\":\"white\",\"plot_bgcolor\":\"#E5ECF6\",\"polar\":{\"angularaxis\":{\"gridcolor\":\"white\",\"linecolor\":\"white\",\"ticks\":\"\"},\"bgcolor\":\"#E5ECF6\",\"radialaxis\":{\"gridcolor\":\"white\",\"linecolor\":\"white\",\"ticks\":\"\"}},\"scene\":{\"xaxis\":{\"backgroundcolor\":\"#E5ECF6\",\"gridcolor\":\"white\",\"gridwidth\":2,\"linecolor\":\"white\",\"showbackground\":true,\"ticks\":\"\",\"zerolinecolor\":\"white\"},\"yaxis\":{\"backgroundcolor\":\"#E5ECF6\",\"gridcolor\":\"white\",\"gridwidth\":2,\"linecolor\":\"white\",\"showbackground\":true,\"ticks\":\"\",\"zerolinecolor\":\"white\"},\"zaxis\":{\"backgroundcolor\":\"#E5ECF6\",\"gridcolor\":\"white\",\"gridwidth\":2,\"linecolor\":\"white\",\"showbackground\":true,\"ticks\":\"\",\"zerolinecolor\":\"white\"}},\"shapedefaults\":{\"line\":{\"color\":\"#2a3f5f\"}},\"ternary\":{\"aaxis\":{\"gridcolor\":\"white\",\"linecolor\":\"white\",\"ticks\":\"\"},\"baxis\":{\"gridcolor\":\"white\",\"linecolor\":\"white\",\"ticks\":\"\"},\"bgcolor\":\"#E5ECF6\",\"caxis\":{\"gridcolor\":\"white\",\"linecolor\":\"white\",\"ticks\":\"\"}},\"title\":{\"x\":0.05},\"xaxis\":{\"automargin\":true,\"gridcolor\":\"white\",\"linecolor\":\"white\",\"ticks\":\"\",\"title\":{\"standoff\":15},\"zerolinecolor\":\"white\",\"zerolinewidth\":2},\"yaxis\":{\"automargin\":true,\"gridcolor\":\"white\",\"linecolor\":\"white\",\"ticks\":\"\",\"title\":{\"standoff\":15},\"zerolinecolor\":\"white\",\"zerolinewidth\":2}}},\"title\":{\"font\":{\"color\":\"#4D5663\"}},\"xaxis\":{\"gridcolor\":\"#E1E5ED\",\"showgrid\":true,\"tickfont\":{\"color\":\"#4D5663\"},\"title\":{\"font\":{\"color\":\"#4D5663\"},\"text\":\"\"},\"zerolinecolor\":\"#E1E5ED\"},\"yaxis\":{\"gridcolor\":\"#E1E5ED\",\"showgrid\":true,\"tickfont\":{\"color\":\"#4D5663\"},\"title\":{\"font\":{\"color\":\"#4D5663\"},\"text\":\"\"},\"zerolinecolor\":\"#E1E5ED\"}},                        {\"showLink\": true, \"linkText\": \"Export to plot.ly\", \"plotlyServerURL\": \"https://plot.ly\", \"responsive\": true}                    ).then(function(){\n",
       "                            \n",
       "var gd = document.getElementById('57cbe94d-1ba4-4dba-935d-3df1ba764fa0');\n",
       "var x = new MutationObserver(function (mutations, observer) {{\n",
       "        var display = window.getComputedStyle(gd).display;\n",
       "        if (!display || display === 'none') {{\n",
       "            console.log([gd, 'removed!']);\n",
       "            Plotly.purge(gd);\n",
       "            observer.disconnect();\n",
       "        }}\n",
       "}});\n",
       "\n",
       "// Listen for the removal of the full notebook cells\n",
       "var notebookContainer = gd.closest('#notebook-container');\n",
       "if (notebookContainer) {{\n",
       "    x.observe(notebookContainer, {childList: true});\n",
       "}}\n",
       "\n",
       "// Listen for the clearing of the current output cell\n",
       "var outputEl = gd.closest('.output');\n",
       "if (outputEl) {{\n",
       "    x.observe(outputEl, {childList: true});\n",
       "}}\n",
       "\n",
       "                        })                };                });            </script>        </div>"
      ]
     },
     "metadata": {},
     "output_type": "display_data"
    }
   ],
   "source": [
    "df.iplot(kind='box')"
   ]
  },
  {
   "cell_type": "code",
   "execution_count": 23,
   "id": "4d90b4c2",
   "metadata": {
    "ExecuteTime": {
     "end_time": "2023-03-25T09:00:59.979320Z",
     "start_time": "2023-03-25T09:00:59.968311Z"
    }
   },
   "outputs": [],
   "source": [
    "df3 = pd.DataFrame({'x':[1,2,3,4,5], 'y':[10,20,30,20,10], 'z':[5,4,3,2,1]})"
   ]
  },
  {
   "cell_type": "code",
   "execution_count": 24,
   "id": "f1a8d867",
   "metadata": {
    "ExecuteTime": {
     "end_time": "2023-03-25T09:01:01.364959Z",
     "start_time": "2023-03-25T09:01:01.342953Z"
    }
   },
   "outputs": [
    {
     "data": {
      "text/html": [
       "<div>\n",
       "<style scoped>\n",
       "    .dataframe tbody tr th:only-of-type {\n",
       "        vertical-align: middle;\n",
       "    }\n",
       "\n",
       "    .dataframe tbody tr th {\n",
       "        vertical-align: top;\n",
       "    }\n",
       "\n",
       "    .dataframe thead th {\n",
       "        text-align: right;\n",
       "    }\n",
       "</style>\n",
       "<table border=\"1\" class=\"dataframe\">\n",
       "  <thead>\n",
       "    <tr style=\"text-align: right;\">\n",
       "      <th></th>\n",
       "      <th>x</th>\n",
       "      <th>y</th>\n",
       "      <th>z</th>\n",
       "    </tr>\n",
       "  </thead>\n",
       "  <tbody>\n",
       "    <tr>\n",
       "      <th>0</th>\n",
       "      <td>1</td>\n",
       "      <td>10</td>\n",
       "      <td>5</td>\n",
       "    </tr>\n",
       "    <tr>\n",
       "      <th>1</th>\n",
       "      <td>2</td>\n",
       "      <td>20</td>\n",
       "      <td>4</td>\n",
       "    </tr>\n",
       "    <tr>\n",
       "      <th>2</th>\n",
       "      <td>3</td>\n",
       "      <td>30</td>\n",
       "      <td>3</td>\n",
       "    </tr>\n",
       "    <tr>\n",
       "      <th>3</th>\n",
       "      <td>4</td>\n",
       "      <td>20</td>\n",
       "      <td>2</td>\n",
       "    </tr>\n",
       "    <tr>\n",
       "      <th>4</th>\n",
       "      <td>5</td>\n",
       "      <td>10</td>\n",
       "      <td>1</td>\n",
       "    </tr>\n",
       "  </tbody>\n",
       "</table>\n",
       "</div>"
      ],
      "text/plain": [
       "   x   y  z\n",
       "0  1  10  5\n",
       "1  2  20  4\n",
       "2  3  30  3\n",
       "3  4  20  2\n",
       "4  5  10  1"
      ]
     },
     "execution_count": 24,
     "metadata": {},
     "output_type": "execute_result"
    }
   ],
   "source": [
    "df3 "
   ]
  },
  {
   "cell_type": "code",
   "execution_count": 25,
   "id": "11717d4a",
   "metadata": {
    "ExecuteTime": {
     "end_time": "2023-03-25T09:01:02.216133Z",
     "start_time": "2023-03-25T09:01:02.142921Z"
    }
   },
   "outputs": [
    {
     "data": {
      "application/vnd.plotly.v1+json": {
       "config": {
        "linkText": "Export to plot.ly",
        "plotlyServerURL": "https://plot.ly",
        "showLink": true
       },
       "data": [
        {
         "colorscale": [
          [
           0,
           "rgb(255, 153, 51)"
          ],
          [
           0.1111111111111111,
           "rgb(55, 128, 191)"
          ],
          [
           0.2222222222222222,
           "rgb(50, 171, 96)"
          ],
          [
           0.3333333333333333,
           "rgb(128, 0, 128)"
          ],
          [
           0.4444444444444444,
           "rgb(219, 64, 82)"
          ],
          [
           0.5555555555555556,
           "rgb(0, 128, 128)"
          ],
          [
           0.6666666666666666,
           "rgb(255, 255, 51)"
          ],
          [
           0.7777777777777778,
           "rgb(128, 128, 0)"
          ],
          [
           0.8888888888888888,
           "rgb(251, 128, 114)"
          ],
          [
           1,
           "rgb(128, 177, 211)"
          ]
         ],
         "type": "surface",
         "x": [
          0,
          1,
          2,
          3,
          4,
          5,
          6,
          7,
          8,
          9,
          10,
          11,
          12,
          13,
          14,
          15,
          16,
          17,
          18,
          19,
          20,
          21,
          22,
          23,
          24,
          25,
          26,
          27,
          28,
          29,
          30,
          31,
          32,
          33,
          34,
          35,
          36,
          37,
          38,
          39,
          40,
          41,
          42,
          43,
          44,
          45,
          46,
          47,
          48,
          49,
          50,
          51,
          52,
          53,
          54,
          55,
          56,
          57,
          58,
          59,
          60,
          61,
          62,
          63,
          64,
          65,
          66,
          67,
          68,
          69,
          70,
          71,
          72,
          73,
          74,
          75,
          76,
          77,
          78,
          79,
          80,
          81,
          82,
          83,
          84,
          85,
          86,
          87,
          88,
          89,
          90,
          91,
          92,
          93,
          94,
          95,
          96,
          97,
          98,
          99
         ],
         "y": [
          "A",
          "B",
          "C",
          "D"
         ],
         "z": [
          [
           -0.6185864777596235,
           -0.09549749996174815,
           0.7735155947714842,
           -1.9544208522009834,
           0.9321062993468145,
           0.36391957912219924,
           1.0222517106252103,
           0.21428349229504423,
           0.30155723927183736,
           -1.7737081556426644,
           -0.8813197097782401,
           -1.1833788622984094,
           1.0921030137803465,
           0.47150727733146436,
           -1.6539348028518632,
           -0.28566133680357586,
           1.6103067819704,
           -1.8417392372265438,
           0.039193584163302084,
           -0.6695950365093897,
           -0.7291227819448418,
           0.17384486693441867,
           1.5625067918950442,
           -2.118320960980159,
           -0.6478092575126989,
           -1.3354358976613383,
           -0.11900269907027594,
           1.8690436615397525,
           0.3602185862801853,
           0.954444106941083,
           -1.3426442266410488,
           -0.5861974838373313,
           -1.2776509648542993,
           -0.17202929225908314,
           -0.5899977906595941,
           1.3660735045819095,
           -1.096820738909289,
           0.09159655138384042,
           0.8669297839834728,
           0.11618036291092862,
           -0.1306793735655419,
           -1.409084507446096,
           -1.1458344122244621,
           -0.20695860339653058,
           -1.037860881063523,
           0.01958383190177941,
           1.877231153321232,
           -0.4861599541240264,
           0.2256221614426137,
           1.0191400317688684,
           -1.7994981450956142,
           -0.449892724101533,
           -1.7060329759096715,
           -0.7097216977459914,
           -0.8825995557308481,
           0.33962848154734276,
           0.20113285388190974,
           0.46035911247198713,
           0.7091683111522437,
           -1.2284387339475709,
           0.11445375532849965,
           -0.11410251539813779,
           -0.433581463941365,
           -0.1506692378419643,
           0.33482007756007925,
           -1.5145111918515755,
           0.570038479119206,
           -1.2112103535764067,
           -0.4029111539814335,
           -0.19348347413316772,
           -0.18662039060185484,
           -0.4020159349141075,
           -1.104221400696765,
           -0.7881037638705021,
           0.9624880966553944,
           0.8370910133274343,
           0.08064775753280434,
           0.4529394450193887,
           0.8144227765728742,
           -0.4139266273079406,
           -0.16045457024510903,
           0.11560583805022592,
           0.5018750969144258,
           -1.05549272187284,
           0.6646897400226129,
           0.7252518633264401,
           -0.8634744428274881,
           0.14526679817629318,
           0.5642348261932901,
           -0.5739339256594503,
           0.15846871036688384,
           0.5303216539889294,
           -0.4638919188417855,
           -2.653303499100419,
           0.30810942245492506,
           1.337533737637027,
           1.0885583937029353,
           -1.6447907309114553,
           0.6693410844821837,
           -0.023858538897312875
          ],
          [
           -0.4592523817006714,
           1.614960731672855,
           -1.4206426925982674,
           1.1551454541846038,
           -0.34613058552962517,
           1.6624230716641488,
           -0.11554649598016219,
           -0.01851161969972325,
           0.09984663041486533,
           -2.043102167532454,
           -1.478451948264321,
           -0.2788843499486517,
           -0.1497492795430963,
           1.9533168820677445,
           -0.10989230038135865,
           0.31344790900193625,
           0.08678752237308349,
           -0.3990447395439932,
           -1.4424816562369789,
           -0.028981252459112657,
           -0.4160821900068768,
           -0.9024826500293118,
           -0.5208567006043135,
           0.37071150697915956,
           0.29340762940465925,
           -0.15303788800844492,
           -1.7013013838151183,
           -2.1032089257065056,
           0.01803007769576685,
           0.774085466469011,
           -0.0130218043338703,
           0.7479391896322369,
           0.7318773540406959,
           -1.800944110150754,
           1.4099248117758916,
           -1.5325103771876123,
           0.5782922057046384,
           0.3053398932705239,
           -0.06430529590814345,
           1.0236623980295185,
           0.6914789499794927,
           0.7371810656811424,
           2.606242974469369,
           -1.5007673763044456,
           -1.0420156920821377,
           0.046743919591023995,
           1.3154764187085386,
           -0.18591517662231646,
           0.7578452017067829,
           -1.1201103682918108,
           -1.4809656473238406,
           -1.932290152656959,
           0.5687456244608741,
           -2.183122855649209,
           -0.18703771863844015,
           0.38248194212075454,
           -1.4501529065420269,
           1.0649615189495414,
           -0.44540408458769665,
           -0.5991301447361154,
           0.608703902269564,
           0.4058260851185324,
           0.457400126610244,
           0.5464347317371752,
           -0.2577028738771836,
           -0.6222900815300759,
           0.04461153224918688,
           -2.447018762098259,
           -0.23888100490859634,
           0.08761509395317087,
           1.623124602304495,
           1.1845787037770144,
           0.5492856988758372,
           1.130595322987083,
           -1.8840243529998721,
           0.18955829582691278,
           1.6839930239683714,
           0.5334500493016082,
           1.8492431165364005,
           0.4549707177333402,
           0.6697077146222054,
           0.4085483537015883,
           -0.5082199635442869,
           0.3448252142610793,
           -0.9833076650745944,
           0.2228561564482779,
           1.314600834470803,
           0.5969614245184819,
           0.5615669274826204,
           -0.03580808061129372,
           0.2825263823615819,
           -2.104980414657762,
           -1.8480485079071858,
           -1.2798589824928985,
           -0.4685176982797968,
           1.3615871560013324,
           0.7947295589257131,
           -1.018205327768071,
           0.6838015779839137,
           -0.445118498396265
          ],
          [
           -0.8421603506766187,
           -0.9706041899799989,
           0.6832531168715341,
           1.6468678884740529,
           -0.16568135375708265,
           0.6293779960362839,
           1.2922687753064812,
           -0.09669053752515908,
           0.758570054065179,
           -0.8839507721828632,
           1.2280342442807675,
           -0.4628807989882697,
           -0.7161165844696878,
           1.4464843188409209,
           1.4629995097962403,
           -0.6286919968925113,
           0.5498266948912985,
           0.46202528676540383,
           -1.5968510028160237,
           1.6849093652971419,
           1.3184842391473701,
           1.7523413485734658,
           1.1145417017973525,
           0.8238061796830247,
           -0.11673079421807615,
           -0.9431413499758955,
           -0.6661012696103875,
           1.59665769705926,
           -1.4418095782645222,
           -0.028825792028261146,
           0.8846910659012178,
           1.3445888166417854,
           0.831313865520293,
           0.8984402570930786,
           0.9547597163223918,
           0.7243675719745242,
           -0.8504776604197904,
           0.7231445379854539,
           0.2122902086328843,
           -0.6319829696360213,
           0.8116987479536433,
           0.5663356880650702,
           -1.4081827739065174,
           1.3257080152455498,
           -0.35341041248399896,
           0.5986991170484928,
           -1.601105994725186,
           0.4510025063777082,
           -1.843962988505521,
           -0.6175567323014791,
           -0.46874922145868564,
           0.8017055728270843,
           0.9295789737059647,
           0.5769158548612651,
           0.8241325254974661,
           -1.3989811469531985,
           -0.1737328629106375,
           -1.1120987796057764,
           0.08397943697541344,
           0.41450385508002524,
           0.37813446451759153,
           0.5637465086282746,
           0.23448459891588502,
           -0.646152213425436,
           0.6888265843952968,
           1.1773248338495332,
           -2.366822749360234,
           2.5593268473776716,
           -0.8337284202472874,
           -0.6349992892264821,
           -1.1108274470015802,
           -0.5504924823973055,
           -0.5166790104444628,
           -0.35967398108001764,
           0.03304142061605584,
           -0.9953569079540042,
           -0.34225235175776236,
           0.05415196437471269,
           1.4312114089526344,
           -0.06819439128707315,
           0.9337859534275348,
           -0.9979806075142508,
           2.5153526996216797,
           -0.9202468939840021,
           -0.5645653682586875,
           -0.41454134423968747,
           -0.37516634580729047,
           -1.0212328426549688,
           -1.462300513745385,
           -1.767508363123518,
           -0.40178821637522183,
           -0.17122260507528686,
           0.4352737343905665,
           -0.01868513096343089,
           1.0548725514811137,
           -0.3919034473977661,
           0.08727005314804788,
           1.5252750004784736,
           1.2406486221739632,
           -1.5894052324070254
          ],
          [
           0.5126109428890469,
           1.4892272058537255,
           -0.06466481511960792,
           0.807094467503425,
           0.09912812177445302,
           0.0037604224907197346,
           1.7881832836634417,
           1.4373731417175712,
           -0.49032218019714713,
           0.7844086874638536,
           -0.9135354119307758,
           0.5083954666397061,
           -3.1349339074281404,
           -2.21207508186638,
           0.4447330266031348,
           0.18787135141075115,
           0.14751055603017138,
           -1.0925191742194862,
           -1.420182643360601,
           -2.6950447421847166,
           -1.1120408459566193,
           -1.5119946162620084,
           0.21487814882806078,
           -0.5778547810602227,
           -0.6157290651613634,
           -0.5141466764562026,
           -1.5873889037285451,
           -0.3247674515862568,
           1.8465745931558841,
           0.3717136751793924,
           -0.0944745193772145,
           -0.7256893345692426,
           0.6329911919873296,
           0.8432331721074044,
           0.21506185326754326,
           -0.3946349840372016,
           1.0164983176266524,
           0.2707980457033641,
           0.43401711765144985,
           -0.7514870419734236,
           1.5967967931952454,
           -0.5192006010979153,
           -0.16636177789934467,
           1.063769112378764,
           0.04824552637562311,
           -0.30927218647456906,
           -0.8455324146613583,
           -1.292727257811507,
           0.8011477929185559,
           -0.35765870279142736,
           -0.1801085848973175,
           -0.5179106531571229,
           0.20678839468290003,
           0.21217097423294343,
           -0.5197920666799181,
           1.5452085633784096,
           0.8164027682792973,
           1.7211677024187413,
           -0.056769339959388786,
           -1.441754323154373,
           -2.1037029742663806,
           0.784787163635707,
           -0.9254897742956887,
           -0.30742465476637876,
           -0.795795144089506,
           -0.20367749333363674,
           -0.44097727181532287,
           1.1106618413964617,
           -1.4799913193064362,
           0.820803062794328,
           -0.885579677922769,
           0.7746145957497992,
           -0.584185617026759,
           0.44814214424737153,
           0.7327582698609134,
           -0.42593933722798827,
           0.5025705667376403,
           -1.94052132088566,
           1.151791010936278,
           0.18333509384631916,
           -0.8832256403000278,
           1.4734051005315147,
           2.1904546051168485,
           0.9807512609165957,
           -1.121059250174489,
           0.22222861053794152,
           -0.5101600824000081,
           0.0960439749329373,
           -0.9434158601417526,
           0.2280746660646097,
           -0.6199711206314074,
           -0.19296185060244755,
           -0.7950160586572694,
           -0.650755287984872,
           0.10002357639733761,
           -0.399410590339489,
           0.4257795860026511,
           -0.9861302587332238,
           1.2273480606955298,
           -0.45426223575550595
          ]
         ]
        }
       ],
       "layout": {
        "legend": {
         "bgcolor": "#F5F6F9",
         "font": {
          "color": "#4D5663"
         }
        },
        "paper_bgcolor": "#F5F6F9",
        "plot_bgcolor": "#F5F6F9",
        "template": {
         "data": {
          "bar": [
           {
            "error_x": {
             "color": "#2a3f5f"
            },
            "error_y": {
             "color": "#2a3f5f"
            },
            "marker": {
             "line": {
              "color": "#E5ECF6",
              "width": 0.5
             },
             "pattern": {
              "fillmode": "overlay",
              "size": 10,
              "solidity": 0.2
             }
            },
            "type": "bar"
           }
          ],
          "barpolar": [
           {
            "marker": {
             "line": {
              "color": "#E5ECF6",
              "width": 0.5
             },
             "pattern": {
              "fillmode": "overlay",
              "size": 10,
              "solidity": 0.2
             }
            },
            "type": "barpolar"
           }
          ],
          "carpet": [
           {
            "aaxis": {
             "endlinecolor": "#2a3f5f",
             "gridcolor": "white",
             "linecolor": "white",
             "minorgridcolor": "white",
             "startlinecolor": "#2a3f5f"
            },
            "baxis": {
             "endlinecolor": "#2a3f5f",
             "gridcolor": "white",
             "linecolor": "white",
             "minorgridcolor": "white",
             "startlinecolor": "#2a3f5f"
            },
            "type": "carpet"
           }
          ],
          "choropleth": [
           {
            "colorbar": {
             "outlinewidth": 0,
             "ticks": ""
            },
            "type": "choropleth"
           }
          ],
          "contour": [
           {
            "colorbar": {
             "outlinewidth": 0,
             "ticks": ""
            },
            "colorscale": [
             [
              0,
              "#0d0887"
             ],
             [
              0.1111111111111111,
              "#46039f"
             ],
             [
              0.2222222222222222,
              "#7201a8"
             ],
             [
              0.3333333333333333,
              "#9c179e"
             ],
             [
              0.4444444444444444,
              "#bd3786"
             ],
             [
              0.5555555555555556,
              "#d8576b"
             ],
             [
              0.6666666666666666,
              "#ed7953"
             ],
             [
              0.7777777777777778,
              "#fb9f3a"
             ],
             [
              0.8888888888888888,
              "#fdca26"
             ],
             [
              1,
              "#f0f921"
             ]
            ],
            "type": "contour"
           }
          ],
          "contourcarpet": [
           {
            "colorbar": {
             "outlinewidth": 0,
             "ticks": ""
            },
            "type": "contourcarpet"
           }
          ],
          "heatmap": [
           {
            "colorbar": {
             "outlinewidth": 0,
             "ticks": ""
            },
            "colorscale": [
             [
              0,
              "#0d0887"
             ],
             [
              0.1111111111111111,
              "#46039f"
             ],
             [
              0.2222222222222222,
              "#7201a8"
             ],
             [
              0.3333333333333333,
              "#9c179e"
             ],
             [
              0.4444444444444444,
              "#bd3786"
             ],
             [
              0.5555555555555556,
              "#d8576b"
             ],
             [
              0.6666666666666666,
              "#ed7953"
             ],
             [
              0.7777777777777778,
              "#fb9f3a"
             ],
             [
              0.8888888888888888,
              "#fdca26"
             ],
             [
              1,
              "#f0f921"
             ]
            ],
            "type": "heatmap"
           }
          ],
          "heatmapgl": [
           {
            "colorbar": {
             "outlinewidth": 0,
             "ticks": ""
            },
            "colorscale": [
             [
              0,
              "#0d0887"
             ],
             [
              0.1111111111111111,
              "#46039f"
             ],
             [
              0.2222222222222222,
              "#7201a8"
             ],
             [
              0.3333333333333333,
              "#9c179e"
             ],
             [
              0.4444444444444444,
              "#bd3786"
             ],
             [
              0.5555555555555556,
              "#d8576b"
             ],
             [
              0.6666666666666666,
              "#ed7953"
             ],
             [
              0.7777777777777778,
              "#fb9f3a"
             ],
             [
              0.8888888888888888,
              "#fdca26"
             ],
             [
              1,
              "#f0f921"
             ]
            ],
            "type": "heatmapgl"
           }
          ],
          "histogram": [
           {
            "marker": {
             "pattern": {
              "fillmode": "overlay",
              "size": 10,
              "solidity": 0.2
             }
            },
            "type": "histogram"
           }
          ],
          "histogram2d": [
           {
            "colorbar": {
             "outlinewidth": 0,
             "ticks": ""
            },
            "colorscale": [
             [
              0,
              "#0d0887"
             ],
             [
              0.1111111111111111,
              "#46039f"
             ],
             [
              0.2222222222222222,
              "#7201a8"
             ],
             [
              0.3333333333333333,
              "#9c179e"
             ],
             [
              0.4444444444444444,
              "#bd3786"
             ],
             [
              0.5555555555555556,
              "#d8576b"
             ],
             [
              0.6666666666666666,
              "#ed7953"
             ],
             [
              0.7777777777777778,
              "#fb9f3a"
             ],
             [
              0.8888888888888888,
              "#fdca26"
             ],
             [
              1,
              "#f0f921"
             ]
            ],
            "type": "histogram2d"
           }
          ],
          "histogram2dcontour": [
           {
            "colorbar": {
             "outlinewidth": 0,
             "ticks": ""
            },
            "colorscale": [
             [
              0,
              "#0d0887"
             ],
             [
              0.1111111111111111,
              "#46039f"
             ],
             [
              0.2222222222222222,
              "#7201a8"
             ],
             [
              0.3333333333333333,
              "#9c179e"
             ],
             [
              0.4444444444444444,
              "#bd3786"
             ],
             [
              0.5555555555555556,
              "#d8576b"
             ],
             [
              0.6666666666666666,
              "#ed7953"
             ],
             [
              0.7777777777777778,
              "#fb9f3a"
             ],
             [
              0.8888888888888888,
              "#fdca26"
             ],
             [
              1,
              "#f0f921"
             ]
            ],
            "type": "histogram2dcontour"
           }
          ],
          "mesh3d": [
           {
            "colorbar": {
             "outlinewidth": 0,
             "ticks": ""
            },
            "type": "mesh3d"
           }
          ],
          "parcoords": [
           {
            "line": {
             "colorbar": {
              "outlinewidth": 0,
              "ticks": ""
             }
            },
            "type": "parcoords"
           }
          ],
          "pie": [
           {
            "automargin": true,
            "type": "pie"
           }
          ],
          "scatter": [
           {
            "fillpattern": {
             "fillmode": "overlay",
             "size": 10,
             "solidity": 0.2
            },
            "type": "scatter"
           }
          ],
          "scatter3d": [
           {
            "line": {
             "colorbar": {
              "outlinewidth": 0,
              "ticks": ""
             }
            },
            "marker": {
             "colorbar": {
              "outlinewidth": 0,
              "ticks": ""
             }
            },
            "type": "scatter3d"
           }
          ],
          "scattercarpet": [
           {
            "marker": {
             "colorbar": {
              "outlinewidth": 0,
              "ticks": ""
             }
            },
            "type": "scattercarpet"
           }
          ],
          "scattergeo": [
           {
            "marker": {
             "colorbar": {
              "outlinewidth": 0,
              "ticks": ""
             }
            },
            "type": "scattergeo"
           }
          ],
          "scattergl": [
           {
            "marker": {
             "colorbar": {
              "outlinewidth": 0,
              "ticks": ""
             }
            },
            "type": "scattergl"
           }
          ],
          "scattermapbox": [
           {
            "marker": {
             "colorbar": {
              "outlinewidth": 0,
              "ticks": ""
             }
            },
            "type": "scattermapbox"
           }
          ],
          "scatterpolar": [
           {
            "marker": {
             "colorbar": {
              "outlinewidth": 0,
              "ticks": ""
             }
            },
            "type": "scatterpolar"
           }
          ],
          "scatterpolargl": [
           {
            "marker": {
             "colorbar": {
              "outlinewidth": 0,
              "ticks": ""
             }
            },
            "type": "scatterpolargl"
           }
          ],
          "scatterternary": [
           {
            "marker": {
             "colorbar": {
              "outlinewidth": 0,
              "ticks": ""
             }
            },
            "type": "scatterternary"
           }
          ],
          "surface": [
           {
            "colorbar": {
             "outlinewidth": 0,
             "ticks": ""
            },
            "colorscale": [
             [
              0,
              "#0d0887"
             ],
             [
              0.1111111111111111,
              "#46039f"
             ],
             [
              0.2222222222222222,
              "#7201a8"
             ],
             [
              0.3333333333333333,
              "#9c179e"
             ],
             [
              0.4444444444444444,
              "#bd3786"
             ],
             [
              0.5555555555555556,
              "#d8576b"
             ],
             [
              0.6666666666666666,
              "#ed7953"
             ],
             [
              0.7777777777777778,
              "#fb9f3a"
             ],
             [
              0.8888888888888888,
              "#fdca26"
             ],
             [
              1,
              "#f0f921"
             ]
            ],
            "type": "surface"
           }
          ],
          "table": [
           {
            "cells": {
             "fill": {
              "color": "#EBF0F8"
             },
             "line": {
              "color": "white"
             }
            },
            "header": {
             "fill": {
              "color": "#C8D4E3"
             },
             "line": {
              "color": "white"
             }
            },
            "type": "table"
           }
          ]
         },
         "layout": {
          "annotationdefaults": {
           "arrowcolor": "#2a3f5f",
           "arrowhead": 0,
           "arrowwidth": 1
          },
          "autotypenumbers": "strict",
          "coloraxis": {
           "colorbar": {
            "outlinewidth": 0,
            "ticks": ""
           }
          },
          "colorscale": {
           "diverging": [
            [
             0,
             "#8e0152"
            ],
            [
             0.1,
             "#c51b7d"
            ],
            [
             0.2,
             "#de77ae"
            ],
            [
             0.3,
             "#f1b6da"
            ],
            [
             0.4,
             "#fde0ef"
            ],
            [
             0.5,
             "#f7f7f7"
            ],
            [
             0.6,
             "#e6f5d0"
            ],
            [
             0.7,
             "#b8e186"
            ],
            [
             0.8,
             "#7fbc41"
            ],
            [
             0.9,
             "#4d9221"
            ],
            [
             1,
             "#276419"
            ]
           ],
           "sequential": [
            [
             0,
             "#0d0887"
            ],
            [
             0.1111111111111111,
             "#46039f"
            ],
            [
             0.2222222222222222,
             "#7201a8"
            ],
            [
             0.3333333333333333,
             "#9c179e"
            ],
            [
             0.4444444444444444,
             "#bd3786"
            ],
            [
             0.5555555555555556,
             "#d8576b"
            ],
            [
             0.6666666666666666,
             "#ed7953"
            ],
            [
             0.7777777777777778,
             "#fb9f3a"
            ],
            [
             0.8888888888888888,
             "#fdca26"
            ],
            [
             1,
             "#f0f921"
            ]
           ],
           "sequentialminus": [
            [
             0,
             "#0d0887"
            ],
            [
             0.1111111111111111,
             "#46039f"
            ],
            [
             0.2222222222222222,
             "#7201a8"
            ],
            [
             0.3333333333333333,
             "#9c179e"
            ],
            [
             0.4444444444444444,
             "#bd3786"
            ],
            [
             0.5555555555555556,
             "#d8576b"
            ],
            [
             0.6666666666666666,
             "#ed7953"
            ],
            [
             0.7777777777777778,
             "#fb9f3a"
            ],
            [
             0.8888888888888888,
             "#fdca26"
            ],
            [
             1,
             "#f0f921"
            ]
           ]
          },
          "colorway": [
           "#636efa",
           "#EF553B",
           "#00cc96",
           "#ab63fa",
           "#FFA15A",
           "#19d3f3",
           "#FF6692",
           "#B6E880",
           "#FF97FF",
           "#FECB52"
          ],
          "font": {
           "color": "#2a3f5f"
          },
          "geo": {
           "bgcolor": "white",
           "lakecolor": "white",
           "landcolor": "#E5ECF6",
           "showlakes": true,
           "showland": true,
           "subunitcolor": "white"
          },
          "hoverlabel": {
           "align": "left"
          },
          "hovermode": "closest",
          "mapbox": {
           "style": "light"
          },
          "paper_bgcolor": "white",
          "plot_bgcolor": "#E5ECF6",
          "polar": {
           "angularaxis": {
            "gridcolor": "white",
            "linecolor": "white",
            "ticks": ""
           },
           "bgcolor": "#E5ECF6",
           "radialaxis": {
            "gridcolor": "white",
            "linecolor": "white",
            "ticks": ""
           }
          },
          "scene": {
           "xaxis": {
            "backgroundcolor": "#E5ECF6",
            "gridcolor": "white",
            "gridwidth": 2,
            "linecolor": "white",
            "showbackground": true,
            "ticks": "",
            "zerolinecolor": "white"
           },
           "yaxis": {
            "backgroundcolor": "#E5ECF6",
            "gridcolor": "white",
            "gridwidth": 2,
            "linecolor": "white",
            "showbackground": true,
            "ticks": "",
            "zerolinecolor": "white"
           },
           "zaxis": {
            "backgroundcolor": "#E5ECF6",
            "gridcolor": "white",
            "gridwidth": 2,
            "linecolor": "white",
            "showbackground": true,
            "ticks": "",
            "zerolinecolor": "white"
           }
          },
          "shapedefaults": {
           "line": {
            "color": "#2a3f5f"
           }
          },
          "ternary": {
           "aaxis": {
            "gridcolor": "white",
            "linecolor": "white",
            "ticks": ""
           },
           "baxis": {
            "gridcolor": "white",
            "linecolor": "white",
            "ticks": ""
           },
           "bgcolor": "#E5ECF6",
           "caxis": {
            "gridcolor": "white",
            "linecolor": "white",
            "ticks": ""
           }
          },
          "title": {
           "x": 0.05
          },
          "xaxis": {
           "automargin": true,
           "gridcolor": "white",
           "linecolor": "white",
           "ticks": "",
           "title": {
            "standoff": 15
           },
           "zerolinecolor": "white",
           "zerolinewidth": 2
          },
          "yaxis": {
           "automargin": true,
           "gridcolor": "white",
           "linecolor": "white",
           "ticks": "",
           "title": {
            "standoff": 15
           },
           "zerolinecolor": "white",
           "zerolinewidth": 2
          }
         }
        },
        "title": {
         "font": {
          "color": "#4D5663"
         }
        },
        "xaxis": {
         "gridcolor": "#E1E5ED",
         "showgrid": true,
         "tickfont": {
          "color": "#4D5663"
         },
         "title": {
          "font": {
           "color": "#4D5663"
          },
          "text": ""
         },
         "zerolinecolor": "#E1E5ED"
        },
        "yaxis": {
         "gridcolor": "#E1E5ED",
         "showgrid": true,
         "tickfont": {
          "color": "#4D5663"
         },
         "title": {
          "font": {
           "color": "#4D5663"
          },
          "text": ""
         },
         "zerolinecolor": "#E1E5ED"
        }
       }
      },
      "text/html": [
       "<div>                            <div id=\"72c9fac0-3c83-4cd5-9b62-e63f5d3713b0\" class=\"plotly-graph-div\" style=\"height:525px; width:100%;\"></div>            <script type=\"text/javascript\">                require([\"plotly\"], function(Plotly) {                    window.PLOTLYENV=window.PLOTLYENV || {};\n",
       "                    window.PLOTLYENV.BASE_URL='https://plot.ly';                                    if (document.getElementById(\"72c9fac0-3c83-4cd5-9b62-e63f5d3713b0\")) {                    Plotly.newPlot(                        \"72c9fac0-3c83-4cd5-9b62-e63f5d3713b0\",                        [{\"colorscale\":[[0.0,\"rgb(255, 153, 51)\"],[0.1111111111111111,\"rgb(55, 128, 191)\"],[0.2222222222222222,\"rgb(50, 171, 96)\"],[0.3333333333333333,\"rgb(128, 0, 128)\"],[0.4444444444444444,\"rgb(219, 64, 82)\"],[0.5555555555555556,\"rgb(0, 128, 128)\"],[0.6666666666666666,\"rgb(255, 255, 51)\"],[0.7777777777777778,\"rgb(128, 128, 0)\"],[0.8888888888888888,\"rgb(251, 128, 114)\"],[1.0,\"rgb(128, 177, 211)\"]],\"x\":[0,1,2,3,4,5,6,7,8,9,10,11,12,13,14,15,16,17,18,19,20,21,22,23,24,25,26,27,28,29,30,31,32,33,34,35,36,37,38,39,40,41,42,43,44,45,46,47,48,49,50,51,52,53,54,55,56,57,58,59,60,61,62,63,64,65,66,67,68,69,70,71,72,73,74,75,76,77,78,79,80,81,82,83,84,85,86,87,88,89,90,91,92,93,94,95,96,97,98,99],\"y\":[\"A\",\"B\",\"C\",\"D\"],\"z\":[[-0.6185864777596235,-0.09549749996174815,0.7735155947714842,-1.9544208522009834,0.9321062993468145,0.36391957912219924,1.0222517106252103,0.21428349229504423,0.30155723927183736,-1.7737081556426644,-0.8813197097782401,-1.1833788622984094,1.0921030137803465,0.47150727733146436,-1.6539348028518632,-0.28566133680357586,1.6103067819704,-1.8417392372265438,0.039193584163302084,-0.6695950365093897,-0.7291227819448418,0.17384486693441867,1.5625067918950442,-2.118320960980159,-0.6478092575126989,-1.3354358976613383,-0.11900269907027594,1.8690436615397525,0.3602185862801853,0.954444106941083,-1.3426442266410488,-0.5861974838373313,-1.2776509648542993,-0.17202929225908314,-0.5899977906595941,1.3660735045819095,-1.096820738909289,0.09159655138384042,0.8669297839834728,0.11618036291092862,-0.1306793735655419,-1.409084507446096,-1.1458344122244621,-0.20695860339653058,-1.037860881063523,0.01958383190177941,1.877231153321232,-0.4861599541240264,0.2256221614426137,1.0191400317688684,-1.7994981450956142,-0.449892724101533,-1.7060329759096715,-0.7097216977459914,-0.8825995557308481,0.33962848154734276,0.20113285388190974,0.46035911247198713,0.7091683111522437,-1.2284387339475709,0.11445375532849965,-0.11410251539813779,-0.433581463941365,-0.1506692378419643,0.33482007756007925,-1.5145111918515755,0.570038479119206,-1.2112103535764067,-0.4029111539814335,-0.19348347413316772,-0.18662039060185484,-0.4020159349141075,-1.104221400696765,-0.7881037638705021,0.9624880966553944,0.8370910133274343,0.08064775753280434,0.4529394450193887,0.8144227765728742,-0.4139266273079406,-0.16045457024510903,0.11560583805022592,0.5018750969144258,-1.05549272187284,0.6646897400226129,0.7252518633264401,-0.8634744428274881,0.14526679817629318,0.5642348261932901,-0.5739339256594503,0.15846871036688384,0.5303216539889294,-0.4638919188417855,-2.653303499100419,0.30810942245492506,1.337533737637027,1.0885583937029353,-1.6447907309114553,0.6693410844821837,-0.023858538897312875],[-0.4592523817006714,1.614960731672855,-1.4206426925982674,1.1551454541846038,-0.34613058552962517,1.6624230716641488,-0.11554649598016219,-0.01851161969972325,0.09984663041486533,-2.043102167532454,-1.478451948264321,-0.2788843499486517,-0.1497492795430963,1.9533168820677445,-0.10989230038135865,0.31344790900193625,0.08678752237308349,-0.3990447395439932,-1.4424816562369789,-0.028981252459112657,-0.4160821900068768,-0.9024826500293118,-0.5208567006043135,0.37071150697915956,0.29340762940465925,-0.15303788800844492,-1.7013013838151183,-2.1032089257065056,0.01803007769576685,0.774085466469011,-0.0130218043338703,0.7479391896322369,0.7318773540406959,-1.800944110150754,1.4099248117758916,-1.5325103771876123,0.5782922057046384,0.3053398932705239,-0.06430529590814345,1.0236623980295185,0.6914789499794927,0.7371810656811424,2.606242974469369,-1.5007673763044456,-1.0420156920821377,0.046743919591023995,1.3154764187085386,-0.18591517662231646,0.7578452017067829,-1.1201103682918108,-1.4809656473238406,-1.932290152656959,0.5687456244608741,-2.183122855649209,-0.18703771863844015,0.38248194212075454,-1.4501529065420269,1.0649615189495414,-0.44540408458769665,-0.5991301447361154,0.608703902269564,0.4058260851185324,0.457400126610244,0.5464347317371752,-0.2577028738771836,-0.6222900815300759,0.04461153224918688,-2.447018762098259,-0.23888100490859634,0.08761509395317087,1.623124602304495,1.1845787037770144,0.5492856988758372,1.130595322987083,-1.8840243529998721,0.18955829582691278,1.6839930239683714,0.5334500493016082,1.8492431165364005,0.4549707177333402,0.6697077146222054,0.4085483537015883,-0.5082199635442869,0.3448252142610793,-0.9833076650745944,0.2228561564482779,1.314600834470803,0.5969614245184819,0.5615669274826204,-0.03580808061129372,0.2825263823615819,-2.104980414657762,-1.8480485079071858,-1.2798589824928985,-0.4685176982797968,1.3615871560013324,0.7947295589257131,-1.018205327768071,0.6838015779839137,-0.445118498396265],[-0.8421603506766187,-0.9706041899799989,0.6832531168715341,1.6468678884740529,-0.16568135375708265,0.6293779960362839,1.2922687753064812,-0.09669053752515908,0.758570054065179,-0.8839507721828632,1.2280342442807675,-0.4628807989882697,-0.7161165844696878,1.4464843188409209,1.4629995097962403,-0.6286919968925113,0.5498266948912985,0.46202528676540383,-1.5968510028160237,1.6849093652971419,1.3184842391473701,1.7523413485734658,1.1145417017973525,0.8238061796830247,-0.11673079421807615,-0.9431413499758955,-0.6661012696103875,1.59665769705926,-1.4418095782645222,-0.028825792028261146,0.8846910659012178,1.3445888166417854,0.831313865520293,0.8984402570930786,0.9547597163223918,0.7243675719745242,-0.8504776604197904,0.7231445379854539,0.2122902086328843,-0.6319829696360213,0.8116987479536433,0.5663356880650702,-1.4081827739065174,1.3257080152455498,-0.35341041248399896,0.5986991170484928,-1.601105994725186,0.4510025063777082,-1.843962988505521,-0.6175567323014791,-0.46874922145868564,0.8017055728270843,0.9295789737059647,0.5769158548612651,0.8241325254974661,-1.3989811469531985,-0.1737328629106375,-1.1120987796057764,0.08397943697541344,0.41450385508002524,0.37813446451759153,0.5637465086282746,0.23448459891588502,-0.646152213425436,0.6888265843952968,1.1773248338495332,-2.366822749360234,2.5593268473776716,-0.8337284202472874,-0.6349992892264821,-1.1108274470015802,-0.5504924823973055,-0.5166790104444628,-0.35967398108001764,0.03304142061605584,-0.9953569079540042,-0.34225235175776236,0.05415196437471269,1.4312114089526344,-0.06819439128707315,0.9337859534275348,-0.9979806075142508,2.5153526996216797,-0.9202468939840021,-0.5645653682586875,-0.41454134423968747,-0.37516634580729047,-1.0212328426549688,-1.462300513745385,-1.767508363123518,-0.40178821637522183,-0.17122260507528686,0.4352737343905665,-0.01868513096343089,1.0548725514811137,-0.3919034473977661,0.08727005314804788,1.5252750004784736,1.2406486221739632,-1.5894052324070254],[0.5126109428890469,1.4892272058537255,-0.06466481511960792,0.807094467503425,0.09912812177445302,0.0037604224907197346,1.7881832836634417,1.4373731417175712,-0.49032218019714713,0.7844086874638536,-0.9135354119307758,0.5083954666397061,-3.1349339074281404,-2.21207508186638,0.4447330266031348,0.18787135141075115,0.14751055603017138,-1.0925191742194862,-1.420182643360601,-2.6950447421847166,-1.1120408459566193,-1.5119946162620084,0.21487814882806078,-0.5778547810602227,-0.6157290651613634,-0.5141466764562026,-1.5873889037285451,-0.3247674515862568,1.8465745931558841,0.3717136751793924,-0.0944745193772145,-0.7256893345692426,0.6329911919873296,0.8432331721074044,0.21506185326754326,-0.3946349840372016,1.0164983176266524,0.2707980457033641,0.43401711765144985,-0.7514870419734236,1.5967967931952454,-0.5192006010979153,-0.16636177789934467,1.063769112378764,0.04824552637562311,-0.30927218647456906,-0.8455324146613583,-1.292727257811507,0.8011477929185559,-0.35765870279142736,-0.1801085848973175,-0.5179106531571229,0.20678839468290003,0.21217097423294343,-0.5197920666799181,1.5452085633784096,0.8164027682792973,1.7211677024187413,-0.056769339959388786,-1.441754323154373,-2.1037029742663806,0.784787163635707,-0.9254897742956887,-0.30742465476637876,-0.795795144089506,-0.20367749333363674,-0.44097727181532287,1.1106618413964617,-1.4799913193064362,0.820803062794328,-0.885579677922769,0.7746145957497992,-0.584185617026759,0.44814214424737153,0.7327582698609134,-0.42593933722798827,0.5025705667376403,-1.94052132088566,1.151791010936278,0.18333509384631916,-0.8832256403000278,1.4734051005315147,2.1904546051168485,0.9807512609165957,-1.121059250174489,0.22222861053794152,-0.5101600824000081,0.0960439749329373,-0.9434158601417526,0.2280746660646097,-0.6199711206314074,-0.19296185060244755,-0.7950160586572694,-0.650755287984872,0.10002357639733761,-0.399410590339489,0.4257795860026511,-0.9861302587332238,1.2273480606955298,-0.45426223575550595]],\"type\":\"surface\"}],                        {\"legend\":{\"bgcolor\":\"#F5F6F9\",\"font\":{\"color\":\"#4D5663\"}},\"paper_bgcolor\":\"#F5F6F9\",\"plot_bgcolor\":\"#F5F6F9\",\"template\":{\"data\":{\"barpolar\":[{\"marker\":{\"line\":{\"color\":\"#E5ECF6\",\"width\":0.5},\"pattern\":{\"fillmode\":\"overlay\",\"size\":10,\"solidity\":0.2}},\"type\":\"barpolar\"}],\"bar\":[{\"error_x\":{\"color\":\"#2a3f5f\"},\"error_y\":{\"color\":\"#2a3f5f\"},\"marker\":{\"line\":{\"color\":\"#E5ECF6\",\"width\":0.5},\"pattern\":{\"fillmode\":\"overlay\",\"size\":10,\"solidity\":0.2}},\"type\":\"bar\"}],\"carpet\":[{\"aaxis\":{\"endlinecolor\":\"#2a3f5f\",\"gridcolor\":\"white\",\"linecolor\":\"white\",\"minorgridcolor\":\"white\",\"startlinecolor\":\"#2a3f5f\"},\"baxis\":{\"endlinecolor\":\"#2a3f5f\",\"gridcolor\":\"white\",\"linecolor\":\"white\",\"minorgridcolor\":\"white\",\"startlinecolor\":\"#2a3f5f\"},\"type\":\"carpet\"}],\"choropleth\":[{\"colorbar\":{\"outlinewidth\":0,\"ticks\":\"\"},\"type\":\"choropleth\"}],\"contourcarpet\":[{\"colorbar\":{\"outlinewidth\":0,\"ticks\":\"\"},\"type\":\"contourcarpet\"}],\"contour\":[{\"colorbar\":{\"outlinewidth\":0,\"ticks\":\"\"},\"colorscale\":[[0.0,\"#0d0887\"],[0.1111111111111111,\"#46039f\"],[0.2222222222222222,\"#7201a8\"],[0.3333333333333333,\"#9c179e\"],[0.4444444444444444,\"#bd3786\"],[0.5555555555555556,\"#d8576b\"],[0.6666666666666666,\"#ed7953\"],[0.7777777777777778,\"#fb9f3a\"],[0.8888888888888888,\"#fdca26\"],[1.0,\"#f0f921\"]],\"type\":\"contour\"}],\"heatmapgl\":[{\"colorbar\":{\"outlinewidth\":0,\"ticks\":\"\"},\"colorscale\":[[0.0,\"#0d0887\"],[0.1111111111111111,\"#46039f\"],[0.2222222222222222,\"#7201a8\"],[0.3333333333333333,\"#9c179e\"],[0.4444444444444444,\"#bd3786\"],[0.5555555555555556,\"#d8576b\"],[0.6666666666666666,\"#ed7953\"],[0.7777777777777778,\"#fb9f3a\"],[0.8888888888888888,\"#fdca26\"],[1.0,\"#f0f921\"]],\"type\":\"heatmapgl\"}],\"heatmap\":[{\"colorbar\":{\"outlinewidth\":0,\"ticks\":\"\"},\"colorscale\":[[0.0,\"#0d0887\"],[0.1111111111111111,\"#46039f\"],[0.2222222222222222,\"#7201a8\"],[0.3333333333333333,\"#9c179e\"],[0.4444444444444444,\"#bd3786\"],[0.5555555555555556,\"#d8576b\"],[0.6666666666666666,\"#ed7953\"],[0.7777777777777778,\"#fb9f3a\"],[0.8888888888888888,\"#fdca26\"],[1.0,\"#f0f921\"]],\"type\":\"heatmap\"}],\"histogram2dcontour\":[{\"colorbar\":{\"outlinewidth\":0,\"ticks\":\"\"},\"colorscale\":[[0.0,\"#0d0887\"],[0.1111111111111111,\"#46039f\"],[0.2222222222222222,\"#7201a8\"],[0.3333333333333333,\"#9c179e\"],[0.4444444444444444,\"#bd3786\"],[0.5555555555555556,\"#d8576b\"],[0.6666666666666666,\"#ed7953\"],[0.7777777777777778,\"#fb9f3a\"],[0.8888888888888888,\"#fdca26\"],[1.0,\"#f0f921\"]],\"type\":\"histogram2dcontour\"}],\"histogram2d\":[{\"colorbar\":{\"outlinewidth\":0,\"ticks\":\"\"},\"colorscale\":[[0.0,\"#0d0887\"],[0.1111111111111111,\"#46039f\"],[0.2222222222222222,\"#7201a8\"],[0.3333333333333333,\"#9c179e\"],[0.4444444444444444,\"#bd3786\"],[0.5555555555555556,\"#d8576b\"],[0.6666666666666666,\"#ed7953\"],[0.7777777777777778,\"#fb9f3a\"],[0.8888888888888888,\"#fdca26\"],[1.0,\"#f0f921\"]],\"type\":\"histogram2d\"}],\"histogram\":[{\"marker\":{\"pattern\":{\"fillmode\":\"overlay\",\"size\":10,\"solidity\":0.2}},\"type\":\"histogram\"}],\"mesh3d\":[{\"colorbar\":{\"outlinewidth\":0,\"ticks\":\"\"},\"type\":\"mesh3d\"}],\"parcoords\":[{\"line\":{\"colorbar\":{\"outlinewidth\":0,\"ticks\":\"\"}},\"type\":\"parcoords\"}],\"pie\":[{\"automargin\":true,\"type\":\"pie\"}],\"scatter3d\":[{\"line\":{\"colorbar\":{\"outlinewidth\":0,\"ticks\":\"\"}},\"marker\":{\"colorbar\":{\"outlinewidth\":0,\"ticks\":\"\"}},\"type\":\"scatter3d\"}],\"scattercarpet\":[{\"marker\":{\"colorbar\":{\"outlinewidth\":0,\"ticks\":\"\"}},\"type\":\"scattercarpet\"}],\"scattergeo\":[{\"marker\":{\"colorbar\":{\"outlinewidth\":0,\"ticks\":\"\"}},\"type\":\"scattergeo\"}],\"scattergl\":[{\"marker\":{\"colorbar\":{\"outlinewidth\":0,\"ticks\":\"\"}},\"type\":\"scattergl\"}],\"scattermapbox\":[{\"marker\":{\"colorbar\":{\"outlinewidth\":0,\"ticks\":\"\"}},\"type\":\"scattermapbox\"}],\"scatterpolargl\":[{\"marker\":{\"colorbar\":{\"outlinewidth\":0,\"ticks\":\"\"}},\"type\":\"scatterpolargl\"}],\"scatterpolar\":[{\"marker\":{\"colorbar\":{\"outlinewidth\":0,\"ticks\":\"\"}},\"type\":\"scatterpolar\"}],\"scatter\":[{\"fillpattern\":{\"fillmode\":\"overlay\",\"size\":10,\"solidity\":0.2},\"type\":\"scatter\"}],\"scatterternary\":[{\"marker\":{\"colorbar\":{\"outlinewidth\":0,\"ticks\":\"\"}},\"type\":\"scatterternary\"}],\"surface\":[{\"colorbar\":{\"outlinewidth\":0,\"ticks\":\"\"},\"colorscale\":[[0.0,\"#0d0887\"],[0.1111111111111111,\"#46039f\"],[0.2222222222222222,\"#7201a8\"],[0.3333333333333333,\"#9c179e\"],[0.4444444444444444,\"#bd3786\"],[0.5555555555555556,\"#d8576b\"],[0.6666666666666666,\"#ed7953\"],[0.7777777777777778,\"#fb9f3a\"],[0.8888888888888888,\"#fdca26\"],[1.0,\"#f0f921\"]],\"type\":\"surface\"}],\"table\":[{\"cells\":{\"fill\":{\"color\":\"#EBF0F8\"},\"line\":{\"color\":\"white\"}},\"header\":{\"fill\":{\"color\":\"#C8D4E3\"},\"line\":{\"color\":\"white\"}},\"type\":\"table\"}]},\"layout\":{\"annotationdefaults\":{\"arrowcolor\":\"#2a3f5f\",\"arrowhead\":0,\"arrowwidth\":1},\"autotypenumbers\":\"strict\",\"coloraxis\":{\"colorbar\":{\"outlinewidth\":0,\"ticks\":\"\"}},\"colorscale\":{\"diverging\":[[0,\"#8e0152\"],[0.1,\"#c51b7d\"],[0.2,\"#de77ae\"],[0.3,\"#f1b6da\"],[0.4,\"#fde0ef\"],[0.5,\"#f7f7f7\"],[0.6,\"#e6f5d0\"],[0.7,\"#b8e186\"],[0.8,\"#7fbc41\"],[0.9,\"#4d9221\"],[1,\"#276419\"]],\"sequential\":[[0.0,\"#0d0887\"],[0.1111111111111111,\"#46039f\"],[0.2222222222222222,\"#7201a8\"],[0.3333333333333333,\"#9c179e\"],[0.4444444444444444,\"#bd3786\"],[0.5555555555555556,\"#d8576b\"],[0.6666666666666666,\"#ed7953\"],[0.7777777777777778,\"#fb9f3a\"],[0.8888888888888888,\"#fdca26\"],[1.0,\"#f0f921\"]],\"sequentialminus\":[[0.0,\"#0d0887\"],[0.1111111111111111,\"#46039f\"],[0.2222222222222222,\"#7201a8\"],[0.3333333333333333,\"#9c179e\"],[0.4444444444444444,\"#bd3786\"],[0.5555555555555556,\"#d8576b\"],[0.6666666666666666,\"#ed7953\"],[0.7777777777777778,\"#fb9f3a\"],[0.8888888888888888,\"#fdca26\"],[1.0,\"#f0f921\"]]},\"colorway\":[\"#636efa\",\"#EF553B\",\"#00cc96\",\"#ab63fa\",\"#FFA15A\",\"#19d3f3\",\"#FF6692\",\"#B6E880\",\"#FF97FF\",\"#FECB52\"],\"font\":{\"color\":\"#2a3f5f\"},\"geo\":{\"bgcolor\":\"white\",\"lakecolor\":\"white\",\"landcolor\":\"#E5ECF6\",\"showlakes\":true,\"showland\":true,\"subunitcolor\":\"white\"},\"hoverlabel\":{\"align\":\"left\"},\"hovermode\":\"closest\",\"mapbox\":{\"style\":\"light\"},\"paper_bgcolor\":\"white\",\"plot_bgcolor\":\"#E5ECF6\",\"polar\":{\"angularaxis\":{\"gridcolor\":\"white\",\"linecolor\":\"white\",\"ticks\":\"\"},\"bgcolor\":\"#E5ECF6\",\"radialaxis\":{\"gridcolor\":\"white\",\"linecolor\":\"white\",\"ticks\":\"\"}},\"scene\":{\"xaxis\":{\"backgroundcolor\":\"#E5ECF6\",\"gridcolor\":\"white\",\"gridwidth\":2,\"linecolor\":\"white\",\"showbackground\":true,\"ticks\":\"\",\"zerolinecolor\":\"white\"},\"yaxis\":{\"backgroundcolor\":\"#E5ECF6\",\"gridcolor\":\"white\",\"gridwidth\":2,\"linecolor\":\"white\",\"showbackground\":true,\"ticks\":\"\",\"zerolinecolor\":\"white\"},\"zaxis\":{\"backgroundcolor\":\"#E5ECF6\",\"gridcolor\":\"white\",\"gridwidth\":2,\"linecolor\":\"white\",\"showbackground\":true,\"ticks\":\"\",\"zerolinecolor\":\"white\"}},\"shapedefaults\":{\"line\":{\"color\":\"#2a3f5f\"}},\"ternary\":{\"aaxis\":{\"gridcolor\":\"white\",\"linecolor\":\"white\",\"ticks\":\"\"},\"baxis\":{\"gridcolor\":\"white\",\"linecolor\":\"white\",\"ticks\":\"\"},\"bgcolor\":\"#E5ECF6\",\"caxis\":{\"gridcolor\":\"white\",\"linecolor\":\"white\",\"ticks\":\"\"}},\"title\":{\"x\":0.05},\"xaxis\":{\"automargin\":true,\"gridcolor\":\"white\",\"linecolor\":\"white\",\"ticks\":\"\",\"title\":{\"standoff\":15},\"zerolinecolor\":\"white\",\"zerolinewidth\":2},\"yaxis\":{\"automargin\":true,\"gridcolor\":\"white\",\"linecolor\":\"white\",\"ticks\":\"\",\"title\":{\"standoff\":15},\"zerolinecolor\":\"white\",\"zerolinewidth\":2}}},\"title\":{\"font\":{\"color\":\"#4D5663\"}},\"xaxis\":{\"gridcolor\":\"#E1E5ED\",\"showgrid\":true,\"tickfont\":{\"color\":\"#4D5663\"},\"title\":{\"font\":{\"color\":\"#4D5663\"},\"text\":\"\"},\"zerolinecolor\":\"#E1E5ED\"},\"yaxis\":{\"gridcolor\":\"#E1E5ED\",\"showgrid\":true,\"tickfont\":{\"color\":\"#4D5663\"},\"title\":{\"font\":{\"color\":\"#4D5663\"},\"text\":\"\"},\"zerolinecolor\":\"#E1E5ED\"}},                        {\"showLink\": true, \"linkText\": \"Export to plot.ly\", \"plotlyServerURL\": \"https://plot.ly\", \"responsive\": true}                    ).then(function(){\n",
       "                            \n",
       "var gd = document.getElementById('72c9fac0-3c83-4cd5-9b62-e63f5d3713b0');\n",
       "var x = new MutationObserver(function (mutations, observer) {{\n",
       "        var display = window.getComputedStyle(gd).display;\n",
       "        if (!display || display === 'none') {{\n",
       "            console.log([gd, 'removed!']);\n",
       "            Plotly.purge(gd);\n",
       "            observer.disconnect();\n",
       "        }}\n",
       "}});\n",
       "\n",
       "// Listen for the removal of the full notebook cells\n",
       "var notebookContainer = gd.closest('#notebook-container');\n",
       "if (notebookContainer) {{\n",
       "    x.observe(notebookContainer, {childList: true});\n",
       "}}\n",
       "\n",
       "// Listen for the clearing of the current output cell\n",
       "var outputEl = gd.closest('.output');\n",
       "if (outputEl) {{\n",
       "    x.observe(outputEl, {childList: true});\n",
       "}}\n",
       "\n",
       "                        })                };                });            </script>        </div>"
      ]
     },
     "metadata": {},
     "output_type": "display_data"
    }
   ],
   "source": [
    "df.iplot(kind='surface')"
   ]
  },
  {
   "cell_type": "code",
   "execution_count": 26,
   "id": "62af1959",
   "metadata": {
    "ExecuteTime": {
     "end_time": "2023-03-25T09:01:04.822837Z",
     "start_time": "2023-03-25T09:01:04.733874Z"
    }
   },
   "outputs": [
    {
     "data": {
      "application/vnd.plotly.v1+json": {
       "config": {
        "linkText": "Export to plot.ly",
        "plotlyServerURL": "https://plot.ly",
        "showLink": true
       },
       "data": [
        {
         "histfunc": "count",
         "histnorm": "",
         "marker": {
          "color": "rgba(255, 153, 51, 1.0)",
          "line": {
           "color": "#4D5663",
           "width": 1.3
          }
         },
         "name": "A",
         "nbinsx": 25,
         "opacity": 0.8,
         "orientation": "v",
         "type": "histogram",
         "x": [
          -0.6185864777596235,
          -0.09549749996174815,
          0.7735155947714842,
          -1.9544208522009834,
          0.9321062993468145,
          0.36391957912219924,
          1.0222517106252103,
          0.21428349229504423,
          0.30155723927183736,
          -1.7737081556426644,
          -0.8813197097782401,
          -1.1833788622984094,
          1.0921030137803465,
          0.47150727733146436,
          -1.6539348028518632,
          -0.28566133680357586,
          1.6103067819704,
          -1.8417392372265438,
          0.039193584163302084,
          -0.6695950365093897,
          -0.7291227819448418,
          0.17384486693441867,
          1.5625067918950442,
          -2.118320960980159,
          -0.6478092575126989,
          -1.3354358976613383,
          -0.11900269907027594,
          1.8690436615397525,
          0.3602185862801853,
          0.954444106941083,
          -1.3426442266410488,
          -0.5861974838373313,
          -1.2776509648542993,
          -0.17202929225908314,
          -0.5899977906595941,
          1.3660735045819095,
          -1.096820738909289,
          0.09159655138384042,
          0.8669297839834728,
          0.11618036291092862,
          -0.1306793735655419,
          -1.409084507446096,
          -1.1458344122244621,
          -0.20695860339653058,
          -1.037860881063523,
          0.01958383190177941,
          1.877231153321232,
          -0.4861599541240264,
          0.2256221614426137,
          1.0191400317688684,
          -1.7994981450956142,
          -0.449892724101533,
          -1.7060329759096715,
          -0.7097216977459914,
          -0.8825995557308481,
          0.33962848154734276,
          0.20113285388190974,
          0.46035911247198713,
          0.7091683111522437,
          -1.2284387339475709,
          0.11445375532849965,
          -0.11410251539813779,
          -0.433581463941365,
          -0.1506692378419643,
          0.33482007756007925,
          -1.5145111918515755,
          0.570038479119206,
          -1.2112103535764067,
          -0.4029111539814335,
          -0.19348347413316772,
          -0.18662039060185484,
          -0.4020159349141075,
          -1.104221400696765,
          -0.7881037638705021,
          0.9624880966553944,
          0.8370910133274343,
          0.08064775753280434,
          0.4529394450193887,
          0.8144227765728742,
          -0.4139266273079406,
          -0.16045457024510903,
          0.11560583805022592,
          0.5018750969144258,
          -1.05549272187284,
          0.6646897400226129,
          0.7252518633264401,
          -0.8634744428274881,
          0.14526679817629318,
          0.5642348261932901,
          -0.5739339256594503,
          0.15846871036688384,
          0.5303216539889294,
          -0.4638919188417855,
          -2.653303499100419,
          0.30810942245492506,
          1.337533737637027,
          1.0885583937029353,
          -1.6447907309114553,
          0.6693410844821837,
          -0.023858538897312875
         ]
        }
       ],
       "layout": {
        "barmode": "overlay",
        "legend": {
         "bgcolor": "#F5F6F9",
         "font": {
          "color": "#4D5663"
         }
        },
        "paper_bgcolor": "#F5F6F9",
        "plot_bgcolor": "#F5F6F9",
        "template": {
         "data": {
          "bar": [
           {
            "error_x": {
             "color": "#2a3f5f"
            },
            "error_y": {
             "color": "#2a3f5f"
            },
            "marker": {
             "line": {
              "color": "#E5ECF6",
              "width": 0.5
             },
             "pattern": {
              "fillmode": "overlay",
              "size": 10,
              "solidity": 0.2
             }
            },
            "type": "bar"
           }
          ],
          "barpolar": [
           {
            "marker": {
             "line": {
              "color": "#E5ECF6",
              "width": 0.5
             },
             "pattern": {
              "fillmode": "overlay",
              "size": 10,
              "solidity": 0.2
             }
            },
            "type": "barpolar"
           }
          ],
          "carpet": [
           {
            "aaxis": {
             "endlinecolor": "#2a3f5f",
             "gridcolor": "white",
             "linecolor": "white",
             "minorgridcolor": "white",
             "startlinecolor": "#2a3f5f"
            },
            "baxis": {
             "endlinecolor": "#2a3f5f",
             "gridcolor": "white",
             "linecolor": "white",
             "minorgridcolor": "white",
             "startlinecolor": "#2a3f5f"
            },
            "type": "carpet"
           }
          ],
          "choropleth": [
           {
            "colorbar": {
             "outlinewidth": 0,
             "ticks": ""
            },
            "type": "choropleth"
           }
          ],
          "contour": [
           {
            "colorbar": {
             "outlinewidth": 0,
             "ticks": ""
            },
            "colorscale": [
             [
              0,
              "#0d0887"
             ],
             [
              0.1111111111111111,
              "#46039f"
             ],
             [
              0.2222222222222222,
              "#7201a8"
             ],
             [
              0.3333333333333333,
              "#9c179e"
             ],
             [
              0.4444444444444444,
              "#bd3786"
             ],
             [
              0.5555555555555556,
              "#d8576b"
             ],
             [
              0.6666666666666666,
              "#ed7953"
             ],
             [
              0.7777777777777778,
              "#fb9f3a"
             ],
             [
              0.8888888888888888,
              "#fdca26"
             ],
             [
              1,
              "#f0f921"
             ]
            ],
            "type": "contour"
           }
          ],
          "contourcarpet": [
           {
            "colorbar": {
             "outlinewidth": 0,
             "ticks": ""
            },
            "type": "contourcarpet"
           }
          ],
          "heatmap": [
           {
            "colorbar": {
             "outlinewidth": 0,
             "ticks": ""
            },
            "colorscale": [
             [
              0,
              "#0d0887"
             ],
             [
              0.1111111111111111,
              "#46039f"
             ],
             [
              0.2222222222222222,
              "#7201a8"
             ],
             [
              0.3333333333333333,
              "#9c179e"
             ],
             [
              0.4444444444444444,
              "#bd3786"
             ],
             [
              0.5555555555555556,
              "#d8576b"
             ],
             [
              0.6666666666666666,
              "#ed7953"
             ],
             [
              0.7777777777777778,
              "#fb9f3a"
             ],
             [
              0.8888888888888888,
              "#fdca26"
             ],
             [
              1,
              "#f0f921"
             ]
            ],
            "type": "heatmap"
           }
          ],
          "heatmapgl": [
           {
            "colorbar": {
             "outlinewidth": 0,
             "ticks": ""
            },
            "colorscale": [
             [
              0,
              "#0d0887"
             ],
             [
              0.1111111111111111,
              "#46039f"
             ],
             [
              0.2222222222222222,
              "#7201a8"
             ],
             [
              0.3333333333333333,
              "#9c179e"
             ],
             [
              0.4444444444444444,
              "#bd3786"
             ],
             [
              0.5555555555555556,
              "#d8576b"
             ],
             [
              0.6666666666666666,
              "#ed7953"
             ],
             [
              0.7777777777777778,
              "#fb9f3a"
             ],
             [
              0.8888888888888888,
              "#fdca26"
             ],
             [
              1,
              "#f0f921"
             ]
            ],
            "type": "heatmapgl"
           }
          ],
          "histogram": [
           {
            "marker": {
             "pattern": {
              "fillmode": "overlay",
              "size": 10,
              "solidity": 0.2
             }
            },
            "type": "histogram"
           }
          ],
          "histogram2d": [
           {
            "colorbar": {
             "outlinewidth": 0,
             "ticks": ""
            },
            "colorscale": [
             [
              0,
              "#0d0887"
             ],
             [
              0.1111111111111111,
              "#46039f"
             ],
             [
              0.2222222222222222,
              "#7201a8"
             ],
             [
              0.3333333333333333,
              "#9c179e"
             ],
             [
              0.4444444444444444,
              "#bd3786"
             ],
             [
              0.5555555555555556,
              "#d8576b"
             ],
             [
              0.6666666666666666,
              "#ed7953"
             ],
             [
              0.7777777777777778,
              "#fb9f3a"
             ],
             [
              0.8888888888888888,
              "#fdca26"
             ],
             [
              1,
              "#f0f921"
             ]
            ],
            "type": "histogram2d"
           }
          ],
          "histogram2dcontour": [
           {
            "colorbar": {
             "outlinewidth": 0,
             "ticks": ""
            },
            "colorscale": [
             [
              0,
              "#0d0887"
             ],
             [
              0.1111111111111111,
              "#46039f"
             ],
             [
              0.2222222222222222,
              "#7201a8"
             ],
             [
              0.3333333333333333,
              "#9c179e"
             ],
             [
              0.4444444444444444,
              "#bd3786"
             ],
             [
              0.5555555555555556,
              "#d8576b"
             ],
             [
              0.6666666666666666,
              "#ed7953"
             ],
             [
              0.7777777777777778,
              "#fb9f3a"
             ],
             [
              0.8888888888888888,
              "#fdca26"
             ],
             [
              1,
              "#f0f921"
             ]
            ],
            "type": "histogram2dcontour"
           }
          ],
          "mesh3d": [
           {
            "colorbar": {
             "outlinewidth": 0,
             "ticks": ""
            },
            "type": "mesh3d"
           }
          ],
          "parcoords": [
           {
            "line": {
             "colorbar": {
              "outlinewidth": 0,
              "ticks": ""
             }
            },
            "type": "parcoords"
           }
          ],
          "pie": [
           {
            "automargin": true,
            "type": "pie"
           }
          ],
          "scatter": [
           {
            "fillpattern": {
             "fillmode": "overlay",
             "size": 10,
             "solidity": 0.2
            },
            "type": "scatter"
           }
          ],
          "scatter3d": [
           {
            "line": {
             "colorbar": {
              "outlinewidth": 0,
              "ticks": ""
             }
            },
            "marker": {
             "colorbar": {
              "outlinewidth": 0,
              "ticks": ""
             }
            },
            "type": "scatter3d"
           }
          ],
          "scattercarpet": [
           {
            "marker": {
             "colorbar": {
              "outlinewidth": 0,
              "ticks": ""
             }
            },
            "type": "scattercarpet"
           }
          ],
          "scattergeo": [
           {
            "marker": {
             "colorbar": {
              "outlinewidth": 0,
              "ticks": ""
             }
            },
            "type": "scattergeo"
           }
          ],
          "scattergl": [
           {
            "marker": {
             "colorbar": {
              "outlinewidth": 0,
              "ticks": ""
             }
            },
            "type": "scattergl"
           }
          ],
          "scattermapbox": [
           {
            "marker": {
             "colorbar": {
              "outlinewidth": 0,
              "ticks": ""
             }
            },
            "type": "scattermapbox"
           }
          ],
          "scatterpolar": [
           {
            "marker": {
             "colorbar": {
              "outlinewidth": 0,
              "ticks": ""
             }
            },
            "type": "scatterpolar"
           }
          ],
          "scatterpolargl": [
           {
            "marker": {
             "colorbar": {
              "outlinewidth": 0,
              "ticks": ""
             }
            },
            "type": "scatterpolargl"
           }
          ],
          "scatterternary": [
           {
            "marker": {
             "colorbar": {
              "outlinewidth": 0,
              "ticks": ""
             }
            },
            "type": "scatterternary"
           }
          ],
          "surface": [
           {
            "colorbar": {
             "outlinewidth": 0,
             "ticks": ""
            },
            "colorscale": [
             [
              0,
              "#0d0887"
             ],
             [
              0.1111111111111111,
              "#46039f"
             ],
             [
              0.2222222222222222,
              "#7201a8"
             ],
             [
              0.3333333333333333,
              "#9c179e"
             ],
             [
              0.4444444444444444,
              "#bd3786"
             ],
             [
              0.5555555555555556,
              "#d8576b"
             ],
             [
              0.6666666666666666,
              "#ed7953"
             ],
             [
              0.7777777777777778,
              "#fb9f3a"
             ],
             [
              0.8888888888888888,
              "#fdca26"
             ],
             [
              1,
              "#f0f921"
             ]
            ],
            "type": "surface"
           }
          ],
          "table": [
           {
            "cells": {
             "fill": {
              "color": "#EBF0F8"
             },
             "line": {
              "color": "white"
             }
            },
            "header": {
             "fill": {
              "color": "#C8D4E3"
             },
             "line": {
              "color": "white"
             }
            },
            "type": "table"
           }
          ]
         },
         "layout": {
          "annotationdefaults": {
           "arrowcolor": "#2a3f5f",
           "arrowhead": 0,
           "arrowwidth": 1
          },
          "autotypenumbers": "strict",
          "coloraxis": {
           "colorbar": {
            "outlinewidth": 0,
            "ticks": ""
           }
          },
          "colorscale": {
           "diverging": [
            [
             0,
             "#8e0152"
            ],
            [
             0.1,
             "#c51b7d"
            ],
            [
             0.2,
             "#de77ae"
            ],
            [
             0.3,
             "#f1b6da"
            ],
            [
             0.4,
             "#fde0ef"
            ],
            [
             0.5,
             "#f7f7f7"
            ],
            [
             0.6,
             "#e6f5d0"
            ],
            [
             0.7,
             "#b8e186"
            ],
            [
             0.8,
             "#7fbc41"
            ],
            [
             0.9,
             "#4d9221"
            ],
            [
             1,
             "#276419"
            ]
           ],
           "sequential": [
            [
             0,
             "#0d0887"
            ],
            [
             0.1111111111111111,
             "#46039f"
            ],
            [
             0.2222222222222222,
             "#7201a8"
            ],
            [
             0.3333333333333333,
             "#9c179e"
            ],
            [
             0.4444444444444444,
             "#bd3786"
            ],
            [
             0.5555555555555556,
             "#d8576b"
            ],
            [
             0.6666666666666666,
             "#ed7953"
            ],
            [
             0.7777777777777778,
             "#fb9f3a"
            ],
            [
             0.8888888888888888,
             "#fdca26"
            ],
            [
             1,
             "#f0f921"
            ]
           ],
           "sequentialminus": [
            [
             0,
             "#0d0887"
            ],
            [
             0.1111111111111111,
             "#46039f"
            ],
            [
             0.2222222222222222,
             "#7201a8"
            ],
            [
             0.3333333333333333,
             "#9c179e"
            ],
            [
             0.4444444444444444,
             "#bd3786"
            ],
            [
             0.5555555555555556,
             "#d8576b"
            ],
            [
             0.6666666666666666,
             "#ed7953"
            ],
            [
             0.7777777777777778,
             "#fb9f3a"
            ],
            [
             0.8888888888888888,
             "#fdca26"
            ],
            [
             1,
             "#f0f921"
            ]
           ]
          },
          "colorway": [
           "#636efa",
           "#EF553B",
           "#00cc96",
           "#ab63fa",
           "#FFA15A",
           "#19d3f3",
           "#FF6692",
           "#B6E880",
           "#FF97FF",
           "#FECB52"
          ],
          "font": {
           "color": "#2a3f5f"
          },
          "geo": {
           "bgcolor": "white",
           "lakecolor": "white",
           "landcolor": "#E5ECF6",
           "showlakes": true,
           "showland": true,
           "subunitcolor": "white"
          },
          "hoverlabel": {
           "align": "left"
          },
          "hovermode": "closest",
          "mapbox": {
           "style": "light"
          },
          "paper_bgcolor": "white",
          "plot_bgcolor": "#E5ECF6",
          "polar": {
           "angularaxis": {
            "gridcolor": "white",
            "linecolor": "white",
            "ticks": ""
           },
           "bgcolor": "#E5ECF6",
           "radialaxis": {
            "gridcolor": "white",
            "linecolor": "white",
            "ticks": ""
           }
          },
          "scene": {
           "xaxis": {
            "backgroundcolor": "#E5ECF6",
            "gridcolor": "white",
            "gridwidth": 2,
            "linecolor": "white",
            "showbackground": true,
            "ticks": "",
            "zerolinecolor": "white"
           },
           "yaxis": {
            "backgroundcolor": "#E5ECF6",
            "gridcolor": "white",
            "gridwidth": 2,
            "linecolor": "white",
            "showbackground": true,
            "ticks": "",
            "zerolinecolor": "white"
           },
           "zaxis": {
            "backgroundcolor": "#E5ECF6",
            "gridcolor": "white",
            "gridwidth": 2,
            "linecolor": "white",
            "showbackground": true,
            "ticks": "",
            "zerolinecolor": "white"
           }
          },
          "shapedefaults": {
           "line": {
            "color": "#2a3f5f"
           }
          },
          "ternary": {
           "aaxis": {
            "gridcolor": "white",
            "linecolor": "white",
            "ticks": ""
           },
           "baxis": {
            "gridcolor": "white",
            "linecolor": "white",
            "ticks": ""
           },
           "bgcolor": "#E5ECF6",
           "caxis": {
            "gridcolor": "white",
            "linecolor": "white",
            "ticks": ""
           }
          },
          "title": {
           "x": 0.05
          },
          "xaxis": {
           "automargin": true,
           "gridcolor": "white",
           "linecolor": "white",
           "ticks": "",
           "title": {
            "standoff": 15
           },
           "zerolinecolor": "white",
           "zerolinewidth": 2
          },
          "yaxis": {
           "automargin": true,
           "gridcolor": "white",
           "linecolor": "white",
           "ticks": "",
           "title": {
            "standoff": 15
           },
           "zerolinecolor": "white",
           "zerolinewidth": 2
          }
         }
        },
        "title": {
         "font": {
          "color": "#4D5663"
         }
        },
        "xaxis": {
         "gridcolor": "#E1E5ED",
         "showgrid": true,
         "tickfont": {
          "color": "#4D5663"
         },
         "title": {
          "font": {
           "color": "#4D5663"
          },
          "text": ""
         },
         "zerolinecolor": "#E1E5ED"
        },
        "yaxis": {
         "gridcolor": "#E1E5ED",
         "showgrid": true,
         "tickfont": {
          "color": "#4D5663"
         },
         "title": {
          "font": {
           "color": "#4D5663"
          },
          "text": ""
         },
         "zerolinecolor": "#E1E5ED"
        }
       }
      },
      "text/html": [
       "<div>                            <div id=\"c9196eb9-226b-4fe7-91da-aad07b8cb04b\" class=\"plotly-graph-div\" style=\"height:525px; width:100%;\"></div>            <script type=\"text/javascript\">                require([\"plotly\"], function(Plotly) {                    window.PLOTLYENV=window.PLOTLYENV || {};\n",
       "                    window.PLOTLYENV.BASE_URL='https://plot.ly';                                    if (document.getElementById(\"c9196eb9-226b-4fe7-91da-aad07b8cb04b\")) {                    Plotly.newPlot(                        \"c9196eb9-226b-4fe7-91da-aad07b8cb04b\",                        [{\"histfunc\":\"count\",\"histnorm\":\"\",\"marker\":{\"color\":\"rgba(255, 153, 51, 1.0)\",\"line\":{\"color\":\"#4D5663\",\"width\":1.3}},\"name\":\"A\",\"nbinsx\":25,\"opacity\":0.8,\"orientation\":\"v\",\"x\":[-0.6185864777596235,-0.09549749996174815,0.7735155947714842,-1.9544208522009834,0.9321062993468145,0.36391957912219924,1.0222517106252103,0.21428349229504423,0.30155723927183736,-1.7737081556426644,-0.8813197097782401,-1.1833788622984094,1.0921030137803465,0.47150727733146436,-1.6539348028518632,-0.28566133680357586,1.6103067819704,-1.8417392372265438,0.039193584163302084,-0.6695950365093897,-0.7291227819448418,0.17384486693441867,1.5625067918950442,-2.118320960980159,-0.6478092575126989,-1.3354358976613383,-0.11900269907027594,1.8690436615397525,0.3602185862801853,0.954444106941083,-1.3426442266410488,-0.5861974838373313,-1.2776509648542993,-0.17202929225908314,-0.5899977906595941,1.3660735045819095,-1.096820738909289,0.09159655138384042,0.8669297839834728,0.11618036291092862,-0.1306793735655419,-1.409084507446096,-1.1458344122244621,-0.20695860339653058,-1.037860881063523,0.01958383190177941,1.877231153321232,-0.4861599541240264,0.2256221614426137,1.0191400317688684,-1.7994981450956142,-0.449892724101533,-1.7060329759096715,-0.7097216977459914,-0.8825995557308481,0.33962848154734276,0.20113285388190974,0.46035911247198713,0.7091683111522437,-1.2284387339475709,0.11445375532849965,-0.11410251539813779,-0.433581463941365,-0.1506692378419643,0.33482007756007925,-1.5145111918515755,0.570038479119206,-1.2112103535764067,-0.4029111539814335,-0.19348347413316772,-0.18662039060185484,-0.4020159349141075,-1.104221400696765,-0.7881037638705021,0.9624880966553944,0.8370910133274343,0.08064775753280434,0.4529394450193887,0.8144227765728742,-0.4139266273079406,-0.16045457024510903,0.11560583805022592,0.5018750969144258,-1.05549272187284,0.6646897400226129,0.7252518633264401,-0.8634744428274881,0.14526679817629318,0.5642348261932901,-0.5739339256594503,0.15846871036688384,0.5303216539889294,-0.4638919188417855,-2.653303499100419,0.30810942245492506,1.337533737637027,1.0885583937029353,-1.6447907309114553,0.6693410844821837,-0.023858538897312875],\"type\":\"histogram\"}],                        {\"barmode\":\"overlay\",\"legend\":{\"bgcolor\":\"#F5F6F9\",\"font\":{\"color\":\"#4D5663\"}},\"paper_bgcolor\":\"#F5F6F9\",\"plot_bgcolor\":\"#F5F6F9\",\"template\":{\"data\":{\"barpolar\":[{\"marker\":{\"line\":{\"color\":\"#E5ECF6\",\"width\":0.5},\"pattern\":{\"fillmode\":\"overlay\",\"size\":10,\"solidity\":0.2}},\"type\":\"barpolar\"}],\"bar\":[{\"error_x\":{\"color\":\"#2a3f5f\"},\"error_y\":{\"color\":\"#2a3f5f\"},\"marker\":{\"line\":{\"color\":\"#E5ECF6\",\"width\":0.5},\"pattern\":{\"fillmode\":\"overlay\",\"size\":10,\"solidity\":0.2}},\"type\":\"bar\"}],\"carpet\":[{\"aaxis\":{\"endlinecolor\":\"#2a3f5f\",\"gridcolor\":\"white\",\"linecolor\":\"white\",\"minorgridcolor\":\"white\",\"startlinecolor\":\"#2a3f5f\"},\"baxis\":{\"endlinecolor\":\"#2a3f5f\",\"gridcolor\":\"white\",\"linecolor\":\"white\",\"minorgridcolor\":\"white\",\"startlinecolor\":\"#2a3f5f\"},\"type\":\"carpet\"}],\"choropleth\":[{\"colorbar\":{\"outlinewidth\":0,\"ticks\":\"\"},\"type\":\"choropleth\"}],\"contourcarpet\":[{\"colorbar\":{\"outlinewidth\":0,\"ticks\":\"\"},\"type\":\"contourcarpet\"}],\"contour\":[{\"colorbar\":{\"outlinewidth\":0,\"ticks\":\"\"},\"colorscale\":[[0.0,\"#0d0887\"],[0.1111111111111111,\"#46039f\"],[0.2222222222222222,\"#7201a8\"],[0.3333333333333333,\"#9c179e\"],[0.4444444444444444,\"#bd3786\"],[0.5555555555555556,\"#d8576b\"],[0.6666666666666666,\"#ed7953\"],[0.7777777777777778,\"#fb9f3a\"],[0.8888888888888888,\"#fdca26\"],[1.0,\"#f0f921\"]],\"type\":\"contour\"}],\"heatmapgl\":[{\"colorbar\":{\"outlinewidth\":0,\"ticks\":\"\"},\"colorscale\":[[0.0,\"#0d0887\"],[0.1111111111111111,\"#46039f\"],[0.2222222222222222,\"#7201a8\"],[0.3333333333333333,\"#9c179e\"],[0.4444444444444444,\"#bd3786\"],[0.5555555555555556,\"#d8576b\"],[0.6666666666666666,\"#ed7953\"],[0.7777777777777778,\"#fb9f3a\"],[0.8888888888888888,\"#fdca26\"],[1.0,\"#f0f921\"]],\"type\":\"heatmapgl\"}],\"heatmap\":[{\"colorbar\":{\"outlinewidth\":0,\"ticks\":\"\"},\"colorscale\":[[0.0,\"#0d0887\"],[0.1111111111111111,\"#46039f\"],[0.2222222222222222,\"#7201a8\"],[0.3333333333333333,\"#9c179e\"],[0.4444444444444444,\"#bd3786\"],[0.5555555555555556,\"#d8576b\"],[0.6666666666666666,\"#ed7953\"],[0.7777777777777778,\"#fb9f3a\"],[0.8888888888888888,\"#fdca26\"],[1.0,\"#f0f921\"]],\"type\":\"heatmap\"}],\"histogram2dcontour\":[{\"colorbar\":{\"outlinewidth\":0,\"ticks\":\"\"},\"colorscale\":[[0.0,\"#0d0887\"],[0.1111111111111111,\"#46039f\"],[0.2222222222222222,\"#7201a8\"],[0.3333333333333333,\"#9c179e\"],[0.4444444444444444,\"#bd3786\"],[0.5555555555555556,\"#d8576b\"],[0.6666666666666666,\"#ed7953\"],[0.7777777777777778,\"#fb9f3a\"],[0.8888888888888888,\"#fdca26\"],[1.0,\"#f0f921\"]],\"type\":\"histogram2dcontour\"}],\"histogram2d\":[{\"colorbar\":{\"outlinewidth\":0,\"ticks\":\"\"},\"colorscale\":[[0.0,\"#0d0887\"],[0.1111111111111111,\"#46039f\"],[0.2222222222222222,\"#7201a8\"],[0.3333333333333333,\"#9c179e\"],[0.4444444444444444,\"#bd3786\"],[0.5555555555555556,\"#d8576b\"],[0.6666666666666666,\"#ed7953\"],[0.7777777777777778,\"#fb9f3a\"],[0.8888888888888888,\"#fdca26\"],[1.0,\"#f0f921\"]],\"type\":\"histogram2d\"}],\"histogram\":[{\"marker\":{\"pattern\":{\"fillmode\":\"overlay\",\"size\":10,\"solidity\":0.2}},\"type\":\"histogram\"}],\"mesh3d\":[{\"colorbar\":{\"outlinewidth\":0,\"ticks\":\"\"},\"type\":\"mesh3d\"}],\"parcoords\":[{\"line\":{\"colorbar\":{\"outlinewidth\":0,\"ticks\":\"\"}},\"type\":\"parcoords\"}],\"pie\":[{\"automargin\":true,\"type\":\"pie\"}],\"scatter3d\":[{\"line\":{\"colorbar\":{\"outlinewidth\":0,\"ticks\":\"\"}},\"marker\":{\"colorbar\":{\"outlinewidth\":0,\"ticks\":\"\"}},\"type\":\"scatter3d\"}],\"scattercarpet\":[{\"marker\":{\"colorbar\":{\"outlinewidth\":0,\"ticks\":\"\"}},\"type\":\"scattercarpet\"}],\"scattergeo\":[{\"marker\":{\"colorbar\":{\"outlinewidth\":0,\"ticks\":\"\"}},\"type\":\"scattergeo\"}],\"scattergl\":[{\"marker\":{\"colorbar\":{\"outlinewidth\":0,\"ticks\":\"\"}},\"type\":\"scattergl\"}],\"scattermapbox\":[{\"marker\":{\"colorbar\":{\"outlinewidth\":0,\"ticks\":\"\"}},\"type\":\"scattermapbox\"}],\"scatterpolargl\":[{\"marker\":{\"colorbar\":{\"outlinewidth\":0,\"ticks\":\"\"}},\"type\":\"scatterpolargl\"}],\"scatterpolar\":[{\"marker\":{\"colorbar\":{\"outlinewidth\":0,\"ticks\":\"\"}},\"type\":\"scatterpolar\"}],\"scatter\":[{\"fillpattern\":{\"fillmode\":\"overlay\",\"size\":10,\"solidity\":0.2},\"type\":\"scatter\"}],\"scatterternary\":[{\"marker\":{\"colorbar\":{\"outlinewidth\":0,\"ticks\":\"\"}},\"type\":\"scatterternary\"}],\"surface\":[{\"colorbar\":{\"outlinewidth\":0,\"ticks\":\"\"},\"colorscale\":[[0.0,\"#0d0887\"],[0.1111111111111111,\"#46039f\"],[0.2222222222222222,\"#7201a8\"],[0.3333333333333333,\"#9c179e\"],[0.4444444444444444,\"#bd3786\"],[0.5555555555555556,\"#d8576b\"],[0.6666666666666666,\"#ed7953\"],[0.7777777777777778,\"#fb9f3a\"],[0.8888888888888888,\"#fdca26\"],[1.0,\"#f0f921\"]],\"type\":\"surface\"}],\"table\":[{\"cells\":{\"fill\":{\"color\":\"#EBF0F8\"},\"line\":{\"color\":\"white\"}},\"header\":{\"fill\":{\"color\":\"#C8D4E3\"},\"line\":{\"color\":\"white\"}},\"type\":\"table\"}]},\"layout\":{\"annotationdefaults\":{\"arrowcolor\":\"#2a3f5f\",\"arrowhead\":0,\"arrowwidth\":1},\"autotypenumbers\":\"strict\",\"coloraxis\":{\"colorbar\":{\"outlinewidth\":0,\"ticks\":\"\"}},\"colorscale\":{\"diverging\":[[0,\"#8e0152\"],[0.1,\"#c51b7d\"],[0.2,\"#de77ae\"],[0.3,\"#f1b6da\"],[0.4,\"#fde0ef\"],[0.5,\"#f7f7f7\"],[0.6,\"#e6f5d0\"],[0.7,\"#b8e186\"],[0.8,\"#7fbc41\"],[0.9,\"#4d9221\"],[1,\"#276419\"]],\"sequential\":[[0.0,\"#0d0887\"],[0.1111111111111111,\"#46039f\"],[0.2222222222222222,\"#7201a8\"],[0.3333333333333333,\"#9c179e\"],[0.4444444444444444,\"#bd3786\"],[0.5555555555555556,\"#d8576b\"],[0.6666666666666666,\"#ed7953\"],[0.7777777777777778,\"#fb9f3a\"],[0.8888888888888888,\"#fdca26\"],[1.0,\"#f0f921\"]],\"sequentialminus\":[[0.0,\"#0d0887\"],[0.1111111111111111,\"#46039f\"],[0.2222222222222222,\"#7201a8\"],[0.3333333333333333,\"#9c179e\"],[0.4444444444444444,\"#bd3786\"],[0.5555555555555556,\"#d8576b\"],[0.6666666666666666,\"#ed7953\"],[0.7777777777777778,\"#fb9f3a\"],[0.8888888888888888,\"#fdca26\"],[1.0,\"#f0f921\"]]},\"colorway\":[\"#636efa\",\"#EF553B\",\"#00cc96\",\"#ab63fa\",\"#FFA15A\",\"#19d3f3\",\"#FF6692\",\"#B6E880\",\"#FF97FF\",\"#FECB52\"],\"font\":{\"color\":\"#2a3f5f\"},\"geo\":{\"bgcolor\":\"white\",\"lakecolor\":\"white\",\"landcolor\":\"#E5ECF6\",\"showlakes\":true,\"showland\":true,\"subunitcolor\":\"white\"},\"hoverlabel\":{\"align\":\"left\"},\"hovermode\":\"closest\",\"mapbox\":{\"style\":\"light\"},\"paper_bgcolor\":\"white\",\"plot_bgcolor\":\"#E5ECF6\",\"polar\":{\"angularaxis\":{\"gridcolor\":\"white\",\"linecolor\":\"white\",\"ticks\":\"\"},\"bgcolor\":\"#E5ECF6\",\"radialaxis\":{\"gridcolor\":\"white\",\"linecolor\":\"white\",\"ticks\":\"\"}},\"scene\":{\"xaxis\":{\"backgroundcolor\":\"#E5ECF6\",\"gridcolor\":\"white\",\"gridwidth\":2,\"linecolor\":\"white\",\"showbackground\":true,\"ticks\":\"\",\"zerolinecolor\":\"white\"},\"yaxis\":{\"backgroundcolor\":\"#E5ECF6\",\"gridcolor\":\"white\",\"gridwidth\":2,\"linecolor\":\"white\",\"showbackground\":true,\"ticks\":\"\",\"zerolinecolor\":\"white\"},\"zaxis\":{\"backgroundcolor\":\"#E5ECF6\",\"gridcolor\":\"white\",\"gridwidth\":2,\"linecolor\":\"white\",\"showbackground\":true,\"ticks\":\"\",\"zerolinecolor\":\"white\"}},\"shapedefaults\":{\"line\":{\"color\":\"#2a3f5f\"}},\"ternary\":{\"aaxis\":{\"gridcolor\":\"white\",\"linecolor\":\"white\",\"ticks\":\"\"},\"baxis\":{\"gridcolor\":\"white\",\"linecolor\":\"white\",\"ticks\":\"\"},\"bgcolor\":\"#E5ECF6\",\"caxis\":{\"gridcolor\":\"white\",\"linecolor\":\"white\",\"ticks\":\"\"}},\"title\":{\"x\":0.05},\"xaxis\":{\"automargin\":true,\"gridcolor\":\"white\",\"linecolor\":\"white\",\"ticks\":\"\",\"title\":{\"standoff\":15},\"zerolinecolor\":\"white\",\"zerolinewidth\":2},\"yaxis\":{\"automargin\":true,\"gridcolor\":\"white\",\"linecolor\":\"white\",\"ticks\":\"\",\"title\":{\"standoff\":15},\"zerolinecolor\":\"white\",\"zerolinewidth\":2}}},\"title\":{\"font\":{\"color\":\"#4D5663\"}},\"xaxis\":{\"gridcolor\":\"#E1E5ED\",\"showgrid\":true,\"tickfont\":{\"color\":\"#4D5663\"},\"title\":{\"font\":{\"color\":\"#4D5663\"},\"text\":\"\"},\"zerolinecolor\":\"#E1E5ED\"},\"yaxis\":{\"gridcolor\":\"#E1E5ED\",\"showgrid\":true,\"tickfont\":{\"color\":\"#4D5663\"},\"title\":{\"font\":{\"color\":\"#4D5663\"},\"text\":\"\"},\"zerolinecolor\":\"#E1E5ED\"}},                        {\"showLink\": true, \"linkText\": \"Export to plot.ly\", \"plotlyServerURL\": \"https://plot.ly\", \"responsive\": true}                    ).then(function(){\n",
       "                            \n",
       "var gd = document.getElementById('c9196eb9-226b-4fe7-91da-aad07b8cb04b');\n",
       "var x = new MutationObserver(function (mutations, observer) {{\n",
       "        var display = window.getComputedStyle(gd).display;\n",
       "        if (!display || display === 'none') {{\n",
       "            console.log([gd, 'removed!']);\n",
       "            Plotly.purge(gd);\n",
       "            observer.disconnect();\n",
       "        }}\n",
       "}});\n",
       "\n",
       "// Listen for the removal of the full notebook cells\n",
       "var notebookContainer = gd.closest('#notebook-container');\n",
       "if (notebookContainer) {{\n",
       "    x.observe(notebookContainer, {childList: true});\n",
       "}}\n",
       "\n",
       "// Listen for the clearing of the current output cell\n",
       "var outputEl = gd.closest('.output');\n",
       "if (outputEl) {{\n",
       "    x.observe(outputEl, {childList: true});\n",
       "}}\n",
       "\n",
       "                        })                };                });            </script>        </div>"
      ]
     },
     "metadata": {},
     "output_type": "display_data"
    }
   ],
   "source": [
    "df['A'].iplot(kind='hist', bins=25)"
   ]
  },
  {
   "cell_type": "code",
   "execution_count": 27,
   "id": "6114b91a",
   "metadata": {
    "ExecuteTime": {
     "end_time": "2023-03-25T09:01:05.256790Z",
     "start_time": "2023-03-25T09:01:05.197085Z"
    }
   },
   "outputs": [
    {
     "data": {
      "application/vnd.plotly.v1+json": {
       "config": {
        "linkText": "Export to plot.ly",
        "plotlyServerURL": "https://plot.ly",
        "showLink": true
       },
       "data": [
        {
         "histfunc": "count",
         "histnorm": "",
         "marker": {
          "color": "rgba(255, 153, 51, 1.0)",
          "line": {
           "color": "#4D5663",
           "width": 1.3
          }
         },
         "name": "A",
         "opacity": 0.8,
         "orientation": "v",
         "type": "histogram",
         "x": [
          -0.6185864777596235,
          -0.09549749996174815,
          0.7735155947714842,
          -1.9544208522009834,
          0.9321062993468145,
          0.36391957912219924,
          1.0222517106252103,
          0.21428349229504423,
          0.30155723927183736,
          -1.7737081556426644,
          -0.8813197097782401,
          -1.1833788622984094,
          1.0921030137803465,
          0.47150727733146436,
          -1.6539348028518632,
          -0.28566133680357586,
          1.6103067819704,
          -1.8417392372265438,
          0.039193584163302084,
          -0.6695950365093897,
          -0.7291227819448418,
          0.17384486693441867,
          1.5625067918950442,
          -2.118320960980159,
          -0.6478092575126989,
          -1.3354358976613383,
          -0.11900269907027594,
          1.8690436615397525,
          0.3602185862801853,
          0.954444106941083,
          -1.3426442266410488,
          -0.5861974838373313,
          -1.2776509648542993,
          -0.17202929225908314,
          -0.5899977906595941,
          1.3660735045819095,
          -1.096820738909289,
          0.09159655138384042,
          0.8669297839834728,
          0.11618036291092862,
          -0.1306793735655419,
          -1.409084507446096,
          -1.1458344122244621,
          -0.20695860339653058,
          -1.037860881063523,
          0.01958383190177941,
          1.877231153321232,
          -0.4861599541240264,
          0.2256221614426137,
          1.0191400317688684,
          -1.7994981450956142,
          -0.449892724101533,
          -1.7060329759096715,
          -0.7097216977459914,
          -0.8825995557308481,
          0.33962848154734276,
          0.20113285388190974,
          0.46035911247198713,
          0.7091683111522437,
          -1.2284387339475709,
          0.11445375532849965,
          -0.11410251539813779,
          -0.433581463941365,
          -0.1506692378419643,
          0.33482007756007925,
          -1.5145111918515755,
          0.570038479119206,
          -1.2112103535764067,
          -0.4029111539814335,
          -0.19348347413316772,
          -0.18662039060185484,
          -0.4020159349141075,
          -1.104221400696765,
          -0.7881037638705021,
          0.9624880966553944,
          0.8370910133274343,
          0.08064775753280434,
          0.4529394450193887,
          0.8144227765728742,
          -0.4139266273079406,
          -0.16045457024510903,
          0.11560583805022592,
          0.5018750969144258,
          -1.05549272187284,
          0.6646897400226129,
          0.7252518633264401,
          -0.8634744428274881,
          0.14526679817629318,
          0.5642348261932901,
          -0.5739339256594503,
          0.15846871036688384,
          0.5303216539889294,
          -0.4638919188417855,
          -2.653303499100419,
          0.30810942245492506,
          1.337533737637027,
          1.0885583937029353,
          -1.6447907309114553,
          0.6693410844821837,
          -0.023858538897312875
         ]
        },
        {
         "histfunc": "count",
         "histnorm": "",
         "marker": {
          "color": "rgba(55, 128, 191, 1.0)",
          "line": {
           "color": "#4D5663",
           "width": 1.3
          }
         },
         "name": "B",
         "opacity": 0.8,
         "orientation": "v",
         "type": "histogram",
         "x": [
          -0.4592523817006714,
          1.614960731672855,
          -1.4206426925982674,
          1.1551454541846038,
          -0.34613058552962517,
          1.6624230716641488,
          -0.11554649598016219,
          -0.01851161969972325,
          0.09984663041486533,
          -2.043102167532454,
          -1.478451948264321,
          -0.2788843499486517,
          -0.1497492795430963,
          1.9533168820677445,
          -0.10989230038135865,
          0.31344790900193625,
          0.08678752237308349,
          -0.3990447395439932,
          -1.4424816562369789,
          -0.028981252459112657,
          -0.4160821900068768,
          -0.9024826500293118,
          -0.5208567006043135,
          0.37071150697915956,
          0.29340762940465925,
          -0.15303788800844492,
          -1.7013013838151183,
          -2.1032089257065056,
          0.01803007769576685,
          0.774085466469011,
          -0.0130218043338703,
          0.7479391896322369,
          0.7318773540406959,
          -1.800944110150754,
          1.4099248117758916,
          -1.5325103771876123,
          0.5782922057046384,
          0.3053398932705239,
          -0.06430529590814345,
          1.0236623980295185,
          0.6914789499794927,
          0.7371810656811424,
          2.606242974469369,
          -1.5007673763044456,
          -1.0420156920821377,
          0.046743919591023995,
          1.3154764187085386,
          -0.18591517662231646,
          0.7578452017067829,
          -1.1201103682918108,
          -1.4809656473238406,
          -1.932290152656959,
          0.5687456244608741,
          -2.183122855649209,
          -0.18703771863844015,
          0.38248194212075454,
          -1.4501529065420269,
          1.0649615189495414,
          -0.44540408458769665,
          -0.5991301447361154,
          0.608703902269564,
          0.4058260851185324,
          0.457400126610244,
          0.5464347317371752,
          -0.2577028738771836,
          -0.6222900815300759,
          0.04461153224918688,
          -2.447018762098259,
          -0.23888100490859634,
          0.08761509395317087,
          1.623124602304495,
          1.1845787037770144,
          0.5492856988758372,
          1.130595322987083,
          -1.8840243529998721,
          0.18955829582691278,
          1.6839930239683714,
          0.5334500493016082,
          1.8492431165364005,
          0.4549707177333402,
          0.6697077146222054,
          0.4085483537015883,
          -0.5082199635442869,
          0.3448252142610793,
          -0.9833076650745944,
          0.2228561564482779,
          1.314600834470803,
          0.5969614245184819,
          0.5615669274826204,
          -0.03580808061129372,
          0.2825263823615819,
          -2.104980414657762,
          -1.8480485079071858,
          -1.2798589824928985,
          -0.4685176982797968,
          1.3615871560013324,
          0.7947295589257131,
          -1.018205327768071,
          0.6838015779839137,
          -0.445118498396265
         ]
        },
        {
         "histfunc": "count",
         "histnorm": "",
         "marker": {
          "color": "rgba(50, 171, 96, 1.0)",
          "line": {
           "color": "#4D5663",
           "width": 1.3
          }
         },
         "name": "C",
         "opacity": 0.8,
         "orientation": "v",
         "type": "histogram",
         "x": [
          -0.8421603506766187,
          -0.9706041899799989,
          0.6832531168715341,
          1.6468678884740529,
          -0.16568135375708265,
          0.6293779960362839,
          1.2922687753064812,
          -0.09669053752515908,
          0.758570054065179,
          -0.8839507721828632,
          1.2280342442807675,
          -0.4628807989882697,
          -0.7161165844696878,
          1.4464843188409209,
          1.4629995097962403,
          -0.6286919968925113,
          0.5498266948912985,
          0.46202528676540383,
          -1.5968510028160237,
          1.6849093652971419,
          1.3184842391473701,
          1.7523413485734658,
          1.1145417017973525,
          0.8238061796830247,
          -0.11673079421807615,
          -0.9431413499758955,
          -0.6661012696103875,
          1.59665769705926,
          -1.4418095782645222,
          -0.028825792028261146,
          0.8846910659012178,
          1.3445888166417854,
          0.831313865520293,
          0.8984402570930786,
          0.9547597163223918,
          0.7243675719745242,
          -0.8504776604197904,
          0.7231445379854539,
          0.2122902086328843,
          -0.6319829696360213,
          0.8116987479536433,
          0.5663356880650702,
          -1.4081827739065174,
          1.3257080152455498,
          -0.35341041248399896,
          0.5986991170484928,
          -1.601105994725186,
          0.4510025063777082,
          -1.843962988505521,
          -0.6175567323014791,
          -0.46874922145868564,
          0.8017055728270843,
          0.9295789737059647,
          0.5769158548612651,
          0.8241325254974661,
          -1.3989811469531985,
          -0.1737328629106375,
          -1.1120987796057764,
          0.08397943697541344,
          0.41450385508002524,
          0.37813446451759153,
          0.5637465086282746,
          0.23448459891588502,
          -0.646152213425436,
          0.6888265843952968,
          1.1773248338495332,
          -2.366822749360234,
          2.5593268473776716,
          -0.8337284202472874,
          -0.6349992892264821,
          -1.1108274470015802,
          -0.5504924823973055,
          -0.5166790104444628,
          -0.35967398108001764,
          0.03304142061605584,
          -0.9953569079540042,
          -0.34225235175776236,
          0.05415196437471269,
          1.4312114089526344,
          -0.06819439128707315,
          0.9337859534275348,
          -0.9979806075142508,
          2.5153526996216797,
          -0.9202468939840021,
          -0.5645653682586875,
          -0.41454134423968747,
          -0.37516634580729047,
          -1.0212328426549688,
          -1.462300513745385,
          -1.767508363123518,
          -0.40178821637522183,
          -0.17122260507528686,
          0.4352737343905665,
          -0.01868513096343089,
          1.0548725514811137,
          -0.3919034473977661,
          0.08727005314804788,
          1.5252750004784736,
          1.2406486221739632,
          -1.5894052324070254
         ]
        },
        {
         "histfunc": "count",
         "histnorm": "",
         "marker": {
          "color": "rgba(128, 0, 128, 1.0)",
          "line": {
           "color": "#4D5663",
           "width": 1.3
          }
         },
         "name": "D",
         "opacity": 0.8,
         "orientation": "v",
         "type": "histogram",
         "x": [
          0.5126109428890469,
          1.4892272058537255,
          -0.06466481511960792,
          0.807094467503425,
          0.09912812177445302,
          0.0037604224907197346,
          1.7881832836634417,
          1.4373731417175712,
          -0.49032218019714713,
          0.7844086874638536,
          -0.9135354119307758,
          0.5083954666397061,
          -3.1349339074281404,
          -2.21207508186638,
          0.4447330266031348,
          0.18787135141075115,
          0.14751055603017138,
          -1.0925191742194862,
          -1.420182643360601,
          -2.6950447421847166,
          -1.1120408459566193,
          -1.5119946162620084,
          0.21487814882806078,
          -0.5778547810602227,
          -0.6157290651613634,
          -0.5141466764562026,
          -1.5873889037285451,
          -0.3247674515862568,
          1.8465745931558841,
          0.3717136751793924,
          -0.0944745193772145,
          -0.7256893345692426,
          0.6329911919873296,
          0.8432331721074044,
          0.21506185326754326,
          -0.3946349840372016,
          1.0164983176266524,
          0.2707980457033641,
          0.43401711765144985,
          -0.7514870419734236,
          1.5967967931952454,
          -0.5192006010979153,
          -0.16636177789934467,
          1.063769112378764,
          0.04824552637562311,
          -0.30927218647456906,
          -0.8455324146613583,
          -1.292727257811507,
          0.8011477929185559,
          -0.35765870279142736,
          -0.1801085848973175,
          -0.5179106531571229,
          0.20678839468290003,
          0.21217097423294343,
          -0.5197920666799181,
          1.5452085633784096,
          0.8164027682792973,
          1.7211677024187413,
          -0.056769339959388786,
          -1.441754323154373,
          -2.1037029742663806,
          0.784787163635707,
          -0.9254897742956887,
          -0.30742465476637876,
          -0.795795144089506,
          -0.20367749333363674,
          -0.44097727181532287,
          1.1106618413964617,
          -1.4799913193064362,
          0.820803062794328,
          -0.885579677922769,
          0.7746145957497992,
          -0.584185617026759,
          0.44814214424737153,
          0.7327582698609134,
          -0.42593933722798827,
          0.5025705667376403,
          -1.94052132088566,
          1.151791010936278,
          0.18333509384631916,
          -0.8832256403000278,
          1.4734051005315147,
          2.1904546051168485,
          0.9807512609165957,
          -1.121059250174489,
          0.22222861053794152,
          -0.5101600824000081,
          0.0960439749329373,
          -0.9434158601417526,
          0.2280746660646097,
          -0.6199711206314074,
          -0.19296185060244755,
          -0.7950160586572694,
          -0.650755287984872,
          0.10002357639733761,
          -0.399410590339489,
          0.4257795860026511,
          -0.9861302587332238,
          1.2273480606955298,
          -0.45426223575550595
         ]
        }
       ],
       "layout": {
        "barmode": "overlay",
        "legend": {
         "bgcolor": "#F5F6F9",
         "font": {
          "color": "#4D5663"
         }
        },
        "paper_bgcolor": "#F5F6F9",
        "plot_bgcolor": "#F5F6F9",
        "template": {
         "data": {
          "bar": [
           {
            "error_x": {
             "color": "#2a3f5f"
            },
            "error_y": {
             "color": "#2a3f5f"
            },
            "marker": {
             "line": {
              "color": "#E5ECF6",
              "width": 0.5
             },
             "pattern": {
              "fillmode": "overlay",
              "size": 10,
              "solidity": 0.2
             }
            },
            "type": "bar"
           }
          ],
          "barpolar": [
           {
            "marker": {
             "line": {
              "color": "#E5ECF6",
              "width": 0.5
             },
             "pattern": {
              "fillmode": "overlay",
              "size": 10,
              "solidity": 0.2
             }
            },
            "type": "barpolar"
           }
          ],
          "carpet": [
           {
            "aaxis": {
             "endlinecolor": "#2a3f5f",
             "gridcolor": "white",
             "linecolor": "white",
             "minorgridcolor": "white",
             "startlinecolor": "#2a3f5f"
            },
            "baxis": {
             "endlinecolor": "#2a3f5f",
             "gridcolor": "white",
             "linecolor": "white",
             "minorgridcolor": "white",
             "startlinecolor": "#2a3f5f"
            },
            "type": "carpet"
           }
          ],
          "choropleth": [
           {
            "colorbar": {
             "outlinewidth": 0,
             "ticks": ""
            },
            "type": "choropleth"
           }
          ],
          "contour": [
           {
            "colorbar": {
             "outlinewidth": 0,
             "ticks": ""
            },
            "colorscale": [
             [
              0,
              "#0d0887"
             ],
             [
              0.1111111111111111,
              "#46039f"
             ],
             [
              0.2222222222222222,
              "#7201a8"
             ],
             [
              0.3333333333333333,
              "#9c179e"
             ],
             [
              0.4444444444444444,
              "#bd3786"
             ],
             [
              0.5555555555555556,
              "#d8576b"
             ],
             [
              0.6666666666666666,
              "#ed7953"
             ],
             [
              0.7777777777777778,
              "#fb9f3a"
             ],
             [
              0.8888888888888888,
              "#fdca26"
             ],
             [
              1,
              "#f0f921"
             ]
            ],
            "type": "contour"
           }
          ],
          "contourcarpet": [
           {
            "colorbar": {
             "outlinewidth": 0,
             "ticks": ""
            },
            "type": "contourcarpet"
           }
          ],
          "heatmap": [
           {
            "colorbar": {
             "outlinewidth": 0,
             "ticks": ""
            },
            "colorscale": [
             [
              0,
              "#0d0887"
             ],
             [
              0.1111111111111111,
              "#46039f"
             ],
             [
              0.2222222222222222,
              "#7201a8"
             ],
             [
              0.3333333333333333,
              "#9c179e"
             ],
             [
              0.4444444444444444,
              "#bd3786"
             ],
             [
              0.5555555555555556,
              "#d8576b"
             ],
             [
              0.6666666666666666,
              "#ed7953"
             ],
             [
              0.7777777777777778,
              "#fb9f3a"
             ],
             [
              0.8888888888888888,
              "#fdca26"
             ],
             [
              1,
              "#f0f921"
             ]
            ],
            "type": "heatmap"
           }
          ],
          "heatmapgl": [
           {
            "colorbar": {
             "outlinewidth": 0,
             "ticks": ""
            },
            "colorscale": [
             [
              0,
              "#0d0887"
             ],
             [
              0.1111111111111111,
              "#46039f"
             ],
             [
              0.2222222222222222,
              "#7201a8"
             ],
             [
              0.3333333333333333,
              "#9c179e"
             ],
             [
              0.4444444444444444,
              "#bd3786"
             ],
             [
              0.5555555555555556,
              "#d8576b"
             ],
             [
              0.6666666666666666,
              "#ed7953"
             ],
             [
              0.7777777777777778,
              "#fb9f3a"
             ],
             [
              0.8888888888888888,
              "#fdca26"
             ],
             [
              1,
              "#f0f921"
             ]
            ],
            "type": "heatmapgl"
           }
          ],
          "histogram": [
           {
            "marker": {
             "pattern": {
              "fillmode": "overlay",
              "size": 10,
              "solidity": 0.2
             }
            },
            "type": "histogram"
           }
          ],
          "histogram2d": [
           {
            "colorbar": {
             "outlinewidth": 0,
             "ticks": ""
            },
            "colorscale": [
             [
              0,
              "#0d0887"
             ],
             [
              0.1111111111111111,
              "#46039f"
             ],
             [
              0.2222222222222222,
              "#7201a8"
             ],
             [
              0.3333333333333333,
              "#9c179e"
             ],
             [
              0.4444444444444444,
              "#bd3786"
             ],
             [
              0.5555555555555556,
              "#d8576b"
             ],
             [
              0.6666666666666666,
              "#ed7953"
             ],
             [
              0.7777777777777778,
              "#fb9f3a"
             ],
             [
              0.8888888888888888,
              "#fdca26"
             ],
             [
              1,
              "#f0f921"
             ]
            ],
            "type": "histogram2d"
           }
          ],
          "histogram2dcontour": [
           {
            "colorbar": {
             "outlinewidth": 0,
             "ticks": ""
            },
            "colorscale": [
             [
              0,
              "#0d0887"
             ],
             [
              0.1111111111111111,
              "#46039f"
             ],
             [
              0.2222222222222222,
              "#7201a8"
             ],
             [
              0.3333333333333333,
              "#9c179e"
             ],
             [
              0.4444444444444444,
              "#bd3786"
             ],
             [
              0.5555555555555556,
              "#d8576b"
             ],
             [
              0.6666666666666666,
              "#ed7953"
             ],
             [
              0.7777777777777778,
              "#fb9f3a"
             ],
             [
              0.8888888888888888,
              "#fdca26"
             ],
             [
              1,
              "#f0f921"
             ]
            ],
            "type": "histogram2dcontour"
           }
          ],
          "mesh3d": [
           {
            "colorbar": {
             "outlinewidth": 0,
             "ticks": ""
            },
            "type": "mesh3d"
           }
          ],
          "parcoords": [
           {
            "line": {
             "colorbar": {
              "outlinewidth": 0,
              "ticks": ""
             }
            },
            "type": "parcoords"
           }
          ],
          "pie": [
           {
            "automargin": true,
            "type": "pie"
           }
          ],
          "scatter": [
           {
            "fillpattern": {
             "fillmode": "overlay",
             "size": 10,
             "solidity": 0.2
            },
            "type": "scatter"
           }
          ],
          "scatter3d": [
           {
            "line": {
             "colorbar": {
              "outlinewidth": 0,
              "ticks": ""
             }
            },
            "marker": {
             "colorbar": {
              "outlinewidth": 0,
              "ticks": ""
             }
            },
            "type": "scatter3d"
           }
          ],
          "scattercarpet": [
           {
            "marker": {
             "colorbar": {
              "outlinewidth": 0,
              "ticks": ""
             }
            },
            "type": "scattercarpet"
           }
          ],
          "scattergeo": [
           {
            "marker": {
             "colorbar": {
              "outlinewidth": 0,
              "ticks": ""
             }
            },
            "type": "scattergeo"
           }
          ],
          "scattergl": [
           {
            "marker": {
             "colorbar": {
              "outlinewidth": 0,
              "ticks": ""
             }
            },
            "type": "scattergl"
           }
          ],
          "scattermapbox": [
           {
            "marker": {
             "colorbar": {
              "outlinewidth": 0,
              "ticks": ""
             }
            },
            "type": "scattermapbox"
           }
          ],
          "scatterpolar": [
           {
            "marker": {
             "colorbar": {
              "outlinewidth": 0,
              "ticks": ""
             }
            },
            "type": "scatterpolar"
           }
          ],
          "scatterpolargl": [
           {
            "marker": {
             "colorbar": {
              "outlinewidth": 0,
              "ticks": ""
             }
            },
            "type": "scatterpolargl"
           }
          ],
          "scatterternary": [
           {
            "marker": {
             "colorbar": {
              "outlinewidth": 0,
              "ticks": ""
             }
            },
            "type": "scatterternary"
           }
          ],
          "surface": [
           {
            "colorbar": {
             "outlinewidth": 0,
             "ticks": ""
            },
            "colorscale": [
             [
              0,
              "#0d0887"
             ],
             [
              0.1111111111111111,
              "#46039f"
             ],
             [
              0.2222222222222222,
              "#7201a8"
             ],
             [
              0.3333333333333333,
              "#9c179e"
             ],
             [
              0.4444444444444444,
              "#bd3786"
             ],
             [
              0.5555555555555556,
              "#d8576b"
             ],
             [
              0.6666666666666666,
              "#ed7953"
             ],
             [
              0.7777777777777778,
              "#fb9f3a"
             ],
             [
              0.8888888888888888,
              "#fdca26"
             ],
             [
              1,
              "#f0f921"
             ]
            ],
            "type": "surface"
           }
          ],
          "table": [
           {
            "cells": {
             "fill": {
              "color": "#EBF0F8"
             },
             "line": {
              "color": "white"
             }
            },
            "header": {
             "fill": {
              "color": "#C8D4E3"
             },
             "line": {
              "color": "white"
             }
            },
            "type": "table"
           }
          ]
         },
         "layout": {
          "annotationdefaults": {
           "arrowcolor": "#2a3f5f",
           "arrowhead": 0,
           "arrowwidth": 1
          },
          "autotypenumbers": "strict",
          "coloraxis": {
           "colorbar": {
            "outlinewidth": 0,
            "ticks": ""
           }
          },
          "colorscale": {
           "diverging": [
            [
             0,
             "#8e0152"
            ],
            [
             0.1,
             "#c51b7d"
            ],
            [
             0.2,
             "#de77ae"
            ],
            [
             0.3,
             "#f1b6da"
            ],
            [
             0.4,
             "#fde0ef"
            ],
            [
             0.5,
             "#f7f7f7"
            ],
            [
             0.6,
             "#e6f5d0"
            ],
            [
             0.7,
             "#b8e186"
            ],
            [
             0.8,
             "#7fbc41"
            ],
            [
             0.9,
             "#4d9221"
            ],
            [
             1,
             "#276419"
            ]
           ],
           "sequential": [
            [
             0,
             "#0d0887"
            ],
            [
             0.1111111111111111,
             "#46039f"
            ],
            [
             0.2222222222222222,
             "#7201a8"
            ],
            [
             0.3333333333333333,
             "#9c179e"
            ],
            [
             0.4444444444444444,
             "#bd3786"
            ],
            [
             0.5555555555555556,
             "#d8576b"
            ],
            [
             0.6666666666666666,
             "#ed7953"
            ],
            [
             0.7777777777777778,
             "#fb9f3a"
            ],
            [
             0.8888888888888888,
             "#fdca26"
            ],
            [
             1,
             "#f0f921"
            ]
           ],
           "sequentialminus": [
            [
             0,
             "#0d0887"
            ],
            [
             0.1111111111111111,
             "#46039f"
            ],
            [
             0.2222222222222222,
             "#7201a8"
            ],
            [
             0.3333333333333333,
             "#9c179e"
            ],
            [
             0.4444444444444444,
             "#bd3786"
            ],
            [
             0.5555555555555556,
             "#d8576b"
            ],
            [
             0.6666666666666666,
             "#ed7953"
            ],
            [
             0.7777777777777778,
             "#fb9f3a"
            ],
            [
             0.8888888888888888,
             "#fdca26"
            ],
            [
             1,
             "#f0f921"
            ]
           ]
          },
          "colorway": [
           "#636efa",
           "#EF553B",
           "#00cc96",
           "#ab63fa",
           "#FFA15A",
           "#19d3f3",
           "#FF6692",
           "#B6E880",
           "#FF97FF",
           "#FECB52"
          ],
          "font": {
           "color": "#2a3f5f"
          },
          "geo": {
           "bgcolor": "white",
           "lakecolor": "white",
           "landcolor": "#E5ECF6",
           "showlakes": true,
           "showland": true,
           "subunitcolor": "white"
          },
          "hoverlabel": {
           "align": "left"
          },
          "hovermode": "closest",
          "mapbox": {
           "style": "light"
          },
          "paper_bgcolor": "white",
          "plot_bgcolor": "#E5ECF6",
          "polar": {
           "angularaxis": {
            "gridcolor": "white",
            "linecolor": "white",
            "ticks": ""
           },
           "bgcolor": "#E5ECF6",
           "radialaxis": {
            "gridcolor": "white",
            "linecolor": "white",
            "ticks": ""
           }
          },
          "scene": {
           "xaxis": {
            "backgroundcolor": "#E5ECF6",
            "gridcolor": "white",
            "gridwidth": 2,
            "linecolor": "white",
            "showbackground": true,
            "ticks": "",
            "zerolinecolor": "white"
           },
           "yaxis": {
            "backgroundcolor": "#E5ECF6",
            "gridcolor": "white",
            "gridwidth": 2,
            "linecolor": "white",
            "showbackground": true,
            "ticks": "",
            "zerolinecolor": "white"
           },
           "zaxis": {
            "backgroundcolor": "#E5ECF6",
            "gridcolor": "white",
            "gridwidth": 2,
            "linecolor": "white",
            "showbackground": true,
            "ticks": "",
            "zerolinecolor": "white"
           }
          },
          "shapedefaults": {
           "line": {
            "color": "#2a3f5f"
           }
          },
          "ternary": {
           "aaxis": {
            "gridcolor": "white",
            "linecolor": "white",
            "ticks": ""
           },
           "baxis": {
            "gridcolor": "white",
            "linecolor": "white",
            "ticks": ""
           },
           "bgcolor": "#E5ECF6",
           "caxis": {
            "gridcolor": "white",
            "linecolor": "white",
            "ticks": ""
           }
          },
          "title": {
           "x": 0.05
          },
          "xaxis": {
           "automargin": true,
           "gridcolor": "white",
           "linecolor": "white",
           "ticks": "",
           "title": {
            "standoff": 15
           },
           "zerolinecolor": "white",
           "zerolinewidth": 2
          },
          "yaxis": {
           "automargin": true,
           "gridcolor": "white",
           "linecolor": "white",
           "ticks": "",
           "title": {
            "standoff": 15
           },
           "zerolinecolor": "white",
           "zerolinewidth": 2
          }
         }
        },
        "title": {
         "font": {
          "color": "#4D5663"
         }
        },
        "xaxis": {
         "gridcolor": "#E1E5ED",
         "showgrid": true,
         "tickfont": {
          "color": "#4D5663"
         },
         "title": {
          "font": {
           "color": "#4D5663"
          },
          "text": ""
         },
         "zerolinecolor": "#E1E5ED"
        },
        "yaxis": {
         "gridcolor": "#E1E5ED",
         "showgrid": true,
         "tickfont": {
          "color": "#4D5663"
         },
         "title": {
          "font": {
           "color": "#4D5663"
          },
          "text": ""
         },
         "zerolinecolor": "#E1E5ED"
        }
       }
      },
      "text/html": [
       "<div>                            <div id=\"8b3ef961-cf86-46e6-97c1-2700cc34d9f2\" class=\"plotly-graph-div\" style=\"height:525px; width:100%;\"></div>            <script type=\"text/javascript\">                require([\"plotly\"], function(Plotly) {                    window.PLOTLYENV=window.PLOTLYENV || {};\n",
       "                    window.PLOTLYENV.BASE_URL='https://plot.ly';                                    if (document.getElementById(\"8b3ef961-cf86-46e6-97c1-2700cc34d9f2\")) {                    Plotly.newPlot(                        \"8b3ef961-cf86-46e6-97c1-2700cc34d9f2\",                        [{\"histfunc\":\"count\",\"histnorm\":\"\",\"marker\":{\"color\":\"rgba(255, 153, 51, 1.0)\",\"line\":{\"color\":\"#4D5663\",\"width\":1.3}},\"name\":\"A\",\"opacity\":0.8,\"orientation\":\"v\",\"x\":[-0.6185864777596235,-0.09549749996174815,0.7735155947714842,-1.9544208522009834,0.9321062993468145,0.36391957912219924,1.0222517106252103,0.21428349229504423,0.30155723927183736,-1.7737081556426644,-0.8813197097782401,-1.1833788622984094,1.0921030137803465,0.47150727733146436,-1.6539348028518632,-0.28566133680357586,1.6103067819704,-1.8417392372265438,0.039193584163302084,-0.6695950365093897,-0.7291227819448418,0.17384486693441867,1.5625067918950442,-2.118320960980159,-0.6478092575126989,-1.3354358976613383,-0.11900269907027594,1.8690436615397525,0.3602185862801853,0.954444106941083,-1.3426442266410488,-0.5861974838373313,-1.2776509648542993,-0.17202929225908314,-0.5899977906595941,1.3660735045819095,-1.096820738909289,0.09159655138384042,0.8669297839834728,0.11618036291092862,-0.1306793735655419,-1.409084507446096,-1.1458344122244621,-0.20695860339653058,-1.037860881063523,0.01958383190177941,1.877231153321232,-0.4861599541240264,0.2256221614426137,1.0191400317688684,-1.7994981450956142,-0.449892724101533,-1.7060329759096715,-0.7097216977459914,-0.8825995557308481,0.33962848154734276,0.20113285388190974,0.46035911247198713,0.7091683111522437,-1.2284387339475709,0.11445375532849965,-0.11410251539813779,-0.433581463941365,-0.1506692378419643,0.33482007756007925,-1.5145111918515755,0.570038479119206,-1.2112103535764067,-0.4029111539814335,-0.19348347413316772,-0.18662039060185484,-0.4020159349141075,-1.104221400696765,-0.7881037638705021,0.9624880966553944,0.8370910133274343,0.08064775753280434,0.4529394450193887,0.8144227765728742,-0.4139266273079406,-0.16045457024510903,0.11560583805022592,0.5018750969144258,-1.05549272187284,0.6646897400226129,0.7252518633264401,-0.8634744428274881,0.14526679817629318,0.5642348261932901,-0.5739339256594503,0.15846871036688384,0.5303216539889294,-0.4638919188417855,-2.653303499100419,0.30810942245492506,1.337533737637027,1.0885583937029353,-1.6447907309114553,0.6693410844821837,-0.023858538897312875],\"type\":\"histogram\"},{\"histfunc\":\"count\",\"histnorm\":\"\",\"marker\":{\"color\":\"rgba(55, 128, 191, 1.0)\",\"line\":{\"color\":\"#4D5663\",\"width\":1.3}},\"name\":\"B\",\"opacity\":0.8,\"orientation\":\"v\",\"x\":[-0.4592523817006714,1.614960731672855,-1.4206426925982674,1.1551454541846038,-0.34613058552962517,1.6624230716641488,-0.11554649598016219,-0.01851161969972325,0.09984663041486533,-2.043102167532454,-1.478451948264321,-0.2788843499486517,-0.1497492795430963,1.9533168820677445,-0.10989230038135865,0.31344790900193625,0.08678752237308349,-0.3990447395439932,-1.4424816562369789,-0.028981252459112657,-0.4160821900068768,-0.9024826500293118,-0.5208567006043135,0.37071150697915956,0.29340762940465925,-0.15303788800844492,-1.7013013838151183,-2.1032089257065056,0.01803007769576685,0.774085466469011,-0.0130218043338703,0.7479391896322369,0.7318773540406959,-1.800944110150754,1.4099248117758916,-1.5325103771876123,0.5782922057046384,0.3053398932705239,-0.06430529590814345,1.0236623980295185,0.6914789499794927,0.7371810656811424,2.606242974469369,-1.5007673763044456,-1.0420156920821377,0.046743919591023995,1.3154764187085386,-0.18591517662231646,0.7578452017067829,-1.1201103682918108,-1.4809656473238406,-1.932290152656959,0.5687456244608741,-2.183122855649209,-0.18703771863844015,0.38248194212075454,-1.4501529065420269,1.0649615189495414,-0.44540408458769665,-0.5991301447361154,0.608703902269564,0.4058260851185324,0.457400126610244,0.5464347317371752,-0.2577028738771836,-0.6222900815300759,0.04461153224918688,-2.447018762098259,-0.23888100490859634,0.08761509395317087,1.623124602304495,1.1845787037770144,0.5492856988758372,1.130595322987083,-1.8840243529998721,0.18955829582691278,1.6839930239683714,0.5334500493016082,1.8492431165364005,0.4549707177333402,0.6697077146222054,0.4085483537015883,-0.5082199635442869,0.3448252142610793,-0.9833076650745944,0.2228561564482779,1.314600834470803,0.5969614245184819,0.5615669274826204,-0.03580808061129372,0.2825263823615819,-2.104980414657762,-1.8480485079071858,-1.2798589824928985,-0.4685176982797968,1.3615871560013324,0.7947295589257131,-1.018205327768071,0.6838015779839137,-0.445118498396265],\"type\":\"histogram\"},{\"histfunc\":\"count\",\"histnorm\":\"\",\"marker\":{\"color\":\"rgba(50, 171, 96, 1.0)\",\"line\":{\"color\":\"#4D5663\",\"width\":1.3}},\"name\":\"C\",\"opacity\":0.8,\"orientation\":\"v\",\"x\":[-0.8421603506766187,-0.9706041899799989,0.6832531168715341,1.6468678884740529,-0.16568135375708265,0.6293779960362839,1.2922687753064812,-0.09669053752515908,0.758570054065179,-0.8839507721828632,1.2280342442807675,-0.4628807989882697,-0.7161165844696878,1.4464843188409209,1.4629995097962403,-0.6286919968925113,0.5498266948912985,0.46202528676540383,-1.5968510028160237,1.6849093652971419,1.3184842391473701,1.7523413485734658,1.1145417017973525,0.8238061796830247,-0.11673079421807615,-0.9431413499758955,-0.6661012696103875,1.59665769705926,-1.4418095782645222,-0.028825792028261146,0.8846910659012178,1.3445888166417854,0.831313865520293,0.8984402570930786,0.9547597163223918,0.7243675719745242,-0.8504776604197904,0.7231445379854539,0.2122902086328843,-0.6319829696360213,0.8116987479536433,0.5663356880650702,-1.4081827739065174,1.3257080152455498,-0.35341041248399896,0.5986991170484928,-1.601105994725186,0.4510025063777082,-1.843962988505521,-0.6175567323014791,-0.46874922145868564,0.8017055728270843,0.9295789737059647,0.5769158548612651,0.8241325254974661,-1.3989811469531985,-0.1737328629106375,-1.1120987796057764,0.08397943697541344,0.41450385508002524,0.37813446451759153,0.5637465086282746,0.23448459891588502,-0.646152213425436,0.6888265843952968,1.1773248338495332,-2.366822749360234,2.5593268473776716,-0.8337284202472874,-0.6349992892264821,-1.1108274470015802,-0.5504924823973055,-0.5166790104444628,-0.35967398108001764,0.03304142061605584,-0.9953569079540042,-0.34225235175776236,0.05415196437471269,1.4312114089526344,-0.06819439128707315,0.9337859534275348,-0.9979806075142508,2.5153526996216797,-0.9202468939840021,-0.5645653682586875,-0.41454134423968747,-0.37516634580729047,-1.0212328426549688,-1.462300513745385,-1.767508363123518,-0.40178821637522183,-0.17122260507528686,0.4352737343905665,-0.01868513096343089,1.0548725514811137,-0.3919034473977661,0.08727005314804788,1.5252750004784736,1.2406486221739632,-1.5894052324070254],\"type\":\"histogram\"},{\"histfunc\":\"count\",\"histnorm\":\"\",\"marker\":{\"color\":\"rgba(128, 0, 128, 1.0)\",\"line\":{\"color\":\"#4D5663\",\"width\":1.3}},\"name\":\"D\",\"opacity\":0.8,\"orientation\":\"v\",\"x\":[0.5126109428890469,1.4892272058537255,-0.06466481511960792,0.807094467503425,0.09912812177445302,0.0037604224907197346,1.7881832836634417,1.4373731417175712,-0.49032218019714713,0.7844086874638536,-0.9135354119307758,0.5083954666397061,-3.1349339074281404,-2.21207508186638,0.4447330266031348,0.18787135141075115,0.14751055603017138,-1.0925191742194862,-1.420182643360601,-2.6950447421847166,-1.1120408459566193,-1.5119946162620084,0.21487814882806078,-0.5778547810602227,-0.6157290651613634,-0.5141466764562026,-1.5873889037285451,-0.3247674515862568,1.8465745931558841,0.3717136751793924,-0.0944745193772145,-0.7256893345692426,0.6329911919873296,0.8432331721074044,0.21506185326754326,-0.3946349840372016,1.0164983176266524,0.2707980457033641,0.43401711765144985,-0.7514870419734236,1.5967967931952454,-0.5192006010979153,-0.16636177789934467,1.063769112378764,0.04824552637562311,-0.30927218647456906,-0.8455324146613583,-1.292727257811507,0.8011477929185559,-0.35765870279142736,-0.1801085848973175,-0.5179106531571229,0.20678839468290003,0.21217097423294343,-0.5197920666799181,1.5452085633784096,0.8164027682792973,1.7211677024187413,-0.056769339959388786,-1.441754323154373,-2.1037029742663806,0.784787163635707,-0.9254897742956887,-0.30742465476637876,-0.795795144089506,-0.20367749333363674,-0.44097727181532287,1.1106618413964617,-1.4799913193064362,0.820803062794328,-0.885579677922769,0.7746145957497992,-0.584185617026759,0.44814214424737153,0.7327582698609134,-0.42593933722798827,0.5025705667376403,-1.94052132088566,1.151791010936278,0.18333509384631916,-0.8832256403000278,1.4734051005315147,2.1904546051168485,0.9807512609165957,-1.121059250174489,0.22222861053794152,-0.5101600824000081,0.0960439749329373,-0.9434158601417526,0.2280746660646097,-0.6199711206314074,-0.19296185060244755,-0.7950160586572694,-0.650755287984872,0.10002357639733761,-0.399410590339489,0.4257795860026511,-0.9861302587332238,1.2273480606955298,-0.45426223575550595],\"type\":\"histogram\"}],                        {\"barmode\":\"overlay\",\"legend\":{\"bgcolor\":\"#F5F6F9\",\"font\":{\"color\":\"#4D5663\"}},\"paper_bgcolor\":\"#F5F6F9\",\"plot_bgcolor\":\"#F5F6F9\",\"template\":{\"data\":{\"barpolar\":[{\"marker\":{\"line\":{\"color\":\"#E5ECF6\",\"width\":0.5},\"pattern\":{\"fillmode\":\"overlay\",\"size\":10,\"solidity\":0.2}},\"type\":\"barpolar\"}],\"bar\":[{\"error_x\":{\"color\":\"#2a3f5f\"},\"error_y\":{\"color\":\"#2a3f5f\"},\"marker\":{\"line\":{\"color\":\"#E5ECF6\",\"width\":0.5},\"pattern\":{\"fillmode\":\"overlay\",\"size\":10,\"solidity\":0.2}},\"type\":\"bar\"}],\"carpet\":[{\"aaxis\":{\"endlinecolor\":\"#2a3f5f\",\"gridcolor\":\"white\",\"linecolor\":\"white\",\"minorgridcolor\":\"white\",\"startlinecolor\":\"#2a3f5f\"},\"baxis\":{\"endlinecolor\":\"#2a3f5f\",\"gridcolor\":\"white\",\"linecolor\":\"white\",\"minorgridcolor\":\"white\",\"startlinecolor\":\"#2a3f5f\"},\"type\":\"carpet\"}],\"choropleth\":[{\"colorbar\":{\"outlinewidth\":0,\"ticks\":\"\"},\"type\":\"choropleth\"}],\"contourcarpet\":[{\"colorbar\":{\"outlinewidth\":0,\"ticks\":\"\"},\"type\":\"contourcarpet\"}],\"contour\":[{\"colorbar\":{\"outlinewidth\":0,\"ticks\":\"\"},\"colorscale\":[[0.0,\"#0d0887\"],[0.1111111111111111,\"#46039f\"],[0.2222222222222222,\"#7201a8\"],[0.3333333333333333,\"#9c179e\"],[0.4444444444444444,\"#bd3786\"],[0.5555555555555556,\"#d8576b\"],[0.6666666666666666,\"#ed7953\"],[0.7777777777777778,\"#fb9f3a\"],[0.8888888888888888,\"#fdca26\"],[1.0,\"#f0f921\"]],\"type\":\"contour\"}],\"heatmapgl\":[{\"colorbar\":{\"outlinewidth\":0,\"ticks\":\"\"},\"colorscale\":[[0.0,\"#0d0887\"],[0.1111111111111111,\"#46039f\"],[0.2222222222222222,\"#7201a8\"],[0.3333333333333333,\"#9c179e\"],[0.4444444444444444,\"#bd3786\"],[0.5555555555555556,\"#d8576b\"],[0.6666666666666666,\"#ed7953\"],[0.7777777777777778,\"#fb9f3a\"],[0.8888888888888888,\"#fdca26\"],[1.0,\"#f0f921\"]],\"type\":\"heatmapgl\"}],\"heatmap\":[{\"colorbar\":{\"outlinewidth\":0,\"ticks\":\"\"},\"colorscale\":[[0.0,\"#0d0887\"],[0.1111111111111111,\"#46039f\"],[0.2222222222222222,\"#7201a8\"],[0.3333333333333333,\"#9c179e\"],[0.4444444444444444,\"#bd3786\"],[0.5555555555555556,\"#d8576b\"],[0.6666666666666666,\"#ed7953\"],[0.7777777777777778,\"#fb9f3a\"],[0.8888888888888888,\"#fdca26\"],[1.0,\"#f0f921\"]],\"type\":\"heatmap\"}],\"histogram2dcontour\":[{\"colorbar\":{\"outlinewidth\":0,\"ticks\":\"\"},\"colorscale\":[[0.0,\"#0d0887\"],[0.1111111111111111,\"#46039f\"],[0.2222222222222222,\"#7201a8\"],[0.3333333333333333,\"#9c179e\"],[0.4444444444444444,\"#bd3786\"],[0.5555555555555556,\"#d8576b\"],[0.6666666666666666,\"#ed7953\"],[0.7777777777777778,\"#fb9f3a\"],[0.8888888888888888,\"#fdca26\"],[1.0,\"#f0f921\"]],\"type\":\"histogram2dcontour\"}],\"histogram2d\":[{\"colorbar\":{\"outlinewidth\":0,\"ticks\":\"\"},\"colorscale\":[[0.0,\"#0d0887\"],[0.1111111111111111,\"#46039f\"],[0.2222222222222222,\"#7201a8\"],[0.3333333333333333,\"#9c179e\"],[0.4444444444444444,\"#bd3786\"],[0.5555555555555556,\"#d8576b\"],[0.6666666666666666,\"#ed7953\"],[0.7777777777777778,\"#fb9f3a\"],[0.8888888888888888,\"#fdca26\"],[1.0,\"#f0f921\"]],\"type\":\"histogram2d\"}],\"histogram\":[{\"marker\":{\"pattern\":{\"fillmode\":\"overlay\",\"size\":10,\"solidity\":0.2}},\"type\":\"histogram\"}],\"mesh3d\":[{\"colorbar\":{\"outlinewidth\":0,\"ticks\":\"\"},\"type\":\"mesh3d\"}],\"parcoords\":[{\"line\":{\"colorbar\":{\"outlinewidth\":0,\"ticks\":\"\"}},\"type\":\"parcoords\"}],\"pie\":[{\"automargin\":true,\"type\":\"pie\"}],\"scatter3d\":[{\"line\":{\"colorbar\":{\"outlinewidth\":0,\"ticks\":\"\"}},\"marker\":{\"colorbar\":{\"outlinewidth\":0,\"ticks\":\"\"}},\"type\":\"scatter3d\"}],\"scattercarpet\":[{\"marker\":{\"colorbar\":{\"outlinewidth\":0,\"ticks\":\"\"}},\"type\":\"scattercarpet\"}],\"scattergeo\":[{\"marker\":{\"colorbar\":{\"outlinewidth\":0,\"ticks\":\"\"}},\"type\":\"scattergeo\"}],\"scattergl\":[{\"marker\":{\"colorbar\":{\"outlinewidth\":0,\"ticks\":\"\"}},\"type\":\"scattergl\"}],\"scattermapbox\":[{\"marker\":{\"colorbar\":{\"outlinewidth\":0,\"ticks\":\"\"}},\"type\":\"scattermapbox\"}],\"scatterpolargl\":[{\"marker\":{\"colorbar\":{\"outlinewidth\":0,\"ticks\":\"\"}},\"type\":\"scatterpolargl\"}],\"scatterpolar\":[{\"marker\":{\"colorbar\":{\"outlinewidth\":0,\"ticks\":\"\"}},\"type\":\"scatterpolar\"}],\"scatter\":[{\"fillpattern\":{\"fillmode\":\"overlay\",\"size\":10,\"solidity\":0.2},\"type\":\"scatter\"}],\"scatterternary\":[{\"marker\":{\"colorbar\":{\"outlinewidth\":0,\"ticks\":\"\"}},\"type\":\"scatterternary\"}],\"surface\":[{\"colorbar\":{\"outlinewidth\":0,\"ticks\":\"\"},\"colorscale\":[[0.0,\"#0d0887\"],[0.1111111111111111,\"#46039f\"],[0.2222222222222222,\"#7201a8\"],[0.3333333333333333,\"#9c179e\"],[0.4444444444444444,\"#bd3786\"],[0.5555555555555556,\"#d8576b\"],[0.6666666666666666,\"#ed7953\"],[0.7777777777777778,\"#fb9f3a\"],[0.8888888888888888,\"#fdca26\"],[1.0,\"#f0f921\"]],\"type\":\"surface\"}],\"table\":[{\"cells\":{\"fill\":{\"color\":\"#EBF0F8\"},\"line\":{\"color\":\"white\"}},\"header\":{\"fill\":{\"color\":\"#C8D4E3\"},\"line\":{\"color\":\"white\"}},\"type\":\"table\"}]},\"layout\":{\"annotationdefaults\":{\"arrowcolor\":\"#2a3f5f\",\"arrowhead\":0,\"arrowwidth\":1},\"autotypenumbers\":\"strict\",\"coloraxis\":{\"colorbar\":{\"outlinewidth\":0,\"ticks\":\"\"}},\"colorscale\":{\"diverging\":[[0,\"#8e0152\"],[0.1,\"#c51b7d\"],[0.2,\"#de77ae\"],[0.3,\"#f1b6da\"],[0.4,\"#fde0ef\"],[0.5,\"#f7f7f7\"],[0.6,\"#e6f5d0\"],[0.7,\"#b8e186\"],[0.8,\"#7fbc41\"],[0.9,\"#4d9221\"],[1,\"#276419\"]],\"sequential\":[[0.0,\"#0d0887\"],[0.1111111111111111,\"#46039f\"],[0.2222222222222222,\"#7201a8\"],[0.3333333333333333,\"#9c179e\"],[0.4444444444444444,\"#bd3786\"],[0.5555555555555556,\"#d8576b\"],[0.6666666666666666,\"#ed7953\"],[0.7777777777777778,\"#fb9f3a\"],[0.8888888888888888,\"#fdca26\"],[1.0,\"#f0f921\"]],\"sequentialminus\":[[0.0,\"#0d0887\"],[0.1111111111111111,\"#46039f\"],[0.2222222222222222,\"#7201a8\"],[0.3333333333333333,\"#9c179e\"],[0.4444444444444444,\"#bd3786\"],[0.5555555555555556,\"#d8576b\"],[0.6666666666666666,\"#ed7953\"],[0.7777777777777778,\"#fb9f3a\"],[0.8888888888888888,\"#fdca26\"],[1.0,\"#f0f921\"]]},\"colorway\":[\"#636efa\",\"#EF553B\",\"#00cc96\",\"#ab63fa\",\"#FFA15A\",\"#19d3f3\",\"#FF6692\",\"#B6E880\",\"#FF97FF\",\"#FECB52\"],\"font\":{\"color\":\"#2a3f5f\"},\"geo\":{\"bgcolor\":\"white\",\"lakecolor\":\"white\",\"landcolor\":\"#E5ECF6\",\"showlakes\":true,\"showland\":true,\"subunitcolor\":\"white\"},\"hoverlabel\":{\"align\":\"left\"},\"hovermode\":\"closest\",\"mapbox\":{\"style\":\"light\"},\"paper_bgcolor\":\"white\",\"plot_bgcolor\":\"#E5ECF6\",\"polar\":{\"angularaxis\":{\"gridcolor\":\"white\",\"linecolor\":\"white\",\"ticks\":\"\"},\"bgcolor\":\"#E5ECF6\",\"radialaxis\":{\"gridcolor\":\"white\",\"linecolor\":\"white\",\"ticks\":\"\"}},\"scene\":{\"xaxis\":{\"backgroundcolor\":\"#E5ECF6\",\"gridcolor\":\"white\",\"gridwidth\":2,\"linecolor\":\"white\",\"showbackground\":true,\"ticks\":\"\",\"zerolinecolor\":\"white\"},\"yaxis\":{\"backgroundcolor\":\"#E5ECF6\",\"gridcolor\":\"white\",\"gridwidth\":2,\"linecolor\":\"white\",\"showbackground\":true,\"ticks\":\"\",\"zerolinecolor\":\"white\"},\"zaxis\":{\"backgroundcolor\":\"#E5ECF6\",\"gridcolor\":\"white\",\"gridwidth\":2,\"linecolor\":\"white\",\"showbackground\":true,\"ticks\":\"\",\"zerolinecolor\":\"white\"}},\"shapedefaults\":{\"line\":{\"color\":\"#2a3f5f\"}},\"ternary\":{\"aaxis\":{\"gridcolor\":\"white\",\"linecolor\":\"white\",\"ticks\":\"\"},\"baxis\":{\"gridcolor\":\"white\",\"linecolor\":\"white\",\"ticks\":\"\"},\"bgcolor\":\"#E5ECF6\",\"caxis\":{\"gridcolor\":\"white\",\"linecolor\":\"white\",\"ticks\":\"\"}},\"title\":{\"x\":0.05},\"xaxis\":{\"automargin\":true,\"gridcolor\":\"white\",\"linecolor\":\"white\",\"ticks\":\"\",\"title\":{\"standoff\":15},\"zerolinecolor\":\"white\",\"zerolinewidth\":2},\"yaxis\":{\"automargin\":true,\"gridcolor\":\"white\",\"linecolor\":\"white\",\"ticks\":\"\",\"title\":{\"standoff\":15},\"zerolinecolor\":\"white\",\"zerolinewidth\":2}}},\"title\":{\"font\":{\"color\":\"#4D5663\"}},\"xaxis\":{\"gridcolor\":\"#E1E5ED\",\"showgrid\":true,\"tickfont\":{\"color\":\"#4D5663\"},\"title\":{\"font\":{\"color\":\"#4D5663\"},\"text\":\"\"},\"zerolinecolor\":\"#E1E5ED\"},\"yaxis\":{\"gridcolor\":\"#E1E5ED\",\"showgrid\":true,\"tickfont\":{\"color\":\"#4D5663\"},\"title\":{\"font\":{\"color\":\"#4D5663\"},\"text\":\"\"},\"zerolinecolor\":\"#E1E5ED\"}},                        {\"showLink\": true, \"linkText\": \"Export to plot.ly\", \"plotlyServerURL\": \"https://plot.ly\", \"responsive\": true}                    ).then(function(){\n",
       "                            \n",
       "var gd = document.getElementById('8b3ef961-cf86-46e6-97c1-2700cc34d9f2');\n",
       "var x = new MutationObserver(function (mutations, observer) {{\n",
       "        var display = window.getComputedStyle(gd).display;\n",
       "        if (!display || display === 'none') {{\n",
       "            console.log([gd, 'removed!']);\n",
       "            Plotly.purge(gd);\n",
       "            observer.disconnect();\n",
       "        }}\n",
       "}});\n",
       "\n",
       "// Listen for the removal of the full notebook cells\n",
       "var notebookContainer = gd.closest('#notebook-container');\n",
       "if (notebookContainer) {{\n",
       "    x.observe(notebookContainer, {childList: true});\n",
       "}}\n",
       "\n",
       "// Listen for the clearing of the current output cell\n",
       "var outputEl = gd.closest('.output');\n",
       "if (outputEl) {{\n",
       "    x.observe(outputEl, {childList: true});\n",
       "}}\n",
       "\n",
       "                        })                };                });            </script>        </div>"
      ]
     },
     "metadata": {},
     "output_type": "display_data"
    }
   ],
   "source": [
    "df.iplot(kind='hist')"
   ]
  },
  {
   "cell_type": "code",
   "execution_count": 28,
   "id": "36736728",
   "metadata": {
    "ExecuteTime": {
     "end_time": "2023-03-25T09:01:05.990989Z",
     "start_time": "2023-03-25T09:01:05.965356Z"
    }
   },
   "outputs": [
    {
     "data": {
      "text/html": [
       "<div>\n",
       "<style scoped>\n",
       "    .dataframe tbody tr th:only-of-type {\n",
       "        vertical-align: middle;\n",
       "    }\n",
       "\n",
       "    .dataframe tbody tr th {\n",
       "        vertical-align: top;\n",
       "    }\n",
       "\n",
       "    .dataframe thead th {\n",
       "        text-align: right;\n",
       "    }\n",
       "</style>\n",
       "<table border=\"1\" class=\"dataframe\">\n",
       "  <thead>\n",
       "    <tr style=\"text-align: right;\">\n",
       "      <th></th>\n",
       "      <th>A</th>\n",
       "      <th>B</th>\n",
       "    </tr>\n",
       "  </thead>\n",
       "  <tbody>\n",
       "    <tr>\n",
       "      <th>0</th>\n",
       "      <td>-0.618586</td>\n",
       "      <td>-0.459252</td>\n",
       "    </tr>\n",
       "    <tr>\n",
       "      <th>1</th>\n",
       "      <td>-0.095497</td>\n",
       "      <td>1.614961</td>\n",
       "    </tr>\n",
       "    <tr>\n",
       "      <th>2</th>\n",
       "      <td>0.773516</td>\n",
       "      <td>-1.420643</td>\n",
       "    </tr>\n",
       "    <tr>\n",
       "      <th>3</th>\n",
       "      <td>-1.954421</td>\n",
       "      <td>1.155145</td>\n",
       "    </tr>\n",
       "    <tr>\n",
       "      <th>4</th>\n",
       "      <td>0.932106</td>\n",
       "      <td>-0.346131</td>\n",
       "    </tr>\n",
       "    <tr>\n",
       "      <th>...</th>\n",
       "      <td>...</td>\n",
       "      <td>...</td>\n",
       "    </tr>\n",
       "    <tr>\n",
       "      <th>95</th>\n",
       "      <td>1.337534</td>\n",
       "      <td>1.361587</td>\n",
       "    </tr>\n",
       "    <tr>\n",
       "      <th>96</th>\n",
       "      <td>1.088558</td>\n",
       "      <td>0.794730</td>\n",
       "    </tr>\n",
       "    <tr>\n",
       "      <th>97</th>\n",
       "      <td>-1.644791</td>\n",
       "      <td>-1.018205</td>\n",
       "    </tr>\n",
       "    <tr>\n",
       "      <th>98</th>\n",
       "      <td>0.669341</td>\n",
       "      <td>0.683802</td>\n",
       "    </tr>\n",
       "    <tr>\n",
       "      <th>99</th>\n",
       "      <td>-0.023859</td>\n",
       "      <td>-0.445118</td>\n",
       "    </tr>\n",
       "  </tbody>\n",
       "</table>\n",
       "<p>100 rows × 2 columns</p>\n",
       "</div>"
      ],
      "text/plain": [
       "           A         B\n",
       "0  -0.618586 -0.459252\n",
       "1  -0.095497  1.614961\n",
       "2   0.773516 -1.420643\n",
       "3  -1.954421  1.155145\n",
       "4   0.932106 -0.346131\n",
       "..       ...       ...\n",
       "95  1.337534  1.361587\n",
       "96  1.088558  0.794730\n",
       "97 -1.644791 -1.018205\n",
       "98  0.669341  0.683802\n",
       "99 -0.023859 -0.445118\n",
       "\n",
       "[100 rows x 2 columns]"
      ]
     },
     "execution_count": 28,
     "metadata": {},
     "output_type": "execute_result"
    }
   ],
   "source": [
    "df[['A','B']]"
   ]
  },
  {
   "cell_type": "code",
   "execution_count": 29,
   "id": "4e8166a0",
   "metadata": {
    "ExecuteTime": {
     "end_time": "2023-03-25T09:01:06.896047Z",
     "start_time": "2023-03-25T09:01:06.781175Z"
    }
   },
   "outputs": [
    {
     "name": "stderr",
     "output_type": "stream",
     "text": [
      "C:\\Users\\Leon\\anaconda3\\envs\\WorkData\\lib\\site-packages\\cufflinks\\plotlytools.py:849: FutureWarning:\n",
      "\n",
      "The pandas.np module is deprecated and will be removed from pandas in a future version. Import numpy directly instead.\n",
      "\n",
      "C:\\Users\\Leon\\anaconda3\\envs\\WorkData\\lib\\site-packages\\cufflinks\\plotlytools.py:850: FutureWarning:\n",
      "\n",
      "The pandas.np module is deprecated and will be removed from pandas in a future version. Import numpy directly instead.\n",
      "\n"
     ]
    },
    {
     "data": {
      "application/vnd.plotly.v1+json": {
       "config": {
        "linkText": "Export to plot.ly",
        "plotlyServerURL": "https://plot.ly",
        "showLink": true
       },
       "data": [
        {
         "line": {
          "color": "rgba(255, 153, 51, 1.0)",
          "dash": "solid",
          "shape": "linear",
          "width": 1.3
         },
         "mode": "lines",
         "name": "A",
         "text": "",
         "type": "scatter",
         "x": [
          0,
          1,
          2,
          3,
          4,
          5,
          6,
          7,
          8,
          9,
          10,
          11,
          12,
          13,
          14,
          15,
          16,
          17,
          18,
          19,
          20,
          21,
          22,
          23,
          24,
          25,
          26,
          27,
          28,
          29,
          30,
          31,
          32,
          33,
          34,
          35,
          36,
          37,
          38,
          39,
          40,
          41,
          42,
          43,
          44,
          45,
          46,
          47,
          48,
          49,
          50,
          51,
          52,
          53,
          54,
          55,
          56,
          57,
          58,
          59,
          60,
          61,
          62,
          63,
          64,
          65,
          66,
          67,
          68,
          69,
          70,
          71,
          72,
          73,
          74,
          75,
          76,
          77,
          78,
          79,
          80,
          81,
          82,
          83,
          84,
          85,
          86,
          87,
          88,
          89,
          90,
          91,
          92,
          93,
          94,
          95,
          96,
          97,
          98,
          99
         ],
         "y": [
          -0.6185864777596235,
          -0.09549749996174815,
          0.7735155947714842,
          -1.9544208522009834,
          0.9321062993468145,
          0.36391957912219924,
          1.0222517106252103,
          0.21428349229504423,
          0.30155723927183736,
          -1.7737081556426644,
          -0.8813197097782401,
          -1.1833788622984094,
          1.0921030137803465,
          0.47150727733146436,
          -1.6539348028518632,
          -0.28566133680357586,
          1.6103067819704,
          -1.8417392372265438,
          0.039193584163302084,
          -0.6695950365093897,
          -0.7291227819448418,
          0.17384486693441867,
          1.5625067918950442,
          -2.118320960980159,
          -0.6478092575126989,
          -1.3354358976613383,
          -0.11900269907027594,
          1.8690436615397525,
          0.3602185862801853,
          0.954444106941083,
          -1.3426442266410488,
          -0.5861974838373313,
          -1.2776509648542993,
          -0.17202929225908314,
          -0.5899977906595941,
          1.3660735045819095,
          -1.096820738909289,
          0.09159655138384042,
          0.8669297839834728,
          0.11618036291092862,
          -0.1306793735655419,
          -1.409084507446096,
          -1.1458344122244621,
          -0.20695860339653058,
          -1.037860881063523,
          0.01958383190177941,
          1.877231153321232,
          -0.4861599541240264,
          0.2256221614426137,
          1.0191400317688684,
          -1.7994981450956142,
          -0.449892724101533,
          -1.7060329759096715,
          -0.7097216977459914,
          -0.8825995557308481,
          0.33962848154734276,
          0.20113285388190974,
          0.46035911247198713,
          0.7091683111522437,
          -1.2284387339475709,
          0.11445375532849965,
          -0.11410251539813779,
          -0.433581463941365,
          -0.1506692378419643,
          0.33482007756007925,
          -1.5145111918515755,
          0.570038479119206,
          -1.2112103535764067,
          -0.4029111539814335,
          -0.19348347413316772,
          -0.18662039060185484,
          -0.4020159349141075,
          -1.104221400696765,
          -0.7881037638705021,
          0.9624880966553944,
          0.8370910133274343,
          0.08064775753280434,
          0.4529394450193887,
          0.8144227765728742,
          -0.4139266273079406,
          -0.16045457024510903,
          0.11560583805022592,
          0.5018750969144258,
          -1.05549272187284,
          0.6646897400226129,
          0.7252518633264401,
          -0.8634744428274881,
          0.14526679817629318,
          0.5642348261932901,
          -0.5739339256594503,
          0.15846871036688384,
          0.5303216539889294,
          -0.4638919188417855,
          -2.653303499100419,
          0.30810942245492506,
          1.337533737637027,
          1.0885583937029353,
          -1.6447907309114553,
          0.6693410844821837,
          -0.023858538897312875
         ]
        },
        {
         "line": {
          "color": "rgba(55, 128, 191, 1.0)",
          "dash": "solid",
          "shape": "linear",
          "width": 1.3
         },
         "mode": "lines",
         "name": "B",
         "text": "",
         "type": "scatter",
         "x": [
          0,
          1,
          2,
          3,
          4,
          5,
          6,
          7,
          8,
          9,
          10,
          11,
          12,
          13,
          14,
          15,
          16,
          17,
          18,
          19,
          20,
          21,
          22,
          23,
          24,
          25,
          26,
          27,
          28,
          29,
          30,
          31,
          32,
          33,
          34,
          35,
          36,
          37,
          38,
          39,
          40,
          41,
          42,
          43,
          44,
          45,
          46,
          47,
          48,
          49,
          50,
          51,
          52,
          53,
          54,
          55,
          56,
          57,
          58,
          59,
          60,
          61,
          62,
          63,
          64,
          65,
          66,
          67,
          68,
          69,
          70,
          71,
          72,
          73,
          74,
          75,
          76,
          77,
          78,
          79,
          80,
          81,
          82,
          83,
          84,
          85,
          86,
          87,
          88,
          89,
          90,
          91,
          92,
          93,
          94,
          95,
          96,
          97,
          98,
          99
         ],
         "y": [
          -0.4592523817006714,
          1.614960731672855,
          -1.4206426925982674,
          1.1551454541846038,
          -0.34613058552962517,
          1.6624230716641488,
          -0.11554649598016219,
          -0.01851161969972325,
          0.09984663041486533,
          -2.043102167532454,
          -1.478451948264321,
          -0.2788843499486517,
          -0.1497492795430963,
          1.9533168820677445,
          -0.10989230038135865,
          0.31344790900193625,
          0.08678752237308349,
          -0.3990447395439932,
          -1.4424816562369789,
          -0.028981252459112657,
          -0.4160821900068768,
          -0.9024826500293118,
          -0.5208567006043135,
          0.37071150697915956,
          0.29340762940465925,
          -0.15303788800844492,
          -1.7013013838151183,
          -2.1032089257065056,
          0.01803007769576685,
          0.774085466469011,
          -0.0130218043338703,
          0.7479391896322369,
          0.7318773540406959,
          -1.800944110150754,
          1.4099248117758916,
          -1.5325103771876123,
          0.5782922057046384,
          0.3053398932705239,
          -0.06430529590814345,
          1.0236623980295185,
          0.6914789499794927,
          0.7371810656811424,
          2.606242974469369,
          -1.5007673763044456,
          -1.0420156920821377,
          0.046743919591023995,
          1.3154764187085386,
          -0.18591517662231646,
          0.7578452017067829,
          -1.1201103682918108,
          -1.4809656473238406,
          -1.932290152656959,
          0.5687456244608741,
          -2.183122855649209,
          -0.18703771863844015,
          0.38248194212075454,
          -1.4501529065420269,
          1.0649615189495414,
          -0.44540408458769665,
          -0.5991301447361154,
          0.608703902269564,
          0.4058260851185324,
          0.457400126610244,
          0.5464347317371752,
          -0.2577028738771836,
          -0.6222900815300759,
          0.04461153224918688,
          -2.447018762098259,
          -0.23888100490859634,
          0.08761509395317087,
          1.623124602304495,
          1.1845787037770144,
          0.5492856988758372,
          1.130595322987083,
          -1.8840243529998721,
          0.18955829582691278,
          1.6839930239683714,
          0.5334500493016082,
          1.8492431165364005,
          0.4549707177333402,
          0.6697077146222054,
          0.4085483537015883,
          -0.5082199635442869,
          0.3448252142610793,
          -0.9833076650745944,
          0.2228561564482779,
          1.314600834470803,
          0.5969614245184819,
          0.5615669274826204,
          -0.03580808061129372,
          0.2825263823615819,
          -2.104980414657762,
          -1.8480485079071858,
          -1.2798589824928985,
          -0.4685176982797968,
          1.3615871560013324,
          0.7947295589257131,
          -1.018205327768071,
          0.6838015779839137,
          -0.445118498396265
         ]
        },
        {
         "connectgaps": false,
         "fill": "tozeroy",
         "line": {
          "color": "green",
          "dash": "solid",
          "shape": "linear",
          "width": 0.5
         },
         "mode": "lines",
         "name": "Spread",
         "showlegend": false,
         "type": "scatter",
         "x": [
          0,
          1,
          2,
          3,
          4,
          5,
          6,
          7,
          8,
          9,
          10,
          11,
          12,
          13,
          14,
          15,
          16,
          17,
          18,
          19,
          20,
          21,
          22,
          23,
          24,
          25,
          26,
          27,
          28,
          29,
          30,
          31,
          32,
          33,
          34,
          35,
          36,
          37,
          38,
          39,
          40,
          41,
          42,
          43,
          44,
          45,
          46,
          47,
          48,
          49,
          50,
          51,
          52,
          53,
          54,
          55,
          56,
          57,
          58,
          59,
          60,
          61,
          62,
          63,
          64,
          65,
          66,
          67,
          68,
          69,
          70,
          71,
          72,
          73,
          74,
          75,
          76,
          77,
          78,
          79,
          80,
          81,
          82,
          83,
          84,
          85,
          86,
          87,
          88,
          89,
          90,
          91,
          92,
          93,
          94,
          95,
          96,
          97,
          98,
          99
         ],
         "xaxis": "x2",
         "y": [
          "",
          "",
          2.194158287369752,
          "",
          1.2782368848764398,
          "",
          1.1377982066053725,
          0.2327951119947675,
          0.20171060885697203,
          0.2693940118897895,
          0.5971322384860809,
          "",
          1.2418522933234428,
          "",
          "",
          "",
          1.5235192595973166,
          "",
          1.4816752404002809,
          "",
          "",
          1.0763275169637305,
          2.0833634924993576,
          "",
          "",
          "",
          1.5822986847448424,
          3.972252587246258,
          0.34218850858441846,
          0.18035864047207195,
          "",
          "",
          "",
          1.6289148178916708,
          "",
          2.8985838817695218,
          "",
          "",
          0.9312350798916162,
          "",
          "",
          "",
          "",
          1.293808772907915,
          0.004154811018614701,
          "",
          0.5617547346126934,
          "",
          "",
          2.1392504000606793,
          "",
          1.482397428555426,
          "",
          1.4734011579032176,
          "",
          "",
          1.6512857604239366,
          "",
          1.1545723957399403,
          "",
          "",
          "",
          "",
          "",
          0.5925229514372629,
          "",
          0.5254269468700191,
          1.2358084085218524,
          "",
          "",
          "",
          "",
          "",
          "",
          2.8465124496552665,
          0.6475327175005215,
          "",
          "",
          "",
          "",
          "",
          "",
          1.0100950604587127,
          "",
          1.6479974050972075,
          0.5023957068781622,
          "",
          "",
          0.002667898710669747,
          "",
          "",
          2.6353020686466917,
          1.3841565890654004,
          "",
          0.7766271207347218,
          "",
          0.2938288347772222,
          "",
          "",
          0.4212599594989521
         ],
         "yaxis": "y2"
        },
        {
         "connectgaps": false,
         "fill": "tozeroy",
         "line": {
          "color": "red",
          "dash": "solid",
          "shape": "linear",
          "width": 0.5
         },
         "mode": "lines",
         "name": "Spread",
         "showlegend": false,
         "type": "scatter",
         "x": [
          0,
          1,
          2,
          3,
          4,
          5,
          6,
          7,
          8,
          9,
          10,
          11,
          12,
          13,
          14,
          15,
          16,
          17,
          18,
          19,
          20,
          21,
          22,
          23,
          24,
          25,
          26,
          27,
          28,
          29,
          30,
          31,
          32,
          33,
          34,
          35,
          36,
          37,
          38,
          39,
          40,
          41,
          42,
          43,
          44,
          45,
          46,
          47,
          48,
          49,
          50,
          51,
          52,
          53,
          54,
          55,
          56,
          57,
          58,
          59,
          60,
          61,
          62,
          63,
          64,
          65,
          66,
          67,
          68,
          69,
          70,
          71,
          72,
          73,
          74,
          75,
          76,
          77,
          78,
          79,
          80,
          81,
          82,
          83,
          84,
          85,
          86,
          87,
          88,
          89,
          90,
          91,
          92,
          93,
          94,
          95,
          96,
          97,
          98,
          99
         ],
         "xaxis": "x2",
         "y": [
          -0.1593340960589521,
          -1.710458231634603,
          "",
          -3.109566306385587,
          "",
          -1.2985034925419496,
          "",
          "",
          "",
          "",
          "",
          -0.9044945123497576,
          "",
          -1.48180960473628,
          -1.5440425024705047,
          -0.5991092458055121,
          "",
          -1.4426944976825506,
          "",
          -0.640613784050277,
          -0.313040591937965,
          "",
          "",
          -2.4890324679593188,
          -0.9412168869173582,
          -1.1823980096528934,
          "",
          "",
          "",
          "",
          -1.3296224223071784,
          -1.334136673469568,
          -2.0095283188949953,
          "",
          -1.9999226024354857,
          "",
          -1.6751129446139275,
          -0.21374334188668348,
          "",
          -0.9074820351185899,
          -0.8221583235450346,
          -2.1462655731272386,
          -3.7520773866938315,
          "",
          "",
          -0.027160087689244584,
          "",
          -0.30024477750170997,
          -0.5322230402641692,
          "",
          -0.3185324977717736,
          "",
          -2.2747786003705457,
          "",
          -0.6955618370924079,
          -0.04285346057341177,
          "",
          -0.6046024064775543,
          "",
          -0.6293085892114555,
          -0.4942501469410643,
          -0.5199286005166702,
          -0.890981590551609,
          -0.6971039695791394,
          "",
          -0.8922211103214995,
          "",
          "",
          -0.16403014907283717,
          -0.2810985680863386,
          -1.8097449929063498,
          -1.5865946386911218,
          -1.6535070995726022,
          -1.9186990868575853,
          "",
          "",
          -1.603345266435567,
          -0.08051060428221951,
          -1.0348203399635263,
          -0.8688973450412808,
          -0.8301622848673144,
          -0.2929425156513624,
          "",
          -1.4003179361339193,
          "",
          "",
          -2.1780752772982908,
          -0.4516946263421887,
          "",
          -0.5381258450481566,
          -0.12405767199469805,
          "",
          "",
          -1.3734445166075204,
          "",
          -0.0240534183643053,
          "",
          -0.6265854031433844,
          -0.014460493501730065,
          ""
         ],
         "yaxis": "y2"
        }
       ],
       "layout": {
        "hovermode": "x",
        "legend": {
         "bgcolor": "#F5F6F9",
         "font": {
          "color": "#4D5663"
         }
        },
        "paper_bgcolor": "#F5F6F9",
        "plot_bgcolor": "#F5F6F9",
        "template": {
         "data": {
          "bar": [
           {
            "error_x": {
             "color": "#2a3f5f"
            },
            "error_y": {
             "color": "#2a3f5f"
            },
            "marker": {
             "line": {
              "color": "#E5ECF6",
              "width": 0.5
             },
             "pattern": {
              "fillmode": "overlay",
              "size": 10,
              "solidity": 0.2
             }
            },
            "type": "bar"
           }
          ],
          "barpolar": [
           {
            "marker": {
             "line": {
              "color": "#E5ECF6",
              "width": 0.5
             },
             "pattern": {
              "fillmode": "overlay",
              "size": 10,
              "solidity": 0.2
             }
            },
            "type": "barpolar"
           }
          ],
          "carpet": [
           {
            "aaxis": {
             "endlinecolor": "#2a3f5f",
             "gridcolor": "white",
             "linecolor": "white",
             "minorgridcolor": "white",
             "startlinecolor": "#2a3f5f"
            },
            "baxis": {
             "endlinecolor": "#2a3f5f",
             "gridcolor": "white",
             "linecolor": "white",
             "minorgridcolor": "white",
             "startlinecolor": "#2a3f5f"
            },
            "type": "carpet"
           }
          ],
          "choropleth": [
           {
            "colorbar": {
             "outlinewidth": 0,
             "ticks": ""
            },
            "type": "choropleth"
           }
          ],
          "contour": [
           {
            "colorbar": {
             "outlinewidth": 0,
             "ticks": ""
            },
            "colorscale": [
             [
              0,
              "#0d0887"
             ],
             [
              0.1111111111111111,
              "#46039f"
             ],
             [
              0.2222222222222222,
              "#7201a8"
             ],
             [
              0.3333333333333333,
              "#9c179e"
             ],
             [
              0.4444444444444444,
              "#bd3786"
             ],
             [
              0.5555555555555556,
              "#d8576b"
             ],
             [
              0.6666666666666666,
              "#ed7953"
             ],
             [
              0.7777777777777778,
              "#fb9f3a"
             ],
             [
              0.8888888888888888,
              "#fdca26"
             ],
             [
              1,
              "#f0f921"
             ]
            ],
            "type": "contour"
           }
          ],
          "contourcarpet": [
           {
            "colorbar": {
             "outlinewidth": 0,
             "ticks": ""
            },
            "type": "contourcarpet"
           }
          ],
          "heatmap": [
           {
            "colorbar": {
             "outlinewidth": 0,
             "ticks": ""
            },
            "colorscale": [
             [
              0,
              "#0d0887"
             ],
             [
              0.1111111111111111,
              "#46039f"
             ],
             [
              0.2222222222222222,
              "#7201a8"
             ],
             [
              0.3333333333333333,
              "#9c179e"
             ],
             [
              0.4444444444444444,
              "#bd3786"
             ],
             [
              0.5555555555555556,
              "#d8576b"
             ],
             [
              0.6666666666666666,
              "#ed7953"
             ],
             [
              0.7777777777777778,
              "#fb9f3a"
             ],
             [
              0.8888888888888888,
              "#fdca26"
             ],
             [
              1,
              "#f0f921"
             ]
            ],
            "type": "heatmap"
           }
          ],
          "heatmapgl": [
           {
            "colorbar": {
             "outlinewidth": 0,
             "ticks": ""
            },
            "colorscale": [
             [
              0,
              "#0d0887"
             ],
             [
              0.1111111111111111,
              "#46039f"
             ],
             [
              0.2222222222222222,
              "#7201a8"
             ],
             [
              0.3333333333333333,
              "#9c179e"
             ],
             [
              0.4444444444444444,
              "#bd3786"
             ],
             [
              0.5555555555555556,
              "#d8576b"
             ],
             [
              0.6666666666666666,
              "#ed7953"
             ],
             [
              0.7777777777777778,
              "#fb9f3a"
             ],
             [
              0.8888888888888888,
              "#fdca26"
             ],
             [
              1,
              "#f0f921"
             ]
            ],
            "type": "heatmapgl"
           }
          ],
          "histogram": [
           {
            "marker": {
             "pattern": {
              "fillmode": "overlay",
              "size": 10,
              "solidity": 0.2
             }
            },
            "type": "histogram"
           }
          ],
          "histogram2d": [
           {
            "colorbar": {
             "outlinewidth": 0,
             "ticks": ""
            },
            "colorscale": [
             [
              0,
              "#0d0887"
             ],
             [
              0.1111111111111111,
              "#46039f"
             ],
             [
              0.2222222222222222,
              "#7201a8"
             ],
             [
              0.3333333333333333,
              "#9c179e"
             ],
             [
              0.4444444444444444,
              "#bd3786"
             ],
             [
              0.5555555555555556,
              "#d8576b"
             ],
             [
              0.6666666666666666,
              "#ed7953"
             ],
             [
              0.7777777777777778,
              "#fb9f3a"
             ],
             [
              0.8888888888888888,
              "#fdca26"
             ],
             [
              1,
              "#f0f921"
             ]
            ],
            "type": "histogram2d"
           }
          ],
          "histogram2dcontour": [
           {
            "colorbar": {
             "outlinewidth": 0,
             "ticks": ""
            },
            "colorscale": [
             [
              0,
              "#0d0887"
             ],
             [
              0.1111111111111111,
              "#46039f"
             ],
             [
              0.2222222222222222,
              "#7201a8"
             ],
             [
              0.3333333333333333,
              "#9c179e"
             ],
             [
              0.4444444444444444,
              "#bd3786"
             ],
             [
              0.5555555555555556,
              "#d8576b"
             ],
             [
              0.6666666666666666,
              "#ed7953"
             ],
             [
              0.7777777777777778,
              "#fb9f3a"
             ],
             [
              0.8888888888888888,
              "#fdca26"
             ],
             [
              1,
              "#f0f921"
             ]
            ],
            "type": "histogram2dcontour"
           }
          ],
          "mesh3d": [
           {
            "colorbar": {
             "outlinewidth": 0,
             "ticks": ""
            },
            "type": "mesh3d"
           }
          ],
          "parcoords": [
           {
            "line": {
             "colorbar": {
              "outlinewidth": 0,
              "ticks": ""
             }
            },
            "type": "parcoords"
           }
          ],
          "pie": [
           {
            "automargin": true,
            "type": "pie"
           }
          ],
          "scatter": [
           {
            "fillpattern": {
             "fillmode": "overlay",
             "size": 10,
             "solidity": 0.2
            },
            "type": "scatter"
           }
          ],
          "scatter3d": [
           {
            "line": {
             "colorbar": {
              "outlinewidth": 0,
              "ticks": ""
             }
            },
            "marker": {
             "colorbar": {
              "outlinewidth": 0,
              "ticks": ""
             }
            },
            "type": "scatter3d"
           }
          ],
          "scattercarpet": [
           {
            "marker": {
             "colorbar": {
              "outlinewidth": 0,
              "ticks": ""
             }
            },
            "type": "scattercarpet"
           }
          ],
          "scattergeo": [
           {
            "marker": {
             "colorbar": {
              "outlinewidth": 0,
              "ticks": ""
             }
            },
            "type": "scattergeo"
           }
          ],
          "scattergl": [
           {
            "marker": {
             "colorbar": {
              "outlinewidth": 0,
              "ticks": ""
             }
            },
            "type": "scattergl"
           }
          ],
          "scattermapbox": [
           {
            "marker": {
             "colorbar": {
              "outlinewidth": 0,
              "ticks": ""
             }
            },
            "type": "scattermapbox"
           }
          ],
          "scatterpolar": [
           {
            "marker": {
             "colorbar": {
              "outlinewidth": 0,
              "ticks": ""
             }
            },
            "type": "scatterpolar"
           }
          ],
          "scatterpolargl": [
           {
            "marker": {
             "colorbar": {
              "outlinewidth": 0,
              "ticks": ""
             }
            },
            "type": "scatterpolargl"
           }
          ],
          "scatterternary": [
           {
            "marker": {
             "colorbar": {
              "outlinewidth": 0,
              "ticks": ""
             }
            },
            "type": "scatterternary"
           }
          ],
          "surface": [
           {
            "colorbar": {
             "outlinewidth": 0,
             "ticks": ""
            },
            "colorscale": [
             [
              0,
              "#0d0887"
             ],
             [
              0.1111111111111111,
              "#46039f"
             ],
             [
              0.2222222222222222,
              "#7201a8"
             ],
             [
              0.3333333333333333,
              "#9c179e"
             ],
             [
              0.4444444444444444,
              "#bd3786"
             ],
             [
              0.5555555555555556,
              "#d8576b"
             ],
             [
              0.6666666666666666,
              "#ed7953"
             ],
             [
              0.7777777777777778,
              "#fb9f3a"
             ],
             [
              0.8888888888888888,
              "#fdca26"
             ],
             [
              1,
              "#f0f921"
             ]
            ],
            "type": "surface"
           }
          ],
          "table": [
           {
            "cells": {
             "fill": {
              "color": "#EBF0F8"
             },
             "line": {
              "color": "white"
             }
            },
            "header": {
             "fill": {
              "color": "#C8D4E3"
             },
             "line": {
              "color": "white"
             }
            },
            "type": "table"
           }
          ]
         },
         "layout": {
          "annotationdefaults": {
           "arrowcolor": "#2a3f5f",
           "arrowhead": 0,
           "arrowwidth": 1
          },
          "autotypenumbers": "strict",
          "coloraxis": {
           "colorbar": {
            "outlinewidth": 0,
            "ticks": ""
           }
          },
          "colorscale": {
           "diverging": [
            [
             0,
             "#8e0152"
            ],
            [
             0.1,
             "#c51b7d"
            ],
            [
             0.2,
             "#de77ae"
            ],
            [
             0.3,
             "#f1b6da"
            ],
            [
             0.4,
             "#fde0ef"
            ],
            [
             0.5,
             "#f7f7f7"
            ],
            [
             0.6,
             "#e6f5d0"
            ],
            [
             0.7,
             "#b8e186"
            ],
            [
             0.8,
             "#7fbc41"
            ],
            [
             0.9,
             "#4d9221"
            ],
            [
             1,
             "#276419"
            ]
           ],
           "sequential": [
            [
             0,
             "#0d0887"
            ],
            [
             0.1111111111111111,
             "#46039f"
            ],
            [
             0.2222222222222222,
             "#7201a8"
            ],
            [
             0.3333333333333333,
             "#9c179e"
            ],
            [
             0.4444444444444444,
             "#bd3786"
            ],
            [
             0.5555555555555556,
             "#d8576b"
            ],
            [
             0.6666666666666666,
             "#ed7953"
            ],
            [
             0.7777777777777778,
             "#fb9f3a"
            ],
            [
             0.8888888888888888,
             "#fdca26"
            ],
            [
             1,
             "#f0f921"
            ]
           ],
           "sequentialminus": [
            [
             0,
             "#0d0887"
            ],
            [
             0.1111111111111111,
             "#46039f"
            ],
            [
             0.2222222222222222,
             "#7201a8"
            ],
            [
             0.3333333333333333,
             "#9c179e"
            ],
            [
             0.4444444444444444,
             "#bd3786"
            ],
            [
             0.5555555555555556,
             "#d8576b"
            ],
            [
             0.6666666666666666,
             "#ed7953"
            ],
            [
             0.7777777777777778,
             "#fb9f3a"
            ],
            [
             0.8888888888888888,
             "#fdca26"
            ],
            [
             1,
             "#f0f921"
            ]
           ]
          },
          "colorway": [
           "#636efa",
           "#EF553B",
           "#00cc96",
           "#ab63fa",
           "#FFA15A",
           "#19d3f3",
           "#FF6692",
           "#B6E880",
           "#FF97FF",
           "#FECB52"
          ],
          "font": {
           "color": "#2a3f5f"
          },
          "geo": {
           "bgcolor": "white",
           "lakecolor": "white",
           "landcolor": "#E5ECF6",
           "showlakes": true,
           "showland": true,
           "subunitcolor": "white"
          },
          "hoverlabel": {
           "align": "left"
          },
          "hovermode": "closest",
          "mapbox": {
           "style": "light"
          },
          "paper_bgcolor": "white",
          "plot_bgcolor": "#E5ECF6",
          "polar": {
           "angularaxis": {
            "gridcolor": "white",
            "linecolor": "white",
            "ticks": ""
           },
           "bgcolor": "#E5ECF6",
           "radialaxis": {
            "gridcolor": "white",
            "linecolor": "white",
            "ticks": ""
           }
          },
          "scene": {
           "xaxis": {
            "backgroundcolor": "#E5ECF6",
            "gridcolor": "white",
            "gridwidth": 2,
            "linecolor": "white",
            "showbackground": true,
            "ticks": "",
            "zerolinecolor": "white"
           },
           "yaxis": {
            "backgroundcolor": "#E5ECF6",
            "gridcolor": "white",
            "gridwidth": 2,
            "linecolor": "white",
            "showbackground": true,
            "ticks": "",
            "zerolinecolor": "white"
           },
           "zaxis": {
            "backgroundcolor": "#E5ECF6",
            "gridcolor": "white",
            "gridwidth": 2,
            "linecolor": "white",
            "showbackground": true,
            "ticks": "",
            "zerolinecolor": "white"
           }
          },
          "shapedefaults": {
           "line": {
            "color": "#2a3f5f"
           }
          },
          "ternary": {
           "aaxis": {
            "gridcolor": "white",
            "linecolor": "white",
            "ticks": ""
           },
           "baxis": {
            "gridcolor": "white",
            "linecolor": "white",
            "ticks": ""
           },
           "bgcolor": "#E5ECF6",
           "caxis": {
            "gridcolor": "white",
            "linecolor": "white",
            "ticks": ""
           }
          },
          "title": {
           "x": 0.05
          },
          "xaxis": {
           "automargin": true,
           "gridcolor": "white",
           "linecolor": "white",
           "ticks": "",
           "title": {
            "standoff": 15
           },
           "zerolinecolor": "white",
           "zerolinewidth": 2
          },
          "yaxis": {
           "automargin": true,
           "gridcolor": "white",
           "linecolor": "white",
           "ticks": "",
           "title": {
            "standoff": 15
           },
           "zerolinecolor": "white",
           "zerolinewidth": 2
          }
         }
        },
        "title": {
         "font": {
          "color": "#4D5663"
         }
        },
        "xaxis": {
         "gridcolor": "#E1E5ED",
         "showgrid": true,
         "tickfont": {
          "color": "#4D5663"
         },
         "title": {
          "font": {
           "color": "#4D5663"
          },
          "text": ""
         },
         "zerolinecolor": "#E1E5ED"
        },
        "xaxis2": {
         "anchor": "y2",
         "gridcolor": "#E1E5ED",
         "showgrid": true,
         "showticklabels": false,
         "tickfont": {
          "color": "#4D5663"
         },
         "title": {
          "font": {
           "color": "#4D5663"
          },
          "text": ""
         },
         "zerolinecolor": "#E1E5ED"
        },
        "yaxis": {
         "domain": [
          0.3,
          1
         ],
         "gridcolor": "#E1E5ED",
         "showgrid": true,
         "tickfont": {
          "color": "#4D5663"
         },
         "title": {
          "font": {
           "color": "#4D5663"
          },
          "text": ""
         },
         "zerolinecolor": "#E1E5ED"
        },
        "yaxis2": {
         "domain": [
          0,
          0.25
         ],
         "gridcolor": "#E1E5ED",
         "showgrid": true,
         "tickfont": {
          "color": "#4D5663"
         },
         "title": {
          "font": {
           "color": "#4D5663"
          },
          "text": "Spread"
         },
         "zerolinecolor": "#E1E5ED"
        }
       }
      },
      "text/html": [
       "<div>                            <div id=\"6194cc4a-85b5-4601-8d97-5dfcd867a60a\" class=\"plotly-graph-div\" style=\"height:525px; width:100%;\"></div>            <script type=\"text/javascript\">                require([\"plotly\"], function(Plotly) {                    window.PLOTLYENV=window.PLOTLYENV || {};\n",
       "                    window.PLOTLYENV.BASE_URL='https://plot.ly';                                    if (document.getElementById(\"6194cc4a-85b5-4601-8d97-5dfcd867a60a\")) {                    Plotly.newPlot(                        \"6194cc4a-85b5-4601-8d97-5dfcd867a60a\",                        [{\"line\":{\"color\":\"rgba(255, 153, 51, 1.0)\",\"dash\":\"solid\",\"shape\":\"linear\",\"width\":1.3},\"mode\":\"lines\",\"name\":\"A\",\"text\":\"\",\"x\":[0,1,2,3,4,5,6,7,8,9,10,11,12,13,14,15,16,17,18,19,20,21,22,23,24,25,26,27,28,29,30,31,32,33,34,35,36,37,38,39,40,41,42,43,44,45,46,47,48,49,50,51,52,53,54,55,56,57,58,59,60,61,62,63,64,65,66,67,68,69,70,71,72,73,74,75,76,77,78,79,80,81,82,83,84,85,86,87,88,89,90,91,92,93,94,95,96,97,98,99],\"y\":[-0.6185864777596235,-0.09549749996174815,0.7735155947714842,-1.9544208522009834,0.9321062993468145,0.36391957912219924,1.0222517106252103,0.21428349229504423,0.30155723927183736,-1.7737081556426644,-0.8813197097782401,-1.1833788622984094,1.0921030137803465,0.47150727733146436,-1.6539348028518632,-0.28566133680357586,1.6103067819704,-1.8417392372265438,0.039193584163302084,-0.6695950365093897,-0.7291227819448418,0.17384486693441867,1.5625067918950442,-2.118320960980159,-0.6478092575126989,-1.3354358976613383,-0.11900269907027594,1.8690436615397525,0.3602185862801853,0.954444106941083,-1.3426442266410488,-0.5861974838373313,-1.2776509648542993,-0.17202929225908314,-0.5899977906595941,1.3660735045819095,-1.096820738909289,0.09159655138384042,0.8669297839834728,0.11618036291092862,-0.1306793735655419,-1.409084507446096,-1.1458344122244621,-0.20695860339653058,-1.037860881063523,0.01958383190177941,1.877231153321232,-0.4861599541240264,0.2256221614426137,1.0191400317688684,-1.7994981450956142,-0.449892724101533,-1.7060329759096715,-0.7097216977459914,-0.8825995557308481,0.33962848154734276,0.20113285388190974,0.46035911247198713,0.7091683111522437,-1.2284387339475709,0.11445375532849965,-0.11410251539813779,-0.433581463941365,-0.1506692378419643,0.33482007756007925,-1.5145111918515755,0.570038479119206,-1.2112103535764067,-0.4029111539814335,-0.19348347413316772,-0.18662039060185484,-0.4020159349141075,-1.104221400696765,-0.7881037638705021,0.9624880966553944,0.8370910133274343,0.08064775753280434,0.4529394450193887,0.8144227765728742,-0.4139266273079406,-0.16045457024510903,0.11560583805022592,0.5018750969144258,-1.05549272187284,0.6646897400226129,0.7252518633264401,-0.8634744428274881,0.14526679817629318,0.5642348261932901,-0.5739339256594503,0.15846871036688384,0.5303216539889294,-0.4638919188417855,-2.653303499100419,0.30810942245492506,1.337533737637027,1.0885583937029353,-1.6447907309114553,0.6693410844821837,-0.023858538897312875],\"type\":\"scatter\"},{\"line\":{\"color\":\"rgba(55, 128, 191, 1.0)\",\"dash\":\"solid\",\"shape\":\"linear\",\"width\":1.3},\"mode\":\"lines\",\"name\":\"B\",\"text\":\"\",\"x\":[0,1,2,3,4,5,6,7,8,9,10,11,12,13,14,15,16,17,18,19,20,21,22,23,24,25,26,27,28,29,30,31,32,33,34,35,36,37,38,39,40,41,42,43,44,45,46,47,48,49,50,51,52,53,54,55,56,57,58,59,60,61,62,63,64,65,66,67,68,69,70,71,72,73,74,75,76,77,78,79,80,81,82,83,84,85,86,87,88,89,90,91,92,93,94,95,96,97,98,99],\"y\":[-0.4592523817006714,1.614960731672855,-1.4206426925982674,1.1551454541846038,-0.34613058552962517,1.6624230716641488,-0.11554649598016219,-0.01851161969972325,0.09984663041486533,-2.043102167532454,-1.478451948264321,-0.2788843499486517,-0.1497492795430963,1.9533168820677445,-0.10989230038135865,0.31344790900193625,0.08678752237308349,-0.3990447395439932,-1.4424816562369789,-0.028981252459112657,-0.4160821900068768,-0.9024826500293118,-0.5208567006043135,0.37071150697915956,0.29340762940465925,-0.15303788800844492,-1.7013013838151183,-2.1032089257065056,0.01803007769576685,0.774085466469011,-0.0130218043338703,0.7479391896322369,0.7318773540406959,-1.800944110150754,1.4099248117758916,-1.5325103771876123,0.5782922057046384,0.3053398932705239,-0.06430529590814345,1.0236623980295185,0.6914789499794927,0.7371810656811424,2.606242974469369,-1.5007673763044456,-1.0420156920821377,0.046743919591023995,1.3154764187085386,-0.18591517662231646,0.7578452017067829,-1.1201103682918108,-1.4809656473238406,-1.932290152656959,0.5687456244608741,-2.183122855649209,-0.18703771863844015,0.38248194212075454,-1.4501529065420269,1.0649615189495414,-0.44540408458769665,-0.5991301447361154,0.608703902269564,0.4058260851185324,0.457400126610244,0.5464347317371752,-0.2577028738771836,-0.6222900815300759,0.04461153224918688,-2.447018762098259,-0.23888100490859634,0.08761509395317087,1.623124602304495,1.1845787037770144,0.5492856988758372,1.130595322987083,-1.8840243529998721,0.18955829582691278,1.6839930239683714,0.5334500493016082,1.8492431165364005,0.4549707177333402,0.6697077146222054,0.4085483537015883,-0.5082199635442869,0.3448252142610793,-0.9833076650745944,0.2228561564482779,1.314600834470803,0.5969614245184819,0.5615669274826204,-0.03580808061129372,0.2825263823615819,-2.104980414657762,-1.8480485079071858,-1.2798589824928985,-0.4685176982797968,1.3615871560013324,0.7947295589257131,-1.018205327768071,0.6838015779839137,-0.445118498396265],\"type\":\"scatter\"},{\"connectgaps\":false,\"fill\":\"tozeroy\",\"line\":{\"color\":\"green\",\"dash\":\"solid\",\"shape\":\"linear\",\"width\":0.5},\"mode\":\"lines\",\"name\":\"Spread\",\"showlegend\":false,\"x\":[0,1,2,3,4,5,6,7,8,9,10,11,12,13,14,15,16,17,18,19,20,21,22,23,24,25,26,27,28,29,30,31,32,33,34,35,36,37,38,39,40,41,42,43,44,45,46,47,48,49,50,51,52,53,54,55,56,57,58,59,60,61,62,63,64,65,66,67,68,69,70,71,72,73,74,75,76,77,78,79,80,81,82,83,84,85,86,87,88,89,90,91,92,93,94,95,96,97,98,99],\"xaxis\":\"x2\",\"y\":[\"\",\"\",2.194158287369752,\"\",1.2782368848764398,\"\",1.1377982066053725,0.2327951119947675,0.20171060885697203,0.2693940118897895,0.5971322384860809,\"\",1.2418522933234428,\"\",\"\",\"\",1.5235192595973166,\"\",1.4816752404002809,\"\",\"\",1.0763275169637305,2.0833634924993576,\"\",\"\",\"\",1.5822986847448424,3.972252587246258,0.34218850858441846,0.18035864047207195,\"\",\"\",\"\",1.6289148178916708,\"\",2.8985838817695218,\"\",\"\",0.9312350798916162,\"\",\"\",\"\",\"\",1.293808772907915,0.004154811018614701,\"\",0.5617547346126934,\"\",\"\",2.1392504000606793,\"\",1.482397428555426,\"\",1.4734011579032176,\"\",\"\",1.6512857604239366,\"\",1.1545723957399403,\"\",\"\",\"\",\"\",\"\",0.5925229514372629,\"\",0.5254269468700191,1.2358084085218524,\"\",\"\",\"\",\"\",\"\",\"\",2.8465124496552665,0.6475327175005215,\"\",\"\",\"\",\"\",\"\",\"\",1.0100950604587127,\"\",1.6479974050972075,0.5023957068781622,\"\",\"\",0.002667898710669747,\"\",\"\",2.6353020686466917,1.3841565890654004,\"\",0.7766271207347218,\"\",0.2938288347772222,\"\",\"\",0.4212599594989521],\"yaxis\":\"y2\",\"type\":\"scatter\"},{\"connectgaps\":false,\"fill\":\"tozeroy\",\"line\":{\"color\":\"red\",\"dash\":\"solid\",\"shape\":\"linear\",\"width\":0.5},\"mode\":\"lines\",\"name\":\"Spread\",\"showlegend\":false,\"x\":[0,1,2,3,4,5,6,7,8,9,10,11,12,13,14,15,16,17,18,19,20,21,22,23,24,25,26,27,28,29,30,31,32,33,34,35,36,37,38,39,40,41,42,43,44,45,46,47,48,49,50,51,52,53,54,55,56,57,58,59,60,61,62,63,64,65,66,67,68,69,70,71,72,73,74,75,76,77,78,79,80,81,82,83,84,85,86,87,88,89,90,91,92,93,94,95,96,97,98,99],\"xaxis\":\"x2\",\"y\":[-0.1593340960589521,-1.710458231634603,\"\",-3.109566306385587,\"\",-1.2985034925419496,\"\",\"\",\"\",\"\",\"\",-0.9044945123497576,\"\",-1.48180960473628,-1.5440425024705047,-0.5991092458055121,\"\",-1.4426944976825506,\"\",-0.640613784050277,-0.313040591937965,\"\",\"\",-2.4890324679593188,-0.9412168869173582,-1.1823980096528934,\"\",\"\",\"\",\"\",-1.3296224223071784,-1.334136673469568,-2.0095283188949953,\"\",-1.9999226024354857,\"\",-1.6751129446139275,-0.21374334188668348,\"\",-0.9074820351185899,-0.8221583235450346,-2.1462655731272386,-3.7520773866938315,\"\",\"\",-0.027160087689244584,\"\",-0.30024477750170997,-0.5322230402641692,\"\",-0.3185324977717736,\"\",-2.2747786003705457,\"\",-0.6955618370924079,-0.04285346057341177,\"\",-0.6046024064775543,\"\",-0.6293085892114555,-0.4942501469410643,-0.5199286005166702,-0.890981590551609,-0.6971039695791394,\"\",-0.8922211103214995,\"\",\"\",-0.16403014907283717,-0.2810985680863386,-1.8097449929063498,-1.5865946386911218,-1.6535070995726022,-1.9186990868575853,\"\",\"\",-1.603345266435567,-0.08051060428221951,-1.0348203399635263,-0.8688973450412808,-0.8301622848673144,-0.2929425156513624,\"\",-1.4003179361339193,\"\",\"\",-2.1780752772982908,-0.4516946263421887,\"\",-0.5381258450481566,-0.12405767199469805,\"\",\"\",-1.3734445166075204,\"\",-0.0240534183643053,\"\",-0.6265854031433844,-0.014460493501730065,\"\"],\"yaxis\":\"y2\",\"type\":\"scatter\"}],                        {\"hovermode\":\"x\",\"legend\":{\"bgcolor\":\"#F5F6F9\",\"font\":{\"color\":\"#4D5663\"}},\"paper_bgcolor\":\"#F5F6F9\",\"plot_bgcolor\":\"#F5F6F9\",\"template\":{\"data\":{\"barpolar\":[{\"marker\":{\"line\":{\"color\":\"#E5ECF6\",\"width\":0.5},\"pattern\":{\"fillmode\":\"overlay\",\"size\":10,\"solidity\":0.2}},\"type\":\"barpolar\"}],\"bar\":[{\"error_x\":{\"color\":\"#2a3f5f\"},\"error_y\":{\"color\":\"#2a3f5f\"},\"marker\":{\"line\":{\"color\":\"#E5ECF6\",\"width\":0.5},\"pattern\":{\"fillmode\":\"overlay\",\"size\":10,\"solidity\":0.2}},\"type\":\"bar\"}],\"carpet\":[{\"aaxis\":{\"endlinecolor\":\"#2a3f5f\",\"gridcolor\":\"white\",\"linecolor\":\"white\",\"minorgridcolor\":\"white\",\"startlinecolor\":\"#2a3f5f\"},\"baxis\":{\"endlinecolor\":\"#2a3f5f\",\"gridcolor\":\"white\",\"linecolor\":\"white\",\"minorgridcolor\":\"white\",\"startlinecolor\":\"#2a3f5f\"},\"type\":\"carpet\"}],\"choropleth\":[{\"colorbar\":{\"outlinewidth\":0,\"ticks\":\"\"},\"type\":\"choropleth\"}],\"contourcarpet\":[{\"colorbar\":{\"outlinewidth\":0,\"ticks\":\"\"},\"type\":\"contourcarpet\"}],\"contour\":[{\"colorbar\":{\"outlinewidth\":0,\"ticks\":\"\"},\"colorscale\":[[0.0,\"#0d0887\"],[0.1111111111111111,\"#46039f\"],[0.2222222222222222,\"#7201a8\"],[0.3333333333333333,\"#9c179e\"],[0.4444444444444444,\"#bd3786\"],[0.5555555555555556,\"#d8576b\"],[0.6666666666666666,\"#ed7953\"],[0.7777777777777778,\"#fb9f3a\"],[0.8888888888888888,\"#fdca26\"],[1.0,\"#f0f921\"]],\"type\":\"contour\"}],\"heatmapgl\":[{\"colorbar\":{\"outlinewidth\":0,\"ticks\":\"\"},\"colorscale\":[[0.0,\"#0d0887\"],[0.1111111111111111,\"#46039f\"],[0.2222222222222222,\"#7201a8\"],[0.3333333333333333,\"#9c179e\"],[0.4444444444444444,\"#bd3786\"],[0.5555555555555556,\"#d8576b\"],[0.6666666666666666,\"#ed7953\"],[0.7777777777777778,\"#fb9f3a\"],[0.8888888888888888,\"#fdca26\"],[1.0,\"#f0f921\"]],\"type\":\"heatmapgl\"}],\"heatmap\":[{\"colorbar\":{\"outlinewidth\":0,\"ticks\":\"\"},\"colorscale\":[[0.0,\"#0d0887\"],[0.1111111111111111,\"#46039f\"],[0.2222222222222222,\"#7201a8\"],[0.3333333333333333,\"#9c179e\"],[0.4444444444444444,\"#bd3786\"],[0.5555555555555556,\"#d8576b\"],[0.6666666666666666,\"#ed7953\"],[0.7777777777777778,\"#fb9f3a\"],[0.8888888888888888,\"#fdca26\"],[1.0,\"#f0f921\"]],\"type\":\"heatmap\"}],\"histogram2dcontour\":[{\"colorbar\":{\"outlinewidth\":0,\"ticks\":\"\"},\"colorscale\":[[0.0,\"#0d0887\"],[0.1111111111111111,\"#46039f\"],[0.2222222222222222,\"#7201a8\"],[0.3333333333333333,\"#9c179e\"],[0.4444444444444444,\"#bd3786\"],[0.5555555555555556,\"#d8576b\"],[0.6666666666666666,\"#ed7953\"],[0.7777777777777778,\"#fb9f3a\"],[0.8888888888888888,\"#fdca26\"],[1.0,\"#f0f921\"]],\"type\":\"histogram2dcontour\"}],\"histogram2d\":[{\"colorbar\":{\"outlinewidth\":0,\"ticks\":\"\"},\"colorscale\":[[0.0,\"#0d0887\"],[0.1111111111111111,\"#46039f\"],[0.2222222222222222,\"#7201a8\"],[0.3333333333333333,\"#9c179e\"],[0.4444444444444444,\"#bd3786\"],[0.5555555555555556,\"#d8576b\"],[0.6666666666666666,\"#ed7953\"],[0.7777777777777778,\"#fb9f3a\"],[0.8888888888888888,\"#fdca26\"],[1.0,\"#f0f921\"]],\"type\":\"histogram2d\"}],\"histogram\":[{\"marker\":{\"pattern\":{\"fillmode\":\"overlay\",\"size\":10,\"solidity\":0.2}},\"type\":\"histogram\"}],\"mesh3d\":[{\"colorbar\":{\"outlinewidth\":0,\"ticks\":\"\"},\"type\":\"mesh3d\"}],\"parcoords\":[{\"line\":{\"colorbar\":{\"outlinewidth\":0,\"ticks\":\"\"}},\"type\":\"parcoords\"}],\"pie\":[{\"automargin\":true,\"type\":\"pie\"}],\"scatter3d\":[{\"line\":{\"colorbar\":{\"outlinewidth\":0,\"ticks\":\"\"}},\"marker\":{\"colorbar\":{\"outlinewidth\":0,\"ticks\":\"\"}},\"type\":\"scatter3d\"}],\"scattercarpet\":[{\"marker\":{\"colorbar\":{\"outlinewidth\":0,\"ticks\":\"\"}},\"type\":\"scattercarpet\"}],\"scattergeo\":[{\"marker\":{\"colorbar\":{\"outlinewidth\":0,\"ticks\":\"\"}},\"type\":\"scattergeo\"}],\"scattergl\":[{\"marker\":{\"colorbar\":{\"outlinewidth\":0,\"ticks\":\"\"}},\"type\":\"scattergl\"}],\"scattermapbox\":[{\"marker\":{\"colorbar\":{\"outlinewidth\":0,\"ticks\":\"\"}},\"type\":\"scattermapbox\"}],\"scatterpolargl\":[{\"marker\":{\"colorbar\":{\"outlinewidth\":0,\"ticks\":\"\"}},\"type\":\"scatterpolargl\"}],\"scatterpolar\":[{\"marker\":{\"colorbar\":{\"outlinewidth\":0,\"ticks\":\"\"}},\"type\":\"scatterpolar\"}],\"scatter\":[{\"fillpattern\":{\"fillmode\":\"overlay\",\"size\":10,\"solidity\":0.2},\"type\":\"scatter\"}],\"scatterternary\":[{\"marker\":{\"colorbar\":{\"outlinewidth\":0,\"ticks\":\"\"}},\"type\":\"scatterternary\"}],\"surface\":[{\"colorbar\":{\"outlinewidth\":0,\"ticks\":\"\"},\"colorscale\":[[0.0,\"#0d0887\"],[0.1111111111111111,\"#46039f\"],[0.2222222222222222,\"#7201a8\"],[0.3333333333333333,\"#9c179e\"],[0.4444444444444444,\"#bd3786\"],[0.5555555555555556,\"#d8576b\"],[0.6666666666666666,\"#ed7953\"],[0.7777777777777778,\"#fb9f3a\"],[0.8888888888888888,\"#fdca26\"],[1.0,\"#f0f921\"]],\"type\":\"surface\"}],\"table\":[{\"cells\":{\"fill\":{\"color\":\"#EBF0F8\"},\"line\":{\"color\":\"white\"}},\"header\":{\"fill\":{\"color\":\"#C8D4E3\"},\"line\":{\"color\":\"white\"}},\"type\":\"table\"}]},\"layout\":{\"annotationdefaults\":{\"arrowcolor\":\"#2a3f5f\",\"arrowhead\":0,\"arrowwidth\":1},\"autotypenumbers\":\"strict\",\"coloraxis\":{\"colorbar\":{\"outlinewidth\":0,\"ticks\":\"\"}},\"colorscale\":{\"diverging\":[[0,\"#8e0152\"],[0.1,\"#c51b7d\"],[0.2,\"#de77ae\"],[0.3,\"#f1b6da\"],[0.4,\"#fde0ef\"],[0.5,\"#f7f7f7\"],[0.6,\"#e6f5d0\"],[0.7,\"#b8e186\"],[0.8,\"#7fbc41\"],[0.9,\"#4d9221\"],[1,\"#276419\"]],\"sequential\":[[0.0,\"#0d0887\"],[0.1111111111111111,\"#46039f\"],[0.2222222222222222,\"#7201a8\"],[0.3333333333333333,\"#9c179e\"],[0.4444444444444444,\"#bd3786\"],[0.5555555555555556,\"#d8576b\"],[0.6666666666666666,\"#ed7953\"],[0.7777777777777778,\"#fb9f3a\"],[0.8888888888888888,\"#fdca26\"],[1.0,\"#f0f921\"]],\"sequentialminus\":[[0.0,\"#0d0887\"],[0.1111111111111111,\"#46039f\"],[0.2222222222222222,\"#7201a8\"],[0.3333333333333333,\"#9c179e\"],[0.4444444444444444,\"#bd3786\"],[0.5555555555555556,\"#d8576b\"],[0.6666666666666666,\"#ed7953\"],[0.7777777777777778,\"#fb9f3a\"],[0.8888888888888888,\"#fdca26\"],[1.0,\"#f0f921\"]]},\"colorway\":[\"#636efa\",\"#EF553B\",\"#00cc96\",\"#ab63fa\",\"#FFA15A\",\"#19d3f3\",\"#FF6692\",\"#B6E880\",\"#FF97FF\",\"#FECB52\"],\"font\":{\"color\":\"#2a3f5f\"},\"geo\":{\"bgcolor\":\"white\",\"lakecolor\":\"white\",\"landcolor\":\"#E5ECF6\",\"showlakes\":true,\"showland\":true,\"subunitcolor\":\"white\"},\"hoverlabel\":{\"align\":\"left\"},\"hovermode\":\"closest\",\"mapbox\":{\"style\":\"light\"},\"paper_bgcolor\":\"white\",\"plot_bgcolor\":\"#E5ECF6\",\"polar\":{\"angularaxis\":{\"gridcolor\":\"white\",\"linecolor\":\"white\",\"ticks\":\"\"},\"bgcolor\":\"#E5ECF6\",\"radialaxis\":{\"gridcolor\":\"white\",\"linecolor\":\"white\",\"ticks\":\"\"}},\"scene\":{\"xaxis\":{\"backgroundcolor\":\"#E5ECF6\",\"gridcolor\":\"white\",\"gridwidth\":2,\"linecolor\":\"white\",\"showbackground\":true,\"ticks\":\"\",\"zerolinecolor\":\"white\"},\"yaxis\":{\"backgroundcolor\":\"#E5ECF6\",\"gridcolor\":\"white\",\"gridwidth\":2,\"linecolor\":\"white\",\"showbackground\":true,\"ticks\":\"\",\"zerolinecolor\":\"white\"},\"zaxis\":{\"backgroundcolor\":\"#E5ECF6\",\"gridcolor\":\"white\",\"gridwidth\":2,\"linecolor\":\"white\",\"showbackground\":true,\"ticks\":\"\",\"zerolinecolor\":\"white\"}},\"shapedefaults\":{\"line\":{\"color\":\"#2a3f5f\"}},\"ternary\":{\"aaxis\":{\"gridcolor\":\"white\",\"linecolor\":\"white\",\"ticks\":\"\"},\"baxis\":{\"gridcolor\":\"white\",\"linecolor\":\"white\",\"ticks\":\"\"},\"bgcolor\":\"#E5ECF6\",\"caxis\":{\"gridcolor\":\"white\",\"linecolor\":\"white\",\"ticks\":\"\"}},\"title\":{\"x\":0.05},\"xaxis\":{\"automargin\":true,\"gridcolor\":\"white\",\"linecolor\":\"white\",\"ticks\":\"\",\"title\":{\"standoff\":15},\"zerolinecolor\":\"white\",\"zerolinewidth\":2},\"yaxis\":{\"automargin\":true,\"gridcolor\":\"white\",\"linecolor\":\"white\",\"ticks\":\"\",\"title\":{\"standoff\":15},\"zerolinecolor\":\"white\",\"zerolinewidth\":2}}},\"title\":{\"font\":{\"color\":\"#4D5663\"}},\"xaxis\":{\"gridcolor\":\"#E1E5ED\",\"showgrid\":true,\"tickfont\":{\"color\":\"#4D5663\"},\"title\":{\"font\":{\"color\":\"#4D5663\"},\"text\":\"\"},\"zerolinecolor\":\"#E1E5ED\"},\"yaxis\":{\"domain\":[0.3,1],\"gridcolor\":\"#E1E5ED\",\"showgrid\":true,\"tickfont\":{\"color\":\"#4D5663\"},\"title\":{\"font\":{\"color\":\"#4D5663\"},\"text\":\"\"},\"zerolinecolor\":\"#E1E5ED\"},\"yaxis2\":{\"domain\":[0,0.25],\"gridcolor\":\"#E1E5ED\",\"showgrid\":true,\"tickfont\":{\"color\":\"#4D5663\"},\"title\":{\"font\":{\"color\":\"#4D5663\"},\"text\":\"Spread\"},\"zerolinecolor\":\"#E1E5ED\"},\"xaxis2\":{\"anchor\":\"y2\",\"gridcolor\":\"#E1E5ED\",\"showgrid\":true,\"showticklabels\":false,\"tickfont\":{\"color\":\"#4D5663\"},\"title\":{\"font\":{\"color\":\"#4D5663\"},\"text\":\"\"},\"zerolinecolor\":\"#E1E5ED\"}},                        {\"showLink\": true, \"linkText\": \"Export to plot.ly\", \"plotlyServerURL\": \"https://plot.ly\", \"responsive\": true}                    ).then(function(){\n",
       "                            \n",
       "var gd = document.getElementById('6194cc4a-85b5-4601-8d97-5dfcd867a60a');\n",
       "var x = new MutationObserver(function (mutations, observer) {{\n",
       "        var display = window.getComputedStyle(gd).display;\n",
       "        if (!display || display === 'none') {{\n",
       "            console.log([gd, 'removed!']);\n",
       "            Plotly.purge(gd);\n",
       "            observer.disconnect();\n",
       "        }}\n",
       "}});\n",
       "\n",
       "// Listen for the removal of the full notebook cells\n",
       "var notebookContainer = gd.closest('#notebook-container');\n",
       "if (notebookContainer) {{\n",
       "    x.observe(notebookContainer, {childList: true});\n",
       "}}\n",
       "\n",
       "// Listen for the clearing of the current output cell\n",
       "var outputEl = gd.closest('.output');\n",
       "if (outputEl) {{\n",
       "    x.observe(outputEl, {childList: true});\n",
       "}}\n",
       "\n",
       "                        })                };                });            </script>        </div>"
      ]
     },
     "metadata": {},
     "output_type": "display_data"
    }
   ],
   "source": [
    "df[['A','B']].iplot(kind='spread')"
   ]
  },
  {
   "cell_type": "code",
   "execution_count": 30,
   "id": "9bab0044",
   "metadata": {
    "ExecuteTime": {
     "end_time": "2023-03-25T09:01:07.824020Z",
     "start_time": "2023-03-25T09:01:07.741618Z"
    }
   },
   "outputs": [
    {
     "data": {
      "application/vnd.plotly.v1+json": {
       "config": {
        "linkText": "Export to plot.ly",
        "plotlyServerURL": "https://plot.ly",
        "showLink": true
       },
       "data": [
        {
         "marker": {
          "color": [
           "rgb(255, 153, 51)",
           "rgb(55, 128, 191)",
           "rgb(50, 171, 96)",
           "rgb(128, 0, 128)",
           "rgb(219, 64, 82)",
           "rgb(0, 128, 128)",
           "rgb(255, 255, 51)",
           "rgb(128, 128, 0)",
           "rgb(251, 128, 114)",
           "rgb(128, 177, 211)"
          ],
          "line": {
           "width": 1.3
          },
          "size": [
           42,
           40,
           73,
           93,
           56,
           72,
           86,
           58,
           75,
           42,
           84,
           50,
           45,
           89,
           89,
           47,
           71,
           69,
           27,
           94,
           86,
           95,
           82,
           76,
           57,
           40,
           46,
           92,
           30,
           59,
           78,
           87,
           76,
           78,
           79,
           74,
           42,
           74,
           64,
           47,
           76,
           71,
           31,
           86,
           52,
           72,
           27,
           69,
           22,
           47,
           50,
           76,
           78,
           71,
           76,
           31,
           56,
           37,
           61,
           68,
           67,
           71,
           64,
           46,
           74,
           83,
           12,
           112,
           43,
           47,
           37,
           48,
           49,
           52,
           60,
           39,
           53,
           61,
           89,
           58,
           79,
           39,
           111,
           41,
           48,
           51,
           52,
           39,
           30,
           24,
           51,
           56,
           68,
           59,
           81,
           52,
           61,
           91,
           85,
           27
          ],
          "symbol": "circle"
         },
         "mode": "markers",
         "text": "",
         "type": "scatter",
         "x": [
          -0.6185864777596235,
          -0.09549749996174815,
          0.7735155947714842,
          -1.9544208522009834,
          0.9321062993468145,
          0.36391957912219924,
          1.0222517106252103,
          0.21428349229504423,
          0.30155723927183736,
          -1.7737081556426644,
          -0.8813197097782401,
          -1.1833788622984094,
          1.0921030137803465,
          0.47150727733146436,
          -1.6539348028518632,
          -0.28566133680357586,
          1.6103067819704,
          -1.8417392372265438,
          0.039193584163302084,
          -0.6695950365093897,
          -0.7291227819448418,
          0.17384486693441867,
          1.5625067918950442,
          -2.118320960980159,
          -0.6478092575126989,
          -1.3354358976613383,
          -0.11900269907027594,
          1.8690436615397525,
          0.3602185862801853,
          0.954444106941083,
          -1.3426442266410488,
          -0.5861974838373313,
          -1.2776509648542993,
          -0.17202929225908314,
          -0.5899977906595941,
          1.3660735045819095,
          -1.096820738909289,
          0.09159655138384042,
          0.8669297839834728,
          0.11618036291092862,
          -0.1306793735655419,
          -1.409084507446096,
          -1.1458344122244621,
          -0.20695860339653058,
          -1.037860881063523,
          0.01958383190177941,
          1.877231153321232,
          -0.4861599541240264,
          0.2256221614426137,
          1.0191400317688684,
          -1.7994981450956142,
          -0.449892724101533,
          -1.7060329759096715,
          -0.7097216977459914,
          -0.8825995557308481,
          0.33962848154734276,
          0.20113285388190974,
          0.46035911247198713,
          0.7091683111522437,
          -1.2284387339475709,
          0.11445375532849965,
          -0.11410251539813779,
          -0.433581463941365,
          -0.1506692378419643,
          0.33482007756007925,
          -1.5145111918515755,
          0.570038479119206,
          -1.2112103535764067,
          -0.4029111539814335,
          -0.19348347413316772,
          -0.18662039060185484,
          -0.4020159349141075,
          -1.104221400696765,
          -0.7881037638705021,
          0.9624880966553944,
          0.8370910133274343,
          0.08064775753280434,
          0.4529394450193887,
          0.8144227765728742,
          -0.4139266273079406,
          -0.16045457024510903,
          0.11560583805022592,
          0.5018750969144258,
          -1.05549272187284,
          0.6646897400226129,
          0.7252518633264401,
          -0.8634744428274881,
          0.14526679817629318,
          0.5642348261932901,
          -0.5739339256594503,
          0.15846871036688384,
          0.5303216539889294,
          -0.4638919188417855,
          -2.653303499100419,
          0.30810942245492506,
          1.337533737637027,
          1.0885583937029353,
          -1.6447907309114553,
          0.6693410844821837,
          -0.023858538897312875
         ],
         "y": [
          -0.4592523817006714,
          1.614960731672855,
          -1.4206426925982674,
          1.1551454541846038,
          -0.34613058552962517,
          1.6624230716641488,
          -0.11554649598016219,
          -0.01851161969972325,
          0.09984663041486533,
          -2.043102167532454,
          -1.478451948264321,
          -0.2788843499486517,
          -0.1497492795430963,
          1.9533168820677445,
          -0.10989230038135865,
          0.31344790900193625,
          0.08678752237308349,
          -0.3990447395439932,
          -1.4424816562369789,
          -0.028981252459112657,
          -0.4160821900068768,
          -0.9024826500293118,
          -0.5208567006043135,
          0.37071150697915956,
          0.29340762940465925,
          -0.15303788800844492,
          -1.7013013838151183,
          -2.1032089257065056,
          0.01803007769576685,
          0.774085466469011,
          -0.0130218043338703,
          0.7479391896322369,
          0.7318773540406959,
          -1.800944110150754,
          1.4099248117758916,
          -1.5325103771876123,
          0.5782922057046384,
          0.3053398932705239,
          -0.06430529590814345,
          1.0236623980295185,
          0.6914789499794927,
          0.7371810656811424,
          2.606242974469369,
          -1.5007673763044456,
          -1.0420156920821377,
          0.046743919591023995,
          1.3154764187085386,
          -0.18591517662231646,
          0.7578452017067829,
          -1.1201103682918108,
          -1.4809656473238406,
          -1.932290152656959,
          0.5687456244608741,
          -2.183122855649209,
          -0.18703771863844015,
          0.38248194212075454,
          -1.4501529065420269,
          1.0649615189495414,
          -0.44540408458769665,
          -0.5991301447361154,
          0.608703902269564,
          0.4058260851185324,
          0.457400126610244,
          0.5464347317371752,
          -0.2577028738771836,
          -0.6222900815300759,
          0.04461153224918688,
          -2.447018762098259,
          -0.23888100490859634,
          0.08761509395317087,
          1.623124602304495,
          1.1845787037770144,
          0.5492856988758372,
          1.130595322987083,
          -1.8840243529998721,
          0.18955829582691278,
          1.6839930239683714,
          0.5334500493016082,
          1.8492431165364005,
          0.4549707177333402,
          0.6697077146222054,
          0.4085483537015883,
          -0.5082199635442869,
          0.3448252142610793,
          -0.9833076650745944,
          0.2228561564482779,
          1.314600834470803,
          0.5969614245184819,
          0.5615669274826204,
          -0.03580808061129372,
          0.2825263823615819,
          -2.104980414657762,
          -1.8480485079071858,
          -1.2798589824928985,
          -0.4685176982797968,
          1.3615871560013324,
          0.7947295589257131,
          -1.018205327768071,
          0.6838015779839137,
          -0.445118498396265
         ]
        }
       ],
       "layout": {
        "legend": {
         "bgcolor": "#F5F6F9",
         "font": {
          "color": "#4D5663"
         }
        },
        "paper_bgcolor": "#F5F6F9",
        "plot_bgcolor": "#F5F6F9",
        "template": {
         "data": {
          "bar": [
           {
            "error_x": {
             "color": "#2a3f5f"
            },
            "error_y": {
             "color": "#2a3f5f"
            },
            "marker": {
             "line": {
              "color": "#E5ECF6",
              "width": 0.5
             },
             "pattern": {
              "fillmode": "overlay",
              "size": 10,
              "solidity": 0.2
             }
            },
            "type": "bar"
           }
          ],
          "barpolar": [
           {
            "marker": {
             "line": {
              "color": "#E5ECF6",
              "width": 0.5
             },
             "pattern": {
              "fillmode": "overlay",
              "size": 10,
              "solidity": 0.2
             }
            },
            "type": "barpolar"
           }
          ],
          "carpet": [
           {
            "aaxis": {
             "endlinecolor": "#2a3f5f",
             "gridcolor": "white",
             "linecolor": "white",
             "minorgridcolor": "white",
             "startlinecolor": "#2a3f5f"
            },
            "baxis": {
             "endlinecolor": "#2a3f5f",
             "gridcolor": "white",
             "linecolor": "white",
             "minorgridcolor": "white",
             "startlinecolor": "#2a3f5f"
            },
            "type": "carpet"
           }
          ],
          "choropleth": [
           {
            "colorbar": {
             "outlinewidth": 0,
             "ticks": ""
            },
            "type": "choropleth"
           }
          ],
          "contour": [
           {
            "colorbar": {
             "outlinewidth": 0,
             "ticks": ""
            },
            "colorscale": [
             [
              0,
              "#0d0887"
             ],
             [
              0.1111111111111111,
              "#46039f"
             ],
             [
              0.2222222222222222,
              "#7201a8"
             ],
             [
              0.3333333333333333,
              "#9c179e"
             ],
             [
              0.4444444444444444,
              "#bd3786"
             ],
             [
              0.5555555555555556,
              "#d8576b"
             ],
             [
              0.6666666666666666,
              "#ed7953"
             ],
             [
              0.7777777777777778,
              "#fb9f3a"
             ],
             [
              0.8888888888888888,
              "#fdca26"
             ],
             [
              1,
              "#f0f921"
             ]
            ],
            "type": "contour"
           }
          ],
          "contourcarpet": [
           {
            "colorbar": {
             "outlinewidth": 0,
             "ticks": ""
            },
            "type": "contourcarpet"
           }
          ],
          "heatmap": [
           {
            "colorbar": {
             "outlinewidth": 0,
             "ticks": ""
            },
            "colorscale": [
             [
              0,
              "#0d0887"
             ],
             [
              0.1111111111111111,
              "#46039f"
             ],
             [
              0.2222222222222222,
              "#7201a8"
             ],
             [
              0.3333333333333333,
              "#9c179e"
             ],
             [
              0.4444444444444444,
              "#bd3786"
             ],
             [
              0.5555555555555556,
              "#d8576b"
             ],
             [
              0.6666666666666666,
              "#ed7953"
             ],
             [
              0.7777777777777778,
              "#fb9f3a"
             ],
             [
              0.8888888888888888,
              "#fdca26"
             ],
             [
              1,
              "#f0f921"
             ]
            ],
            "type": "heatmap"
           }
          ],
          "heatmapgl": [
           {
            "colorbar": {
             "outlinewidth": 0,
             "ticks": ""
            },
            "colorscale": [
             [
              0,
              "#0d0887"
             ],
             [
              0.1111111111111111,
              "#46039f"
             ],
             [
              0.2222222222222222,
              "#7201a8"
             ],
             [
              0.3333333333333333,
              "#9c179e"
             ],
             [
              0.4444444444444444,
              "#bd3786"
             ],
             [
              0.5555555555555556,
              "#d8576b"
             ],
             [
              0.6666666666666666,
              "#ed7953"
             ],
             [
              0.7777777777777778,
              "#fb9f3a"
             ],
             [
              0.8888888888888888,
              "#fdca26"
             ],
             [
              1,
              "#f0f921"
             ]
            ],
            "type": "heatmapgl"
           }
          ],
          "histogram": [
           {
            "marker": {
             "pattern": {
              "fillmode": "overlay",
              "size": 10,
              "solidity": 0.2
             }
            },
            "type": "histogram"
           }
          ],
          "histogram2d": [
           {
            "colorbar": {
             "outlinewidth": 0,
             "ticks": ""
            },
            "colorscale": [
             [
              0,
              "#0d0887"
             ],
             [
              0.1111111111111111,
              "#46039f"
             ],
             [
              0.2222222222222222,
              "#7201a8"
             ],
             [
              0.3333333333333333,
              "#9c179e"
             ],
             [
              0.4444444444444444,
              "#bd3786"
             ],
             [
              0.5555555555555556,
              "#d8576b"
             ],
             [
              0.6666666666666666,
              "#ed7953"
             ],
             [
              0.7777777777777778,
              "#fb9f3a"
             ],
             [
              0.8888888888888888,
              "#fdca26"
             ],
             [
              1,
              "#f0f921"
             ]
            ],
            "type": "histogram2d"
           }
          ],
          "histogram2dcontour": [
           {
            "colorbar": {
             "outlinewidth": 0,
             "ticks": ""
            },
            "colorscale": [
             [
              0,
              "#0d0887"
             ],
             [
              0.1111111111111111,
              "#46039f"
             ],
             [
              0.2222222222222222,
              "#7201a8"
             ],
             [
              0.3333333333333333,
              "#9c179e"
             ],
             [
              0.4444444444444444,
              "#bd3786"
             ],
             [
              0.5555555555555556,
              "#d8576b"
             ],
             [
              0.6666666666666666,
              "#ed7953"
             ],
             [
              0.7777777777777778,
              "#fb9f3a"
             ],
             [
              0.8888888888888888,
              "#fdca26"
             ],
             [
              1,
              "#f0f921"
             ]
            ],
            "type": "histogram2dcontour"
           }
          ],
          "mesh3d": [
           {
            "colorbar": {
             "outlinewidth": 0,
             "ticks": ""
            },
            "type": "mesh3d"
           }
          ],
          "parcoords": [
           {
            "line": {
             "colorbar": {
              "outlinewidth": 0,
              "ticks": ""
             }
            },
            "type": "parcoords"
           }
          ],
          "pie": [
           {
            "automargin": true,
            "type": "pie"
           }
          ],
          "scatter": [
           {
            "fillpattern": {
             "fillmode": "overlay",
             "size": 10,
             "solidity": 0.2
            },
            "type": "scatter"
           }
          ],
          "scatter3d": [
           {
            "line": {
             "colorbar": {
              "outlinewidth": 0,
              "ticks": ""
             }
            },
            "marker": {
             "colorbar": {
              "outlinewidth": 0,
              "ticks": ""
             }
            },
            "type": "scatter3d"
           }
          ],
          "scattercarpet": [
           {
            "marker": {
             "colorbar": {
              "outlinewidth": 0,
              "ticks": ""
             }
            },
            "type": "scattercarpet"
           }
          ],
          "scattergeo": [
           {
            "marker": {
             "colorbar": {
              "outlinewidth": 0,
              "ticks": ""
             }
            },
            "type": "scattergeo"
           }
          ],
          "scattergl": [
           {
            "marker": {
             "colorbar": {
              "outlinewidth": 0,
              "ticks": ""
             }
            },
            "type": "scattergl"
           }
          ],
          "scattermapbox": [
           {
            "marker": {
             "colorbar": {
              "outlinewidth": 0,
              "ticks": ""
             }
            },
            "type": "scattermapbox"
           }
          ],
          "scatterpolar": [
           {
            "marker": {
             "colorbar": {
              "outlinewidth": 0,
              "ticks": ""
             }
            },
            "type": "scatterpolar"
           }
          ],
          "scatterpolargl": [
           {
            "marker": {
             "colorbar": {
              "outlinewidth": 0,
              "ticks": ""
             }
            },
            "type": "scatterpolargl"
           }
          ],
          "scatterternary": [
           {
            "marker": {
             "colorbar": {
              "outlinewidth": 0,
              "ticks": ""
             }
            },
            "type": "scatterternary"
           }
          ],
          "surface": [
           {
            "colorbar": {
             "outlinewidth": 0,
             "ticks": ""
            },
            "colorscale": [
             [
              0,
              "#0d0887"
             ],
             [
              0.1111111111111111,
              "#46039f"
             ],
             [
              0.2222222222222222,
              "#7201a8"
             ],
             [
              0.3333333333333333,
              "#9c179e"
             ],
             [
              0.4444444444444444,
              "#bd3786"
             ],
             [
              0.5555555555555556,
              "#d8576b"
             ],
             [
              0.6666666666666666,
              "#ed7953"
             ],
             [
              0.7777777777777778,
              "#fb9f3a"
             ],
             [
              0.8888888888888888,
              "#fdca26"
             ],
             [
              1,
              "#f0f921"
             ]
            ],
            "type": "surface"
           }
          ],
          "table": [
           {
            "cells": {
             "fill": {
              "color": "#EBF0F8"
             },
             "line": {
              "color": "white"
             }
            },
            "header": {
             "fill": {
              "color": "#C8D4E3"
             },
             "line": {
              "color": "white"
             }
            },
            "type": "table"
           }
          ]
         },
         "layout": {
          "annotationdefaults": {
           "arrowcolor": "#2a3f5f",
           "arrowhead": 0,
           "arrowwidth": 1
          },
          "autotypenumbers": "strict",
          "coloraxis": {
           "colorbar": {
            "outlinewidth": 0,
            "ticks": ""
           }
          },
          "colorscale": {
           "diverging": [
            [
             0,
             "#8e0152"
            ],
            [
             0.1,
             "#c51b7d"
            ],
            [
             0.2,
             "#de77ae"
            ],
            [
             0.3,
             "#f1b6da"
            ],
            [
             0.4,
             "#fde0ef"
            ],
            [
             0.5,
             "#f7f7f7"
            ],
            [
             0.6,
             "#e6f5d0"
            ],
            [
             0.7,
             "#b8e186"
            ],
            [
             0.8,
             "#7fbc41"
            ],
            [
             0.9,
             "#4d9221"
            ],
            [
             1,
             "#276419"
            ]
           ],
           "sequential": [
            [
             0,
             "#0d0887"
            ],
            [
             0.1111111111111111,
             "#46039f"
            ],
            [
             0.2222222222222222,
             "#7201a8"
            ],
            [
             0.3333333333333333,
             "#9c179e"
            ],
            [
             0.4444444444444444,
             "#bd3786"
            ],
            [
             0.5555555555555556,
             "#d8576b"
            ],
            [
             0.6666666666666666,
             "#ed7953"
            ],
            [
             0.7777777777777778,
             "#fb9f3a"
            ],
            [
             0.8888888888888888,
             "#fdca26"
            ],
            [
             1,
             "#f0f921"
            ]
           ],
           "sequentialminus": [
            [
             0,
             "#0d0887"
            ],
            [
             0.1111111111111111,
             "#46039f"
            ],
            [
             0.2222222222222222,
             "#7201a8"
            ],
            [
             0.3333333333333333,
             "#9c179e"
            ],
            [
             0.4444444444444444,
             "#bd3786"
            ],
            [
             0.5555555555555556,
             "#d8576b"
            ],
            [
             0.6666666666666666,
             "#ed7953"
            ],
            [
             0.7777777777777778,
             "#fb9f3a"
            ],
            [
             0.8888888888888888,
             "#fdca26"
            ],
            [
             1,
             "#f0f921"
            ]
           ]
          },
          "colorway": [
           "#636efa",
           "#EF553B",
           "#00cc96",
           "#ab63fa",
           "#FFA15A",
           "#19d3f3",
           "#FF6692",
           "#B6E880",
           "#FF97FF",
           "#FECB52"
          ],
          "font": {
           "color": "#2a3f5f"
          },
          "geo": {
           "bgcolor": "white",
           "lakecolor": "white",
           "landcolor": "#E5ECF6",
           "showlakes": true,
           "showland": true,
           "subunitcolor": "white"
          },
          "hoverlabel": {
           "align": "left"
          },
          "hovermode": "closest",
          "mapbox": {
           "style": "light"
          },
          "paper_bgcolor": "white",
          "plot_bgcolor": "#E5ECF6",
          "polar": {
           "angularaxis": {
            "gridcolor": "white",
            "linecolor": "white",
            "ticks": ""
           },
           "bgcolor": "#E5ECF6",
           "radialaxis": {
            "gridcolor": "white",
            "linecolor": "white",
            "ticks": ""
           }
          },
          "scene": {
           "xaxis": {
            "backgroundcolor": "#E5ECF6",
            "gridcolor": "white",
            "gridwidth": 2,
            "linecolor": "white",
            "showbackground": true,
            "ticks": "",
            "zerolinecolor": "white"
           },
           "yaxis": {
            "backgroundcolor": "#E5ECF6",
            "gridcolor": "white",
            "gridwidth": 2,
            "linecolor": "white",
            "showbackground": true,
            "ticks": "",
            "zerolinecolor": "white"
           },
           "zaxis": {
            "backgroundcolor": "#E5ECF6",
            "gridcolor": "white",
            "gridwidth": 2,
            "linecolor": "white",
            "showbackground": true,
            "ticks": "",
            "zerolinecolor": "white"
           }
          },
          "shapedefaults": {
           "line": {
            "color": "#2a3f5f"
           }
          },
          "ternary": {
           "aaxis": {
            "gridcolor": "white",
            "linecolor": "white",
            "ticks": ""
           },
           "baxis": {
            "gridcolor": "white",
            "linecolor": "white",
            "ticks": ""
           },
           "bgcolor": "#E5ECF6",
           "caxis": {
            "gridcolor": "white",
            "linecolor": "white",
            "ticks": ""
           }
          },
          "title": {
           "x": 0.05
          },
          "xaxis": {
           "automargin": true,
           "gridcolor": "white",
           "linecolor": "white",
           "ticks": "",
           "title": {
            "standoff": 15
           },
           "zerolinecolor": "white",
           "zerolinewidth": 2
          },
          "yaxis": {
           "automargin": true,
           "gridcolor": "white",
           "linecolor": "white",
           "ticks": "",
           "title": {
            "standoff": 15
           },
           "zerolinecolor": "white",
           "zerolinewidth": 2
          }
         }
        },
        "title": {
         "font": {
          "color": "#4D5663"
         }
        },
        "xaxis": {
         "gridcolor": "#E1E5ED",
         "showgrid": true,
         "tickfont": {
          "color": "#4D5663"
         },
         "title": {
          "font": {
           "color": "#4D5663"
          },
          "text": ""
         },
         "zerolinecolor": "#E1E5ED"
        },
        "yaxis": {
         "gridcolor": "#E1E5ED",
         "showgrid": true,
         "tickfont": {
          "color": "#4D5663"
         },
         "title": {
          "font": {
           "color": "#4D5663"
          },
          "text": ""
         },
         "zerolinecolor": "#E1E5ED"
        }
       }
      },
      "text/html": [
       "<div>                            <div id=\"5f24aea1-d883-4613-ad42-f638a5dab2c7\" class=\"plotly-graph-div\" style=\"height:525px; width:100%;\"></div>            <script type=\"text/javascript\">                require([\"plotly\"], function(Plotly) {                    window.PLOTLYENV=window.PLOTLYENV || {};\n",
       "                    window.PLOTLYENV.BASE_URL='https://plot.ly';                                    if (document.getElementById(\"5f24aea1-d883-4613-ad42-f638a5dab2c7\")) {                    Plotly.newPlot(                        \"5f24aea1-d883-4613-ad42-f638a5dab2c7\",                        [{\"marker\":{\"color\":[\"rgb(255, 153, 51)\",\"rgb(55, 128, 191)\",\"rgb(50, 171, 96)\",\"rgb(128, 0, 128)\",\"rgb(219, 64, 82)\",\"rgb(0, 128, 128)\",\"rgb(255, 255, 51)\",\"rgb(128, 128, 0)\",\"rgb(251, 128, 114)\",\"rgb(128, 177, 211)\"],\"line\":{\"width\":1.3},\"size\":[42,40,73,93,56,72,86,58,75,42,84,50,45,89,89,47,71,69,27,94,86,95,82,76,57,40,46,92,30,59,78,87,76,78,79,74,42,74,64,47,76,71,31,86,52,72,27,69,22,47,50,76,78,71,76,31,56,37,61,68,67,71,64,46,74,83,12,112,43,47,37,48,49,52,60,39,53,61,89,58,79,39,111,41,48,51,52,39,30,24,51,56,68,59,81,52,61,91,85,27],\"symbol\":\"circle\"},\"mode\":\"markers\",\"text\":\"\",\"x\":[-0.6185864777596235,-0.09549749996174815,0.7735155947714842,-1.9544208522009834,0.9321062993468145,0.36391957912219924,1.0222517106252103,0.21428349229504423,0.30155723927183736,-1.7737081556426644,-0.8813197097782401,-1.1833788622984094,1.0921030137803465,0.47150727733146436,-1.6539348028518632,-0.28566133680357586,1.6103067819704,-1.8417392372265438,0.039193584163302084,-0.6695950365093897,-0.7291227819448418,0.17384486693441867,1.5625067918950442,-2.118320960980159,-0.6478092575126989,-1.3354358976613383,-0.11900269907027594,1.8690436615397525,0.3602185862801853,0.954444106941083,-1.3426442266410488,-0.5861974838373313,-1.2776509648542993,-0.17202929225908314,-0.5899977906595941,1.3660735045819095,-1.096820738909289,0.09159655138384042,0.8669297839834728,0.11618036291092862,-0.1306793735655419,-1.409084507446096,-1.1458344122244621,-0.20695860339653058,-1.037860881063523,0.01958383190177941,1.877231153321232,-0.4861599541240264,0.2256221614426137,1.0191400317688684,-1.7994981450956142,-0.449892724101533,-1.7060329759096715,-0.7097216977459914,-0.8825995557308481,0.33962848154734276,0.20113285388190974,0.46035911247198713,0.7091683111522437,-1.2284387339475709,0.11445375532849965,-0.11410251539813779,-0.433581463941365,-0.1506692378419643,0.33482007756007925,-1.5145111918515755,0.570038479119206,-1.2112103535764067,-0.4029111539814335,-0.19348347413316772,-0.18662039060185484,-0.4020159349141075,-1.104221400696765,-0.7881037638705021,0.9624880966553944,0.8370910133274343,0.08064775753280434,0.4529394450193887,0.8144227765728742,-0.4139266273079406,-0.16045457024510903,0.11560583805022592,0.5018750969144258,-1.05549272187284,0.6646897400226129,0.7252518633264401,-0.8634744428274881,0.14526679817629318,0.5642348261932901,-0.5739339256594503,0.15846871036688384,0.5303216539889294,-0.4638919188417855,-2.653303499100419,0.30810942245492506,1.337533737637027,1.0885583937029353,-1.6447907309114553,0.6693410844821837,-0.023858538897312875],\"y\":[-0.4592523817006714,1.614960731672855,-1.4206426925982674,1.1551454541846038,-0.34613058552962517,1.6624230716641488,-0.11554649598016219,-0.01851161969972325,0.09984663041486533,-2.043102167532454,-1.478451948264321,-0.2788843499486517,-0.1497492795430963,1.9533168820677445,-0.10989230038135865,0.31344790900193625,0.08678752237308349,-0.3990447395439932,-1.4424816562369789,-0.028981252459112657,-0.4160821900068768,-0.9024826500293118,-0.5208567006043135,0.37071150697915956,0.29340762940465925,-0.15303788800844492,-1.7013013838151183,-2.1032089257065056,0.01803007769576685,0.774085466469011,-0.0130218043338703,0.7479391896322369,0.7318773540406959,-1.800944110150754,1.4099248117758916,-1.5325103771876123,0.5782922057046384,0.3053398932705239,-0.06430529590814345,1.0236623980295185,0.6914789499794927,0.7371810656811424,2.606242974469369,-1.5007673763044456,-1.0420156920821377,0.046743919591023995,1.3154764187085386,-0.18591517662231646,0.7578452017067829,-1.1201103682918108,-1.4809656473238406,-1.932290152656959,0.5687456244608741,-2.183122855649209,-0.18703771863844015,0.38248194212075454,-1.4501529065420269,1.0649615189495414,-0.44540408458769665,-0.5991301447361154,0.608703902269564,0.4058260851185324,0.457400126610244,0.5464347317371752,-0.2577028738771836,-0.6222900815300759,0.04461153224918688,-2.447018762098259,-0.23888100490859634,0.08761509395317087,1.623124602304495,1.1845787037770144,0.5492856988758372,1.130595322987083,-1.8840243529998721,0.18955829582691278,1.6839930239683714,0.5334500493016082,1.8492431165364005,0.4549707177333402,0.6697077146222054,0.4085483537015883,-0.5082199635442869,0.3448252142610793,-0.9833076650745944,0.2228561564482779,1.314600834470803,0.5969614245184819,0.5615669274826204,-0.03580808061129372,0.2825263823615819,-2.104980414657762,-1.8480485079071858,-1.2798589824928985,-0.4685176982797968,1.3615871560013324,0.7947295589257131,-1.018205327768071,0.6838015779839137,-0.445118498396265],\"type\":\"scatter\"}],                        {\"legend\":{\"bgcolor\":\"#F5F6F9\",\"font\":{\"color\":\"#4D5663\"}},\"paper_bgcolor\":\"#F5F6F9\",\"plot_bgcolor\":\"#F5F6F9\",\"template\":{\"data\":{\"barpolar\":[{\"marker\":{\"line\":{\"color\":\"#E5ECF6\",\"width\":0.5},\"pattern\":{\"fillmode\":\"overlay\",\"size\":10,\"solidity\":0.2}},\"type\":\"barpolar\"}],\"bar\":[{\"error_x\":{\"color\":\"#2a3f5f\"},\"error_y\":{\"color\":\"#2a3f5f\"},\"marker\":{\"line\":{\"color\":\"#E5ECF6\",\"width\":0.5},\"pattern\":{\"fillmode\":\"overlay\",\"size\":10,\"solidity\":0.2}},\"type\":\"bar\"}],\"carpet\":[{\"aaxis\":{\"endlinecolor\":\"#2a3f5f\",\"gridcolor\":\"white\",\"linecolor\":\"white\",\"minorgridcolor\":\"white\",\"startlinecolor\":\"#2a3f5f\"},\"baxis\":{\"endlinecolor\":\"#2a3f5f\",\"gridcolor\":\"white\",\"linecolor\":\"white\",\"minorgridcolor\":\"white\",\"startlinecolor\":\"#2a3f5f\"},\"type\":\"carpet\"}],\"choropleth\":[{\"colorbar\":{\"outlinewidth\":0,\"ticks\":\"\"},\"type\":\"choropleth\"}],\"contourcarpet\":[{\"colorbar\":{\"outlinewidth\":0,\"ticks\":\"\"},\"type\":\"contourcarpet\"}],\"contour\":[{\"colorbar\":{\"outlinewidth\":0,\"ticks\":\"\"},\"colorscale\":[[0.0,\"#0d0887\"],[0.1111111111111111,\"#46039f\"],[0.2222222222222222,\"#7201a8\"],[0.3333333333333333,\"#9c179e\"],[0.4444444444444444,\"#bd3786\"],[0.5555555555555556,\"#d8576b\"],[0.6666666666666666,\"#ed7953\"],[0.7777777777777778,\"#fb9f3a\"],[0.8888888888888888,\"#fdca26\"],[1.0,\"#f0f921\"]],\"type\":\"contour\"}],\"heatmapgl\":[{\"colorbar\":{\"outlinewidth\":0,\"ticks\":\"\"},\"colorscale\":[[0.0,\"#0d0887\"],[0.1111111111111111,\"#46039f\"],[0.2222222222222222,\"#7201a8\"],[0.3333333333333333,\"#9c179e\"],[0.4444444444444444,\"#bd3786\"],[0.5555555555555556,\"#d8576b\"],[0.6666666666666666,\"#ed7953\"],[0.7777777777777778,\"#fb9f3a\"],[0.8888888888888888,\"#fdca26\"],[1.0,\"#f0f921\"]],\"type\":\"heatmapgl\"}],\"heatmap\":[{\"colorbar\":{\"outlinewidth\":0,\"ticks\":\"\"},\"colorscale\":[[0.0,\"#0d0887\"],[0.1111111111111111,\"#46039f\"],[0.2222222222222222,\"#7201a8\"],[0.3333333333333333,\"#9c179e\"],[0.4444444444444444,\"#bd3786\"],[0.5555555555555556,\"#d8576b\"],[0.6666666666666666,\"#ed7953\"],[0.7777777777777778,\"#fb9f3a\"],[0.8888888888888888,\"#fdca26\"],[1.0,\"#f0f921\"]],\"type\":\"heatmap\"}],\"histogram2dcontour\":[{\"colorbar\":{\"outlinewidth\":0,\"ticks\":\"\"},\"colorscale\":[[0.0,\"#0d0887\"],[0.1111111111111111,\"#46039f\"],[0.2222222222222222,\"#7201a8\"],[0.3333333333333333,\"#9c179e\"],[0.4444444444444444,\"#bd3786\"],[0.5555555555555556,\"#d8576b\"],[0.6666666666666666,\"#ed7953\"],[0.7777777777777778,\"#fb9f3a\"],[0.8888888888888888,\"#fdca26\"],[1.0,\"#f0f921\"]],\"type\":\"histogram2dcontour\"}],\"histogram2d\":[{\"colorbar\":{\"outlinewidth\":0,\"ticks\":\"\"},\"colorscale\":[[0.0,\"#0d0887\"],[0.1111111111111111,\"#46039f\"],[0.2222222222222222,\"#7201a8\"],[0.3333333333333333,\"#9c179e\"],[0.4444444444444444,\"#bd3786\"],[0.5555555555555556,\"#d8576b\"],[0.6666666666666666,\"#ed7953\"],[0.7777777777777778,\"#fb9f3a\"],[0.8888888888888888,\"#fdca26\"],[1.0,\"#f0f921\"]],\"type\":\"histogram2d\"}],\"histogram\":[{\"marker\":{\"pattern\":{\"fillmode\":\"overlay\",\"size\":10,\"solidity\":0.2}},\"type\":\"histogram\"}],\"mesh3d\":[{\"colorbar\":{\"outlinewidth\":0,\"ticks\":\"\"},\"type\":\"mesh3d\"}],\"parcoords\":[{\"line\":{\"colorbar\":{\"outlinewidth\":0,\"ticks\":\"\"}},\"type\":\"parcoords\"}],\"pie\":[{\"automargin\":true,\"type\":\"pie\"}],\"scatter3d\":[{\"line\":{\"colorbar\":{\"outlinewidth\":0,\"ticks\":\"\"}},\"marker\":{\"colorbar\":{\"outlinewidth\":0,\"ticks\":\"\"}},\"type\":\"scatter3d\"}],\"scattercarpet\":[{\"marker\":{\"colorbar\":{\"outlinewidth\":0,\"ticks\":\"\"}},\"type\":\"scattercarpet\"}],\"scattergeo\":[{\"marker\":{\"colorbar\":{\"outlinewidth\":0,\"ticks\":\"\"}},\"type\":\"scattergeo\"}],\"scattergl\":[{\"marker\":{\"colorbar\":{\"outlinewidth\":0,\"ticks\":\"\"}},\"type\":\"scattergl\"}],\"scattermapbox\":[{\"marker\":{\"colorbar\":{\"outlinewidth\":0,\"ticks\":\"\"}},\"type\":\"scattermapbox\"}],\"scatterpolargl\":[{\"marker\":{\"colorbar\":{\"outlinewidth\":0,\"ticks\":\"\"}},\"type\":\"scatterpolargl\"}],\"scatterpolar\":[{\"marker\":{\"colorbar\":{\"outlinewidth\":0,\"ticks\":\"\"}},\"type\":\"scatterpolar\"}],\"scatter\":[{\"fillpattern\":{\"fillmode\":\"overlay\",\"size\":10,\"solidity\":0.2},\"type\":\"scatter\"}],\"scatterternary\":[{\"marker\":{\"colorbar\":{\"outlinewidth\":0,\"ticks\":\"\"}},\"type\":\"scatterternary\"}],\"surface\":[{\"colorbar\":{\"outlinewidth\":0,\"ticks\":\"\"},\"colorscale\":[[0.0,\"#0d0887\"],[0.1111111111111111,\"#46039f\"],[0.2222222222222222,\"#7201a8\"],[0.3333333333333333,\"#9c179e\"],[0.4444444444444444,\"#bd3786\"],[0.5555555555555556,\"#d8576b\"],[0.6666666666666666,\"#ed7953\"],[0.7777777777777778,\"#fb9f3a\"],[0.8888888888888888,\"#fdca26\"],[1.0,\"#f0f921\"]],\"type\":\"surface\"}],\"table\":[{\"cells\":{\"fill\":{\"color\":\"#EBF0F8\"},\"line\":{\"color\":\"white\"}},\"header\":{\"fill\":{\"color\":\"#C8D4E3\"},\"line\":{\"color\":\"white\"}},\"type\":\"table\"}]},\"layout\":{\"annotationdefaults\":{\"arrowcolor\":\"#2a3f5f\",\"arrowhead\":0,\"arrowwidth\":1},\"autotypenumbers\":\"strict\",\"coloraxis\":{\"colorbar\":{\"outlinewidth\":0,\"ticks\":\"\"}},\"colorscale\":{\"diverging\":[[0,\"#8e0152\"],[0.1,\"#c51b7d\"],[0.2,\"#de77ae\"],[0.3,\"#f1b6da\"],[0.4,\"#fde0ef\"],[0.5,\"#f7f7f7\"],[0.6,\"#e6f5d0\"],[0.7,\"#b8e186\"],[0.8,\"#7fbc41\"],[0.9,\"#4d9221\"],[1,\"#276419\"]],\"sequential\":[[0.0,\"#0d0887\"],[0.1111111111111111,\"#46039f\"],[0.2222222222222222,\"#7201a8\"],[0.3333333333333333,\"#9c179e\"],[0.4444444444444444,\"#bd3786\"],[0.5555555555555556,\"#d8576b\"],[0.6666666666666666,\"#ed7953\"],[0.7777777777777778,\"#fb9f3a\"],[0.8888888888888888,\"#fdca26\"],[1.0,\"#f0f921\"]],\"sequentialminus\":[[0.0,\"#0d0887\"],[0.1111111111111111,\"#46039f\"],[0.2222222222222222,\"#7201a8\"],[0.3333333333333333,\"#9c179e\"],[0.4444444444444444,\"#bd3786\"],[0.5555555555555556,\"#d8576b\"],[0.6666666666666666,\"#ed7953\"],[0.7777777777777778,\"#fb9f3a\"],[0.8888888888888888,\"#fdca26\"],[1.0,\"#f0f921\"]]},\"colorway\":[\"#636efa\",\"#EF553B\",\"#00cc96\",\"#ab63fa\",\"#FFA15A\",\"#19d3f3\",\"#FF6692\",\"#B6E880\",\"#FF97FF\",\"#FECB52\"],\"font\":{\"color\":\"#2a3f5f\"},\"geo\":{\"bgcolor\":\"white\",\"lakecolor\":\"white\",\"landcolor\":\"#E5ECF6\",\"showlakes\":true,\"showland\":true,\"subunitcolor\":\"white\"},\"hoverlabel\":{\"align\":\"left\"},\"hovermode\":\"closest\",\"mapbox\":{\"style\":\"light\"},\"paper_bgcolor\":\"white\",\"plot_bgcolor\":\"#E5ECF6\",\"polar\":{\"angularaxis\":{\"gridcolor\":\"white\",\"linecolor\":\"white\",\"ticks\":\"\"},\"bgcolor\":\"#E5ECF6\",\"radialaxis\":{\"gridcolor\":\"white\",\"linecolor\":\"white\",\"ticks\":\"\"}},\"scene\":{\"xaxis\":{\"backgroundcolor\":\"#E5ECF6\",\"gridcolor\":\"white\",\"gridwidth\":2,\"linecolor\":\"white\",\"showbackground\":true,\"ticks\":\"\",\"zerolinecolor\":\"white\"},\"yaxis\":{\"backgroundcolor\":\"#E5ECF6\",\"gridcolor\":\"white\",\"gridwidth\":2,\"linecolor\":\"white\",\"showbackground\":true,\"ticks\":\"\",\"zerolinecolor\":\"white\"},\"zaxis\":{\"backgroundcolor\":\"#E5ECF6\",\"gridcolor\":\"white\",\"gridwidth\":2,\"linecolor\":\"white\",\"showbackground\":true,\"ticks\":\"\",\"zerolinecolor\":\"white\"}},\"shapedefaults\":{\"line\":{\"color\":\"#2a3f5f\"}},\"ternary\":{\"aaxis\":{\"gridcolor\":\"white\",\"linecolor\":\"white\",\"ticks\":\"\"},\"baxis\":{\"gridcolor\":\"white\",\"linecolor\":\"white\",\"ticks\":\"\"},\"bgcolor\":\"#E5ECF6\",\"caxis\":{\"gridcolor\":\"white\",\"linecolor\":\"white\",\"ticks\":\"\"}},\"title\":{\"x\":0.05},\"xaxis\":{\"automargin\":true,\"gridcolor\":\"white\",\"linecolor\":\"white\",\"ticks\":\"\",\"title\":{\"standoff\":15},\"zerolinecolor\":\"white\",\"zerolinewidth\":2},\"yaxis\":{\"automargin\":true,\"gridcolor\":\"white\",\"linecolor\":\"white\",\"ticks\":\"\",\"title\":{\"standoff\":15},\"zerolinecolor\":\"white\",\"zerolinewidth\":2}}},\"title\":{\"font\":{\"color\":\"#4D5663\"}},\"xaxis\":{\"gridcolor\":\"#E1E5ED\",\"showgrid\":true,\"tickfont\":{\"color\":\"#4D5663\"},\"title\":{\"font\":{\"color\":\"#4D5663\"},\"text\":\"\"},\"zerolinecolor\":\"#E1E5ED\"},\"yaxis\":{\"gridcolor\":\"#E1E5ED\",\"showgrid\":true,\"tickfont\":{\"color\":\"#4D5663\"},\"title\":{\"font\":{\"color\":\"#4D5663\"},\"text\":\"\"},\"zerolinecolor\":\"#E1E5ED\"}},                        {\"showLink\": true, \"linkText\": \"Export to plot.ly\", \"plotlyServerURL\": \"https://plot.ly\", \"responsive\": true}                    ).then(function(){\n",
       "                            \n",
       "var gd = document.getElementById('5f24aea1-d883-4613-ad42-f638a5dab2c7');\n",
       "var x = new MutationObserver(function (mutations, observer) {{\n",
       "        var display = window.getComputedStyle(gd).display;\n",
       "        if (!display || display === 'none') {{\n",
       "            console.log([gd, 'removed!']);\n",
       "            Plotly.purge(gd);\n",
       "            observer.disconnect();\n",
       "        }}\n",
       "}});\n",
       "\n",
       "// Listen for the removal of the full notebook cells\n",
       "var notebookContainer = gd.closest('#notebook-container');\n",
       "if (notebookContainer) {{\n",
       "    x.observe(notebookContainer, {childList: true});\n",
       "}}\n",
       "\n",
       "// Listen for the clearing of the current output cell\n",
       "var outputEl = gd.closest('.output');\n",
       "if (outputEl) {{\n",
       "    x.observe(outputEl, {childList: true});\n",
       "}}\n",
       "\n",
       "                        })                };                });            </script>        </div>"
      ]
     },
     "metadata": {},
     "output_type": "display_data"
    }
   ],
   "source": [
    "df.iplot(kind='bubble', x='A',y='B', size='C')"
   ]
  },
  {
   "cell_type": "code",
   "execution_count": 31,
   "id": "e19b116f",
   "metadata": {
    "ExecuteTime": {
     "end_time": "2023-03-25T09:01:09.775090Z",
     "start_time": "2023-03-25T09:01:08.909274Z"
    }
   },
   "outputs": [
    {
     "data": {
      "application/vnd.plotly.v1+json": {
       "config": {
        "linkText": "Export to plot.ly",
        "plotlyServerURL": "https://plot.ly",
        "showLink": true
       },
       "data": [
        {
         "histfunc": "count",
         "histnorm": "",
         "marker": {
          "color": "rgba(255, 153, 51, 1.0)",
          "line": {
           "color": "#4D5663",
           "width": 1.3
          }
         },
         "name": "A",
         "nbinsx": 10,
         "opacity": 0.8,
         "orientation": "v",
         "type": "histogram",
         "x": [
          -0.6185864777596235,
          -0.09549749996174815,
          0.7735155947714842,
          -1.9544208522009834,
          0.9321062993468145,
          0.36391957912219924,
          1.0222517106252103,
          0.21428349229504423,
          0.30155723927183736,
          -1.7737081556426644,
          -0.8813197097782401,
          -1.1833788622984094,
          1.0921030137803465,
          0.47150727733146436,
          -1.6539348028518632,
          -0.28566133680357586,
          1.6103067819704,
          -1.8417392372265438,
          0.039193584163302084,
          -0.6695950365093897,
          -0.7291227819448418,
          0.17384486693441867,
          1.5625067918950442,
          -2.118320960980159,
          -0.6478092575126989,
          -1.3354358976613383,
          -0.11900269907027594,
          1.8690436615397525,
          0.3602185862801853,
          0.954444106941083,
          -1.3426442266410488,
          -0.5861974838373313,
          -1.2776509648542993,
          -0.17202929225908314,
          -0.5899977906595941,
          1.3660735045819095,
          -1.096820738909289,
          0.09159655138384042,
          0.8669297839834728,
          0.11618036291092862,
          -0.1306793735655419,
          -1.409084507446096,
          -1.1458344122244621,
          -0.20695860339653058,
          -1.037860881063523,
          0.01958383190177941,
          1.877231153321232,
          -0.4861599541240264,
          0.2256221614426137,
          1.0191400317688684,
          -1.7994981450956142,
          -0.449892724101533,
          -1.7060329759096715,
          -0.7097216977459914,
          -0.8825995557308481,
          0.33962848154734276,
          0.20113285388190974,
          0.46035911247198713,
          0.7091683111522437,
          -1.2284387339475709,
          0.11445375532849965,
          -0.11410251539813779,
          -0.433581463941365,
          -0.1506692378419643,
          0.33482007756007925,
          -1.5145111918515755,
          0.570038479119206,
          -1.2112103535764067,
          -0.4029111539814335,
          -0.19348347413316772,
          -0.18662039060185484,
          -0.4020159349141075,
          -1.104221400696765,
          -0.7881037638705021,
          0.9624880966553944,
          0.8370910133274343,
          0.08064775753280434,
          0.4529394450193887,
          0.8144227765728742,
          -0.4139266273079406,
          -0.16045457024510903,
          0.11560583805022592,
          0.5018750969144258,
          -1.05549272187284,
          0.6646897400226129,
          0.7252518633264401,
          -0.8634744428274881,
          0.14526679817629318,
          0.5642348261932901,
          -0.5739339256594503,
          0.15846871036688384,
          0.5303216539889294,
          -0.4638919188417855,
          -2.653303499100419,
          0.30810942245492506,
          1.337533737637027,
          1.0885583937029353,
          -1.6447907309114553,
          0.6693410844821837,
          -0.023858538897312875
         ],
         "xaxis": "x",
         "yaxis": "y"
        },
        {
         "line": {
          "color": "rgba(128, 128, 128, 1.0)",
          "dash": "solid",
          "shape": "linear",
          "width": 1.3
         },
         "marker": {
          "size": 2,
          "symbol": "circle"
         },
         "mode": "markers",
         "name": "A",
         "text": "",
         "type": "scatter",
         "x": [
          -0.4592523817006714,
          1.614960731672855,
          -1.4206426925982674,
          1.1551454541846038,
          -0.34613058552962517,
          1.6624230716641488,
          -0.11554649598016219,
          -0.01851161969972325,
          0.09984663041486533,
          -2.043102167532454,
          -1.478451948264321,
          -0.2788843499486517,
          -0.1497492795430963,
          1.9533168820677445,
          -0.10989230038135865,
          0.31344790900193625,
          0.08678752237308349,
          -0.3990447395439932,
          -1.4424816562369789,
          -0.028981252459112657,
          -0.4160821900068768,
          -0.9024826500293118,
          -0.5208567006043135,
          0.37071150697915956,
          0.29340762940465925,
          -0.15303788800844492,
          -1.7013013838151183,
          -2.1032089257065056,
          0.01803007769576685,
          0.774085466469011,
          -0.0130218043338703,
          0.7479391896322369,
          0.7318773540406959,
          -1.800944110150754,
          1.4099248117758916,
          -1.5325103771876123,
          0.5782922057046384,
          0.3053398932705239,
          -0.06430529590814345,
          1.0236623980295185,
          0.6914789499794927,
          0.7371810656811424,
          2.606242974469369,
          -1.5007673763044456,
          -1.0420156920821377,
          0.046743919591023995,
          1.3154764187085386,
          -0.18591517662231646,
          0.7578452017067829,
          -1.1201103682918108,
          -1.4809656473238406,
          -1.932290152656959,
          0.5687456244608741,
          -2.183122855649209,
          -0.18703771863844015,
          0.38248194212075454,
          -1.4501529065420269,
          1.0649615189495414,
          -0.44540408458769665,
          -0.5991301447361154,
          0.608703902269564,
          0.4058260851185324,
          0.457400126610244,
          0.5464347317371752,
          -0.2577028738771836,
          -0.6222900815300759,
          0.04461153224918688,
          -2.447018762098259,
          -0.23888100490859634,
          0.08761509395317087,
          1.623124602304495,
          1.1845787037770144,
          0.5492856988758372,
          1.130595322987083,
          -1.8840243529998721,
          0.18955829582691278,
          1.6839930239683714,
          0.5334500493016082,
          1.8492431165364005,
          0.4549707177333402,
          0.6697077146222054,
          0.4085483537015883,
          -0.5082199635442869,
          0.3448252142610793,
          -0.9833076650745944,
          0.2228561564482779,
          1.314600834470803,
          0.5969614245184819,
          0.5615669274826204,
          -0.03580808061129372,
          0.2825263823615819,
          -2.104980414657762,
          -1.8480485079071858,
          -1.2798589824928985,
          -0.4685176982797968,
          1.3615871560013324,
          0.7947295589257131,
          -1.018205327768071,
          0.6838015779839137,
          -0.445118498396265
         ],
         "xaxis": "x2",
         "y": [
          -0.6185864777596235,
          -0.09549749996174815,
          0.7735155947714842,
          -1.9544208522009834,
          0.9321062993468145,
          0.36391957912219924,
          1.0222517106252103,
          0.21428349229504423,
          0.30155723927183736,
          -1.7737081556426644,
          -0.8813197097782401,
          -1.1833788622984094,
          1.0921030137803465,
          0.47150727733146436,
          -1.6539348028518632,
          -0.28566133680357586,
          1.6103067819704,
          -1.8417392372265438,
          0.039193584163302084,
          -0.6695950365093897,
          -0.7291227819448418,
          0.17384486693441867,
          1.5625067918950442,
          -2.118320960980159,
          -0.6478092575126989,
          -1.3354358976613383,
          -0.11900269907027594,
          1.8690436615397525,
          0.3602185862801853,
          0.954444106941083,
          -1.3426442266410488,
          -0.5861974838373313,
          -1.2776509648542993,
          -0.17202929225908314,
          -0.5899977906595941,
          1.3660735045819095,
          -1.096820738909289,
          0.09159655138384042,
          0.8669297839834728,
          0.11618036291092862,
          -0.1306793735655419,
          -1.409084507446096,
          -1.1458344122244621,
          -0.20695860339653058,
          -1.037860881063523,
          0.01958383190177941,
          1.877231153321232,
          -0.4861599541240264,
          0.2256221614426137,
          1.0191400317688684,
          -1.7994981450956142,
          -0.449892724101533,
          -1.7060329759096715,
          -0.7097216977459914,
          -0.8825995557308481,
          0.33962848154734276,
          0.20113285388190974,
          0.46035911247198713,
          0.7091683111522437,
          -1.2284387339475709,
          0.11445375532849965,
          -0.11410251539813779,
          -0.433581463941365,
          -0.1506692378419643,
          0.33482007756007925,
          -1.5145111918515755,
          0.570038479119206,
          -1.2112103535764067,
          -0.4029111539814335,
          -0.19348347413316772,
          -0.18662039060185484,
          -0.4020159349141075,
          -1.104221400696765,
          -0.7881037638705021,
          0.9624880966553944,
          0.8370910133274343,
          0.08064775753280434,
          0.4529394450193887,
          0.8144227765728742,
          -0.4139266273079406,
          -0.16045457024510903,
          0.11560583805022592,
          0.5018750969144258,
          -1.05549272187284,
          0.6646897400226129,
          0.7252518633264401,
          -0.8634744428274881,
          0.14526679817629318,
          0.5642348261932901,
          -0.5739339256594503,
          0.15846871036688384,
          0.5303216539889294,
          -0.4638919188417855,
          -2.653303499100419,
          0.30810942245492506,
          1.337533737637027,
          1.0885583937029353,
          -1.6447907309114553,
          0.6693410844821837,
          -0.023858538897312875
         ],
         "yaxis": "y2"
        },
        {
         "line": {
          "color": "rgba(128, 128, 128, 1.0)",
          "dash": "solid",
          "shape": "linear",
          "width": 1.3
         },
         "marker": {
          "size": 2,
          "symbol": "circle"
         },
         "mode": "markers",
         "name": "A",
         "text": "",
         "type": "scatter",
         "x": [
          -0.8421603506766187,
          -0.9706041899799989,
          0.6832531168715341,
          1.6468678884740529,
          -0.16568135375708265,
          0.6293779960362839,
          1.2922687753064812,
          -0.09669053752515908,
          0.758570054065179,
          -0.8839507721828632,
          1.2280342442807675,
          -0.4628807989882697,
          -0.7161165844696878,
          1.4464843188409209,
          1.4629995097962403,
          -0.6286919968925113,
          0.5498266948912985,
          0.46202528676540383,
          -1.5968510028160237,
          1.6849093652971419,
          1.3184842391473701,
          1.7523413485734658,
          1.1145417017973525,
          0.8238061796830247,
          -0.11673079421807615,
          -0.9431413499758955,
          -0.6661012696103875,
          1.59665769705926,
          -1.4418095782645222,
          -0.028825792028261146,
          0.8846910659012178,
          1.3445888166417854,
          0.831313865520293,
          0.8984402570930786,
          0.9547597163223918,
          0.7243675719745242,
          -0.8504776604197904,
          0.7231445379854539,
          0.2122902086328843,
          -0.6319829696360213,
          0.8116987479536433,
          0.5663356880650702,
          -1.4081827739065174,
          1.3257080152455498,
          -0.35341041248399896,
          0.5986991170484928,
          -1.601105994725186,
          0.4510025063777082,
          -1.843962988505521,
          -0.6175567323014791,
          -0.46874922145868564,
          0.8017055728270843,
          0.9295789737059647,
          0.5769158548612651,
          0.8241325254974661,
          -1.3989811469531985,
          -0.1737328629106375,
          -1.1120987796057764,
          0.08397943697541344,
          0.41450385508002524,
          0.37813446451759153,
          0.5637465086282746,
          0.23448459891588502,
          -0.646152213425436,
          0.6888265843952968,
          1.1773248338495332,
          -2.366822749360234,
          2.5593268473776716,
          -0.8337284202472874,
          -0.6349992892264821,
          -1.1108274470015802,
          -0.5504924823973055,
          -0.5166790104444628,
          -0.35967398108001764,
          0.03304142061605584,
          -0.9953569079540042,
          -0.34225235175776236,
          0.05415196437471269,
          1.4312114089526344,
          -0.06819439128707315,
          0.9337859534275348,
          -0.9979806075142508,
          2.5153526996216797,
          -0.9202468939840021,
          -0.5645653682586875,
          -0.41454134423968747,
          -0.37516634580729047,
          -1.0212328426549688,
          -1.462300513745385,
          -1.767508363123518,
          -0.40178821637522183,
          -0.17122260507528686,
          0.4352737343905665,
          -0.01868513096343089,
          1.0548725514811137,
          -0.3919034473977661,
          0.08727005314804788,
          1.5252750004784736,
          1.2406486221739632,
          -1.5894052324070254
         ],
         "xaxis": "x3",
         "y": [
          -0.6185864777596235,
          -0.09549749996174815,
          0.7735155947714842,
          -1.9544208522009834,
          0.9321062993468145,
          0.36391957912219924,
          1.0222517106252103,
          0.21428349229504423,
          0.30155723927183736,
          -1.7737081556426644,
          -0.8813197097782401,
          -1.1833788622984094,
          1.0921030137803465,
          0.47150727733146436,
          -1.6539348028518632,
          -0.28566133680357586,
          1.6103067819704,
          -1.8417392372265438,
          0.039193584163302084,
          -0.6695950365093897,
          -0.7291227819448418,
          0.17384486693441867,
          1.5625067918950442,
          -2.118320960980159,
          -0.6478092575126989,
          -1.3354358976613383,
          -0.11900269907027594,
          1.8690436615397525,
          0.3602185862801853,
          0.954444106941083,
          -1.3426442266410488,
          -0.5861974838373313,
          -1.2776509648542993,
          -0.17202929225908314,
          -0.5899977906595941,
          1.3660735045819095,
          -1.096820738909289,
          0.09159655138384042,
          0.8669297839834728,
          0.11618036291092862,
          -0.1306793735655419,
          -1.409084507446096,
          -1.1458344122244621,
          -0.20695860339653058,
          -1.037860881063523,
          0.01958383190177941,
          1.877231153321232,
          -0.4861599541240264,
          0.2256221614426137,
          1.0191400317688684,
          -1.7994981450956142,
          -0.449892724101533,
          -1.7060329759096715,
          -0.7097216977459914,
          -0.8825995557308481,
          0.33962848154734276,
          0.20113285388190974,
          0.46035911247198713,
          0.7091683111522437,
          -1.2284387339475709,
          0.11445375532849965,
          -0.11410251539813779,
          -0.433581463941365,
          -0.1506692378419643,
          0.33482007756007925,
          -1.5145111918515755,
          0.570038479119206,
          -1.2112103535764067,
          -0.4029111539814335,
          -0.19348347413316772,
          -0.18662039060185484,
          -0.4020159349141075,
          -1.104221400696765,
          -0.7881037638705021,
          0.9624880966553944,
          0.8370910133274343,
          0.08064775753280434,
          0.4529394450193887,
          0.8144227765728742,
          -0.4139266273079406,
          -0.16045457024510903,
          0.11560583805022592,
          0.5018750969144258,
          -1.05549272187284,
          0.6646897400226129,
          0.7252518633264401,
          -0.8634744428274881,
          0.14526679817629318,
          0.5642348261932901,
          -0.5739339256594503,
          0.15846871036688384,
          0.5303216539889294,
          -0.4638919188417855,
          -2.653303499100419,
          0.30810942245492506,
          1.337533737637027,
          1.0885583937029353,
          -1.6447907309114553,
          0.6693410844821837,
          -0.023858538897312875
         ],
         "yaxis": "y3"
        },
        {
         "line": {
          "color": "rgba(128, 128, 128, 1.0)",
          "dash": "solid",
          "shape": "linear",
          "width": 1.3
         },
         "marker": {
          "size": 2,
          "symbol": "circle"
         },
         "mode": "markers",
         "name": "A",
         "text": "",
         "type": "scatter",
         "x": [
          0.5126109428890469,
          1.4892272058537255,
          -0.06466481511960792,
          0.807094467503425,
          0.09912812177445302,
          0.0037604224907197346,
          1.7881832836634417,
          1.4373731417175712,
          -0.49032218019714713,
          0.7844086874638536,
          -0.9135354119307758,
          0.5083954666397061,
          -3.1349339074281404,
          -2.21207508186638,
          0.4447330266031348,
          0.18787135141075115,
          0.14751055603017138,
          -1.0925191742194862,
          -1.420182643360601,
          -2.6950447421847166,
          -1.1120408459566193,
          -1.5119946162620084,
          0.21487814882806078,
          -0.5778547810602227,
          -0.6157290651613634,
          -0.5141466764562026,
          -1.5873889037285451,
          -0.3247674515862568,
          1.8465745931558841,
          0.3717136751793924,
          -0.0944745193772145,
          -0.7256893345692426,
          0.6329911919873296,
          0.8432331721074044,
          0.21506185326754326,
          -0.3946349840372016,
          1.0164983176266524,
          0.2707980457033641,
          0.43401711765144985,
          -0.7514870419734236,
          1.5967967931952454,
          -0.5192006010979153,
          -0.16636177789934467,
          1.063769112378764,
          0.04824552637562311,
          -0.30927218647456906,
          -0.8455324146613583,
          -1.292727257811507,
          0.8011477929185559,
          -0.35765870279142736,
          -0.1801085848973175,
          -0.5179106531571229,
          0.20678839468290003,
          0.21217097423294343,
          -0.5197920666799181,
          1.5452085633784096,
          0.8164027682792973,
          1.7211677024187413,
          -0.056769339959388786,
          -1.441754323154373,
          -2.1037029742663806,
          0.784787163635707,
          -0.9254897742956887,
          -0.30742465476637876,
          -0.795795144089506,
          -0.20367749333363674,
          -0.44097727181532287,
          1.1106618413964617,
          -1.4799913193064362,
          0.820803062794328,
          -0.885579677922769,
          0.7746145957497992,
          -0.584185617026759,
          0.44814214424737153,
          0.7327582698609134,
          -0.42593933722798827,
          0.5025705667376403,
          -1.94052132088566,
          1.151791010936278,
          0.18333509384631916,
          -0.8832256403000278,
          1.4734051005315147,
          2.1904546051168485,
          0.9807512609165957,
          -1.121059250174489,
          0.22222861053794152,
          -0.5101600824000081,
          0.0960439749329373,
          -0.9434158601417526,
          0.2280746660646097,
          -0.6199711206314074,
          -0.19296185060244755,
          -0.7950160586572694,
          -0.650755287984872,
          0.10002357639733761,
          -0.399410590339489,
          0.4257795860026511,
          -0.9861302587332238,
          1.2273480606955298,
          -0.45426223575550595
         ],
         "xaxis": "x4",
         "y": [
          -0.6185864777596235,
          -0.09549749996174815,
          0.7735155947714842,
          -1.9544208522009834,
          0.9321062993468145,
          0.36391957912219924,
          1.0222517106252103,
          0.21428349229504423,
          0.30155723927183736,
          -1.7737081556426644,
          -0.8813197097782401,
          -1.1833788622984094,
          1.0921030137803465,
          0.47150727733146436,
          -1.6539348028518632,
          -0.28566133680357586,
          1.6103067819704,
          -1.8417392372265438,
          0.039193584163302084,
          -0.6695950365093897,
          -0.7291227819448418,
          0.17384486693441867,
          1.5625067918950442,
          -2.118320960980159,
          -0.6478092575126989,
          -1.3354358976613383,
          -0.11900269907027594,
          1.8690436615397525,
          0.3602185862801853,
          0.954444106941083,
          -1.3426442266410488,
          -0.5861974838373313,
          -1.2776509648542993,
          -0.17202929225908314,
          -0.5899977906595941,
          1.3660735045819095,
          -1.096820738909289,
          0.09159655138384042,
          0.8669297839834728,
          0.11618036291092862,
          -0.1306793735655419,
          -1.409084507446096,
          -1.1458344122244621,
          -0.20695860339653058,
          -1.037860881063523,
          0.01958383190177941,
          1.877231153321232,
          -0.4861599541240264,
          0.2256221614426137,
          1.0191400317688684,
          -1.7994981450956142,
          -0.449892724101533,
          -1.7060329759096715,
          -0.7097216977459914,
          -0.8825995557308481,
          0.33962848154734276,
          0.20113285388190974,
          0.46035911247198713,
          0.7091683111522437,
          -1.2284387339475709,
          0.11445375532849965,
          -0.11410251539813779,
          -0.433581463941365,
          -0.1506692378419643,
          0.33482007756007925,
          -1.5145111918515755,
          0.570038479119206,
          -1.2112103535764067,
          -0.4029111539814335,
          -0.19348347413316772,
          -0.18662039060185484,
          -0.4020159349141075,
          -1.104221400696765,
          -0.7881037638705021,
          0.9624880966553944,
          0.8370910133274343,
          0.08064775753280434,
          0.4529394450193887,
          0.8144227765728742,
          -0.4139266273079406,
          -0.16045457024510903,
          0.11560583805022592,
          0.5018750969144258,
          -1.05549272187284,
          0.6646897400226129,
          0.7252518633264401,
          -0.8634744428274881,
          0.14526679817629318,
          0.5642348261932901,
          -0.5739339256594503,
          0.15846871036688384,
          0.5303216539889294,
          -0.4638919188417855,
          -2.653303499100419,
          0.30810942245492506,
          1.337533737637027,
          1.0885583937029353,
          -1.6447907309114553,
          0.6693410844821837,
          -0.023858538897312875
         ],
         "yaxis": "y4"
        },
        {
         "line": {
          "color": "rgba(128, 128, 128, 1.0)",
          "dash": "solid",
          "shape": "linear",
          "width": 1.3
         },
         "marker": {
          "size": 2,
          "symbol": "circle"
         },
         "mode": "markers",
         "name": "B",
         "text": "",
         "type": "scatter",
         "x": [
          -0.6185864777596235,
          -0.09549749996174815,
          0.7735155947714842,
          -1.9544208522009834,
          0.9321062993468145,
          0.36391957912219924,
          1.0222517106252103,
          0.21428349229504423,
          0.30155723927183736,
          -1.7737081556426644,
          -0.8813197097782401,
          -1.1833788622984094,
          1.0921030137803465,
          0.47150727733146436,
          -1.6539348028518632,
          -0.28566133680357586,
          1.6103067819704,
          -1.8417392372265438,
          0.039193584163302084,
          -0.6695950365093897,
          -0.7291227819448418,
          0.17384486693441867,
          1.5625067918950442,
          -2.118320960980159,
          -0.6478092575126989,
          -1.3354358976613383,
          -0.11900269907027594,
          1.8690436615397525,
          0.3602185862801853,
          0.954444106941083,
          -1.3426442266410488,
          -0.5861974838373313,
          -1.2776509648542993,
          -0.17202929225908314,
          -0.5899977906595941,
          1.3660735045819095,
          -1.096820738909289,
          0.09159655138384042,
          0.8669297839834728,
          0.11618036291092862,
          -0.1306793735655419,
          -1.409084507446096,
          -1.1458344122244621,
          -0.20695860339653058,
          -1.037860881063523,
          0.01958383190177941,
          1.877231153321232,
          -0.4861599541240264,
          0.2256221614426137,
          1.0191400317688684,
          -1.7994981450956142,
          -0.449892724101533,
          -1.7060329759096715,
          -0.7097216977459914,
          -0.8825995557308481,
          0.33962848154734276,
          0.20113285388190974,
          0.46035911247198713,
          0.7091683111522437,
          -1.2284387339475709,
          0.11445375532849965,
          -0.11410251539813779,
          -0.433581463941365,
          -0.1506692378419643,
          0.33482007756007925,
          -1.5145111918515755,
          0.570038479119206,
          -1.2112103535764067,
          -0.4029111539814335,
          -0.19348347413316772,
          -0.18662039060185484,
          -0.4020159349141075,
          -1.104221400696765,
          -0.7881037638705021,
          0.9624880966553944,
          0.8370910133274343,
          0.08064775753280434,
          0.4529394450193887,
          0.8144227765728742,
          -0.4139266273079406,
          -0.16045457024510903,
          0.11560583805022592,
          0.5018750969144258,
          -1.05549272187284,
          0.6646897400226129,
          0.7252518633264401,
          -0.8634744428274881,
          0.14526679817629318,
          0.5642348261932901,
          -0.5739339256594503,
          0.15846871036688384,
          0.5303216539889294,
          -0.4638919188417855,
          -2.653303499100419,
          0.30810942245492506,
          1.337533737637027,
          1.0885583937029353,
          -1.6447907309114553,
          0.6693410844821837,
          -0.023858538897312875
         ],
         "xaxis": "x5",
         "y": [
          -0.4592523817006714,
          1.614960731672855,
          -1.4206426925982674,
          1.1551454541846038,
          -0.34613058552962517,
          1.6624230716641488,
          -0.11554649598016219,
          -0.01851161969972325,
          0.09984663041486533,
          -2.043102167532454,
          -1.478451948264321,
          -0.2788843499486517,
          -0.1497492795430963,
          1.9533168820677445,
          -0.10989230038135865,
          0.31344790900193625,
          0.08678752237308349,
          -0.3990447395439932,
          -1.4424816562369789,
          -0.028981252459112657,
          -0.4160821900068768,
          -0.9024826500293118,
          -0.5208567006043135,
          0.37071150697915956,
          0.29340762940465925,
          -0.15303788800844492,
          -1.7013013838151183,
          -2.1032089257065056,
          0.01803007769576685,
          0.774085466469011,
          -0.0130218043338703,
          0.7479391896322369,
          0.7318773540406959,
          -1.800944110150754,
          1.4099248117758916,
          -1.5325103771876123,
          0.5782922057046384,
          0.3053398932705239,
          -0.06430529590814345,
          1.0236623980295185,
          0.6914789499794927,
          0.7371810656811424,
          2.606242974469369,
          -1.5007673763044456,
          -1.0420156920821377,
          0.046743919591023995,
          1.3154764187085386,
          -0.18591517662231646,
          0.7578452017067829,
          -1.1201103682918108,
          -1.4809656473238406,
          -1.932290152656959,
          0.5687456244608741,
          -2.183122855649209,
          -0.18703771863844015,
          0.38248194212075454,
          -1.4501529065420269,
          1.0649615189495414,
          -0.44540408458769665,
          -0.5991301447361154,
          0.608703902269564,
          0.4058260851185324,
          0.457400126610244,
          0.5464347317371752,
          -0.2577028738771836,
          -0.6222900815300759,
          0.04461153224918688,
          -2.447018762098259,
          -0.23888100490859634,
          0.08761509395317087,
          1.623124602304495,
          1.1845787037770144,
          0.5492856988758372,
          1.130595322987083,
          -1.8840243529998721,
          0.18955829582691278,
          1.6839930239683714,
          0.5334500493016082,
          1.8492431165364005,
          0.4549707177333402,
          0.6697077146222054,
          0.4085483537015883,
          -0.5082199635442869,
          0.3448252142610793,
          -0.9833076650745944,
          0.2228561564482779,
          1.314600834470803,
          0.5969614245184819,
          0.5615669274826204,
          -0.03580808061129372,
          0.2825263823615819,
          -2.104980414657762,
          -1.8480485079071858,
          -1.2798589824928985,
          -0.4685176982797968,
          1.3615871560013324,
          0.7947295589257131,
          -1.018205327768071,
          0.6838015779839137,
          -0.445118498396265
         ],
         "yaxis": "y5"
        },
        {
         "histfunc": "count",
         "histnorm": "",
         "marker": {
          "color": "rgba(55, 128, 191, 1.0)",
          "line": {
           "color": "#4D5663",
           "width": 1.3
          }
         },
         "name": "B",
         "nbinsx": 10,
         "opacity": 0.8,
         "orientation": "v",
         "type": "histogram",
         "x": [
          -0.4592523817006714,
          1.614960731672855,
          -1.4206426925982674,
          1.1551454541846038,
          -0.34613058552962517,
          1.6624230716641488,
          -0.11554649598016219,
          -0.01851161969972325,
          0.09984663041486533,
          -2.043102167532454,
          -1.478451948264321,
          -0.2788843499486517,
          -0.1497492795430963,
          1.9533168820677445,
          -0.10989230038135865,
          0.31344790900193625,
          0.08678752237308349,
          -0.3990447395439932,
          -1.4424816562369789,
          -0.028981252459112657,
          -0.4160821900068768,
          -0.9024826500293118,
          -0.5208567006043135,
          0.37071150697915956,
          0.29340762940465925,
          -0.15303788800844492,
          -1.7013013838151183,
          -2.1032089257065056,
          0.01803007769576685,
          0.774085466469011,
          -0.0130218043338703,
          0.7479391896322369,
          0.7318773540406959,
          -1.800944110150754,
          1.4099248117758916,
          -1.5325103771876123,
          0.5782922057046384,
          0.3053398932705239,
          -0.06430529590814345,
          1.0236623980295185,
          0.6914789499794927,
          0.7371810656811424,
          2.606242974469369,
          -1.5007673763044456,
          -1.0420156920821377,
          0.046743919591023995,
          1.3154764187085386,
          -0.18591517662231646,
          0.7578452017067829,
          -1.1201103682918108,
          -1.4809656473238406,
          -1.932290152656959,
          0.5687456244608741,
          -2.183122855649209,
          -0.18703771863844015,
          0.38248194212075454,
          -1.4501529065420269,
          1.0649615189495414,
          -0.44540408458769665,
          -0.5991301447361154,
          0.608703902269564,
          0.4058260851185324,
          0.457400126610244,
          0.5464347317371752,
          -0.2577028738771836,
          -0.6222900815300759,
          0.04461153224918688,
          -2.447018762098259,
          -0.23888100490859634,
          0.08761509395317087,
          1.623124602304495,
          1.1845787037770144,
          0.5492856988758372,
          1.130595322987083,
          -1.8840243529998721,
          0.18955829582691278,
          1.6839930239683714,
          0.5334500493016082,
          1.8492431165364005,
          0.4549707177333402,
          0.6697077146222054,
          0.4085483537015883,
          -0.5082199635442869,
          0.3448252142610793,
          -0.9833076650745944,
          0.2228561564482779,
          1.314600834470803,
          0.5969614245184819,
          0.5615669274826204,
          -0.03580808061129372,
          0.2825263823615819,
          -2.104980414657762,
          -1.8480485079071858,
          -1.2798589824928985,
          -0.4685176982797968,
          1.3615871560013324,
          0.7947295589257131,
          -1.018205327768071,
          0.6838015779839137,
          -0.445118498396265
         ],
         "xaxis": "x6",
         "yaxis": "y6"
        },
        {
         "line": {
          "color": "rgba(128, 128, 128, 1.0)",
          "dash": "solid",
          "shape": "linear",
          "width": 1.3
         },
         "marker": {
          "size": 2,
          "symbol": "circle"
         },
         "mode": "markers",
         "name": "B",
         "text": "",
         "type": "scatter",
         "x": [
          -0.8421603506766187,
          -0.9706041899799989,
          0.6832531168715341,
          1.6468678884740529,
          -0.16568135375708265,
          0.6293779960362839,
          1.2922687753064812,
          -0.09669053752515908,
          0.758570054065179,
          -0.8839507721828632,
          1.2280342442807675,
          -0.4628807989882697,
          -0.7161165844696878,
          1.4464843188409209,
          1.4629995097962403,
          -0.6286919968925113,
          0.5498266948912985,
          0.46202528676540383,
          -1.5968510028160237,
          1.6849093652971419,
          1.3184842391473701,
          1.7523413485734658,
          1.1145417017973525,
          0.8238061796830247,
          -0.11673079421807615,
          -0.9431413499758955,
          -0.6661012696103875,
          1.59665769705926,
          -1.4418095782645222,
          -0.028825792028261146,
          0.8846910659012178,
          1.3445888166417854,
          0.831313865520293,
          0.8984402570930786,
          0.9547597163223918,
          0.7243675719745242,
          -0.8504776604197904,
          0.7231445379854539,
          0.2122902086328843,
          -0.6319829696360213,
          0.8116987479536433,
          0.5663356880650702,
          -1.4081827739065174,
          1.3257080152455498,
          -0.35341041248399896,
          0.5986991170484928,
          -1.601105994725186,
          0.4510025063777082,
          -1.843962988505521,
          -0.6175567323014791,
          -0.46874922145868564,
          0.8017055728270843,
          0.9295789737059647,
          0.5769158548612651,
          0.8241325254974661,
          -1.3989811469531985,
          -0.1737328629106375,
          -1.1120987796057764,
          0.08397943697541344,
          0.41450385508002524,
          0.37813446451759153,
          0.5637465086282746,
          0.23448459891588502,
          -0.646152213425436,
          0.6888265843952968,
          1.1773248338495332,
          -2.366822749360234,
          2.5593268473776716,
          -0.8337284202472874,
          -0.6349992892264821,
          -1.1108274470015802,
          -0.5504924823973055,
          -0.5166790104444628,
          -0.35967398108001764,
          0.03304142061605584,
          -0.9953569079540042,
          -0.34225235175776236,
          0.05415196437471269,
          1.4312114089526344,
          -0.06819439128707315,
          0.9337859534275348,
          -0.9979806075142508,
          2.5153526996216797,
          -0.9202468939840021,
          -0.5645653682586875,
          -0.41454134423968747,
          -0.37516634580729047,
          -1.0212328426549688,
          -1.462300513745385,
          -1.767508363123518,
          -0.40178821637522183,
          -0.17122260507528686,
          0.4352737343905665,
          -0.01868513096343089,
          1.0548725514811137,
          -0.3919034473977661,
          0.08727005314804788,
          1.5252750004784736,
          1.2406486221739632,
          -1.5894052324070254
         ],
         "xaxis": "x7",
         "y": [
          -0.4592523817006714,
          1.614960731672855,
          -1.4206426925982674,
          1.1551454541846038,
          -0.34613058552962517,
          1.6624230716641488,
          -0.11554649598016219,
          -0.01851161969972325,
          0.09984663041486533,
          -2.043102167532454,
          -1.478451948264321,
          -0.2788843499486517,
          -0.1497492795430963,
          1.9533168820677445,
          -0.10989230038135865,
          0.31344790900193625,
          0.08678752237308349,
          -0.3990447395439932,
          -1.4424816562369789,
          -0.028981252459112657,
          -0.4160821900068768,
          -0.9024826500293118,
          -0.5208567006043135,
          0.37071150697915956,
          0.29340762940465925,
          -0.15303788800844492,
          -1.7013013838151183,
          -2.1032089257065056,
          0.01803007769576685,
          0.774085466469011,
          -0.0130218043338703,
          0.7479391896322369,
          0.7318773540406959,
          -1.800944110150754,
          1.4099248117758916,
          -1.5325103771876123,
          0.5782922057046384,
          0.3053398932705239,
          -0.06430529590814345,
          1.0236623980295185,
          0.6914789499794927,
          0.7371810656811424,
          2.606242974469369,
          -1.5007673763044456,
          -1.0420156920821377,
          0.046743919591023995,
          1.3154764187085386,
          -0.18591517662231646,
          0.7578452017067829,
          -1.1201103682918108,
          -1.4809656473238406,
          -1.932290152656959,
          0.5687456244608741,
          -2.183122855649209,
          -0.18703771863844015,
          0.38248194212075454,
          -1.4501529065420269,
          1.0649615189495414,
          -0.44540408458769665,
          -0.5991301447361154,
          0.608703902269564,
          0.4058260851185324,
          0.457400126610244,
          0.5464347317371752,
          -0.2577028738771836,
          -0.6222900815300759,
          0.04461153224918688,
          -2.447018762098259,
          -0.23888100490859634,
          0.08761509395317087,
          1.623124602304495,
          1.1845787037770144,
          0.5492856988758372,
          1.130595322987083,
          -1.8840243529998721,
          0.18955829582691278,
          1.6839930239683714,
          0.5334500493016082,
          1.8492431165364005,
          0.4549707177333402,
          0.6697077146222054,
          0.4085483537015883,
          -0.5082199635442869,
          0.3448252142610793,
          -0.9833076650745944,
          0.2228561564482779,
          1.314600834470803,
          0.5969614245184819,
          0.5615669274826204,
          -0.03580808061129372,
          0.2825263823615819,
          -2.104980414657762,
          -1.8480485079071858,
          -1.2798589824928985,
          -0.4685176982797968,
          1.3615871560013324,
          0.7947295589257131,
          -1.018205327768071,
          0.6838015779839137,
          -0.445118498396265
         ],
         "yaxis": "y7"
        },
        {
         "line": {
          "color": "rgba(128, 128, 128, 1.0)",
          "dash": "solid",
          "shape": "linear",
          "width": 1.3
         },
         "marker": {
          "size": 2,
          "symbol": "circle"
         },
         "mode": "markers",
         "name": "B",
         "text": "",
         "type": "scatter",
         "x": [
          0.5126109428890469,
          1.4892272058537255,
          -0.06466481511960792,
          0.807094467503425,
          0.09912812177445302,
          0.0037604224907197346,
          1.7881832836634417,
          1.4373731417175712,
          -0.49032218019714713,
          0.7844086874638536,
          -0.9135354119307758,
          0.5083954666397061,
          -3.1349339074281404,
          -2.21207508186638,
          0.4447330266031348,
          0.18787135141075115,
          0.14751055603017138,
          -1.0925191742194862,
          -1.420182643360601,
          -2.6950447421847166,
          -1.1120408459566193,
          -1.5119946162620084,
          0.21487814882806078,
          -0.5778547810602227,
          -0.6157290651613634,
          -0.5141466764562026,
          -1.5873889037285451,
          -0.3247674515862568,
          1.8465745931558841,
          0.3717136751793924,
          -0.0944745193772145,
          -0.7256893345692426,
          0.6329911919873296,
          0.8432331721074044,
          0.21506185326754326,
          -0.3946349840372016,
          1.0164983176266524,
          0.2707980457033641,
          0.43401711765144985,
          -0.7514870419734236,
          1.5967967931952454,
          -0.5192006010979153,
          -0.16636177789934467,
          1.063769112378764,
          0.04824552637562311,
          -0.30927218647456906,
          -0.8455324146613583,
          -1.292727257811507,
          0.8011477929185559,
          -0.35765870279142736,
          -0.1801085848973175,
          -0.5179106531571229,
          0.20678839468290003,
          0.21217097423294343,
          -0.5197920666799181,
          1.5452085633784096,
          0.8164027682792973,
          1.7211677024187413,
          -0.056769339959388786,
          -1.441754323154373,
          -2.1037029742663806,
          0.784787163635707,
          -0.9254897742956887,
          -0.30742465476637876,
          -0.795795144089506,
          -0.20367749333363674,
          -0.44097727181532287,
          1.1106618413964617,
          -1.4799913193064362,
          0.820803062794328,
          -0.885579677922769,
          0.7746145957497992,
          -0.584185617026759,
          0.44814214424737153,
          0.7327582698609134,
          -0.42593933722798827,
          0.5025705667376403,
          -1.94052132088566,
          1.151791010936278,
          0.18333509384631916,
          -0.8832256403000278,
          1.4734051005315147,
          2.1904546051168485,
          0.9807512609165957,
          -1.121059250174489,
          0.22222861053794152,
          -0.5101600824000081,
          0.0960439749329373,
          -0.9434158601417526,
          0.2280746660646097,
          -0.6199711206314074,
          -0.19296185060244755,
          -0.7950160586572694,
          -0.650755287984872,
          0.10002357639733761,
          -0.399410590339489,
          0.4257795860026511,
          -0.9861302587332238,
          1.2273480606955298,
          -0.45426223575550595
         ],
         "xaxis": "x8",
         "y": [
          -0.4592523817006714,
          1.614960731672855,
          -1.4206426925982674,
          1.1551454541846038,
          -0.34613058552962517,
          1.6624230716641488,
          -0.11554649598016219,
          -0.01851161969972325,
          0.09984663041486533,
          -2.043102167532454,
          -1.478451948264321,
          -0.2788843499486517,
          -0.1497492795430963,
          1.9533168820677445,
          -0.10989230038135865,
          0.31344790900193625,
          0.08678752237308349,
          -0.3990447395439932,
          -1.4424816562369789,
          -0.028981252459112657,
          -0.4160821900068768,
          -0.9024826500293118,
          -0.5208567006043135,
          0.37071150697915956,
          0.29340762940465925,
          -0.15303788800844492,
          -1.7013013838151183,
          -2.1032089257065056,
          0.01803007769576685,
          0.774085466469011,
          -0.0130218043338703,
          0.7479391896322369,
          0.7318773540406959,
          -1.800944110150754,
          1.4099248117758916,
          -1.5325103771876123,
          0.5782922057046384,
          0.3053398932705239,
          -0.06430529590814345,
          1.0236623980295185,
          0.6914789499794927,
          0.7371810656811424,
          2.606242974469369,
          -1.5007673763044456,
          -1.0420156920821377,
          0.046743919591023995,
          1.3154764187085386,
          -0.18591517662231646,
          0.7578452017067829,
          -1.1201103682918108,
          -1.4809656473238406,
          -1.932290152656959,
          0.5687456244608741,
          -2.183122855649209,
          -0.18703771863844015,
          0.38248194212075454,
          -1.4501529065420269,
          1.0649615189495414,
          -0.44540408458769665,
          -0.5991301447361154,
          0.608703902269564,
          0.4058260851185324,
          0.457400126610244,
          0.5464347317371752,
          -0.2577028738771836,
          -0.6222900815300759,
          0.04461153224918688,
          -2.447018762098259,
          -0.23888100490859634,
          0.08761509395317087,
          1.623124602304495,
          1.1845787037770144,
          0.5492856988758372,
          1.130595322987083,
          -1.8840243529998721,
          0.18955829582691278,
          1.6839930239683714,
          0.5334500493016082,
          1.8492431165364005,
          0.4549707177333402,
          0.6697077146222054,
          0.4085483537015883,
          -0.5082199635442869,
          0.3448252142610793,
          -0.9833076650745944,
          0.2228561564482779,
          1.314600834470803,
          0.5969614245184819,
          0.5615669274826204,
          -0.03580808061129372,
          0.2825263823615819,
          -2.104980414657762,
          -1.8480485079071858,
          -1.2798589824928985,
          -0.4685176982797968,
          1.3615871560013324,
          0.7947295589257131,
          -1.018205327768071,
          0.6838015779839137,
          -0.445118498396265
         ],
         "yaxis": "y8"
        },
        {
         "line": {
          "color": "rgba(128, 128, 128, 1.0)",
          "dash": "solid",
          "shape": "linear",
          "width": 1.3
         },
         "marker": {
          "size": 2,
          "symbol": "circle"
         },
         "mode": "markers",
         "name": "C",
         "text": "",
         "type": "scatter",
         "x": [
          -0.6185864777596235,
          -0.09549749996174815,
          0.7735155947714842,
          -1.9544208522009834,
          0.9321062993468145,
          0.36391957912219924,
          1.0222517106252103,
          0.21428349229504423,
          0.30155723927183736,
          -1.7737081556426644,
          -0.8813197097782401,
          -1.1833788622984094,
          1.0921030137803465,
          0.47150727733146436,
          -1.6539348028518632,
          -0.28566133680357586,
          1.6103067819704,
          -1.8417392372265438,
          0.039193584163302084,
          -0.6695950365093897,
          -0.7291227819448418,
          0.17384486693441867,
          1.5625067918950442,
          -2.118320960980159,
          -0.6478092575126989,
          -1.3354358976613383,
          -0.11900269907027594,
          1.8690436615397525,
          0.3602185862801853,
          0.954444106941083,
          -1.3426442266410488,
          -0.5861974838373313,
          -1.2776509648542993,
          -0.17202929225908314,
          -0.5899977906595941,
          1.3660735045819095,
          -1.096820738909289,
          0.09159655138384042,
          0.8669297839834728,
          0.11618036291092862,
          -0.1306793735655419,
          -1.409084507446096,
          -1.1458344122244621,
          -0.20695860339653058,
          -1.037860881063523,
          0.01958383190177941,
          1.877231153321232,
          -0.4861599541240264,
          0.2256221614426137,
          1.0191400317688684,
          -1.7994981450956142,
          -0.449892724101533,
          -1.7060329759096715,
          -0.7097216977459914,
          -0.8825995557308481,
          0.33962848154734276,
          0.20113285388190974,
          0.46035911247198713,
          0.7091683111522437,
          -1.2284387339475709,
          0.11445375532849965,
          -0.11410251539813779,
          -0.433581463941365,
          -0.1506692378419643,
          0.33482007756007925,
          -1.5145111918515755,
          0.570038479119206,
          -1.2112103535764067,
          -0.4029111539814335,
          -0.19348347413316772,
          -0.18662039060185484,
          -0.4020159349141075,
          -1.104221400696765,
          -0.7881037638705021,
          0.9624880966553944,
          0.8370910133274343,
          0.08064775753280434,
          0.4529394450193887,
          0.8144227765728742,
          -0.4139266273079406,
          -0.16045457024510903,
          0.11560583805022592,
          0.5018750969144258,
          -1.05549272187284,
          0.6646897400226129,
          0.7252518633264401,
          -0.8634744428274881,
          0.14526679817629318,
          0.5642348261932901,
          -0.5739339256594503,
          0.15846871036688384,
          0.5303216539889294,
          -0.4638919188417855,
          -2.653303499100419,
          0.30810942245492506,
          1.337533737637027,
          1.0885583937029353,
          -1.6447907309114553,
          0.6693410844821837,
          -0.023858538897312875
         ],
         "xaxis": "x9",
         "y": [
          -0.8421603506766187,
          -0.9706041899799989,
          0.6832531168715341,
          1.6468678884740529,
          -0.16568135375708265,
          0.6293779960362839,
          1.2922687753064812,
          -0.09669053752515908,
          0.758570054065179,
          -0.8839507721828632,
          1.2280342442807675,
          -0.4628807989882697,
          -0.7161165844696878,
          1.4464843188409209,
          1.4629995097962403,
          -0.6286919968925113,
          0.5498266948912985,
          0.46202528676540383,
          -1.5968510028160237,
          1.6849093652971419,
          1.3184842391473701,
          1.7523413485734658,
          1.1145417017973525,
          0.8238061796830247,
          -0.11673079421807615,
          -0.9431413499758955,
          -0.6661012696103875,
          1.59665769705926,
          -1.4418095782645222,
          -0.028825792028261146,
          0.8846910659012178,
          1.3445888166417854,
          0.831313865520293,
          0.8984402570930786,
          0.9547597163223918,
          0.7243675719745242,
          -0.8504776604197904,
          0.7231445379854539,
          0.2122902086328843,
          -0.6319829696360213,
          0.8116987479536433,
          0.5663356880650702,
          -1.4081827739065174,
          1.3257080152455498,
          -0.35341041248399896,
          0.5986991170484928,
          -1.601105994725186,
          0.4510025063777082,
          -1.843962988505521,
          -0.6175567323014791,
          -0.46874922145868564,
          0.8017055728270843,
          0.9295789737059647,
          0.5769158548612651,
          0.8241325254974661,
          -1.3989811469531985,
          -0.1737328629106375,
          -1.1120987796057764,
          0.08397943697541344,
          0.41450385508002524,
          0.37813446451759153,
          0.5637465086282746,
          0.23448459891588502,
          -0.646152213425436,
          0.6888265843952968,
          1.1773248338495332,
          -2.366822749360234,
          2.5593268473776716,
          -0.8337284202472874,
          -0.6349992892264821,
          -1.1108274470015802,
          -0.5504924823973055,
          -0.5166790104444628,
          -0.35967398108001764,
          0.03304142061605584,
          -0.9953569079540042,
          -0.34225235175776236,
          0.05415196437471269,
          1.4312114089526344,
          -0.06819439128707315,
          0.9337859534275348,
          -0.9979806075142508,
          2.5153526996216797,
          -0.9202468939840021,
          -0.5645653682586875,
          -0.41454134423968747,
          -0.37516634580729047,
          -1.0212328426549688,
          -1.462300513745385,
          -1.767508363123518,
          -0.40178821637522183,
          -0.17122260507528686,
          0.4352737343905665,
          -0.01868513096343089,
          1.0548725514811137,
          -0.3919034473977661,
          0.08727005314804788,
          1.5252750004784736,
          1.2406486221739632,
          -1.5894052324070254
         ],
         "yaxis": "y9"
        },
        {
         "line": {
          "color": "rgba(128, 128, 128, 1.0)",
          "dash": "solid",
          "shape": "linear",
          "width": 1.3
         },
         "marker": {
          "size": 2,
          "symbol": "circle"
         },
         "mode": "markers",
         "name": "C",
         "text": "",
         "type": "scatter",
         "x": [
          -0.4592523817006714,
          1.614960731672855,
          -1.4206426925982674,
          1.1551454541846038,
          -0.34613058552962517,
          1.6624230716641488,
          -0.11554649598016219,
          -0.01851161969972325,
          0.09984663041486533,
          -2.043102167532454,
          -1.478451948264321,
          -0.2788843499486517,
          -0.1497492795430963,
          1.9533168820677445,
          -0.10989230038135865,
          0.31344790900193625,
          0.08678752237308349,
          -0.3990447395439932,
          -1.4424816562369789,
          -0.028981252459112657,
          -0.4160821900068768,
          -0.9024826500293118,
          -0.5208567006043135,
          0.37071150697915956,
          0.29340762940465925,
          -0.15303788800844492,
          -1.7013013838151183,
          -2.1032089257065056,
          0.01803007769576685,
          0.774085466469011,
          -0.0130218043338703,
          0.7479391896322369,
          0.7318773540406959,
          -1.800944110150754,
          1.4099248117758916,
          -1.5325103771876123,
          0.5782922057046384,
          0.3053398932705239,
          -0.06430529590814345,
          1.0236623980295185,
          0.6914789499794927,
          0.7371810656811424,
          2.606242974469369,
          -1.5007673763044456,
          -1.0420156920821377,
          0.046743919591023995,
          1.3154764187085386,
          -0.18591517662231646,
          0.7578452017067829,
          -1.1201103682918108,
          -1.4809656473238406,
          -1.932290152656959,
          0.5687456244608741,
          -2.183122855649209,
          -0.18703771863844015,
          0.38248194212075454,
          -1.4501529065420269,
          1.0649615189495414,
          -0.44540408458769665,
          -0.5991301447361154,
          0.608703902269564,
          0.4058260851185324,
          0.457400126610244,
          0.5464347317371752,
          -0.2577028738771836,
          -0.6222900815300759,
          0.04461153224918688,
          -2.447018762098259,
          -0.23888100490859634,
          0.08761509395317087,
          1.623124602304495,
          1.1845787037770144,
          0.5492856988758372,
          1.130595322987083,
          -1.8840243529998721,
          0.18955829582691278,
          1.6839930239683714,
          0.5334500493016082,
          1.8492431165364005,
          0.4549707177333402,
          0.6697077146222054,
          0.4085483537015883,
          -0.5082199635442869,
          0.3448252142610793,
          -0.9833076650745944,
          0.2228561564482779,
          1.314600834470803,
          0.5969614245184819,
          0.5615669274826204,
          -0.03580808061129372,
          0.2825263823615819,
          -2.104980414657762,
          -1.8480485079071858,
          -1.2798589824928985,
          -0.4685176982797968,
          1.3615871560013324,
          0.7947295589257131,
          -1.018205327768071,
          0.6838015779839137,
          -0.445118498396265
         ],
         "xaxis": "x10",
         "y": [
          -0.8421603506766187,
          -0.9706041899799989,
          0.6832531168715341,
          1.6468678884740529,
          -0.16568135375708265,
          0.6293779960362839,
          1.2922687753064812,
          -0.09669053752515908,
          0.758570054065179,
          -0.8839507721828632,
          1.2280342442807675,
          -0.4628807989882697,
          -0.7161165844696878,
          1.4464843188409209,
          1.4629995097962403,
          -0.6286919968925113,
          0.5498266948912985,
          0.46202528676540383,
          -1.5968510028160237,
          1.6849093652971419,
          1.3184842391473701,
          1.7523413485734658,
          1.1145417017973525,
          0.8238061796830247,
          -0.11673079421807615,
          -0.9431413499758955,
          -0.6661012696103875,
          1.59665769705926,
          -1.4418095782645222,
          -0.028825792028261146,
          0.8846910659012178,
          1.3445888166417854,
          0.831313865520293,
          0.8984402570930786,
          0.9547597163223918,
          0.7243675719745242,
          -0.8504776604197904,
          0.7231445379854539,
          0.2122902086328843,
          -0.6319829696360213,
          0.8116987479536433,
          0.5663356880650702,
          -1.4081827739065174,
          1.3257080152455498,
          -0.35341041248399896,
          0.5986991170484928,
          -1.601105994725186,
          0.4510025063777082,
          -1.843962988505521,
          -0.6175567323014791,
          -0.46874922145868564,
          0.8017055728270843,
          0.9295789737059647,
          0.5769158548612651,
          0.8241325254974661,
          -1.3989811469531985,
          -0.1737328629106375,
          -1.1120987796057764,
          0.08397943697541344,
          0.41450385508002524,
          0.37813446451759153,
          0.5637465086282746,
          0.23448459891588502,
          -0.646152213425436,
          0.6888265843952968,
          1.1773248338495332,
          -2.366822749360234,
          2.5593268473776716,
          -0.8337284202472874,
          -0.6349992892264821,
          -1.1108274470015802,
          -0.5504924823973055,
          -0.5166790104444628,
          -0.35967398108001764,
          0.03304142061605584,
          -0.9953569079540042,
          -0.34225235175776236,
          0.05415196437471269,
          1.4312114089526344,
          -0.06819439128707315,
          0.9337859534275348,
          -0.9979806075142508,
          2.5153526996216797,
          -0.9202468939840021,
          -0.5645653682586875,
          -0.41454134423968747,
          -0.37516634580729047,
          -1.0212328426549688,
          -1.462300513745385,
          -1.767508363123518,
          -0.40178821637522183,
          -0.17122260507528686,
          0.4352737343905665,
          -0.01868513096343089,
          1.0548725514811137,
          -0.3919034473977661,
          0.08727005314804788,
          1.5252750004784736,
          1.2406486221739632,
          -1.5894052324070254
         ],
         "yaxis": "y10"
        },
        {
         "histfunc": "count",
         "histnorm": "",
         "marker": {
          "color": "rgba(50, 171, 96, 1.0)",
          "line": {
           "color": "#4D5663",
           "width": 1.3
          }
         },
         "name": "C",
         "nbinsx": 10,
         "opacity": 0.8,
         "orientation": "v",
         "type": "histogram",
         "x": [
          -0.8421603506766187,
          -0.9706041899799989,
          0.6832531168715341,
          1.6468678884740529,
          -0.16568135375708265,
          0.6293779960362839,
          1.2922687753064812,
          -0.09669053752515908,
          0.758570054065179,
          -0.8839507721828632,
          1.2280342442807675,
          -0.4628807989882697,
          -0.7161165844696878,
          1.4464843188409209,
          1.4629995097962403,
          -0.6286919968925113,
          0.5498266948912985,
          0.46202528676540383,
          -1.5968510028160237,
          1.6849093652971419,
          1.3184842391473701,
          1.7523413485734658,
          1.1145417017973525,
          0.8238061796830247,
          -0.11673079421807615,
          -0.9431413499758955,
          -0.6661012696103875,
          1.59665769705926,
          -1.4418095782645222,
          -0.028825792028261146,
          0.8846910659012178,
          1.3445888166417854,
          0.831313865520293,
          0.8984402570930786,
          0.9547597163223918,
          0.7243675719745242,
          -0.8504776604197904,
          0.7231445379854539,
          0.2122902086328843,
          -0.6319829696360213,
          0.8116987479536433,
          0.5663356880650702,
          -1.4081827739065174,
          1.3257080152455498,
          -0.35341041248399896,
          0.5986991170484928,
          -1.601105994725186,
          0.4510025063777082,
          -1.843962988505521,
          -0.6175567323014791,
          -0.46874922145868564,
          0.8017055728270843,
          0.9295789737059647,
          0.5769158548612651,
          0.8241325254974661,
          -1.3989811469531985,
          -0.1737328629106375,
          -1.1120987796057764,
          0.08397943697541344,
          0.41450385508002524,
          0.37813446451759153,
          0.5637465086282746,
          0.23448459891588502,
          -0.646152213425436,
          0.6888265843952968,
          1.1773248338495332,
          -2.366822749360234,
          2.5593268473776716,
          -0.8337284202472874,
          -0.6349992892264821,
          -1.1108274470015802,
          -0.5504924823973055,
          -0.5166790104444628,
          -0.35967398108001764,
          0.03304142061605584,
          -0.9953569079540042,
          -0.34225235175776236,
          0.05415196437471269,
          1.4312114089526344,
          -0.06819439128707315,
          0.9337859534275348,
          -0.9979806075142508,
          2.5153526996216797,
          -0.9202468939840021,
          -0.5645653682586875,
          -0.41454134423968747,
          -0.37516634580729047,
          -1.0212328426549688,
          -1.462300513745385,
          -1.767508363123518,
          -0.40178821637522183,
          -0.17122260507528686,
          0.4352737343905665,
          -0.01868513096343089,
          1.0548725514811137,
          -0.3919034473977661,
          0.08727005314804788,
          1.5252750004784736,
          1.2406486221739632,
          -1.5894052324070254
         ],
         "xaxis": "x11",
         "yaxis": "y11"
        },
        {
         "line": {
          "color": "rgba(128, 128, 128, 1.0)",
          "dash": "solid",
          "shape": "linear",
          "width": 1.3
         },
         "marker": {
          "size": 2,
          "symbol": "circle"
         },
         "mode": "markers",
         "name": "C",
         "text": "",
         "type": "scatter",
         "x": [
          0.5126109428890469,
          1.4892272058537255,
          -0.06466481511960792,
          0.807094467503425,
          0.09912812177445302,
          0.0037604224907197346,
          1.7881832836634417,
          1.4373731417175712,
          -0.49032218019714713,
          0.7844086874638536,
          -0.9135354119307758,
          0.5083954666397061,
          -3.1349339074281404,
          -2.21207508186638,
          0.4447330266031348,
          0.18787135141075115,
          0.14751055603017138,
          -1.0925191742194862,
          -1.420182643360601,
          -2.6950447421847166,
          -1.1120408459566193,
          -1.5119946162620084,
          0.21487814882806078,
          -0.5778547810602227,
          -0.6157290651613634,
          -0.5141466764562026,
          -1.5873889037285451,
          -0.3247674515862568,
          1.8465745931558841,
          0.3717136751793924,
          -0.0944745193772145,
          -0.7256893345692426,
          0.6329911919873296,
          0.8432331721074044,
          0.21506185326754326,
          -0.3946349840372016,
          1.0164983176266524,
          0.2707980457033641,
          0.43401711765144985,
          -0.7514870419734236,
          1.5967967931952454,
          -0.5192006010979153,
          -0.16636177789934467,
          1.063769112378764,
          0.04824552637562311,
          -0.30927218647456906,
          -0.8455324146613583,
          -1.292727257811507,
          0.8011477929185559,
          -0.35765870279142736,
          -0.1801085848973175,
          -0.5179106531571229,
          0.20678839468290003,
          0.21217097423294343,
          -0.5197920666799181,
          1.5452085633784096,
          0.8164027682792973,
          1.7211677024187413,
          -0.056769339959388786,
          -1.441754323154373,
          -2.1037029742663806,
          0.784787163635707,
          -0.9254897742956887,
          -0.30742465476637876,
          -0.795795144089506,
          -0.20367749333363674,
          -0.44097727181532287,
          1.1106618413964617,
          -1.4799913193064362,
          0.820803062794328,
          -0.885579677922769,
          0.7746145957497992,
          -0.584185617026759,
          0.44814214424737153,
          0.7327582698609134,
          -0.42593933722798827,
          0.5025705667376403,
          -1.94052132088566,
          1.151791010936278,
          0.18333509384631916,
          -0.8832256403000278,
          1.4734051005315147,
          2.1904546051168485,
          0.9807512609165957,
          -1.121059250174489,
          0.22222861053794152,
          -0.5101600824000081,
          0.0960439749329373,
          -0.9434158601417526,
          0.2280746660646097,
          -0.6199711206314074,
          -0.19296185060244755,
          -0.7950160586572694,
          -0.650755287984872,
          0.10002357639733761,
          -0.399410590339489,
          0.4257795860026511,
          -0.9861302587332238,
          1.2273480606955298,
          -0.45426223575550595
         ],
         "xaxis": "x12",
         "y": [
          -0.8421603506766187,
          -0.9706041899799989,
          0.6832531168715341,
          1.6468678884740529,
          -0.16568135375708265,
          0.6293779960362839,
          1.2922687753064812,
          -0.09669053752515908,
          0.758570054065179,
          -0.8839507721828632,
          1.2280342442807675,
          -0.4628807989882697,
          -0.7161165844696878,
          1.4464843188409209,
          1.4629995097962403,
          -0.6286919968925113,
          0.5498266948912985,
          0.46202528676540383,
          -1.5968510028160237,
          1.6849093652971419,
          1.3184842391473701,
          1.7523413485734658,
          1.1145417017973525,
          0.8238061796830247,
          -0.11673079421807615,
          -0.9431413499758955,
          -0.6661012696103875,
          1.59665769705926,
          -1.4418095782645222,
          -0.028825792028261146,
          0.8846910659012178,
          1.3445888166417854,
          0.831313865520293,
          0.8984402570930786,
          0.9547597163223918,
          0.7243675719745242,
          -0.8504776604197904,
          0.7231445379854539,
          0.2122902086328843,
          -0.6319829696360213,
          0.8116987479536433,
          0.5663356880650702,
          -1.4081827739065174,
          1.3257080152455498,
          -0.35341041248399896,
          0.5986991170484928,
          -1.601105994725186,
          0.4510025063777082,
          -1.843962988505521,
          -0.6175567323014791,
          -0.46874922145868564,
          0.8017055728270843,
          0.9295789737059647,
          0.5769158548612651,
          0.8241325254974661,
          -1.3989811469531985,
          -0.1737328629106375,
          -1.1120987796057764,
          0.08397943697541344,
          0.41450385508002524,
          0.37813446451759153,
          0.5637465086282746,
          0.23448459891588502,
          -0.646152213425436,
          0.6888265843952968,
          1.1773248338495332,
          -2.366822749360234,
          2.5593268473776716,
          -0.8337284202472874,
          -0.6349992892264821,
          -1.1108274470015802,
          -0.5504924823973055,
          -0.5166790104444628,
          -0.35967398108001764,
          0.03304142061605584,
          -0.9953569079540042,
          -0.34225235175776236,
          0.05415196437471269,
          1.4312114089526344,
          -0.06819439128707315,
          0.9337859534275348,
          -0.9979806075142508,
          2.5153526996216797,
          -0.9202468939840021,
          -0.5645653682586875,
          -0.41454134423968747,
          -0.37516634580729047,
          -1.0212328426549688,
          -1.462300513745385,
          -1.767508363123518,
          -0.40178821637522183,
          -0.17122260507528686,
          0.4352737343905665,
          -0.01868513096343089,
          1.0548725514811137,
          -0.3919034473977661,
          0.08727005314804788,
          1.5252750004784736,
          1.2406486221739632,
          -1.5894052324070254
         ],
         "yaxis": "y12"
        },
        {
         "line": {
          "color": "rgba(128, 128, 128, 1.0)",
          "dash": "solid",
          "shape": "linear",
          "width": 1.3
         },
         "marker": {
          "size": 2,
          "symbol": "circle"
         },
         "mode": "markers",
         "name": "D",
         "text": "",
         "type": "scatter",
         "x": [
          -0.6185864777596235,
          -0.09549749996174815,
          0.7735155947714842,
          -1.9544208522009834,
          0.9321062993468145,
          0.36391957912219924,
          1.0222517106252103,
          0.21428349229504423,
          0.30155723927183736,
          -1.7737081556426644,
          -0.8813197097782401,
          -1.1833788622984094,
          1.0921030137803465,
          0.47150727733146436,
          -1.6539348028518632,
          -0.28566133680357586,
          1.6103067819704,
          -1.8417392372265438,
          0.039193584163302084,
          -0.6695950365093897,
          -0.7291227819448418,
          0.17384486693441867,
          1.5625067918950442,
          -2.118320960980159,
          -0.6478092575126989,
          -1.3354358976613383,
          -0.11900269907027594,
          1.8690436615397525,
          0.3602185862801853,
          0.954444106941083,
          -1.3426442266410488,
          -0.5861974838373313,
          -1.2776509648542993,
          -0.17202929225908314,
          -0.5899977906595941,
          1.3660735045819095,
          -1.096820738909289,
          0.09159655138384042,
          0.8669297839834728,
          0.11618036291092862,
          -0.1306793735655419,
          -1.409084507446096,
          -1.1458344122244621,
          -0.20695860339653058,
          -1.037860881063523,
          0.01958383190177941,
          1.877231153321232,
          -0.4861599541240264,
          0.2256221614426137,
          1.0191400317688684,
          -1.7994981450956142,
          -0.449892724101533,
          -1.7060329759096715,
          -0.7097216977459914,
          -0.8825995557308481,
          0.33962848154734276,
          0.20113285388190974,
          0.46035911247198713,
          0.7091683111522437,
          -1.2284387339475709,
          0.11445375532849965,
          -0.11410251539813779,
          -0.433581463941365,
          -0.1506692378419643,
          0.33482007756007925,
          -1.5145111918515755,
          0.570038479119206,
          -1.2112103535764067,
          -0.4029111539814335,
          -0.19348347413316772,
          -0.18662039060185484,
          -0.4020159349141075,
          -1.104221400696765,
          -0.7881037638705021,
          0.9624880966553944,
          0.8370910133274343,
          0.08064775753280434,
          0.4529394450193887,
          0.8144227765728742,
          -0.4139266273079406,
          -0.16045457024510903,
          0.11560583805022592,
          0.5018750969144258,
          -1.05549272187284,
          0.6646897400226129,
          0.7252518633264401,
          -0.8634744428274881,
          0.14526679817629318,
          0.5642348261932901,
          -0.5739339256594503,
          0.15846871036688384,
          0.5303216539889294,
          -0.4638919188417855,
          -2.653303499100419,
          0.30810942245492506,
          1.337533737637027,
          1.0885583937029353,
          -1.6447907309114553,
          0.6693410844821837,
          -0.023858538897312875
         ],
         "xaxis": "x13",
         "y": [
          0.5126109428890469,
          1.4892272058537255,
          -0.06466481511960792,
          0.807094467503425,
          0.09912812177445302,
          0.0037604224907197346,
          1.7881832836634417,
          1.4373731417175712,
          -0.49032218019714713,
          0.7844086874638536,
          -0.9135354119307758,
          0.5083954666397061,
          -3.1349339074281404,
          -2.21207508186638,
          0.4447330266031348,
          0.18787135141075115,
          0.14751055603017138,
          -1.0925191742194862,
          -1.420182643360601,
          -2.6950447421847166,
          -1.1120408459566193,
          -1.5119946162620084,
          0.21487814882806078,
          -0.5778547810602227,
          -0.6157290651613634,
          -0.5141466764562026,
          -1.5873889037285451,
          -0.3247674515862568,
          1.8465745931558841,
          0.3717136751793924,
          -0.0944745193772145,
          -0.7256893345692426,
          0.6329911919873296,
          0.8432331721074044,
          0.21506185326754326,
          -0.3946349840372016,
          1.0164983176266524,
          0.2707980457033641,
          0.43401711765144985,
          -0.7514870419734236,
          1.5967967931952454,
          -0.5192006010979153,
          -0.16636177789934467,
          1.063769112378764,
          0.04824552637562311,
          -0.30927218647456906,
          -0.8455324146613583,
          -1.292727257811507,
          0.8011477929185559,
          -0.35765870279142736,
          -0.1801085848973175,
          -0.5179106531571229,
          0.20678839468290003,
          0.21217097423294343,
          -0.5197920666799181,
          1.5452085633784096,
          0.8164027682792973,
          1.7211677024187413,
          -0.056769339959388786,
          -1.441754323154373,
          -2.1037029742663806,
          0.784787163635707,
          -0.9254897742956887,
          -0.30742465476637876,
          -0.795795144089506,
          -0.20367749333363674,
          -0.44097727181532287,
          1.1106618413964617,
          -1.4799913193064362,
          0.820803062794328,
          -0.885579677922769,
          0.7746145957497992,
          -0.584185617026759,
          0.44814214424737153,
          0.7327582698609134,
          -0.42593933722798827,
          0.5025705667376403,
          -1.94052132088566,
          1.151791010936278,
          0.18333509384631916,
          -0.8832256403000278,
          1.4734051005315147,
          2.1904546051168485,
          0.9807512609165957,
          -1.121059250174489,
          0.22222861053794152,
          -0.5101600824000081,
          0.0960439749329373,
          -0.9434158601417526,
          0.2280746660646097,
          -0.6199711206314074,
          -0.19296185060244755,
          -0.7950160586572694,
          -0.650755287984872,
          0.10002357639733761,
          -0.399410590339489,
          0.4257795860026511,
          -0.9861302587332238,
          1.2273480606955298,
          -0.45426223575550595
         ],
         "yaxis": "y13"
        },
        {
         "line": {
          "color": "rgba(128, 128, 128, 1.0)",
          "dash": "solid",
          "shape": "linear",
          "width": 1.3
         },
         "marker": {
          "size": 2,
          "symbol": "circle"
         },
         "mode": "markers",
         "name": "D",
         "text": "",
         "type": "scatter",
         "x": [
          -0.4592523817006714,
          1.614960731672855,
          -1.4206426925982674,
          1.1551454541846038,
          -0.34613058552962517,
          1.6624230716641488,
          -0.11554649598016219,
          -0.01851161969972325,
          0.09984663041486533,
          -2.043102167532454,
          -1.478451948264321,
          -0.2788843499486517,
          -0.1497492795430963,
          1.9533168820677445,
          -0.10989230038135865,
          0.31344790900193625,
          0.08678752237308349,
          -0.3990447395439932,
          -1.4424816562369789,
          -0.028981252459112657,
          -0.4160821900068768,
          -0.9024826500293118,
          -0.5208567006043135,
          0.37071150697915956,
          0.29340762940465925,
          -0.15303788800844492,
          -1.7013013838151183,
          -2.1032089257065056,
          0.01803007769576685,
          0.774085466469011,
          -0.0130218043338703,
          0.7479391896322369,
          0.7318773540406959,
          -1.800944110150754,
          1.4099248117758916,
          -1.5325103771876123,
          0.5782922057046384,
          0.3053398932705239,
          -0.06430529590814345,
          1.0236623980295185,
          0.6914789499794927,
          0.7371810656811424,
          2.606242974469369,
          -1.5007673763044456,
          -1.0420156920821377,
          0.046743919591023995,
          1.3154764187085386,
          -0.18591517662231646,
          0.7578452017067829,
          -1.1201103682918108,
          -1.4809656473238406,
          -1.932290152656959,
          0.5687456244608741,
          -2.183122855649209,
          -0.18703771863844015,
          0.38248194212075454,
          -1.4501529065420269,
          1.0649615189495414,
          -0.44540408458769665,
          -0.5991301447361154,
          0.608703902269564,
          0.4058260851185324,
          0.457400126610244,
          0.5464347317371752,
          -0.2577028738771836,
          -0.6222900815300759,
          0.04461153224918688,
          -2.447018762098259,
          -0.23888100490859634,
          0.08761509395317087,
          1.623124602304495,
          1.1845787037770144,
          0.5492856988758372,
          1.130595322987083,
          -1.8840243529998721,
          0.18955829582691278,
          1.6839930239683714,
          0.5334500493016082,
          1.8492431165364005,
          0.4549707177333402,
          0.6697077146222054,
          0.4085483537015883,
          -0.5082199635442869,
          0.3448252142610793,
          -0.9833076650745944,
          0.2228561564482779,
          1.314600834470803,
          0.5969614245184819,
          0.5615669274826204,
          -0.03580808061129372,
          0.2825263823615819,
          -2.104980414657762,
          -1.8480485079071858,
          -1.2798589824928985,
          -0.4685176982797968,
          1.3615871560013324,
          0.7947295589257131,
          -1.018205327768071,
          0.6838015779839137,
          -0.445118498396265
         ],
         "xaxis": "x14",
         "y": [
          0.5126109428890469,
          1.4892272058537255,
          -0.06466481511960792,
          0.807094467503425,
          0.09912812177445302,
          0.0037604224907197346,
          1.7881832836634417,
          1.4373731417175712,
          -0.49032218019714713,
          0.7844086874638536,
          -0.9135354119307758,
          0.5083954666397061,
          -3.1349339074281404,
          -2.21207508186638,
          0.4447330266031348,
          0.18787135141075115,
          0.14751055603017138,
          -1.0925191742194862,
          -1.420182643360601,
          -2.6950447421847166,
          -1.1120408459566193,
          -1.5119946162620084,
          0.21487814882806078,
          -0.5778547810602227,
          -0.6157290651613634,
          -0.5141466764562026,
          -1.5873889037285451,
          -0.3247674515862568,
          1.8465745931558841,
          0.3717136751793924,
          -0.0944745193772145,
          -0.7256893345692426,
          0.6329911919873296,
          0.8432331721074044,
          0.21506185326754326,
          -0.3946349840372016,
          1.0164983176266524,
          0.2707980457033641,
          0.43401711765144985,
          -0.7514870419734236,
          1.5967967931952454,
          -0.5192006010979153,
          -0.16636177789934467,
          1.063769112378764,
          0.04824552637562311,
          -0.30927218647456906,
          -0.8455324146613583,
          -1.292727257811507,
          0.8011477929185559,
          -0.35765870279142736,
          -0.1801085848973175,
          -0.5179106531571229,
          0.20678839468290003,
          0.21217097423294343,
          -0.5197920666799181,
          1.5452085633784096,
          0.8164027682792973,
          1.7211677024187413,
          -0.056769339959388786,
          -1.441754323154373,
          -2.1037029742663806,
          0.784787163635707,
          -0.9254897742956887,
          -0.30742465476637876,
          -0.795795144089506,
          -0.20367749333363674,
          -0.44097727181532287,
          1.1106618413964617,
          -1.4799913193064362,
          0.820803062794328,
          -0.885579677922769,
          0.7746145957497992,
          -0.584185617026759,
          0.44814214424737153,
          0.7327582698609134,
          -0.42593933722798827,
          0.5025705667376403,
          -1.94052132088566,
          1.151791010936278,
          0.18333509384631916,
          -0.8832256403000278,
          1.4734051005315147,
          2.1904546051168485,
          0.9807512609165957,
          -1.121059250174489,
          0.22222861053794152,
          -0.5101600824000081,
          0.0960439749329373,
          -0.9434158601417526,
          0.2280746660646097,
          -0.6199711206314074,
          -0.19296185060244755,
          -0.7950160586572694,
          -0.650755287984872,
          0.10002357639733761,
          -0.399410590339489,
          0.4257795860026511,
          -0.9861302587332238,
          1.2273480606955298,
          -0.45426223575550595
         ],
         "yaxis": "y14"
        },
        {
         "line": {
          "color": "rgba(128, 128, 128, 1.0)",
          "dash": "solid",
          "shape": "linear",
          "width": 1.3
         },
         "marker": {
          "size": 2,
          "symbol": "circle"
         },
         "mode": "markers",
         "name": "D",
         "text": "",
         "type": "scatter",
         "x": [
          -0.8421603506766187,
          -0.9706041899799989,
          0.6832531168715341,
          1.6468678884740529,
          -0.16568135375708265,
          0.6293779960362839,
          1.2922687753064812,
          -0.09669053752515908,
          0.758570054065179,
          -0.8839507721828632,
          1.2280342442807675,
          -0.4628807989882697,
          -0.7161165844696878,
          1.4464843188409209,
          1.4629995097962403,
          -0.6286919968925113,
          0.5498266948912985,
          0.46202528676540383,
          -1.5968510028160237,
          1.6849093652971419,
          1.3184842391473701,
          1.7523413485734658,
          1.1145417017973525,
          0.8238061796830247,
          -0.11673079421807615,
          -0.9431413499758955,
          -0.6661012696103875,
          1.59665769705926,
          -1.4418095782645222,
          -0.028825792028261146,
          0.8846910659012178,
          1.3445888166417854,
          0.831313865520293,
          0.8984402570930786,
          0.9547597163223918,
          0.7243675719745242,
          -0.8504776604197904,
          0.7231445379854539,
          0.2122902086328843,
          -0.6319829696360213,
          0.8116987479536433,
          0.5663356880650702,
          -1.4081827739065174,
          1.3257080152455498,
          -0.35341041248399896,
          0.5986991170484928,
          -1.601105994725186,
          0.4510025063777082,
          -1.843962988505521,
          -0.6175567323014791,
          -0.46874922145868564,
          0.8017055728270843,
          0.9295789737059647,
          0.5769158548612651,
          0.8241325254974661,
          -1.3989811469531985,
          -0.1737328629106375,
          -1.1120987796057764,
          0.08397943697541344,
          0.41450385508002524,
          0.37813446451759153,
          0.5637465086282746,
          0.23448459891588502,
          -0.646152213425436,
          0.6888265843952968,
          1.1773248338495332,
          -2.366822749360234,
          2.5593268473776716,
          -0.8337284202472874,
          -0.6349992892264821,
          -1.1108274470015802,
          -0.5504924823973055,
          -0.5166790104444628,
          -0.35967398108001764,
          0.03304142061605584,
          -0.9953569079540042,
          -0.34225235175776236,
          0.05415196437471269,
          1.4312114089526344,
          -0.06819439128707315,
          0.9337859534275348,
          -0.9979806075142508,
          2.5153526996216797,
          -0.9202468939840021,
          -0.5645653682586875,
          -0.41454134423968747,
          -0.37516634580729047,
          -1.0212328426549688,
          -1.462300513745385,
          -1.767508363123518,
          -0.40178821637522183,
          -0.17122260507528686,
          0.4352737343905665,
          -0.01868513096343089,
          1.0548725514811137,
          -0.3919034473977661,
          0.08727005314804788,
          1.5252750004784736,
          1.2406486221739632,
          -1.5894052324070254
         ],
         "xaxis": "x15",
         "y": [
          0.5126109428890469,
          1.4892272058537255,
          -0.06466481511960792,
          0.807094467503425,
          0.09912812177445302,
          0.0037604224907197346,
          1.7881832836634417,
          1.4373731417175712,
          -0.49032218019714713,
          0.7844086874638536,
          -0.9135354119307758,
          0.5083954666397061,
          -3.1349339074281404,
          -2.21207508186638,
          0.4447330266031348,
          0.18787135141075115,
          0.14751055603017138,
          -1.0925191742194862,
          -1.420182643360601,
          -2.6950447421847166,
          -1.1120408459566193,
          -1.5119946162620084,
          0.21487814882806078,
          -0.5778547810602227,
          -0.6157290651613634,
          -0.5141466764562026,
          -1.5873889037285451,
          -0.3247674515862568,
          1.8465745931558841,
          0.3717136751793924,
          -0.0944745193772145,
          -0.7256893345692426,
          0.6329911919873296,
          0.8432331721074044,
          0.21506185326754326,
          -0.3946349840372016,
          1.0164983176266524,
          0.2707980457033641,
          0.43401711765144985,
          -0.7514870419734236,
          1.5967967931952454,
          -0.5192006010979153,
          -0.16636177789934467,
          1.063769112378764,
          0.04824552637562311,
          -0.30927218647456906,
          -0.8455324146613583,
          -1.292727257811507,
          0.8011477929185559,
          -0.35765870279142736,
          -0.1801085848973175,
          -0.5179106531571229,
          0.20678839468290003,
          0.21217097423294343,
          -0.5197920666799181,
          1.5452085633784096,
          0.8164027682792973,
          1.7211677024187413,
          -0.056769339959388786,
          -1.441754323154373,
          -2.1037029742663806,
          0.784787163635707,
          -0.9254897742956887,
          -0.30742465476637876,
          -0.795795144089506,
          -0.20367749333363674,
          -0.44097727181532287,
          1.1106618413964617,
          -1.4799913193064362,
          0.820803062794328,
          -0.885579677922769,
          0.7746145957497992,
          -0.584185617026759,
          0.44814214424737153,
          0.7327582698609134,
          -0.42593933722798827,
          0.5025705667376403,
          -1.94052132088566,
          1.151791010936278,
          0.18333509384631916,
          -0.8832256403000278,
          1.4734051005315147,
          2.1904546051168485,
          0.9807512609165957,
          -1.121059250174489,
          0.22222861053794152,
          -0.5101600824000081,
          0.0960439749329373,
          -0.9434158601417526,
          0.2280746660646097,
          -0.6199711206314074,
          -0.19296185060244755,
          -0.7950160586572694,
          -0.650755287984872,
          0.10002357639733761,
          -0.399410590339489,
          0.4257795860026511,
          -0.9861302587332238,
          1.2273480606955298,
          -0.45426223575550595
         ],
         "yaxis": "y15"
        },
        {
         "histfunc": "count",
         "histnorm": "",
         "marker": {
          "color": "rgba(128, 0, 128, 1.0)",
          "line": {
           "color": "#4D5663",
           "width": 1.3
          }
         },
         "name": "D",
         "nbinsx": 10,
         "opacity": 0.8,
         "orientation": "v",
         "type": "histogram",
         "x": [
          0.5126109428890469,
          1.4892272058537255,
          -0.06466481511960792,
          0.807094467503425,
          0.09912812177445302,
          0.0037604224907197346,
          1.7881832836634417,
          1.4373731417175712,
          -0.49032218019714713,
          0.7844086874638536,
          -0.9135354119307758,
          0.5083954666397061,
          -3.1349339074281404,
          -2.21207508186638,
          0.4447330266031348,
          0.18787135141075115,
          0.14751055603017138,
          -1.0925191742194862,
          -1.420182643360601,
          -2.6950447421847166,
          -1.1120408459566193,
          -1.5119946162620084,
          0.21487814882806078,
          -0.5778547810602227,
          -0.6157290651613634,
          -0.5141466764562026,
          -1.5873889037285451,
          -0.3247674515862568,
          1.8465745931558841,
          0.3717136751793924,
          -0.0944745193772145,
          -0.7256893345692426,
          0.6329911919873296,
          0.8432331721074044,
          0.21506185326754326,
          -0.3946349840372016,
          1.0164983176266524,
          0.2707980457033641,
          0.43401711765144985,
          -0.7514870419734236,
          1.5967967931952454,
          -0.5192006010979153,
          -0.16636177789934467,
          1.063769112378764,
          0.04824552637562311,
          -0.30927218647456906,
          -0.8455324146613583,
          -1.292727257811507,
          0.8011477929185559,
          -0.35765870279142736,
          -0.1801085848973175,
          -0.5179106531571229,
          0.20678839468290003,
          0.21217097423294343,
          -0.5197920666799181,
          1.5452085633784096,
          0.8164027682792973,
          1.7211677024187413,
          -0.056769339959388786,
          -1.441754323154373,
          -2.1037029742663806,
          0.784787163635707,
          -0.9254897742956887,
          -0.30742465476637876,
          -0.795795144089506,
          -0.20367749333363674,
          -0.44097727181532287,
          1.1106618413964617,
          -1.4799913193064362,
          0.820803062794328,
          -0.885579677922769,
          0.7746145957497992,
          -0.584185617026759,
          0.44814214424737153,
          0.7327582698609134,
          -0.42593933722798827,
          0.5025705667376403,
          -1.94052132088566,
          1.151791010936278,
          0.18333509384631916,
          -0.8832256403000278,
          1.4734051005315147,
          2.1904546051168485,
          0.9807512609165957,
          -1.121059250174489,
          0.22222861053794152,
          -0.5101600824000081,
          0.0960439749329373,
          -0.9434158601417526,
          0.2280746660646097,
          -0.6199711206314074,
          -0.19296185060244755,
          -0.7950160586572694,
          -0.650755287984872,
          0.10002357639733761,
          -0.399410590339489,
          0.4257795860026511,
          -0.9861302587332238,
          1.2273480606955298,
          -0.45426223575550595
         ],
         "xaxis": "x16",
         "yaxis": "y16"
        }
       ],
       "layout": {
        "bargap": 0.02,
        "legend": {
         "bgcolor": "#F5F6F9",
         "font": {
          "color": "#4D5663"
         }
        },
        "paper_bgcolor": "#F5F6F9",
        "plot_bgcolor": "#F5F6F9",
        "showlegend": false,
        "template": {
         "data": {
          "bar": [
           {
            "error_x": {
             "color": "#2a3f5f"
            },
            "error_y": {
             "color": "#2a3f5f"
            },
            "marker": {
             "line": {
              "color": "#E5ECF6",
              "width": 0.5
             },
             "pattern": {
              "fillmode": "overlay",
              "size": 10,
              "solidity": 0.2
             }
            },
            "type": "bar"
           }
          ],
          "barpolar": [
           {
            "marker": {
             "line": {
              "color": "#E5ECF6",
              "width": 0.5
             },
             "pattern": {
              "fillmode": "overlay",
              "size": 10,
              "solidity": 0.2
             }
            },
            "type": "barpolar"
           }
          ],
          "carpet": [
           {
            "aaxis": {
             "endlinecolor": "#2a3f5f",
             "gridcolor": "white",
             "linecolor": "white",
             "minorgridcolor": "white",
             "startlinecolor": "#2a3f5f"
            },
            "baxis": {
             "endlinecolor": "#2a3f5f",
             "gridcolor": "white",
             "linecolor": "white",
             "minorgridcolor": "white",
             "startlinecolor": "#2a3f5f"
            },
            "type": "carpet"
           }
          ],
          "choropleth": [
           {
            "colorbar": {
             "outlinewidth": 0,
             "ticks": ""
            },
            "type": "choropleth"
           }
          ],
          "contour": [
           {
            "colorbar": {
             "outlinewidth": 0,
             "ticks": ""
            },
            "colorscale": [
             [
              0,
              "#0d0887"
             ],
             [
              0.1111111111111111,
              "#46039f"
             ],
             [
              0.2222222222222222,
              "#7201a8"
             ],
             [
              0.3333333333333333,
              "#9c179e"
             ],
             [
              0.4444444444444444,
              "#bd3786"
             ],
             [
              0.5555555555555556,
              "#d8576b"
             ],
             [
              0.6666666666666666,
              "#ed7953"
             ],
             [
              0.7777777777777778,
              "#fb9f3a"
             ],
             [
              0.8888888888888888,
              "#fdca26"
             ],
             [
              1,
              "#f0f921"
             ]
            ],
            "type": "contour"
           }
          ],
          "contourcarpet": [
           {
            "colorbar": {
             "outlinewidth": 0,
             "ticks": ""
            },
            "type": "contourcarpet"
           }
          ],
          "heatmap": [
           {
            "colorbar": {
             "outlinewidth": 0,
             "ticks": ""
            },
            "colorscale": [
             [
              0,
              "#0d0887"
             ],
             [
              0.1111111111111111,
              "#46039f"
             ],
             [
              0.2222222222222222,
              "#7201a8"
             ],
             [
              0.3333333333333333,
              "#9c179e"
             ],
             [
              0.4444444444444444,
              "#bd3786"
             ],
             [
              0.5555555555555556,
              "#d8576b"
             ],
             [
              0.6666666666666666,
              "#ed7953"
             ],
             [
              0.7777777777777778,
              "#fb9f3a"
             ],
             [
              0.8888888888888888,
              "#fdca26"
             ],
             [
              1,
              "#f0f921"
             ]
            ],
            "type": "heatmap"
           }
          ],
          "heatmapgl": [
           {
            "colorbar": {
             "outlinewidth": 0,
             "ticks": ""
            },
            "colorscale": [
             [
              0,
              "#0d0887"
             ],
             [
              0.1111111111111111,
              "#46039f"
             ],
             [
              0.2222222222222222,
              "#7201a8"
             ],
             [
              0.3333333333333333,
              "#9c179e"
             ],
             [
              0.4444444444444444,
              "#bd3786"
             ],
             [
              0.5555555555555556,
              "#d8576b"
             ],
             [
              0.6666666666666666,
              "#ed7953"
             ],
             [
              0.7777777777777778,
              "#fb9f3a"
             ],
             [
              0.8888888888888888,
              "#fdca26"
             ],
             [
              1,
              "#f0f921"
             ]
            ],
            "type": "heatmapgl"
           }
          ],
          "histogram": [
           {
            "marker": {
             "pattern": {
              "fillmode": "overlay",
              "size": 10,
              "solidity": 0.2
             }
            },
            "type": "histogram"
           }
          ],
          "histogram2d": [
           {
            "colorbar": {
             "outlinewidth": 0,
             "ticks": ""
            },
            "colorscale": [
             [
              0,
              "#0d0887"
             ],
             [
              0.1111111111111111,
              "#46039f"
             ],
             [
              0.2222222222222222,
              "#7201a8"
             ],
             [
              0.3333333333333333,
              "#9c179e"
             ],
             [
              0.4444444444444444,
              "#bd3786"
             ],
             [
              0.5555555555555556,
              "#d8576b"
             ],
             [
              0.6666666666666666,
              "#ed7953"
             ],
             [
              0.7777777777777778,
              "#fb9f3a"
             ],
             [
              0.8888888888888888,
              "#fdca26"
             ],
             [
              1,
              "#f0f921"
             ]
            ],
            "type": "histogram2d"
           }
          ],
          "histogram2dcontour": [
           {
            "colorbar": {
             "outlinewidth": 0,
             "ticks": ""
            },
            "colorscale": [
             [
              0,
              "#0d0887"
             ],
             [
              0.1111111111111111,
              "#46039f"
             ],
             [
              0.2222222222222222,
              "#7201a8"
             ],
             [
              0.3333333333333333,
              "#9c179e"
             ],
             [
              0.4444444444444444,
              "#bd3786"
             ],
             [
              0.5555555555555556,
              "#d8576b"
             ],
             [
              0.6666666666666666,
              "#ed7953"
             ],
             [
              0.7777777777777778,
              "#fb9f3a"
             ],
             [
              0.8888888888888888,
              "#fdca26"
             ],
             [
              1,
              "#f0f921"
             ]
            ],
            "type": "histogram2dcontour"
           }
          ],
          "mesh3d": [
           {
            "colorbar": {
             "outlinewidth": 0,
             "ticks": ""
            },
            "type": "mesh3d"
           }
          ],
          "parcoords": [
           {
            "line": {
             "colorbar": {
              "outlinewidth": 0,
              "ticks": ""
             }
            },
            "type": "parcoords"
           }
          ],
          "pie": [
           {
            "automargin": true,
            "type": "pie"
           }
          ],
          "scatter": [
           {
            "fillpattern": {
             "fillmode": "overlay",
             "size": 10,
             "solidity": 0.2
            },
            "type": "scatter"
           }
          ],
          "scatter3d": [
           {
            "line": {
             "colorbar": {
              "outlinewidth": 0,
              "ticks": ""
             }
            },
            "marker": {
             "colorbar": {
              "outlinewidth": 0,
              "ticks": ""
             }
            },
            "type": "scatter3d"
           }
          ],
          "scattercarpet": [
           {
            "marker": {
             "colorbar": {
              "outlinewidth": 0,
              "ticks": ""
             }
            },
            "type": "scattercarpet"
           }
          ],
          "scattergeo": [
           {
            "marker": {
             "colorbar": {
              "outlinewidth": 0,
              "ticks": ""
             }
            },
            "type": "scattergeo"
           }
          ],
          "scattergl": [
           {
            "marker": {
             "colorbar": {
              "outlinewidth": 0,
              "ticks": ""
             }
            },
            "type": "scattergl"
           }
          ],
          "scattermapbox": [
           {
            "marker": {
             "colorbar": {
              "outlinewidth": 0,
              "ticks": ""
             }
            },
            "type": "scattermapbox"
           }
          ],
          "scatterpolar": [
           {
            "marker": {
             "colorbar": {
              "outlinewidth": 0,
              "ticks": ""
             }
            },
            "type": "scatterpolar"
           }
          ],
          "scatterpolargl": [
           {
            "marker": {
             "colorbar": {
              "outlinewidth": 0,
              "ticks": ""
             }
            },
            "type": "scatterpolargl"
           }
          ],
          "scatterternary": [
           {
            "marker": {
             "colorbar": {
              "outlinewidth": 0,
              "ticks": ""
             }
            },
            "type": "scatterternary"
           }
          ],
          "surface": [
           {
            "colorbar": {
             "outlinewidth": 0,
             "ticks": ""
            },
            "colorscale": [
             [
              0,
              "#0d0887"
             ],
             [
              0.1111111111111111,
              "#46039f"
             ],
             [
              0.2222222222222222,
              "#7201a8"
             ],
             [
              0.3333333333333333,
              "#9c179e"
             ],
             [
              0.4444444444444444,
              "#bd3786"
             ],
             [
              0.5555555555555556,
              "#d8576b"
             ],
             [
              0.6666666666666666,
              "#ed7953"
             ],
             [
              0.7777777777777778,
              "#fb9f3a"
             ],
             [
              0.8888888888888888,
              "#fdca26"
             ],
             [
              1,
              "#f0f921"
             ]
            ],
            "type": "surface"
           }
          ],
          "table": [
           {
            "cells": {
             "fill": {
              "color": "#EBF0F8"
             },
             "line": {
              "color": "white"
             }
            },
            "header": {
             "fill": {
              "color": "#C8D4E3"
             },
             "line": {
              "color": "white"
             }
            },
            "type": "table"
           }
          ]
         },
         "layout": {
          "annotationdefaults": {
           "arrowcolor": "#2a3f5f",
           "arrowhead": 0,
           "arrowwidth": 1
          },
          "autotypenumbers": "strict",
          "coloraxis": {
           "colorbar": {
            "outlinewidth": 0,
            "ticks": ""
           }
          },
          "colorscale": {
           "diverging": [
            [
             0,
             "#8e0152"
            ],
            [
             0.1,
             "#c51b7d"
            ],
            [
             0.2,
             "#de77ae"
            ],
            [
             0.3,
             "#f1b6da"
            ],
            [
             0.4,
             "#fde0ef"
            ],
            [
             0.5,
             "#f7f7f7"
            ],
            [
             0.6,
             "#e6f5d0"
            ],
            [
             0.7,
             "#b8e186"
            ],
            [
             0.8,
             "#7fbc41"
            ],
            [
             0.9,
             "#4d9221"
            ],
            [
             1,
             "#276419"
            ]
           ],
           "sequential": [
            [
             0,
             "#0d0887"
            ],
            [
             0.1111111111111111,
             "#46039f"
            ],
            [
             0.2222222222222222,
             "#7201a8"
            ],
            [
             0.3333333333333333,
             "#9c179e"
            ],
            [
             0.4444444444444444,
             "#bd3786"
            ],
            [
             0.5555555555555556,
             "#d8576b"
            ],
            [
             0.6666666666666666,
             "#ed7953"
            ],
            [
             0.7777777777777778,
             "#fb9f3a"
            ],
            [
             0.8888888888888888,
             "#fdca26"
            ],
            [
             1,
             "#f0f921"
            ]
           ],
           "sequentialminus": [
            [
             0,
             "#0d0887"
            ],
            [
             0.1111111111111111,
             "#46039f"
            ],
            [
             0.2222222222222222,
             "#7201a8"
            ],
            [
             0.3333333333333333,
             "#9c179e"
            ],
            [
             0.4444444444444444,
             "#bd3786"
            ],
            [
             0.5555555555555556,
             "#d8576b"
            ],
            [
             0.6666666666666666,
             "#ed7953"
            ],
            [
             0.7777777777777778,
             "#fb9f3a"
            ],
            [
             0.8888888888888888,
             "#fdca26"
            ],
            [
             1,
             "#f0f921"
            ]
           ]
          },
          "colorway": [
           "#636efa",
           "#EF553B",
           "#00cc96",
           "#ab63fa",
           "#FFA15A",
           "#19d3f3",
           "#FF6692",
           "#B6E880",
           "#FF97FF",
           "#FECB52"
          ],
          "font": {
           "color": "#2a3f5f"
          },
          "geo": {
           "bgcolor": "white",
           "lakecolor": "white",
           "landcolor": "#E5ECF6",
           "showlakes": true,
           "showland": true,
           "subunitcolor": "white"
          },
          "hoverlabel": {
           "align": "left"
          },
          "hovermode": "closest",
          "mapbox": {
           "style": "light"
          },
          "paper_bgcolor": "white",
          "plot_bgcolor": "#E5ECF6",
          "polar": {
           "angularaxis": {
            "gridcolor": "white",
            "linecolor": "white",
            "ticks": ""
           },
           "bgcolor": "#E5ECF6",
           "radialaxis": {
            "gridcolor": "white",
            "linecolor": "white",
            "ticks": ""
           }
          },
          "scene": {
           "xaxis": {
            "backgroundcolor": "#E5ECF6",
            "gridcolor": "white",
            "gridwidth": 2,
            "linecolor": "white",
            "showbackground": true,
            "ticks": "",
            "zerolinecolor": "white"
           },
           "yaxis": {
            "backgroundcolor": "#E5ECF6",
            "gridcolor": "white",
            "gridwidth": 2,
            "linecolor": "white",
            "showbackground": true,
            "ticks": "",
            "zerolinecolor": "white"
           },
           "zaxis": {
            "backgroundcolor": "#E5ECF6",
            "gridcolor": "white",
            "gridwidth": 2,
            "linecolor": "white",
            "showbackground": true,
            "ticks": "",
            "zerolinecolor": "white"
           }
          },
          "shapedefaults": {
           "line": {
            "color": "#2a3f5f"
           }
          },
          "ternary": {
           "aaxis": {
            "gridcolor": "white",
            "linecolor": "white",
            "ticks": ""
           },
           "baxis": {
            "gridcolor": "white",
            "linecolor": "white",
            "ticks": ""
           },
           "bgcolor": "#E5ECF6",
           "caxis": {
            "gridcolor": "white",
            "linecolor": "white",
            "ticks": ""
           }
          },
          "title": {
           "x": 0.05
          },
          "xaxis": {
           "automargin": true,
           "gridcolor": "white",
           "linecolor": "white",
           "ticks": "",
           "title": {
            "standoff": 15
           },
           "zerolinecolor": "white",
           "zerolinewidth": 2
          },
          "yaxis": {
           "automargin": true,
           "gridcolor": "white",
           "linecolor": "white",
           "ticks": "",
           "title": {
            "standoff": 15
           },
           "zerolinecolor": "white",
           "zerolinewidth": 2
          }
         }
        },
        "title": {
         "font": {
          "color": "#4D5663"
         }
        },
        "xaxis": {
         "anchor": "y",
         "domain": [
          0,
          0.2125
         ],
         "gridcolor": "#E1E5ED",
         "showgrid": false,
         "tickfont": {
          "color": "#4D5663"
         },
         "title": {
          "font": {
           "color": "#4D5663"
          },
          "text": ""
         },
         "zerolinecolor": "#E1E5ED"
        },
        "xaxis10": {
         "anchor": "y10",
         "domain": [
          0.2625,
          0.475
         ],
         "gridcolor": "#E1E5ED",
         "showgrid": false,
         "tickfont": {
          "color": "#4D5663"
         },
         "title": {
          "font": {
           "color": "#4D5663"
          },
          "text": ""
         },
         "zerolinecolor": "#E1E5ED"
        },
        "xaxis11": {
         "anchor": "y11",
         "domain": [
          0.525,
          0.7375
         ],
         "gridcolor": "#E1E5ED",
         "showgrid": false,
         "tickfont": {
          "color": "#4D5663"
         },
         "title": {
          "font": {
           "color": "#4D5663"
          },
          "text": ""
         },
         "zerolinecolor": "#E1E5ED"
        },
        "xaxis12": {
         "anchor": "y12",
         "domain": [
          0.7875,
          1
         ],
         "gridcolor": "#E1E5ED",
         "showgrid": false,
         "tickfont": {
          "color": "#4D5663"
         },
         "title": {
          "font": {
           "color": "#4D5663"
          },
          "text": ""
         },
         "zerolinecolor": "#E1E5ED"
        },
        "xaxis13": {
         "anchor": "y13",
         "domain": [
          0,
          0.2125
         ],
         "gridcolor": "#E1E5ED",
         "showgrid": false,
         "tickfont": {
          "color": "#4D5663"
         },
         "title": {
          "font": {
           "color": "#4D5663"
          },
          "text": ""
         },
         "zerolinecolor": "#E1E5ED"
        },
        "xaxis14": {
         "anchor": "y14",
         "domain": [
          0.2625,
          0.475
         ],
         "gridcolor": "#E1E5ED",
         "showgrid": false,
         "tickfont": {
          "color": "#4D5663"
         },
         "title": {
          "font": {
           "color": "#4D5663"
          },
          "text": ""
         },
         "zerolinecolor": "#E1E5ED"
        },
        "xaxis15": {
         "anchor": "y15",
         "domain": [
          0.525,
          0.7375
         ],
         "gridcolor": "#E1E5ED",
         "showgrid": false,
         "tickfont": {
          "color": "#4D5663"
         },
         "title": {
          "font": {
           "color": "#4D5663"
          },
          "text": ""
         },
         "zerolinecolor": "#E1E5ED"
        },
        "xaxis16": {
         "anchor": "y16",
         "domain": [
          0.7875,
          1
         ],
         "gridcolor": "#E1E5ED",
         "showgrid": false,
         "tickfont": {
          "color": "#4D5663"
         },
         "title": {
          "font": {
           "color": "#4D5663"
          },
          "text": ""
         },
         "zerolinecolor": "#E1E5ED"
        },
        "xaxis2": {
         "anchor": "y2",
         "domain": [
          0.2625,
          0.475
         ],
         "gridcolor": "#E1E5ED",
         "showgrid": false,
         "tickfont": {
          "color": "#4D5663"
         },
         "title": {
          "font": {
           "color": "#4D5663"
          },
          "text": ""
         },
         "zerolinecolor": "#E1E5ED"
        },
        "xaxis3": {
         "anchor": "y3",
         "domain": [
          0.525,
          0.7375
         ],
         "gridcolor": "#E1E5ED",
         "showgrid": false,
         "tickfont": {
          "color": "#4D5663"
         },
         "title": {
          "font": {
           "color": "#4D5663"
          },
          "text": ""
         },
         "zerolinecolor": "#E1E5ED"
        },
        "xaxis4": {
         "anchor": "y4",
         "domain": [
          0.7875,
          1
         ],
         "gridcolor": "#E1E5ED",
         "showgrid": false,
         "tickfont": {
          "color": "#4D5663"
         },
         "title": {
          "font": {
           "color": "#4D5663"
          },
          "text": ""
         },
         "zerolinecolor": "#E1E5ED"
        },
        "xaxis5": {
         "anchor": "y5",
         "domain": [
          0,
          0.2125
         ],
         "gridcolor": "#E1E5ED",
         "showgrid": false,
         "tickfont": {
          "color": "#4D5663"
         },
         "title": {
          "font": {
           "color": "#4D5663"
          },
          "text": ""
         },
         "zerolinecolor": "#E1E5ED"
        },
        "xaxis6": {
         "anchor": "y6",
         "domain": [
          0.2625,
          0.475
         ],
         "gridcolor": "#E1E5ED",
         "showgrid": false,
         "tickfont": {
          "color": "#4D5663"
         },
         "title": {
          "font": {
           "color": "#4D5663"
          },
          "text": ""
         },
         "zerolinecolor": "#E1E5ED"
        },
        "xaxis7": {
         "anchor": "y7",
         "domain": [
          0.525,
          0.7375
         ],
         "gridcolor": "#E1E5ED",
         "showgrid": false,
         "tickfont": {
          "color": "#4D5663"
         },
         "title": {
          "font": {
           "color": "#4D5663"
          },
          "text": ""
         },
         "zerolinecolor": "#E1E5ED"
        },
        "xaxis8": {
         "anchor": "y8",
         "domain": [
          0.7875,
          1
         ],
         "gridcolor": "#E1E5ED",
         "showgrid": false,
         "tickfont": {
          "color": "#4D5663"
         },
         "title": {
          "font": {
           "color": "#4D5663"
          },
          "text": ""
         },
         "zerolinecolor": "#E1E5ED"
        },
        "xaxis9": {
         "anchor": "y9",
         "domain": [
          0,
          0.2125
         ],
         "gridcolor": "#E1E5ED",
         "showgrid": false,
         "tickfont": {
          "color": "#4D5663"
         },
         "title": {
          "font": {
           "color": "#4D5663"
          },
          "text": ""
         },
         "zerolinecolor": "#E1E5ED"
        },
        "yaxis": {
         "anchor": "x",
         "domain": [
          0.8025,
          1
         ],
         "gridcolor": "#E1E5ED",
         "showgrid": false,
         "tickfont": {
          "color": "#4D5663"
         },
         "title": {
          "font": {
           "color": "#4D5663"
          },
          "text": ""
         },
         "zerolinecolor": "#E1E5ED"
        },
        "yaxis10": {
         "anchor": "x10",
         "domain": [
          0.2675,
          0.465
         ],
         "gridcolor": "#E1E5ED",
         "showgrid": false,
         "tickfont": {
          "color": "#4D5663"
         },
         "title": {
          "font": {
           "color": "#4D5663"
          },
          "text": ""
         },
         "zerolinecolor": "#E1E5ED"
        },
        "yaxis11": {
         "anchor": "x11",
         "domain": [
          0.2675,
          0.465
         ],
         "gridcolor": "#E1E5ED",
         "showgrid": false,
         "tickfont": {
          "color": "#4D5663"
         },
         "title": {
          "font": {
           "color": "#4D5663"
          },
          "text": ""
         },
         "zerolinecolor": "#E1E5ED"
        },
        "yaxis12": {
         "anchor": "x12",
         "domain": [
          0.2675,
          0.465
         ],
         "gridcolor": "#E1E5ED",
         "showgrid": false,
         "tickfont": {
          "color": "#4D5663"
         },
         "title": {
          "font": {
           "color": "#4D5663"
          },
          "text": ""
         },
         "zerolinecolor": "#E1E5ED"
        },
        "yaxis13": {
         "anchor": "x13",
         "domain": [
          0,
          0.1975
         ],
         "gridcolor": "#E1E5ED",
         "showgrid": false,
         "tickfont": {
          "color": "#4D5663"
         },
         "title": {
          "font": {
           "color": "#4D5663"
          },
          "text": ""
         },
         "zerolinecolor": "#E1E5ED"
        },
        "yaxis14": {
         "anchor": "x14",
         "domain": [
          0,
          0.1975
         ],
         "gridcolor": "#E1E5ED",
         "showgrid": false,
         "tickfont": {
          "color": "#4D5663"
         },
         "title": {
          "font": {
           "color": "#4D5663"
          },
          "text": ""
         },
         "zerolinecolor": "#E1E5ED"
        },
        "yaxis15": {
         "anchor": "x15",
         "domain": [
          0,
          0.1975
         ],
         "gridcolor": "#E1E5ED",
         "showgrid": false,
         "tickfont": {
          "color": "#4D5663"
         },
         "title": {
          "font": {
           "color": "#4D5663"
          },
          "text": ""
         },
         "zerolinecolor": "#E1E5ED"
        },
        "yaxis16": {
         "anchor": "x16",
         "domain": [
          0,
          0.1975
         ],
         "gridcolor": "#E1E5ED",
         "showgrid": false,
         "tickfont": {
          "color": "#4D5663"
         },
         "title": {
          "font": {
           "color": "#4D5663"
          },
          "text": ""
         },
         "zerolinecolor": "#E1E5ED"
        },
        "yaxis2": {
         "anchor": "x2",
         "domain": [
          0.8025,
          1
         ],
         "gridcolor": "#E1E5ED",
         "showgrid": false,
         "tickfont": {
          "color": "#4D5663"
         },
         "title": {
          "font": {
           "color": "#4D5663"
          },
          "text": ""
         },
         "zerolinecolor": "#E1E5ED"
        },
        "yaxis3": {
         "anchor": "x3",
         "domain": [
          0.8025,
          1
         ],
         "gridcolor": "#E1E5ED",
         "showgrid": false,
         "tickfont": {
          "color": "#4D5663"
         },
         "title": {
          "font": {
           "color": "#4D5663"
          },
          "text": ""
         },
         "zerolinecolor": "#E1E5ED"
        },
        "yaxis4": {
         "anchor": "x4",
         "domain": [
          0.8025,
          1
         ],
         "gridcolor": "#E1E5ED",
         "showgrid": false,
         "tickfont": {
          "color": "#4D5663"
         },
         "title": {
          "font": {
           "color": "#4D5663"
          },
          "text": ""
         },
         "zerolinecolor": "#E1E5ED"
        },
        "yaxis5": {
         "anchor": "x5",
         "domain": [
          0.535,
          0.7325
         ],
         "gridcolor": "#E1E5ED",
         "showgrid": false,
         "tickfont": {
          "color": "#4D5663"
         },
         "title": {
          "font": {
           "color": "#4D5663"
          },
          "text": ""
         },
         "zerolinecolor": "#E1E5ED"
        },
        "yaxis6": {
         "anchor": "x6",
         "domain": [
          0.535,
          0.7325
         ],
         "gridcolor": "#E1E5ED",
         "showgrid": false,
         "tickfont": {
          "color": "#4D5663"
         },
         "title": {
          "font": {
           "color": "#4D5663"
          },
          "text": ""
         },
         "zerolinecolor": "#E1E5ED"
        },
        "yaxis7": {
         "anchor": "x7",
         "domain": [
          0.535,
          0.7325
         ],
         "gridcolor": "#E1E5ED",
         "showgrid": false,
         "tickfont": {
          "color": "#4D5663"
         },
         "title": {
          "font": {
           "color": "#4D5663"
          },
          "text": ""
         },
         "zerolinecolor": "#E1E5ED"
        },
        "yaxis8": {
         "anchor": "x8",
         "domain": [
          0.535,
          0.7325
         ],
         "gridcolor": "#E1E5ED",
         "showgrid": false,
         "tickfont": {
          "color": "#4D5663"
         },
         "title": {
          "font": {
           "color": "#4D5663"
          },
          "text": ""
         },
         "zerolinecolor": "#E1E5ED"
        },
        "yaxis9": {
         "anchor": "x9",
         "domain": [
          0.2675,
          0.465
         ],
         "gridcolor": "#E1E5ED",
         "showgrid": false,
         "tickfont": {
          "color": "#4D5663"
         },
         "title": {
          "font": {
           "color": "#4D5663"
          },
          "text": ""
         },
         "zerolinecolor": "#E1E5ED"
        }
       }
      },
      "text/html": [
       "<div>                            <div id=\"a2f2aa36-27bd-4bd5-a5e4-936bf5203ae9\" class=\"plotly-graph-div\" style=\"height:525px; width:100%;\"></div>            <script type=\"text/javascript\">                require([\"plotly\"], function(Plotly) {                    window.PLOTLYENV=window.PLOTLYENV || {};\n",
       "                    window.PLOTLYENV.BASE_URL='https://plot.ly';                                    if (document.getElementById(\"a2f2aa36-27bd-4bd5-a5e4-936bf5203ae9\")) {                    Plotly.newPlot(                        \"a2f2aa36-27bd-4bd5-a5e4-936bf5203ae9\",                        [{\"histfunc\":\"count\",\"histnorm\":\"\",\"marker\":{\"color\":\"rgba(255, 153, 51, 1.0)\",\"line\":{\"color\":\"#4D5663\",\"width\":1.3}},\"name\":\"A\",\"nbinsx\":10,\"opacity\":0.8,\"orientation\":\"v\",\"x\":[-0.6185864777596235,-0.09549749996174815,0.7735155947714842,-1.9544208522009834,0.9321062993468145,0.36391957912219924,1.0222517106252103,0.21428349229504423,0.30155723927183736,-1.7737081556426644,-0.8813197097782401,-1.1833788622984094,1.0921030137803465,0.47150727733146436,-1.6539348028518632,-0.28566133680357586,1.6103067819704,-1.8417392372265438,0.039193584163302084,-0.6695950365093897,-0.7291227819448418,0.17384486693441867,1.5625067918950442,-2.118320960980159,-0.6478092575126989,-1.3354358976613383,-0.11900269907027594,1.8690436615397525,0.3602185862801853,0.954444106941083,-1.3426442266410488,-0.5861974838373313,-1.2776509648542993,-0.17202929225908314,-0.5899977906595941,1.3660735045819095,-1.096820738909289,0.09159655138384042,0.8669297839834728,0.11618036291092862,-0.1306793735655419,-1.409084507446096,-1.1458344122244621,-0.20695860339653058,-1.037860881063523,0.01958383190177941,1.877231153321232,-0.4861599541240264,0.2256221614426137,1.0191400317688684,-1.7994981450956142,-0.449892724101533,-1.7060329759096715,-0.7097216977459914,-0.8825995557308481,0.33962848154734276,0.20113285388190974,0.46035911247198713,0.7091683111522437,-1.2284387339475709,0.11445375532849965,-0.11410251539813779,-0.433581463941365,-0.1506692378419643,0.33482007756007925,-1.5145111918515755,0.570038479119206,-1.2112103535764067,-0.4029111539814335,-0.19348347413316772,-0.18662039060185484,-0.4020159349141075,-1.104221400696765,-0.7881037638705021,0.9624880966553944,0.8370910133274343,0.08064775753280434,0.4529394450193887,0.8144227765728742,-0.4139266273079406,-0.16045457024510903,0.11560583805022592,0.5018750969144258,-1.05549272187284,0.6646897400226129,0.7252518633264401,-0.8634744428274881,0.14526679817629318,0.5642348261932901,-0.5739339256594503,0.15846871036688384,0.5303216539889294,-0.4638919188417855,-2.653303499100419,0.30810942245492506,1.337533737637027,1.0885583937029353,-1.6447907309114553,0.6693410844821837,-0.023858538897312875],\"xaxis\":\"x\",\"yaxis\":\"y\",\"type\":\"histogram\"},{\"line\":{\"color\":\"rgba(128, 128, 128, 1.0)\",\"dash\":\"solid\",\"shape\":\"linear\",\"width\":1.3},\"marker\":{\"size\":2,\"symbol\":\"circle\"},\"mode\":\"markers\",\"name\":\"A\",\"text\":\"\",\"x\":[-0.4592523817006714,1.614960731672855,-1.4206426925982674,1.1551454541846038,-0.34613058552962517,1.6624230716641488,-0.11554649598016219,-0.01851161969972325,0.09984663041486533,-2.043102167532454,-1.478451948264321,-0.2788843499486517,-0.1497492795430963,1.9533168820677445,-0.10989230038135865,0.31344790900193625,0.08678752237308349,-0.3990447395439932,-1.4424816562369789,-0.028981252459112657,-0.4160821900068768,-0.9024826500293118,-0.5208567006043135,0.37071150697915956,0.29340762940465925,-0.15303788800844492,-1.7013013838151183,-2.1032089257065056,0.01803007769576685,0.774085466469011,-0.0130218043338703,0.7479391896322369,0.7318773540406959,-1.800944110150754,1.4099248117758916,-1.5325103771876123,0.5782922057046384,0.3053398932705239,-0.06430529590814345,1.0236623980295185,0.6914789499794927,0.7371810656811424,2.606242974469369,-1.5007673763044456,-1.0420156920821377,0.046743919591023995,1.3154764187085386,-0.18591517662231646,0.7578452017067829,-1.1201103682918108,-1.4809656473238406,-1.932290152656959,0.5687456244608741,-2.183122855649209,-0.18703771863844015,0.38248194212075454,-1.4501529065420269,1.0649615189495414,-0.44540408458769665,-0.5991301447361154,0.608703902269564,0.4058260851185324,0.457400126610244,0.5464347317371752,-0.2577028738771836,-0.6222900815300759,0.04461153224918688,-2.447018762098259,-0.23888100490859634,0.08761509395317087,1.623124602304495,1.1845787037770144,0.5492856988758372,1.130595322987083,-1.8840243529998721,0.18955829582691278,1.6839930239683714,0.5334500493016082,1.8492431165364005,0.4549707177333402,0.6697077146222054,0.4085483537015883,-0.5082199635442869,0.3448252142610793,-0.9833076650745944,0.2228561564482779,1.314600834470803,0.5969614245184819,0.5615669274826204,-0.03580808061129372,0.2825263823615819,-2.104980414657762,-1.8480485079071858,-1.2798589824928985,-0.4685176982797968,1.3615871560013324,0.7947295589257131,-1.018205327768071,0.6838015779839137,-0.445118498396265],\"xaxis\":\"x2\",\"y\":[-0.6185864777596235,-0.09549749996174815,0.7735155947714842,-1.9544208522009834,0.9321062993468145,0.36391957912219924,1.0222517106252103,0.21428349229504423,0.30155723927183736,-1.7737081556426644,-0.8813197097782401,-1.1833788622984094,1.0921030137803465,0.47150727733146436,-1.6539348028518632,-0.28566133680357586,1.6103067819704,-1.8417392372265438,0.039193584163302084,-0.6695950365093897,-0.7291227819448418,0.17384486693441867,1.5625067918950442,-2.118320960980159,-0.6478092575126989,-1.3354358976613383,-0.11900269907027594,1.8690436615397525,0.3602185862801853,0.954444106941083,-1.3426442266410488,-0.5861974838373313,-1.2776509648542993,-0.17202929225908314,-0.5899977906595941,1.3660735045819095,-1.096820738909289,0.09159655138384042,0.8669297839834728,0.11618036291092862,-0.1306793735655419,-1.409084507446096,-1.1458344122244621,-0.20695860339653058,-1.037860881063523,0.01958383190177941,1.877231153321232,-0.4861599541240264,0.2256221614426137,1.0191400317688684,-1.7994981450956142,-0.449892724101533,-1.7060329759096715,-0.7097216977459914,-0.8825995557308481,0.33962848154734276,0.20113285388190974,0.46035911247198713,0.7091683111522437,-1.2284387339475709,0.11445375532849965,-0.11410251539813779,-0.433581463941365,-0.1506692378419643,0.33482007756007925,-1.5145111918515755,0.570038479119206,-1.2112103535764067,-0.4029111539814335,-0.19348347413316772,-0.18662039060185484,-0.4020159349141075,-1.104221400696765,-0.7881037638705021,0.9624880966553944,0.8370910133274343,0.08064775753280434,0.4529394450193887,0.8144227765728742,-0.4139266273079406,-0.16045457024510903,0.11560583805022592,0.5018750969144258,-1.05549272187284,0.6646897400226129,0.7252518633264401,-0.8634744428274881,0.14526679817629318,0.5642348261932901,-0.5739339256594503,0.15846871036688384,0.5303216539889294,-0.4638919188417855,-2.653303499100419,0.30810942245492506,1.337533737637027,1.0885583937029353,-1.6447907309114553,0.6693410844821837,-0.023858538897312875],\"yaxis\":\"y2\",\"type\":\"scatter\"},{\"line\":{\"color\":\"rgba(128, 128, 128, 1.0)\",\"dash\":\"solid\",\"shape\":\"linear\",\"width\":1.3},\"marker\":{\"size\":2,\"symbol\":\"circle\"},\"mode\":\"markers\",\"name\":\"A\",\"text\":\"\",\"x\":[-0.8421603506766187,-0.9706041899799989,0.6832531168715341,1.6468678884740529,-0.16568135375708265,0.6293779960362839,1.2922687753064812,-0.09669053752515908,0.758570054065179,-0.8839507721828632,1.2280342442807675,-0.4628807989882697,-0.7161165844696878,1.4464843188409209,1.4629995097962403,-0.6286919968925113,0.5498266948912985,0.46202528676540383,-1.5968510028160237,1.6849093652971419,1.3184842391473701,1.7523413485734658,1.1145417017973525,0.8238061796830247,-0.11673079421807615,-0.9431413499758955,-0.6661012696103875,1.59665769705926,-1.4418095782645222,-0.028825792028261146,0.8846910659012178,1.3445888166417854,0.831313865520293,0.8984402570930786,0.9547597163223918,0.7243675719745242,-0.8504776604197904,0.7231445379854539,0.2122902086328843,-0.6319829696360213,0.8116987479536433,0.5663356880650702,-1.4081827739065174,1.3257080152455498,-0.35341041248399896,0.5986991170484928,-1.601105994725186,0.4510025063777082,-1.843962988505521,-0.6175567323014791,-0.46874922145868564,0.8017055728270843,0.9295789737059647,0.5769158548612651,0.8241325254974661,-1.3989811469531985,-0.1737328629106375,-1.1120987796057764,0.08397943697541344,0.41450385508002524,0.37813446451759153,0.5637465086282746,0.23448459891588502,-0.646152213425436,0.6888265843952968,1.1773248338495332,-2.366822749360234,2.5593268473776716,-0.8337284202472874,-0.6349992892264821,-1.1108274470015802,-0.5504924823973055,-0.5166790104444628,-0.35967398108001764,0.03304142061605584,-0.9953569079540042,-0.34225235175776236,0.05415196437471269,1.4312114089526344,-0.06819439128707315,0.9337859534275348,-0.9979806075142508,2.5153526996216797,-0.9202468939840021,-0.5645653682586875,-0.41454134423968747,-0.37516634580729047,-1.0212328426549688,-1.462300513745385,-1.767508363123518,-0.40178821637522183,-0.17122260507528686,0.4352737343905665,-0.01868513096343089,1.0548725514811137,-0.3919034473977661,0.08727005314804788,1.5252750004784736,1.2406486221739632,-1.5894052324070254],\"xaxis\":\"x3\",\"y\":[-0.6185864777596235,-0.09549749996174815,0.7735155947714842,-1.9544208522009834,0.9321062993468145,0.36391957912219924,1.0222517106252103,0.21428349229504423,0.30155723927183736,-1.7737081556426644,-0.8813197097782401,-1.1833788622984094,1.0921030137803465,0.47150727733146436,-1.6539348028518632,-0.28566133680357586,1.6103067819704,-1.8417392372265438,0.039193584163302084,-0.6695950365093897,-0.7291227819448418,0.17384486693441867,1.5625067918950442,-2.118320960980159,-0.6478092575126989,-1.3354358976613383,-0.11900269907027594,1.8690436615397525,0.3602185862801853,0.954444106941083,-1.3426442266410488,-0.5861974838373313,-1.2776509648542993,-0.17202929225908314,-0.5899977906595941,1.3660735045819095,-1.096820738909289,0.09159655138384042,0.8669297839834728,0.11618036291092862,-0.1306793735655419,-1.409084507446096,-1.1458344122244621,-0.20695860339653058,-1.037860881063523,0.01958383190177941,1.877231153321232,-0.4861599541240264,0.2256221614426137,1.0191400317688684,-1.7994981450956142,-0.449892724101533,-1.7060329759096715,-0.7097216977459914,-0.8825995557308481,0.33962848154734276,0.20113285388190974,0.46035911247198713,0.7091683111522437,-1.2284387339475709,0.11445375532849965,-0.11410251539813779,-0.433581463941365,-0.1506692378419643,0.33482007756007925,-1.5145111918515755,0.570038479119206,-1.2112103535764067,-0.4029111539814335,-0.19348347413316772,-0.18662039060185484,-0.4020159349141075,-1.104221400696765,-0.7881037638705021,0.9624880966553944,0.8370910133274343,0.08064775753280434,0.4529394450193887,0.8144227765728742,-0.4139266273079406,-0.16045457024510903,0.11560583805022592,0.5018750969144258,-1.05549272187284,0.6646897400226129,0.7252518633264401,-0.8634744428274881,0.14526679817629318,0.5642348261932901,-0.5739339256594503,0.15846871036688384,0.5303216539889294,-0.4638919188417855,-2.653303499100419,0.30810942245492506,1.337533737637027,1.0885583937029353,-1.6447907309114553,0.6693410844821837,-0.023858538897312875],\"yaxis\":\"y3\",\"type\":\"scatter\"},{\"line\":{\"color\":\"rgba(128, 128, 128, 1.0)\",\"dash\":\"solid\",\"shape\":\"linear\",\"width\":1.3},\"marker\":{\"size\":2,\"symbol\":\"circle\"},\"mode\":\"markers\",\"name\":\"A\",\"text\":\"\",\"x\":[0.5126109428890469,1.4892272058537255,-0.06466481511960792,0.807094467503425,0.09912812177445302,0.0037604224907197346,1.7881832836634417,1.4373731417175712,-0.49032218019714713,0.7844086874638536,-0.9135354119307758,0.5083954666397061,-3.1349339074281404,-2.21207508186638,0.4447330266031348,0.18787135141075115,0.14751055603017138,-1.0925191742194862,-1.420182643360601,-2.6950447421847166,-1.1120408459566193,-1.5119946162620084,0.21487814882806078,-0.5778547810602227,-0.6157290651613634,-0.5141466764562026,-1.5873889037285451,-0.3247674515862568,1.8465745931558841,0.3717136751793924,-0.0944745193772145,-0.7256893345692426,0.6329911919873296,0.8432331721074044,0.21506185326754326,-0.3946349840372016,1.0164983176266524,0.2707980457033641,0.43401711765144985,-0.7514870419734236,1.5967967931952454,-0.5192006010979153,-0.16636177789934467,1.063769112378764,0.04824552637562311,-0.30927218647456906,-0.8455324146613583,-1.292727257811507,0.8011477929185559,-0.35765870279142736,-0.1801085848973175,-0.5179106531571229,0.20678839468290003,0.21217097423294343,-0.5197920666799181,1.5452085633784096,0.8164027682792973,1.7211677024187413,-0.056769339959388786,-1.441754323154373,-2.1037029742663806,0.784787163635707,-0.9254897742956887,-0.30742465476637876,-0.795795144089506,-0.20367749333363674,-0.44097727181532287,1.1106618413964617,-1.4799913193064362,0.820803062794328,-0.885579677922769,0.7746145957497992,-0.584185617026759,0.44814214424737153,0.7327582698609134,-0.42593933722798827,0.5025705667376403,-1.94052132088566,1.151791010936278,0.18333509384631916,-0.8832256403000278,1.4734051005315147,2.1904546051168485,0.9807512609165957,-1.121059250174489,0.22222861053794152,-0.5101600824000081,0.0960439749329373,-0.9434158601417526,0.2280746660646097,-0.6199711206314074,-0.19296185060244755,-0.7950160586572694,-0.650755287984872,0.10002357639733761,-0.399410590339489,0.4257795860026511,-0.9861302587332238,1.2273480606955298,-0.45426223575550595],\"xaxis\":\"x4\",\"y\":[-0.6185864777596235,-0.09549749996174815,0.7735155947714842,-1.9544208522009834,0.9321062993468145,0.36391957912219924,1.0222517106252103,0.21428349229504423,0.30155723927183736,-1.7737081556426644,-0.8813197097782401,-1.1833788622984094,1.0921030137803465,0.47150727733146436,-1.6539348028518632,-0.28566133680357586,1.6103067819704,-1.8417392372265438,0.039193584163302084,-0.6695950365093897,-0.7291227819448418,0.17384486693441867,1.5625067918950442,-2.118320960980159,-0.6478092575126989,-1.3354358976613383,-0.11900269907027594,1.8690436615397525,0.3602185862801853,0.954444106941083,-1.3426442266410488,-0.5861974838373313,-1.2776509648542993,-0.17202929225908314,-0.5899977906595941,1.3660735045819095,-1.096820738909289,0.09159655138384042,0.8669297839834728,0.11618036291092862,-0.1306793735655419,-1.409084507446096,-1.1458344122244621,-0.20695860339653058,-1.037860881063523,0.01958383190177941,1.877231153321232,-0.4861599541240264,0.2256221614426137,1.0191400317688684,-1.7994981450956142,-0.449892724101533,-1.7060329759096715,-0.7097216977459914,-0.8825995557308481,0.33962848154734276,0.20113285388190974,0.46035911247198713,0.7091683111522437,-1.2284387339475709,0.11445375532849965,-0.11410251539813779,-0.433581463941365,-0.1506692378419643,0.33482007756007925,-1.5145111918515755,0.570038479119206,-1.2112103535764067,-0.4029111539814335,-0.19348347413316772,-0.18662039060185484,-0.4020159349141075,-1.104221400696765,-0.7881037638705021,0.9624880966553944,0.8370910133274343,0.08064775753280434,0.4529394450193887,0.8144227765728742,-0.4139266273079406,-0.16045457024510903,0.11560583805022592,0.5018750969144258,-1.05549272187284,0.6646897400226129,0.7252518633264401,-0.8634744428274881,0.14526679817629318,0.5642348261932901,-0.5739339256594503,0.15846871036688384,0.5303216539889294,-0.4638919188417855,-2.653303499100419,0.30810942245492506,1.337533737637027,1.0885583937029353,-1.6447907309114553,0.6693410844821837,-0.023858538897312875],\"yaxis\":\"y4\",\"type\":\"scatter\"},{\"line\":{\"color\":\"rgba(128, 128, 128, 1.0)\",\"dash\":\"solid\",\"shape\":\"linear\",\"width\":1.3},\"marker\":{\"size\":2,\"symbol\":\"circle\"},\"mode\":\"markers\",\"name\":\"B\",\"text\":\"\",\"x\":[-0.6185864777596235,-0.09549749996174815,0.7735155947714842,-1.9544208522009834,0.9321062993468145,0.36391957912219924,1.0222517106252103,0.21428349229504423,0.30155723927183736,-1.7737081556426644,-0.8813197097782401,-1.1833788622984094,1.0921030137803465,0.47150727733146436,-1.6539348028518632,-0.28566133680357586,1.6103067819704,-1.8417392372265438,0.039193584163302084,-0.6695950365093897,-0.7291227819448418,0.17384486693441867,1.5625067918950442,-2.118320960980159,-0.6478092575126989,-1.3354358976613383,-0.11900269907027594,1.8690436615397525,0.3602185862801853,0.954444106941083,-1.3426442266410488,-0.5861974838373313,-1.2776509648542993,-0.17202929225908314,-0.5899977906595941,1.3660735045819095,-1.096820738909289,0.09159655138384042,0.8669297839834728,0.11618036291092862,-0.1306793735655419,-1.409084507446096,-1.1458344122244621,-0.20695860339653058,-1.037860881063523,0.01958383190177941,1.877231153321232,-0.4861599541240264,0.2256221614426137,1.0191400317688684,-1.7994981450956142,-0.449892724101533,-1.7060329759096715,-0.7097216977459914,-0.8825995557308481,0.33962848154734276,0.20113285388190974,0.46035911247198713,0.7091683111522437,-1.2284387339475709,0.11445375532849965,-0.11410251539813779,-0.433581463941365,-0.1506692378419643,0.33482007756007925,-1.5145111918515755,0.570038479119206,-1.2112103535764067,-0.4029111539814335,-0.19348347413316772,-0.18662039060185484,-0.4020159349141075,-1.104221400696765,-0.7881037638705021,0.9624880966553944,0.8370910133274343,0.08064775753280434,0.4529394450193887,0.8144227765728742,-0.4139266273079406,-0.16045457024510903,0.11560583805022592,0.5018750969144258,-1.05549272187284,0.6646897400226129,0.7252518633264401,-0.8634744428274881,0.14526679817629318,0.5642348261932901,-0.5739339256594503,0.15846871036688384,0.5303216539889294,-0.4638919188417855,-2.653303499100419,0.30810942245492506,1.337533737637027,1.0885583937029353,-1.6447907309114553,0.6693410844821837,-0.023858538897312875],\"xaxis\":\"x5\",\"y\":[-0.4592523817006714,1.614960731672855,-1.4206426925982674,1.1551454541846038,-0.34613058552962517,1.6624230716641488,-0.11554649598016219,-0.01851161969972325,0.09984663041486533,-2.043102167532454,-1.478451948264321,-0.2788843499486517,-0.1497492795430963,1.9533168820677445,-0.10989230038135865,0.31344790900193625,0.08678752237308349,-0.3990447395439932,-1.4424816562369789,-0.028981252459112657,-0.4160821900068768,-0.9024826500293118,-0.5208567006043135,0.37071150697915956,0.29340762940465925,-0.15303788800844492,-1.7013013838151183,-2.1032089257065056,0.01803007769576685,0.774085466469011,-0.0130218043338703,0.7479391896322369,0.7318773540406959,-1.800944110150754,1.4099248117758916,-1.5325103771876123,0.5782922057046384,0.3053398932705239,-0.06430529590814345,1.0236623980295185,0.6914789499794927,0.7371810656811424,2.606242974469369,-1.5007673763044456,-1.0420156920821377,0.046743919591023995,1.3154764187085386,-0.18591517662231646,0.7578452017067829,-1.1201103682918108,-1.4809656473238406,-1.932290152656959,0.5687456244608741,-2.183122855649209,-0.18703771863844015,0.38248194212075454,-1.4501529065420269,1.0649615189495414,-0.44540408458769665,-0.5991301447361154,0.608703902269564,0.4058260851185324,0.457400126610244,0.5464347317371752,-0.2577028738771836,-0.6222900815300759,0.04461153224918688,-2.447018762098259,-0.23888100490859634,0.08761509395317087,1.623124602304495,1.1845787037770144,0.5492856988758372,1.130595322987083,-1.8840243529998721,0.18955829582691278,1.6839930239683714,0.5334500493016082,1.8492431165364005,0.4549707177333402,0.6697077146222054,0.4085483537015883,-0.5082199635442869,0.3448252142610793,-0.9833076650745944,0.2228561564482779,1.314600834470803,0.5969614245184819,0.5615669274826204,-0.03580808061129372,0.2825263823615819,-2.104980414657762,-1.8480485079071858,-1.2798589824928985,-0.4685176982797968,1.3615871560013324,0.7947295589257131,-1.018205327768071,0.6838015779839137,-0.445118498396265],\"yaxis\":\"y5\",\"type\":\"scatter\"},{\"histfunc\":\"count\",\"histnorm\":\"\",\"marker\":{\"color\":\"rgba(55, 128, 191, 1.0)\",\"line\":{\"color\":\"#4D5663\",\"width\":1.3}},\"name\":\"B\",\"nbinsx\":10,\"opacity\":0.8,\"orientation\":\"v\",\"x\":[-0.4592523817006714,1.614960731672855,-1.4206426925982674,1.1551454541846038,-0.34613058552962517,1.6624230716641488,-0.11554649598016219,-0.01851161969972325,0.09984663041486533,-2.043102167532454,-1.478451948264321,-0.2788843499486517,-0.1497492795430963,1.9533168820677445,-0.10989230038135865,0.31344790900193625,0.08678752237308349,-0.3990447395439932,-1.4424816562369789,-0.028981252459112657,-0.4160821900068768,-0.9024826500293118,-0.5208567006043135,0.37071150697915956,0.29340762940465925,-0.15303788800844492,-1.7013013838151183,-2.1032089257065056,0.01803007769576685,0.774085466469011,-0.0130218043338703,0.7479391896322369,0.7318773540406959,-1.800944110150754,1.4099248117758916,-1.5325103771876123,0.5782922057046384,0.3053398932705239,-0.06430529590814345,1.0236623980295185,0.6914789499794927,0.7371810656811424,2.606242974469369,-1.5007673763044456,-1.0420156920821377,0.046743919591023995,1.3154764187085386,-0.18591517662231646,0.7578452017067829,-1.1201103682918108,-1.4809656473238406,-1.932290152656959,0.5687456244608741,-2.183122855649209,-0.18703771863844015,0.38248194212075454,-1.4501529065420269,1.0649615189495414,-0.44540408458769665,-0.5991301447361154,0.608703902269564,0.4058260851185324,0.457400126610244,0.5464347317371752,-0.2577028738771836,-0.6222900815300759,0.04461153224918688,-2.447018762098259,-0.23888100490859634,0.08761509395317087,1.623124602304495,1.1845787037770144,0.5492856988758372,1.130595322987083,-1.8840243529998721,0.18955829582691278,1.6839930239683714,0.5334500493016082,1.8492431165364005,0.4549707177333402,0.6697077146222054,0.4085483537015883,-0.5082199635442869,0.3448252142610793,-0.9833076650745944,0.2228561564482779,1.314600834470803,0.5969614245184819,0.5615669274826204,-0.03580808061129372,0.2825263823615819,-2.104980414657762,-1.8480485079071858,-1.2798589824928985,-0.4685176982797968,1.3615871560013324,0.7947295589257131,-1.018205327768071,0.6838015779839137,-0.445118498396265],\"xaxis\":\"x6\",\"yaxis\":\"y6\",\"type\":\"histogram\"},{\"line\":{\"color\":\"rgba(128, 128, 128, 1.0)\",\"dash\":\"solid\",\"shape\":\"linear\",\"width\":1.3},\"marker\":{\"size\":2,\"symbol\":\"circle\"},\"mode\":\"markers\",\"name\":\"B\",\"text\":\"\",\"x\":[-0.8421603506766187,-0.9706041899799989,0.6832531168715341,1.6468678884740529,-0.16568135375708265,0.6293779960362839,1.2922687753064812,-0.09669053752515908,0.758570054065179,-0.8839507721828632,1.2280342442807675,-0.4628807989882697,-0.7161165844696878,1.4464843188409209,1.4629995097962403,-0.6286919968925113,0.5498266948912985,0.46202528676540383,-1.5968510028160237,1.6849093652971419,1.3184842391473701,1.7523413485734658,1.1145417017973525,0.8238061796830247,-0.11673079421807615,-0.9431413499758955,-0.6661012696103875,1.59665769705926,-1.4418095782645222,-0.028825792028261146,0.8846910659012178,1.3445888166417854,0.831313865520293,0.8984402570930786,0.9547597163223918,0.7243675719745242,-0.8504776604197904,0.7231445379854539,0.2122902086328843,-0.6319829696360213,0.8116987479536433,0.5663356880650702,-1.4081827739065174,1.3257080152455498,-0.35341041248399896,0.5986991170484928,-1.601105994725186,0.4510025063777082,-1.843962988505521,-0.6175567323014791,-0.46874922145868564,0.8017055728270843,0.9295789737059647,0.5769158548612651,0.8241325254974661,-1.3989811469531985,-0.1737328629106375,-1.1120987796057764,0.08397943697541344,0.41450385508002524,0.37813446451759153,0.5637465086282746,0.23448459891588502,-0.646152213425436,0.6888265843952968,1.1773248338495332,-2.366822749360234,2.5593268473776716,-0.8337284202472874,-0.6349992892264821,-1.1108274470015802,-0.5504924823973055,-0.5166790104444628,-0.35967398108001764,0.03304142061605584,-0.9953569079540042,-0.34225235175776236,0.05415196437471269,1.4312114089526344,-0.06819439128707315,0.9337859534275348,-0.9979806075142508,2.5153526996216797,-0.9202468939840021,-0.5645653682586875,-0.41454134423968747,-0.37516634580729047,-1.0212328426549688,-1.462300513745385,-1.767508363123518,-0.40178821637522183,-0.17122260507528686,0.4352737343905665,-0.01868513096343089,1.0548725514811137,-0.3919034473977661,0.08727005314804788,1.5252750004784736,1.2406486221739632,-1.5894052324070254],\"xaxis\":\"x7\",\"y\":[-0.4592523817006714,1.614960731672855,-1.4206426925982674,1.1551454541846038,-0.34613058552962517,1.6624230716641488,-0.11554649598016219,-0.01851161969972325,0.09984663041486533,-2.043102167532454,-1.478451948264321,-0.2788843499486517,-0.1497492795430963,1.9533168820677445,-0.10989230038135865,0.31344790900193625,0.08678752237308349,-0.3990447395439932,-1.4424816562369789,-0.028981252459112657,-0.4160821900068768,-0.9024826500293118,-0.5208567006043135,0.37071150697915956,0.29340762940465925,-0.15303788800844492,-1.7013013838151183,-2.1032089257065056,0.01803007769576685,0.774085466469011,-0.0130218043338703,0.7479391896322369,0.7318773540406959,-1.800944110150754,1.4099248117758916,-1.5325103771876123,0.5782922057046384,0.3053398932705239,-0.06430529590814345,1.0236623980295185,0.6914789499794927,0.7371810656811424,2.606242974469369,-1.5007673763044456,-1.0420156920821377,0.046743919591023995,1.3154764187085386,-0.18591517662231646,0.7578452017067829,-1.1201103682918108,-1.4809656473238406,-1.932290152656959,0.5687456244608741,-2.183122855649209,-0.18703771863844015,0.38248194212075454,-1.4501529065420269,1.0649615189495414,-0.44540408458769665,-0.5991301447361154,0.608703902269564,0.4058260851185324,0.457400126610244,0.5464347317371752,-0.2577028738771836,-0.6222900815300759,0.04461153224918688,-2.447018762098259,-0.23888100490859634,0.08761509395317087,1.623124602304495,1.1845787037770144,0.5492856988758372,1.130595322987083,-1.8840243529998721,0.18955829582691278,1.6839930239683714,0.5334500493016082,1.8492431165364005,0.4549707177333402,0.6697077146222054,0.4085483537015883,-0.5082199635442869,0.3448252142610793,-0.9833076650745944,0.2228561564482779,1.314600834470803,0.5969614245184819,0.5615669274826204,-0.03580808061129372,0.2825263823615819,-2.104980414657762,-1.8480485079071858,-1.2798589824928985,-0.4685176982797968,1.3615871560013324,0.7947295589257131,-1.018205327768071,0.6838015779839137,-0.445118498396265],\"yaxis\":\"y7\",\"type\":\"scatter\"},{\"line\":{\"color\":\"rgba(128, 128, 128, 1.0)\",\"dash\":\"solid\",\"shape\":\"linear\",\"width\":1.3},\"marker\":{\"size\":2,\"symbol\":\"circle\"},\"mode\":\"markers\",\"name\":\"B\",\"text\":\"\",\"x\":[0.5126109428890469,1.4892272058537255,-0.06466481511960792,0.807094467503425,0.09912812177445302,0.0037604224907197346,1.7881832836634417,1.4373731417175712,-0.49032218019714713,0.7844086874638536,-0.9135354119307758,0.5083954666397061,-3.1349339074281404,-2.21207508186638,0.4447330266031348,0.18787135141075115,0.14751055603017138,-1.0925191742194862,-1.420182643360601,-2.6950447421847166,-1.1120408459566193,-1.5119946162620084,0.21487814882806078,-0.5778547810602227,-0.6157290651613634,-0.5141466764562026,-1.5873889037285451,-0.3247674515862568,1.8465745931558841,0.3717136751793924,-0.0944745193772145,-0.7256893345692426,0.6329911919873296,0.8432331721074044,0.21506185326754326,-0.3946349840372016,1.0164983176266524,0.2707980457033641,0.43401711765144985,-0.7514870419734236,1.5967967931952454,-0.5192006010979153,-0.16636177789934467,1.063769112378764,0.04824552637562311,-0.30927218647456906,-0.8455324146613583,-1.292727257811507,0.8011477929185559,-0.35765870279142736,-0.1801085848973175,-0.5179106531571229,0.20678839468290003,0.21217097423294343,-0.5197920666799181,1.5452085633784096,0.8164027682792973,1.7211677024187413,-0.056769339959388786,-1.441754323154373,-2.1037029742663806,0.784787163635707,-0.9254897742956887,-0.30742465476637876,-0.795795144089506,-0.20367749333363674,-0.44097727181532287,1.1106618413964617,-1.4799913193064362,0.820803062794328,-0.885579677922769,0.7746145957497992,-0.584185617026759,0.44814214424737153,0.7327582698609134,-0.42593933722798827,0.5025705667376403,-1.94052132088566,1.151791010936278,0.18333509384631916,-0.8832256403000278,1.4734051005315147,2.1904546051168485,0.9807512609165957,-1.121059250174489,0.22222861053794152,-0.5101600824000081,0.0960439749329373,-0.9434158601417526,0.2280746660646097,-0.6199711206314074,-0.19296185060244755,-0.7950160586572694,-0.650755287984872,0.10002357639733761,-0.399410590339489,0.4257795860026511,-0.9861302587332238,1.2273480606955298,-0.45426223575550595],\"xaxis\":\"x8\",\"y\":[-0.4592523817006714,1.614960731672855,-1.4206426925982674,1.1551454541846038,-0.34613058552962517,1.6624230716641488,-0.11554649598016219,-0.01851161969972325,0.09984663041486533,-2.043102167532454,-1.478451948264321,-0.2788843499486517,-0.1497492795430963,1.9533168820677445,-0.10989230038135865,0.31344790900193625,0.08678752237308349,-0.3990447395439932,-1.4424816562369789,-0.028981252459112657,-0.4160821900068768,-0.9024826500293118,-0.5208567006043135,0.37071150697915956,0.29340762940465925,-0.15303788800844492,-1.7013013838151183,-2.1032089257065056,0.01803007769576685,0.774085466469011,-0.0130218043338703,0.7479391896322369,0.7318773540406959,-1.800944110150754,1.4099248117758916,-1.5325103771876123,0.5782922057046384,0.3053398932705239,-0.06430529590814345,1.0236623980295185,0.6914789499794927,0.7371810656811424,2.606242974469369,-1.5007673763044456,-1.0420156920821377,0.046743919591023995,1.3154764187085386,-0.18591517662231646,0.7578452017067829,-1.1201103682918108,-1.4809656473238406,-1.932290152656959,0.5687456244608741,-2.183122855649209,-0.18703771863844015,0.38248194212075454,-1.4501529065420269,1.0649615189495414,-0.44540408458769665,-0.5991301447361154,0.608703902269564,0.4058260851185324,0.457400126610244,0.5464347317371752,-0.2577028738771836,-0.6222900815300759,0.04461153224918688,-2.447018762098259,-0.23888100490859634,0.08761509395317087,1.623124602304495,1.1845787037770144,0.5492856988758372,1.130595322987083,-1.8840243529998721,0.18955829582691278,1.6839930239683714,0.5334500493016082,1.8492431165364005,0.4549707177333402,0.6697077146222054,0.4085483537015883,-0.5082199635442869,0.3448252142610793,-0.9833076650745944,0.2228561564482779,1.314600834470803,0.5969614245184819,0.5615669274826204,-0.03580808061129372,0.2825263823615819,-2.104980414657762,-1.8480485079071858,-1.2798589824928985,-0.4685176982797968,1.3615871560013324,0.7947295589257131,-1.018205327768071,0.6838015779839137,-0.445118498396265],\"yaxis\":\"y8\",\"type\":\"scatter\"},{\"line\":{\"color\":\"rgba(128, 128, 128, 1.0)\",\"dash\":\"solid\",\"shape\":\"linear\",\"width\":1.3},\"marker\":{\"size\":2,\"symbol\":\"circle\"},\"mode\":\"markers\",\"name\":\"C\",\"text\":\"\",\"x\":[-0.6185864777596235,-0.09549749996174815,0.7735155947714842,-1.9544208522009834,0.9321062993468145,0.36391957912219924,1.0222517106252103,0.21428349229504423,0.30155723927183736,-1.7737081556426644,-0.8813197097782401,-1.1833788622984094,1.0921030137803465,0.47150727733146436,-1.6539348028518632,-0.28566133680357586,1.6103067819704,-1.8417392372265438,0.039193584163302084,-0.6695950365093897,-0.7291227819448418,0.17384486693441867,1.5625067918950442,-2.118320960980159,-0.6478092575126989,-1.3354358976613383,-0.11900269907027594,1.8690436615397525,0.3602185862801853,0.954444106941083,-1.3426442266410488,-0.5861974838373313,-1.2776509648542993,-0.17202929225908314,-0.5899977906595941,1.3660735045819095,-1.096820738909289,0.09159655138384042,0.8669297839834728,0.11618036291092862,-0.1306793735655419,-1.409084507446096,-1.1458344122244621,-0.20695860339653058,-1.037860881063523,0.01958383190177941,1.877231153321232,-0.4861599541240264,0.2256221614426137,1.0191400317688684,-1.7994981450956142,-0.449892724101533,-1.7060329759096715,-0.7097216977459914,-0.8825995557308481,0.33962848154734276,0.20113285388190974,0.46035911247198713,0.7091683111522437,-1.2284387339475709,0.11445375532849965,-0.11410251539813779,-0.433581463941365,-0.1506692378419643,0.33482007756007925,-1.5145111918515755,0.570038479119206,-1.2112103535764067,-0.4029111539814335,-0.19348347413316772,-0.18662039060185484,-0.4020159349141075,-1.104221400696765,-0.7881037638705021,0.9624880966553944,0.8370910133274343,0.08064775753280434,0.4529394450193887,0.8144227765728742,-0.4139266273079406,-0.16045457024510903,0.11560583805022592,0.5018750969144258,-1.05549272187284,0.6646897400226129,0.7252518633264401,-0.8634744428274881,0.14526679817629318,0.5642348261932901,-0.5739339256594503,0.15846871036688384,0.5303216539889294,-0.4638919188417855,-2.653303499100419,0.30810942245492506,1.337533737637027,1.0885583937029353,-1.6447907309114553,0.6693410844821837,-0.023858538897312875],\"xaxis\":\"x9\",\"y\":[-0.8421603506766187,-0.9706041899799989,0.6832531168715341,1.6468678884740529,-0.16568135375708265,0.6293779960362839,1.2922687753064812,-0.09669053752515908,0.758570054065179,-0.8839507721828632,1.2280342442807675,-0.4628807989882697,-0.7161165844696878,1.4464843188409209,1.4629995097962403,-0.6286919968925113,0.5498266948912985,0.46202528676540383,-1.5968510028160237,1.6849093652971419,1.3184842391473701,1.7523413485734658,1.1145417017973525,0.8238061796830247,-0.11673079421807615,-0.9431413499758955,-0.6661012696103875,1.59665769705926,-1.4418095782645222,-0.028825792028261146,0.8846910659012178,1.3445888166417854,0.831313865520293,0.8984402570930786,0.9547597163223918,0.7243675719745242,-0.8504776604197904,0.7231445379854539,0.2122902086328843,-0.6319829696360213,0.8116987479536433,0.5663356880650702,-1.4081827739065174,1.3257080152455498,-0.35341041248399896,0.5986991170484928,-1.601105994725186,0.4510025063777082,-1.843962988505521,-0.6175567323014791,-0.46874922145868564,0.8017055728270843,0.9295789737059647,0.5769158548612651,0.8241325254974661,-1.3989811469531985,-0.1737328629106375,-1.1120987796057764,0.08397943697541344,0.41450385508002524,0.37813446451759153,0.5637465086282746,0.23448459891588502,-0.646152213425436,0.6888265843952968,1.1773248338495332,-2.366822749360234,2.5593268473776716,-0.8337284202472874,-0.6349992892264821,-1.1108274470015802,-0.5504924823973055,-0.5166790104444628,-0.35967398108001764,0.03304142061605584,-0.9953569079540042,-0.34225235175776236,0.05415196437471269,1.4312114089526344,-0.06819439128707315,0.9337859534275348,-0.9979806075142508,2.5153526996216797,-0.9202468939840021,-0.5645653682586875,-0.41454134423968747,-0.37516634580729047,-1.0212328426549688,-1.462300513745385,-1.767508363123518,-0.40178821637522183,-0.17122260507528686,0.4352737343905665,-0.01868513096343089,1.0548725514811137,-0.3919034473977661,0.08727005314804788,1.5252750004784736,1.2406486221739632,-1.5894052324070254],\"yaxis\":\"y9\",\"type\":\"scatter\"},{\"line\":{\"color\":\"rgba(128, 128, 128, 1.0)\",\"dash\":\"solid\",\"shape\":\"linear\",\"width\":1.3},\"marker\":{\"size\":2,\"symbol\":\"circle\"},\"mode\":\"markers\",\"name\":\"C\",\"text\":\"\",\"x\":[-0.4592523817006714,1.614960731672855,-1.4206426925982674,1.1551454541846038,-0.34613058552962517,1.6624230716641488,-0.11554649598016219,-0.01851161969972325,0.09984663041486533,-2.043102167532454,-1.478451948264321,-0.2788843499486517,-0.1497492795430963,1.9533168820677445,-0.10989230038135865,0.31344790900193625,0.08678752237308349,-0.3990447395439932,-1.4424816562369789,-0.028981252459112657,-0.4160821900068768,-0.9024826500293118,-0.5208567006043135,0.37071150697915956,0.29340762940465925,-0.15303788800844492,-1.7013013838151183,-2.1032089257065056,0.01803007769576685,0.774085466469011,-0.0130218043338703,0.7479391896322369,0.7318773540406959,-1.800944110150754,1.4099248117758916,-1.5325103771876123,0.5782922057046384,0.3053398932705239,-0.06430529590814345,1.0236623980295185,0.6914789499794927,0.7371810656811424,2.606242974469369,-1.5007673763044456,-1.0420156920821377,0.046743919591023995,1.3154764187085386,-0.18591517662231646,0.7578452017067829,-1.1201103682918108,-1.4809656473238406,-1.932290152656959,0.5687456244608741,-2.183122855649209,-0.18703771863844015,0.38248194212075454,-1.4501529065420269,1.0649615189495414,-0.44540408458769665,-0.5991301447361154,0.608703902269564,0.4058260851185324,0.457400126610244,0.5464347317371752,-0.2577028738771836,-0.6222900815300759,0.04461153224918688,-2.447018762098259,-0.23888100490859634,0.08761509395317087,1.623124602304495,1.1845787037770144,0.5492856988758372,1.130595322987083,-1.8840243529998721,0.18955829582691278,1.6839930239683714,0.5334500493016082,1.8492431165364005,0.4549707177333402,0.6697077146222054,0.4085483537015883,-0.5082199635442869,0.3448252142610793,-0.9833076650745944,0.2228561564482779,1.314600834470803,0.5969614245184819,0.5615669274826204,-0.03580808061129372,0.2825263823615819,-2.104980414657762,-1.8480485079071858,-1.2798589824928985,-0.4685176982797968,1.3615871560013324,0.7947295589257131,-1.018205327768071,0.6838015779839137,-0.445118498396265],\"xaxis\":\"x10\",\"y\":[-0.8421603506766187,-0.9706041899799989,0.6832531168715341,1.6468678884740529,-0.16568135375708265,0.6293779960362839,1.2922687753064812,-0.09669053752515908,0.758570054065179,-0.8839507721828632,1.2280342442807675,-0.4628807989882697,-0.7161165844696878,1.4464843188409209,1.4629995097962403,-0.6286919968925113,0.5498266948912985,0.46202528676540383,-1.5968510028160237,1.6849093652971419,1.3184842391473701,1.7523413485734658,1.1145417017973525,0.8238061796830247,-0.11673079421807615,-0.9431413499758955,-0.6661012696103875,1.59665769705926,-1.4418095782645222,-0.028825792028261146,0.8846910659012178,1.3445888166417854,0.831313865520293,0.8984402570930786,0.9547597163223918,0.7243675719745242,-0.8504776604197904,0.7231445379854539,0.2122902086328843,-0.6319829696360213,0.8116987479536433,0.5663356880650702,-1.4081827739065174,1.3257080152455498,-0.35341041248399896,0.5986991170484928,-1.601105994725186,0.4510025063777082,-1.843962988505521,-0.6175567323014791,-0.46874922145868564,0.8017055728270843,0.9295789737059647,0.5769158548612651,0.8241325254974661,-1.3989811469531985,-0.1737328629106375,-1.1120987796057764,0.08397943697541344,0.41450385508002524,0.37813446451759153,0.5637465086282746,0.23448459891588502,-0.646152213425436,0.6888265843952968,1.1773248338495332,-2.366822749360234,2.5593268473776716,-0.8337284202472874,-0.6349992892264821,-1.1108274470015802,-0.5504924823973055,-0.5166790104444628,-0.35967398108001764,0.03304142061605584,-0.9953569079540042,-0.34225235175776236,0.05415196437471269,1.4312114089526344,-0.06819439128707315,0.9337859534275348,-0.9979806075142508,2.5153526996216797,-0.9202468939840021,-0.5645653682586875,-0.41454134423968747,-0.37516634580729047,-1.0212328426549688,-1.462300513745385,-1.767508363123518,-0.40178821637522183,-0.17122260507528686,0.4352737343905665,-0.01868513096343089,1.0548725514811137,-0.3919034473977661,0.08727005314804788,1.5252750004784736,1.2406486221739632,-1.5894052324070254],\"yaxis\":\"y10\",\"type\":\"scatter\"},{\"histfunc\":\"count\",\"histnorm\":\"\",\"marker\":{\"color\":\"rgba(50, 171, 96, 1.0)\",\"line\":{\"color\":\"#4D5663\",\"width\":1.3}},\"name\":\"C\",\"nbinsx\":10,\"opacity\":0.8,\"orientation\":\"v\",\"x\":[-0.8421603506766187,-0.9706041899799989,0.6832531168715341,1.6468678884740529,-0.16568135375708265,0.6293779960362839,1.2922687753064812,-0.09669053752515908,0.758570054065179,-0.8839507721828632,1.2280342442807675,-0.4628807989882697,-0.7161165844696878,1.4464843188409209,1.4629995097962403,-0.6286919968925113,0.5498266948912985,0.46202528676540383,-1.5968510028160237,1.6849093652971419,1.3184842391473701,1.7523413485734658,1.1145417017973525,0.8238061796830247,-0.11673079421807615,-0.9431413499758955,-0.6661012696103875,1.59665769705926,-1.4418095782645222,-0.028825792028261146,0.8846910659012178,1.3445888166417854,0.831313865520293,0.8984402570930786,0.9547597163223918,0.7243675719745242,-0.8504776604197904,0.7231445379854539,0.2122902086328843,-0.6319829696360213,0.8116987479536433,0.5663356880650702,-1.4081827739065174,1.3257080152455498,-0.35341041248399896,0.5986991170484928,-1.601105994725186,0.4510025063777082,-1.843962988505521,-0.6175567323014791,-0.46874922145868564,0.8017055728270843,0.9295789737059647,0.5769158548612651,0.8241325254974661,-1.3989811469531985,-0.1737328629106375,-1.1120987796057764,0.08397943697541344,0.41450385508002524,0.37813446451759153,0.5637465086282746,0.23448459891588502,-0.646152213425436,0.6888265843952968,1.1773248338495332,-2.366822749360234,2.5593268473776716,-0.8337284202472874,-0.6349992892264821,-1.1108274470015802,-0.5504924823973055,-0.5166790104444628,-0.35967398108001764,0.03304142061605584,-0.9953569079540042,-0.34225235175776236,0.05415196437471269,1.4312114089526344,-0.06819439128707315,0.9337859534275348,-0.9979806075142508,2.5153526996216797,-0.9202468939840021,-0.5645653682586875,-0.41454134423968747,-0.37516634580729047,-1.0212328426549688,-1.462300513745385,-1.767508363123518,-0.40178821637522183,-0.17122260507528686,0.4352737343905665,-0.01868513096343089,1.0548725514811137,-0.3919034473977661,0.08727005314804788,1.5252750004784736,1.2406486221739632,-1.5894052324070254],\"xaxis\":\"x11\",\"yaxis\":\"y11\",\"type\":\"histogram\"},{\"line\":{\"color\":\"rgba(128, 128, 128, 1.0)\",\"dash\":\"solid\",\"shape\":\"linear\",\"width\":1.3},\"marker\":{\"size\":2,\"symbol\":\"circle\"},\"mode\":\"markers\",\"name\":\"C\",\"text\":\"\",\"x\":[0.5126109428890469,1.4892272058537255,-0.06466481511960792,0.807094467503425,0.09912812177445302,0.0037604224907197346,1.7881832836634417,1.4373731417175712,-0.49032218019714713,0.7844086874638536,-0.9135354119307758,0.5083954666397061,-3.1349339074281404,-2.21207508186638,0.4447330266031348,0.18787135141075115,0.14751055603017138,-1.0925191742194862,-1.420182643360601,-2.6950447421847166,-1.1120408459566193,-1.5119946162620084,0.21487814882806078,-0.5778547810602227,-0.6157290651613634,-0.5141466764562026,-1.5873889037285451,-0.3247674515862568,1.8465745931558841,0.3717136751793924,-0.0944745193772145,-0.7256893345692426,0.6329911919873296,0.8432331721074044,0.21506185326754326,-0.3946349840372016,1.0164983176266524,0.2707980457033641,0.43401711765144985,-0.7514870419734236,1.5967967931952454,-0.5192006010979153,-0.16636177789934467,1.063769112378764,0.04824552637562311,-0.30927218647456906,-0.8455324146613583,-1.292727257811507,0.8011477929185559,-0.35765870279142736,-0.1801085848973175,-0.5179106531571229,0.20678839468290003,0.21217097423294343,-0.5197920666799181,1.5452085633784096,0.8164027682792973,1.7211677024187413,-0.056769339959388786,-1.441754323154373,-2.1037029742663806,0.784787163635707,-0.9254897742956887,-0.30742465476637876,-0.795795144089506,-0.20367749333363674,-0.44097727181532287,1.1106618413964617,-1.4799913193064362,0.820803062794328,-0.885579677922769,0.7746145957497992,-0.584185617026759,0.44814214424737153,0.7327582698609134,-0.42593933722798827,0.5025705667376403,-1.94052132088566,1.151791010936278,0.18333509384631916,-0.8832256403000278,1.4734051005315147,2.1904546051168485,0.9807512609165957,-1.121059250174489,0.22222861053794152,-0.5101600824000081,0.0960439749329373,-0.9434158601417526,0.2280746660646097,-0.6199711206314074,-0.19296185060244755,-0.7950160586572694,-0.650755287984872,0.10002357639733761,-0.399410590339489,0.4257795860026511,-0.9861302587332238,1.2273480606955298,-0.45426223575550595],\"xaxis\":\"x12\",\"y\":[-0.8421603506766187,-0.9706041899799989,0.6832531168715341,1.6468678884740529,-0.16568135375708265,0.6293779960362839,1.2922687753064812,-0.09669053752515908,0.758570054065179,-0.8839507721828632,1.2280342442807675,-0.4628807989882697,-0.7161165844696878,1.4464843188409209,1.4629995097962403,-0.6286919968925113,0.5498266948912985,0.46202528676540383,-1.5968510028160237,1.6849093652971419,1.3184842391473701,1.7523413485734658,1.1145417017973525,0.8238061796830247,-0.11673079421807615,-0.9431413499758955,-0.6661012696103875,1.59665769705926,-1.4418095782645222,-0.028825792028261146,0.8846910659012178,1.3445888166417854,0.831313865520293,0.8984402570930786,0.9547597163223918,0.7243675719745242,-0.8504776604197904,0.7231445379854539,0.2122902086328843,-0.6319829696360213,0.8116987479536433,0.5663356880650702,-1.4081827739065174,1.3257080152455498,-0.35341041248399896,0.5986991170484928,-1.601105994725186,0.4510025063777082,-1.843962988505521,-0.6175567323014791,-0.46874922145868564,0.8017055728270843,0.9295789737059647,0.5769158548612651,0.8241325254974661,-1.3989811469531985,-0.1737328629106375,-1.1120987796057764,0.08397943697541344,0.41450385508002524,0.37813446451759153,0.5637465086282746,0.23448459891588502,-0.646152213425436,0.6888265843952968,1.1773248338495332,-2.366822749360234,2.5593268473776716,-0.8337284202472874,-0.6349992892264821,-1.1108274470015802,-0.5504924823973055,-0.5166790104444628,-0.35967398108001764,0.03304142061605584,-0.9953569079540042,-0.34225235175776236,0.05415196437471269,1.4312114089526344,-0.06819439128707315,0.9337859534275348,-0.9979806075142508,2.5153526996216797,-0.9202468939840021,-0.5645653682586875,-0.41454134423968747,-0.37516634580729047,-1.0212328426549688,-1.462300513745385,-1.767508363123518,-0.40178821637522183,-0.17122260507528686,0.4352737343905665,-0.01868513096343089,1.0548725514811137,-0.3919034473977661,0.08727005314804788,1.5252750004784736,1.2406486221739632,-1.5894052324070254],\"yaxis\":\"y12\",\"type\":\"scatter\"},{\"line\":{\"color\":\"rgba(128, 128, 128, 1.0)\",\"dash\":\"solid\",\"shape\":\"linear\",\"width\":1.3},\"marker\":{\"size\":2,\"symbol\":\"circle\"},\"mode\":\"markers\",\"name\":\"D\",\"text\":\"\",\"x\":[-0.6185864777596235,-0.09549749996174815,0.7735155947714842,-1.9544208522009834,0.9321062993468145,0.36391957912219924,1.0222517106252103,0.21428349229504423,0.30155723927183736,-1.7737081556426644,-0.8813197097782401,-1.1833788622984094,1.0921030137803465,0.47150727733146436,-1.6539348028518632,-0.28566133680357586,1.6103067819704,-1.8417392372265438,0.039193584163302084,-0.6695950365093897,-0.7291227819448418,0.17384486693441867,1.5625067918950442,-2.118320960980159,-0.6478092575126989,-1.3354358976613383,-0.11900269907027594,1.8690436615397525,0.3602185862801853,0.954444106941083,-1.3426442266410488,-0.5861974838373313,-1.2776509648542993,-0.17202929225908314,-0.5899977906595941,1.3660735045819095,-1.096820738909289,0.09159655138384042,0.8669297839834728,0.11618036291092862,-0.1306793735655419,-1.409084507446096,-1.1458344122244621,-0.20695860339653058,-1.037860881063523,0.01958383190177941,1.877231153321232,-0.4861599541240264,0.2256221614426137,1.0191400317688684,-1.7994981450956142,-0.449892724101533,-1.7060329759096715,-0.7097216977459914,-0.8825995557308481,0.33962848154734276,0.20113285388190974,0.46035911247198713,0.7091683111522437,-1.2284387339475709,0.11445375532849965,-0.11410251539813779,-0.433581463941365,-0.1506692378419643,0.33482007756007925,-1.5145111918515755,0.570038479119206,-1.2112103535764067,-0.4029111539814335,-0.19348347413316772,-0.18662039060185484,-0.4020159349141075,-1.104221400696765,-0.7881037638705021,0.9624880966553944,0.8370910133274343,0.08064775753280434,0.4529394450193887,0.8144227765728742,-0.4139266273079406,-0.16045457024510903,0.11560583805022592,0.5018750969144258,-1.05549272187284,0.6646897400226129,0.7252518633264401,-0.8634744428274881,0.14526679817629318,0.5642348261932901,-0.5739339256594503,0.15846871036688384,0.5303216539889294,-0.4638919188417855,-2.653303499100419,0.30810942245492506,1.337533737637027,1.0885583937029353,-1.6447907309114553,0.6693410844821837,-0.023858538897312875],\"xaxis\":\"x13\",\"y\":[0.5126109428890469,1.4892272058537255,-0.06466481511960792,0.807094467503425,0.09912812177445302,0.0037604224907197346,1.7881832836634417,1.4373731417175712,-0.49032218019714713,0.7844086874638536,-0.9135354119307758,0.5083954666397061,-3.1349339074281404,-2.21207508186638,0.4447330266031348,0.18787135141075115,0.14751055603017138,-1.0925191742194862,-1.420182643360601,-2.6950447421847166,-1.1120408459566193,-1.5119946162620084,0.21487814882806078,-0.5778547810602227,-0.6157290651613634,-0.5141466764562026,-1.5873889037285451,-0.3247674515862568,1.8465745931558841,0.3717136751793924,-0.0944745193772145,-0.7256893345692426,0.6329911919873296,0.8432331721074044,0.21506185326754326,-0.3946349840372016,1.0164983176266524,0.2707980457033641,0.43401711765144985,-0.7514870419734236,1.5967967931952454,-0.5192006010979153,-0.16636177789934467,1.063769112378764,0.04824552637562311,-0.30927218647456906,-0.8455324146613583,-1.292727257811507,0.8011477929185559,-0.35765870279142736,-0.1801085848973175,-0.5179106531571229,0.20678839468290003,0.21217097423294343,-0.5197920666799181,1.5452085633784096,0.8164027682792973,1.7211677024187413,-0.056769339959388786,-1.441754323154373,-2.1037029742663806,0.784787163635707,-0.9254897742956887,-0.30742465476637876,-0.795795144089506,-0.20367749333363674,-0.44097727181532287,1.1106618413964617,-1.4799913193064362,0.820803062794328,-0.885579677922769,0.7746145957497992,-0.584185617026759,0.44814214424737153,0.7327582698609134,-0.42593933722798827,0.5025705667376403,-1.94052132088566,1.151791010936278,0.18333509384631916,-0.8832256403000278,1.4734051005315147,2.1904546051168485,0.9807512609165957,-1.121059250174489,0.22222861053794152,-0.5101600824000081,0.0960439749329373,-0.9434158601417526,0.2280746660646097,-0.6199711206314074,-0.19296185060244755,-0.7950160586572694,-0.650755287984872,0.10002357639733761,-0.399410590339489,0.4257795860026511,-0.9861302587332238,1.2273480606955298,-0.45426223575550595],\"yaxis\":\"y13\",\"type\":\"scatter\"},{\"line\":{\"color\":\"rgba(128, 128, 128, 1.0)\",\"dash\":\"solid\",\"shape\":\"linear\",\"width\":1.3},\"marker\":{\"size\":2,\"symbol\":\"circle\"},\"mode\":\"markers\",\"name\":\"D\",\"text\":\"\",\"x\":[-0.4592523817006714,1.614960731672855,-1.4206426925982674,1.1551454541846038,-0.34613058552962517,1.6624230716641488,-0.11554649598016219,-0.01851161969972325,0.09984663041486533,-2.043102167532454,-1.478451948264321,-0.2788843499486517,-0.1497492795430963,1.9533168820677445,-0.10989230038135865,0.31344790900193625,0.08678752237308349,-0.3990447395439932,-1.4424816562369789,-0.028981252459112657,-0.4160821900068768,-0.9024826500293118,-0.5208567006043135,0.37071150697915956,0.29340762940465925,-0.15303788800844492,-1.7013013838151183,-2.1032089257065056,0.01803007769576685,0.774085466469011,-0.0130218043338703,0.7479391896322369,0.7318773540406959,-1.800944110150754,1.4099248117758916,-1.5325103771876123,0.5782922057046384,0.3053398932705239,-0.06430529590814345,1.0236623980295185,0.6914789499794927,0.7371810656811424,2.606242974469369,-1.5007673763044456,-1.0420156920821377,0.046743919591023995,1.3154764187085386,-0.18591517662231646,0.7578452017067829,-1.1201103682918108,-1.4809656473238406,-1.932290152656959,0.5687456244608741,-2.183122855649209,-0.18703771863844015,0.38248194212075454,-1.4501529065420269,1.0649615189495414,-0.44540408458769665,-0.5991301447361154,0.608703902269564,0.4058260851185324,0.457400126610244,0.5464347317371752,-0.2577028738771836,-0.6222900815300759,0.04461153224918688,-2.447018762098259,-0.23888100490859634,0.08761509395317087,1.623124602304495,1.1845787037770144,0.5492856988758372,1.130595322987083,-1.8840243529998721,0.18955829582691278,1.6839930239683714,0.5334500493016082,1.8492431165364005,0.4549707177333402,0.6697077146222054,0.4085483537015883,-0.5082199635442869,0.3448252142610793,-0.9833076650745944,0.2228561564482779,1.314600834470803,0.5969614245184819,0.5615669274826204,-0.03580808061129372,0.2825263823615819,-2.104980414657762,-1.8480485079071858,-1.2798589824928985,-0.4685176982797968,1.3615871560013324,0.7947295589257131,-1.018205327768071,0.6838015779839137,-0.445118498396265],\"xaxis\":\"x14\",\"y\":[0.5126109428890469,1.4892272058537255,-0.06466481511960792,0.807094467503425,0.09912812177445302,0.0037604224907197346,1.7881832836634417,1.4373731417175712,-0.49032218019714713,0.7844086874638536,-0.9135354119307758,0.5083954666397061,-3.1349339074281404,-2.21207508186638,0.4447330266031348,0.18787135141075115,0.14751055603017138,-1.0925191742194862,-1.420182643360601,-2.6950447421847166,-1.1120408459566193,-1.5119946162620084,0.21487814882806078,-0.5778547810602227,-0.6157290651613634,-0.5141466764562026,-1.5873889037285451,-0.3247674515862568,1.8465745931558841,0.3717136751793924,-0.0944745193772145,-0.7256893345692426,0.6329911919873296,0.8432331721074044,0.21506185326754326,-0.3946349840372016,1.0164983176266524,0.2707980457033641,0.43401711765144985,-0.7514870419734236,1.5967967931952454,-0.5192006010979153,-0.16636177789934467,1.063769112378764,0.04824552637562311,-0.30927218647456906,-0.8455324146613583,-1.292727257811507,0.8011477929185559,-0.35765870279142736,-0.1801085848973175,-0.5179106531571229,0.20678839468290003,0.21217097423294343,-0.5197920666799181,1.5452085633784096,0.8164027682792973,1.7211677024187413,-0.056769339959388786,-1.441754323154373,-2.1037029742663806,0.784787163635707,-0.9254897742956887,-0.30742465476637876,-0.795795144089506,-0.20367749333363674,-0.44097727181532287,1.1106618413964617,-1.4799913193064362,0.820803062794328,-0.885579677922769,0.7746145957497992,-0.584185617026759,0.44814214424737153,0.7327582698609134,-0.42593933722798827,0.5025705667376403,-1.94052132088566,1.151791010936278,0.18333509384631916,-0.8832256403000278,1.4734051005315147,2.1904546051168485,0.9807512609165957,-1.121059250174489,0.22222861053794152,-0.5101600824000081,0.0960439749329373,-0.9434158601417526,0.2280746660646097,-0.6199711206314074,-0.19296185060244755,-0.7950160586572694,-0.650755287984872,0.10002357639733761,-0.399410590339489,0.4257795860026511,-0.9861302587332238,1.2273480606955298,-0.45426223575550595],\"yaxis\":\"y14\",\"type\":\"scatter\"},{\"line\":{\"color\":\"rgba(128, 128, 128, 1.0)\",\"dash\":\"solid\",\"shape\":\"linear\",\"width\":1.3},\"marker\":{\"size\":2,\"symbol\":\"circle\"},\"mode\":\"markers\",\"name\":\"D\",\"text\":\"\",\"x\":[-0.8421603506766187,-0.9706041899799989,0.6832531168715341,1.6468678884740529,-0.16568135375708265,0.6293779960362839,1.2922687753064812,-0.09669053752515908,0.758570054065179,-0.8839507721828632,1.2280342442807675,-0.4628807989882697,-0.7161165844696878,1.4464843188409209,1.4629995097962403,-0.6286919968925113,0.5498266948912985,0.46202528676540383,-1.5968510028160237,1.6849093652971419,1.3184842391473701,1.7523413485734658,1.1145417017973525,0.8238061796830247,-0.11673079421807615,-0.9431413499758955,-0.6661012696103875,1.59665769705926,-1.4418095782645222,-0.028825792028261146,0.8846910659012178,1.3445888166417854,0.831313865520293,0.8984402570930786,0.9547597163223918,0.7243675719745242,-0.8504776604197904,0.7231445379854539,0.2122902086328843,-0.6319829696360213,0.8116987479536433,0.5663356880650702,-1.4081827739065174,1.3257080152455498,-0.35341041248399896,0.5986991170484928,-1.601105994725186,0.4510025063777082,-1.843962988505521,-0.6175567323014791,-0.46874922145868564,0.8017055728270843,0.9295789737059647,0.5769158548612651,0.8241325254974661,-1.3989811469531985,-0.1737328629106375,-1.1120987796057764,0.08397943697541344,0.41450385508002524,0.37813446451759153,0.5637465086282746,0.23448459891588502,-0.646152213425436,0.6888265843952968,1.1773248338495332,-2.366822749360234,2.5593268473776716,-0.8337284202472874,-0.6349992892264821,-1.1108274470015802,-0.5504924823973055,-0.5166790104444628,-0.35967398108001764,0.03304142061605584,-0.9953569079540042,-0.34225235175776236,0.05415196437471269,1.4312114089526344,-0.06819439128707315,0.9337859534275348,-0.9979806075142508,2.5153526996216797,-0.9202468939840021,-0.5645653682586875,-0.41454134423968747,-0.37516634580729047,-1.0212328426549688,-1.462300513745385,-1.767508363123518,-0.40178821637522183,-0.17122260507528686,0.4352737343905665,-0.01868513096343089,1.0548725514811137,-0.3919034473977661,0.08727005314804788,1.5252750004784736,1.2406486221739632,-1.5894052324070254],\"xaxis\":\"x15\",\"y\":[0.5126109428890469,1.4892272058537255,-0.06466481511960792,0.807094467503425,0.09912812177445302,0.0037604224907197346,1.7881832836634417,1.4373731417175712,-0.49032218019714713,0.7844086874638536,-0.9135354119307758,0.5083954666397061,-3.1349339074281404,-2.21207508186638,0.4447330266031348,0.18787135141075115,0.14751055603017138,-1.0925191742194862,-1.420182643360601,-2.6950447421847166,-1.1120408459566193,-1.5119946162620084,0.21487814882806078,-0.5778547810602227,-0.6157290651613634,-0.5141466764562026,-1.5873889037285451,-0.3247674515862568,1.8465745931558841,0.3717136751793924,-0.0944745193772145,-0.7256893345692426,0.6329911919873296,0.8432331721074044,0.21506185326754326,-0.3946349840372016,1.0164983176266524,0.2707980457033641,0.43401711765144985,-0.7514870419734236,1.5967967931952454,-0.5192006010979153,-0.16636177789934467,1.063769112378764,0.04824552637562311,-0.30927218647456906,-0.8455324146613583,-1.292727257811507,0.8011477929185559,-0.35765870279142736,-0.1801085848973175,-0.5179106531571229,0.20678839468290003,0.21217097423294343,-0.5197920666799181,1.5452085633784096,0.8164027682792973,1.7211677024187413,-0.056769339959388786,-1.441754323154373,-2.1037029742663806,0.784787163635707,-0.9254897742956887,-0.30742465476637876,-0.795795144089506,-0.20367749333363674,-0.44097727181532287,1.1106618413964617,-1.4799913193064362,0.820803062794328,-0.885579677922769,0.7746145957497992,-0.584185617026759,0.44814214424737153,0.7327582698609134,-0.42593933722798827,0.5025705667376403,-1.94052132088566,1.151791010936278,0.18333509384631916,-0.8832256403000278,1.4734051005315147,2.1904546051168485,0.9807512609165957,-1.121059250174489,0.22222861053794152,-0.5101600824000081,0.0960439749329373,-0.9434158601417526,0.2280746660646097,-0.6199711206314074,-0.19296185060244755,-0.7950160586572694,-0.650755287984872,0.10002357639733761,-0.399410590339489,0.4257795860026511,-0.9861302587332238,1.2273480606955298,-0.45426223575550595],\"yaxis\":\"y15\",\"type\":\"scatter\"},{\"histfunc\":\"count\",\"histnorm\":\"\",\"marker\":{\"color\":\"rgba(128, 0, 128, 1.0)\",\"line\":{\"color\":\"#4D5663\",\"width\":1.3}},\"name\":\"D\",\"nbinsx\":10,\"opacity\":0.8,\"orientation\":\"v\",\"x\":[0.5126109428890469,1.4892272058537255,-0.06466481511960792,0.807094467503425,0.09912812177445302,0.0037604224907197346,1.7881832836634417,1.4373731417175712,-0.49032218019714713,0.7844086874638536,-0.9135354119307758,0.5083954666397061,-3.1349339074281404,-2.21207508186638,0.4447330266031348,0.18787135141075115,0.14751055603017138,-1.0925191742194862,-1.420182643360601,-2.6950447421847166,-1.1120408459566193,-1.5119946162620084,0.21487814882806078,-0.5778547810602227,-0.6157290651613634,-0.5141466764562026,-1.5873889037285451,-0.3247674515862568,1.8465745931558841,0.3717136751793924,-0.0944745193772145,-0.7256893345692426,0.6329911919873296,0.8432331721074044,0.21506185326754326,-0.3946349840372016,1.0164983176266524,0.2707980457033641,0.43401711765144985,-0.7514870419734236,1.5967967931952454,-0.5192006010979153,-0.16636177789934467,1.063769112378764,0.04824552637562311,-0.30927218647456906,-0.8455324146613583,-1.292727257811507,0.8011477929185559,-0.35765870279142736,-0.1801085848973175,-0.5179106531571229,0.20678839468290003,0.21217097423294343,-0.5197920666799181,1.5452085633784096,0.8164027682792973,1.7211677024187413,-0.056769339959388786,-1.441754323154373,-2.1037029742663806,0.784787163635707,-0.9254897742956887,-0.30742465476637876,-0.795795144089506,-0.20367749333363674,-0.44097727181532287,1.1106618413964617,-1.4799913193064362,0.820803062794328,-0.885579677922769,0.7746145957497992,-0.584185617026759,0.44814214424737153,0.7327582698609134,-0.42593933722798827,0.5025705667376403,-1.94052132088566,1.151791010936278,0.18333509384631916,-0.8832256403000278,1.4734051005315147,2.1904546051168485,0.9807512609165957,-1.121059250174489,0.22222861053794152,-0.5101600824000081,0.0960439749329373,-0.9434158601417526,0.2280746660646097,-0.6199711206314074,-0.19296185060244755,-0.7950160586572694,-0.650755287984872,0.10002357639733761,-0.399410590339489,0.4257795860026511,-0.9861302587332238,1.2273480606955298,-0.45426223575550595],\"xaxis\":\"x16\",\"yaxis\":\"y16\",\"type\":\"histogram\"}],                        {\"bargap\":0.02,\"legend\":{\"bgcolor\":\"#F5F6F9\",\"font\":{\"color\":\"#4D5663\"}},\"paper_bgcolor\":\"#F5F6F9\",\"plot_bgcolor\":\"#F5F6F9\",\"showlegend\":false,\"template\":{\"data\":{\"barpolar\":[{\"marker\":{\"line\":{\"color\":\"#E5ECF6\",\"width\":0.5},\"pattern\":{\"fillmode\":\"overlay\",\"size\":10,\"solidity\":0.2}},\"type\":\"barpolar\"}],\"bar\":[{\"error_x\":{\"color\":\"#2a3f5f\"},\"error_y\":{\"color\":\"#2a3f5f\"},\"marker\":{\"line\":{\"color\":\"#E5ECF6\",\"width\":0.5},\"pattern\":{\"fillmode\":\"overlay\",\"size\":10,\"solidity\":0.2}},\"type\":\"bar\"}],\"carpet\":[{\"aaxis\":{\"endlinecolor\":\"#2a3f5f\",\"gridcolor\":\"white\",\"linecolor\":\"white\",\"minorgridcolor\":\"white\",\"startlinecolor\":\"#2a3f5f\"},\"baxis\":{\"endlinecolor\":\"#2a3f5f\",\"gridcolor\":\"white\",\"linecolor\":\"white\",\"minorgridcolor\":\"white\",\"startlinecolor\":\"#2a3f5f\"},\"type\":\"carpet\"}],\"choropleth\":[{\"colorbar\":{\"outlinewidth\":0,\"ticks\":\"\"},\"type\":\"choropleth\"}],\"contourcarpet\":[{\"colorbar\":{\"outlinewidth\":0,\"ticks\":\"\"},\"type\":\"contourcarpet\"}],\"contour\":[{\"colorbar\":{\"outlinewidth\":0,\"ticks\":\"\"},\"colorscale\":[[0.0,\"#0d0887\"],[0.1111111111111111,\"#46039f\"],[0.2222222222222222,\"#7201a8\"],[0.3333333333333333,\"#9c179e\"],[0.4444444444444444,\"#bd3786\"],[0.5555555555555556,\"#d8576b\"],[0.6666666666666666,\"#ed7953\"],[0.7777777777777778,\"#fb9f3a\"],[0.8888888888888888,\"#fdca26\"],[1.0,\"#f0f921\"]],\"type\":\"contour\"}],\"heatmapgl\":[{\"colorbar\":{\"outlinewidth\":0,\"ticks\":\"\"},\"colorscale\":[[0.0,\"#0d0887\"],[0.1111111111111111,\"#46039f\"],[0.2222222222222222,\"#7201a8\"],[0.3333333333333333,\"#9c179e\"],[0.4444444444444444,\"#bd3786\"],[0.5555555555555556,\"#d8576b\"],[0.6666666666666666,\"#ed7953\"],[0.7777777777777778,\"#fb9f3a\"],[0.8888888888888888,\"#fdca26\"],[1.0,\"#f0f921\"]],\"type\":\"heatmapgl\"}],\"heatmap\":[{\"colorbar\":{\"outlinewidth\":0,\"ticks\":\"\"},\"colorscale\":[[0.0,\"#0d0887\"],[0.1111111111111111,\"#46039f\"],[0.2222222222222222,\"#7201a8\"],[0.3333333333333333,\"#9c179e\"],[0.4444444444444444,\"#bd3786\"],[0.5555555555555556,\"#d8576b\"],[0.6666666666666666,\"#ed7953\"],[0.7777777777777778,\"#fb9f3a\"],[0.8888888888888888,\"#fdca26\"],[1.0,\"#f0f921\"]],\"type\":\"heatmap\"}],\"histogram2dcontour\":[{\"colorbar\":{\"outlinewidth\":0,\"ticks\":\"\"},\"colorscale\":[[0.0,\"#0d0887\"],[0.1111111111111111,\"#46039f\"],[0.2222222222222222,\"#7201a8\"],[0.3333333333333333,\"#9c179e\"],[0.4444444444444444,\"#bd3786\"],[0.5555555555555556,\"#d8576b\"],[0.6666666666666666,\"#ed7953\"],[0.7777777777777778,\"#fb9f3a\"],[0.8888888888888888,\"#fdca26\"],[1.0,\"#f0f921\"]],\"type\":\"histogram2dcontour\"}],\"histogram2d\":[{\"colorbar\":{\"outlinewidth\":0,\"ticks\":\"\"},\"colorscale\":[[0.0,\"#0d0887\"],[0.1111111111111111,\"#46039f\"],[0.2222222222222222,\"#7201a8\"],[0.3333333333333333,\"#9c179e\"],[0.4444444444444444,\"#bd3786\"],[0.5555555555555556,\"#d8576b\"],[0.6666666666666666,\"#ed7953\"],[0.7777777777777778,\"#fb9f3a\"],[0.8888888888888888,\"#fdca26\"],[1.0,\"#f0f921\"]],\"type\":\"histogram2d\"}],\"histogram\":[{\"marker\":{\"pattern\":{\"fillmode\":\"overlay\",\"size\":10,\"solidity\":0.2}},\"type\":\"histogram\"}],\"mesh3d\":[{\"colorbar\":{\"outlinewidth\":0,\"ticks\":\"\"},\"type\":\"mesh3d\"}],\"parcoords\":[{\"line\":{\"colorbar\":{\"outlinewidth\":0,\"ticks\":\"\"}},\"type\":\"parcoords\"}],\"pie\":[{\"automargin\":true,\"type\":\"pie\"}],\"scatter3d\":[{\"line\":{\"colorbar\":{\"outlinewidth\":0,\"ticks\":\"\"}},\"marker\":{\"colorbar\":{\"outlinewidth\":0,\"ticks\":\"\"}},\"type\":\"scatter3d\"}],\"scattercarpet\":[{\"marker\":{\"colorbar\":{\"outlinewidth\":0,\"ticks\":\"\"}},\"type\":\"scattercarpet\"}],\"scattergeo\":[{\"marker\":{\"colorbar\":{\"outlinewidth\":0,\"ticks\":\"\"}},\"type\":\"scattergeo\"}],\"scattergl\":[{\"marker\":{\"colorbar\":{\"outlinewidth\":0,\"ticks\":\"\"}},\"type\":\"scattergl\"}],\"scattermapbox\":[{\"marker\":{\"colorbar\":{\"outlinewidth\":0,\"ticks\":\"\"}},\"type\":\"scattermapbox\"}],\"scatterpolargl\":[{\"marker\":{\"colorbar\":{\"outlinewidth\":0,\"ticks\":\"\"}},\"type\":\"scatterpolargl\"}],\"scatterpolar\":[{\"marker\":{\"colorbar\":{\"outlinewidth\":0,\"ticks\":\"\"}},\"type\":\"scatterpolar\"}],\"scatter\":[{\"fillpattern\":{\"fillmode\":\"overlay\",\"size\":10,\"solidity\":0.2},\"type\":\"scatter\"}],\"scatterternary\":[{\"marker\":{\"colorbar\":{\"outlinewidth\":0,\"ticks\":\"\"}},\"type\":\"scatterternary\"}],\"surface\":[{\"colorbar\":{\"outlinewidth\":0,\"ticks\":\"\"},\"colorscale\":[[0.0,\"#0d0887\"],[0.1111111111111111,\"#46039f\"],[0.2222222222222222,\"#7201a8\"],[0.3333333333333333,\"#9c179e\"],[0.4444444444444444,\"#bd3786\"],[0.5555555555555556,\"#d8576b\"],[0.6666666666666666,\"#ed7953\"],[0.7777777777777778,\"#fb9f3a\"],[0.8888888888888888,\"#fdca26\"],[1.0,\"#f0f921\"]],\"type\":\"surface\"}],\"table\":[{\"cells\":{\"fill\":{\"color\":\"#EBF0F8\"},\"line\":{\"color\":\"white\"}},\"header\":{\"fill\":{\"color\":\"#C8D4E3\"},\"line\":{\"color\":\"white\"}},\"type\":\"table\"}]},\"layout\":{\"annotationdefaults\":{\"arrowcolor\":\"#2a3f5f\",\"arrowhead\":0,\"arrowwidth\":1},\"autotypenumbers\":\"strict\",\"coloraxis\":{\"colorbar\":{\"outlinewidth\":0,\"ticks\":\"\"}},\"colorscale\":{\"diverging\":[[0,\"#8e0152\"],[0.1,\"#c51b7d\"],[0.2,\"#de77ae\"],[0.3,\"#f1b6da\"],[0.4,\"#fde0ef\"],[0.5,\"#f7f7f7\"],[0.6,\"#e6f5d0\"],[0.7,\"#b8e186\"],[0.8,\"#7fbc41\"],[0.9,\"#4d9221\"],[1,\"#276419\"]],\"sequential\":[[0.0,\"#0d0887\"],[0.1111111111111111,\"#46039f\"],[0.2222222222222222,\"#7201a8\"],[0.3333333333333333,\"#9c179e\"],[0.4444444444444444,\"#bd3786\"],[0.5555555555555556,\"#d8576b\"],[0.6666666666666666,\"#ed7953\"],[0.7777777777777778,\"#fb9f3a\"],[0.8888888888888888,\"#fdca26\"],[1.0,\"#f0f921\"]],\"sequentialminus\":[[0.0,\"#0d0887\"],[0.1111111111111111,\"#46039f\"],[0.2222222222222222,\"#7201a8\"],[0.3333333333333333,\"#9c179e\"],[0.4444444444444444,\"#bd3786\"],[0.5555555555555556,\"#d8576b\"],[0.6666666666666666,\"#ed7953\"],[0.7777777777777778,\"#fb9f3a\"],[0.8888888888888888,\"#fdca26\"],[1.0,\"#f0f921\"]]},\"colorway\":[\"#636efa\",\"#EF553B\",\"#00cc96\",\"#ab63fa\",\"#FFA15A\",\"#19d3f3\",\"#FF6692\",\"#B6E880\",\"#FF97FF\",\"#FECB52\"],\"font\":{\"color\":\"#2a3f5f\"},\"geo\":{\"bgcolor\":\"white\",\"lakecolor\":\"white\",\"landcolor\":\"#E5ECF6\",\"showlakes\":true,\"showland\":true,\"subunitcolor\":\"white\"},\"hoverlabel\":{\"align\":\"left\"},\"hovermode\":\"closest\",\"mapbox\":{\"style\":\"light\"},\"paper_bgcolor\":\"white\",\"plot_bgcolor\":\"#E5ECF6\",\"polar\":{\"angularaxis\":{\"gridcolor\":\"white\",\"linecolor\":\"white\",\"ticks\":\"\"},\"bgcolor\":\"#E5ECF6\",\"radialaxis\":{\"gridcolor\":\"white\",\"linecolor\":\"white\",\"ticks\":\"\"}},\"scene\":{\"xaxis\":{\"backgroundcolor\":\"#E5ECF6\",\"gridcolor\":\"white\",\"gridwidth\":2,\"linecolor\":\"white\",\"showbackground\":true,\"ticks\":\"\",\"zerolinecolor\":\"white\"},\"yaxis\":{\"backgroundcolor\":\"#E5ECF6\",\"gridcolor\":\"white\",\"gridwidth\":2,\"linecolor\":\"white\",\"showbackground\":true,\"ticks\":\"\",\"zerolinecolor\":\"white\"},\"zaxis\":{\"backgroundcolor\":\"#E5ECF6\",\"gridcolor\":\"white\",\"gridwidth\":2,\"linecolor\":\"white\",\"showbackground\":true,\"ticks\":\"\",\"zerolinecolor\":\"white\"}},\"shapedefaults\":{\"line\":{\"color\":\"#2a3f5f\"}},\"ternary\":{\"aaxis\":{\"gridcolor\":\"white\",\"linecolor\":\"white\",\"ticks\":\"\"},\"baxis\":{\"gridcolor\":\"white\",\"linecolor\":\"white\",\"ticks\":\"\"},\"bgcolor\":\"#E5ECF6\",\"caxis\":{\"gridcolor\":\"white\",\"linecolor\":\"white\",\"ticks\":\"\"}},\"title\":{\"x\":0.05},\"xaxis\":{\"automargin\":true,\"gridcolor\":\"white\",\"linecolor\":\"white\",\"ticks\":\"\",\"title\":{\"standoff\":15},\"zerolinecolor\":\"white\",\"zerolinewidth\":2},\"yaxis\":{\"automargin\":true,\"gridcolor\":\"white\",\"linecolor\":\"white\",\"ticks\":\"\",\"title\":{\"standoff\":15},\"zerolinecolor\":\"white\",\"zerolinewidth\":2}}},\"title\":{\"font\":{\"color\":\"#4D5663\"}},\"xaxis\":{\"anchor\":\"y\",\"domain\":[0.0,0.2125],\"gridcolor\":\"#E1E5ED\",\"showgrid\":false,\"tickfont\":{\"color\":\"#4D5663\"},\"title\":{\"font\":{\"color\":\"#4D5663\"},\"text\":\"\"},\"zerolinecolor\":\"#E1E5ED\"},\"yaxis\":{\"anchor\":\"x\",\"domain\":[0.8025,1.0],\"gridcolor\":\"#E1E5ED\",\"showgrid\":false,\"tickfont\":{\"color\":\"#4D5663\"},\"title\":{\"font\":{\"color\":\"#4D5663\"},\"text\":\"\"},\"zerolinecolor\":\"#E1E5ED\"},\"xaxis2\":{\"anchor\":\"y2\",\"domain\":[0.2625,0.475],\"gridcolor\":\"#E1E5ED\",\"showgrid\":false,\"tickfont\":{\"color\":\"#4D5663\"},\"title\":{\"font\":{\"color\":\"#4D5663\"},\"text\":\"\"},\"zerolinecolor\":\"#E1E5ED\"},\"yaxis2\":{\"anchor\":\"x2\",\"domain\":[0.8025,1.0],\"gridcolor\":\"#E1E5ED\",\"showgrid\":false,\"tickfont\":{\"color\":\"#4D5663\"},\"title\":{\"font\":{\"color\":\"#4D5663\"},\"text\":\"\"},\"zerolinecolor\":\"#E1E5ED\"},\"xaxis3\":{\"anchor\":\"y3\",\"domain\":[0.525,0.7375],\"gridcolor\":\"#E1E5ED\",\"showgrid\":false,\"tickfont\":{\"color\":\"#4D5663\"},\"title\":{\"font\":{\"color\":\"#4D5663\"},\"text\":\"\"},\"zerolinecolor\":\"#E1E5ED\"},\"yaxis3\":{\"anchor\":\"x3\",\"domain\":[0.8025,1.0],\"gridcolor\":\"#E1E5ED\",\"showgrid\":false,\"tickfont\":{\"color\":\"#4D5663\"},\"title\":{\"font\":{\"color\":\"#4D5663\"},\"text\":\"\"},\"zerolinecolor\":\"#E1E5ED\"},\"xaxis4\":{\"anchor\":\"y4\",\"domain\":[0.7875,1.0],\"gridcolor\":\"#E1E5ED\",\"showgrid\":false,\"tickfont\":{\"color\":\"#4D5663\"},\"title\":{\"font\":{\"color\":\"#4D5663\"},\"text\":\"\"},\"zerolinecolor\":\"#E1E5ED\"},\"yaxis4\":{\"anchor\":\"x4\",\"domain\":[0.8025,1.0],\"gridcolor\":\"#E1E5ED\",\"showgrid\":false,\"tickfont\":{\"color\":\"#4D5663\"},\"title\":{\"font\":{\"color\":\"#4D5663\"},\"text\":\"\"},\"zerolinecolor\":\"#E1E5ED\"},\"xaxis5\":{\"anchor\":\"y5\",\"domain\":[0.0,0.2125],\"gridcolor\":\"#E1E5ED\",\"showgrid\":false,\"tickfont\":{\"color\":\"#4D5663\"},\"title\":{\"font\":{\"color\":\"#4D5663\"},\"text\":\"\"},\"zerolinecolor\":\"#E1E5ED\"},\"yaxis5\":{\"anchor\":\"x5\",\"domain\":[0.535,0.7325],\"gridcolor\":\"#E1E5ED\",\"showgrid\":false,\"tickfont\":{\"color\":\"#4D5663\"},\"title\":{\"font\":{\"color\":\"#4D5663\"},\"text\":\"\"},\"zerolinecolor\":\"#E1E5ED\"},\"xaxis6\":{\"anchor\":\"y6\",\"domain\":[0.2625,0.475],\"gridcolor\":\"#E1E5ED\",\"showgrid\":false,\"tickfont\":{\"color\":\"#4D5663\"},\"title\":{\"font\":{\"color\":\"#4D5663\"},\"text\":\"\"},\"zerolinecolor\":\"#E1E5ED\"},\"yaxis6\":{\"anchor\":\"x6\",\"domain\":[0.535,0.7325],\"gridcolor\":\"#E1E5ED\",\"showgrid\":false,\"tickfont\":{\"color\":\"#4D5663\"},\"title\":{\"font\":{\"color\":\"#4D5663\"},\"text\":\"\"},\"zerolinecolor\":\"#E1E5ED\"},\"xaxis7\":{\"anchor\":\"y7\",\"domain\":[0.525,0.7375],\"gridcolor\":\"#E1E5ED\",\"showgrid\":false,\"tickfont\":{\"color\":\"#4D5663\"},\"title\":{\"font\":{\"color\":\"#4D5663\"},\"text\":\"\"},\"zerolinecolor\":\"#E1E5ED\"},\"yaxis7\":{\"anchor\":\"x7\",\"domain\":[0.535,0.7325],\"gridcolor\":\"#E1E5ED\",\"showgrid\":false,\"tickfont\":{\"color\":\"#4D5663\"},\"title\":{\"font\":{\"color\":\"#4D5663\"},\"text\":\"\"},\"zerolinecolor\":\"#E1E5ED\"},\"xaxis8\":{\"anchor\":\"y8\",\"domain\":[0.7875,1.0],\"gridcolor\":\"#E1E5ED\",\"showgrid\":false,\"tickfont\":{\"color\":\"#4D5663\"},\"title\":{\"font\":{\"color\":\"#4D5663\"},\"text\":\"\"},\"zerolinecolor\":\"#E1E5ED\"},\"yaxis8\":{\"anchor\":\"x8\",\"domain\":[0.535,0.7325],\"gridcolor\":\"#E1E5ED\",\"showgrid\":false,\"tickfont\":{\"color\":\"#4D5663\"},\"title\":{\"font\":{\"color\":\"#4D5663\"},\"text\":\"\"},\"zerolinecolor\":\"#E1E5ED\"},\"xaxis9\":{\"anchor\":\"y9\",\"domain\":[0.0,0.2125],\"gridcolor\":\"#E1E5ED\",\"showgrid\":false,\"tickfont\":{\"color\":\"#4D5663\"},\"title\":{\"font\":{\"color\":\"#4D5663\"},\"text\":\"\"},\"zerolinecolor\":\"#E1E5ED\"},\"yaxis9\":{\"anchor\":\"x9\",\"domain\":[0.2675,0.465],\"gridcolor\":\"#E1E5ED\",\"showgrid\":false,\"tickfont\":{\"color\":\"#4D5663\"},\"title\":{\"font\":{\"color\":\"#4D5663\"},\"text\":\"\"},\"zerolinecolor\":\"#E1E5ED\"},\"xaxis10\":{\"anchor\":\"y10\",\"domain\":[0.2625,0.475],\"gridcolor\":\"#E1E5ED\",\"showgrid\":false,\"tickfont\":{\"color\":\"#4D5663\"},\"title\":{\"font\":{\"color\":\"#4D5663\"},\"text\":\"\"},\"zerolinecolor\":\"#E1E5ED\"},\"yaxis10\":{\"anchor\":\"x10\",\"domain\":[0.2675,0.465],\"gridcolor\":\"#E1E5ED\",\"showgrid\":false,\"tickfont\":{\"color\":\"#4D5663\"},\"title\":{\"font\":{\"color\":\"#4D5663\"},\"text\":\"\"},\"zerolinecolor\":\"#E1E5ED\"},\"xaxis11\":{\"anchor\":\"y11\",\"domain\":[0.525,0.7375],\"gridcolor\":\"#E1E5ED\",\"showgrid\":false,\"tickfont\":{\"color\":\"#4D5663\"},\"title\":{\"font\":{\"color\":\"#4D5663\"},\"text\":\"\"},\"zerolinecolor\":\"#E1E5ED\"},\"yaxis11\":{\"anchor\":\"x11\",\"domain\":[0.2675,0.465],\"gridcolor\":\"#E1E5ED\",\"showgrid\":false,\"tickfont\":{\"color\":\"#4D5663\"},\"title\":{\"font\":{\"color\":\"#4D5663\"},\"text\":\"\"},\"zerolinecolor\":\"#E1E5ED\"},\"xaxis12\":{\"anchor\":\"y12\",\"domain\":[0.7875,1.0],\"gridcolor\":\"#E1E5ED\",\"showgrid\":false,\"tickfont\":{\"color\":\"#4D5663\"},\"title\":{\"font\":{\"color\":\"#4D5663\"},\"text\":\"\"},\"zerolinecolor\":\"#E1E5ED\"},\"yaxis12\":{\"anchor\":\"x12\",\"domain\":[0.2675,0.465],\"gridcolor\":\"#E1E5ED\",\"showgrid\":false,\"tickfont\":{\"color\":\"#4D5663\"},\"title\":{\"font\":{\"color\":\"#4D5663\"},\"text\":\"\"},\"zerolinecolor\":\"#E1E5ED\"},\"xaxis13\":{\"anchor\":\"y13\",\"domain\":[0.0,0.2125],\"gridcolor\":\"#E1E5ED\",\"showgrid\":false,\"tickfont\":{\"color\":\"#4D5663\"},\"title\":{\"font\":{\"color\":\"#4D5663\"},\"text\":\"\"},\"zerolinecolor\":\"#E1E5ED\"},\"yaxis13\":{\"anchor\":\"x13\",\"domain\":[0.0,0.1975],\"gridcolor\":\"#E1E5ED\",\"showgrid\":false,\"tickfont\":{\"color\":\"#4D5663\"},\"title\":{\"font\":{\"color\":\"#4D5663\"},\"text\":\"\"},\"zerolinecolor\":\"#E1E5ED\"},\"xaxis14\":{\"anchor\":\"y14\",\"domain\":[0.2625,0.475],\"gridcolor\":\"#E1E5ED\",\"showgrid\":false,\"tickfont\":{\"color\":\"#4D5663\"},\"title\":{\"font\":{\"color\":\"#4D5663\"},\"text\":\"\"},\"zerolinecolor\":\"#E1E5ED\"},\"yaxis14\":{\"anchor\":\"x14\",\"domain\":[0.0,0.1975],\"gridcolor\":\"#E1E5ED\",\"showgrid\":false,\"tickfont\":{\"color\":\"#4D5663\"},\"title\":{\"font\":{\"color\":\"#4D5663\"},\"text\":\"\"},\"zerolinecolor\":\"#E1E5ED\"},\"xaxis15\":{\"anchor\":\"y15\",\"domain\":[0.525,0.7375],\"gridcolor\":\"#E1E5ED\",\"showgrid\":false,\"tickfont\":{\"color\":\"#4D5663\"},\"title\":{\"font\":{\"color\":\"#4D5663\"},\"text\":\"\"},\"zerolinecolor\":\"#E1E5ED\"},\"yaxis15\":{\"anchor\":\"x15\",\"domain\":[0.0,0.1975],\"gridcolor\":\"#E1E5ED\",\"showgrid\":false,\"tickfont\":{\"color\":\"#4D5663\"},\"title\":{\"font\":{\"color\":\"#4D5663\"},\"text\":\"\"},\"zerolinecolor\":\"#E1E5ED\"},\"xaxis16\":{\"anchor\":\"y16\",\"domain\":[0.7875,1.0],\"gridcolor\":\"#E1E5ED\",\"showgrid\":false,\"tickfont\":{\"color\":\"#4D5663\"},\"title\":{\"font\":{\"color\":\"#4D5663\"},\"text\":\"\"},\"zerolinecolor\":\"#E1E5ED\"},\"yaxis16\":{\"anchor\":\"x16\",\"domain\":[0.0,0.1975],\"gridcolor\":\"#E1E5ED\",\"showgrid\":false,\"tickfont\":{\"color\":\"#4D5663\"},\"title\":{\"font\":{\"color\":\"#4D5663\"},\"text\":\"\"},\"zerolinecolor\":\"#E1E5ED\"}},                        {\"showLink\": true, \"linkText\": \"Export to plot.ly\", \"plotlyServerURL\": \"https://plot.ly\", \"responsive\": true}                    ).then(function(){\n",
       "                            \n",
       "var gd = document.getElementById('a2f2aa36-27bd-4bd5-a5e4-936bf5203ae9');\n",
       "var x = new MutationObserver(function (mutations, observer) {{\n",
       "        var display = window.getComputedStyle(gd).display;\n",
       "        if (!display || display === 'none') {{\n",
       "            console.log([gd, 'removed!']);\n",
       "            Plotly.purge(gd);\n",
       "            observer.disconnect();\n",
       "        }}\n",
       "}});\n",
       "\n",
       "// Listen for the removal of the full notebook cells\n",
       "var notebookContainer = gd.closest('#notebook-container');\n",
       "if (notebookContainer) {{\n",
       "    x.observe(notebookContainer, {childList: true});\n",
       "}}\n",
       "\n",
       "// Listen for the clearing of the current output cell\n",
       "var outputEl = gd.closest('.output');\n",
       "if (outputEl) {{\n",
       "    x.observe(outputEl, {childList: true});\n",
       "}}\n",
       "\n",
       "                        })                };                });            </script>        </div>"
      ]
     },
     "metadata": {},
     "output_type": "display_data"
    }
   ],
   "source": [
    "df.scatter_matrix()"
   ]
  }
 ],
 "metadata": {
  "kernelspec": {
   "display_name": "Python 3 (ipykernel)",
   "language": "python",
   "name": "python3"
  },
  "language_info": {
   "codemirror_mode": {
    "name": "ipython",
    "version": 3
   },
   "file_extension": ".py",
   "mimetype": "text/x-python",
   "name": "python",
   "nbconvert_exporter": "python",
   "pygments_lexer": "ipython3",
   "version": "3.9.15"
  }
 },
 "nbformat": 4,
 "nbformat_minor": 5
}
