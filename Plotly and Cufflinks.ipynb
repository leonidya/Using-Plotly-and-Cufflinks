{
 "cells": [
  {
   "cell_type": "code",
   "execution_count": 1,
   "id": "fdf1c418",
   "metadata": {
    "ExecuteTime": {
     "end_time": "2023-03-23T11:32:34.181662Z",
     "start_time": "2023-03-23T11:32:30.953333Z"
    }
   },
   "outputs": [
    {
     "name": "stdout",
     "output_type": "stream",
     "text": [
      "Requirement already satisfied: plotly in c:\\users\\leon\\anaconda3\\envs\\workdata\\lib\\site-packages (5.13.0)\n",
      "Requirement already satisfied: tenacity>=6.2.0 in c:\\users\\leon\\anaconda3\\envs\\workdata\\lib\\site-packages (from plotly) (8.2.1)\n"
     ]
    }
   ],
   "source": [
    "!pip install plotly"
   ]
  },
  {
   "cell_type": "code",
   "execution_count": 2,
   "id": "be49b43c",
   "metadata": {
    "ExecuteTime": {
     "end_time": "2023-03-23T11:32:47.787304Z",
     "start_time": "2023-03-23T11:32:40.901790Z"
    }
   },
   "outputs": [
    {
     "name": "stdout",
     "output_type": "stream",
     "text": [
      "Collecting cufflinks\n",
      "  Downloading cufflinks-0.17.3.tar.gz (81 kB)\n",
      "     -------------------------------------- 81.7/81.7 kB 415.7 kB/s eta 0:00:00\n",
      "  Preparing metadata (setup.py): started\n",
      "  Preparing metadata (setup.py): finished with status 'done'\n",
      "Requirement already satisfied: numpy>=1.9.2 in c:\\users\\leon\\appdata\\roaming\\python\\python39\\site-packages (from cufflinks) (1.23.4)\n",
      "Requirement already satisfied: pandas>=0.19.2 in c:\\users\\leon\\anaconda3\\envs\\workdata\\lib\\site-packages (from cufflinks) (1.5.2)\n",
      "Requirement already satisfied: plotly>=4.1.1 in c:\\users\\leon\\anaconda3\\envs\\workdata\\lib\\site-packages (from cufflinks) (5.13.0)\n",
      "Requirement already satisfied: six>=1.9.0 in c:\\users\\leon\\anaconda3\\envs\\workdata\\lib\\site-packages (from cufflinks) (1.16.0)\n",
      "Collecting colorlover>=0.2.1\n",
      "  Downloading colorlover-0.3.0-py3-none-any.whl (8.9 kB)\n",
      "Requirement already satisfied: setuptools>=34.4.1 in c:\\users\\leon\\anaconda3\\envs\\workdata\\lib\\site-packages (from cufflinks) (65.5.1)\n",
      "Requirement already satisfied: ipython>=5.3.0 in c:\\users\\leon\\anaconda3\\envs\\workdata\\lib\\site-packages (from cufflinks) (8.6.0)\n",
      "Requirement already satisfied: ipywidgets>=7.0.0 in c:\\users\\leon\\anaconda3\\envs\\workdata\\lib\\site-packages (from cufflinks) (8.0.4)\n",
      "Requirement already satisfied: pygments>=2.4.0 in c:\\users\\leon\\anaconda3\\envs\\workdata\\lib\\site-packages (from ipython>=5.3.0->cufflinks) (2.13.0)\n",
      "Requirement already satisfied: traitlets>=5 in c:\\users\\leon\\anaconda3\\envs\\workdata\\lib\\site-packages (from ipython>=5.3.0->cufflinks) (5.5.0)\n",
      "Requirement already satisfied: decorator in c:\\users\\leon\\anaconda3\\envs\\workdata\\lib\\site-packages (from ipython>=5.3.0->cufflinks) (5.1.1)\n",
      "Requirement already satisfied: stack-data in c:\\users\\leon\\anaconda3\\envs\\workdata\\lib\\site-packages (from ipython>=5.3.0->cufflinks) (0.6.1)\n",
      "Requirement already satisfied: matplotlib-inline in c:\\users\\leon\\anaconda3\\envs\\workdata\\lib\\site-packages (from ipython>=5.3.0->cufflinks) (0.1.6)\n",
      "Requirement already satisfied: colorama in c:\\users\\leon\\appdata\\roaming\\python\\python39\\site-packages (from ipython>=5.3.0->cufflinks) (0.4.6)\n",
      "Requirement already satisfied: backcall in c:\\users\\leon\\anaconda3\\envs\\workdata\\lib\\site-packages (from ipython>=5.3.0->cufflinks) (0.2.0)\n",
      "Requirement already satisfied: jedi>=0.16 in c:\\users\\leon\\anaconda3\\envs\\workdata\\lib\\site-packages (from ipython>=5.3.0->cufflinks) (0.18.2)\n",
      "Requirement already satisfied: prompt-toolkit<3.1.0,>3.0.1 in c:\\users\\leon\\anaconda3\\envs\\workdata\\lib\\site-packages (from ipython>=5.3.0->cufflinks) (3.0.33)\n",
      "Requirement already satisfied: pickleshare in c:\\users\\leon\\anaconda3\\envs\\workdata\\lib\\site-packages (from ipython>=5.3.0->cufflinks) (0.7.5)\n",
      "Requirement already satisfied: ipykernel>=4.5.1 in c:\\users\\leon\\anaconda3\\envs\\workdata\\lib\\site-packages (from ipywidgets>=7.0.0->cufflinks) (6.17.1)\n",
      "Requirement already satisfied: widgetsnbextension~=4.0 in c:\\users\\leon\\anaconda3\\envs\\workdata\\lib\\site-packages (from ipywidgets>=7.0.0->cufflinks) (4.0.5)\n",
      "Requirement already satisfied: jupyterlab-widgets~=3.0 in c:\\users\\leon\\anaconda3\\envs\\workdata\\lib\\site-packages (from ipywidgets>=7.0.0->cufflinks) (3.0.5)\n",
      "Requirement already satisfied: python-dateutil>=2.8.1 in c:\\users\\leon\\anaconda3\\envs\\workdata\\lib\\site-packages (from pandas>=0.19.2->cufflinks) (2.8.2)\n",
      "Requirement already satisfied: pytz>=2020.1 in c:\\users\\leon\\anaconda3\\envs\\workdata\\lib\\site-packages (from pandas>=0.19.2->cufflinks) (2022.6)\n",
      "Requirement already satisfied: tenacity>=6.2.0 in c:\\users\\leon\\anaconda3\\envs\\workdata\\lib\\site-packages (from plotly>=4.1.1->cufflinks) (8.2.1)\n",
      "Requirement already satisfied: debugpy>=1.0 in c:\\users\\leon\\anaconda3\\envs\\workdata\\lib\\site-packages (from ipykernel>=4.5.1->ipywidgets>=7.0.0->cufflinks) (1.6.3)\n",
      "Requirement already satisfied: packaging in c:\\users\\leon\\appdata\\roaming\\python\\python39\\site-packages (from ipykernel>=4.5.1->ipywidgets>=7.0.0->cufflinks) (21.3)\n",
      "Requirement already satisfied: tornado>=6.1 in c:\\users\\leon\\anaconda3\\envs\\workdata\\lib\\site-packages (from ipykernel>=4.5.1->ipywidgets>=7.0.0->cufflinks) (6.2)\n",
      "Requirement already satisfied: nest-asyncio in c:\\users\\leon\\anaconda3\\envs\\workdata\\lib\\site-packages (from ipykernel>=4.5.1->ipywidgets>=7.0.0->cufflinks) (1.5.6)\n",
      "Requirement already satisfied: psutil in c:\\users\\leon\\anaconda3\\envs\\workdata\\lib\\site-packages (from ipykernel>=4.5.1->ipywidgets>=7.0.0->cufflinks) (5.9.4)\n",
      "Requirement already satisfied: jupyter-client>=6.1.12 in c:\\users\\leon\\anaconda3\\envs\\workdata\\lib\\site-packages (from ipykernel>=4.5.1->ipywidgets>=7.0.0->cufflinks) (7.4.7)\n",
      "Requirement already satisfied: pyzmq>=17 in c:\\users\\leon\\anaconda3\\envs\\workdata\\lib\\site-packages (from ipykernel>=4.5.1->ipywidgets>=7.0.0->cufflinks) (24.0.1)\n",
      "Requirement already satisfied: parso<0.9.0,>=0.8.0 in c:\\users\\leon\\anaconda3\\envs\\workdata\\lib\\site-packages (from jedi>=0.16->ipython>=5.3.0->cufflinks) (0.8.3)\n",
      "Requirement already satisfied: wcwidth in c:\\users\\leon\\anaconda3\\envs\\workdata\\lib\\site-packages (from prompt-toolkit<3.1.0,>3.0.1->ipython>=5.3.0->cufflinks) (0.2.5)\n",
      "Requirement already satisfied: asttokens>=2.1.0 in c:\\users\\leon\\anaconda3\\envs\\workdata\\lib\\site-packages (from stack-data->ipython>=5.3.0->cufflinks) (2.1.0)\n",
      "Requirement already satisfied: executing>=1.2.0 in c:\\users\\leon\\anaconda3\\envs\\workdata\\lib\\site-packages (from stack-data->ipython>=5.3.0->cufflinks) (1.2.0)\n",
      "Requirement already satisfied: pure-eval in c:\\users\\leon\\anaconda3\\envs\\workdata\\lib\\site-packages (from stack-data->ipython>=5.3.0->cufflinks) (0.2.2)\n",
      "Requirement already satisfied: entrypoints in c:\\users\\leon\\anaconda3\\envs\\workdata\\lib\\site-packages (from jupyter-client>=6.1.12->ipykernel>=4.5.1->ipywidgets>=7.0.0->cufflinks) (0.4)\n",
      "Requirement already satisfied: jupyter-core>=4.9.2 in c:\\users\\leon\\anaconda3\\envs\\workdata\\lib\\site-packages (from jupyter-client>=6.1.12->ipykernel>=4.5.1->ipywidgets>=7.0.0->cufflinks) (5.0.0)\n",
      "Requirement already satisfied: pyparsing!=3.0.5,>=2.0.2 in c:\\users\\leon\\appdata\\roaming\\python\\python39\\site-packages (from packaging->ipykernel>=4.5.1->ipywidgets>=7.0.0->cufflinks) (3.0.9)\n",
      "Requirement already satisfied: pywin32>=1.0 in c:\\users\\leon\\anaconda3\\envs\\workdata\\lib\\site-packages (from jupyter-core>=4.9.2->jupyter-client>=6.1.12->ipykernel>=4.5.1->ipywidgets>=7.0.0->cufflinks) (304)\n",
      "Requirement already satisfied: platformdirs in c:\\users\\leon\\anaconda3\\envs\\workdata\\lib\\site-packages (from jupyter-core>=4.9.2->jupyter-client>=6.1.12->ipykernel>=4.5.1->ipywidgets>=7.0.0->cufflinks) (2.5.2)\n",
      "Building wheels for collected packages: cufflinks\n",
      "  Building wheel for cufflinks (setup.py): started\n",
      "  Building wheel for cufflinks (setup.py): finished with status 'done'\n",
      "  Created wheel for cufflinks: filename=cufflinks-0.17.3-py3-none-any.whl size=68725 sha256=b55ae1bae1ca3a6dad77d0b7e92de6d4d6c6875477098aef757a40cbace615de\n",
      "  Stored in directory: c:\\users\\leon\\appdata\\local\\pip\\cache\\wheels\\32\\f7\\bd\\3b5f431b9a740489de249dad87142f8ee000b7c6b6e8e58d54\n",
      "Successfully built cufflinks\n",
      "Installing collected packages: colorlover, cufflinks\n",
      "Successfully installed colorlover-0.3.0 cufflinks-0.17.3\n"
     ]
    }
   ],
   "source": [
    "!pip install cufflinks"
   ]
  },
  {
   "cell_type": "code",
   "execution_count": 4,
   "id": "2e738355",
   "metadata": {
    "ExecuteTime": {
     "end_time": "2023-03-23T11:36:27.378798Z",
     "start_time": "2023-03-23T11:36:26.308885Z"
    }
   },
   "outputs": [],
   "source": [
    "import plotly as np\n",
    "import pandas as pd"
   ]
  },
  {
   "cell_type": "code",
   "execution_count": 6,
   "id": "59842e47",
   "metadata": {
    "ExecuteTime": {
     "end_time": "2023-03-23T11:36:50.225850Z",
     "start_time": "2023-03-23T11:36:50.213443Z"
    }
   },
   "outputs": [],
   "source": [
    "from plotly import __version__"
   ]
  },
  {
   "cell_type": "code",
   "execution_count": 9,
   "id": "3473f18b",
   "metadata": {
    "ExecuteTime": {
     "end_time": "2023-03-23T11:37:10.473200Z",
     "start_time": "2023-03-23T11:37:10.470199Z"
    }
   },
   "outputs": [
    {
     "name": "stdout",
     "output_type": "stream",
     "text": [
      "5.13.0\n"
     ]
    }
   ],
   "source": [
    "print(__version__)"
   ]
  },
  {
   "cell_type": "code",
   "execution_count": 10,
   "id": "58de5fa5",
   "metadata": {
    "ExecuteTime": {
     "end_time": "2023-03-23T11:38:21.768884Z",
     "start_time": "2023-03-23T11:38:20.550596Z"
    }
   },
   "outputs": [],
   "source": [
    "import cufflinks as cf"
   ]
  },
  {
   "cell_type": "code",
   "execution_count": 13,
   "id": "9fcd993d",
   "metadata": {
    "ExecuteTime": {
     "end_time": "2023-03-23T11:39:22.735460Z",
     "start_time": "2023-03-23T11:39:22.725455Z"
    }
   },
   "outputs": [],
   "source": [
    "from plotly.offline import download_plotlyjs, init_notebook_mode, plot, iplot"
   ]
  },
  {
   "cell_type": "code",
   "execution_count": 14,
   "id": "f08d0749",
   "metadata": {
    "ExecuteTime": {
     "end_time": "2023-03-23T11:39:49.187044Z",
     "start_time": "2023-03-23T11:39:49.077909Z"
    }
   },
   "outputs": [
    {
     "data": {
      "text/html": [
       "        <script type=\"text/javascript\">\n",
       "        window.PlotlyConfig = {MathJaxConfig: 'local'};\n",
       "        if (window.MathJax && window.MathJax.Hub && window.MathJax.Hub.Config) {window.MathJax.Hub.Config({SVG: {font: \"STIX-Web\"}});}\n",
       "        if (typeof require !== 'undefined') {\n",
       "        require.undef(\"plotly\");\n",
       "        requirejs.config({\n",
       "            paths: {\n",
       "                'plotly': ['https://cdn.plot.ly/plotly-2.18.0.min']\n",
       "            }\n",
       "        });\n",
       "        require(['plotly'], function(Plotly) {\n",
       "            window._Plotly = Plotly;\n",
       "        });\n",
       "        }\n",
       "        </script>\n",
       "        "
      ]
     },
     "metadata": {},
     "output_type": "display_data"
    }
   ],
   "source": [
    "init_notebook_mode(connected=True)"
   ]
  },
  {
   "cell_type": "code",
   "execution_count": 15,
   "id": "97e886f9",
   "metadata": {
    "ExecuteTime": {
     "end_time": "2023-03-23T11:40:04.024177Z",
     "start_time": "2023-03-23T11:40:04.005587Z"
    }
   },
   "outputs": [
    {
     "data": {
      "text/html": [
       "        <script type=\"text/javascript\">\n",
       "        window.PlotlyConfig = {MathJaxConfig: 'local'};\n",
       "        if (window.MathJax && window.MathJax.Hub && window.MathJax.Hub.Config) {window.MathJax.Hub.Config({SVG: {font: \"STIX-Web\"}});}\n",
       "        if (typeof require !== 'undefined') {\n",
       "        require.undef(\"plotly\");\n",
       "        requirejs.config({\n",
       "            paths: {\n",
       "                'plotly': ['https://cdn.plot.ly/plotly-2.18.0.min']\n",
       "            }\n",
       "        });\n",
       "        require(['plotly'], function(Plotly) {\n",
       "            window._Plotly = Plotly;\n",
       "        });\n",
       "        }\n",
       "        </script>\n",
       "        "
      ]
     },
     "metadata": {},
     "output_type": "display_data"
    }
   ],
   "source": [
    "cf.go_offline()"
   ]
  },
  {
   "cell_type": "code",
   "execution_count": 28,
   "id": "5ee65f4d",
   "metadata": {
    "ExecuteTime": {
     "end_time": "2023-03-23T11:47:02.828668Z",
     "start_time": "2023-03-23T11:47:02.821666Z"
    }
   },
   "outputs": [],
   "source": [
    "import numpy as np\n",
    "import pandas as pd\n",
    "\n",
    "df = pd.DataFrame(np.random.randn(100, 4), columns=['A', 'B', 'C', 'D'])"
   ]
  },
  {
   "cell_type": "code",
   "execution_count": 29,
   "id": "950b2e86",
   "metadata": {
    "ExecuteTime": {
     "end_time": "2023-03-23T11:47:07.532772Z",
     "start_time": "2023-03-23T11:47:07.493987Z"
    }
   },
   "outputs": [
    {
     "data": {
      "text/html": [
       "<div>\n",
       "<style scoped>\n",
       "    .dataframe tbody tr th:only-of-type {\n",
       "        vertical-align: middle;\n",
       "    }\n",
       "\n",
       "    .dataframe tbody tr th {\n",
       "        vertical-align: top;\n",
       "    }\n",
       "\n",
       "    .dataframe thead th {\n",
       "        text-align: right;\n",
       "    }\n",
       "</style>\n",
       "<table border=\"1\" class=\"dataframe\">\n",
       "  <thead>\n",
       "    <tr style=\"text-align: right;\">\n",
       "      <th></th>\n",
       "      <th>A</th>\n",
       "      <th>B</th>\n",
       "      <th>C</th>\n",
       "      <th>D</th>\n",
       "    </tr>\n",
       "  </thead>\n",
       "  <tbody>\n",
       "    <tr>\n",
       "      <th>0</th>\n",
       "      <td>0.427830</td>\n",
       "      <td>0.483060</td>\n",
       "      <td>-0.242065</td>\n",
       "      <td>-1.713339</td>\n",
       "    </tr>\n",
       "    <tr>\n",
       "      <th>1</th>\n",
       "      <td>-0.179603</td>\n",
       "      <td>0.009058</td>\n",
       "      <td>-1.263153</td>\n",
       "      <td>-1.293295</td>\n",
       "    </tr>\n",
       "    <tr>\n",
       "      <th>2</th>\n",
       "      <td>1.016404</td>\n",
       "      <td>-0.101159</td>\n",
       "      <td>0.459407</td>\n",
       "      <td>0.144418</td>\n",
       "    </tr>\n",
       "    <tr>\n",
       "      <th>3</th>\n",
       "      <td>-0.712279</td>\n",
       "      <td>1.299365</td>\n",
       "      <td>0.600772</td>\n",
       "      <td>-0.464273</td>\n",
       "    </tr>\n",
       "    <tr>\n",
       "      <th>4</th>\n",
       "      <td>-0.647016</td>\n",
       "      <td>-0.917631</td>\n",
       "      <td>-0.926563</td>\n",
       "      <td>-1.364605</td>\n",
       "    </tr>\n",
       "  </tbody>\n",
       "</table>\n",
       "</div>"
      ],
      "text/plain": [
       "          A         B         C         D\n",
       "0  0.427830  0.483060 -0.242065 -1.713339\n",
       "1 -0.179603  0.009058 -1.263153 -1.293295\n",
       "2  1.016404 -0.101159  0.459407  0.144418\n",
       "3 -0.712279  1.299365  0.600772 -0.464273\n",
       "4 -0.647016 -0.917631 -0.926563 -1.364605"
      ]
     },
     "execution_count": 29,
     "metadata": {},
     "output_type": "execute_result"
    }
   ],
   "source": [
    "df.head()"
   ]
  },
  {
   "cell_type": "code",
   "execution_count": null,
   "id": "09fc57a0",
   "metadata": {},
   "outputs": [],
   "source": []
  },
  {
   "cell_type": "code",
   "execution_count": 30,
   "id": "565b39df",
   "metadata": {
    "ExecuteTime": {
     "end_time": "2023-03-23T11:48:34.778483Z",
     "start_time": "2023-03-23T11:48:34.758409Z"
    }
   },
   "outputs": [],
   "source": [
    "df2= pd.DataFrame({'Category':['A','B','C'],'Values':[32,43,50]})"
   ]
  },
  {
   "cell_type": "code",
   "execution_count": 31,
   "id": "992075b0",
   "metadata": {
    "ExecuteTime": {
     "end_time": "2023-03-23T11:48:40.021549Z",
     "start_time": "2023-03-23T11:48:40.006546Z"
    }
   },
   "outputs": [
    {
     "data": {
      "text/html": [
       "<div>\n",
       "<style scoped>\n",
       "    .dataframe tbody tr th:only-of-type {\n",
       "        vertical-align: middle;\n",
       "    }\n",
       "\n",
       "    .dataframe tbody tr th {\n",
       "        vertical-align: top;\n",
       "    }\n",
       "\n",
       "    .dataframe thead th {\n",
       "        text-align: right;\n",
       "    }\n",
       "</style>\n",
       "<table border=\"1\" class=\"dataframe\">\n",
       "  <thead>\n",
       "    <tr style=\"text-align: right;\">\n",
       "      <th></th>\n",
       "      <th>Category</th>\n",
       "      <th>Values</th>\n",
       "    </tr>\n",
       "  </thead>\n",
       "  <tbody>\n",
       "    <tr>\n",
       "      <th>0</th>\n",
       "      <td>A</td>\n",
       "      <td>32</td>\n",
       "    </tr>\n",
       "    <tr>\n",
       "      <th>1</th>\n",
       "      <td>B</td>\n",
       "      <td>43</td>\n",
       "    </tr>\n",
       "    <tr>\n",
       "      <th>2</th>\n",
       "      <td>C</td>\n",
       "      <td>50</td>\n",
       "    </tr>\n",
       "  </tbody>\n",
       "</table>\n",
       "</div>"
      ],
      "text/plain": [
       "  Category  Values\n",
       "0        A      32\n",
       "1        B      43\n",
       "2        C      50"
      ]
     },
     "execution_count": 31,
     "metadata": {},
     "output_type": "execute_result"
    }
   ],
   "source": [
    "df2"
   ]
  },
  {
   "cell_type": "code",
   "execution_count": 32,
   "id": "1e86816e",
   "metadata": {
    "ExecuteTime": {
     "end_time": "2023-03-23T11:49:59.056235Z",
     "start_time": "2023-03-23T11:49:58.646204Z"
    }
   },
   "outputs": [],
   "source": [
    "%matplotlib inline"
   ]
  },
  {
   "cell_type": "code",
   "execution_count": 33,
   "id": "e62205e6",
   "metadata": {
    "ExecuteTime": {
     "end_time": "2023-03-23T11:49:59.867181Z",
     "start_time": "2023-03-23T11:49:59.638351Z"
    }
   },
   "outputs": [
    {
     "data": {
      "text/plain": [
       "<AxesSubplot: >"
      ]
     },
     "execution_count": 33,
     "metadata": {},
     "output_type": "execute_result"
    },
    {
     "data": {
      "image/png": "[encoded data removed]",
      "text/plain": [
       "<Figure size 640x480 with 1 Axes>"
      ]
     },
     "metadata": {},
     "output_type": "display_data"
    }
   ],
   "source": [
    "df.plot()"
   ]
  },
  {
   "cell_type": "code",
   "execution_count": 34,
   "id": "c16747eb",
   "metadata": {
    "ExecuteTime": {
     "end_time": "2023-03-23T11:50:11.666255Z",
     "start_time": "2023-03-23T11:50:10.919198Z"
    }
   },
   "outputs": [
    {
     "data": {
      "application/vnd.plotly.v1+json": {
       "config": {
        "linkText": "Export to plot.ly",
        "plotlyServerURL": "https://plot.ly",
        "showLink": true
       },
       "data": [
        {
         "line": {
          "color": "rgba(255, 153, 51, 1.0)",
          "dash": "solid",
          "shape": "linear",
          "width": 1.3
         },
         "mode": "lines",
         "name": "A",
         "text": "",
         "type": "scatter",
         "x": [
          0,
          1,
          2,
          3,
          4,
          5,
          6,
          7,
          8,
          9,
          10,
          11,
          12,
          13,
          14,
          15,
          16,
          17,
          18,
          19,
          20,
          21,
          22,
          23,
          24,
          25,
          26,
          27,
          28,
          29,
          30,
          31,
          32,
          33,
          34,
          35,
          36,
          37,
          38,
          39,
          40,
          41,
          42,
          43,
          44,
          45,
          46,
          47,
          48,
          49,
          50,
          51,
          52,
          53,
          54,
          55,
          56,
          57,
          58,
          59,
          60,
          61,
          62,
          63,
          64,
          65,
          66,
          67,
          68,
          69,
          70,
          71,
          72,
          73,
          74,
          75,
          76,
          77,
          78,
          79,
          80,
          81,
          82,
          83,
          84,
          85,
          86,
          87,
          88,
          89,
          90,
          91,
          92,
          93,
          94,
          95,
          96,
          97,
          98,
          99
         ],
         "y": [
          0.4278303063139346,
          -0.17960339661206842,
          1.0164042618967994,
          -0.7122789625358378,
          -0.6470161726957598,
          -1.5391054711001806,
          -0.816419876227612,
          0.14992634819113262,
          -0.2538297184910725,
          0.4011312596835835,
          -0.35121217557811146,
          -0.08067457705225729,
          -1.2864396719186408,
          0.46615802073452944,
          -0.3186788122439116,
          1.0143288516154085,
          -2.2806490282504535,
          0.40384690521168326,
          0.6018005259883966,
          -0.25978009976335664,
          -1.1669122342579856,
          0.8573994100521745,
          0.8623475326006868,
          -0.3544586484489518,
          0.4110630086982138,
          -0.32937147502200953,
          0.8971370723551457,
          0.42079992650952014,
          -0.4723624434704465,
          0.12777627493488986,
          0.4889927615403592,
          -0.9481653064033165,
          0.10111690399406939,
          -0.5199092906505531,
          -0.9131480083912413,
          1.091390985730131,
          -1.166766293120185,
          0.20757181583433243,
          0.6829620194836434,
          -1.0930355069538578,
          -0.02650130330699229,
          -1.2924400269578538,
          0.14418601175977652,
          -0.20223854166849403,
          0.19208883138239824,
          -0.18114204996310787,
          -0.19841663539400559,
          1.8385362877297255,
          0.15384934369884648,
          -0.3098194447686136,
          -1.2045370228630572,
          0.5327550476824217,
          -0.29441402000600364,
          0.3709208833043238,
          -1.5092728793466288,
          0.5191502262763877,
          1.4637639676598087,
          -0.7232252992171272,
          0.6980766119028778,
          -0.7563825513013476,
          -0.7421339581048623,
          1.121264011877191,
          0.013752107630780407,
          -0.5892825852411415,
          0.6056490857330595,
          0.9780201457682005,
          0.3394107574260655,
          -0.29779406831739264,
          -0.8249862472503384,
          -0.006608688646789804,
          0.9173723910209661,
          -0.03603833862910183,
          -0.6990592443026739,
          -1.342749352000533,
          -1.7062572618616654,
          -0.4379870105257444,
          -0.37396788969217615,
          -1.2152159255979396,
          0.85898836922212,
          0.2853468800286372,
          0.08525587871536675,
          0.3440875236892165,
          0.43424037380948755,
          0.5175629844710247,
          -0.06289870370813987,
          -0.3717812990629133,
          -1.3435656884172564,
          2.1465656501241304,
          0.9877233116000835,
          0.04448063913151714,
          -0.5020413908536919,
          0.13533132322167515,
          -0.4085192034480075,
          -0.5307015361759451,
          0.8328125615881095,
          0.16467398244369646,
          0.3384160963082231,
          0.5451546074803042,
          0.565600486678321,
          0.7341938436024419
         ]
        },
        {
         "line": {
          "color": "rgba(55, 128, 191, 1.0)",
          "dash": "solid",
          "shape": "linear",
          "width": 1.3
         },
         "mode": "lines",
         "name": "B",
         "text": "",
         "type": "scatter",
         "x": [
          0,
          1,
          2,
          3,
          4,
          5,
          6,
          7,
          8,
          9,
          10,
          11,
          12,
          13,
          14,
          15,
          16,
          17,
          18,
          19,
          20,
          21,
          22,
          23,
          24,
          25,
          26,
          27,
          28,
          29,
          30,
          31,
          32,
          33,
          34,
          35,
          36,
          37,
          38,
          39,
          40,
          41,
          42,
          43,
          44,
          45,
          46,
          47,
          48,
          49,
          50,
          51,
          52,
          53,
          54,
          55,
          56,
          57,
          58,
          59,
          60,
          61,
          62,
          63,
          64,
          65,
          66,
          67,
          68,
          69,
          70,
          71,
          72,
          73,
          74,
          75,
          76,
          77,
          78,
          79,
          80,
          81,
          82,
          83,
          84,
          85,
          86,
          87,
          88,
          89,
          90,
          91,
          92,
          93,
          94,
          95,
          96,
          97,
          98,
          99
         ],
         "y": [
          0.48306040414083834,
          0.009058351407117657,
          -0.10115869895854517,
          1.299364507421079,
          -0.917630514349454,
          -0.0004417653346297867,
          -0.40798279547156635,
          0.3444360696810804,
          -0.5303963906334963,
          0.16405004030193343,
          0.3350632725543995,
          -0.1981882405566007,
          -0.24432705870638655,
          1.096647494957282,
          0.3648057242653707,
          1.792685105555086,
          1.4643582511094944,
          -0.8544839418659624,
          -0.9191036875899685,
          0.5677118433595862,
          0.3644188202879386,
          0.33595984166710796,
          1.9936047851335992,
          -0.3184669272450796,
          0.32975569755681217,
          0.4260629510999024,
          0.23486176179843596,
          -1.086942248367033,
          0.3674910042928074,
          -0.46547162469799963,
          -0.9924427421111863,
          -2.1406810439355066,
          -0.21469032628104553,
          -0.12076619656413162,
          0.7647436190552594,
          0.4929088265880474,
          -0.8771908460491088,
          2.1777215427021996,
          0.04436592206782866,
          -0.0073038619111890565,
          1.4963995074604057,
          -0.46116149162445347,
          -0.9719021840295913,
          0.6605389800911491,
          -1.160605255775432,
          0.6757450195029824,
          -0.6991125021178969,
          0.5398846034108065,
          -0.4066398571344095,
          -0.31589064660126354,
          -0.7208238632743234,
          -0.383731214271165,
          -1.3536096966031266,
          0.4987596504299444,
          0.22804262761234906,
          -0.9882108951751464,
          0.6127722213063093,
          -0.9834991873284643,
          0.14950554896813462,
          0.4830956263791654,
          0.17451464216515458,
          -1.816099518246873,
          1.1385736700100326,
          -1.0036133687647835,
          0.8188788059107236,
          1.157425588927253,
          -1.1723531019569493,
          -0.07573755585923887,
          0.17966228070772516,
          0.6285754121275586,
          1.1372469738815771,
          -0.28269154554196035,
          0.7165406494548696,
          -0.23007318691659548,
          -0.8883280341101701,
          0.3281056679583895,
          -0.5449040671497705,
          -1.5170140313832825,
          0.7159357051909687,
          1.2061881235431922,
          -1.487080206258318,
          0.219275882063202,
          0.007041079866349726,
          0.2331570317320377,
          0.0034261754096381295,
          0.08514670420553244,
          -1.1107420851889813,
          1.8460938344620215,
          -0.21158616035407998,
          0.0044370729423990705,
          -0.39390964225737446,
          -1.222526038408339,
          -0.43863339052296013,
          -0.08599763750602338,
          -0.7734350600969128,
          -0.12144896846053277,
          -0.18775311587229412,
          1.4392171860459413,
          -0.2882843728195542,
          0.364549423795677
         ]
        },
        {
         "line": {
          "color": "rgba(50, 171, 96, 1.0)",
          "dash": "solid",
          "shape": "linear",
          "width": 1.3
         },
         "mode": "lines",
         "name": "C",
         "text": "",
         "type": "scatter",
         "x": [
          0,
          1,
          2,
          3,
          4,
          5,
          6,
          7,
          8,
          9,
          10,
          11,
          12,
          13,
          14,
          15,
          16,
          17,
          18,
          19,
          20,
          21,
          22,
          23,
          24,
          25,
          26,
          27,
          28,
          29,
          30,
          31,
          32,
          33,
          34,
          35,
          36,
          37,
          38,
          39,
          40,
          41,
          42,
          43,
          44,
          45,
          46,
          47,
          48,
          49,
          50,
          51,
          52,
          53,
          54,
          55,
          56,
          57,
          58,
          59,
          60,
          61,
          62,
          63,
          64,
          65,
          66,
          67,
          68,
          69,
          70,
          71,
          72,
          73,
          74,
          75,
          76,
          77,
          78,
          79,
          80,
          81,
          82,
          83,
          84,
          85,
          86,
          87,
          88,
          89,
          90,
          91,
          92,
          93,
          94,
          95,
          96,
          97,
          98,
          99
         ],
         "y": [
          -0.24206467032319814,
          -1.2631525698375463,
          0.4594071214617641,
          0.60077235908034,
          -0.9265626233504829,
          0.6756216034502802,
          0.7434142581111773,
          0.018262130597430336,
          -0.06392608339156247,
          1.4060464622338318,
          1.0686269655137899,
          0.002754273374794008,
          0.4605672689199664,
          0.39263815023305654,
          -0.7329865214766967,
          1.6297002427753362,
          -0.0008107283884601559,
          1.9765014199108537,
          1.2096049063087697,
          1.6213248538289111,
          -1.585873889736527,
          -0.8651655009854876,
          0.020988001541876446,
          -1.3406838702958856,
          -0.951200160119948,
          -0.497654320179825,
          -0.021054458357745297,
          -1.0574593040360256,
          1.0294055755935148,
          1.2163001342613522,
          0.17970515970423812,
          -0.11760176641969425,
          -1.0969510943885759,
          -0.5868858904725097,
          2.083934082971225,
          -0.9181885756735065,
          -0.1553782987340766,
          -0.820988776654748,
          -0.3804720882188407,
          -0.35752641236018046,
          -0.35401246761989624,
          -0.5775830532493539,
          -2.424900350237003,
          0.2855207075604285,
          0.46936376753898157,
          -0.21746001938038956,
          0.06450952686778252,
          0.7444671538036397,
          -1.2248250486686556,
          -1.416788946235324,
          1.3705699230468036,
          -0.2893623524636134,
          0.7887332621839191,
          0.6265750340329868,
          -1.7050938119207735,
          -1.710626378654247,
          -0.17212900337049927,
          0.786445692495372,
          0.8728446850178994,
          -0.04713310597221714,
          0.13142099172018107,
          0.39726379664821326,
          1.322607054992196,
          0.5354512919666429,
          1.2374262494474055,
          2.116237482381573,
          1.9044511430298887,
          1.391112716532458,
          -0.35693852947472154,
          0.4918662133612119,
          -0.5922710055561605,
          -0.7878598194918272,
          0.5265707948268116,
          -0.642020950111216,
          0.5517844245714252,
          -0.7934961397371885,
          0.7908296097983124,
          2.275523536747189,
          1.1606453869673206,
          -0.7974626361895323,
          0.005581955560807476,
          0.21689162723437547,
          0.22298419441339054,
          0.8200441699855056,
          1.19166521369793,
          -0.8976133213470465,
          -0.567476953648249,
          -0.7809052141714418,
          -0.27644458517576165,
          1.0616591780119478,
          -1.2363549285298678,
          0.1262708566305871,
          0.9525493443749347,
          -1.6866168540938908,
          -0.4902723986210022,
          -0.7992571135728221,
          -2.074657039634036,
          0.30943950283626537,
          0.9782524876015997,
          -0.1773164998324019
         ]
        },
        {
         "line": {
          "color": "rgba(128, 0, 128, 1.0)",
          "dash": "solid",
          "shape": "linear",
          "width": 1.3
         },
         "mode": "lines",
         "name": "D",
         "text": "",
         "type": "scatter",
         "x": [
          0,
          1,
          2,
          3,
          4,
          5,
          6,
          7,
          8,
          9,
          10,
          11,
          12,
          13,
          14,
          15,
          16,
          17,
          18,
          19,
          20,
          21,
          22,
          23,
          24,
          25,
          26,
          27,
          28,
          29,
          30,
          31,
          32,
          33,
          34,
          35,
          36,
          37,
          38,
          39,
          40,
          41,
          42,
          43,
          44,
          45,
          46,
          47,
          48,
          49,
          50,
          51,
          52,
          53,
          54,
          55,
          56,
          57,
          58,
          59,
          60,
          61,
          62,
          63,
          64,
          65,
          66,
          67,
          68,
          69,
          70,
          71,
          72,
          73,
          74,
          75,
          76,
          77,
          78,
          79,
          80,
          81,
          82,
          83,
          84,
          85,
          86,
          87,
          88,
          89,
          90,
          91,
          92,
          93,
          94,
          95,
          96,
          97,
          98,
          99
         ],
         "y": [
          -1.7133387861031382,
          -1.2932945006528207,
          0.14441817391879672,
          -0.46427328484531893,
          -1.3646050456562944,
          0.4686406470154942,
          0.7474547724221794,
          -0.675305811206826,
          0.758847914674031,
          0.7428028093361997,
          -0.4065924037422975,
          0.8064727208976706,
          0.2931240500444258,
          -1.0914232991042179,
          -2.0453820137163046,
          -0.2936273028983105,
          -0.14035412942006467,
          -0.8301817516350479,
          -0.7865457087503928,
          -1.1546250246981458,
          0.3215877269843798,
          -1.3839309511016578,
          0.08209020772287838,
          0.9304230655889154,
          0.31745222546584634,
          0.11193970003501555,
          1.7139986776284593,
          -2.0967803975447517,
          1.0511375814990898,
          0.6383915109140148,
          1.2555622054890245,
          -0.5508945322176529,
          0.18747842418344107,
          -0.9803099881452719,
          0.1467935250497945,
          -0.20256265797208975,
          1.567893903926729,
          -1.644143572382776,
          0.30826059921641225,
          -0.7387013328474691,
          -0.019446660009001256,
          1.326199758941917,
          1.0410750283906138,
          1.2395301701487318,
          -2.406092741659287,
          2.416574931180957,
          0.6882233525175699,
          0.04639932826401581,
          -0.16979647167446166,
          0.08403610728427734,
          -0.3219768344393413,
          0.030567251288725984,
          0.6387071244259642,
          2.0584786699697726,
          2.2729373305352922,
          -1.4912937903346457,
          -1.7143541593610665,
          -0.34648232336346285,
          -0.23503278285029994,
          -0.15948119829612942,
          0.5131560094607199,
          0.3991080890988705,
          -0.6343936102103105,
          -0.0940156804309552,
          -0.17713779298576451,
          -0.75443203752132,
          -0.4360212088269227,
          -0.49578419347288005,
          -1.0089817430408183,
          -0.45886311889243525,
          -0.20026747240539783,
          -1.8763166449135418,
          0.3735678516046811,
          0.804719500794733,
          1.1871386676158464,
          1.3186386149058955,
          -1.0325204869497864,
          -1.7590503779541997,
          0.7025720876217167,
          0.2678085853874164,
          -0.7554939802021241,
          -2.372721493554485,
          -1.3184213475425806,
          0.46209929466084504,
          -0.7232520394848614,
          1.2672793869050392,
          -1.3645244928619236,
          0.9613521435589473,
          -1.3753146341448226,
          0.2316998510860715,
          1.7574559430991654,
          -3.098889574485068,
          1.1375254421854166,
          -0.5386418392620599,
          1.2300015496189856,
          -0.07574961938385888,
          1.9618251717642414,
          1.299537326929035,
          -1.1235054198822467,
          0.5221874567126272
         ]
        }
       ],
       "layout": {
        "legend": {
         "bgcolor": "#F5F6F9",
         "font": {
          "color": "#4D5663"
         }
        },
        "paper_bgcolor": "#F5F6F9",
        "plot_bgcolor": "#F5F6F9",
        "template": {
         "data": {
          "bar": [
           {
            "error_x": {
             "color": "#2a3f5f"
            },
            "error_y": {
             "color": "#2a3f5f"
            },
            "marker": {
             "line": {
              "color": "#E5ECF6",
              "width": 0.5
             },
             "pattern": {
              "fillmode": "overlay",
              "size": 10,
              "solidity": 0.2
             }
            },
            "type": "bar"
           }
          ],
          "barpolar": [
           {
            "marker": {
             "line": {
              "color": "#E5ECF6",
              "width": 0.5
             },
             "pattern": {
              "fillmode": "overlay",
              "size": 10,
              "solidity": 0.2
             }
            },
            "type": "barpolar"
           }
          ],
          "carpet": [
           {
            "aaxis": {
             "endlinecolor": "#2a3f5f",
             "gridcolor": "white",
             "linecolor": "white",
             "minorgridcolor": "white",
             "startlinecolor": "#2a3f5f"
            },
            "baxis": {
             "endlinecolor": "#2a3f5f",
             "gridcolor": "white",
             "linecolor": "white",
             "minorgridcolor": "white",
             "startlinecolor": "#2a3f5f"
            },
            "type": "carpet"
           }
          ],
          "choropleth": [
           {
            "colorbar": {
             "outlinewidth": 0,
             "ticks": ""
            },
            "type": "choropleth"
           }
          ],
          "contour": [
           {
            "colorbar": {
             "outlinewidth": 0,
             "ticks": ""
            },
            "colorscale": [
             [
              0,
              "#0d0887"
             ],
             [
              0.1111111111111111,
              "#46039f"
             ],
             [
              0.2222222222222222,
              "#7201a8"
             ],
             [
              0.3333333333333333,
              "#9c179e"
             ],
             [
              0.4444444444444444,
              "#bd3786"
             ],
             [
              0.5555555555555556,
              "#d8576b"
             ],
             [
              0.6666666666666666,
              "#ed7953"
             ],
             [
              0.7777777777777778,
              "#fb9f3a"
             ],
             [
              0.8888888888888888,
              "#fdca26"
             ],
             [
              1,
              "#f0f921"
             ]
            ],
            "type": "contour"
           }
          ],
          "contourcarpet": [
           {
            "colorbar": {
             "outlinewidth": 0,
             "ticks": ""
            },
            "type": "contourcarpet"
           }
          ],
          "heatmap": [
           {
            "colorbar": {
             "outlinewidth": 0,
             "ticks": ""
            },
            "colorscale": [
             [
              0,
              "#0d0887"
             ],
             [
              0.1111111111111111,
              "#46039f"
             ],
             [
              0.2222222222222222,
              "#7201a8"
             ],
             [
              0.3333333333333333,
              "#9c179e"
             ],
             [
              0.4444444444444444,
              "#bd3786"
             ],
             [
              0.5555555555555556,
              "#d8576b"
             ],
             [
              0.6666666666666666,
              "#ed7953"
             ],
             [
              0.7777777777777778,
              "#fb9f3a"
             ],
             [
              0.8888888888888888,
              "#fdca26"
             ],
             [
              1,
              "#f0f921"
             ]
            ],
            "type": "heatmap"
           }
          ],
          "heatmapgl": [
           {
            "colorbar": {
             "outlinewidth": 0,
             "ticks": ""
            },
            "colorscale": [
             [
              0,
              "#0d0887"
             ],
             [
              0.1111111111111111,
              "#46039f"
             ],
             [
              0.2222222222222222,
              "#7201a8"
             ],
             [
              0.3333333333333333,
              "#9c179e"
             ],
             [
              0.4444444444444444,
              "#bd3786"
             ],
             [
              0.5555555555555556,
              "#d8576b"
             ],
             [
              0.6666666666666666,
              "#ed7953"
             ],
             [
              0.7777777777777778,
              "#fb9f3a"
             ],
             [
              0.8888888888888888,
              "#fdca26"
             ],
             [
              1,
              "#f0f921"
             ]
            ],
            "type": "heatmapgl"
           }
          ],
          "histogram": [
           {
            "marker": {
             "pattern": {
              "fillmode": "overlay",
              "size": 10,
              "solidity": 0.2
             }
            },
            "type": "histogram"
           }
          ],
          "histogram2d": [
           {
            "colorbar": {
             "outlinewidth": 0,
             "ticks": ""
            },
            "colorscale": [
             [
              0,
              "#0d0887"
             ],
             [
              0.1111111111111111,
              "#46039f"
             ],
             [
              0.2222222222222222,
              "#7201a8"
             ],
             [
              0.3333333333333333,
              "#9c179e"
             ],
             [
              0.4444444444444444,
              "#bd3786"
             ],
             [
              0.5555555555555556,
              "#d8576b"
             ],
             [
              0.6666666666666666,
              "#ed7953"
             ],
             [
              0.7777777777777778,
              "#fb9f3a"
             ],
             [
              0.8888888888888888,
              "#fdca26"
             ],
             [
              1,
              "#f0f921"
             ]
            ],
            "type": "histogram2d"
           }
          ],
          "histogram2dcontour": [
           {
            "colorbar": {
             "outlinewidth": 0,
             "ticks": ""
            },
            "colorscale": [
             [
              0,
              "#0d0887"
             ],
             [
              0.1111111111111111,
              "#46039f"
             ],
             [
              0.2222222222222222,
              "#7201a8"
             ],
             [
              0.3333333333333333,
              "#9c179e"
             ],
             [
              0.4444444444444444,
              "#bd3786"
             ],
             [
              0.5555555555555556,
              "#d8576b"
             ],
             [
              0.6666666666666666,
              "#ed7953"
             ],
             [
              0.7777777777777778,
              "#fb9f3a"
             ],
             [
              0.8888888888888888,
              "#fdca26"
             ],
             [
              1,
              "#f0f921"
             ]
            ],
            "type": "histogram2dcontour"
           }
          ],
          "mesh3d": [
           {
            "colorbar": {
             "outlinewidth": 0,
             "ticks": ""
            },
            "type": "mesh3d"
           }
          ],
          "parcoords": [
           {
            "line": {
             "colorbar": {
              "outlinewidth": 0,
              "ticks": ""
             }
            },
            "type": "parcoords"
           }
          ],
          "pie": [
           {
            "automargin": true,
            "type": "pie"
           }
          ],
          "scatter": [
           {
            "fillpattern": {
             "fillmode": "overlay",
             "size": 10,
             "solidity": 0.2
            },
            "type": "scatter"
           }
          ],
          "scatter3d": [
           {
            "line": {
             "colorbar": {
              "outlinewidth": 0,
              "ticks": ""
             }
            },
            "marker": {
             "colorbar": {
              "outlinewidth": 0,
              "ticks": ""
             }
            },
            "type": "scatter3d"
           }
          ],
          "scattercarpet": [
           {
            "marker": {
             "colorbar": {
              "outlinewidth": 0,
              "ticks": ""
             }
            },
            "type": "scattercarpet"
           }
          ],
          "scattergeo": [
           {
            "marker": {
             "colorbar": {
              "outlinewidth": 0,
              "ticks": ""
             }
            },
            "type": "scattergeo"
           }
          ],
          "scattergl": [
           {
            "marker": {
             "colorbar": {
              "outlinewidth": 0,
              "ticks": ""
             }
            },
            "type": "scattergl"
           }
          ],
          "scattermapbox": [
           {
            "marker": {
             "colorbar": {
              "outlinewidth": 0,
              "ticks": ""
             }
            },
            "type": "scattermapbox"
           }
          ],
          "scatterpolar": [
           {
            "marker": {
             "colorbar": {
              "outlinewidth": 0,
              "ticks": ""
             }
            },
            "type": "scatterpolar"
           }
          ],
          "scatterpolargl": [
           {
            "marker": {
             "colorbar": {
              "outlinewidth": 0,
              "ticks": ""
             }
            },
            "type": "scatterpolargl"
           }
          ],
          "scatterternary": [
           {
            "marker": {
             "colorbar": {
              "outlinewidth": 0,
              "ticks": ""
             }
            },
            "type": "scatterternary"
           }
          ],
          "surface": [
           {
            "colorbar": {
             "outlinewidth": 0,
             "ticks": ""
            },
            "colorscale": [
             [
              0,
              "#0d0887"
             ],
             [
              0.1111111111111111,
              "#46039f"
             ],
             [
              0.2222222222222222,
              "#7201a8"
             ],
             [
              0.3333333333333333,
              "#9c179e"
             ],
             [
              0.4444444444444444,
              "#bd3786"
             ],
             [
              0.5555555555555556,
              "#d8576b"
             ],
             [
              0.6666666666666666,
              "#ed7953"
             ],
             [
              0.7777777777777778,
              "#fb9f3a"
             ],
             [
              0.8888888888888888,
              "#fdca26"
             ],
             [
              1,
              "#f0f921"
             ]
            ],
            "type": "surface"
           }
          ],
          "table": [
           {
            "cells": {
             "fill": {
              "color": "#EBF0F8"
             },
             "line": {
              "color": "white"
             }
            },
            "header": {
             "fill": {
              "color": "#C8D4E3"
             },
             "line": {
              "color": "white"
             }
            },
            "type": "table"
           }
          ]
         },
         "layout": {
          "annotationdefaults": {
           "arrowcolor": "#2a3f5f",
           "arrowhead": 0,
           "arrowwidth": 1
          },
          "autotypenumbers": "strict",
          "coloraxis": {
           "colorbar": {
            "outlinewidth": 0,
            "ticks": ""
           }
          },
          "colorscale": {
           "diverging": [
            [
             0,
             "#8e0152"
            ],
            [
             0.1,
             "#c51b7d"
            ],
            [
             0.2,
             "#de77ae"
            ],
            [
             0.3,
             "#f1b6da"
            ],
            [
             0.4,
             "#fde0ef"
            ],
            [
             0.5,
             "#f7f7f7"
            ],
            [
             0.6,
             "#e6f5d0"
            ],
            [
             0.7,
             "#b8e186"
            ],
            [
             0.8,
             "#7fbc41"
            ],
            [
             0.9,
             "#4d9221"
            ],
            [
             1,
             "#276419"
            ]
           ],
           "sequential": [
            [
             0,
             "#0d0887"
            ],
            [
             0.1111111111111111,
             "#46039f"
            ],
            [
             0.2222222222222222,
             "#7201a8"
            ],
            [
             0.3333333333333333,
             "#9c179e"
            ],
            [
             0.4444444444444444,
             "#bd3786"
            ],
            [
             0.5555555555555556,
             "#d8576b"
            ],
            [
             0.6666666666666666,
             "#ed7953"
            ],
            [
             0.7777777777777778,
             "#fb9f3a"
            ],
            [
             0.8888888888888888,
             "#fdca26"
            ],
            [
             1,
             "#f0f921"
            ]
           ],
           "sequentialminus": [
            [
             0,
             "#0d0887"
            ],
            [
             0.1111111111111111,
             "#46039f"
            ],
            [
             0.2222222222222222,
             "#7201a8"
            ],
            [
             0.3333333333333333,
             "#9c179e"
            ],
            [
             0.4444444444444444,
             "#bd3786"
            ],
            [
             0.5555555555555556,
             "#d8576b"
            ],
            [
             0.6666666666666666,
             "#ed7953"
            ],
            [
             0.7777777777777778,
             "#fb9f3a"
            ],
            [
             0.8888888888888888,
             "#fdca26"
            ],
            [
             1,
             "#f0f921"
            ]
           ]
          },
          "colorway": [
           "#636efa",
           "#EF553B",
           "#00cc96",
           "#ab63fa",
           "#FFA15A",
           "#19d3f3",
           "#FF6692",
           "#B6E880",
           "#FF97FF",
           "#FECB52"
          ],
          "font": {
           "color": "#2a3f5f"
          },
          "geo": {
           "bgcolor": "white",
           "lakecolor": "white",
           "landcolor": "#E5ECF6",
           "showlakes": true,
           "showland": true,
           "subunitcolor": "white"
          },
          "hoverlabel": {
           "align": "left"
          },
          "hovermode": "closest",
          "mapbox": {
           "style": "light"
          },
          "paper_bgcolor": "white",
          "plot_bgcolor": "#E5ECF6",
          "polar": {
           "angularaxis": {
            "gridcolor": "white",
            "linecolor": "white",
            "ticks": ""
           },
           "bgcolor": "#E5ECF6",
           "radialaxis": {
            "gridcolor": "white",
            "linecolor": "white",
            "ticks": ""
           }
          },
          "scene": {
           "xaxis": {
            "backgroundcolor": "#E5ECF6",
            "gridcolor": "white",
            "gridwidth": 2,
            "linecolor": "white",
            "showbackground": true,
            "ticks": "",
            "zerolinecolor": "white"
           },
           "yaxis": {
            "backgroundcolor": "#E5ECF6",
            "gridcolor": "white",
            "gridwidth": 2,
            "linecolor": "white",
            "showbackground": true,
            "ticks": "",
            "zerolinecolor": "white"
           },
           "zaxis": {
            "backgroundcolor": "#E5ECF6",
            "gridcolor": "white",
            "gridwidth": 2,
            "linecolor": "white",
            "showbackground": true,
            "ticks": "",
            "zerolinecolor": "white"
           }
          },
          "shapedefaults": {
           "line": {
            "color": "#2a3f5f"
           }
          },
          "ternary": {
           "aaxis": {
            "gridcolor": "white",
            "linecolor": "white",
            "ticks": ""
           },
           "baxis": {
            "gridcolor": "white",
            "linecolor": "white",
            "ticks": ""
           },
           "bgcolor": "#E5ECF6",
           "caxis": {
            "gridcolor": "white",
            "linecolor": "white",
            "ticks": ""
           }
          },
          "title": {
           "x": 0.05
          },
          "xaxis": {
           "automargin": true,
           "gridcolor": "white",
           "linecolor": "white",
           "ticks": "",
           "title": {
            "standoff": 15
           },
           "zerolinecolor": "white",
           "zerolinewidth": 2
          },
          "yaxis": {
           "automargin": true,
           "gridcolor": "white",
           "linecolor": "white",
           "ticks": "",
           "title": {
            "standoff": 15
           },
           "zerolinecolor": "white",
           "zerolinewidth": 2
          }
         }
        },
        "title": {
         "font": {
          "color": "#4D5663"
         }
        },
        "xaxis": {
         "gridcolor": "#E1E5ED",
         "showgrid": true,
         "tickfont": {
          "color": "#4D5663"
         },
         "title": {
          "font": {
           "color": "#4D5663"
          },
          "text": ""
         },
         "zerolinecolor": "#E1E5ED"
        },
        "yaxis": {
         "gridcolor": "#E1E5ED",
         "showgrid": true,
         "tickfont": {
          "color": "#4D5663"
         },
         "title": {
          "font": {
           "color": "#4D5663"
          },
          "text": ""
         },
         "zerolinecolor": "#E1E5ED"
        }
       }
      },
      "text/html": [
       "<div>                            <div id=\"ce463da0-5854-4fbb-89b9-adf8d7e88623\" class=\"plotly-graph-div\" style=\"height:525px; width:100%;\"></div>            <script type=\"text/javascript\">                require([\"plotly\"], function(Plotly) {                    window.PLOTLYENV=window.PLOTLYENV || {};\n",
       "                    window.PLOTLYENV.BASE_URL='https://plot.ly';                                    if (document.getElementById(\"ce463da0-5854-4fbb-89b9-adf8d7e88623\")) {                    Plotly.newPlot(                        \"ce463da0-5854-4fbb-89b9-adf8d7e88623\",                        [{\"line\":{\"color\":\"rgba(255, 153, 51, 1.0)\",\"dash\":\"solid\",\"shape\":\"linear\",\"width\":1.3},\"mode\":\"lines\",\"name\":\"A\",\"text\":\"\",\"x\":[0,1,2,3,4,5,6,7,8,9,10,11,12,13,14,15,16,17,18,19,20,21,22,23,24,25,26,27,28,29,30,31,32,33,34,35,36,37,38,39,40,41,42,43,44,45,46,47,48,49,50,51,52,53,54,55,56,57,58,59,60,61,62,63,64,65,66,67,68,69,70,71,72,73,74,75,76,77,78,79,80,81,82,83,84,85,86,87,88,89,90,91,92,93,94,95,96,97,98,99],\"y\":[0.4278303063139346,-0.17960339661206842,1.0164042618967994,-0.7122789625358378,-0.6470161726957598,-1.5391054711001806,-0.816419876227612,0.14992634819113262,-0.2538297184910725,0.4011312596835835,-0.35121217557811146,-0.08067457705225729,-1.2864396719186408,0.46615802073452944,-0.3186788122439116,1.0143288516154085,-2.2806490282504535,0.40384690521168326,0.6018005259883966,-0.25978009976335664,-1.1669122342579856,0.8573994100521745,0.8623475326006868,-0.3544586484489518,0.4110630086982138,-0.32937147502200953,0.8971370723551457,0.42079992650952014,-0.4723624434704465,0.12777627493488986,0.4889927615403592,-0.9481653064033165,0.10111690399406939,-0.5199092906505531,-0.9131480083912413,1.091390985730131,-1.166766293120185,0.20757181583433243,0.6829620194836434,-1.0930355069538578,-0.02650130330699229,-1.2924400269578538,0.14418601175977652,-0.20223854166849403,0.19208883138239824,-0.18114204996310787,-0.19841663539400559,1.8385362877297255,0.15384934369884648,-0.3098194447686136,-1.2045370228630572,0.5327550476824217,-0.29441402000600364,0.3709208833043238,-1.5092728793466288,0.5191502262763877,1.4637639676598087,-0.7232252992171272,0.6980766119028778,-0.7563825513013476,-0.7421339581048623,1.121264011877191,0.013752107630780407,-0.5892825852411415,0.6056490857330595,0.9780201457682005,0.3394107574260655,-0.29779406831739264,-0.8249862472503384,-0.006608688646789804,0.9173723910209661,-0.03603833862910183,-0.6990592443026739,-1.342749352000533,-1.7062572618616654,-0.4379870105257444,-0.37396788969217615,-1.2152159255979396,0.85898836922212,0.2853468800286372,0.08525587871536675,0.3440875236892165,0.43424037380948755,0.5175629844710247,-0.06289870370813987,-0.3717812990629133,-1.3435656884172564,2.1465656501241304,0.9877233116000835,0.04448063913151714,-0.5020413908536919,0.13533132322167515,-0.4085192034480075,-0.5307015361759451,0.8328125615881095,0.16467398244369646,0.3384160963082231,0.5451546074803042,0.565600486678321,0.7341938436024419],\"type\":\"scatter\"},{\"line\":{\"color\":\"rgba(55, 128, 191, 1.0)\",\"dash\":\"solid\",\"shape\":\"linear\",\"width\":1.3},\"mode\":\"lines\",\"name\":\"B\",\"text\":\"\",\"x\":[0,1,2,3,4,5,6,7,8,9,10,11,12,13,14,15,16,17,18,19,20,21,22,23,24,25,26,27,28,29,30,31,32,33,34,35,36,37,38,39,40,41,42,43,44,45,46,47,48,49,50,51,52,53,54,55,56,57,58,59,60,61,62,63,64,65,66,67,68,69,70,71,72,73,74,75,76,77,78,79,80,81,82,83,84,85,86,87,88,89,90,91,92,93,94,95,96,97,98,99],\"y\":[0.48306040414083834,0.009058351407117657,-0.10115869895854517,1.299364507421079,-0.917630514349454,-0.0004417653346297867,-0.40798279547156635,0.3444360696810804,-0.5303963906334963,0.16405004030193343,0.3350632725543995,-0.1981882405566007,-0.24432705870638655,1.096647494957282,0.3648057242653707,1.792685105555086,1.4643582511094944,-0.8544839418659624,-0.9191036875899685,0.5677118433595862,0.3644188202879386,0.33595984166710796,1.9936047851335992,-0.3184669272450796,0.32975569755681217,0.4260629510999024,0.23486176179843596,-1.086942248367033,0.3674910042928074,-0.46547162469799963,-0.9924427421111863,-2.1406810439355066,-0.21469032628104553,-0.12076619656413162,0.7647436190552594,0.4929088265880474,-0.8771908460491088,2.1777215427021996,0.04436592206782866,-0.0073038619111890565,1.4963995074604057,-0.46116149162445347,-0.9719021840295913,0.6605389800911491,-1.160605255775432,0.6757450195029824,-0.6991125021178969,0.5398846034108065,-0.4066398571344095,-0.31589064660126354,-0.7208238632743234,-0.383731214271165,-1.3536096966031266,0.4987596504299444,0.22804262761234906,-0.9882108951751464,0.6127722213063093,-0.9834991873284643,0.14950554896813462,0.4830956263791654,0.17451464216515458,-1.816099518246873,1.1385736700100326,-1.0036133687647835,0.8188788059107236,1.157425588927253,-1.1723531019569493,-0.07573755585923887,0.17966228070772516,0.6285754121275586,1.1372469738815771,-0.28269154554196035,0.7165406494548696,-0.23007318691659548,-0.8883280341101701,0.3281056679583895,-0.5449040671497705,-1.5170140313832825,0.7159357051909687,1.2061881235431922,-1.487080206258318,0.219275882063202,0.007041079866349726,0.2331570317320377,0.0034261754096381295,0.08514670420553244,-1.1107420851889813,1.8460938344620215,-0.21158616035407998,0.0044370729423990705,-0.39390964225737446,-1.222526038408339,-0.43863339052296013,-0.08599763750602338,-0.7734350600969128,-0.12144896846053277,-0.18775311587229412,1.4392171860459413,-0.2882843728195542,0.364549423795677],\"type\":\"scatter\"},{\"line\":{\"color\":\"rgba(50, 171, 96, 1.0)\",\"dash\":\"solid\",\"shape\":\"linear\",\"width\":1.3},\"mode\":\"lines\",\"name\":\"C\",\"text\":\"\",\"x\":[0,1,2,3,4,5,6,7,8,9,10,11,12,13,14,15,16,17,18,19,20,21,22,23,24,25,26,27,28,29,30,31,32,33,34,35,36,37,38,39,40,41,42,43,44,45,46,47,48,49,50,51,52,53,54,55,56,57,58,59,60,61,62,63,64,65,66,67,68,69,70,71,72,73,74,75,76,77,78,79,80,81,82,83,84,85,86,87,88,89,90,91,92,93,94,95,96,97,98,99],\"y\":[-0.24206467032319814,-1.2631525698375463,0.4594071214617641,0.60077235908034,-0.9265626233504829,0.6756216034502802,0.7434142581111773,0.018262130597430336,-0.06392608339156247,1.4060464622338318,1.0686269655137899,0.002754273374794008,0.4605672689199664,0.39263815023305654,-0.7329865214766967,1.6297002427753362,-0.0008107283884601559,1.9765014199108537,1.2096049063087697,1.6213248538289111,-1.585873889736527,-0.8651655009854876,0.020988001541876446,-1.3406838702958856,-0.951200160119948,-0.497654320179825,-0.021054458357745297,-1.0574593040360256,1.0294055755935148,1.2163001342613522,0.17970515970423812,-0.11760176641969425,-1.0969510943885759,-0.5868858904725097,2.083934082971225,-0.9181885756735065,-0.1553782987340766,-0.820988776654748,-0.3804720882188407,-0.35752641236018046,-0.35401246761989624,-0.5775830532493539,-2.424900350237003,0.2855207075604285,0.46936376753898157,-0.21746001938038956,0.06450952686778252,0.7444671538036397,-1.2248250486686556,-1.416788946235324,1.3705699230468036,-0.2893623524636134,0.7887332621839191,0.6265750340329868,-1.7050938119207735,-1.710626378654247,-0.17212900337049927,0.786445692495372,0.8728446850178994,-0.04713310597221714,0.13142099172018107,0.39726379664821326,1.322607054992196,0.5354512919666429,1.2374262494474055,2.116237482381573,1.9044511430298887,1.391112716532458,-0.35693852947472154,0.4918662133612119,-0.5922710055561605,-0.7878598194918272,0.5265707948268116,-0.642020950111216,0.5517844245714252,-0.7934961397371885,0.7908296097983124,2.275523536747189,1.1606453869673206,-0.7974626361895323,0.005581955560807476,0.21689162723437547,0.22298419441339054,0.8200441699855056,1.19166521369793,-0.8976133213470465,-0.567476953648249,-0.7809052141714418,-0.27644458517576165,1.0616591780119478,-1.2363549285298678,0.1262708566305871,0.9525493443749347,-1.6866168540938908,-0.4902723986210022,-0.7992571135728221,-2.074657039634036,0.30943950283626537,0.9782524876015997,-0.1773164998324019],\"type\":\"scatter\"},{\"line\":{\"color\":\"rgba(128, 0, 128, 1.0)\",\"dash\":\"solid\",\"shape\":\"linear\",\"width\":1.3},\"mode\":\"lines\",\"name\":\"D\",\"text\":\"\",\"x\":[0,1,2,3,4,5,6,7,8,9,10,11,12,13,14,15,16,17,18,19,20,21,22,23,24,25,26,27,28,29,30,31,32,33,34,35,36,37,38,39,40,41,42,43,44,45,46,47,48,49,50,51,52,53,54,55,56,57,58,59,60,61,62,63,64,65,66,67,68,69,70,71,72,73,74,75,76,77,78,79,80,81,82,83,84,85,86,87,88,89,90,91,92,93,94,95,96,97,98,99],\"y\":[-1.7133387861031382,-1.2932945006528207,0.14441817391879672,-0.46427328484531893,-1.3646050456562944,0.4686406470154942,0.7474547724221794,-0.675305811206826,0.758847914674031,0.7428028093361997,-0.4065924037422975,0.8064727208976706,0.2931240500444258,-1.0914232991042179,-2.0453820137163046,-0.2936273028983105,-0.14035412942006467,-0.8301817516350479,-0.7865457087503928,-1.1546250246981458,0.3215877269843798,-1.3839309511016578,0.08209020772287838,0.9304230655889154,0.31745222546584634,0.11193970003501555,1.7139986776284593,-2.0967803975447517,1.0511375814990898,0.6383915109140148,1.2555622054890245,-0.5508945322176529,0.18747842418344107,-0.9803099881452719,0.1467935250497945,-0.20256265797208975,1.567893903926729,-1.644143572382776,0.30826059921641225,-0.7387013328474691,-0.019446660009001256,1.326199758941917,1.0410750283906138,1.2395301701487318,-2.406092741659287,2.416574931180957,0.6882233525175699,0.04639932826401581,-0.16979647167446166,0.08403610728427734,-0.3219768344393413,0.030567251288725984,0.6387071244259642,2.0584786699697726,2.2729373305352922,-1.4912937903346457,-1.7143541593610665,-0.34648232336346285,-0.23503278285029994,-0.15948119829612942,0.5131560094607199,0.3991080890988705,-0.6343936102103105,-0.0940156804309552,-0.17713779298576451,-0.75443203752132,-0.4360212088269227,-0.49578419347288005,-1.0089817430408183,-0.45886311889243525,-0.20026747240539783,-1.8763166449135418,0.3735678516046811,0.804719500794733,1.1871386676158464,1.3186386149058955,-1.0325204869497864,-1.7590503779541997,0.7025720876217167,0.2678085853874164,-0.7554939802021241,-2.372721493554485,-1.3184213475425806,0.46209929466084504,-0.7232520394848614,1.2672793869050392,-1.3645244928619236,0.9613521435589473,-1.3753146341448226,0.2316998510860715,1.7574559430991654,-3.098889574485068,1.1375254421854166,-0.5386418392620599,1.2300015496189856,-0.07574961938385888,1.9618251717642414,1.299537326929035,-1.1235054198822467,0.5221874567126272],\"type\":\"scatter\"}],                        {\"legend\":{\"bgcolor\":\"#F5F6F9\",\"font\":{\"color\":\"#4D5663\"}},\"paper_bgcolor\":\"#F5F6F9\",\"plot_bgcolor\":\"#F5F6F9\",\"template\":{\"data\":{\"barpolar\":[{\"marker\":{\"line\":{\"color\":\"#E5ECF6\",\"width\":0.5},\"pattern\":{\"fillmode\":\"overlay\",\"size\":10,\"solidity\":0.2}},\"type\":\"barpolar\"}],\"bar\":[{\"error_x\":{\"color\":\"#2a3f5f\"},\"error_y\":{\"color\":\"#2a3f5f\"},\"marker\":{\"line\":{\"color\":\"#E5ECF6\",\"width\":0.5},\"pattern\":{\"fillmode\":\"overlay\",\"size\":10,\"solidity\":0.2}},\"type\":\"bar\"}],\"carpet\":[{\"aaxis\":{\"endlinecolor\":\"#2a3f5f\",\"gridcolor\":\"white\",\"linecolor\":\"white\",\"minorgridcolor\":\"white\",\"startlinecolor\":\"#2a3f5f\"},\"baxis\":{\"endlinecolor\":\"#2a3f5f\",\"gridcolor\":\"white\",\"linecolor\":\"white\",\"minorgridcolor\":\"white\",\"startlinecolor\":\"#2a3f5f\"},\"type\":\"carpet\"}],\"choropleth\":[{\"colorbar\":{\"outlinewidth\":0,\"ticks\":\"\"},\"type\":\"choropleth\"}],\"contourcarpet\":[{\"colorbar\":{\"outlinewidth\":0,\"ticks\":\"\"},\"type\":\"contourcarpet\"}],\"contour\":[{\"colorbar\":{\"outlinewidth\":0,\"ticks\":\"\"},\"colorscale\":[[0.0,\"#0d0887\"],[0.1111111111111111,\"#46039f\"],[0.2222222222222222,\"#7201a8\"],[0.3333333333333333,\"#9c179e\"],[0.4444444444444444,\"#bd3786\"],[0.5555555555555556,\"#d8576b\"],[0.6666666666666666,\"#ed7953\"],[0.7777777777777778,\"#fb9f3a\"],[0.8888888888888888,\"#fdca26\"],[1.0,\"#f0f921\"]],\"type\":\"contour\"}],\"heatmapgl\":[{\"colorbar\":{\"outlinewidth\":0,\"ticks\":\"\"},\"colorscale\":[[0.0,\"#0d0887\"],[0.1111111111111111,\"#46039f\"],[0.2222222222222222,\"#7201a8\"],[0.3333333333333333,\"#9c179e\"],[0.4444444444444444,\"#bd3786\"],[0.5555555555555556,\"#d8576b\"],[0.6666666666666666,\"#ed7953\"],[0.7777777777777778,\"#fb9f3a\"],[0.8888888888888888,\"#fdca26\"],[1.0,\"#f0f921\"]],\"type\":\"heatmapgl\"}],\"heatmap\":[{\"colorbar\":{\"outlinewidth\":0,\"ticks\":\"\"},\"colorscale\":[[0.0,\"#0d0887\"],[0.1111111111111111,\"#46039f\"],[0.2222222222222222,\"#7201a8\"],[0.3333333333333333,\"#9c179e\"],[0.4444444444444444,\"#bd3786\"],[0.5555555555555556,\"#d8576b\"],[0.6666666666666666,\"#ed7953\"],[0.7777777777777778,\"#fb9f3a\"],[0.8888888888888888,\"#fdca26\"],[1.0,\"#f0f921\"]],\"type\":\"heatmap\"}],\"histogram2dcontour\":[{\"colorbar\":{\"outlinewidth\":0,\"ticks\":\"\"},\"colorscale\":[[0.0,\"#0d0887\"],[0.1111111111111111,\"#46039f\"],[0.2222222222222222,\"#7201a8\"],[0.3333333333333333,\"#9c179e\"],[0.4444444444444444,\"#bd3786\"],[0.5555555555555556,\"#d8576b\"],[0.6666666666666666,\"#ed7953\"],[0.7777777777777778,\"#fb9f3a\"],[0.8888888888888888,\"#fdca26\"],[1.0,\"#f0f921\"]],\"type\":\"histogram2dcontour\"}],\"histogram2d\":[{\"colorbar\":{\"outlinewidth\":0,\"ticks\":\"\"},\"colorscale\":[[0.0,\"#0d0887\"],[0.1111111111111111,\"#46039f\"],[0.2222222222222222,\"#7201a8\"],[0.3333333333333333,\"#9c179e\"],[0.4444444444444444,\"#bd3786\"],[0.5555555555555556,\"#d8576b\"],[0.6666666666666666,\"#ed7953\"],[0.7777777777777778,\"#fb9f3a\"],[0.8888888888888888,\"#fdca26\"],[1.0,\"#f0f921\"]],\"type\":\"histogram2d\"}],\"histogram\":[{\"marker\":{\"pattern\":{\"fillmode\":\"overlay\",\"size\":10,\"solidity\":0.2}},\"type\":\"histogram\"}],\"mesh3d\":[{\"colorbar\":{\"outlinewidth\":0,\"ticks\":\"\"},\"type\":\"mesh3d\"}],\"parcoords\":[{\"line\":{\"colorbar\":{\"outlinewidth\":0,\"ticks\":\"\"}},\"type\":\"parcoords\"}],\"pie\":[{\"automargin\":true,\"type\":\"pie\"}],\"scatter3d\":[{\"line\":{\"colorbar\":{\"outlinewidth\":0,\"ticks\":\"\"}},\"marker\":{\"colorbar\":{\"outlinewidth\":0,\"ticks\":\"\"}},\"type\":\"scatter3d\"}],\"scattercarpet\":[{\"marker\":{\"colorbar\":{\"outlinewidth\":0,\"ticks\":\"\"}},\"type\":\"scattercarpet\"}],\"scattergeo\":[{\"marker\":{\"colorbar\":{\"outlinewidth\":0,\"ticks\":\"\"}},\"type\":\"scattergeo\"}],\"scattergl\":[{\"marker\":{\"colorbar\":{\"outlinewidth\":0,\"ticks\":\"\"}},\"type\":\"scattergl\"}],\"scattermapbox\":[{\"marker\":{\"colorbar\":{\"outlinewidth\":0,\"ticks\":\"\"}},\"type\":\"scattermapbox\"}],\"scatterpolargl\":[{\"marker\":{\"colorbar\":{\"outlinewidth\":0,\"ticks\":\"\"}},\"type\":\"scatterpolargl\"}],\"scatterpolar\":[{\"marker\":{\"colorbar\":{\"outlinewidth\":0,\"ticks\":\"\"}},\"type\":\"scatterpolar\"}],\"scatter\":[{\"fillpattern\":{\"fillmode\":\"overlay\",\"size\":10,\"solidity\":0.2},\"type\":\"scatter\"}],\"scatterternary\":[{\"marker\":{\"colorbar\":{\"outlinewidth\":0,\"ticks\":\"\"}},\"type\":\"scatterternary\"}],\"surface\":[{\"colorbar\":{\"outlinewidth\":0,\"ticks\":\"\"},\"colorscale\":[[0.0,\"#0d0887\"],[0.1111111111111111,\"#46039f\"],[0.2222222222222222,\"#7201a8\"],[0.3333333333333333,\"#9c179e\"],[0.4444444444444444,\"#bd3786\"],[0.5555555555555556,\"#d8576b\"],[0.6666666666666666,\"#ed7953\"],[0.7777777777777778,\"#fb9f3a\"],[0.8888888888888888,\"#fdca26\"],[1.0,\"#f0f921\"]],\"type\":\"surface\"}],\"table\":[{\"cells\":{\"fill\":{\"color\":\"#EBF0F8\"},\"line\":{\"color\":\"white\"}},\"header\":{\"fill\":{\"color\":\"#C8D4E3\"},\"line\":{\"color\":\"white\"}},\"type\":\"table\"}]},\"layout\":{\"annotationdefaults\":{\"arrowcolor\":\"#2a3f5f\",\"arrowhead\":0,\"arrowwidth\":1},\"autotypenumbers\":\"strict\",\"coloraxis\":{\"colorbar\":{\"outlinewidth\":0,\"ticks\":\"\"}},\"colorscale\":{\"diverging\":[[0,\"#8e0152\"],[0.1,\"#c51b7d\"],[0.2,\"#de77ae\"],[0.3,\"#f1b6da\"],[0.4,\"#fde0ef\"],[0.5,\"#f7f7f7\"],[0.6,\"#e6f5d0\"],[0.7,\"#b8e186\"],[0.8,\"#7fbc41\"],[0.9,\"#4d9221\"],[1,\"#276419\"]],\"sequential\":[[0.0,\"#0d0887\"],[0.1111111111111111,\"#46039f\"],[0.2222222222222222,\"#7201a8\"],[0.3333333333333333,\"#9c179e\"],[0.4444444444444444,\"#bd3786\"],[0.5555555555555556,\"#d8576b\"],[0.6666666666666666,\"#ed7953\"],[0.7777777777777778,\"#fb9f3a\"],[0.8888888888888888,\"#fdca26\"],[1.0,\"#f0f921\"]],\"sequentialminus\":[[0.0,\"#0d0887\"],[0.1111111111111111,\"#46039f\"],[0.2222222222222222,\"#7201a8\"],[0.3333333333333333,\"#9c179e\"],[0.4444444444444444,\"#bd3786\"],[0.5555555555555556,\"#d8576b\"],[0.6666666666666666,\"#ed7953\"],[0.7777777777777778,\"#fb9f3a\"],[0.8888888888888888,\"#fdca26\"],[1.0,\"#f0f921\"]]},\"colorway\":[\"#636efa\",\"#EF553B\",\"#00cc96\",\"#ab63fa\",\"#FFA15A\",\"#19d3f3\",\"#FF6692\",\"#B6E880\",\"#FF97FF\",\"#FECB52\"],\"font\":{\"color\":\"#2a3f5f\"},\"geo\":{\"bgcolor\":\"white\",\"lakecolor\":\"white\",\"landcolor\":\"#E5ECF6\",\"showlakes\":true,\"showland\":true,\"subunitcolor\":\"white\"},\"hoverlabel\":{\"align\":\"left\"},\"hovermode\":\"closest\",\"mapbox\":{\"style\":\"light\"},\"paper_bgcolor\":\"white\",\"plot_bgcolor\":\"#E5ECF6\",\"polar\":{\"angularaxis\":{\"gridcolor\":\"white\",\"linecolor\":\"white\",\"ticks\":\"\"},\"bgcolor\":\"#E5ECF6\",\"radialaxis\":{\"gridcolor\":\"white\",\"linecolor\":\"white\",\"ticks\":\"\"}},\"scene\":{\"xaxis\":{\"backgroundcolor\":\"#E5ECF6\",\"gridcolor\":\"white\",\"gridwidth\":2,\"linecolor\":\"white\",\"showbackground\":true,\"ticks\":\"\",\"zerolinecolor\":\"white\"},\"yaxis\":{\"backgroundcolor\":\"#E5ECF6\",\"gridcolor\":\"white\",\"gridwidth\":2,\"linecolor\":\"white\",\"showbackground\":true,\"ticks\":\"\",\"zerolinecolor\":\"white\"},\"zaxis\":{\"backgroundcolor\":\"#E5ECF6\",\"gridcolor\":\"white\",\"gridwidth\":2,\"linecolor\":\"white\",\"showbackground\":true,\"ticks\":\"\",\"zerolinecolor\":\"white\"}},\"shapedefaults\":{\"line\":{\"color\":\"#2a3f5f\"}},\"ternary\":{\"aaxis\":{\"gridcolor\":\"white\",\"linecolor\":\"white\",\"ticks\":\"\"},\"baxis\":{\"gridcolor\":\"white\",\"linecolor\":\"white\",\"ticks\":\"\"},\"bgcolor\":\"#E5ECF6\",\"caxis\":{\"gridcolor\":\"white\",\"linecolor\":\"white\",\"ticks\":\"\"}},\"title\":{\"x\":0.05},\"xaxis\":{\"automargin\":true,\"gridcolor\":\"white\",\"linecolor\":\"white\",\"ticks\":\"\",\"title\":{\"standoff\":15},\"zerolinecolor\":\"white\",\"zerolinewidth\":2},\"yaxis\":{\"automargin\":true,\"gridcolor\":\"white\",\"linecolor\":\"white\",\"ticks\":\"\",\"title\":{\"standoff\":15},\"zerolinecolor\":\"white\",\"zerolinewidth\":2}}},\"title\":{\"font\":{\"color\":\"#4D5663\"}},\"xaxis\":{\"gridcolor\":\"#E1E5ED\",\"showgrid\":true,\"tickfont\":{\"color\":\"#4D5663\"},\"title\":{\"font\":{\"color\":\"#4D5663\"},\"text\":\"\"},\"zerolinecolor\":\"#E1E5ED\"},\"yaxis\":{\"gridcolor\":\"#E1E5ED\",\"showgrid\":true,\"tickfont\":{\"color\":\"#4D5663\"},\"title\":{\"font\":{\"color\":\"#4D5663\"},\"text\":\"\"},\"zerolinecolor\":\"#E1E5ED\"}},                        {\"showLink\": true, \"linkText\": \"Export to plot.ly\", \"plotlyServerURL\": \"https://plot.ly\", \"responsive\": true}                    ).then(function(){\n",
       "                            \n",
       "var gd = document.getElementById('ce463da0-5854-4fbb-89b9-adf8d7e88623');\n",
       "var x = new MutationObserver(function (mutations, observer) {{\n",
       "        var display = window.getComputedStyle(gd).display;\n",
       "        if (!display || display === 'none') {{\n",
       "            console.log([gd, 'removed!']);\n",
       "            Plotly.purge(gd);\n",
       "            observer.disconnect();\n",
       "        }}\n",
       "}});\n",
       "\n",
       "// Listen for the removal of the full notebook cells\n",
       "var notebookContainer = gd.closest('#notebook-container');\n",
       "if (notebookContainer) {{\n",
       "    x.observe(notebookContainer, {childList: true});\n",
       "}}\n",
       "\n",
       "// Listen for the clearing of the current output cell\n",
       "var outputEl = gd.closest('.output');\n",
       "if (outputEl) {{\n",
       "    x.observe(outputEl, {childList: true});\n",
       "}}\n",
       "\n",
       "                        })                };                });            </script>        </div>"
      ]
     },
     "metadata": {},
     "output_type": "display_data"
    }
   ],
   "source": [
    "df.iplot()"
   ]
  },
  {
   "cell_type": "code",
   "execution_count": 36,
   "id": "8c2481a1",
   "metadata": {
    "ExecuteTime": {
     "end_time": "2023-03-23T11:52:29.306890Z",
     "start_time": "2023-03-23T11:52:29.270051Z"
    }
   },
   "outputs": [
    {
     "data": {
      "application/vnd.plotly.v1+json": {
       "config": {
        "linkText": "Export to plot.ly",
        "plotlyServerURL": "https://plot.ly",
        "showLink": true
       },
       "data": [
        {
         "line": {
          "color": "rgba(255, 153, 51, 1.0)",
          "dash": "solid",
          "shape": "linear",
          "width": 1.3
         },
         "mode": "lines",
         "name": "B",
         "text": "",
         "type": "scatter",
         "x": [
          0.4278303063139346,
          -0.17960339661206842,
          1.0164042618967994,
          -0.7122789625358378,
          -0.6470161726957598,
          -1.5391054711001806,
          -0.816419876227612,
          0.14992634819113262,
          -0.2538297184910725,
          0.4011312596835835,
          -0.35121217557811146,
          -0.08067457705225729,
          -1.2864396719186408,
          0.46615802073452944,
          -0.3186788122439116,
          1.0143288516154085,
          -2.2806490282504535,
          0.40384690521168326,
          0.6018005259883966,
          -0.25978009976335664,
          -1.1669122342579856,
          0.8573994100521745,
          0.8623475326006868,
          -0.3544586484489518,
          0.4110630086982138,
          -0.32937147502200953,
          0.8971370723551457,
          0.42079992650952014,
          -0.4723624434704465,
          0.12777627493488986,
          0.4889927615403592,
          -0.9481653064033165,
          0.10111690399406939,
          -0.5199092906505531,
          -0.9131480083912413,
          1.091390985730131,
          -1.166766293120185,
          0.20757181583433243,
          0.6829620194836434,
          -1.0930355069538578,
          -0.02650130330699229,
          -1.2924400269578538,
          0.14418601175977652,
          -0.20223854166849403,
          0.19208883138239824,
          -0.18114204996310787,
          -0.19841663539400559,
          1.8385362877297255,
          0.15384934369884648,
          -0.3098194447686136,
          -1.2045370228630572,
          0.5327550476824217,
          -0.29441402000600364,
          0.3709208833043238,
          -1.5092728793466288,
          0.5191502262763877,
          1.4637639676598087,
          -0.7232252992171272,
          0.6980766119028778,
          -0.7563825513013476,
          -0.7421339581048623,
          1.121264011877191,
          0.013752107630780407,
          -0.5892825852411415,
          0.6056490857330595,
          0.9780201457682005,
          0.3394107574260655,
          -0.29779406831739264,
          -0.8249862472503384,
          -0.006608688646789804,
          0.9173723910209661,
          -0.03603833862910183,
          -0.6990592443026739,
          -1.342749352000533,
          -1.7062572618616654,
          -0.4379870105257444,
          -0.37396788969217615,
          -1.2152159255979396,
          0.85898836922212,
          0.2853468800286372,
          0.08525587871536675,
          0.3440875236892165,
          0.43424037380948755,
          0.5175629844710247,
          -0.06289870370813987,
          -0.3717812990629133,
          -1.3435656884172564,
          2.1465656501241304,
          0.9877233116000835,
          0.04448063913151714,
          -0.5020413908536919,
          0.13533132322167515,
          -0.4085192034480075,
          -0.5307015361759451,
          0.8328125615881095,
          0.16467398244369646,
          0.3384160963082231,
          0.5451546074803042,
          0.565600486678321,
          0.7341938436024419
         ],
         "y": [
          0.48306040414083834,
          0.009058351407117657,
          -0.10115869895854517,
          1.299364507421079,
          -0.917630514349454,
          -0.0004417653346297867,
          -0.40798279547156635,
          0.3444360696810804,
          -0.5303963906334963,
          0.16405004030193343,
          0.3350632725543995,
          -0.1981882405566007,
          -0.24432705870638655,
          1.096647494957282,
          0.3648057242653707,
          1.792685105555086,
          1.4643582511094944,
          -0.8544839418659624,
          -0.9191036875899685,
          0.5677118433595862,
          0.3644188202879386,
          0.33595984166710796,
          1.9936047851335992,
          -0.3184669272450796,
          0.32975569755681217,
          0.4260629510999024,
          0.23486176179843596,
          -1.086942248367033,
          0.3674910042928074,
          -0.46547162469799963,
          -0.9924427421111863,
          -2.1406810439355066,
          -0.21469032628104553,
          -0.12076619656413162,
          0.7647436190552594,
          0.4929088265880474,
          -0.8771908460491088,
          2.1777215427021996,
          0.04436592206782866,
          -0.0073038619111890565,
          1.4963995074604057,
          -0.46116149162445347,
          -0.9719021840295913,
          0.6605389800911491,
          -1.160605255775432,
          0.6757450195029824,
          -0.6991125021178969,
          0.5398846034108065,
          -0.4066398571344095,
          -0.31589064660126354,
          -0.7208238632743234,
          -0.383731214271165,
          -1.3536096966031266,
          0.4987596504299444,
          0.22804262761234906,
          -0.9882108951751464,
          0.6127722213063093,
          -0.9834991873284643,
          0.14950554896813462,
          0.4830956263791654,
          0.17451464216515458,
          -1.816099518246873,
          1.1385736700100326,
          -1.0036133687647835,
          0.8188788059107236,
          1.157425588927253,
          -1.1723531019569493,
          -0.07573755585923887,
          0.17966228070772516,
          0.6285754121275586,
          1.1372469738815771,
          -0.28269154554196035,
          0.7165406494548696,
          -0.23007318691659548,
          -0.8883280341101701,
          0.3281056679583895,
          -0.5449040671497705,
          -1.5170140313832825,
          0.7159357051909687,
          1.2061881235431922,
          -1.487080206258318,
          0.219275882063202,
          0.007041079866349726,
          0.2331570317320377,
          0.0034261754096381295,
          0.08514670420553244,
          -1.1107420851889813,
          1.8460938344620215,
          -0.21158616035407998,
          0.0044370729423990705,
          -0.39390964225737446,
          -1.222526038408339,
          -0.43863339052296013,
          -0.08599763750602338,
          -0.7734350600969128,
          -0.12144896846053277,
          -0.18775311587229412,
          1.4392171860459413,
          -0.2882843728195542,
          0.364549423795677
         ]
        }
       ],
       "layout": {
        "legend": {
         "bgcolor": "#F5F6F9",
         "font": {
          "color": "#4D5663"
         }
        },
        "paper_bgcolor": "#F5F6F9",
        "plot_bgcolor": "#F5F6F9",
        "template": {
         "data": {
          "bar": [
           {
            "error_x": {
             "color": "#2a3f5f"
            },
            "error_y": {
             "color": "#2a3f5f"
            },
            "marker": {
             "line": {
              "color": "#E5ECF6",
              "width": 0.5
             },
             "pattern": {
              "fillmode": "overlay",
              "size": 10,
              "solidity": 0.2
             }
            },
            "type": "bar"
           }
          ],
          "barpolar": [
           {
            "marker": {
             "line": {
              "color": "#E5ECF6",
              "width": 0.5
             },
             "pattern": {
              "fillmode": "overlay",
              "size": 10,
              "solidity": 0.2
             }
            },
            "type": "barpolar"
           }
          ],
          "carpet": [
           {
            "aaxis": {
             "endlinecolor": "#2a3f5f",
             "gridcolor": "white",
             "linecolor": "white",
             "minorgridcolor": "white",
             "startlinecolor": "#2a3f5f"
            },
            "baxis": {
             "endlinecolor": "#2a3f5f",
             "gridcolor": "white",
             "linecolor": "white",
             "minorgridcolor": "white",
             "startlinecolor": "#2a3f5f"
            },
            "type": "carpet"
           }
          ],
          "choropleth": [
           {
            "colorbar": {
             "outlinewidth": 0,
             "ticks": ""
            },
            "type": "choropleth"
           }
          ],
          "contour": [
           {
            "colorbar": {
             "outlinewidth": 0,
             "ticks": ""
            },
            "colorscale": [
             [
              0,
              "#0d0887"
             ],
             [
              0.1111111111111111,
              "#46039f"
             ],
             [
              0.2222222222222222,
              "#7201a8"
             ],
             [
              0.3333333333333333,
              "#9c179e"
             ],
             [
              0.4444444444444444,
              "#bd3786"
             ],
             [
              0.5555555555555556,
              "#d8576b"
             ],
             [
              0.6666666666666666,
              "#ed7953"
             ],
             [
              0.7777777777777778,
              "#fb9f3a"
             ],
             [
              0.8888888888888888,
              "#fdca26"
             ],
             [
              1,
              "#f0f921"
             ]
            ],
            "type": "contour"
           }
          ],
          "contourcarpet": [
           {
            "colorbar": {
             "outlinewidth": 0,
             "ticks": ""
            },
            "type": "contourcarpet"
           }
          ],
          "heatmap": [
           {
            "colorbar": {
             "outlinewidth": 0,
             "ticks": ""
            },
            "colorscale": [
             [
              0,
              "#0d0887"
             ],
             [
              0.1111111111111111,
              "#46039f"
             ],
             [
              0.2222222222222222,
              "#7201a8"
             ],
             [
              0.3333333333333333,
              "#9c179e"
             ],
             [
              0.4444444444444444,
              "#bd3786"
             ],
             [
              0.5555555555555556,
              "#d8576b"
             ],
             [
              0.6666666666666666,
              "#ed7953"
             ],
             [
              0.7777777777777778,
              "#fb9f3a"
             ],
             [
              0.8888888888888888,
              "#fdca26"
             ],
             [
              1,
              "#f0f921"
             ]
            ],
            "type": "heatmap"
           }
          ],
          "heatmapgl": [
           {
            "colorbar": {
             "outlinewidth": 0,
             "ticks": ""
            },
            "colorscale": [
             [
              0,
              "#0d0887"
             ],
             [
              0.1111111111111111,
              "#46039f"
             ],
             [
              0.2222222222222222,
              "#7201a8"
             ],
             [
              0.3333333333333333,
              "#9c179e"
             ],
             [
              0.4444444444444444,
              "#bd3786"
             ],
             [
              0.5555555555555556,
              "#d8576b"
             ],
             [
              0.6666666666666666,
              "#ed7953"
             ],
             [
              0.7777777777777778,
              "#fb9f3a"
             ],
             [
              0.8888888888888888,
              "#fdca26"
             ],
             [
              1,
              "#f0f921"
             ]
            ],
            "type": "heatmapgl"
           }
          ],
          "histogram": [
           {
            "marker": {
             "pattern": {
              "fillmode": "overlay",
              "size": 10,
              "solidity": 0.2
             }
            },
            "type": "histogram"
           }
          ],
          "histogram2d": [
           {
            "colorbar": {
             "outlinewidth": 0,
             "ticks": ""
            },
            "colorscale": [
             [
              0,
              "#0d0887"
             ],
             [
              0.1111111111111111,
              "#46039f"
             ],
             [
              0.2222222222222222,
              "#7201a8"
             ],
             [
              0.3333333333333333,
              "#9c179e"
             ],
             [
              0.4444444444444444,
              "#bd3786"
             ],
             [
              0.5555555555555556,
              "#d8576b"
             ],
             [
              0.6666666666666666,
              "#ed7953"
             ],
             [
              0.7777777777777778,
              "#fb9f3a"
             ],
             [
              0.8888888888888888,
              "#fdca26"
             ],
             [
              1,
              "#f0f921"
             ]
            ],
            "type": "histogram2d"
           }
          ],
          "histogram2dcontour": [
           {
            "colorbar": {
             "outlinewidth": 0,
             "ticks": ""
            },
            "colorscale": [
             [
              0,
              "#0d0887"
             ],
             [
              0.1111111111111111,
              "#46039f"
             ],
             [
              0.2222222222222222,
              "#7201a8"
             ],
             [
              0.3333333333333333,
              "#9c179e"
             ],
             [
              0.4444444444444444,
              "#bd3786"
             ],
             [
              0.5555555555555556,
              "#d8576b"
             ],
             [
              0.6666666666666666,
              "#ed7953"
             ],
             [
              0.7777777777777778,
              "#fb9f3a"
             ],
             [
              0.8888888888888888,
              "#fdca26"
             ],
             [
              1,
              "#f0f921"
             ]
            ],
            "type": "histogram2dcontour"
           }
          ],
          "mesh3d": [
           {
            "colorbar": {
             "outlinewidth": 0,
             "ticks": ""
            },
            "type": "mesh3d"
           }
          ],
          "parcoords": [
           {
            "line": {
             "colorbar": {
              "outlinewidth": 0,
              "ticks": ""
             }
            },
            "type": "parcoords"
           }
          ],
          "pie": [
           {
            "automargin": true,
            "type": "pie"
           }
          ],
          "scatter": [
           {
            "fillpattern": {
             "fillmode": "overlay",
             "size": 10,
             "solidity": 0.2
            },
            "type": "scatter"
           }
          ],
          "scatter3d": [
           {
            "line": {
             "colorbar": {
              "outlinewidth": 0,
              "ticks": ""
             }
            },
            "marker": {
             "colorbar": {
              "outlinewidth": 0,
              "ticks": ""
             }
            },
            "type": "scatter3d"
           }
          ],
          "scattercarpet": [
           {
            "marker": {
             "colorbar": {
              "outlinewidth": 0,
              "ticks": ""
             }
            },
            "type": "scattercarpet"
           }
          ],
          "scattergeo": [
           {
            "marker": {
             "colorbar": {
              "outlinewidth": 0,
              "ticks": ""
             }
            },
            "type": "scattergeo"
           }
          ],
          "scattergl": [
           {
            "marker": {
             "colorbar": {
              "outlinewidth": 0,
              "ticks": ""
             }
            },
            "type": "scattergl"
           }
          ],
          "scattermapbox": [
           {
            "marker": {
             "colorbar": {
              "outlinewidth": 0,
              "ticks": ""
             }
            },
            "type": "scattermapbox"
           }
          ],
          "scatterpolar": [
           {
            "marker": {
             "colorbar": {
              "outlinewidth": 0,
              "ticks": ""
             }
            },
            "type": "scatterpolar"
           }
          ],
          "scatterpolargl": [
           {
            "marker": {
             "colorbar": {
              "outlinewidth": 0,
              "ticks": ""
             }
            },
            "type": "scatterpolargl"
           }
          ],
          "scatterternary": [
           {
            "marker": {
             "colorbar": {
              "outlinewidth": 0,
              "ticks": ""
             }
            },
            "type": "scatterternary"
           }
          ],
          "surface": [
           {
            "colorbar": {
             "outlinewidth": 0,
             "ticks": ""
            },
            "colorscale": [
             [
              0,
              "#0d0887"
             ],
             [
              0.1111111111111111,
              "#46039f"
             ],
             [
              0.2222222222222222,
              "#7201a8"
             ],
             [
              0.3333333333333333,
              "#9c179e"
             ],
             [
              0.4444444444444444,
              "#bd3786"
             ],
             [
              0.5555555555555556,
              "#d8576b"
             ],
             [
              0.6666666666666666,
              "#ed7953"
             ],
             [
              0.7777777777777778,
              "#fb9f3a"
             ],
             [
              0.8888888888888888,
              "#fdca26"
             ],
             [
              1,
              "#f0f921"
             ]
            ],
            "type": "surface"
           }
          ],
          "table": [
           {
            "cells": {
             "fill": {
              "color": "#EBF0F8"
             },
             "line": {
              "color": "white"
             }
            },
            "header": {
             "fill": {
              "color": "#C8D4E3"
             },
             "line": {
              "color": "white"
             }
            },
            "type": "table"
           }
          ]
         },
         "layout": {
          "annotationdefaults": {
           "arrowcolor": "#2a3f5f",
           "arrowhead": 0,
           "arrowwidth": 1
          },
          "autotypenumbers": "strict",
          "coloraxis": {
           "colorbar": {
            "outlinewidth": 0,
            "ticks": ""
           }
          },
          "colorscale": {
           "diverging": [
            [
             0,
             "#8e0152"
            ],
            [
             0.1,
             "#c51b7d"
            ],
            [
             0.2,
             "#de77ae"
            ],
            [
             0.3,
             "#f1b6da"
            ],
            [
             0.4,
             "#fde0ef"
            ],
            [
             0.5,
             "#f7f7f7"
            ],
            [
             0.6,
             "#e6f5d0"
            ],
            [
             0.7,
             "#b8e186"
            ],
            [
             0.8,
             "#7fbc41"
            ],
            [
             0.9,
             "#4d9221"
            ],
            [
             1,
             "#276419"
            ]
           ],
           "sequential": [
            [
             0,
             "#0d0887"
            ],
            [
             0.1111111111111111,
             "#46039f"
            ],
            [
             0.2222222222222222,
             "#7201a8"
            ],
            [
             0.3333333333333333,
             "#9c179e"
            ],
            [
             0.4444444444444444,
             "#bd3786"
            ],
            [
             0.5555555555555556,
             "#d8576b"
            ],
            [
             0.6666666666666666,
             "#ed7953"
            ],
            [
             0.7777777777777778,
             "#fb9f3a"
            ],
            [
             0.8888888888888888,
             "#fdca26"
            ],
            [
             1,
             "#f0f921"
            ]
           ],
           "sequentialminus": [
            [
             0,
             "#0d0887"
            ],
            [
             0.1111111111111111,
             "#46039f"
            ],
            [
             0.2222222222222222,
             "#7201a8"
            ],
            [
             0.3333333333333333,
             "#9c179e"
            ],
            [
             0.4444444444444444,
             "#bd3786"
            ],
            [
             0.5555555555555556,
             "#d8576b"
            ],
            [
             0.6666666666666666,
             "#ed7953"
            ],
            [
             0.7777777777777778,
             "#fb9f3a"
            ],
            [
             0.8888888888888888,
             "#fdca26"
            ],
            [
             1,
             "#f0f921"
            ]
           ]
          },
          "colorway": [
           "#636efa",
           "#EF553B",
           "#00cc96",
           "#ab63fa",
           "#FFA15A",
           "#19d3f3",
           "#FF6692",
           "#B6E880",
           "#FF97FF",
           "#FECB52"
          ],
          "font": {
           "color": "#2a3f5f"
          },
          "geo": {
           "bgcolor": "white",
           "lakecolor": "white",
           "landcolor": "#E5ECF6",
           "showlakes": true,
           "showland": true,
           "subunitcolor": "white"
          },
          "hoverlabel": {
           "align": "left"
          },
          "hovermode": "closest",
          "mapbox": {
           "style": "light"
          },
          "paper_bgcolor": "white",
          "plot_bgcolor": "#E5ECF6",
          "polar": {
           "angularaxis": {
            "gridcolor": "white",
            "linecolor": "white",
            "ticks": ""
           },
           "bgcolor": "#E5ECF6",
           "radialaxis": {
            "gridcolor": "white",
            "linecolor": "white",
            "ticks": ""
           }
          },
          "scene": {
           "xaxis": {
            "backgroundcolor": "#E5ECF6",
            "gridcolor": "white",
            "gridwidth": 2,
            "linecolor": "white",
            "showbackground": true,
            "ticks": "",
            "zerolinecolor": "white"
           },
           "yaxis": {
            "backgroundcolor": "#E5ECF6",
            "gridcolor": "white",
            "gridwidth": 2,
            "linecolor": "white",
            "showbackground": true,
            "ticks": "",
            "zerolinecolor": "white"
           },
           "zaxis": {
            "backgroundcolor": "#E5ECF6",
            "gridcolor": "white",
            "gridwidth": 2,
            "linecolor": "white",
            "showbackground": true,
            "ticks": "",
            "zerolinecolor": "white"
           }
          },
          "shapedefaults": {
           "line": {
            "color": "#2a3f5f"
           }
          },
          "ternary": {
           "aaxis": {
            "gridcolor": "white",
            "linecolor": "white",
            "ticks": ""
           },
           "baxis": {
            "gridcolor": "white",
            "linecolor": "white",
            "ticks": ""
           },
           "bgcolor": "#E5ECF6",
           "caxis": {
            "gridcolor": "white",
            "linecolor": "white",
            "ticks": ""
           }
          },
          "title": {
           "x": 0.05
          },
          "xaxis": {
           "automargin": true,
           "gridcolor": "white",
           "linecolor": "white",
           "ticks": "",
           "title": {
            "standoff": 15
           },
           "zerolinecolor": "white",
           "zerolinewidth": 2
          },
          "yaxis": {
           "automargin": true,
           "gridcolor": "white",
           "linecolor": "white",
           "ticks": "",
           "title": {
            "standoff": 15
           },
           "zerolinecolor": "white",
           "zerolinewidth": 2
          }
         }
        },
        "title": {
         "font": {
          "color": "#4D5663"
         }
        },
        "xaxis": {
         "gridcolor": "#E1E5ED",
         "showgrid": true,
         "tickfont": {
          "color": "#4D5663"
         },
         "title": {
          "font": {
           "color": "#4D5663"
          },
          "text": ""
         },
         "zerolinecolor": "#E1E5ED"
        },
        "yaxis": {
         "gridcolor": "#E1E5ED",
         "showgrid": true,
         "tickfont": {
          "color": "#4D5663"
         },
         "title": {
          "font": {
           "color": "#4D5663"
          },
          "text": ""
         },
         "zerolinecolor": "#E1E5ED"
        }
       }
      },
      "text/html": [
       "<div>                            <div id=\"331017f3-c984-4410-a83e-145990978c90\" class=\"plotly-graph-div\" style=\"height:525px; width:100%;\"></div>            <script type=\"text/javascript\">                require([\"plotly\"], function(Plotly) {                    window.PLOTLYENV=window.PLOTLYENV || {};\n",
       "                    window.PLOTLYENV.BASE_URL='https://plot.ly';                                    if (document.getElementById(\"331017f3-c984-4410-a83e-145990978c90\")) {                    Plotly.newPlot(                        \"331017f3-c984-4410-a83e-145990978c90\",                        [{\"line\":{\"color\":\"rgba(255, 153, 51, 1.0)\",\"dash\":\"solid\",\"shape\":\"linear\",\"width\":1.3},\"mode\":\"lines\",\"name\":\"B\",\"text\":\"\",\"x\":[0.4278303063139346,-0.17960339661206842,1.0164042618967994,-0.7122789625358378,-0.6470161726957598,-1.5391054711001806,-0.816419876227612,0.14992634819113262,-0.2538297184910725,0.4011312596835835,-0.35121217557811146,-0.08067457705225729,-1.2864396719186408,0.46615802073452944,-0.3186788122439116,1.0143288516154085,-2.2806490282504535,0.40384690521168326,0.6018005259883966,-0.25978009976335664,-1.1669122342579856,0.8573994100521745,0.8623475326006868,-0.3544586484489518,0.4110630086982138,-0.32937147502200953,0.8971370723551457,0.42079992650952014,-0.4723624434704465,0.12777627493488986,0.4889927615403592,-0.9481653064033165,0.10111690399406939,-0.5199092906505531,-0.9131480083912413,1.091390985730131,-1.166766293120185,0.20757181583433243,0.6829620194836434,-1.0930355069538578,-0.02650130330699229,-1.2924400269578538,0.14418601175977652,-0.20223854166849403,0.19208883138239824,-0.18114204996310787,-0.19841663539400559,1.8385362877297255,0.15384934369884648,-0.3098194447686136,-1.2045370228630572,0.5327550476824217,-0.29441402000600364,0.3709208833043238,-1.5092728793466288,0.5191502262763877,1.4637639676598087,-0.7232252992171272,0.6980766119028778,-0.7563825513013476,-0.7421339581048623,1.121264011877191,0.013752107630780407,-0.5892825852411415,0.6056490857330595,0.9780201457682005,0.3394107574260655,-0.29779406831739264,-0.8249862472503384,-0.006608688646789804,0.9173723910209661,-0.03603833862910183,-0.6990592443026739,-1.342749352000533,-1.7062572618616654,-0.4379870105257444,-0.37396788969217615,-1.2152159255979396,0.85898836922212,0.2853468800286372,0.08525587871536675,0.3440875236892165,0.43424037380948755,0.5175629844710247,-0.06289870370813987,-0.3717812990629133,-1.3435656884172564,2.1465656501241304,0.9877233116000835,0.04448063913151714,-0.5020413908536919,0.13533132322167515,-0.4085192034480075,-0.5307015361759451,0.8328125615881095,0.16467398244369646,0.3384160963082231,0.5451546074803042,0.565600486678321,0.7341938436024419],\"y\":[0.48306040414083834,0.009058351407117657,-0.10115869895854517,1.299364507421079,-0.917630514349454,-0.0004417653346297867,-0.40798279547156635,0.3444360696810804,-0.5303963906334963,0.16405004030193343,0.3350632725543995,-0.1981882405566007,-0.24432705870638655,1.096647494957282,0.3648057242653707,1.792685105555086,1.4643582511094944,-0.8544839418659624,-0.9191036875899685,0.5677118433595862,0.3644188202879386,0.33595984166710796,1.9936047851335992,-0.3184669272450796,0.32975569755681217,0.4260629510999024,0.23486176179843596,-1.086942248367033,0.3674910042928074,-0.46547162469799963,-0.9924427421111863,-2.1406810439355066,-0.21469032628104553,-0.12076619656413162,0.7647436190552594,0.4929088265880474,-0.8771908460491088,2.1777215427021996,0.04436592206782866,-0.0073038619111890565,1.4963995074604057,-0.46116149162445347,-0.9719021840295913,0.6605389800911491,-1.160605255775432,0.6757450195029824,-0.6991125021178969,0.5398846034108065,-0.4066398571344095,-0.31589064660126354,-0.7208238632743234,-0.383731214271165,-1.3536096966031266,0.4987596504299444,0.22804262761234906,-0.9882108951751464,0.6127722213063093,-0.9834991873284643,0.14950554896813462,0.4830956263791654,0.17451464216515458,-1.816099518246873,1.1385736700100326,-1.0036133687647835,0.8188788059107236,1.157425588927253,-1.1723531019569493,-0.07573755585923887,0.17966228070772516,0.6285754121275586,1.1372469738815771,-0.28269154554196035,0.7165406494548696,-0.23007318691659548,-0.8883280341101701,0.3281056679583895,-0.5449040671497705,-1.5170140313832825,0.7159357051909687,1.2061881235431922,-1.487080206258318,0.219275882063202,0.007041079866349726,0.2331570317320377,0.0034261754096381295,0.08514670420553244,-1.1107420851889813,1.8460938344620215,-0.21158616035407998,0.0044370729423990705,-0.39390964225737446,-1.222526038408339,-0.43863339052296013,-0.08599763750602338,-0.7734350600969128,-0.12144896846053277,-0.18775311587229412,1.4392171860459413,-0.2882843728195542,0.364549423795677],\"type\":\"scatter\"}],                        {\"legend\":{\"bgcolor\":\"#F5F6F9\",\"font\":{\"color\":\"#4D5663\"}},\"paper_bgcolor\":\"#F5F6F9\",\"plot_bgcolor\":\"#F5F6F9\",\"template\":{\"data\":{\"barpolar\":[{\"marker\":{\"line\":{\"color\":\"#E5ECF6\",\"width\":0.5},\"pattern\":{\"fillmode\":\"overlay\",\"size\":10,\"solidity\":0.2}},\"type\":\"barpolar\"}],\"bar\":[{\"error_x\":{\"color\":\"#2a3f5f\"},\"error_y\":{\"color\":\"#2a3f5f\"},\"marker\":{\"line\":{\"color\":\"#E5ECF6\",\"width\":0.5},\"pattern\":{\"fillmode\":\"overlay\",\"size\":10,\"solidity\":0.2}},\"type\":\"bar\"}],\"carpet\":[{\"aaxis\":{\"endlinecolor\":\"#2a3f5f\",\"gridcolor\":\"white\",\"linecolor\":\"white\",\"minorgridcolor\":\"white\",\"startlinecolor\":\"#2a3f5f\"},\"baxis\":{\"endlinecolor\":\"#2a3f5f\",\"gridcolor\":\"white\",\"linecolor\":\"white\",\"minorgridcolor\":\"white\",\"startlinecolor\":\"#2a3f5f\"},\"type\":\"carpet\"}],\"choropleth\":[{\"colorbar\":{\"outlinewidth\":0,\"ticks\":\"\"},\"type\":\"choropleth\"}],\"contourcarpet\":[{\"colorbar\":{\"outlinewidth\":0,\"ticks\":\"\"},\"type\":\"contourcarpet\"}],\"contour\":[{\"colorbar\":{\"outlinewidth\":0,\"ticks\":\"\"},\"colorscale\":[[0.0,\"#0d0887\"],[0.1111111111111111,\"#46039f\"],[0.2222222222222222,\"#7201a8\"],[0.3333333333333333,\"#9c179e\"],[0.4444444444444444,\"#bd3786\"],[0.5555555555555556,\"#d8576b\"],[0.6666666666666666,\"#ed7953\"],[0.7777777777777778,\"#fb9f3a\"],[0.8888888888888888,\"#fdca26\"],[1.0,\"#f0f921\"]],\"type\":\"contour\"}],\"heatmapgl\":[{\"colorbar\":{\"outlinewidth\":0,\"ticks\":\"\"},\"colorscale\":[[0.0,\"#0d0887\"],[0.1111111111111111,\"#46039f\"],[0.2222222222222222,\"#7201a8\"],[0.3333333333333333,\"#9c179e\"],[0.4444444444444444,\"#bd3786\"],[0.5555555555555556,\"#d8576b\"],[0.6666666666666666,\"#ed7953\"],[0.7777777777777778,\"#fb9f3a\"],[0.8888888888888888,\"#fdca26\"],[1.0,\"#f0f921\"]],\"type\":\"heatmapgl\"}],\"heatmap\":[{\"colorbar\":{\"outlinewidth\":0,\"ticks\":\"\"},\"colorscale\":[[0.0,\"#0d0887\"],[0.1111111111111111,\"#46039f\"],[0.2222222222222222,\"#7201a8\"],[0.3333333333333333,\"#9c179e\"],[0.4444444444444444,\"#bd3786\"],[0.5555555555555556,\"#d8576b\"],[0.6666666666666666,\"#ed7953\"],[0.7777777777777778,\"#fb9f3a\"],[0.8888888888888888,\"#fdca26\"],[1.0,\"#f0f921\"]],\"type\":\"heatmap\"}],\"histogram2dcontour\":[{\"colorbar\":{\"outlinewidth\":0,\"ticks\":\"\"},\"colorscale\":[[0.0,\"#0d0887\"],[0.1111111111111111,\"#46039f\"],[0.2222222222222222,\"#7201a8\"],[0.3333333333333333,\"#9c179e\"],[0.4444444444444444,\"#bd3786\"],[0.5555555555555556,\"#d8576b\"],[0.6666666666666666,\"#ed7953\"],[0.7777777777777778,\"#fb9f3a\"],[0.8888888888888888,\"#fdca26\"],[1.0,\"#f0f921\"]],\"type\":\"histogram2dcontour\"}],\"histogram2d\":[{\"colorbar\":{\"outlinewidth\":0,\"ticks\":\"\"},\"colorscale\":[[0.0,\"#0d0887\"],[0.1111111111111111,\"#46039f\"],[0.2222222222222222,\"#7201a8\"],[0.3333333333333333,\"#9c179e\"],[0.4444444444444444,\"#bd3786\"],[0.5555555555555556,\"#d8576b\"],[0.6666666666666666,\"#ed7953\"],[0.7777777777777778,\"#fb9f3a\"],[0.8888888888888888,\"#fdca26\"],[1.0,\"#f0f921\"]],\"type\":\"histogram2d\"}],\"histogram\":[{\"marker\":{\"pattern\":{\"fillmode\":\"overlay\",\"size\":10,\"solidity\":0.2}},\"type\":\"histogram\"}],\"mesh3d\":[{\"colorbar\":{\"outlinewidth\":0,\"ticks\":\"\"},\"type\":\"mesh3d\"}],\"parcoords\":[{\"line\":{\"colorbar\":{\"outlinewidth\":0,\"ticks\":\"\"}},\"type\":\"parcoords\"}],\"pie\":[{\"automargin\":true,\"type\":\"pie\"}],\"scatter3d\":[{\"line\":{\"colorbar\":{\"outlinewidth\":0,\"ticks\":\"\"}},\"marker\":{\"colorbar\":{\"outlinewidth\":0,\"ticks\":\"\"}},\"type\":\"scatter3d\"}],\"scattercarpet\":[{\"marker\":{\"colorbar\":{\"outlinewidth\":0,\"ticks\":\"\"}},\"type\":\"scattercarpet\"}],\"scattergeo\":[{\"marker\":{\"colorbar\":{\"outlinewidth\":0,\"ticks\":\"\"}},\"type\":\"scattergeo\"}],\"scattergl\":[{\"marker\":{\"colorbar\":{\"outlinewidth\":0,\"ticks\":\"\"}},\"type\":\"scattergl\"}],\"scattermapbox\":[{\"marker\":{\"colorbar\":{\"outlinewidth\":0,\"ticks\":\"\"}},\"type\":\"scattermapbox\"}],\"scatterpolargl\":[{\"marker\":{\"colorbar\":{\"outlinewidth\":0,\"ticks\":\"\"}},\"type\":\"scatterpolargl\"}],\"scatterpolar\":[{\"marker\":{\"colorbar\":{\"outlinewidth\":0,\"ticks\":\"\"}},\"type\":\"scatterpolar\"}],\"scatter\":[{\"fillpattern\":{\"fillmode\":\"overlay\",\"size\":10,\"solidity\":0.2},\"type\":\"scatter\"}],\"scatterternary\":[{\"marker\":{\"colorbar\":{\"outlinewidth\":0,\"ticks\":\"\"}},\"type\":\"scatterternary\"}],\"surface\":[{\"colorbar\":{\"outlinewidth\":0,\"ticks\":\"\"},\"colorscale\":[[0.0,\"#0d0887\"],[0.1111111111111111,\"#46039f\"],[0.2222222222222222,\"#7201a8\"],[0.3333333333333333,\"#9c179e\"],[0.4444444444444444,\"#bd3786\"],[0.5555555555555556,\"#d8576b\"],[0.6666666666666666,\"#ed7953\"],[0.7777777777777778,\"#fb9f3a\"],[0.8888888888888888,\"#fdca26\"],[1.0,\"#f0f921\"]],\"type\":\"surface\"}],\"table\":[{\"cells\":{\"fill\":{\"color\":\"#EBF0F8\"},\"line\":{\"color\":\"white\"}},\"header\":{\"fill\":{\"color\":\"#C8D4E3\"},\"line\":{\"color\":\"white\"}},\"type\":\"table\"}]},\"layout\":{\"annotationdefaults\":{\"arrowcolor\":\"#2a3f5f\",\"arrowhead\":0,\"arrowwidth\":1},\"autotypenumbers\":\"strict\",\"coloraxis\":{\"colorbar\":{\"outlinewidth\":0,\"ticks\":\"\"}},\"colorscale\":{\"diverging\":[[0,\"#8e0152\"],[0.1,\"#c51b7d\"],[0.2,\"#de77ae\"],[0.3,\"#f1b6da\"],[0.4,\"#fde0ef\"],[0.5,\"#f7f7f7\"],[0.6,\"#e6f5d0\"],[0.7,\"#b8e186\"],[0.8,\"#7fbc41\"],[0.9,\"#4d9221\"],[1,\"#276419\"]],\"sequential\":[[0.0,\"#0d0887\"],[0.1111111111111111,\"#46039f\"],[0.2222222222222222,\"#7201a8\"],[0.3333333333333333,\"#9c179e\"],[0.4444444444444444,\"#bd3786\"],[0.5555555555555556,\"#d8576b\"],[0.6666666666666666,\"#ed7953\"],[0.7777777777777778,\"#fb9f3a\"],[0.8888888888888888,\"#fdca26\"],[1.0,\"#f0f921\"]],\"sequentialminus\":[[0.0,\"#0d0887\"],[0.1111111111111111,\"#46039f\"],[0.2222222222222222,\"#7201a8\"],[0.3333333333333333,\"#9c179e\"],[0.4444444444444444,\"#bd3786\"],[0.5555555555555556,\"#d8576b\"],[0.6666666666666666,\"#ed7953\"],[0.7777777777777778,\"#fb9f3a\"],[0.8888888888888888,\"#fdca26\"],[1.0,\"#f0f921\"]]},\"colorway\":[\"#636efa\",\"#EF553B\",\"#00cc96\",\"#ab63fa\",\"#FFA15A\",\"#19d3f3\",\"#FF6692\",\"#B6E880\",\"#FF97FF\",\"#FECB52\"],\"font\":{\"color\":\"#2a3f5f\"},\"geo\":{\"bgcolor\":\"white\",\"lakecolor\":\"white\",\"landcolor\":\"#E5ECF6\",\"showlakes\":true,\"showland\":true,\"subunitcolor\":\"white\"},\"hoverlabel\":{\"align\":\"left\"},\"hovermode\":\"closest\",\"mapbox\":{\"style\":\"light\"},\"paper_bgcolor\":\"white\",\"plot_bgcolor\":\"#E5ECF6\",\"polar\":{\"angularaxis\":{\"gridcolor\":\"white\",\"linecolor\":\"white\",\"ticks\":\"\"},\"bgcolor\":\"#E5ECF6\",\"radialaxis\":{\"gridcolor\":\"white\",\"linecolor\":\"white\",\"ticks\":\"\"}},\"scene\":{\"xaxis\":{\"backgroundcolor\":\"#E5ECF6\",\"gridcolor\":\"white\",\"gridwidth\":2,\"linecolor\":\"white\",\"showbackground\":true,\"ticks\":\"\",\"zerolinecolor\":\"white\"},\"yaxis\":{\"backgroundcolor\":\"#E5ECF6\",\"gridcolor\":\"white\",\"gridwidth\":2,\"linecolor\":\"white\",\"showbackground\":true,\"ticks\":\"\",\"zerolinecolor\":\"white\"},\"zaxis\":{\"backgroundcolor\":\"#E5ECF6\",\"gridcolor\":\"white\",\"gridwidth\":2,\"linecolor\":\"white\",\"showbackground\":true,\"ticks\":\"\",\"zerolinecolor\":\"white\"}},\"shapedefaults\":{\"line\":{\"color\":\"#2a3f5f\"}},\"ternary\":{\"aaxis\":{\"gridcolor\":\"white\",\"linecolor\":\"white\",\"ticks\":\"\"},\"baxis\":{\"gridcolor\":\"white\",\"linecolor\":\"white\",\"ticks\":\"\"},\"bgcolor\":\"#E5ECF6\",\"caxis\":{\"gridcolor\":\"white\",\"linecolor\":\"white\",\"ticks\":\"\"}},\"title\":{\"x\":0.05},\"xaxis\":{\"automargin\":true,\"gridcolor\":\"white\",\"linecolor\":\"white\",\"ticks\":\"\",\"title\":{\"standoff\":15},\"zerolinecolor\":\"white\",\"zerolinewidth\":2},\"yaxis\":{\"automargin\":true,\"gridcolor\":\"white\",\"linecolor\":\"white\",\"ticks\":\"\",\"title\":{\"standoff\":15},\"zerolinecolor\":\"white\",\"zerolinewidth\":2}}},\"title\":{\"font\":{\"color\":\"#4D5663\"}},\"xaxis\":{\"gridcolor\":\"#E1E5ED\",\"showgrid\":true,\"tickfont\":{\"color\":\"#4D5663\"},\"title\":{\"font\":{\"color\":\"#4D5663\"},\"text\":\"\"},\"zerolinecolor\":\"#E1E5ED\"},\"yaxis\":{\"gridcolor\":\"#E1E5ED\",\"showgrid\":true,\"tickfont\":{\"color\":\"#4D5663\"},\"title\":{\"font\":{\"color\":\"#4D5663\"},\"text\":\"\"},\"zerolinecolor\":\"#E1E5ED\"}},                        {\"showLink\": true, \"linkText\": \"Export to plot.ly\", \"plotlyServerURL\": \"https://plot.ly\", \"responsive\": true}                    ).then(function(){\n",
       "                            \n",
       "var gd = document.getElementById('331017f3-c984-4410-a83e-145990978c90');\n",
       "var x = new MutationObserver(function (mutations, observer) {{\n",
       "        var display = window.getComputedStyle(gd).display;\n",
       "        if (!display || display === 'none') {{\n",
       "            console.log([gd, 'removed!']);\n",
       "            Plotly.purge(gd);\n",
       "            observer.disconnect();\n",
       "        }}\n",
       "}});\n",
       "\n",
       "// Listen for the removal of the full notebook cells\n",
       "var notebookContainer = gd.closest('#notebook-container');\n",
       "if (notebookContainer) {{\n",
       "    x.observe(notebookContainer, {childList: true});\n",
       "}}\n",
       "\n",
       "// Listen for the clearing of the current output cell\n",
       "var outputEl = gd.closest('.output');\n",
       "if (outputEl) {{\n",
       "    x.observe(outputEl, {childList: true});\n",
       "}}\n",
       "\n",
       "                        })                };                });            </script>        </div>"
      ]
     },
     "metadata": {},
     "output_type": "display_data"
    }
   ],
   "source": [
    "df.iplot(kind=\"scatter\",x='A', y='B')"
   ]
  },
  {
   "cell_type": "code",
   "execution_count": 37,
   "id": "b42a6ce6",
   "metadata": {
    "ExecuteTime": {
     "end_time": "2023-03-23T11:52:50.162359Z",
     "start_time": "2023-03-23T11:52:50.102994Z"
    }
   },
   "outputs": [
    {
     "data": {
      "application/vnd.plotly.v1+json": {
       "config": {
        "linkText": "Export to plot.ly",
        "plotlyServerURL": "https://plot.ly",
        "showLink": true
       },
       "data": [
        {
         "line": {
          "color": "rgba(255, 153, 51, 1.0)",
          "dash": "solid",
          "shape": "linear",
          "width": 1.3
         },
         "marker": {
          "size": 12,
          "symbol": "circle"
         },
         "mode": "markers",
         "name": "B",
         "text": "",
         "type": "scatter",
         "x": [
          0.4278303063139346,
          -0.17960339661206842,
          1.0164042618967994,
          -0.7122789625358378,
          -0.6470161726957598,
          -1.5391054711001806,
          -0.816419876227612,
          0.14992634819113262,
          -0.2538297184910725,
          0.4011312596835835,
          -0.35121217557811146,
          -0.08067457705225729,
          -1.2864396719186408,
          0.46615802073452944,
          -0.3186788122439116,
          1.0143288516154085,
          -2.2806490282504535,
          0.40384690521168326,
          0.6018005259883966,
          -0.25978009976335664,
          -1.1669122342579856,
          0.8573994100521745,
          0.8623475326006868,
          -0.3544586484489518,
          0.4110630086982138,
          -0.32937147502200953,
          0.8971370723551457,
          0.42079992650952014,
          -0.4723624434704465,
          0.12777627493488986,
          0.4889927615403592,
          -0.9481653064033165,
          0.10111690399406939,
          -0.5199092906505531,
          -0.9131480083912413,
          1.091390985730131,
          -1.166766293120185,
          0.20757181583433243,
          0.6829620194836434,
          -1.0930355069538578,
          -0.02650130330699229,
          -1.2924400269578538,
          0.14418601175977652,
          -0.20223854166849403,
          0.19208883138239824,
          -0.18114204996310787,
          -0.19841663539400559,
          1.8385362877297255,
          0.15384934369884648,
          -0.3098194447686136,
          -1.2045370228630572,
          0.5327550476824217,
          -0.29441402000600364,
          0.3709208833043238,
          -1.5092728793466288,
          0.5191502262763877,
          1.4637639676598087,
          -0.7232252992171272,
          0.6980766119028778,
          -0.7563825513013476,
          -0.7421339581048623,
          1.121264011877191,
          0.013752107630780407,
          -0.5892825852411415,
          0.6056490857330595,
          0.9780201457682005,
          0.3394107574260655,
          -0.29779406831739264,
          -0.8249862472503384,
          -0.006608688646789804,
          0.9173723910209661,
          -0.03603833862910183,
          -0.6990592443026739,
          -1.342749352000533,
          -1.7062572618616654,
          -0.4379870105257444,
          -0.37396788969217615,
          -1.2152159255979396,
          0.85898836922212,
          0.2853468800286372,
          0.08525587871536675,
          0.3440875236892165,
          0.43424037380948755,
          0.5175629844710247,
          -0.06289870370813987,
          -0.3717812990629133,
          -1.3435656884172564,
          2.1465656501241304,
          0.9877233116000835,
          0.04448063913151714,
          -0.5020413908536919,
          0.13533132322167515,
          -0.4085192034480075,
          -0.5307015361759451,
          0.8328125615881095,
          0.16467398244369646,
          0.3384160963082231,
          0.5451546074803042,
          0.565600486678321,
          0.7341938436024419
         ],
         "y": [
          0.48306040414083834,
          0.009058351407117657,
          -0.10115869895854517,
          1.299364507421079,
          -0.917630514349454,
          -0.0004417653346297867,
          -0.40798279547156635,
          0.3444360696810804,
          -0.5303963906334963,
          0.16405004030193343,
          0.3350632725543995,
          -0.1981882405566007,
          -0.24432705870638655,
          1.096647494957282,
          0.3648057242653707,
          1.792685105555086,
          1.4643582511094944,
          -0.8544839418659624,
          -0.9191036875899685,
          0.5677118433595862,
          0.3644188202879386,
          0.33595984166710796,
          1.9936047851335992,
          -0.3184669272450796,
          0.32975569755681217,
          0.4260629510999024,
          0.23486176179843596,
          -1.086942248367033,
          0.3674910042928074,
          -0.46547162469799963,
          -0.9924427421111863,
          -2.1406810439355066,
          -0.21469032628104553,
          -0.12076619656413162,
          0.7647436190552594,
          0.4929088265880474,
          -0.8771908460491088,
          2.1777215427021996,
          0.04436592206782866,
          -0.0073038619111890565,
          1.4963995074604057,
          -0.46116149162445347,
          -0.9719021840295913,
          0.6605389800911491,
          -1.160605255775432,
          0.6757450195029824,
          -0.6991125021178969,
          0.5398846034108065,
          -0.4066398571344095,
          -0.31589064660126354,
          -0.7208238632743234,
          -0.383731214271165,
          -1.3536096966031266,
          0.4987596504299444,
          0.22804262761234906,
          -0.9882108951751464,
          0.6127722213063093,
          -0.9834991873284643,
          0.14950554896813462,
          0.4830956263791654,
          0.17451464216515458,
          -1.816099518246873,
          1.1385736700100326,
          -1.0036133687647835,
          0.8188788059107236,
          1.157425588927253,
          -1.1723531019569493,
          -0.07573755585923887,
          0.17966228070772516,
          0.6285754121275586,
          1.1372469738815771,
          -0.28269154554196035,
          0.7165406494548696,
          -0.23007318691659548,
          -0.8883280341101701,
          0.3281056679583895,
          -0.5449040671497705,
          -1.5170140313832825,
          0.7159357051909687,
          1.2061881235431922,
          -1.487080206258318,
          0.219275882063202,
          0.007041079866349726,
          0.2331570317320377,
          0.0034261754096381295,
          0.08514670420553244,
          -1.1107420851889813,
          1.8460938344620215,
          -0.21158616035407998,
          0.0044370729423990705,
          -0.39390964225737446,
          -1.222526038408339,
          -0.43863339052296013,
          -0.08599763750602338,
          -0.7734350600969128,
          -0.12144896846053277,
          -0.18775311587229412,
          1.4392171860459413,
          -0.2882843728195542,
          0.364549423795677
         ]
        }
       ],
       "layout": {
        "legend": {
         "bgcolor": "#F5F6F9",
         "font": {
          "color": "#4D5663"
         }
        },
        "paper_bgcolor": "#F5F6F9",
        "plot_bgcolor": "#F5F6F9",
        "template": {
         "data": {
          "bar": [
           {
            "error_x": {
             "color": "#2a3f5f"
            },
            "error_y": {
             "color": "#2a3f5f"
            },
            "marker": {
             "line": {
              "color": "#E5ECF6",
              "width": 0.5
             },
             "pattern": {
              "fillmode": "overlay",
              "size": 10,
              "solidity": 0.2
             }
            },
            "type": "bar"
           }
          ],
          "barpolar": [
           {
            "marker": {
             "line": {
              "color": "#E5ECF6",
              "width": 0.5
             },
             "pattern": {
              "fillmode": "overlay",
              "size": 10,
              "solidity": 0.2
             }
            },
            "type": "barpolar"
           }
          ],
          "carpet": [
           {
            "aaxis": {
             "endlinecolor": "#2a3f5f",
             "gridcolor": "white",
             "linecolor": "white",
             "minorgridcolor": "white",
             "startlinecolor": "#2a3f5f"
            },
            "baxis": {
             "endlinecolor": "#2a3f5f",
             "gridcolor": "white",
             "linecolor": "white",
             "minorgridcolor": "white",
             "startlinecolor": "#2a3f5f"
            },
            "type": "carpet"
           }
          ],
          "choropleth": [
           {
            "colorbar": {
             "outlinewidth": 0,
             "ticks": ""
            },
            "type": "choropleth"
           }
          ],
          "contour": [
           {
            "colorbar": {
             "outlinewidth": 0,
             "ticks": ""
            },
            "colorscale": [
             [
              0,
              "#0d0887"
             ],
             [
              0.1111111111111111,
              "#46039f"
             ],
             [
              0.2222222222222222,
              "#7201a8"
             ],
             [
              0.3333333333333333,
              "#9c179e"
             ],
             [
              0.4444444444444444,
              "#bd3786"
             ],
             [
              0.5555555555555556,
              "#d8576b"
             ],
             [
              0.6666666666666666,
              "#ed7953"
             ],
             [
              0.7777777777777778,
              "#fb9f3a"
             ],
             [
              0.8888888888888888,
              "#fdca26"
             ],
             [
              1,
              "#f0f921"
             ]
            ],
            "type": "contour"
           }
          ],
          "contourcarpet": [
           {
            "colorbar": {
             "outlinewidth": 0,
             "ticks": ""
            },
            "type": "contourcarpet"
           }
          ],
          "heatmap": [
           {
            "colorbar": {
             "outlinewidth": 0,
             "ticks": ""
            },
            "colorscale": [
             [
              0,
              "#0d0887"
             ],
             [
              0.1111111111111111,
              "#46039f"
             ],
             [
              0.2222222222222222,
              "#7201a8"
             ],
             [
              0.3333333333333333,
              "#9c179e"
             ],
             [
              0.4444444444444444,
              "#bd3786"
             ],
             [
              0.5555555555555556,
              "#d8576b"
             ],
             [
              0.6666666666666666,
              "#ed7953"
             ],
             [
              0.7777777777777778,
              "#fb9f3a"
             ],
             [
              0.8888888888888888,
              "#fdca26"
             ],
             [
              1,
              "#f0f921"
             ]
            ],
            "type": "heatmap"
           }
          ],
          "heatmapgl": [
           {
            "colorbar": {
             "outlinewidth": 0,
             "ticks": ""
            },
            "colorscale": [
             [
              0,
              "#0d0887"
             ],
             [
              0.1111111111111111,
              "#46039f"
             ],
             [
              0.2222222222222222,
              "#7201a8"
             ],
             [
              0.3333333333333333,
              "#9c179e"
             ],
             [
              0.4444444444444444,
              "#bd3786"
             ],
             [
              0.5555555555555556,
              "#d8576b"
             ],
             [
              0.6666666666666666,
              "#ed7953"
             ],
             [
              0.7777777777777778,
              "#fb9f3a"
             ],
             [
              0.8888888888888888,
              "#fdca26"
             ],
             [
              1,
              "#f0f921"
             ]
            ],
            "type": "heatmapgl"
           }
          ],
          "histogram": [
           {
            "marker": {
             "pattern": {
              "fillmode": "overlay",
              "size": 10,
              "solidity": 0.2
             }
            },
            "type": "histogram"
           }
          ],
          "histogram2d": [
           {
            "colorbar": {
             "outlinewidth": 0,
             "ticks": ""
            },
            "colorscale": [
             [
              0,
              "#0d0887"
             ],
             [
              0.1111111111111111,
              "#46039f"
             ],
             [
              0.2222222222222222,
              "#7201a8"
             ],
             [
              0.3333333333333333,
              "#9c179e"
             ],
             [
              0.4444444444444444,
              "#bd3786"
             ],
             [
              0.5555555555555556,
              "#d8576b"
             ],
             [
              0.6666666666666666,
              "#ed7953"
             ],
             [
              0.7777777777777778,
              "#fb9f3a"
             ],
             [
              0.8888888888888888,
              "#fdca26"
             ],
             [
              1,
              "#f0f921"
             ]
            ],
            "type": "histogram2d"
           }
          ],
          "histogram2dcontour": [
           {
            "colorbar": {
             "outlinewidth": 0,
             "ticks": ""
            },
            "colorscale": [
             [
              0,
              "#0d0887"
             ],
             [
              0.1111111111111111,
              "#46039f"
             ],
             [
              0.2222222222222222,
              "#7201a8"
             ],
             [
              0.3333333333333333,
              "#9c179e"
             ],
             [
              0.4444444444444444,
              "#bd3786"
             ],
             [
              0.5555555555555556,
              "#d8576b"
             ],
             [
              0.6666666666666666,
              "#ed7953"
             ],
             [
              0.7777777777777778,
              "#fb9f3a"
             ],
             [
              0.8888888888888888,
              "#fdca26"
             ],
             [
              1,
              "#f0f921"
             ]
            ],
            "type": "histogram2dcontour"
           }
          ],
          "mesh3d": [
           {
            "colorbar": {
             "outlinewidth": 0,
             "ticks": ""
            },
            "type": "mesh3d"
           }
          ],
          "parcoords": [
           {
            "line": {
             "colorbar": {
              "outlinewidth": 0,
              "ticks": ""
             }
            },
            "type": "parcoords"
           }
          ],
          "pie": [
           {
            "automargin": true,
            "type": "pie"
           }
          ],
          "scatter": [
           {
            "fillpattern": {
             "fillmode": "overlay",
             "size": 10,
             "solidity": 0.2
            },
            "type": "scatter"
           }
          ],
          "scatter3d": [
           {
            "line": {
             "colorbar": {
              "outlinewidth": 0,
              "ticks": ""
             }
            },
            "marker": {
             "colorbar": {
              "outlinewidth": 0,
              "ticks": ""
             }
            },
            "type": "scatter3d"
           }
          ],
          "scattercarpet": [
           {
            "marker": {
             "colorbar": {
              "outlinewidth": 0,
              "ticks": ""
             }
            },
            "type": "scattercarpet"
           }
          ],
          "scattergeo": [
           {
            "marker": {
             "colorbar": {
              "outlinewidth": 0,
              "ticks": ""
             }
            },
            "type": "scattergeo"
           }
          ],
          "scattergl": [
           {
            "marker": {
             "colorbar": {
              "outlinewidth": 0,
              "ticks": ""
             }
            },
            "type": "scattergl"
           }
          ],
          "scattermapbox": [
           {
            "marker": {
             "colorbar": {
              "outlinewidth": 0,
              "ticks": ""
             }
            },
            "type": "scattermapbox"
           }
          ],
          "scatterpolar": [
           {
            "marker": {
             "colorbar": {
              "outlinewidth": 0,
              "ticks": ""
             }
            },
            "type": "scatterpolar"
           }
          ],
          "scatterpolargl": [
           {
            "marker": {
             "colorbar": {
              "outlinewidth": 0,
              "ticks": ""
             }
            },
            "type": "scatterpolargl"
           }
          ],
          "scatterternary": [
           {
            "marker": {
             "colorbar": {
              "outlinewidth": 0,
              "ticks": ""
             }
            },
            "type": "scatterternary"
           }
          ],
          "surface": [
           {
            "colorbar": {
             "outlinewidth": 0,
             "ticks": ""
            },
            "colorscale": [
             [
              0,
              "#0d0887"
             ],
             [
              0.1111111111111111,
              "#46039f"
             ],
             [
              0.2222222222222222,
              "#7201a8"
             ],
             [
              0.3333333333333333,
              "#9c179e"
             ],
             [
              0.4444444444444444,
              "#bd3786"
             ],
             [
              0.5555555555555556,
              "#d8576b"
             ],
             [
              0.6666666666666666,
              "#ed7953"
             ],
             [
              0.7777777777777778,
              "#fb9f3a"
             ],
             [
              0.8888888888888888,
              "#fdca26"
             ],
             [
              1,
              "#f0f921"
             ]
            ],
            "type": "surface"
           }
          ],
          "table": [
           {
            "cells": {
             "fill": {
              "color": "#EBF0F8"
             },
             "line": {
              "color": "white"
             }
            },
            "header": {
             "fill": {
              "color": "#C8D4E3"
             },
             "line": {
              "color": "white"
             }
            },
            "type": "table"
           }
          ]
         },
         "layout": {
          "annotationdefaults": {
           "arrowcolor": "#2a3f5f",
           "arrowhead": 0,
           "arrowwidth": 1
          },
          "autotypenumbers": "strict",
          "coloraxis": {
           "colorbar": {
            "outlinewidth": 0,
            "ticks": ""
           }
          },
          "colorscale": {
           "diverging": [
            [
             0,
             "#8e0152"
            ],
            [
             0.1,
             "#c51b7d"
            ],
            [
             0.2,
             "#de77ae"
            ],
            [
             0.3,
             "#f1b6da"
            ],
            [
             0.4,
             "#fde0ef"
            ],
            [
             0.5,
             "#f7f7f7"
            ],
            [
             0.6,
             "#e6f5d0"
            ],
            [
             0.7,
             "#b8e186"
            ],
            [
             0.8,
             "#7fbc41"
            ],
            [
             0.9,
             "#4d9221"
            ],
            [
             1,
             "#276419"
            ]
           ],
           "sequential": [
            [
             0,
             "#0d0887"
            ],
            [
             0.1111111111111111,
             "#46039f"
            ],
            [
             0.2222222222222222,
             "#7201a8"
            ],
            [
             0.3333333333333333,
             "#9c179e"
            ],
            [
             0.4444444444444444,
             "#bd3786"
            ],
            [
             0.5555555555555556,
             "#d8576b"
            ],
            [
             0.6666666666666666,
             "#ed7953"
            ],
            [
             0.7777777777777778,
             "#fb9f3a"
            ],
            [
             0.8888888888888888,
             "#fdca26"
            ],
            [
             1,
             "#f0f921"
            ]
           ],
           "sequentialminus": [
            [
             0,
             "#0d0887"
            ],
            [
             0.1111111111111111,
             "#46039f"
            ],
            [
             0.2222222222222222,
             "#7201a8"
            ],
            [
             0.3333333333333333,
             "#9c179e"
            ],
            [
             0.4444444444444444,
             "#bd3786"
            ],
            [
             0.5555555555555556,
             "#d8576b"
            ],
            [
             0.6666666666666666,
             "#ed7953"
            ],
            [
             0.7777777777777778,
             "#fb9f3a"
            ],
            [
             0.8888888888888888,
             "#fdca26"
            ],
            [
             1,
             "#f0f921"
            ]
           ]
          },
          "colorway": [
           "#636efa",
           "#EF553B",
           "#00cc96",
           "#ab63fa",
           "#FFA15A",
           "#19d3f3",
           "#FF6692",
           "#B6E880",
           "#FF97FF",
           "#FECB52"
          ],
          "font": {
           "color": "#2a3f5f"
          },
          "geo": {
           "bgcolor": "white",
           "lakecolor": "white",
           "landcolor": "#E5ECF6",
           "showlakes": true,
           "showland": true,
           "subunitcolor": "white"
          },
          "hoverlabel": {
           "align": "left"
          },
          "hovermode": "closest",
          "mapbox": {
           "style": "light"
          },
          "paper_bgcolor": "white",
          "plot_bgcolor": "#E5ECF6",
          "polar": {
           "angularaxis": {
            "gridcolor": "white",
            "linecolor": "white",
            "ticks": ""
           },
           "bgcolor": "#E5ECF6",
           "radialaxis": {
            "gridcolor": "white",
            "linecolor": "white",
            "ticks": ""
           }
          },
          "scene": {
           "xaxis": {
            "backgroundcolor": "#E5ECF6",
            "gridcolor": "white",
            "gridwidth": 2,
            "linecolor": "white",
            "showbackground": true,
            "ticks": "",
            "zerolinecolor": "white"
           },
           "yaxis": {
            "backgroundcolor": "#E5ECF6",
            "gridcolor": "white",
            "gridwidth": 2,
            "linecolor": "white",
            "showbackground": true,
            "ticks": "",
            "zerolinecolor": "white"
           },
           "zaxis": {
            "backgroundcolor": "#E5ECF6",
            "gridcolor": "white",
            "gridwidth": 2,
            "linecolor": "white",
            "showbackground": true,
            "ticks": "",
            "zerolinecolor": "white"
           }
          },
          "shapedefaults": {
           "line": {
            "color": "#2a3f5f"
           }
          },
          "ternary": {
           "aaxis": {
            "gridcolor": "white",
            "linecolor": "white",
            "ticks": ""
           },
           "baxis": {
            "gridcolor": "white",
            "linecolor": "white",
            "ticks": ""
           },
           "bgcolor": "#E5ECF6",
           "caxis": {
            "gridcolor": "white",
            "linecolor": "white",
            "ticks": ""
           }
          },
          "title": {
           "x": 0.05
          },
          "xaxis": {
           "automargin": true,
           "gridcolor": "white",
           "linecolor": "white",
           "ticks": "",
           "title": {
            "standoff": 15
           },
           "zerolinecolor": "white",
           "zerolinewidth": 2
          },
          "yaxis": {
           "automargin": true,
           "gridcolor": "white",
           "linecolor": "white",
           "ticks": "",
           "title": {
            "standoff": 15
           },
           "zerolinecolor": "white",
           "zerolinewidth": 2
          }
         }
        },
        "title": {
         "font": {
          "color": "#4D5663"
         }
        },
        "xaxis": {
         "gridcolor": "#E1E5ED",
         "showgrid": true,
         "tickfont": {
          "color": "#4D5663"
         },
         "title": {
          "font": {
           "color": "#4D5663"
          },
          "text": ""
         },
         "zerolinecolor": "#E1E5ED"
        },
        "yaxis": {
         "gridcolor": "#E1E5ED",
         "showgrid": true,
         "tickfont": {
          "color": "#4D5663"
         },
         "title": {
          "font": {
           "color": "#4D5663"
          },
          "text": ""
         },
         "zerolinecolor": "#E1E5ED"
        }
       }
      },
      "text/html": [
       "<div>                            <div id=\"f4bb9313-e856-4b51-98b0-91e054b48770\" class=\"plotly-graph-div\" style=\"height:525px; width:100%;\"></div>            <script type=\"text/javascript\">                require([\"plotly\"], function(Plotly) {                    window.PLOTLYENV=window.PLOTLYENV || {};\n",
       "                    window.PLOTLYENV.BASE_URL='https://plot.ly';                                    if (document.getElementById(\"f4bb9313-e856-4b51-98b0-91e054b48770\")) {                    Plotly.newPlot(                        \"f4bb9313-e856-4b51-98b0-91e054b48770\",                        [{\"line\":{\"color\":\"rgba(255, 153, 51, 1.0)\",\"dash\":\"solid\",\"shape\":\"linear\",\"width\":1.3},\"marker\":{\"size\":12,\"symbol\":\"circle\"},\"mode\":\"markers\",\"name\":\"B\",\"text\":\"\",\"x\":[0.4278303063139346,-0.17960339661206842,1.0164042618967994,-0.7122789625358378,-0.6470161726957598,-1.5391054711001806,-0.816419876227612,0.14992634819113262,-0.2538297184910725,0.4011312596835835,-0.35121217557811146,-0.08067457705225729,-1.2864396719186408,0.46615802073452944,-0.3186788122439116,1.0143288516154085,-2.2806490282504535,0.40384690521168326,0.6018005259883966,-0.25978009976335664,-1.1669122342579856,0.8573994100521745,0.8623475326006868,-0.3544586484489518,0.4110630086982138,-0.32937147502200953,0.8971370723551457,0.42079992650952014,-0.4723624434704465,0.12777627493488986,0.4889927615403592,-0.9481653064033165,0.10111690399406939,-0.5199092906505531,-0.9131480083912413,1.091390985730131,-1.166766293120185,0.20757181583433243,0.6829620194836434,-1.0930355069538578,-0.02650130330699229,-1.2924400269578538,0.14418601175977652,-0.20223854166849403,0.19208883138239824,-0.18114204996310787,-0.19841663539400559,1.8385362877297255,0.15384934369884648,-0.3098194447686136,-1.2045370228630572,0.5327550476824217,-0.29441402000600364,0.3709208833043238,-1.5092728793466288,0.5191502262763877,1.4637639676598087,-0.7232252992171272,0.6980766119028778,-0.7563825513013476,-0.7421339581048623,1.121264011877191,0.013752107630780407,-0.5892825852411415,0.6056490857330595,0.9780201457682005,0.3394107574260655,-0.29779406831739264,-0.8249862472503384,-0.006608688646789804,0.9173723910209661,-0.03603833862910183,-0.6990592443026739,-1.342749352000533,-1.7062572618616654,-0.4379870105257444,-0.37396788969217615,-1.2152159255979396,0.85898836922212,0.2853468800286372,0.08525587871536675,0.3440875236892165,0.43424037380948755,0.5175629844710247,-0.06289870370813987,-0.3717812990629133,-1.3435656884172564,2.1465656501241304,0.9877233116000835,0.04448063913151714,-0.5020413908536919,0.13533132322167515,-0.4085192034480075,-0.5307015361759451,0.8328125615881095,0.16467398244369646,0.3384160963082231,0.5451546074803042,0.565600486678321,0.7341938436024419],\"y\":[0.48306040414083834,0.009058351407117657,-0.10115869895854517,1.299364507421079,-0.917630514349454,-0.0004417653346297867,-0.40798279547156635,0.3444360696810804,-0.5303963906334963,0.16405004030193343,0.3350632725543995,-0.1981882405566007,-0.24432705870638655,1.096647494957282,0.3648057242653707,1.792685105555086,1.4643582511094944,-0.8544839418659624,-0.9191036875899685,0.5677118433595862,0.3644188202879386,0.33595984166710796,1.9936047851335992,-0.3184669272450796,0.32975569755681217,0.4260629510999024,0.23486176179843596,-1.086942248367033,0.3674910042928074,-0.46547162469799963,-0.9924427421111863,-2.1406810439355066,-0.21469032628104553,-0.12076619656413162,0.7647436190552594,0.4929088265880474,-0.8771908460491088,2.1777215427021996,0.04436592206782866,-0.0073038619111890565,1.4963995074604057,-0.46116149162445347,-0.9719021840295913,0.6605389800911491,-1.160605255775432,0.6757450195029824,-0.6991125021178969,0.5398846034108065,-0.4066398571344095,-0.31589064660126354,-0.7208238632743234,-0.383731214271165,-1.3536096966031266,0.4987596504299444,0.22804262761234906,-0.9882108951751464,0.6127722213063093,-0.9834991873284643,0.14950554896813462,0.4830956263791654,0.17451464216515458,-1.816099518246873,1.1385736700100326,-1.0036133687647835,0.8188788059107236,1.157425588927253,-1.1723531019569493,-0.07573755585923887,0.17966228070772516,0.6285754121275586,1.1372469738815771,-0.28269154554196035,0.7165406494548696,-0.23007318691659548,-0.8883280341101701,0.3281056679583895,-0.5449040671497705,-1.5170140313832825,0.7159357051909687,1.2061881235431922,-1.487080206258318,0.219275882063202,0.007041079866349726,0.2331570317320377,0.0034261754096381295,0.08514670420553244,-1.1107420851889813,1.8460938344620215,-0.21158616035407998,0.0044370729423990705,-0.39390964225737446,-1.222526038408339,-0.43863339052296013,-0.08599763750602338,-0.7734350600969128,-0.12144896846053277,-0.18775311587229412,1.4392171860459413,-0.2882843728195542,0.364549423795677],\"type\":\"scatter\"}],                        {\"legend\":{\"bgcolor\":\"#F5F6F9\",\"font\":{\"color\":\"#4D5663\"}},\"paper_bgcolor\":\"#F5F6F9\",\"plot_bgcolor\":\"#F5F6F9\",\"template\":{\"data\":{\"barpolar\":[{\"marker\":{\"line\":{\"color\":\"#E5ECF6\",\"width\":0.5},\"pattern\":{\"fillmode\":\"overlay\",\"size\":10,\"solidity\":0.2}},\"type\":\"barpolar\"}],\"bar\":[{\"error_x\":{\"color\":\"#2a3f5f\"},\"error_y\":{\"color\":\"#2a3f5f\"},\"marker\":{\"line\":{\"color\":\"#E5ECF6\",\"width\":0.5},\"pattern\":{\"fillmode\":\"overlay\",\"size\":10,\"solidity\":0.2}},\"type\":\"bar\"}],\"carpet\":[{\"aaxis\":{\"endlinecolor\":\"#2a3f5f\",\"gridcolor\":\"white\",\"linecolor\":\"white\",\"minorgridcolor\":\"white\",\"startlinecolor\":\"#2a3f5f\"},\"baxis\":{\"endlinecolor\":\"#2a3f5f\",\"gridcolor\":\"white\",\"linecolor\":\"white\",\"minorgridcolor\":\"white\",\"startlinecolor\":\"#2a3f5f\"},\"type\":\"carpet\"}],\"choropleth\":[{\"colorbar\":{\"outlinewidth\":0,\"ticks\":\"\"},\"type\":\"choropleth\"}],\"contourcarpet\":[{\"colorbar\":{\"outlinewidth\":0,\"ticks\":\"\"},\"type\":\"contourcarpet\"}],\"contour\":[{\"colorbar\":{\"outlinewidth\":0,\"ticks\":\"\"},\"colorscale\":[[0.0,\"#0d0887\"],[0.1111111111111111,\"#46039f\"],[0.2222222222222222,\"#7201a8\"],[0.3333333333333333,\"#9c179e\"],[0.4444444444444444,\"#bd3786\"],[0.5555555555555556,\"#d8576b\"],[0.6666666666666666,\"#ed7953\"],[0.7777777777777778,\"#fb9f3a\"],[0.8888888888888888,\"#fdca26\"],[1.0,\"#f0f921\"]],\"type\":\"contour\"}],\"heatmapgl\":[{\"colorbar\":{\"outlinewidth\":0,\"ticks\":\"\"},\"colorscale\":[[0.0,\"#0d0887\"],[0.1111111111111111,\"#46039f\"],[0.2222222222222222,\"#7201a8\"],[0.3333333333333333,\"#9c179e\"],[0.4444444444444444,\"#bd3786\"],[0.5555555555555556,\"#d8576b\"],[0.6666666666666666,\"#ed7953\"],[0.7777777777777778,\"#fb9f3a\"],[0.8888888888888888,\"#fdca26\"],[1.0,\"#f0f921\"]],\"type\":\"heatmapgl\"}],\"heatmap\":[{\"colorbar\":{\"outlinewidth\":0,\"ticks\":\"\"},\"colorscale\":[[0.0,\"#0d0887\"],[0.1111111111111111,\"#46039f\"],[0.2222222222222222,\"#7201a8\"],[0.3333333333333333,\"#9c179e\"],[0.4444444444444444,\"#bd3786\"],[0.5555555555555556,\"#d8576b\"],[0.6666666666666666,\"#ed7953\"],[0.7777777777777778,\"#fb9f3a\"],[0.8888888888888888,\"#fdca26\"],[1.0,\"#f0f921\"]],\"type\":\"heatmap\"}],\"histogram2dcontour\":[{\"colorbar\":{\"outlinewidth\":0,\"ticks\":\"\"},\"colorscale\":[[0.0,\"#0d0887\"],[0.1111111111111111,\"#46039f\"],[0.2222222222222222,\"#7201a8\"],[0.3333333333333333,\"#9c179e\"],[0.4444444444444444,\"#bd3786\"],[0.5555555555555556,\"#d8576b\"],[0.6666666666666666,\"#ed7953\"],[0.7777777777777778,\"#fb9f3a\"],[0.8888888888888888,\"#fdca26\"],[1.0,\"#f0f921\"]],\"type\":\"histogram2dcontour\"}],\"histogram2d\":[{\"colorbar\":{\"outlinewidth\":0,\"ticks\":\"\"},\"colorscale\":[[0.0,\"#0d0887\"],[0.1111111111111111,\"#46039f\"],[0.2222222222222222,\"#7201a8\"],[0.3333333333333333,\"#9c179e\"],[0.4444444444444444,\"#bd3786\"],[0.5555555555555556,\"#d8576b\"],[0.6666666666666666,\"#ed7953\"],[0.7777777777777778,\"#fb9f3a\"],[0.8888888888888888,\"#fdca26\"],[1.0,\"#f0f921\"]],\"type\":\"histogram2d\"}],\"histogram\":[{\"marker\":{\"pattern\":{\"fillmode\":\"overlay\",\"size\":10,\"solidity\":0.2}},\"type\":\"histogram\"}],\"mesh3d\":[{\"colorbar\":{\"outlinewidth\":0,\"ticks\":\"\"},\"type\":\"mesh3d\"}],\"parcoords\":[{\"line\":{\"colorbar\":{\"outlinewidth\":0,\"ticks\":\"\"}},\"type\":\"parcoords\"}],\"pie\":[{\"automargin\":true,\"type\":\"pie\"}],\"scatter3d\":[{\"line\":{\"colorbar\":{\"outlinewidth\":0,\"ticks\":\"\"}},\"marker\":{\"colorbar\":{\"outlinewidth\":0,\"ticks\":\"\"}},\"type\":\"scatter3d\"}],\"scattercarpet\":[{\"marker\":{\"colorbar\":{\"outlinewidth\":0,\"ticks\":\"\"}},\"type\":\"scattercarpet\"}],\"scattergeo\":[{\"marker\":{\"colorbar\":{\"outlinewidth\":0,\"ticks\":\"\"}},\"type\":\"scattergeo\"}],\"scattergl\":[{\"marker\":{\"colorbar\":{\"outlinewidth\":0,\"ticks\":\"\"}},\"type\":\"scattergl\"}],\"scattermapbox\":[{\"marker\":{\"colorbar\":{\"outlinewidth\":0,\"ticks\":\"\"}},\"type\":\"scattermapbox\"}],\"scatterpolargl\":[{\"marker\":{\"colorbar\":{\"outlinewidth\":0,\"ticks\":\"\"}},\"type\":\"scatterpolargl\"}],\"scatterpolar\":[{\"marker\":{\"colorbar\":{\"outlinewidth\":0,\"ticks\":\"\"}},\"type\":\"scatterpolar\"}],\"scatter\":[{\"fillpattern\":{\"fillmode\":\"overlay\",\"size\":10,\"solidity\":0.2},\"type\":\"scatter\"}],\"scatterternary\":[{\"marker\":{\"colorbar\":{\"outlinewidth\":0,\"ticks\":\"\"}},\"type\":\"scatterternary\"}],\"surface\":[{\"colorbar\":{\"outlinewidth\":0,\"ticks\":\"\"},\"colorscale\":[[0.0,\"#0d0887\"],[0.1111111111111111,\"#46039f\"],[0.2222222222222222,\"#7201a8\"],[0.3333333333333333,\"#9c179e\"],[0.4444444444444444,\"#bd3786\"],[0.5555555555555556,\"#d8576b\"],[0.6666666666666666,\"#ed7953\"],[0.7777777777777778,\"#fb9f3a\"],[0.8888888888888888,\"#fdca26\"],[1.0,\"#f0f921\"]],\"type\":\"surface\"}],\"table\":[{\"cells\":{\"fill\":{\"color\":\"#EBF0F8\"},\"line\":{\"color\":\"white\"}},\"header\":{\"fill\":{\"color\":\"#C8D4E3\"},\"line\":{\"color\":\"white\"}},\"type\":\"table\"}]},\"layout\":{\"annotationdefaults\":{\"arrowcolor\":\"#2a3f5f\",\"arrowhead\":0,\"arrowwidth\":1},\"autotypenumbers\":\"strict\",\"coloraxis\":{\"colorbar\":{\"outlinewidth\":0,\"ticks\":\"\"}},\"colorscale\":{\"diverging\":[[0,\"#8e0152\"],[0.1,\"#c51b7d\"],[0.2,\"#de77ae\"],[0.3,\"#f1b6da\"],[0.4,\"#fde0ef\"],[0.5,\"#f7f7f7\"],[0.6,\"#e6f5d0\"],[0.7,\"#b8e186\"],[0.8,\"#7fbc41\"],[0.9,\"#4d9221\"],[1,\"#276419\"]],\"sequential\":[[0.0,\"#0d0887\"],[0.1111111111111111,\"#46039f\"],[0.2222222222222222,\"#7201a8\"],[0.3333333333333333,\"#9c179e\"],[0.4444444444444444,\"#bd3786\"],[0.5555555555555556,\"#d8576b\"],[0.6666666666666666,\"#ed7953\"],[0.7777777777777778,\"#fb9f3a\"],[0.8888888888888888,\"#fdca26\"],[1.0,\"#f0f921\"]],\"sequentialminus\":[[0.0,\"#0d0887\"],[0.1111111111111111,\"#46039f\"],[0.2222222222222222,\"#7201a8\"],[0.3333333333333333,\"#9c179e\"],[0.4444444444444444,\"#bd3786\"],[0.5555555555555556,\"#d8576b\"],[0.6666666666666666,\"#ed7953\"],[0.7777777777777778,\"#fb9f3a\"],[0.8888888888888888,\"#fdca26\"],[1.0,\"#f0f921\"]]},\"colorway\":[\"#636efa\",\"#EF553B\",\"#00cc96\",\"#ab63fa\",\"#FFA15A\",\"#19d3f3\",\"#FF6692\",\"#B6E880\",\"#FF97FF\",\"#FECB52\"],\"font\":{\"color\":\"#2a3f5f\"},\"geo\":{\"bgcolor\":\"white\",\"lakecolor\":\"white\",\"landcolor\":\"#E5ECF6\",\"showlakes\":true,\"showland\":true,\"subunitcolor\":\"white\"},\"hoverlabel\":{\"align\":\"left\"},\"hovermode\":\"closest\",\"mapbox\":{\"style\":\"light\"},\"paper_bgcolor\":\"white\",\"plot_bgcolor\":\"#E5ECF6\",\"polar\":{\"angularaxis\":{\"gridcolor\":\"white\",\"linecolor\":\"white\",\"ticks\":\"\"},\"bgcolor\":\"#E5ECF6\",\"radialaxis\":{\"gridcolor\":\"white\",\"linecolor\":\"white\",\"ticks\":\"\"}},\"scene\":{\"xaxis\":{\"backgroundcolor\":\"#E5ECF6\",\"gridcolor\":\"white\",\"gridwidth\":2,\"linecolor\":\"white\",\"showbackground\":true,\"ticks\":\"\",\"zerolinecolor\":\"white\"},\"yaxis\":{\"backgroundcolor\":\"#E5ECF6\",\"gridcolor\":\"white\",\"gridwidth\":2,\"linecolor\":\"white\",\"showbackground\":true,\"ticks\":\"\",\"zerolinecolor\":\"white\"},\"zaxis\":{\"backgroundcolor\":\"#E5ECF6\",\"gridcolor\":\"white\",\"gridwidth\":2,\"linecolor\":\"white\",\"showbackground\":true,\"ticks\":\"\",\"zerolinecolor\":\"white\"}},\"shapedefaults\":{\"line\":{\"color\":\"#2a3f5f\"}},\"ternary\":{\"aaxis\":{\"gridcolor\":\"white\",\"linecolor\":\"white\",\"ticks\":\"\"},\"baxis\":{\"gridcolor\":\"white\",\"linecolor\":\"white\",\"ticks\":\"\"},\"bgcolor\":\"#E5ECF6\",\"caxis\":{\"gridcolor\":\"white\",\"linecolor\":\"white\",\"ticks\":\"\"}},\"title\":{\"x\":0.05},\"xaxis\":{\"automargin\":true,\"gridcolor\":\"white\",\"linecolor\":\"white\",\"ticks\":\"\",\"title\":{\"standoff\":15},\"zerolinecolor\":\"white\",\"zerolinewidth\":2},\"yaxis\":{\"automargin\":true,\"gridcolor\":\"white\",\"linecolor\":\"white\",\"ticks\":\"\",\"title\":{\"standoff\":15},\"zerolinecolor\":\"white\",\"zerolinewidth\":2}}},\"title\":{\"font\":{\"color\":\"#4D5663\"}},\"xaxis\":{\"gridcolor\":\"#E1E5ED\",\"showgrid\":true,\"tickfont\":{\"color\":\"#4D5663\"},\"title\":{\"font\":{\"color\":\"#4D5663\"},\"text\":\"\"},\"zerolinecolor\":\"#E1E5ED\"},\"yaxis\":{\"gridcolor\":\"#E1E5ED\",\"showgrid\":true,\"tickfont\":{\"color\":\"#4D5663\"},\"title\":{\"font\":{\"color\":\"#4D5663\"},\"text\":\"\"},\"zerolinecolor\":\"#E1E5ED\"}},                        {\"showLink\": true, \"linkText\": \"Export to plot.ly\", \"plotlyServerURL\": \"https://plot.ly\", \"responsive\": true}                    ).then(function(){\n",
       "                            \n",
       "var gd = document.getElementById('f4bb9313-e856-4b51-98b0-91e054b48770');\n",
       "var x = new MutationObserver(function (mutations, observer) {{\n",
       "        var display = window.getComputedStyle(gd).display;\n",
       "        if (!display || display === 'none') {{\n",
       "            console.log([gd, 'removed!']);\n",
       "            Plotly.purge(gd);\n",
       "            observer.disconnect();\n",
       "        }}\n",
       "}});\n",
       "\n",
       "// Listen for the removal of the full notebook cells\n",
       "var notebookContainer = gd.closest('#notebook-container');\n",
       "if (notebookContainer) {{\n",
       "    x.observe(notebookContainer, {childList: true});\n",
       "}}\n",
       "\n",
       "// Listen for the clearing of the current output cell\n",
       "var outputEl = gd.closest('.output');\n",
       "if (outputEl) {{\n",
       "    x.observe(outputEl, {childList: true});\n",
       "}}\n",
       "\n",
       "                        })                };                });            </script>        </div>"
      ]
     },
     "metadata": {},
     "output_type": "display_data"
    }
   ],
   "source": [
    "df.iplot(kind=\"scatter\",x='A', y='B', mode='markers')"
   ]
  },
  {
   "cell_type": "code",
   "execution_count": 40,
   "id": "c8a353f5",
   "metadata": {
    "ExecuteTime": {
     "end_time": "2023-03-23T11:53:43.106017Z",
     "start_time": "2023-03-23T11:53:43.064157Z"
    }
   },
   "outputs": [
    {
     "data": {
      "application/vnd.plotly.v1+json": {
       "config": {
        "linkText": "Export to plot.ly",
        "plotlyServerURL": "https://plot.ly",
        "showLink": true
       },
       "data": [
        {
         "line": {
          "color": "rgba(255, 153, 51, 1.0)",
          "dash": "solid",
          "shape": "linear",
          "width": 1.3
         },
         "marker": {
          "size": 20,
          "symbol": "circle"
         },
         "mode": "markers",
         "name": "B",
         "text": "",
         "type": "scatter",
         "x": [
          0.4278303063139346,
          -0.17960339661206842,
          1.0164042618967994,
          -0.7122789625358378,
          -0.6470161726957598,
          -1.5391054711001806,
          -0.816419876227612,
          0.14992634819113262,
          -0.2538297184910725,
          0.4011312596835835,
          -0.35121217557811146,
          -0.08067457705225729,
          -1.2864396719186408,
          0.46615802073452944,
          -0.3186788122439116,
          1.0143288516154085,
          -2.2806490282504535,
          0.40384690521168326,
          0.6018005259883966,
          -0.25978009976335664,
          -1.1669122342579856,
          0.8573994100521745,
          0.8623475326006868,
          -0.3544586484489518,
          0.4110630086982138,
          -0.32937147502200953,
          0.8971370723551457,
          0.42079992650952014,
          -0.4723624434704465,
          0.12777627493488986,
          0.4889927615403592,
          -0.9481653064033165,
          0.10111690399406939,
          -0.5199092906505531,
          -0.9131480083912413,
          1.091390985730131,
          -1.166766293120185,
          0.20757181583433243,
          0.6829620194836434,
          -1.0930355069538578,
          -0.02650130330699229,
          -1.2924400269578538,
          0.14418601175977652,
          -0.20223854166849403,
          0.19208883138239824,
          -0.18114204996310787,
          -0.19841663539400559,
          1.8385362877297255,
          0.15384934369884648,
          -0.3098194447686136,
          -1.2045370228630572,
          0.5327550476824217,
          -0.29441402000600364,
          0.3709208833043238,
          -1.5092728793466288,
          0.5191502262763877,
          1.4637639676598087,
          -0.7232252992171272,
          0.6980766119028778,
          -0.7563825513013476,
          -0.7421339581048623,
          1.121264011877191,
          0.013752107630780407,
          -0.5892825852411415,
          0.6056490857330595,
          0.9780201457682005,
          0.3394107574260655,
          -0.29779406831739264,
          -0.8249862472503384,
          -0.006608688646789804,
          0.9173723910209661,
          -0.03603833862910183,
          -0.6990592443026739,
          -1.342749352000533,
          -1.7062572618616654,
          -0.4379870105257444,
          -0.37396788969217615,
          -1.2152159255979396,
          0.85898836922212,
          0.2853468800286372,
          0.08525587871536675,
          0.3440875236892165,
          0.43424037380948755,
          0.5175629844710247,
          -0.06289870370813987,
          -0.3717812990629133,
          -1.3435656884172564,
          2.1465656501241304,
          0.9877233116000835,
          0.04448063913151714,
          -0.5020413908536919,
          0.13533132322167515,
          -0.4085192034480075,
          -0.5307015361759451,
          0.8328125615881095,
          0.16467398244369646,
          0.3384160963082231,
          0.5451546074803042,
          0.565600486678321,
          0.7341938436024419
         ],
         "y": [
          0.48306040414083834,
          0.009058351407117657,
          -0.10115869895854517,
          1.299364507421079,
          -0.917630514349454,
          -0.0004417653346297867,
          -0.40798279547156635,
          0.3444360696810804,
          -0.5303963906334963,
          0.16405004030193343,
          0.3350632725543995,
          -0.1981882405566007,
          -0.24432705870638655,
          1.096647494957282,
          0.3648057242653707,
          1.792685105555086,
          1.4643582511094944,
          -0.8544839418659624,
          -0.9191036875899685,
          0.5677118433595862,
          0.3644188202879386,
          0.33595984166710796,
          1.9936047851335992,
          -0.3184669272450796,
          0.32975569755681217,
          0.4260629510999024,
          0.23486176179843596,
          -1.086942248367033,
          0.3674910042928074,
          -0.46547162469799963,
          -0.9924427421111863,
          -2.1406810439355066,
          -0.21469032628104553,
          -0.12076619656413162,
          0.7647436190552594,
          0.4929088265880474,
          -0.8771908460491088,
          2.1777215427021996,
          0.04436592206782866,
          -0.0073038619111890565,
          1.4963995074604057,
          -0.46116149162445347,
          -0.9719021840295913,
          0.6605389800911491,
          -1.160605255775432,
          0.6757450195029824,
          -0.6991125021178969,
          0.5398846034108065,
          -0.4066398571344095,
          -0.31589064660126354,
          -0.7208238632743234,
          -0.383731214271165,
          -1.3536096966031266,
          0.4987596504299444,
          0.22804262761234906,
          -0.9882108951751464,
          0.6127722213063093,
          -0.9834991873284643,
          0.14950554896813462,
          0.4830956263791654,
          0.17451464216515458,
          -1.816099518246873,
          1.1385736700100326,
          -1.0036133687647835,
          0.8188788059107236,
          1.157425588927253,
          -1.1723531019569493,
          -0.07573755585923887,
          0.17966228070772516,
          0.6285754121275586,
          1.1372469738815771,
          -0.28269154554196035,
          0.7165406494548696,
          -0.23007318691659548,
          -0.8883280341101701,
          0.3281056679583895,
          -0.5449040671497705,
          -1.5170140313832825,
          0.7159357051909687,
          1.2061881235431922,
          -1.487080206258318,
          0.219275882063202,
          0.007041079866349726,
          0.2331570317320377,
          0.0034261754096381295,
          0.08514670420553244,
          -1.1107420851889813,
          1.8460938344620215,
          -0.21158616035407998,
          0.0044370729423990705,
          -0.39390964225737446,
          -1.222526038408339,
          -0.43863339052296013,
          -0.08599763750602338,
          -0.7734350600969128,
          -0.12144896846053277,
          -0.18775311587229412,
          1.4392171860459413,
          -0.2882843728195542,
          0.364549423795677
         ]
        }
       ],
       "layout": {
        "legend": {
         "bgcolor": "#F5F6F9",
         "font": {
          "color": "#4D5663"
         }
        },
        "paper_bgcolor": "#F5F6F9",
        "plot_bgcolor": "#F5F6F9",
        "template": {
         "data": {
          "bar": [
           {
            "error_x": {
             "color": "#2a3f5f"
            },
            "error_y": {
             "color": "#2a3f5f"
            },
            "marker": {
             "line": {
              "color": "#E5ECF6",
              "width": 0.5
             },
             "pattern": {
              "fillmode": "overlay",
              "size": 10,
              "solidity": 0.2
             }
            },
            "type": "bar"
           }
          ],
          "barpolar": [
           {
            "marker": {
             "line": {
              "color": "#E5ECF6",
              "width": 0.5
             },
             "pattern": {
              "fillmode": "overlay",
              "size": 10,
              "solidity": 0.2
             }
            },
            "type": "barpolar"
           }
          ],
          "carpet": [
           {
            "aaxis": {
             "endlinecolor": "#2a3f5f",
             "gridcolor": "white",
             "linecolor": "white",
             "minorgridcolor": "white",
             "startlinecolor": "#2a3f5f"
            },
            "baxis": {
             "endlinecolor": "#2a3f5f",
             "gridcolor": "white",
             "linecolor": "white",
             "minorgridcolor": "white",
             "startlinecolor": "#2a3f5f"
            },
            "type": "carpet"
           }
          ],
          "choropleth": [
           {
            "colorbar": {
             "outlinewidth": 0,
             "ticks": ""
            },
            "type": "choropleth"
           }
          ],
          "contour": [
           {
            "colorbar": {
             "outlinewidth": 0,
             "ticks": ""
            },
            "colorscale": [
             [
              0,
              "#0d0887"
             ],
             [
              0.1111111111111111,
              "#46039f"
             ],
             [
              0.2222222222222222,
              "#7201a8"
             ],
             [
              0.3333333333333333,
              "#9c179e"
             ],
             [
              0.4444444444444444,
              "#bd3786"
             ],
             [
              0.5555555555555556,
              "#d8576b"
             ],
             [
              0.6666666666666666,
              "#ed7953"
             ],
             [
              0.7777777777777778,
              "#fb9f3a"
             ],
             [
              0.8888888888888888,
              "#fdca26"
             ],
             [
              1,
              "#f0f921"
             ]
            ],
            "type": "contour"
           }
          ],
          "contourcarpet": [
           {
            "colorbar": {
             "outlinewidth": 0,
             "ticks": ""
            },
            "type": "contourcarpet"
           }
          ],
          "heatmap": [
           {
            "colorbar": {
             "outlinewidth": 0,
             "ticks": ""
            },
            "colorscale": [
             [
              0,
              "#0d0887"
             ],
             [
              0.1111111111111111,
              "#46039f"
             ],
             [
              0.2222222222222222,
              "#7201a8"
             ],
             [
              0.3333333333333333,
              "#9c179e"
             ],
             [
              0.4444444444444444,
              "#bd3786"
             ],
             [
              0.5555555555555556,
              "#d8576b"
             ],
             [
              0.6666666666666666,
              "#ed7953"
             ],
             [
              0.7777777777777778,
              "#fb9f3a"
             ],
             [
              0.8888888888888888,
              "#fdca26"
             ],
             [
              1,
              "#f0f921"
             ]
            ],
            "type": "heatmap"
           }
          ],
          "heatmapgl": [
           {
            "colorbar": {
             "outlinewidth": 0,
             "ticks": ""
            },
            "colorscale": [
             [
              0,
              "#0d0887"
             ],
             [
              0.1111111111111111,
              "#46039f"
             ],
             [
              0.2222222222222222,
              "#7201a8"
             ],
             [
              0.3333333333333333,
              "#9c179e"
             ],
             [
              0.4444444444444444,
              "#bd3786"
             ],
             [
              0.5555555555555556,
              "#d8576b"
             ],
             [
              0.6666666666666666,
              "#ed7953"
             ],
             [
              0.7777777777777778,
              "#fb9f3a"
             ],
             [
              0.8888888888888888,
              "#fdca26"
             ],
             [
              1,
              "#f0f921"
             ]
            ],
            "type": "heatmapgl"
           }
          ],
          "histogram": [
           {
            "marker": {
             "pattern": {
              "fillmode": "overlay",
              "size": 10,
              "solidity": 0.2
             }
            },
            "type": "histogram"
           }
          ],
          "histogram2d": [
           {
            "colorbar": {
             "outlinewidth": 0,
             "ticks": ""
            },
            "colorscale": [
             [
              0,
              "#0d0887"
             ],
             [
              0.1111111111111111,
              "#46039f"
             ],
             [
              0.2222222222222222,
              "#7201a8"
             ],
             [
              0.3333333333333333,
              "#9c179e"
             ],
             [
              0.4444444444444444,
              "#bd3786"
             ],
             [
              0.5555555555555556,
              "#d8576b"
             ],
             [
              0.6666666666666666,
              "#ed7953"
             ],
             [
              0.7777777777777778,
              "#fb9f3a"
             ],
             [
              0.8888888888888888,
              "#fdca26"
             ],
             [
              1,
              "#f0f921"
             ]
            ],
            "type": "histogram2d"
           }
          ],
          "histogram2dcontour": [
           {
            "colorbar": {
             "outlinewidth": 0,
             "ticks": ""
            },
            "colorscale": [
             [
              0,
              "#0d0887"
             ],
             [
              0.1111111111111111,
              "#46039f"
             ],
             [
              0.2222222222222222,
              "#7201a8"
             ],
             [
              0.3333333333333333,
              "#9c179e"
             ],
             [
              0.4444444444444444,
              "#bd3786"
             ],
             [
              0.5555555555555556,
              "#d8576b"
             ],
             [
              0.6666666666666666,
              "#ed7953"
             ],
             [
              0.7777777777777778,
              "#fb9f3a"
             ],
             [
              0.8888888888888888,
              "#fdca26"
             ],
             [
              1,
              "#f0f921"
             ]
            ],
            "type": "histogram2dcontour"
           }
          ],
          "mesh3d": [
           {
            "colorbar": {
             "outlinewidth": 0,
             "ticks": ""
            },
            "type": "mesh3d"
           }
          ],
          "parcoords": [
           {
            "line": {
             "colorbar": {
              "outlinewidth": 0,
              "ticks": ""
             }
            },
            "type": "parcoords"
           }
          ],
          "pie": [
           {
            "automargin": true,
            "type": "pie"
           }
          ],
          "scatter": [
           {
            "fillpattern": {
             "fillmode": "overlay",
             "size": 10,
             "solidity": 0.2
            },
            "type": "scatter"
           }
          ],
          "scatter3d": [
           {
            "line": {
             "colorbar": {
              "outlinewidth": 0,
              "ticks": ""
             }
            },
            "marker": {
             "colorbar": {
              "outlinewidth": 0,
              "ticks": ""
             }
            },
            "type": "scatter3d"
           }
          ],
          "scattercarpet": [
           {
            "marker": {
             "colorbar": {
              "outlinewidth": 0,
              "ticks": ""
             }
            },
            "type": "scattercarpet"
           }
          ],
          "scattergeo": [
           {
            "marker": {
             "colorbar": {
              "outlinewidth": 0,
              "ticks": ""
             }
            },
            "type": "scattergeo"
           }
          ],
          "scattergl": [
           {
            "marker": {
             "colorbar": {
              "outlinewidth": 0,
              "ticks": ""
             }
            },
            "type": "scattergl"
           }
          ],
          "scattermapbox": [
           {
            "marker": {
             "colorbar": {
              "outlinewidth": 0,
              "ticks": ""
             }
            },
            "type": "scattermapbox"
           }
          ],
          "scatterpolar": [
           {
            "marker": {
             "colorbar": {
              "outlinewidth": 0,
              "ticks": ""
             }
            },
            "type": "scatterpolar"
           }
          ],
          "scatterpolargl": [
           {
            "marker": {
             "colorbar": {
              "outlinewidth": 0,
              "ticks": ""
             }
            },
            "type": "scatterpolargl"
           }
          ],
          "scatterternary": [
           {
            "marker": {
             "colorbar": {
              "outlinewidth": 0,
              "ticks": ""
             }
            },
            "type": "scatterternary"
           }
          ],
          "surface": [
           {
            "colorbar": {
             "outlinewidth": 0,
             "ticks": ""
            },
            "colorscale": [
             [
              0,
              "#0d0887"
             ],
             [
              0.1111111111111111,
              "#46039f"
             ],
             [
              0.2222222222222222,
              "#7201a8"
             ],
             [
              0.3333333333333333,
              "#9c179e"
             ],
             [
              0.4444444444444444,
              "#bd3786"
             ],
             [
              0.5555555555555556,
              "#d8576b"
             ],
             [
              0.6666666666666666,
              "#ed7953"
             ],
             [
              0.7777777777777778,
              "#fb9f3a"
             ],
             [
              0.8888888888888888,
              "#fdca26"
             ],
             [
              1,
              "#f0f921"
             ]
            ],
            "type": "surface"
           }
          ],
          "table": [
           {
            "cells": {
             "fill": {
              "color": "#EBF0F8"
             },
             "line": {
              "color": "white"
             }
            },
            "header": {
             "fill": {
              "color": "#C8D4E3"
             },
             "line": {
              "color": "white"
             }
            },
            "type": "table"
           }
          ]
         },
         "layout": {
          "annotationdefaults": {
           "arrowcolor": "#2a3f5f",
           "arrowhead": 0,
           "arrowwidth": 1
          },
          "autotypenumbers": "strict",
          "coloraxis": {
           "colorbar": {
            "outlinewidth": 0,
            "ticks": ""
           }
          },
          "colorscale": {
           "diverging": [
            [
             0,
             "#8e0152"
            ],
            [
             0.1,
             "#c51b7d"
            ],
            [
             0.2,
             "#de77ae"
            ],
            [
             0.3,
             "#f1b6da"
            ],
            [
             0.4,
             "#fde0ef"
            ],
            [
             0.5,
             "#f7f7f7"
            ],
            [
             0.6,
             "#e6f5d0"
            ],
            [
             0.7,
             "#b8e186"
            ],
            [
             0.8,
             "#7fbc41"
            ],
            [
             0.9,
             "#4d9221"
            ],
            [
             1,
             "#276419"
            ]
           ],
           "sequential": [
            [
             0,
             "#0d0887"
            ],
            [
             0.1111111111111111,
             "#46039f"
            ],
            [
             0.2222222222222222,
             "#7201a8"
            ],
            [
             0.3333333333333333,
             "#9c179e"
            ],
            [
             0.4444444444444444,
             "#bd3786"
            ],
            [
             0.5555555555555556,
             "#d8576b"
            ],
            [
             0.6666666666666666,
             "#ed7953"
            ],
            [
             0.7777777777777778,
             "#fb9f3a"
            ],
            [
             0.8888888888888888,
             "#fdca26"
            ],
            [
             1,
             "#f0f921"
            ]
           ],
           "sequentialminus": [
            [
             0,
             "#0d0887"
            ],
            [
             0.1111111111111111,
             "#46039f"
            ],
            [
             0.2222222222222222,
             "#7201a8"
            ],
            [
             0.3333333333333333,
             "#9c179e"
            ],
            [
             0.4444444444444444,
             "#bd3786"
            ],
            [
             0.5555555555555556,
             "#d8576b"
            ],
            [
             0.6666666666666666,
             "#ed7953"
            ],
            [
             0.7777777777777778,
             "#fb9f3a"
            ],
            [
             0.8888888888888888,
             "#fdca26"
            ],
            [
             1,
             "#f0f921"
            ]
           ]
          },
          "colorway": [
           "#636efa",
           "#EF553B",
           "#00cc96",
           "#ab63fa",
           "#FFA15A",
           "#19d3f3",
           "#FF6692",
           "#B6E880",
           "#FF97FF",
           "#FECB52"
          ],
          "font": {
           "color": "#2a3f5f"
          },
          "geo": {
           "bgcolor": "white",
           "lakecolor": "white",
           "landcolor": "#E5ECF6",
           "showlakes": true,
           "showland": true,
           "subunitcolor": "white"
          },
          "hoverlabel": {
           "align": "left"
          },
          "hovermode": "closest",
          "mapbox": {
           "style": "light"
          },
          "paper_bgcolor": "white",
          "plot_bgcolor": "#E5ECF6",
          "polar": {
           "angularaxis": {
            "gridcolor": "white",
            "linecolor": "white",
            "ticks": ""
           },
           "bgcolor": "#E5ECF6",
           "radialaxis": {
            "gridcolor": "white",
            "linecolor": "white",
            "ticks": ""
           }
          },
          "scene": {
           "xaxis": {
            "backgroundcolor": "#E5ECF6",
            "gridcolor": "white",
            "gridwidth": 2,
            "linecolor": "white",
            "showbackground": true,
            "ticks": "",
            "zerolinecolor": "white"
           },
           "yaxis": {
            "backgroundcolor": "#E5ECF6",
            "gridcolor": "white",
            "gridwidth": 2,
            "linecolor": "white",
            "showbackground": true,
            "ticks": "",
            "zerolinecolor": "white"
           },
           "zaxis": {
            "backgroundcolor": "#E5ECF6",
            "gridcolor": "white",
            "gridwidth": 2,
            "linecolor": "white",
            "showbackground": true,
            "ticks": "",
            "zerolinecolor": "white"
           }
          },
          "shapedefaults": {
           "line": {
            "color": "#2a3f5f"
           }
          },
          "ternary": {
           "aaxis": {
            "gridcolor": "white",
            "linecolor": "white",
            "ticks": ""
           },
           "baxis": {
            "gridcolor": "white",
            "linecolor": "white",
            "ticks": ""
           },
           "bgcolor": "#E5ECF6",
           "caxis": {
            "gridcolor": "white",
            "linecolor": "white",
            "ticks": ""
           }
          },
          "title": {
           "x": 0.05
          },
          "xaxis": {
           "automargin": true,
           "gridcolor": "white",
           "linecolor": "white",
           "ticks": "",
           "title": {
            "standoff": 15
           },
           "zerolinecolor": "white",
           "zerolinewidth": 2
          },
          "yaxis": {
           "automargin": true,
           "gridcolor": "white",
           "linecolor": "white",
           "ticks": "",
           "title": {
            "standoff": 15
           },
           "zerolinecolor": "white",
           "zerolinewidth": 2
          }
         }
        },
        "title": {
         "font": {
          "color": "#4D5663"
         }
        },
        "xaxis": {
         "gridcolor": "#E1E5ED",
         "showgrid": true,
         "tickfont": {
          "color": "#4D5663"
         },
         "title": {
          "font": {
           "color": "#4D5663"
          },
          "text": ""
         },
         "zerolinecolor": "#E1E5ED"
        },
        "yaxis": {
         "gridcolor": "#E1E5ED",
         "showgrid": true,
         "tickfont": {
          "color": "#4D5663"
         },
         "title": {
          "font": {
           "color": "#4D5663"
          },
          "text": ""
         },
         "zerolinecolor": "#E1E5ED"
        }
       }
      },
      "text/html": [
       "<div>                            <div id=\"e8d4b281-10a1-4205-b332-7547df5b72c9\" class=\"plotly-graph-div\" style=\"height:525px; width:100%;\"></div>            <script type=\"text/javascript\">                require([\"plotly\"], function(Plotly) {                    window.PLOTLYENV=window.PLOTLYENV || {};\n",
       "                    window.PLOTLYENV.BASE_URL='https://plot.ly';                                    if (document.getElementById(\"e8d4b281-10a1-4205-b332-7547df5b72c9\")) {                    Plotly.newPlot(                        \"e8d4b281-10a1-4205-b332-7547df5b72c9\",                        [{\"line\":{\"color\":\"rgba(255, 153, 51, 1.0)\",\"dash\":\"solid\",\"shape\":\"linear\",\"width\":1.3},\"marker\":{\"size\":20,\"symbol\":\"circle\"},\"mode\":\"markers\",\"name\":\"B\",\"text\":\"\",\"x\":[0.4278303063139346,-0.17960339661206842,1.0164042618967994,-0.7122789625358378,-0.6470161726957598,-1.5391054711001806,-0.816419876227612,0.14992634819113262,-0.2538297184910725,0.4011312596835835,-0.35121217557811146,-0.08067457705225729,-1.2864396719186408,0.46615802073452944,-0.3186788122439116,1.0143288516154085,-2.2806490282504535,0.40384690521168326,0.6018005259883966,-0.25978009976335664,-1.1669122342579856,0.8573994100521745,0.8623475326006868,-0.3544586484489518,0.4110630086982138,-0.32937147502200953,0.8971370723551457,0.42079992650952014,-0.4723624434704465,0.12777627493488986,0.4889927615403592,-0.9481653064033165,0.10111690399406939,-0.5199092906505531,-0.9131480083912413,1.091390985730131,-1.166766293120185,0.20757181583433243,0.6829620194836434,-1.0930355069538578,-0.02650130330699229,-1.2924400269578538,0.14418601175977652,-0.20223854166849403,0.19208883138239824,-0.18114204996310787,-0.19841663539400559,1.8385362877297255,0.15384934369884648,-0.3098194447686136,-1.2045370228630572,0.5327550476824217,-0.29441402000600364,0.3709208833043238,-1.5092728793466288,0.5191502262763877,1.4637639676598087,-0.7232252992171272,0.6980766119028778,-0.7563825513013476,-0.7421339581048623,1.121264011877191,0.013752107630780407,-0.5892825852411415,0.6056490857330595,0.9780201457682005,0.3394107574260655,-0.29779406831739264,-0.8249862472503384,-0.006608688646789804,0.9173723910209661,-0.03603833862910183,-0.6990592443026739,-1.342749352000533,-1.7062572618616654,-0.4379870105257444,-0.37396788969217615,-1.2152159255979396,0.85898836922212,0.2853468800286372,0.08525587871536675,0.3440875236892165,0.43424037380948755,0.5175629844710247,-0.06289870370813987,-0.3717812990629133,-1.3435656884172564,2.1465656501241304,0.9877233116000835,0.04448063913151714,-0.5020413908536919,0.13533132322167515,-0.4085192034480075,-0.5307015361759451,0.8328125615881095,0.16467398244369646,0.3384160963082231,0.5451546074803042,0.565600486678321,0.7341938436024419],\"y\":[0.48306040414083834,0.009058351407117657,-0.10115869895854517,1.299364507421079,-0.917630514349454,-0.0004417653346297867,-0.40798279547156635,0.3444360696810804,-0.5303963906334963,0.16405004030193343,0.3350632725543995,-0.1981882405566007,-0.24432705870638655,1.096647494957282,0.3648057242653707,1.792685105555086,1.4643582511094944,-0.8544839418659624,-0.9191036875899685,0.5677118433595862,0.3644188202879386,0.33595984166710796,1.9936047851335992,-0.3184669272450796,0.32975569755681217,0.4260629510999024,0.23486176179843596,-1.086942248367033,0.3674910042928074,-0.46547162469799963,-0.9924427421111863,-2.1406810439355066,-0.21469032628104553,-0.12076619656413162,0.7647436190552594,0.4929088265880474,-0.8771908460491088,2.1777215427021996,0.04436592206782866,-0.0073038619111890565,1.4963995074604057,-0.46116149162445347,-0.9719021840295913,0.6605389800911491,-1.160605255775432,0.6757450195029824,-0.6991125021178969,0.5398846034108065,-0.4066398571344095,-0.31589064660126354,-0.7208238632743234,-0.383731214271165,-1.3536096966031266,0.4987596504299444,0.22804262761234906,-0.9882108951751464,0.6127722213063093,-0.9834991873284643,0.14950554896813462,0.4830956263791654,0.17451464216515458,-1.816099518246873,1.1385736700100326,-1.0036133687647835,0.8188788059107236,1.157425588927253,-1.1723531019569493,-0.07573755585923887,0.17966228070772516,0.6285754121275586,1.1372469738815771,-0.28269154554196035,0.7165406494548696,-0.23007318691659548,-0.8883280341101701,0.3281056679583895,-0.5449040671497705,-1.5170140313832825,0.7159357051909687,1.2061881235431922,-1.487080206258318,0.219275882063202,0.007041079866349726,0.2331570317320377,0.0034261754096381295,0.08514670420553244,-1.1107420851889813,1.8460938344620215,-0.21158616035407998,0.0044370729423990705,-0.39390964225737446,-1.222526038408339,-0.43863339052296013,-0.08599763750602338,-0.7734350600969128,-0.12144896846053277,-0.18775311587229412,1.4392171860459413,-0.2882843728195542,0.364549423795677],\"type\":\"scatter\"}],                        {\"legend\":{\"bgcolor\":\"#F5F6F9\",\"font\":{\"color\":\"#4D5663\"}},\"paper_bgcolor\":\"#F5F6F9\",\"plot_bgcolor\":\"#F5F6F9\",\"template\":{\"data\":{\"barpolar\":[{\"marker\":{\"line\":{\"color\":\"#E5ECF6\",\"width\":0.5},\"pattern\":{\"fillmode\":\"overlay\",\"size\":10,\"solidity\":0.2}},\"type\":\"barpolar\"}],\"bar\":[{\"error_x\":{\"color\":\"#2a3f5f\"},\"error_y\":{\"color\":\"#2a3f5f\"},\"marker\":{\"line\":{\"color\":\"#E5ECF6\",\"width\":0.5},\"pattern\":{\"fillmode\":\"overlay\",\"size\":10,\"solidity\":0.2}},\"type\":\"bar\"}],\"carpet\":[{\"aaxis\":{\"endlinecolor\":\"#2a3f5f\",\"gridcolor\":\"white\",\"linecolor\":\"white\",\"minorgridcolor\":\"white\",\"startlinecolor\":\"#2a3f5f\"},\"baxis\":{\"endlinecolor\":\"#2a3f5f\",\"gridcolor\":\"white\",\"linecolor\":\"white\",\"minorgridcolor\":\"white\",\"startlinecolor\":\"#2a3f5f\"},\"type\":\"carpet\"}],\"choropleth\":[{\"colorbar\":{\"outlinewidth\":0,\"ticks\":\"\"},\"type\":\"choropleth\"}],\"contourcarpet\":[{\"colorbar\":{\"outlinewidth\":0,\"ticks\":\"\"},\"type\":\"contourcarpet\"}],\"contour\":[{\"colorbar\":{\"outlinewidth\":0,\"ticks\":\"\"},\"colorscale\":[[0.0,\"#0d0887\"],[0.1111111111111111,\"#46039f\"],[0.2222222222222222,\"#7201a8\"],[0.3333333333333333,\"#9c179e\"],[0.4444444444444444,\"#bd3786\"],[0.5555555555555556,\"#d8576b\"],[0.6666666666666666,\"#ed7953\"],[0.7777777777777778,\"#fb9f3a\"],[0.8888888888888888,\"#fdca26\"],[1.0,\"#f0f921\"]],\"type\":\"contour\"}],\"heatmapgl\":[{\"colorbar\":{\"outlinewidth\":0,\"ticks\":\"\"},\"colorscale\":[[0.0,\"#0d0887\"],[0.1111111111111111,\"#46039f\"],[0.2222222222222222,\"#7201a8\"],[0.3333333333333333,\"#9c179e\"],[0.4444444444444444,\"#bd3786\"],[0.5555555555555556,\"#d8576b\"],[0.6666666666666666,\"#ed7953\"],[0.7777777777777778,\"#fb9f3a\"],[0.8888888888888888,\"#fdca26\"],[1.0,\"#f0f921\"]],\"type\":\"heatmapgl\"}],\"heatmap\":[{\"colorbar\":{\"outlinewidth\":0,\"ticks\":\"\"},\"colorscale\":[[0.0,\"#0d0887\"],[0.1111111111111111,\"#46039f\"],[0.2222222222222222,\"#7201a8\"],[0.3333333333333333,\"#9c179e\"],[0.4444444444444444,\"#bd3786\"],[0.5555555555555556,\"#d8576b\"],[0.6666666666666666,\"#ed7953\"],[0.7777777777777778,\"#fb9f3a\"],[0.8888888888888888,\"#fdca26\"],[1.0,\"#f0f921\"]],\"type\":\"heatmap\"}],\"histogram2dcontour\":[{\"colorbar\":{\"outlinewidth\":0,\"ticks\":\"\"},\"colorscale\":[[0.0,\"#0d0887\"],[0.1111111111111111,\"#46039f\"],[0.2222222222222222,\"#7201a8\"],[0.3333333333333333,\"#9c179e\"],[0.4444444444444444,\"#bd3786\"],[0.5555555555555556,\"#d8576b\"],[0.6666666666666666,\"#ed7953\"],[0.7777777777777778,\"#fb9f3a\"],[0.8888888888888888,\"#fdca26\"],[1.0,\"#f0f921\"]],\"type\":\"histogram2dcontour\"}],\"histogram2d\":[{\"colorbar\":{\"outlinewidth\":0,\"ticks\":\"\"},\"colorscale\":[[0.0,\"#0d0887\"],[0.1111111111111111,\"#46039f\"],[0.2222222222222222,\"#7201a8\"],[0.3333333333333333,\"#9c179e\"],[0.4444444444444444,\"#bd3786\"],[0.5555555555555556,\"#d8576b\"],[0.6666666666666666,\"#ed7953\"],[0.7777777777777778,\"#fb9f3a\"],[0.8888888888888888,\"#fdca26\"],[1.0,\"#f0f921\"]],\"type\":\"histogram2d\"}],\"histogram\":[{\"marker\":{\"pattern\":{\"fillmode\":\"overlay\",\"size\":10,\"solidity\":0.2}},\"type\":\"histogram\"}],\"mesh3d\":[{\"colorbar\":{\"outlinewidth\":0,\"ticks\":\"\"},\"type\":\"mesh3d\"}],\"parcoords\":[{\"line\":{\"colorbar\":{\"outlinewidth\":0,\"ticks\":\"\"}},\"type\":\"parcoords\"}],\"pie\":[{\"automargin\":true,\"type\":\"pie\"}],\"scatter3d\":[{\"line\":{\"colorbar\":{\"outlinewidth\":0,\"ticks\":\"\"}},\"marker\":{\"colorbar\":{\"outlinewidth\":0,\"ticks\":\"\"}},\"type\":\"scatter3d\"}],\"scattercarpet\":[{\"marker\":{\"colorbar\":{\"outlinewidth\":0,\"ticks\":\"\"}},\"type\":\"scattercarpet\"}],\"scattergeo\":[{\"marker\":{\"colorbar\":{\"outlinewidth\":0,\"ticks\":\"\"}},\"type\":\"scattergeo\"}],\"scattergl\":[{\"marker\":{\"colorbar\":{\"outlinewidth\":0,\"ticks\":\"\"}},\"type\":\"scattergl\"}],\"scattermapbox\":[{\"marker\":{\"colorbar\":{\"outlinewidth\":0,\"ticks\":\"\"}},\"type\":\"scattermapbox\"}],\"scatterpolargl\":[{\"marker\":{\"colorbar\":{\"outlinewidth\":0,\"ticks\":\"\"}},\"type\":\"scatterpolargl\"}],\"scatterpolar\":[{\"marker\":{\"colorbar\":{\"outlinewidth\":0,\"ticks\":\"\"}},\"type\":\"scatterpolar\"}],\"scatter\":[{\"fillpattern\":{\"fillmode\":\"overlay\",\"size\":10,\"solidity\":0.2},\"type\":\"scatter\"}],\"scatterternary\":[{\"marker\":{\"colorbar\":{\"outlinewidth\":0,\"ticks\":\"\"}},\"type\":\"scatterternary\"}],\"surface\":[{\"colorbar\":{\"outlinewidth\":0,\"ticks\":\"\"},\"colorscale\":[[0.0,\"#0d0887\"],[0.1111111111111111,\"#46039f\"],[0.2222222222222222,\"#7201a8\"],[0.3333333333333333,\"#9c179e\"],[0.4444444444444444,\"#bd3786\"],[0.5555555555555556,\"#d8576b\"],[0.6666666666666666,\"#ed7953\"],[0.7777777777777778,\"#fb9f3a\"],[0.8888888888888888,\"#fdca26\"],[1.0,\"#f0f921\"]],\"type\":\"surface\"}],\"table\":[{\"cells\":{\"fill\":{\"color\":\"#EBF0F8\"},\"line\":{\"color\":\"white\"}},\"header\":{\"fill\":{\"color\":\"#C8D4E3\"},\"line\":{\"color\":\"white\"}},\"type\":\"table\"}]},\"layout\":{\"annotationdefaults\":{\"arrowcolor\":\"#2a3f5f\",\"arrowhead\":0,\"arrowwidth\":1},\"autotypenumbers\":\"strict\",\"coloraxis\":{\"colorbar\":{\"outlinewidth\":0,\"ticks\":\"\"}},\"colorscale\":{\"diverging\":[[0,\"#8e0152\"],[0.1,\"#c51b7d\"],[0.2,\"#de77ae\"],[0.3,\"#f1b6da\"],[0.4,\"#fde0ef\"],[0.5,\"#f7f7f7\"],[0.6,\"#e6f5d0\"],[0.7,\"#b8e186\"],[0.8,\"#7fbc41\"],[0.9,\"#4d9221\"],[1,\"#276419\"]],\"sequential\":[[0.0,\"#0d0887\"],[0.1111111111111111,\"#46039f\"],[0.2222222222222222,\"#7201a8\"],[0.3333333333333333,\"#9c179e\"],[0.4444444444444444,\"#bd3786\"],[0.5555555555555556,\"#d8576b\"],[0.6666666666666666,\"#ed7953\"],[0.7777777777777778,\"#fb9f3a\"],[0.8888888888888888,\"#fdca26\"],[1.0,\"#f0f921\"]],\"sequentialminus\":[[0.0,\"#0d0887\"],[0.1111111111111111,\"#46039f\"],[0.2222222222222222,\"#7201a8\"],[0.3333333333333333,\"#9c179e\"],[0.4444444444444444,\"#bd3786\"],[0.5555555555555556,\"#d8576b\"],[0.6666666666666666,\"#ed7953\"],[0.7777777777777778,\"#fb9f3a\"],[0.8888888888888888,\"#fdca26\"],[1.0,\"#f0f921\"]]},\"colorway\":[\"#636efa\",\"#EF553B\",\"#00cc96\",\"#ab63fa\",\"#FFA15A\",\"#19d3f3\",\"#FF6692\",\"#B6E880\",\"#FF97FF\",\"#FECB52\"],\"font\":{\"color\":\"#2a3f5f\"},\"geo\":{\"bgcolor\":\"white\",\"lakecolor\":\"white\",\"landcolor\":\"#E5ECF6\",\"showlakes\":true,\"showland\":true,\"subunitcolor\":\"white\"},\"hoverlabel\":{\"align\":\"left\"},\"hovermode\":\"closest\",\"mapbox\":{\"style\":\"light\"},\"paper_bgcolor\":\"white\",\"plot_bgcolor\":\"#E5ECF6\",\"polar\":{\"angularaxis\":{\"gridcolor\":\"white\",\"linecolor\":\"white\",\"ticks\":\"\"},\"bgcolor\":\"#E5ECF6\",\"radialaxis\":{\"gridcolor\":\"white\",\"linecolor\":\"white\",\"ticks\":\"\"}},\"scene\":{\"xaxis\":{\"backgroundcolor\":\"#E5ECF6\",\"gridcolor\":\"white\",\"gridwidth\":2,\"linecolor\":\"white\",\"showbackground\":true,\"ticks\":\"\",\"zerolinecolor\":\"white\"},\"yaxis\":{\"backgroundcolor\":\"#E5ECF6\",\"gridcolor\":\"white\",\"gridwidth\":2,\"linecolor\":\"white\",\"showbackground\":true,\"ticks\":\"\",\"zerolinecolor\":\"white\"},\"zaxis\":{\"backgroundcolor\":\"#E5ECF6\",\"gridcolor\":\"white\",\"gridwidth\":2,\"linecolor\":\"white\",\"showbackground\":true,\"ticks\":\"\",\"zerolinecolor\":\"white\"}},\"shapedefaults\":{\"line\":{\"color\":\"#2a3f5f\"}},\"ternary\":{\"aaxis\":{\"gridcolor\":\"white\",\"linecolor\":\"white\",\"ticks\":\"\"},\"baxis\":{\"gridcolor\":\"white\",\"linecolor\":\"white\",\"ticks\":\"\"},\"bgcolor\":\"#E5ECF6\",\"caxis\":{\"gridcolor\":\"white\",\"linecolor\":\"white\",\"ticks\":\"\"}},\"title\":{\"x\":0.05},\"xaxis\":{\"automargin\":true,\"gridcolor\":\"white\",\"linecolor\":\"white\",\"ticks\":\"\",\"title\":{\"standoff\":15},\"zerolinecolor\":\"white\",\"zerolinewidth\":2},\"yaxis\":{\"automargin\":true,\"gridcolor\":\"white\",\"linecolor\":\"white\",\"ticks\":\"\",\"title\":{\"standoff\":15},\"zerolinecolor\":\"white\",\"zerolinewidth\":2}}},\"title\":{\"font\":{\"color\":\"#4D5663\"}},\"xaxis\":{\"gridcolor\":\"#E1E5ED\",\"showgrid\":true,\"tickfont\":{\"color\":\"#4D5663\"},\"title\":{\"font\":{\"color\":\"#4D5663\"},\"text\":\"\"},\"zerolinecolor\":\"#E1E5ED\"},\"yaxis\":{\"gridcolor\":\"#E1E5ED\",\"showgrid\":true,\"tickfont\":{\"color\":\"#4D5663\"},\"title\":{\"font\":{\"color\":\"#4D5663\"},\"text\":\"\"},\"zerolinecolor\":\"#E1E5ED\"}},                        {\"showLink\": true, \"linkText\": \"Export to plot.ly\", \"plotlyServerURL\": \"https://plot.ly\", \"responsive\": true}                    ).then(function(){\n",
       "                            \n",
       "var gd = document.getElementById('e8d4b281-10a1-4205-b332-7547df5b72c9');\n",
       "var x = new MutationObserver(function (mutations, observer) {{\n",
       "        var display = window.getComputedStyle(gd).display;\n",
       "        if (!display || display === 'none') {{\n",
       "            console.log([gd, 'removed!']);\n",
       "            Plotly.purge(gd);\n",
       "            observer.disconnect();\n",
       "        }}\n",
       "}});\n",
       "\n",
       "// Listen for the removal of the full notebook cells\n",
       "var notebookContainer = gd.closest('#notebook-container');\n",
       "if (notebookContainer) {{\n",
       "    x.observe(notebookContainer, {childList: true});\n",
       "}}\n",
       "\n",
       "// Listen for the clearing of the current output cell\n",
       "var outputEl = gd.closest('.output');\n",
       "if (outputEl) {{\n",
       "    x.observe(outputEl, {childList: true});\n",
       "}}\n",
       "\n",
       "                        })                };                });            </script>        </div>"
      ]
     },
     "metadata": {},
     "output_type": "display_data"
    }
   ],
   "source": [
    "df.iplot(kind=\"scatter\",x='A', y='B', mode='markers',size=20)"
   ]
  },
  {
   "cell_type": "code",
   "execution_count": 43,
   "id": "07c317f6",
   "metadata": {
    "ExecuteTime": {
     "end_time": "2023-03-23T11:55:58.259947Z",
     "start_time": "2023-03-23T11:55:58.215329Z"
    }
   },
   "outputs": [
    {
     "data": {
      "application/vnd.plotly.v1+json": {
       "config": {
        "linkText": "Export to plot.ly",
        "plotlyServerURL": "https://plot.ly",
        "showLink": true
       },
       "data": [
        {
         "marker": {
          "color": "rgba(255, 153, 51, 0.6)",
          "line": {
           "color": "rgba(255, 153, 51, 1.0)",
           "width": 1
          }
         },
         "name": "Values",
         "orientation": "v",
         "text": "",
         "type": "bar",
         "x": [
          "A",
          "B",
          "C"
         ],
         "y": [
          32,
          43,
          50
         ]
        }
       ],
       "layout": {
        "legend": {
         "bgcolor": "#F5F6F9",
         "font": {
          "color": "#4D5663"
         }
        },
        "paper_bgcolor": "#F5F6F9",
        "plot_bgcolor": "#F5F6F9",
        "template": {
         "data": {
          "bar": [
           {
            "error_x": {
             "color": "#2a3f5f"
            },
            "error_y": {
             "color": "#2a3f5f"
            },
            "marker": {
             "line": {
              "color": "#E5ECF6",
              "width": 0.5
             },
             "pattern": {
              "fillmode": "overlay",
              "size": 10,
              "solidity": 0.2
             }
            },
            "type": "bar"
           }
          ],
          "barpolar": [
           {
            "marker": {
             "line": {
              "color": "#E5ECF6",
              "width": 0.5
             },
             "pattern": {
              "fillmode": "overlay",
              "size": 10,
              "solidity": 0.2
             }
            },
            "type": "barpolar"
           }
          ],
          "carpet": [
           {
            "aaxis": {
             "endlinecolor": "#2a3f5f",
             "gridcolor": "white",
             "linecolor": "white",
             "minorgridcolor": "white",
             "startlinecolor": "#2a3f5f"
            },
            "baxis": {
             "endlinecolor": "#2a3f5f",
             "gridcolor": "white",
             "linecolor": "white",
             "minorgridcolor": "white",
             "startlinecolor": "#2a3f5f"
            },
            "type": "carpet"
           }
          ],
          "choropleth": [
           {
            "colorbar": {
             "outlinewidth": 0,
             "ticks": ""
            },
            "type": "choropleth"
           }
          ],
          "contour": [
           {
            "colorbar": {
             "outlinewidth": 0,
             "ticks": ""
            },
            "colorscale": [
             [
              0,
              "#0d0887"
             ],
             [
              0.1111111111111111,
              "#46039f"
             ],
             [
              0.2222222222222222,
              "#7201a8"
             ],
             [
              0.3333333333333333,
              "#9c179e"
             ],
             [
              0.4444444444444444,
              "#bd3786"
             ],
             [
              0.5555555555555556,
              "#d8576b"
             ],
             [
              0.6666666666666666,
              "#ed7953"
             ],
             [
              0.7777777777777778,
              "#fb9f3a"
             ],
             [
              0.8888888888888888,
              "#fdca26"
             ],
             [
              1,
              "#f0f921"
             ]
            ],
            "type": "contour"
           }
          ],
          "contourcarpet": [
           {
            "colorbar": {
             "outlinewidth": 0,
             "ticks": ""
            },
            "type": "contourcarpet"
           }
          ],
          "heatmap": [
           {
            "colorbar": {
             "outlinewidth": 0,
             "ticks": ""
            },
            "colorscale": [
             [
              0,
              "#0d0887"
             ],
             [
              0.1111111111111111,
              "#46039f"
             ],
             [
              0.2222222222222222,
              "#7201a8"
             ],
             [
              0.3333333333333333,
              "#9c179e"
             ],
             [
              0.4444444444444444,
              "#bd3786"
             ],
             [
              0.5555555555555556,
              "#d8576b"
             ],
             [
              0.6666666666666666,
              "#ed7953"
             ],
             [
              0.7777777777777778,
              "#fb9f3a"
             ],
             [
              0.8888888888888888,
              "#fdca26"
             ],
             [
              1,
              "#f0f921"
             ]
            ],
            "type": "heatmap"
           }
          ],
          "heatmapgl": [
           {
            "colorbar": {
             "outlinewidth": 0,
             "ticks": ""
            },
            "colorscale": [
             [
              0,
              "#0d0887"
             ],
             [
              0.1111111111111111,
              "#46039f"
             ],
             [
              0.2222222222222222,
              "#7201a8"
             ],
             [
              0.3333333333333333,
              "#9c179e"
             ],
             [
              0.4444444444444444,
              "#bd3786"
             ],
             [
              0.5555555555555556,
              "#d8576b"
             ],
             [
              0.6666666666666666,
              "#ed7953"
             ],
             [
              0.7777777777777778,
              "#fb9f3a"
             ],
             [
              0.8888888888888888,
              "#fdca26"
             ],
             [
              1,
              "#f0f921"
             ]
            ],
            "type": "heatmapgl"
           }
          ],
          "histogram": [
           {
            "marker": {
             "pattern": {
              "fillmode": "overlay",
              "size": 10,
              "solidity": 0.2
             }
            },
            "type": "histogram"
           }
          ],
          "histogram2d": [
           {
            "colorbar": {
             "outlinewidth": 0,
             "ticks": ""
            },
            "colorscale": [
             [
              0,
              "#0d0887"
             ],
             [
              0.1111111111111111,
              "#46039f"
             ],
             [
              0.2222222222222222,
              "#7201a8"
             ],
             [
              0.3333333333333333,
              "#9c179e"
             ],
             [
              0.4444444444444444,
              "#bd3786"
             ],
             [
              0.5555555555555556,
              "#d8576b"
             ],
             [
              0.6666666666666666,
              "#ed7953"
             ],
             [
              0.7777777777777778,
              "#fb9f3a"
             ],
             [
              0.8888888888888888,
              "#fdca26"
             ],
             [
              1,
              "#f0f921"
             ]
            ],
            "type": "histogram2d"
           }
          ],
          "histogram2dcontour": [
           {
            "colorbar": {
             "outlinewidth": 0,
             "ticks": ""
            },
            "colorscale": [
             [
              0,
              "#0d0887"
             ],
             [
              0.1111111111111111,
              "#46039f"
             ],
             [
              0.2222222222222222,
              "#7201a8"
             ],
             [
              0.3333333333333333,
              "#9c179e"
             ],
             [
              0.4444444444444444,
              "#bd3786"
             ],
             [
              0.5555555555555556,
              "#d8576b"
             ],
             [
              0.6666666666666666,
              "#ed7953"
             ],
             [
              0.7777777777777778,
              "#fb9f3a"
             ],
             [
              0.8888888888888888,
              "#fdca26"
             ],
             [
              1,
              "#f0f921"
             ]
            ],
            "type": "histogram2dcontour"
           }
          ],
          "mesh3d": [
           {
            "colorbar": {
             "outlinewidth": 0,
             "ticks": ""
            },
            "type": "mesh3d"
           }
          ],
          "parcoords": [
           {
            "line": {
             "colorbar": {
              "outlinewidth": 0,
              "ticks": ""
             }
            },
            "type": "parcoords"
           }
          ],
          "pie": [
           {
            "automargin": true,
            "type": "pie"
           }
          ],
          "scatter": [
           {
            "fillpattern": {
             "fillmode": "overlay",
             "size": 10,
             "solidity": 0.2
            },
            "type": "scatter"
           }
          ],
          "scatter3d": [
           {
            "line": {
             "colorbar": {
              "outlinewidth": 0,
              "ticks": ""
             }
            },
            "marker": {
             "colorbar": {
              "outlinewidth": 0,
              "ticks": ""
             }
            },
            "type": "scatter3d"
           }
          ],
          "scattercarpet": [
           {
            "marker": {
             "colorbar": {
              "outlinewidth": 0,
              "ticks": ""
             }
            },
            "type": "scattercarpet"
           }
          ],
          "scattergeo": [
           {
            "marker": {
             "colorbar": {
              "outlinewidth": 0,
              "ticks": ""
             }
            },
            "type": "scattergeo"
           }
          ],
          "scattergl": [
           {
            "marker": {
             "colorbar": {
              "outlinewidth": 0,
              "ticks": ""
             }
            },
            "type": "scattergl"
           }
          ],
          "scattermapbox": [
           {
            "marker": {
             "colorbar": {
              "outlinewidth": 0,
              "ticks": ""
             }
            },
            "type": "scattermapbox"
           }
          ],
          "scatterpolar": [
           {
            "marker": {
             "colorbar": {
              "outlinewidth": 0,
              "ticks": ""
             }
            },
            "type": "scatterpolar"
           }
          ],
          "scatterpolargl": [
           {
            "marker": {
             "colorbar": {
              "outlinewidth": 0,
              "ticks": ""
             }
            },
            "type": "scatterpolargl"
           }
          ],
          "scatterternary": [
           {
            "marker": {
             "colorbar": {
              "outlinewidth": 0,
              "ticks": ""
             }
            },
            "type": "scatterternary"
           }
          ],
          "surface": [
           {
            "colorbar": {
             "outlinewidth": 0,
             "ticks": ""
            },
            "colorscale": [
             [
              0,
              "#0d0887"
             ],
             [
              0.1111111111111111,
              "#46039f"
             ],
             [
              0.2222222222222222,
              "#7201a8"
             ],
             [
              0.3333333333333333,
              "#9c179e"
             ],
             [
              0.4444444444444444,
              "#bd3786"
             ],
             [
              0.5555555555555556,
              "#d8576b"
             ],
             [
              0.6666666666666666,
              "#ed7953"
             ],
             [
              0.7777777777777778,
              "#fb9f3a"
             ],
             [
              0.8888888888888888,
              "#fdca26"
             ],
             [
              1,
              "#f0f921"
             ]
            ],
            "type": "surface"
           }
          ],
          "table": [
           {
            "cells": {
             "fill": {
              "color": "#EBF0F8"
             },
             "line": {
              "color": "white"
             }
            },
            "header": {
             "fill": {
              "color": "#C8D4E3"
             },
             "line": {
              "color": "white"
             }
            },
            "type": "table"
           }
          ]
         },
         "layout": {
          "annotationdefaults": {
           "arrowcolor": "#2a3f5f",
           "arrowhead": 0,
           "arrowwidth": 1
          },
          "autotypenumbers": "strict",
          "coloraxis": {
           "colorbar": {
            "outlinewidth": 0,
            "ticks": ""
           }
          },
          "colorscale": {
           "diverging": [
            [
             0,
             "#8e0152"
            ],
            [
             0.1,
             "#c51b7d"
            ],
            [
             0.2,
             "#de77ae"
            ],
            [
             0.3,
             "#f1b6da"
            ],
            [
             0.4,
             "#fde0ef"
            ],
            [
             0.5,
             "#f7f7f7"
            ],
            [
             0.6,
             "#e6f5d0"
            ],
            [
             0.7,
             "#b8e186"
            ],
            [
             0.8,
             "#7fbc41"
            ],
            [
             0.9,
             "#4d9221"
            ],
            [
             1,
             "#276419"
            ]
           ],
           "sequential": [
            [
             0,
             "#0d0887"
            ],
            [
             0.1111111111111111,
             "#46039f"
            ],
            [
             0.2222222222222222,
             "#7201a8"
            ],
            [
             0.3333333333333333,
             "#9c179e"
            ],
            [
             0.4444444444444444,
             "#bd3786"
            ],
            [
             0.5555555555555556,
             "#d8576b"
            ],
            [
             0.6666666666666666,
             "#ed7953"
            ],
            [
             0.7777777777777778,
             "#fb9f3a"
            ],
            [
             0.8888888888888888,
             "#fdca26"
            ],
            [
             1,
             "#f0f921"
            ]
           ],
           "sequentialminus": [
            [
             0,
             "#0d0887"
            ],
            [
             0.1111111111111111,
             "#46039f"
            ],
            [
             0.2222222222222222,
             "#7201a8"
            ],
            [
             0.3333333333333333,
             "#9c179e"
            ],
            [
             0.4444444444444444,
             "#bd3786"
            ],
            [
             0.5555555555555556,
             "#d8576b"
            ],
            [
             0.6666666666666666,
             "#ed7953"
            ],
            [
             0.7777777777777778,
             "#fb9f3a"
            ],
            [
             0.8888888888888888,
             "#fdca26"
            ],
            [
             1,
             "#f0f921"
            ]
           ]
          },
          "colorway": [
           "#636efa",
           "#EF553B",
           "#00cc96",
           "#ab63fa",
           "#FFA15A",
           "#19d3f3",
           "#FF6692",
           "#B6E880",
           "#FF97FF",
           "#FECB52"
          ],
          "font": {
           "color": "#2a3f5f"
          },
          "geo": {
           "bgcolor": "white",
           "lakecolor": "white",
           "landcolor": "#E5ECF6",
           "showlakes": true,
           "showland": true,
           "subunitcolor": "white"
          },
          "hoverlabel": {
           "align": "left"
          },
          "hovermode": "closest",
          "mapbox": {
           "style": "light"
          },
          "paper_bgcolor": "white",
          "plot_bgcolor": "#E5ECF6",
          "polar": {
           "angularaxis": {
            "gridcolor": "white",
            "linecolor": "white",
            "ticks": ""
           },
           "bgcolor": "#E5ECF6",
           "radialaxis": {
            "gridcolor": "white",
            "linecolor": "white",
            "ticks": ""
           }
          },
          "scene": {
           "xaxis": {
            "backgroundcolor": "#E5ECF6",
            "gridcolor": "white",
            "gridwidth": 2,
            "linecolor": "white",
            "showbackground": true,
            "ticks": "",
            "zerolinecolor": "white"
           },
           "yaxis": {
            "backgroundcolor": "#E5ECF6",
            "gridcolor": "white",
            "gridwidth": 2,
            "linecolor": "white",
            "showbackground": true,
            "ticks": "",
            "zerolinecolor": "white"
           },
           "zaxis": {
            "backgroundcolor": "#E5ECF6",
            "gridcolor": "white",
            "gridwidth": 2,
            "linecolor": "white",
            "showbackground": true,
            "ticks": "",
            "zerolinecolor": "white"
           }
          },
          "shapedefaults": {
           "line": {
            "color": "#2a3f5f"
           }
          },
          "ternary": {
           "aaxis": {
            "gridcolor": "white",
            "linecolor": "white",
            "ticks": ""
           },
           "baxis": {
            "gridcolor": "white",
            "linecolor": "white",
            "ticks": ""
           },
           "bgcolor": "#E5ECF6",
           "caxis": {
            "gridcolor": "white",
            "linecolor": "white",
            "ticks": ""
           }
          },
          "title": {
           "x": 0.05
          },
          "xaxis": {
           "automargin": true,
           "gridcolor": "white",
           "linecolor": "white",
           "ticks": "",
           "title": {
            "standoff": 15
           },
           "zerolinecolor": "white",
           "zerolinewidth": 2
          },
          "yaxis": {
           "automargin": true,
           "gridcolor": "white",
           "linecolor": "white",
           "ticks": "",
           "title": {
            "standoff": 15
           },
           "zerolinecolor": "white",
           "zerolinewidth": 2
          }
         }
        },
        "title": {
         "font": {
          "color": "#4D5663"
         }
        },
        "xaxis": {
         "gridcolor": "#E1E5ED",
         "showgrid": true,
         "tickfont": {
          "color": "#4D5663"
         },
         "title": {
          "font": {
           "color": "#4D5663"
          },
          "text": ""
         },
         "zerolinecolor": "#E1E5ED"
        },
        "yaxis": {
         "gridcolor": "#E1E5ED",
         "showgrid": true,
         "tickfont": {
          "color": "#4D5663"
         },
         "title": {
          "font": {
           "color": "#4D5663"
          },
          "text": ""
         },
         "zerolinecolor": "#E1E5ED"
        }
       }
      },
      "text/html": [
       "<div>                            <div id=\"741ca0a4-0ba1-49e6-b00b-ccd7ea37826b\" class=\"plotly-graph-div\" style=\"height:525px; width:100%;\"></div>            <script type=\"text/javascript\">                require([\"plotly\"], function(Plotly) {                    window.PLOTLYENV=window.PLOTLYENV || {};\n",
       "                    window.PLOTLYENV.BASE_URL='https://plot.ly';                                    if (document.getElementById(\"741ca0a4-0ba1-49e6-b00b-ccd7ea37826b\")) {                    Plotly.newPlot(                        \"741ca0a4-0ba1-49e6-b00b-ccd7ea37826b\",                        [{\"marker\":{\"color\":\"rgba(255, 153, 51, 0.6)\",\"line\":{\"color\":\"rgba(255, 153, 51, 1.0)\",\"width\":1}},\"name\":\"Values\",\"orientation\":\"v\",\"text\":\"\",\"x\":[\"A\",\"B\",\"C\"],\"y\":[32,43,50],\"type\":\"bar\"}],                        {\"legend\":{\"bgcolor\":\"#F5F6F9\",\"font\":{\"color\":\"#4D5663\"}},\"paper_bgcolor\":\"#F5F6F9\",\"plot_bgcolor\":\"#F5F6F9\",\"template\":{\"data\":{\"barpolar\":[{\"marker\":{\"line\":{\"color\":\"#E5ECF6\",\"width\":0.5},\"pattern\":{\"fillmode\":\"overlay\",\"size\":10,\"solidity\":0.2}},\"type\":\"barpolar\"}],\"bar\":[{\"error_x\":{\"color\":\"#2a3f5f\"},\"error_y\":{\"color\":\"#2a3f5f\"},\"marker\":{\"line\":{\"color\":\"#E5ECF6\",\"width\":0.5},\"pattern\":{\"fillmode\":\"overlay\",\"size\":10,\"solidity\":0.2}},\"type\":\"bar\"}],\"carpet\":[{\"aaxis\":{\"endlinecolor\":\"#2a3f5f\",\"gridcolor\":\"white\",\"linecolor\":\"white\",\"minorgridcolor\":\"white\",\"startlinecolor\":\"#2a3f5f\"},\"baxis\":{\"endlinecolor\":\"#2a3f5f\",\"gridcolor\":\"white\",\"linecolor\":\"white\",\"minorgridcolor\":\"white\",\"startlinecolor\":\"#2a3f5f\"},\"type\":\"carpet\"}],\"choropleth\":[{\"colorbar\":{\"outlinewidth\":0,\"ticks\":\"\"},\"type\":\"choropleth\"}],\"contourcarpet\":[{\"colorbar\":{\"outlinewidth\":0,\"ticks\":\"\"},\"type\":\"contourcarpet\"}],\"contour\":[{\"colorbar\":{\"outlinewidth\":0,\"ticks\":\"\"},\"colorscale\":[[0.0,\"#0d0887\"],[0.1111111111111111,\"#46039f\"],[0.2222222222222222,\"#7201a8\"],[0.3333333333333333,\"#9c179e\"],[0.4444444444444444,\"#bd3786\"],[0.5555555555555556,\"#d8576b\"],[0.6666666666666666,\"#ed7953\"],[0.7777777777777778,\"#fb9f3a\"],[0.8888888888888888,\"#fdca26\"],[1.0,\"#f0f921\"]],\"type\":\"contour\"}],\"heatmapgl\":[{\"colorbar\":{\"outlinewidth\":0,\"ticks\":\"\"},\"colorscale\":[[0.0,\"#0d0887\"],[0.1111111111111111,\"#46039f\"],[0.2222222222222222,\"#7201a8\"],[0.3333333333333333,\"#9c179e\"],[0.4444444444444444,\"#bd3786\"],[0.5555555555555556,\"#d8576b\"],[0.6666666666666666,\"#ed7953\"],[0.7777777777777778,\"#fb9f3a\"],[0.8888888888888888,\"#fdca26\"],[1.0,\"#f0f921\"]],\"type\":\"heatmapgl\"}],\"heatmap\":[{\"colorbar\":{\"outlinewidth\":0,\"ticks\":\"\"},\"colorscale\":[[0.0,\"#0d0887\"],[0.1111111111111111,\"#46039f\"],[0.2222222222222222,\"#7201a8\"],[0.3333333333333333,\"#9c179e\"],[0.4444444444444444,\"#bd3786\"],[0.5555555555555556,\"#d8576b\"],[0.6666666666666666,\"#ed7953\"],[0.7777777777777778,\"#fb9f3a\"],[0.8888888888888888,\"#fdca26\"],[1.0,\"#f0f921\"]],\"type\":\"heatmap\"}],\"histogram2dcontour\":[{\"colorbar\":{\"outlinewidth\":0,\"ticks\":\"\"},\"colorscale\":[[0.0,\"#0d0887\"],[0.1111111111111111,\"#46039f\"],[0.2222222222222222,\"#7201a8\"],[0.3333333333333333,\"#9c179e\"],[0.4444444444444444,\"#bd3786\"],[0.5555555555555556,\"#d8576b\"],[0.6666666666666666,\"#ed7953\"],[0.7777777777777778,\"#fb9f3a\"],[0.8888888888888888,\"#fdca26\"],[1.0,\"#f0f921\"]],\"type\":\"histogram2dcontour\"}],\"histogram2d\":[{\"colorbar\":{\"outlinewidth\":0,\"ticks\":\"\"},\"colorscale\":[[0.0,\"#0d0887\"],[0.1111111111111111,\"#46039f\"],[0.2222222222222222,\"#7201a8\"],[0.3333333333333333,\"#9c179e\"],[0.4444444444444444,\"#bd3786\"],[0.5555555555555556,\"#d8576b\"],[0.6666666666666666,\"#ed7953\"],[0.7777777777777778,\"#fb9f3a\"],[0.8888888888888888,\"#fdca26\"],[1.0,\"#f0f921\"]],\"type\":\"histogram2d\"}],\"histogram\":[{\"marker\":{\"pattern\":{\"fillmode\":\"overlay\",\"size\":10,\"solidity\":0.2}},\"type\":\"histogram\"}],\"mesh3d\":[{\"colorbar\":{\"outlinewidth\":0,\"ticks\":\"\"},\"type\":\"mesh3d\"}],\"parcoords\":[{\"line\":{\"colorbar\":{\"outlinewidth\":0,\"ticks\":\"\"}},\"type\":\"parcoords\"}],\"pie\":[{\"automargin\":true,\"type\":\"pie\"}],\"scatter3d\":[{\"line\":{\"colorbar\":{\"outlinewidth\":0,\"ticks\":\"\"}},\"marker\":{\"colorbar\":{\"outlinewidth\":0,\"ticks\":\"\"}},\"type\":\"scatter3d\"}],\"scattercarpet\":[{\"marker\":{\"colorbar\":{\"outlinewidth\":0,\"ticks\":\"\"}},\"type\":\"scattercarpet\"}],\"scattergeo\":[{\"marker\":{\"colorbar\":{\"outlinewidth\":0,\"ticks\":\"\"}},\"type\":\"scattergeo\"}],\"scattergl\":[{\"marker\":{\"colorbar\":{\"outlinewidth\":0,\"ticks\":\"\"}},\"type\":\"scattergl\"}],\"scattermapbox\":[{\"marker\":{\"colorbar\":{\"outlinewidth\":0,\"ticks\":\"\"}},\"type\":\"scattermapbox\"}],\"scatterpolargl\":[{\"marker\":{\"colorbar\":{\"outlinewidth\":0,\"ticks\":\"\"}},\"type\":\"scatterpolargl\"}],\"scatterpolar\":[{\"marker\":{\"colorbar\":{\"outlinewidth\":0,\"ticks\":\"\"}},\"type\":\"scatterpolar\"}],\"scatter\":[{\"fillpattern\":{\"fillmode\":\"overlay\",\"size\":10,\"solidity\":0.2},\"type\":\"scatter\"}],\"scatterternary\":[{\"marker\":{\"colorbar\":{\"outlinewidth\":0,\"ticks\":\"\"}},\"type\":\"scatterternary\"}],\"surface\":[{\"colorbar\":{\"outlinewidth\":0,\"ticks\":\"\"},\"colorscale\":[[0.0,\"#0d0887\"],[0.1111111111111111,\"#46039f\"],[0.2222222222222222,\"#7201a8\"],[0.3333333333333333,\"#9c179e\"],[0.4444444444444444,\"#bd3786\"],[0.5555555555555556,\"#d8576b\"],[0.6666666666666666,\"#ed7953\"],[0.7777777777777778,\"#fb9f3a\"],[0.8888888888888888,\"#fdca26\"],[1.0,\"#f0f921\"]],\"type\":\"surface\"}],\"table\":[{\"cells\":{\"fill\":{\"color\":\"#EBF0F8\"},\"line\":{\"color\":\"white\"}},\"header\":{\"fill\":{\"color\":\"#C8D4E3\"},\"line\":{\"color\":\"white\"}},\"type\":\"table\"}]},\"layout\":{\"annotationdefaults\":{\"arrowcolor\":\"#2a3f5f\",\"arrowhead\":0,\"arrowwidth\":1},\"autotypenumbers\":\"strict\",\"coloraxis\":{\"colorbar\":{\"outlinewidth\":0,\"ticks\":\"\"}},\"colorscale\":{\"diverging\":[[0,\"#8e0152\"],[0.1,\"#c51b7d\"],[0.2,\"#de77ae\"],[0.3,\"#f1b6da\"],[0.4,\"#fde0ef\"],[0.5,\"#f7f7f7\"],[0.6,\"#e6f5d0\"],[0.7,\"#b8e186\"],[0.8,\"#7fbc41\"],[0.9,\"#4d9221\"],[1,\"#276419\"]],\"sequential\":[[0.0,\"#0d0887\"],[0.1111111111111111,\"#46039f\"],[0.2222222222222222,\"#7201a8\"],[0.3333333333333333,\"#9c179e\"],[0.4444444444444444,\"#bd3786\"],[0.5555555555555556,\"#d8576b\"],[0.6666666666666666,\"#ed7953\"],[0.7777777777777778,\"#fb9f3a\"],[0.8888888888888888,\"#fdca26\"],[1.0,\"#f0f921\"]],\"sequentialminus\":[[0.0,\"#0d0887\"],[0.1111111111111111,\"#46039f\"],[0.2222222222222222,\"#7201a8\"],[0.3333333333333333,\"#9c179e\"],[0.4444444444444444,\"#bd3786\"],[0.5555555555555556,\"#d8576b\"],[0.6666666666666666,\"#ed7953\"],[0.7777777777777778,\"#fb9f3a\"],[0.8888888888888888,\"#fdca26\"],[1.0,\"#f0f921\"]]},\"colorway\":[\"#636efa\",\"#EF553B\",\"#00cc96\",\"#ab63fa\",\"#FFA15A\",\"#19d3f3\",\"#FF6692\",\"#B6E880\",\"#FF97FF\",\"#FECB52\"],\"font\":{\"color\":\"#2a3f5f\"},\"geo\":{\"bgcolor\":\"white\",\"lakecolor\":\"white\",\"landcolor\":\"#E5ECF6\",\"showlakes\":true,\"showland\":true,\"subunitcolor\":\"white\"},\"hoverlabel\":{\"align\":\"left\"},\"hovermode\":\"closest\",\"mapbox\":{\"style\":\"light\"},\"paper_bgcolor\":\"white\",\"plot_bgcolor\":\"#E5ECF6\",\"polar\":{\"angularaxis\":{\"gridcolor\":\"white\",\"linecolor\":\"white\",\"ticks\":\"\"},\"bgcolor\":\"#E5ECF6\",\"radialaxis\":{\"gridcolor\":\"white\",\"linecolor\":\"white\",\"ticks\":\"\"}},\"scene\":{\"xaxis\":{\"backgroundcolor\":\"#E5ECF6\",\"gridcolor\":\"white\",\"gridwidth\":2,\"linecolor\":\"white\",\"showbackground\":true,\"ticks\":\"\",\"zerolinecolor\":\"white\"},\"yaxis\":{\"backgroundcolor\":\"#E5ECF6\",\"gridcolor\":\"white\",\"gridwidth\":2,\"linecolor\":\"white\",\"showbackground\":true,\"ticks\":\"\",\"zerolinecolor\":\"white\"},\"zaxis\":{\"backgroundcolor\":\"#E5ECF6\",\"gridcolor\":\"white\",\"gridwidth\":2,\"linecolor\":\"white\",\"showbackground\":true,\"ticks\":\"\",\"zerolinecolor\":\"white\"}},\"shapedefaults\":{\"line\":{\"color\":\"#2a3f5f\"}},\"ternary\":{\"aaxis\":{\"gridcolor\":\"white\",\"linecolor\":\"white\",\"ticks\":\"\"},\"baxis\":{\"gridcolor\":\"white\",\"linecolor\":\"white\",\"ticks\":\"\"},\"bgcolor\":\"#E5ECF6\",\"caxis\":{\"gridcolor\":\"white\",\"linecolor\":\"white\",\"ticks\":\"\"}},\"title\":{\"x\":0.05},\"xaxis\":{\"automargin\":true,\"gridcolor\":\"white\",\"linecolor\":\"white\",\"ticks\":\"\",\"title\":{\"standoff\":15},\"zerolinecolor\":\"white\",\"zerolinewidth\":2},\"yaxis\":{\"automargin\":true,\"gridcolor\":\"white\",\"linecolor\":\"white\",\"ticks\":\"\",\"title\":{\"standoff\":15},\"zerolinecolor\":\"white\",\"zerolinewidth\":2}}},\"title\":{\"font\":{\"color\":\"#4D5663\"}},\"xaxis\":{\"gridcolor\":\"#E1E5ED\",\"showgrid\":true,\"tickfont\":{\"color\":\"#4D5663\"},\"title\":{\"font\":{\"color\":\"#4D5663\"},\"text\":\"\"},\"zerolinecolor\":\"#E1E5ED\"},\"yaxis\":{\"gridcolor\":\"#E1E5ED\",\"showgrid\":true,\"tickfont\":{\"color\":\"#4D5663\"},\"title\":{\"font\":{\"color\":\"#4D5663\"},\"text\":\"\"},\"zerolinecolor\":\"#E1E5ED\"}},                        {\"showLink\": true, \"linkText\": \"Export to plot.ly\", \"plotlyServerURL\": \"https://plot.ly\", \"responsive\": true}                    ).then(function(){\n",
       "                            \n",
       "var gd = document.getElementById('741ca0a4-0ba1-49e6-b00b-ccd7ea37826b');\n",
       "var x = new MutationObserver(function (mutations, observer) {{\n",
       "        var display = window.getComputedStyle(gd).display;\n",
       "        if (!display || display === 'none') {{\n",
       "            console.log([gd, 'removed!']);\n",
       "            Plotly.purge(gd);\n",
       "            observer.disconnect();\n",
       "        }}\n",
       "}});\n",
       "\n",
       "// Listen for the removal of the full notebook cells\n",
       "var notebookContainer = gd.closest('#notebook-container');\n",
       "if (notebookContainer) {{\n",
       "    x.observe(notebookContainer, {childList: true});\n",
       "}}\n",
       "\n",
       "// Listen for the clearing of the current output cell\n",
       "var outputEl = gd.closest('.output');\n",
       "if (outputEl) {{\n",
       "    x.observe(outputEl, {childList: true});\n",
       "}}\n",
       "\n",
       "                        })                };                });            </script>        </div>"
      ]
     },
     "metadata": {},
     "output_type": "display_data"
    }
   ],
   "source": [
    "df2.iplot(kind='bar', x='Category', y='Values')"
   ]
  },
  {
   "cell_type": "code",
   "execution_count": 44,
   "id": "c2c7186a",
   "metadata": {
    "ExecuteTime": {
     "end_time": "2023-03-23T11:56:04.486262Z",
     "start_time": "2023-03-23T11:56:04.470381Z"
    }
   },
   "outputs": [
    {
     "data": {
      "text/html": [
       "<div>\n",
       "<style scoped>\n",
       "    .dataframe tbody tr th:only-of-type {\n",
       "        vertical-align: middle;\n",
       "    }\n",
       "\n",
       "    .dataframe tbody tr th {\n",
       "        vertical-align: top;\n",
       "    }\n",
       "\n",
       "    .dataframe thead th {\n",
       "        text-align: right;\n",
       "    }\n",
       "</style>\n",
       "<table border=\"1\" class=\"dataframe\">\n",
       "  <thead>\n",
       "    <tr style=\"text-align: right;\">\n",
       "      <th></th>\n",
       "      <th>A</th>\n",
       "      <th>B</th>\n",
       "      <th>C</th>\n",
       "      <th>D</th>\n",
       "    </tr>\n",
       "  </thead>\n",
       "  <tbody>\n",
       "    <tr>\n",
       "      <th>0</th>\n",
       "      <td>0.427830</td>\n",
       "      <td>0.483060</td>\n",
       "      <td>-0.242065</td>\n",
       "      <td>-1.713339</td>\n",
       "    </tr>\n",
       "    <tr>\n",
       "      <th>1</th>\n",
       "      <td>-0.179603</td>\n",
       "      <td>0.009058</td>\n",
       "      <td>-1.263153</td>\n",
       "      <td>-1.293295</td>\n",
       "    </tr>\n",
       "    <tr>\n",
       "      <th>2</th>\n",
       "      <td>1.016404</td>\n",
       "      <td>-0.101159</td>\n",
       "      <td>0.459407</td>\n",
       "      <td>0.144418</td>\n",
       "    </tr>\n",
       "    <tr>\n",
       "      <th>3</th>\n",
       "      <td>-0.712279</td>\n",
       "      <td>1.299365</td>\n",
       "      <td>0.600772</td>\n",
       "      <td>-0.464273</td>\n",
       "    </tr>\n",
       "    <tr>\n",
       "      <th>4</th>\n",
       "      <td>-0.647016</td>\n",
       "      <td>-0.917631</td>\n",
       "      <td>-0.926563</td>\n",
       "      <td>-1.364605</td>\n",
       "    </tr>\n",
       "    <tr>\n",
       "      <th>...</th>\n",
       "      <td>...</td>\n",
       "      <td>...</td>\n",
       "      <td>...</td>\n",
       "      <td>...</td>\n",
       "    </tr>\n",
       "    <tr>\n",
       "      <th>95</th>\n",
       "      <td>0.164674</td>\n",
       "      <td>-0.121449</td>\n",
       "      <td>-0.799257</td>\n",
       "      <td>-0.075750</td>\n",
       "    </tr>\n",
       "    <tr>\n",
       "      <th>96</th>\n",
       "      <td>0.338416</td>\n",
       "      <td>-0.187753</td>\n",
       "      <td>-2.074657</td>\n",
       "      <td>1.961825</td>\n",
       "    </tr>\n",
       "    <tr>\n",
       "      <th>97</th>\n",
       "      <td>0.545155</td>\n",
       "      <td>1.439217</td>\n",
       "      <td>0.309440</td>\n",
       "      <td>1.299537</td>\n",
       "    </tr>\n",
       "    <tr>\n",
       "      <th>98</th>\n",
       "      <td>0.565600</td>\n",
       "      <td>-0.288284</td>\n",
       "      <td>0.978252</td>\n",
       "      <td>-1.123505</td>\n",
       "    </tr>\n",
       "    <tr>\n",
       "      <th>99</th>\n",
       "      <td>0.734194</td>\n",
       "      <td>0.364549</td>\n",
       "      <td>-0.177316</td>\n",
       "      <td>0.522187</td>\n",
       "    </tr>\n",
       "  </tbody>\n",
       "</table>\n",
       "<p>100 rows × 4 columns</p>\n",
       "</div>"
      ],
      "text/plain": [
       "           A         B         C         D\n",
       "0   0.427830  0.483060 -0.242065 -1.713339\n",
       "1  -0.179603  0.009058 -1.263153 -1.293295\n",
       "2   1.016404 -0.101159  0.459407  0.144418\n",
       "3  -0.712279  1.299365  0.600772 -0.464273\n",
       "4  -0.647016 -0.917631 -0.926563 -1.364605\n",
       "..       ...       ...       ...       ...\n",
       "95  0.164674 -0.121449 -0.799257 -0.075750\n",
       "96  0.338416 -0.187753 -2.074657  1.961825\n",
       "97  0.545155  1.439217  0.309440  1.299537\n",
       "98  0.565600 -0.288284  0.978252 -1.123505\n",
       "99  0.734194  0.364549 -0.177316  0.522187\n",
       "\n",
       "[100 rows x 4 columns]"
      ]
     },
     "execution_count": 44,
     "metadata": {},
     "output_type": "execute_result"
    }
   ],
   "source": [
    "df"
   ]
  },
  {
   "cell_type": "code",
   "execution_count": 45,
   "id": "00e9bbd4",
   "metadata": {
    "ExecuteTime": {
     "end_time": "2023-03-23T11:57:09.526260Z",
     "start_time": "2023-03-23T11:57:09.479208Z"
    }
   },
   "outputs": [
    {
     "data": {
      "application/vnd.plotly.v1+json": {
       "config": {
        "linkText": "Export to plot.ly",
        "plotlyServerURL": "https://plot.ly",
        "showLink": true
       },
       "data": [
        {
         "marker": {
          "color": "rgba(255, 153, 51, 0.6)",
          "line": {
           "color": "rgba(255, 153, 51, 1.0)",
           "width": 1
          }
         },
         "name": "None",
         "orientation": "v",
         "text": "",
         "type": "bar",
         "x": [
          "A",
          "B",
          "C",
          "D"
         ],
         "y": [
          -4.340580921481537,
          0.5068047403255377,
          6.443667815397829,
          -7.559955797066019
         ]
        }
       ],
       "layout": {
        "legend": {
         "bgcolor": "#F5F6F9",
         "font": {
          "color": "#4D5663"
         }
        },
        "paper_bgcolor": "#F5F6F9",
        "plot_bgcolor": "#F5F6F9",
        "template": {
         "data": {
          "bar": [
           {
            "error_x": {
             "color": "#2a3f5f"
            },
            "error_y": {
             "color": "#2a3f5f"
            },
            "marker": {
             "line": {
              "color": "#E5ECF6",
              "width": 0.5
             },
             "pattern": {
              "fillmode": "overlay",
              "size": 10,
              "solidity": 0.2
             }
            },
            "type": "bar"
           }
          ],
          "barpolar": [
           {
            "marker": {
             "line": {
              "color": "#E5ECF6",
              "width": 0.5
             },
             "pattern": {
              "fillmode": "overlay",
              "size": 10,
              "solidity": 0.2
             }
            },
            "type": "barpolar"
           }
          ],
          "carpet": [
           {
            "aaxis": {
             "endlinecolor": "#2a3f5f",
             "gridcolor": "white",
             "linecolor": "white",
             "minorgridcolor": "white",
             "startlinecolor": "#2a3f5f"
            },
            "baxis": {
             "endlinecolor": "#2a3f5f",
             "gridcolor": "white",
             "linecolor": "white",
             "minorgridcolor": "white",
             "startlinecolor": "#2a3f5f"
            },
            "type": "carpet"
           }
          ],
          "choropleth": [
           {
            "colorbar": {
             "outlinewidth": 0,
             "ticks": ""
            },
            "type": "choropleth"
           }
          ],
          "contour": [
           {
            "colorbar": {
             "outlinewidth": 0,
             "ticks": ""
            },
            "colorscale": [
             [
              0,
              "#0d0887"
             ],
             [
              0.1111111111111111,
              "#46039f"
             ],
             [
              0.2222222222222222,
              "#7201a8"
             ],
             [
              0.3333333333333333,
              "#9c179e"
             ],
             [
              0.4444444444444444,
              "#bd3786"
             ],
             [
              0.5555555555555556,
              "#d8576b"
             ],
             [
              0.6666666666666666,
              "#ed7953"
             ],
             [
              0.7777777777777778,
              "#fb9f3a"
             ],
             [
              0.8888888888888888,
              "#fdca26"
             ],
             [
              1,
              "#f0f921"
             ]
            ],
            "type": "contour"
           }
          ],
          "contourcarpet": [
           {
            "colorbar": {
             "outlinewidth": 0,
             "ticks": ""
            },
            "type": "contourcarpet"
           }
          ],
          "heatmap": [
           {
            "colorbar": {
             "outlinewidth": 0,
             "ticks": ""
            },
            "colorscale": [
             [
              0,
              "#0d0887"
             ],
             [
              0.1111111111111111,
              "#46039f"
             ],
             [
              0.2222222222222222,
              "#7201a8"
             ],
             [
              0.3333333333333333,
              "#9c179e"
             ],
             [
              0.4444444444444444,
              "#bd3786"
             ],
             [
              0.5555555555555556,
              "#d8576b"
             ],
             [
              0.6666666666666666,
              "#ed7953"
             ],
             [
              0.7777777777777778,
              "#fb9f3a"
             ],
             [
              0.8888888888888888,
              "#fdca26"
             ],
             [
              1,
              "#f0f921"
             ]
            ],
            "type": "heatmap"
           }
          ],
          "heatmapgl": [
           {
            "colorbar": {
             "outlinewidth": 0,
             "ticks": ""
            },
            "colorscale": [
             [
              0,
              "#0d0887"
             ],
             [
              0.1111111111111111,
              "#46039f"
             ],
             [
              0.2222222222222222,
              "#7201a8"
             ],
             [
              0.3333333333333333,
              "#9c179e"
             ],
             [
              0.4444444444444444,
              "#bd3786"
             ],
             [
              0.5555555555555556,
              "#d8576b"
             ],
             [
              0.6666666666666666,
              "#ed7953"
             ],
             [
              0.7777777777777778,
              "#fb9f3a"
             ],
             [
              0.8888888888888888,
              "#fdca26"
             ],
             [
              1,
              "#f0f921"
             ]
            ],
            "type": "heatmapgl"
           }
          ],
          "histogram": [
           {
            "marker": {
             "pattern": {
              "fillmode": "overlay",
              "size": 10,
              "solidity": 0.2
             }
            },
            "type": "histogram"
           }
          ],
          "histogram2d": [
           {
            "colorbar": {
             "outlinewidth": 0,
             "ticks": ""
            },
            "colorscale": [
             [
              0,
              "#0d0887"
             ],
             [
              0.1111111111111111,
              "#46039f"
             ],
             [
              0.2222222222222222,
              "#7201a8"
             ],
             [
              0.3333333333333333,
              "#9c179e"
             ],
             [
              0.4444444444444444,
              "#bd3786"
             ],
             [
              0.5555555555555556,
              "#d8576b"
             ],
             [
              0.6666666666666666,
              "#ed7953"
             ],
             [
              0.7777777777777778,
              "#fb9f3a"
             ],
             [
              0.8888888888888888,
              "#fdca26"
             ],
             [
              1,
              "#f0f921"
             ]
            ],
            "type": "histogram2d"
           }
          ],
          "histogram2dcontour": [
           {
            "colorbar": {
             "outlinewidth": 0,
             "ticks": ""
            },
            "colorscale": [
             [
              0,
              "#0d0887"
             ],
             [
              0.1111111111111111,
              "#46039f"
             ],
             [
              0.2222222222222222,
              "#7201a8"
             ],
             [
              0.3333333333333333,
              "#9c179e"
             ],
             [
              0.4444444444444444,
              "#bd3786"
             ],
             [
              0.5555555555555556,
              "#d8576b"
             ],
             [
              0.6666666666666666,
              "#ed7953"
             ],
             [
              0.7777777777777778,
              "#fb9f3a"
             ],
             [
              0.8888888888888888,
              "#fdca26"
             ],
             [
              1,
              "#f0f921"
             ]
            ],
            "type": "histogram2dcontour"
           }
          ],
          "mesh3d": [
           {
            "colorbar": {
             "outlinewidth": 0,
             "ticks": ""
            },
            "type": "mesh3d"
           }
          ],
          "parcoords": [
           {
            "line": {
             "colorbar": {
              "outlinewidth": 0,
              "ticks": ""
             }
            },
            "type": "parcoords"
           }
          ],
          "pie": [
           {
            "automargin": true,
            "type": "pie"
           }
          ],
          "scatter": [
           {
            "fillpattern": {
             "fillmode": "overlay",
             "size": 10,
             "solidity": 0.2
            },
            "type": "scatter"
           }
          ],
          "scatter3d": [
           {
            "line": {
             "colorbar": {
              "outlinewidth": 0,
              "ticks": ""
             }
            },
            "marker": {
             "colorbar": {
              "outlinewidth": 0,
              "ticks": ""
             }
            },
            "type": "scatter3d"
           }
          ],
          "scattercarpet": [
           {
            "marker": {
             "colorbar": {
              "outlinewidth": 0,
              "ticks": ""
             }
            },
            "type": "scattercarpet"
           }
          ],
          "scattergeo": [
           {
            "marker": {
             "colorbar": {
              "outlinewidth": 0,
              "ticks": ""
             }
            },
            "type": "scattergeo"
           }
          ],
          "scattergl": [
           {
            "marker": {
             "colorbar": {
              "outlinewidth": 0,
              "ticks": ""
             }
            },
            "type": "scattergl"
           }
          ],
          "scattermapbox": [
           {
            "marker": {
             "colorbar": {
              "outlinewidth": 0,
              "ticks": ""
             }
            },
            "type": "scattermapbox"
           }
          ],
          "scatterpolar": [
           {
            "marker": {
             "colorbar": {
              "outlinewidth": 0,
              "ticks": ""
             }
            },
            "type": "scatterpolar"
           }
          ],
          "scatterpolargl": [
           {
            "marker": {
             "colorbar": {
              "outlinewidth": 0,
              "ticks": ""
             }
            },
            "type": "scatterpolargl"
           }
          ],
          "scatterternary": [
           {
            "marker": {
             "colorbar": {
              "outlinewidth": 0,
              "ticks": ""
             }
            },
            "type": "scatterternary"
           }
          ],
          "surface": [
           {
            "colorbar": {
             "outlinewidth": 0,
             "ticks": ""
            },
            "colorscale": [
             [
              0,
              "#0d0887"
             ],
             [
              0.1111111111111111,
              "#46039f"
             ],
             [
              0.2222222222222222,
              "#7201a8"
             ],
             [
              0.3333333333333333,
              "#9c179e"
             ],
             [
              0.4444444444444444,
              "#bd3786"
             ],
             [
              0.5555555555555556,
              "#d8576b"
             ],
             [
              0.6666666666666666,
              "#ed7953"
             ],
             [
              0.7777777777777778,
              "#fb9f3a"
             ],
             [
              0.8888888888888888,
              "#fdca26"
             ],
             [
              1,
              "#f0f921"
             ]
            ],
            "type": "surface"
           }
          ],
          "table": [
           {
            "cells": {
             "fill": {
              "color": "#EBF0F8"
             },
             "line": {
              "color": "white"
             }
            },
            "header": {
             "fill": {
              "color": "#C8D4E3"
             },
             "line": {
              "color": "white"
             }
            },
            "type": "table"
           }
          ]
         },
         "layout": {
          "annotationdefaults": {
           "arrowcolor": "#2a3f5f",
           "arrowhead": 0,
           "arrowwidth": 1
          },
          "autotypenumbers": "strict",
          "coloraxis": {
           "colorbar": {
            "outlinewidth": 0,
            "ticks": ""
           }
          },
          "colorscale": {
           "diverging": [
            [
             0,
             "#8e0152"
            ],
            [
             0.1,
             "#c51b7d"
            ],
            [
             0.2,
             "#de77ae"
            ],
            [
             0.3,
             "#f1b6da"
            ],
            [
             0.4,
             "#fde0ef"
            ],
            [
             0.5,
             "#f7f7f7"
            ],
            [
             0.6,
             "#e6f5d0"
            ],
            [
             0.7,
             "#b8e186"
            ],
            [
             0.8,
             "#7fbc41"
            ],
            [
             0.9,
             "#4d9221"
            ],
            [
             1,
             "#276419"
            ]
           ],
           "sequential": [
            [
             0,
             "#0d0887"
            ],
            [
             0.1111111111111111,
             "#46039f"
            ],
            [
             0.2222222222222222,
             "#7201a8"
            ],
            [
             0.3333333333333333,
             "#9c179e"
            ],
            [
             0.4444444444444444,
             "#bd3786"
            ],
            [
             0.5555555555555556,
             "#d8576b"
            ],
            [
             0.6666666666666666,
             "#ed7953"
            ],
            [
             0.7777777777777778,
             "#fb9f3a"
            ],
            [
             0.8888888888888888,
             "#fdca26"
            ],
            [
             1,
             "#f0f921"
            ]
           ],
           "sequentialminus": [
            [
             0,
             "#0d0887"
            ],
            [
             0.1111111111111111,
             "#46039f"
            ],
            [
             0.2222222222222222,
             "#7201a8"
            ],
            [
             0.3333333333333333,
             "#9c179e"
            ],
            [
             0.4444444444444444,
             "#bd3786"
            ],
            [
             0.5555555555555556,
             "#d8576b"
            ],
            [
             0.6666666666666666,
             "#ed7953"
            ],
            [
             0.7777777777777778,
             "#fb9f3a"
            ],
            [
             0.8888888888888888,
             "#fdca26"
            ],
            [
             1,
             "#f0f921"
            ]
           ]
          },
          "colorway": [
           "#636efa",
           "#EF553B",
           "#00cc96",
           "#ab63fa",
           "#FFA15A",
           "#19d3f3",
           "#FF6692",
           "#B6E880",
           "#FF97FF",
           "#FECB52"
          ],
          "font": {
           "color": "#2a3f5f"
          },
          "geo": {
           "bgcolor": "white",
           "lakecolor": "white",
           "landcolor": "#E5ECF6",
           "showlakes": true,
           "showland": true,
           "subunitcolor": "white"
          },
          "hoverlabel": {
           "align": "left"
          },
          "hovermode": "closest",
          "mapbox": {
           "style": "light"
          },
          "paper_bgcolor": "white",
          "plot_bgcolor": "#E5ECF6",
          "polar": {
           "angularaxis": {
            "gridcolor": "white",
            "linecolor": "white",
            "ticks": ""
           },
           "bgcolor": "#E5ECF6",
           "radialaxis": {
            "gridcolor": "white",
            "linecolor": "white",
            "ticks": ""
           }
          },
          "scene": {
           "xaxis": {
            "backgroundcolor": "#E5ECF6",
            "gridcolor": "white",
            "gridwidth": 2,
            "linecolor": "white",
            "showbackground": true,
            "ticks": "",
            "zerolinecolor": "white"
           },
           "yaxis": {
            "backgroundcolor": "#E5ECF6",
            "gridcolor": "white",
            "gridwidth": 2,
            "linecolor": "white",
            "showbackground": true,
            "ticks": "",
            "zerolinecolor": "white"
           },
           "zaxis": {
            "backgroundcolor": "#E5ECF6",
            "gridcolor": "white",
            "gridwidth": 2,
            "linecolor": "white",
            "showbackground": true,
            "ticks": "",
            "zerolinecolor": "white"
           }
          },
          "shapedefaults": {
           "line": {
            "color": "#2a3f5f"
           }
          },
          "ternary": {
           "aaxis": {
            "gridcolor": "white",
            "linecolor": "white",
            "ticks": ""
           },
           "baxis": {
            "gridcolor": "white",
            "linecolor": "white",
            "ticks": ""
           },
           "bgcolor": "#E5ECF6",
           "caxis": {
            "gridcolor": "white",
            "linecolor": "white",
            "ticks": ""
           }
          },
          "title": {
           "x": 0.05
          },
          "xaxis": {
           "automargin": true,
           "gridcolor": "white",
           "linecolor": "white",
           "ticks": "",
           "title": {
            "standoff": 15
           },
           "zerolinecolor": "white",
           "zerolinewidth": 2
          },
          "yaxis": {
           "automargin": true,
           "gridcolor": "white",
           "linecolor": "white",
           "ticks": "",
           "title": {
            "standoff": 15
           },
           "zerolinecolor": "white",
           "zerolinewidth": 2
          }
         }
        },
        "title": {
         "font": {
          "color": "#4D5663"
         }
        },
        "xaxis": {
         "gridcolor": "#E1E5ED",
         "showgrid": true,
         "tickfont": {
          "color": "#4D5663"
         },
         "title": {
          "font": {
           "color": "#4D5663"
          },
          "text": ""
         },
         "zerolinecolor": "#E1E5ED"
        },
        "yaxis": {
         "gridcolor": "#E1E5ED",
         "showgrid": true,
         "tickfont": {
          "color": "#4D5663"
         },
         "title": {
          "font": {
           "color": "#4D5663"
          },
          "text": ""
         },
         "zerolinecolor": "#E1E5ED"
        }
       }
      },
      "text/html": [
       "<div>                            <div id=\"99da1d9f-d590-4aac-816a-c960f93133e0\" class=\"plotly-graph-div\" style=\"height:525px; width:100%;\"></div>            <script type=\"text/javascript\">                require([\"plotly\"], function(Plotly) {                    window.PLOTLYENV=window.PLOTLYENV || {};\n",
       "                    window.PLOTLYENV.BASE_URL='https://plot.ly';                                    if (document.getElementById(\"99da1d9f-d590-4aac-816a-c960f93133e0\")) {                    Plotly.newPlot(                        \"99da1d9f-d590-4aac-816a-c960f93133e0\",                        [{\"marker\":{\"color\":\"rgba(255, 153, 51, 0.6)\",\"line\":{\"color\":\"rgba(255, 153, 51, 1.0)\",\"width\":1}},\"name\":\"None\",\"orientation\":\"v\",\"text\":\"\",\"x\":[\"A\",\"B\",\"C\",\"D\"],\"y\":[-4.340580921481537,0.5068047403255377,6.443667815397829,-7.559955797066019],\"type\":\"bar\"}],                        {\"legend\":{\"bgcolor\":\"#F5F6F9\",\"font\":{\"color\":\"#4D5663\"}},\"paper_bgcolor\":\"#F5F6F9\",\"plot_bgcolor\":\"#F5F6F9\",\"template\":{\"data\":{\"barpolar\":[{\"marker\":{\"line\":{\"color\":\"#E5ECF6\",\"width\":0.5},\"pattern\":{\"fillmode\":\"overlay\",\"size\":10,\"solidity\":0.2}},\"type\":\"barpolar\"}],\"bar\":[{\"error_x\":{\"color\":\"#2a3f5f\"},\"error_y\":{\"color\":\"#2a3f5f\"},\"marker\":{\"line\":{\"color\":\"#E5ECF6\",\"width\":0.5},\"pattern\":{\"fillmode\":\"overlay\",\"size\":10,\"solidity\":0.2}},\"type\":\"bar\"}],\"carpet\":[{\"aaxis\":{\"endlinecolor\":\"#2a3f5f\",\"gridcolor\":\"white\",\"linecolor\":\"white\",\"minorgridcolor\":\"white\",\"startlinecolor\":\"#2a3f5f\"},\"baxis\":{\"endlinecolor\":\"#2a3f5f\",\"gridcolor\":\"white\",\"linecolor\":\"white\",\"minorgridcolor\":\"white\",\"startlinecolor\":\"#2a3f5f\"},\"type\":\"carpet\"}],\"choropleth\":[{\"colorbar\":{\"outlinewidth\":0,\"ticks\":\"\"},\"type\":\"choropleth\"}],\"contourcarpet\":[{\"colorbar\":{\"outlinewidth\":0,\"ticks\":\"\"},\"type\":\"contourcarpet\"}],\"contour\":[{\"colorbar\":{\"outlinewidth\":0,\"ticks\":\"\"},\"colorscale\":[[0.0,\"#0d0887\"],[0.1111111111111111,\"#46039f\"],[0.2222222222222222,\"#7201a8\"],[0.3333333333333333,\"#9c179e\"],[0.4444444444444444,\"#bd3786\"],[0.5555555555555556,\"#d8576b\"],[0.6666666666666666,\"#ed7953\"],[0.7777777777777778,\"#fb9f3a\"],[0.8888888888888888,\"#fdca26\"],[1.0,\"#f0f921\"]],\"type\":\"contour\"}],\"heatmapgl\":[{\"colorbar\":{\"outlinewidth\":0,\"ticks\":\"\"},\"colorscale\":[[0.0,\"#0d0887\"],[0.1111111111111111,\"#46039f\"],[0.2222222222222222,\"#7201a8\"],[0.3333333333333333,\"#9c179e\"],[0.4444444444444444,\"#bd3786\"],[0.5555555555555556,\"#d8576b\"],[0.6666666666666666,\"#ed7953\"],[0.7777777777777778,\"#fb9f3a\"],[0.8888888888888888,\"#fdca26\"],[1.0,\"#f0f921\"]],\"type\":\"heatmapgl\"}],\"heatmap\":[{\"colorbar\":{\"outlinewidth\":0,\"ticks\":\"\"},\"colorscale\":[[0.0,\"#0d0887\"],[0.1111111111111111,\"#46039f\"],[0.2222222222222222,\"#7201a8\"],[0.3333333333333333,\"#9c179e\"],[0.4444444444444444,\"#bd3786\"],[0.5555555555555556,\"#d8576b\"],[0.6666666666666666,\"#ed7953\"],[0.7777777777777778,\"#fb9f3a\"],[0.8888888888888888,\"#fdca26\"],[1.0,\"#f0f921\"]],\"type\":\"heatmap\"}],\"histogram2dcontour\":[{\"colorbar\":{\"outlinewidth\":0,\"ticks\":\"\"},\"colorscale\":[[0.0,\"#0d0887\"],[0.1111111111111111,\"#46039f\"],[0.2222222222222222,\"#7201a8\"],[0.3333333333333333,\"#9c179e\"],[0.4444444444444444,\"#bd3786\"],[0.5555555555555556,\"#d8576b\"],[0.6666666666666666,\"#ed7953\"],[0.7777777777777778,\"#fb9f3a\"],[0.8888888888888888,\"#fdca26\"],[1.0,\"#f0f921\"]],\"type\":\"histogram2dcontour\"}],\"histogram2d\":[{\"colorbar\":{\"outlinewidth\":0,\"ticks\":\"\"},\"colorscale\":[[0.0,\"#0d0887\"],[0.1111111111111111,\"#46039f\"],[0.2222222222222222,\"#7201a8\"],[0.3333333333333333,\"#9c179e\"],[0.4444444444444444,\"#bd3786\"],[0.5555555555555556,\"#d8576b\"],[0.6666666666666666,\"#ed7953\"],[0.7777777777777778,\"#fb9f3a\"],[0.8888888888888888,\"#fdca26\"],[1.0,\"#f0f921\"]],\"type\":\"histogram2d\"}],\"histogram\":[{\"marker\":{\"pattern\":{\"fillmode\":\"overlay\",\"size\":10,\"solidity\":0.2}},\"type\":\"histogram\"}],\"mesh3d\":[{\"colorbar\":{\"outlinewidth\":0,\"ticks\":\"\"},\"type\":\"mesh3d\"}],\"parcoords\":[{\"line\":{\"colorbar\":{\"outlinewidth\":0,\"ticks\":\"\"}},\"type\":\"parcoords\"}],\"pie\":[{\"automargin\":true,\"type\":\"pie\"}],\"scatter3d\":[{\"line\":{\"colorbar\":{\"outlinewidth\":0,\"ticks\":\"\"}},\"marker\":{\"colorbar\":{\"outlinewidth\":0,\"ticks\":\"\"}},\"type\":\"scatter3d\"}],\"scattercarpet\":[{\"marker\":{\"colorbar\":{\"outlinewidth\":0,\"ticks\":\"\"}},\"type\":\"scattercarpet\"}],\"scattergeo\":[{\"marker\":{\"colorbar\":{\"outlinewidth\":0,\"ticks\":\"\"}},\"type\":\"scattergeo\"}],\"scattergl\":[{\"marker\":{\"colorbar\":{\"outlinewidth\":0,\"ticks\":\"\"}},\"type\":\"scattergl\"}],\"scattermapbox\":[{\"marker\":{\"colorbar\":{\"outlinewidth\":0,\"ticks\":\"\"}},\"type\":\"scattermapbox\"}],\"scatterpolargl\":[{\"marker\":{\"colorbar\":{\"outlinewidth\":0,\"ticks\":\"\"}},\"type\":\"scatterpolargl\"}],\"scatterpolar\":[{\"marker\":{\"colorbar\":{\"outlinewidth\":0,\"ticks\":\"\"}},\"type\":\"scatterpolar\"}],\"scatter\":[{\"fillpattern\":{\"fillmode\":\"overlay\",\"size\":10,\"solidity\":0.2},\"type\":\"scatter\"}],\"scatterternary\":[{\"marker\":{\"colorbar\":{\"outlinewidth\":0,\"ticks\":\"\"}},\"type\":\"scatterternary\"}],\"surface\":[{\"colorbar\":{\"outlinewidth\":0,\"ticks\":\"\"},\"colorscale\":[[0.0,\"#0d0887\"],[0.1111111111111111,\"#46039f\"],[0.2222222222222222,\"#7201a8\"],[0.3333333333333333,\"#9c179e\"],[0.4444444444444444,\"#bd3786\"],[0.5555555555555556,\"#d8576b\"],[0.6666666666666666,\"#ed7953\"],[0.7777777777777778,\"#fb9f3a\"],[0.8888888888888888,\"#fdca26\"],[1.0,\"#f0f921\"]],\"type\":\"surface\"}],\"table\":[{\"cells\":{\"fill\":{\"color\":\"#EBF0F8\"},\"line\":{\"color\":\"white\"}},\"header\":{\"fill\":{\"color\":\"#C8D4E3\"},\"line\":{\"color\":\"white\"}},\"type\":\"table\"}]},\"layout\":{\"annotationdefaults\":{\"arrowcolor\":\"#2a3f5f\",\"arrowhead\":0,\"arrowwidth\":1},\"autotypenumbers\":\"strict\",\"coloraxis\":{\"colorbar\":{\"outlinewidth\":0,\"ticks\":\"\"}},\"colorscale\":{\"diverging\":[[0,\"#8e0152\"],[0.1,\"#c51b7d\"],[0.2,\"#de77ae\"],[0.3,\"#f1b6da\"],[0.4,\"#fde0ef\"],[0.5,\"#f7f7f7\"],[0.6,\"#e6f5d0\"],[0.7,\"#b8e186\"],[0.8,\"#7fbc41\"],[0.9,\"#4d9221\"],[1,\"#276419\"]],\"sequential\":[[0.0,\"#0d0887\"],[0.1111111111111111,\"#46039f\"],[0.2222222222222222,\"#7201a8\"],[0.3333333333333333,\"#9c179e\"],[0.4444444444444444,\"#bd3786\"],[0.5555555555555556,\"#d8576b\"],[0.6666666666666666,\"#ed7953\"],[0.7777777777777778,\"#fb9f3a\"],[0.8888888888888888,\"#fdca26\"],[1.0,\"#f0f921\"]],\"sequentialminus\":[[0.0,\"#0d0887\"],[0.1111111111111111,\"#46039f\"],[0.2222222222222222,\"#7201a8\"],[0.3333333333333333,\"#9c179e\"],[0.4444444444444444,\"#bd3786\"],[0.5555555555555556,\"#d8576b\"],[0.6666666666666666,\"#ed7953\"],[0.7777777777777778,\"#fb9f3a\"],[0.8888888888888888,\"#fdca26\"],[1.0,\"#f0f921\"]]},\"colorway\":[\"#636efa\",\"#EF553B\",\"#00cc96\",\"#ab63fa\",\"#FFA15A\",\"#19d3f3\",\"#FF6692\",\"#B6E880\",\"#FF97FF\",\"#FECB52\"],\"font\":{\"color\":\"#2a3f5f\"},\"geo\":{\"bgcolor\":\"white\",\"lakecolor\":\"white\",\"landcolor\":\"#E5ECF6\",\"showlakes\":true,\"showland\":true,\"subunitcolor\":\"white\"},\"hoverlabel\":{\"align\":\"left\"},\"hovermode\":\"closest\",\"mapbox\":{\"style\":\"light\"},\"paper_bgcolor\":\"white\",\"plot_bgcolor\":\"#E5ECF6\",\"polar\":{\"angularaxis\":{\"gridcolor\":\"white\",\"linecolor\":\"white\",\"ticks\":\"\"},\"bgcolor\":\"#E5ECF6\",\"radialaxis\":{\"gridcolor\":\"white\",\"linecolor\":\"white\",\"ticks\":\"\"}},\"scene\":{\"xaxis\":{\"backgroundcolor\":\"#E5ECF6\",\"gridcolor\":\"white\",\"gridwidth\":2,\"linecolor\":\"white\",\"showbackground\":true,\"ticks\":\"\",\"zerolinecolor\":\"white\"},\"yaxis\":{\"backgroundcolor\":\"#E5ECF6\",\"gridcolor\":\"white\",\"gridwidth\":2,\"linecolor\":\"white\",\"showbackground\":true,\"ticks\":\"\",\"zerolinecolor\":\"white\"},\"zaxis\":{\"backgroundcolor\":\"#E5ECF6\",\"gridcolor\":\"white\",\"gridwidth\":2,\"linecolor\":\"white\",\"showbackground\":true,\"ticks\":\"\",\"zerolinecolor\":\"white\"}},\"shapedefaults\":{\"line\":{\"color\":\"#2a3f5f\"}},\"ternary\":{\"aaxis\":{\"gridcolor\":\"white\",\"linecolor\":\"white\",\"ticks\":\"\"},\"baxis\":{\"gridcolor\":\"white\",\"linecolor\":\"white\",\"ticks\":\"\"},\"bgcolor\":\"#E5ECF6\",\"caxis\":{\"gridcolor\":\"white\",\"linecolor\":\"white\",\"ticks\":\"\"}},\"title\":{\"x\":0.05},\"xaxis\":{\"automargin\":true,\"gridcolor\":\"white\",\"linecolor\":\"white\",\"ticks\":\"\",\"title\":{\"standoff\":15},\"zerolinecolor\":\"white\",\"zerolinewidth\":2},\"yaxis\":{\"automargin\":true,\"gridcolor\":\"white\",\"linecolor\":\"white\",\"ticks\":\"\",\"title\":{\"standoff\":15},\"zerolinecolor\":\"white\",\"zerolinewidth\":2}}},\"title\":{\"font\":{\"color\":\"#4D5663\"}},\"xaxis\":{\"gridcolor\":\"#E1E5ED\",\"showgrid\":true,\"tickfont\":{\"color\":\"#4D5663\"},\"title\":{\"font\":{\"color\":\"#4D5663\"},\"text\":\"\"},\"zerolinecolor\":\"#E1E5ED\"},\"yaxis\":{\"gridcolor\":\"#E1E5ED\",\"showgrid\":true,\"tickfont\":{\"color\":\"#4D5663\"},\"title\":{\"font\":{\"color\":\"#4D5663\"},\"text\":\"\"},\"zerolinecolor\":\"#E1E5ED\"}},                        {\"showLink\": true, \"linkText\": \"Export to plot.ly\", \"plotlyServerURL\": \"https://plot.ly\", \"responsive\": true}                    ).then(function(){\n",
       "                            \n",
       "var gd = document.getElementById('99da1d9f-d590-4aac-816a-c960f93133e0');\n",
       "var x = new MutationObserver(function (mutations, observer) {{\n",
       "        var display = window.getComputedStyle(gd).display;\n",
       "        if (!display || display === 'none') {{\n",
       "            console.log([gd, 'removed!']);\n",
       "            Plotly.purge(gd);\n",
       "            observer.disconnect();\n",
       "        }}\n",
       "}});\n",
       "\n",
       "// Listen for the removal of the full notebook cells\n",
       "var notebookContainer = gd.closest('#notebook-container');\n",
       "if (notebookContainer) {{\n",
       "    x.observe(notebookContainer, {childList: true});\n",
       "}}\n",
       "\n",
       "// Listen for the clearing of the current output cell\n",
       "var outputEl = gd.closest('.output');\n",
       "if (outputEl) {{\n",
       "    x.observe(outputEl, {childList: true});\n",
       "}}\n",
       "\n",
       "                        })                };                });            </script>        </div>"
      ]
     },
     "metadata": {},
     "output_type": "display_data"
    }
   ],
   "source": [
    "#df.count().iplot(kind='bar')\n",
    "df.sum().iplot(kind='bar')"
   ]
  },
  {
   "cell_type": "code",
   "execution_count": 46,
   "id": "f548f12f",
   "metadata": {
    "ExecuteTime": {
     "end_time": "2023-03-23T11:59:19.117326Z",
     "start_time": "2023-03-23T11:59:19.047298Z"
    }
   },
   "outputs": [
    {
     "data": {
      "application/vnd.plotly.v1+json": {
       "config": {
        "linkText": "Export to plot.ly",
        "plotlyServerURL": "https://plot.ly",
        "showLink": true
       },
       "data": [
        {
         "boxpoints": false,
         "line": {
          "width": 1.3
         },
         "marker": {
          "color": "rgba(255, 153, 51, 1.0)"
         },
         "name": "A",
         "orientation": "v",
         "type": "box",
         "y": [
          0.4278303063139346,
          -0.17960339661206842,
          1.0164042618967994,
          -0.7122789625358378,
          -0.6470161726957598,
          -1.5391054711001806,
          -0.816419876227612,
          0.14992634819113262,
          -0.2538297184910725,
          0.4011312596835835,
          -0.35121217557811146,
          -0.08067457705225729,
          -1.2864396719186408,
          0.46615802073452944,
          -0.3186788122439116,
          1.0143288516154085,
          -2.2806490282504535,
          0.40384690521168326,
          0.6018005259883966,
          -0.25978009976335664,
          -1.1669122342579856,
          0.8573994100521745,
          0.8623475326006868,
          -0.3544586484489518,
          0.4110630086982138,
          -0.32937147502200953,
          0.8971370723551457,
          0.42079992650952014,
          -0.4723624434704465,
          0.12777627493488986,
          0.4889927615403592,
          -0.9481653064033165,
          0.10111690399406939,
          -0.5199092906505531,
          -0.9131480083912413,
          1.091390985730131,
          -1.166766293120185,
          0.20757181583433243,
          0.6829620194836434,
          -1.0930355069538578,
          -0.02650130330699229,
          -1.2924400269578538,
          0.14418601175977652,
          -0.20223854166849403,
          0.19208883138239824,
          -0.18114204996310787,
          -0.19841663539400559,
          1.8385362877297255,
          0.15384934369884648,
          -0.3098194447686136,
          -1.2045370228630572,
          0.5327550476824217,
          -0.29441402000600364,
          0.3709208833043238,
          -1.5092728793466288,
          0.5191502262763877,
          1.4637639676598087,
          -0.7232252992171272,
          0.6980766119028778,
          -0.7563825513013476,
          -0.7421339581048623,
          1.121264011877191,
          0.013752107630780407,
          -0.5892825852411415,
          0.6056490857330595,
          0.9780201457682005,
          0.3394107574260655,
          -0.29779406831739264,
          -0.8249862472503384,
          -0.006608688646789804,
          0.9173723910209661,
          -0.03603833862910183,
          -0.6990592443026739,
          -1.342749352000533,
          -1.7062572618616654,
          -0.4379870105257444,
          -0.37396788969217615,
          -1.2152159255979396,
          0.85898836922212,
          0.2853468800286372,
          0.08525587871536675,
          0.3440875236892165,
          0.43424037380948755,
          0.5175629844710247,
          -0.06289870370813987,
          -0.3717812990629133,
          -1.3435656884172564,
          2.1465656501241304,
          0.9877233116000835,
          0.04448063913151714,
          -0.5020413908536919,
          0.13533132322167515,
          -0.4085192034480075,
          -0.5307015361759451,
          0.8328125615881095,
          0.16467398244369646,
          0.3384160963082231,
          0.5451546074803042,
          0.565600486678321,
          0.7341938436024419
         ]
        },
        {
         "boxpoints": false,
         "line": {
          "width": 1.3
         },
         "marker": {
          "color": "rgba(55, 128, 191, 1.0)"
         },
         "name": "B",
         "orientation": "v",
         "type": "box",
         "y": [
          0.48306040414083834,
          0.009058351407117657,
          -0.10115869895854517,
          1.299364507421079,
          -0.917630514349454,
          -0.0004417653346297867,
          -0.40798279547156635,
          0.3444360696810804,
          -0.5303963906334963,
          0.16405004030193343,
          0.3350632725543995,
          -0.1981882405566007,
          -0.24432705870638655,
          1.096647494957282,
          0.3648057242653707,
          1.792685105555086,
          1.4643582511094944,
          -0.8544839418659624,
          -0.9191036875899685,
          0.5677118433595862,
          0.3644188202879386,
          0.33595984166710796,
          1.9936047851335992,
          -0.3184669272450796,
          0.32975569755681217,
          0.4260629510999024,
          0.23486176179843596,
          -1.086942248367033,
          0.3674910042928074,
          -0.46547162469799963,
          -0.9924427421111863,
          -2.1406810439355066,
          -0.21469032628104553,
          -0.12076619656413162,
          0.7647436190552594,
          0.4929088265880474,
          -0.8771908460491088,
          2.1777215427021996,
          0.04436592206782866,
          -0.0073038619111890565,
          1.4963995074604057,
          -0.46116149162445347,
          -0.9719021840295913,
          0.6605389800911491,
          -1.160605255775432,
          0.6757450195029824,
          -0.6991125021178969,
          0.5398846034108065,
          -0.4066398571344095,
          -0.31589064660126354,
          -0.7208238632743234,
          -0.383731214271165,
          -1.3536096966031266,
          0.4987596504299444,
          0.22804262761234906,
          -0.9882108951751464,
          0.6127722213063093,
          -0.9834991873284643,
          0.14950554896813462,
          0.4830956263791654,
          0.17451464216515458,
          -1.816099518246873,
          1.1385736700100326,
          -1.0036133687647835,
          0.8188788059107236,
          1.157425588927253,
          -1.1723531019569493,
          -0.07573755585923887,
          0.17966228070772516,
          0.6285754121275586,
          1.1372469738815771,
          -0.28269154554196035,
          0.7165406494548696,
          -0.23007318691659548,
          -0.8883280341101701,
          0.3281056679583895,
          -0.5449040671497705,
          -1.5170140313832825,
          0.7159357051909687,
          1.2061881235431922,
          -1.487080206258318,
          0.219275882063202,
          0.007041079866349726,
          0.2331570317320377,
          0.0034261754096381295,
          0.08514670420553244,
          -1.1107420851889813,
          1.8460938344620215,
          -0.21158616035407998,
          0.0044370729423990705,
          -0.39390964225737446,
          -1.222526038408339,
          -0.43863339052296013,
          -0.08599763750602338,
          -0.7734350600969128,
          -0.12144896846053277,
          -0.18775311587229412,
          1.4392171860459413,
          -0.2882843728195542,
          0.364549423795677
         ]
        },
        {
         "boxpoints": false,
         "line": {
          "width": 1.3
         },
         "marker": {
          "color": "rgba(50, 171, 96, 1.0)"
         },
         "name": "C",
         "orientation": "v",
         "type": "box",
         "y": [
          -0.24206467032319814,
          -1.2631525698375463,
          0.4594071214617641,
          0.60077235908034,
          -0.9265626233504829,
          0.6756216034502802,
          0.7434142581111773,
          0.018262130597430336,
          -0.06392608339156247,
          1.4060464622338318,
          1.0686269655137899,
          0.002754273374794008,
          0.4605672689199664,
          0.39263815023305654,
          -0.7329865214766967,
          1.6297002427753362,
          -0.0008107283884601559,
          1.9765014199108537,
          1.2096049063087697,
          1.6213248538289111,
          -1.585873889736527,
          -0.8651655009854876,
          0.020988001541876446,
          -1.3406838702958856,
          -0.951200160119948,
          -0.497654320179825,
          -0.021054458357745297,
          -1.0574593040360256,
          1.0294055755935148,
          1.2163001342613522,
          0.17970515970423812,
          -0.11760176641969425,
          -1.0969510943885759,
          -0.5868858904725097,
          2.083934082971225,
          -0.9181885756735065,
          -0.1553782987340766,
          -0.820988776654748,
          -0.3804720882188407,
          -0.35752641236018046,
          -0.35401246761989624,
          -0.5775830532493539,
          -2.424900350237003,
          0.2855207075604285,
          0.46936376753898157,
          -0.21746001938038956,
          0.06450952686778252,
          0.7444671538036397,
          -1.2248250486686556,
          -1.416788946235324,
          1.3705699230468036,
          -0.2893623524636134,
          0.7887332621839191,
          0.6265750340329868,
          -1.7050938119207735,
          -1.710626378654247,
          -0.17212900337049927,
          0.786445692495372,
          0.8728446850178994,
          -0.04713310597221714,
          0.13142099172018107,
          0.39726379664821326,
          1.322607054992196,
          0.5354512919666429,
          1.2374262494474055,
          2.116237482381573,
          1.9044511430298887,
          1.391112716532458,
          -0.35693852947472154,
          0.4918662133612119,
          -0.5922710055561605,
          -0.7878598194918272,
          0.5265707948268116,
          -0.642020950111216,
          0.5517844245714252,
          -0.7934961397371885,
          0.7908296097983124,
          2.275523536747189,
          1.1606453869673206,
          -0.7974626361895323,
          0.005581955560807476,
          0.21689162723437547,
          0.22298419441339054,
          0.8200441699855056,
          1.19166521369793,
          -0.8976133213470465,
          -0.567476953648249,
          -0.7809052141714418,
          -0.27644458517576165,
          1.0616591780119478,
          -1.2363549285298678,
          0.1262708566305871,
          0.9525493443749347,
          -1.6866168540938908,
          -0.4902723986210022,
          -0.7992571135728221,
          -2.074657039634036,
          0.30943950283626537,
          0.9782524876015997,
          -0.1773164998324019
         ]
        },
        {
         "boxpoints": false,
         "line": {
          "width": 1.3
         },
         "marker": {
          "color": "rgba(128, 0, 128, 1.0)"
         },
         "name": "D",
         "orientation": "v",
         "type": "box",
         "y": [
          -1.7133387861031382,
          -1.2932945006528207,
          0.14441817391879672,
          -0.46427328484531893,
          -1.3646050456562944,
          0.4686406470154942,
          0.7474547724221794,
          -0.675305811206826,
          0.758847914674031,
          0.7428028093361997,
          -0.4065924037422975,
          0.8064727208976706,
          0.2931240500444258,
          -1.0914232991042179,
          -2.0453820137163046,
          -0.2936273028983105,
          -0.14035412942006467,
          -0.8301817516350479,
          -0.7865457087503928,
          -1.1546250246981458,
          0.3215877269843798,
          -1.3839309511016578,
          0.08209020772287838,
          0.9304230655889154,
          0.31745222546584634,
          0.11193970003501555,
          1.7139986776284593,
          -2.0967803975447517,
          1.0511375814990898,
          0.6383915109140148,
          1.2555622054890245,
          -0.5508945322176529,
          0.18747842418344107,
          -0.9803099881452719,
          0.1467935250497945,
          -0.20256265797208975,
          1.567893903926729,
          -1.644143572382776,
          0.30826059921641225,
          -0.7387013328474691,
          -0.019446660009001256,
          1.326199758941917,
          1.0410750283906138,
          1.2395301701487318,
          -2.406092741659287,
          2.416574931180957,
          0.6882233525175699,
          0.04639932826401581,
          -0.16979647167446166,
          0.08403610728427734,
          -0.3219768344393413,
          0.030567251288725984,
          0.6387071244259642,
          2.0584786699697726,
          2.2729373305352922,
          -1.4912937903346457,
          -1.7143541593610665,
          -0.34648232336346285,
          -0.23503278285029994,
          -0.15948119829612942,
          0.5131560094607199,
          0.3991080890988705,
          -0.6343936102103105,
          -0.0940156804309552,
          -0.17713779298576451,
          -0.75443203752132,
          -0.4360212088269227,
          -0.49578419347288005,
          -1.0089817430408183,
          -0.45886311889243525,
          -0.20026747240539783,
          -1.8763166449135418,
          0.3735678516046811,
          0.804719500794733,
          1.1871386676158464,
          1.3186386149058955,
          -1.0325204869497864,
          -1.7590503779541997,
          0.7025720876217167,
          0.2678085853874164,
          -0.7554939802021241,
          -2.372721493554485,
          -1.3184213475425806,
          0.46209929466084504,
          -0.7232520394848614,
          1.2672793869050392,
          -1.3645244928619236,
          0.9613521435589473,
          -1.3753146341448226,
          0.2316998510860715,
          1.7574559430991654,
          -3.098889574485068,
          1.1375254421854166,
          -0.5386418392620599,
          1.2300015496189856,
          -0.07574961938385888,
          1.9618251717642414,
          1.299537326929035,
          -1.1235054198822467,
          0.5221874567126272
         ]
        }
       ],
       "layout": {
        "legend": {
         "bgcolor": "#F5F6F9",
         "font": {
          "color": "#4D5663"
         }
        },
        "paper_bgcolor": "#F5F6F9",
        "plot_bgcolor": "#F5F6F9",
        "template": {
         "data": {
          "bar": [
           {
            "error_x": {
             "color": "#2a3f5f"
            },
            "error_y": {
             "color": "#2a3f5f"
            },
            "marker": {
             "line": {
              "color": "#E5ECF6",
              "width": 0.5
             },
             "pattern": {
              "fillmode": "overlay",
              "size": 10,
              "solidity": 0.2
             }
            },
            "type": "bar"
           }
          ],
          "barpolar": [
           {
            "marker": {
             "line": {
              "color": "#E5ECF6",
              "width": 0.5
             },
             "pattern": {
              "fillmode": "overlay",
              "size": 10,
              "solidity": 0.2
             }
            },
            "type": "barpolar"
           }
          ],
          "carpet": [
           {
            "aaxis": {
             "endlinecolor": "#2a3f5f",
             "gridcolor": "white",
             "linecolor": "white",
             "minorgridcolor": "white",
             "startlinecolor": "#2a3f5f"
            },
            "baxis": {
             "endlinecolor": "#2a3f5f",
             "gridcolor": "white",
             "linecolor": "white",
             "minorgridcolor": "white",
             "startlinecolor": "#2a3f5f"
            },
            "type": "carpet"
           }
          ],
          "choropleth": [
           {
            "colorbar": {
             "outlinewidth": 0,
             "ticks": ""
            },
            "type": "choropleth"
           }
          ],
          "contour": [
           {
            "colorbar": {
             "outlinewidth": 0,
             "ticks": ""
            },
            "colorscale": [
             [
              0,
              "#0d0887"
             ],
             [
              0.1111111111111111,
              "#46039f"
             ],
             [
              0.2222222222222222,
              "#7201a8"
             ],
             [
              0.3333333333333333,
              "#9c179e"
             ],
             [
              0.4444444444444444,
              "#bd3786"
             ],
             [
              0.5555555555555556,
              "#d8576b"
             ],
             [
              0.6666666666666666,
              "#ed7953"
             ],
             [
              0.7777777777777778,
              "#fb9f3a"
             ],
             [
              0.8888888888888888,
              "#fdca26"
             ],
             [
              1,
              "#f0f921"
             ]
            ],
            "type": "contour"
           }
          ],
          "contourcarpet": [
           {
            "colorbar": {
             "outlinewidth": 0,
             "ticks": ""
            },
            "type": "contourcarpet"
           }
          ],
          "heatmap": [
           {
            "colorbar": {
             "outlinewidth": 0,
             "ticks": ""
            },
            "colorscale": [
             [
              0,
              "#0d0887"
             ],
             [
              0.1111111111111111,
              "#46039f"
             ],
             [
              0.2222222222222222,
              "#7201a8"
             ],
             [
              0.3333333333333333,
              "#9c179e"
             ],
             [
              0.4444444444444444,
              "#bd3786"
             ],
             [
              0.5555555555555556,
              "#d8576b"
             ],
             [
              0.6666666666666666,
              "#ed7953"
             ],
             [
              0.7777777777777778,
              "#fb9f3a"
             ],
             [
              0.8888888888888888,
              "#fdca26"
             ],
             [
              1,
              "#f0f921"
             ]
            ],
            "type": "heatmap"
           }
          ],
          "heatmapgl": [
           {
            "colorbar": {
             "outlinewidth": 0,
             "ticks": ""
            },
            "colorscale": [
             [
              0,
              "#0d0887"
             ],
             [
              0.1111111111111111,
              "#46039f"
             ],
             [
              0.2222222222222222,
              "#7201a8"
             ],
             [
              0.3333333333333333,
              "#9c179e"
             ],
             [
              0.4444444444444444,
              "#bd3786"
             ],
             [
              0.5555555555555556,
              "#d8576b"
             ],
             [
              0.6666666666666666,
              "#ed7953"
             ],
             [
              0.7777777777777778,
              "#fb9f3a"
             ],
             [
              0.8888888888888888,
              "#fdca26"
             ],
             [
              1,
              "#f0f921"
             ]
            ],
            "type": "heatmapgl"
           }
          ],
          "histogram": [
           {
            "marker": {
             "pattern": {
              "fillmode": "overlay",
              "size": 10,
              "solidity": 0.2
             }
            },
            "type": "histogram"
           }
          ],
          "histogram2d": [
           {
            "colorbar": {
             "outlinewidth": 0,
             "ticks": ""
            },
            "colorscale": [
             [
              0,
              "#0d0887"
             ],
             [
              0.1111111111111111,
              "#46039f"
             ],
             [
              0.2222222222222222,
              "#7201a8"
             ],
             [
              0.3333333333333333,
              "#9c179e"
             ],
             [
              0.4444444444444444,
              "#bd3786"
             ],
             [
              0.5555555555555556,
              "#d8576b"
             ],
             [
              0.6666666666666666,
              "#ed7953"
             ],
             [
              0.7777777777777778,
              "#fb9f3a"
             ],
             [
              0.8888888888888888,
              "#fdca26"
             ],
             [
              1,
              "#f0f921"
             ]
            ],
            "type": "histogram2d"
           }
          ],
          "histogram2dcontour": [
           {
            "colorbar": {
             "outlinewidth": 0,
             "ticks": ""
            },
            "colorscale": [
             [
              0,
              "#0d0887"
             ],
             [
              0.1111111111111111,
              "#46039f"
             ],
             [
              0.2222222222222222,
              "#7201a8"
             ],
             [
              0.3333333333333333,
              "#9c179e"
             ],
             [
              0.4444444444444444,
              "#bd3786"
             ],
             [
              0.5555555555555556,
              "#d8576b"
             ],
             [
              0.6666666666666666,
              "#ed7953"
             ],
             [
              0.7777777777777778,
              "#fb9f3a"
             ],
             [
              0.8888888888888888,
              "#fdca26"
             ],
             [
              1,
              "#f0f921"
             ]
            ],
            "type": "histogram2dcontour"
           }
          ],
          "mesh3d": [
           {
            "colorbar": {
             "outlinewidth": 0,
             "ticks": ""
            },
            "type": "mesh3d"
           }
          ],
          "parcoords": [
           {
            "line": {
             "colorbar": {
              "outlinewidth": 0,
              "ticks": ""
             }
            },
            "type": "parcoords"
           }
          ],
          "pie": [
           {
            "automargin": true,
            "type": "pie"
           }
          ],
          "scatter": [
           {
            "fillpattern": {
             "fillmode": "overlay",
             "size": 10,
             "solidity": 0.2
            },
            "type": "scatter"
           }
          ],
          "scatter3d": [
           {
            "line": {
             "colorbar": {
              "outlinewidth": 0,
              "ticks": ""
             }
            },
            "marker": {
             "colorbar": {
              "outlinewidth": 0,
              "ticks": ""
             }
            },
            "type": "scatter3d"
           }
          ],
          "scattercarpet": [
           {
            "marker": {
             "colorbar": {
              "outlinewidth": 0,
              "ticks": ""
             }
            },
            "type": "scattercarpet"
           }
          ],
          "scattergeo": [
           {
            "marker": {
             "colorbar": {
              "outlinewidth": 0,
              "ticks": ""
             }
            },
            "type": "scattergeo"
           }
          ],
          "scattergl": [
           {
            "marker": {
             "colorbar": {
              "outlinewidth": 0,
              "ticks": ""
             }
            },
            "type": "scattergl"
           }
          ],
          "scattermapbox": [
           {
            "marker": {
             "colorbar": {
              "outlinewidth": 0,
              "ticks": ""
             }
            },
            "type": "scattermapbox"
           }
          ],
          "scatterpolar": [
           {
            "marker": {
             "colorbar": {
              "outlinewidth": 0,
              "ticks": ""
             }
            },
            "type": "scatterpolar"
           }
          ],
          "scatterpolargl": [
           {
            "marker": {
             "colorbar": {
              "outlinewidth": 0,
              "ticks": ""
             }
            },
            "type": "scatterpolargl"
           }
          ],
          "scatterternary": [
           {
            "marker": {
             "colorbar": {
              "outlinewidth": 0,
              "ticks": ""
             }
            },
            "type": "scatterternary"
           }
          ],
          "surface": [
           {
            "colorbar": {
             "outlinewidth": 0,
             "ticks": ""
            },
            "colorscale": [
             [
              0,
              "#0d0887"
             ],
             [
              0.1111111111111111,
              "#46039f"
             ],
             [
              0.2222222222222222,
              "#7201a8"
             ],
             [
              0.3333333333333333,
              "#9c179e"
             ],
             [
              0.4444444444444444,
              "#bd3786"
             ],
             [
              0.5555555555555556,
              "#d8576b"
             ],
             [
              0.6666666666666666,
              "#ed7953"
             ],
             [
              0.7777777777777778,
              "#fb9f3a"
             ],
             [
              0.8888888888888888,
              "#fdca26"
             ],
             [
              1,
              "#f0f921"
             ]
            ],
            "type": "surface"
           }
          ],
          "table": [
           {
            "cells": {
             "fill": {
              "color": "#EBF0F8"
             },
             "line": {
              "color": "white"
             }
            },
            "header": {
             "fill": {
              "color": "#C8D4E3"
             },
             "line": {
              "color": "white"
             }
            },
            "type": "table"
           }
          ]
         },
         "layout": {
          "annotationdefaults": {
           "arrowcolor": "#2a3f5f",
           "arrowhead": 0,
           "arrowwidth": 1
          },
          "autotypenumbers": "strict",
          "coloraxis": {
           "colorbar": {
            "outlinewidth": 0,
            "ticks": ""
           }
          },
          "colorscale": {
           "diverging": [
            [
             0,
             "#8e0152"
            ],
            [
             0.1,
             "#c51b7d"
            ],
            [
             0.2,
             "#de77ae"
            ],
            [
             0.3,
             "#f1b6da"
            ],
            [
             0.4,
             "#fde0ef"
            ],
            [
             0.5,
             "#f7f7f7"
            ],
            [
             0.6,
             "#e6f5d0"
            ],
            [
             0.7,
             "#b8e186"
            ],
            [
             0.8,
             "#7fbc41"
            ],
            [
             0.9,
             "#4d9221"
            ],
            [
             1,
             "#276419"
            ]
           ],
           "sequential": [
            [
             0,
             "#0d0887"
            ],
            [
             0.1111111111111111,
             "#46039f"
            ],
            [
             0.2222222222222222,
             "#7201a8"
            ],
            [
             0.3333333333333333,
             "#9c179e"
            ],
            [
             0.4444444444444444,
             "#bd3786"
            ],
            [
             0.5555555555555556,
             "#d8576b"
            ],
            [
             0.6666666666666666,
             "#ed7953"
            ],
            [
             0.7777777777777778,
             "#fb9f3a"
            ],
            [
             0.8888888888888888,
             "#fdca26"
            ],
            [
             1,
             "#f0f921"
            ]
           ],
           "sequentialminus": [
            [
             0,
             "#0d0887"
            ],
            [
             0.1111111111111111,
             "#46039f"
            ],
            [
             0.2222222222222222,
             "#7201a8"
            ],
            [
             0.3333333333333333,
             "#9c179e"
            ],
            [
             0.4444444444444444,
             "#bd3786"
            ],
            [
             0.5555555555555556,
             "#d8576b"
            ],
            [
             0.6666666666666666,
             "#ed7953"
            ],
            [
             0.7777777777777778,
             "#fb9f3a"
            ],
            [
             0.8888888888888888,
             "#fdca26"
            ],
            [
             1,
             "#f0f921"
            ]
           ]
          },
          "colorway": [
           "#636efa",
           "#EF553B",
           "#00cc96",
           "#ab63fa",
           "#FFA15A",
           "#19d3f3",
           "#FF6692",
           "#B6E880",
           "#FF97FF",
           "#FECB52"
          ],
          "font": {
           "color": "#2a3f5f"
          },
          "geo": {
           "bgcolor": "white",
           "lakecolor": "white",
           "landcolor": "#E5ECF6",
           "showlakes": true,
           "showland": true,
           "subunitcolor": "white"
          },
          "hoverlabel": {
           "align": "left"
          },
          "hovermode": "closest",
          "mapbox": {
           "style": "light"
          },
          "paper_bgcolor": "white",
          "plot_bgcolor": "#E5ECF6",
          "polar": {
           "angularaxis": {
            "gridcolor": "white",
            "linecolor": "white",
            "ticks": ""
           },
           "bgcolor": "#E5ECF6",
           "radialaxis": {
            "gridcolor": "white",
            "linecolor": "white",
            "ticks": ""
           }
          },
          "scene": {
           "xaxis": {
            "backgroundcolor": "#E5ECF6",
            "gridcolor": "white",
            "gridwidth": 2,
            "linecolor": "white",
            "showbackground": true,
            "ticks": "",
            "zerolinecolor": "white"
           },
           "yaxis": {
            "backgroundcolor": "#E5ECF6",
            "gridcolor": "white",
            "gridwidth": 2,
            "linecolor": "white",
            "showbackground": true,
            "ticks": "",
            "zerolinecolor": "white"
           },
           "zaxis": {
            "backgroundcolor": "#E5ECF6",
            "gridcolor": "white",
            "gridwidth": 2,
            "linecolor": "white",
            "showbackground": true,
            "ticks": "",
            "zerolinecolor": "white"
           }
          },
          "shapedefaults": {
           "line": {
            "color": "#2a3f5f"
           }
          },
          "ternary": {
           "aaxis": {
            "gridcolor": "white",
            "linecolor": "white",
            "ticks": ""
           },
           "baxis": {
            "gridcolor": "white",
            "linecolor": "white",
            "ticks": ""
           },
           "bgcolor": "#E5ECF6",
           "caxis": {
            "gridcolor": "white",
            "linecolor": "white",
            "ticks": ""
           }
          },
          "title": {
           "x": 0.05
          },
          "xaxis": {
           "automargin": true,
           "gridcolor": "white",
           "linecolor": "white",
           "ticks": "",
           "title": {
            "standoff": 15
           },
           "zerolinecolor": "white",
           "zerolinewidth": 2
          },
          "yaxis": {
           "automargin": true,
           "gridcolor": "white",
           "linecolor": "white",
           "ticks": "",
           "title": {
            "standoff": 15
           },
           "zerolinecolor": "white",
           "zerolinewidth": 2
          }
         }
        },
        "title": {
         "font": {
          "color": "#4D5663"
         }
        },
        "xaxis": {
         "gridcolor": "#E1E5ED",
         "showgrid": true,
         "tickfont": {
          "color": "#4D5663"
         },
         "title": {
          "font": {
           "color": "#4D5663"
          },
          "text": ""
         },
         "zerolinecolor": "#E1E5ED"
        },
        "yaxis": {
         "gridcolor": "#E1E5ED",
         "showgrid": true,
         "tickfont": {
          "color": "#4D5663"
         },
         "title": {
          "font": {
           "color": "#4D5663"
          },
          "text": ""
         },
         "zerolinecolor": "#E1E5ED"
        }
       }
      },
      "text/html": [
       "<div>                            <div id=\"4204bb42-e951-4244-9d31-ca79614296ef\" class=\"plotly-graph-div\" style=\"height:525px; width:100%;\"></div>            <script type=\"text/javascript\">                require([\"plotly\"], function(Plotly) {                    window.PLOTLYENV=window.PLOTLYENV || {};\n",
       "                    window.PLOTLYENV.BASE_URL='https://plot.ly';                                    if (document.getElementById(\"4204bb42-e951-4244-9d31-ca79614296ef\")) {                    Plotly.newPlot(                        \"4204bb42-e951-4244-9d31-ca79614296ef\",                        [{\"boxpoints\":false,\"line\":{\"width\":1.3},\"marker\":{\"color\":\"rgba(255, 153, 51, 1.0)\"},\"name\":\"A\",\"orientation\":\"v\",\"y\":[0.4278303063139346,-0.17960339661206842,1.0164042618967994,-0.7122789625358378,-0.6470161726957598,-1.5391054711001806,-0.816419876227612,0.14992634819113262,-0.2538297184910725,0.4011312596835835,-0.35121217557811146,-0.08067457705225729,-1.2864396719186408,0.46615802073452944,-0.3186788122439116,1.0143288516154085,-2.2806490282504535,0.40384690521168326,0.6018005259883966,-0.25978009976335664,-1.1669122342579856,0.8573994100521745,0.8623475326006868,-0.3544586484489518,0.4110630086982138,-0.32937147502200953,0.8971370723551457,0.42079992650952014,-0.4723624434704465,0.12777627493488986,0.4889927615403592,-0.9481653064033165,0.10111690399406939,-0.5199092906505531,-0.9131480083912413,1.091390985730131,-1.166766293120185,0.20757181583433243,0.6829620194836434,-1.0930355069538578,-0.02650130330699229,-1.2924400269578538,0.14418601175977652,-0.20223854166849403,0.19208883138239824,-0.18114204996310787,-0.19841663539400559,1.8385362877297255,0.15384934369884648,-0.3098194447686136,-1.2045370228630572,0.5327550476824217,-0.29441402000600364,0.3709208833043238,-1.5092728793466288,0.5191502262763877,1.4637639676598087,-0.7232252992171272,0.6980766119028778,-0.7563825513013476,-0.7421339581048623,1.121264011877191,0.013752107630780407,-0.5892825852411415,0.6056490857330595,0.9780201457682005,0.3394107574260655,-0.29779406831739264,-0.8249862472503384,-0.006608688646789804,0.9173723910209661,-0.03603833862910183,-0.6990592443026739,-1.342749352000533,-1.7062572618616654,-0.4379870105257444,-0.37396788969217615,-1.2152159255979396,0.85898836922212,0.2853468800286372,0.08525587871536675,0.3440875236892165,0.43424037380948755,0.5175629844710247,-0.06289870370813987,-0.3717812990629133,-1.3435656884172564,2.1465656501241304,0.9877233116000835,0.04448063913151714,-0.5020413908536919,0.13533132322167515,-0.4085192034480075,-0.5307015361759451,0.8328125615881095,0.16467398244369646,0.3384160963082231,0.5451546074803042,0.565600486678321,0.7341938436024419],\"type\":\"box\"},{\"boxpoints\":false,\"line\":{\"width\":1.3},\"marker\":{\"color\":\"rgba(55, 128, 191, 1.0)\"},\"name\":\"B\",\"orientation\":\"v\",\"y\":[0.48306040414083834,0.009058351407117657,-0.10115869895854517,1.299364507421079,-0.917630514349454,-0.0004417653346297867,-0.40798279547156635,0.3444360696810804,-0.5303963906334963,0.16405004030193343,0.3350632725543995,-0.1981882405566007,-0.24432705870638655,1.096647494957282,0.3648057242653707,1.792685105555086,1.4643582511094944,-0.8544839418659624,-0.9191036875899685,0.5677118433595862,0.3644188202879386,0.33595984166710796,1.9936047851335992,-0.3184669272450796,0.32975569755681217,0.4260629510999024,0.23486176179843596,-1.086942248367033,0.3674910042928074,-0.46547162469799963,-0.9924427421111863,-2.1406810439355066,-0.21469032628104553,-0.12076619656413162,0.7647436190552594,0.4929088265880474,-0.8771908460491088,2.1777215427021996,0.04436592206782866,-0.0073038619111890565,1.4963995074604057,-0.46116149162445347,-0.9719021840295913,0.6605389800911491,-1.160605255775432,0.6757450195029824,-0.6991125021178969,0.5398846034108065,-0.4066398571344095,-0.31589064660126354,-0.7208238632743234,-0.383731214271165,-1.3536096966031266,0.4987596504299444,0.22804262761234906,-0.9882108951751464,0.6127722213063093,-0.9834991873284643,0.14950554896813462,0.4830956263791654,0.17451464216515458,-1.816099518246873,1.1385736700100326,-1.0036133687647835,0.8188788059107236,1.157425588927253,-1.1723531019569493,-0.07573755585923887,0.17966228070772516,0.6285754121275586,1.1372469738815771,-0.28269154554196035,0.7165406494548696,-0.23007318691659548,-0.8883280341101701,0.3281056679583895,-0.5449040671497705,-1.5170140313832825,0.7159357051909687,1.2061881235431922,-1.487080206258318,0.219275882063202,0.007041079866349726,0.2331570317320377,0.0034261754096381295,0.08514670420553244,-1.1107420851889813,1.8460938344620215,-0.21158616035407998,0.0044370729423990705,-0.39390964225737446,-1.222526038408339,-0.43863339052296013,-0.08599763750602338,-0.7734350600969128,-0.12144896846053277,-0.18775311587229412,1.4392171860459413,-0.2882843728195542,0.364549423795677],\"type\":\"box\"},{\"boxpoints\":false,\"line\":{\"width\":1.3},\"marker\":{\"color\":\"rgba(50, 171, 96, 1.0)\"},\"name\":\"C\",\"orientation\":\"v\",\"y\":[-0.24206467032319814,-1.2631525698375463,0.4594071214617641,0.60077235908034,-0.9265626233504829,0.6756216034502802,0.7434142581111773,0.018262130597430336,-0.06392608339156247,1.4060464622338318,1.0686269655137899,0.002754273374794008,0.4605672689199664,0.39263815023305654,-0.7329865214766967,1.6297002427753362,-0.0008107283884601559,1.9765014199108537,1.2096049063087697,1.6213248538289111,-1.585873889736527,-0.8651655009854876,0.020988001541876446,-1.3406838702958856,-0.951200160119948,-0.497654320179825,-0.021054458357745297,-1.0574593040360256,1.0294055755935148,1.2163001342613522,0.17970515970423812,-0.11760176641969425,-1.0969510943885759,-0.5868858904725097,2.083934082971225,-0.9181885756735065,-0.1553782987340766,-0.820988776654748,-0.3804720882188407,-0.35752641236018046,-0.35401246761989624,-0.5775830532493539,-2.424900350237003,0.2855207075604285,0.46936376753898157,-0.21746001938038956,0.06450952686778252,0.7444671538036397,-1.2248250486686556,-1.416788946235324,1.3705699230468036,-0.2893623524636134,0.7887332621839191,0.6265750340329868,-1.7050938119207735,-1.710626378654247,-0.17212900337049927,0.786445692495372,0.8728446850178994,-0.04713310597221714,0.13142099172018107,0.39726379664821326,1.322607054992196,0.5354512919666429,1.2374262494474055,2.116237482381573,1.9044511430298887,1.391112716532458,-0.35693852947472154,0.4918662133612119,-0.5922710055561605,-0.7878598194918272,0.5265707948268116,-0.642020950111216,0.5517844245714252,-0.7934961397371885,0.7908296097983124,2.275523536747189,1.1606453869673206,-0.7974626361895323,0.005581955560807476,0.21689162723437547,0.22298419441339054,0.8200441699855056,1.19166521369793,-0.8976133213470465,-0.567476953648249,-0.7809052141714418,-0.27644458517576165,1.0616591780119478,-1.2363549285298678,0.1262708566305871,0.9525493443749347,-1.6866168540938908,-0.4902723986210022,-0.7992571135728221,-2.074657039634036,0.30943950283626537,0.9782524876015997,-0.1773164998324019],\"type\":\"box\"},{\"boxpoints\":false,\"line\":{\"width\":1.3},\"marker\":{\"color\":\"rgba(128, 0, 128, 1.0)\"},\"name\":\"D\",\"orientation\":\"v\",\"y\":[-1.7133387861031382,-1.2932945006528207,0.14441817391879672,-0.46427328484531893,-1.3646050456562944,0.4686406470154942,0.7474547724221794,-0.675305811206826,0.758847914674031,0.7428028093361997,-0.4065924037422975,0.8064727208976706,0.2931240500444258,-1.0914232991042179,-2.0453820137163046,-0.2936273028983105,-0.14035412942006467,-0.8301817516350479,-0.7865457087503928,-1.1546250246981458,0.3215877269843798,-1.3839309511016578,0.08209020772287838,0.9304230655889154,0.31745222546584634,0.11193970003501555,1.7139986776284593,-2.0967803975447517,1.0511375814990898,0.6383915109140148,1.2555622054890245,-0.5508945322176529,0.18747842418344107,-0.9803099881452719,0.1467935250497945,-0.20256265797208975,1.567893903926729,-1.644143572382776,0.30826059921641225,-0.7387013328474691,-0.019446660009001256,1.326199758941917,1.0410750283906138,1.2395301701487318,-2.406092741659287,2.416574931180957,0.6882233525175699,0.04639932826401581,-0.16979647167446166,0.08403610728427734,-0.3219768344393413,0.030567251288725984,0.6387071244259642,2.0584786699697726,2.2729373305352922,-1.4912937903346457,-1.7143541593610665,-0.34648232336346285,-0.23503278285029994,-0.15948119829612942,0.5131560094607199,0.3991080890988705,-0.6343936102103105,-0.0940156804309552,-0.17713779298576451,-0.75443203752132,-0.4360212088269227,-0.49578419347288005,-1.0089817430408183,-0.45886311889243525,-0.20026747240539783,-1.8763166449135418,0.3735678516046811,0.804719500794733,1.1871386676158464,1.3186386149058955,-1.0325204869497864,-1.7590503779541997,0.7025720876217167,0.2678085853874164,-0.7554939802021241,-2.372721493554485,-1.3184213475425806,0.46209929466084504,-0.7232520394848614,1.2672793869050392,-1.3645244928619236,0.9613521435589473,-1.3753146341448226,0.2316998510860715,1.7574559430991654,-3.098889574485068,1.1375254421854166,-0.5386418392620599,1.2300015496189856,-0.07574961938385888,1.9618251717642414,1.299537326929035,-1.1235054198822467,0.5221874567126272],\"type\":\"box\"}],                        {\"legend\":{\"bgcolor\":\"#F5F6F9\",\"font\":{\"color\":\"#4D5663\"}},\"paper_bgcolor\":\"#F5F6F9\",\"plot_bgcolor\":\"#F5F6F9\",\"template\":{\"data\":{\"barpolar\":[{\"marker\":{\"line\":{\"color\":\"#E5ECF6\",\"width\":0.5},\"pattern\":{\"fillmode\":\"overlay\",\"size\":10,\"solidity\":0.2}},\"type\":\"barpolar\"}],\"bar\":[{\"error_x\":{\"color\":\"#2a3f5f\"},\"error_y\":{\"color\":\"#2a3f5f\"},\"marker\":{\"line\":{\"color\":\"#E5ECF6\",\"width\":0.5},\"pattern\":{\"fillmode\":\"overlay\",\"size\":10,\"solidity\":0.2}},\"type\":\"bar\"}],\"carpet\":[{\"aaxis\":{\"endlinecolor\":\"#2a3f5f\",\"gridcolor\":\"white\",\"linecolor\":\"white\",\"minorgridcolor\":\"white\",\"startlinecolor\":\"#2a3f5f\"},\"baxis\":{\"endlinecolor\":\"#2a3f5f\",\"gridcolor\":\"white\",\"linecolor\":\"white\",\"minorgridcolor\":\"white\",\"startlinecolor\":\"#2a3f5f\"},\"type\":\"carpet\"}],\"choropleth\":[{\"colorbar\":{\"outlinewidth\":0,\"ticks\":\"\"},\"type\":\"choropleth\"}],\"contourcarpet\":[{\"colorbar\":{\"outlinewidth\":0,\"ticks\":\"\"},\"type\":\"contourcarpet\"}],\"contour\":[{\"colorbar\":{\"outlinewidth\":0,\"ticks\":\"\"},\"colorscale\":[[0.0,\"#0d0887\"],[0.1111111111111111,\"#46039f\"],[0.2222222222222222,\"#7201a8\"],[0.3333333333333333,\"#9c179e\"],[0.4444444444444444,\"#bd3786\"],[0.5555555555555556,\"#d8576b\"],[0.6666666666666666,\"#ed7953\"],[0.7777777777777778,\"#fb9f3a\"],[0.8888888888888888,\"#fdca26\"],[1.0,\"#f0f921\"]],\"type\":\"contour\"}],\"heatmapgl\":[{\"colorbar\":{\"outlinewidth\":0,\"ticks\":\"\"},\"colorscale\":[[0.0,\"#0d0887\"],[0.1111111111111111,\"#46039f\"],[0.2222222222222222,\"#7201a8\"],[0.3333333333333333,\"#9c179e\"],[0.4444444444444444,\"#bd3786\"],[0.5555555555555556,\"#d8576b\"],[0.6666666666666666,\"#ed7953\"],[0.7777777777777778,\"#fb9f3a\"],[0.8888888888888888,\"#fdca26\"],[1.0,\"#f0f921\"]],\"type\":\"heatmapgl\"}],\"heatmap\":[{\"colorbar\":{\"outlinewidth\":0,\"ticks\":\"\"},\"colorscale\":[[0.0,\"#0d0887\"],[0.1111111111111111,\"#46039f\"],[0.2222222222222222,\"#7201a8\"],[0.3333333333333333,\"#9c179e\"],[0.4444444444444444,\"#bd3786\"],[0.5555555555555556,\"#d8576b\"],[0.6666666666666666,\"#ed7953\"],[0.7777777777777778,\"#fb9f3a\"],[0.8888888888888888,\"#fdca26\"],[1.0,\"#f0f921\"]],\"type\":\"heatmap\"}],\"histogram2dcontour\":[{\"colorbar\":{\"outlinewidth\":0,\"ticks\":\"\"},\"colorscale\":[[0.0,\"#0d0887\"],[0.1111111111111111,\"#46039f\"],[0.2222222222222222,\"#7201a8\"],[0.3333333333333333,\"#9c179e\"],[0.4444444444444444,\"#bd3786\"],[0.5555555555555556,\"#d8576b\"],[0.6666666666666666,\"#ed7953\"],[0.7777777777777778,\"#fb9f3a\"],[0.8888888888888888,\"#fdca26\"],[1.0,\"#f0f921\"]],\"type\":\"histogram2dcontour\"}],\"histogram2d\":[{\"colorbar\":{\"outlinewidth\":0,\"ticks\":\"\"},\"colorscale\":[[0.0,\"#0d0887\"],[0.1111111111111111,\"#46039f\"],[0.2222222222222222,\"#7201a8\"],[0.3333333333333333,\"#9c179e\"],[0.4444444444444444,\"#bd3786\"],[0.5555555555555556,\"#d8576b\"],[0.6666666666666666,\"#ed7953\"],[0.7777777777777778,\"#fb9f3a\"],[0.8888888888888888,\"#fdca26\"],[1.0,\"#f0f921\"]],\"type\":\"histogram2d\"}],\"histogram\":[{\"marker\":{\"pattern\":{\"fillmode\":\"overlay\",\"size\":10,\"solidity\":0.2}},\"type\":\"histogram\"}],\"mesh3d\":[{\"colorbar\":{\"outlinewidth\":0,\"ticks\":\"\"},\"type\":\"mesh3d\"}],\"parcoords\":[{\"line\":{\"colorbar\":{\"outlinewidth\":0,\"ticks\":\"\"}},\"type\":\"parcoords\"}],\"pie\":[{\"automargin\":true,\"type\":\"pie\"}],\"scatter3d\":[{\"line\":{\"colorbar\":{\"outlinewidth\":0,\"ticks\":\"\"}},\"marker\":{\"colorbar\":{\"outlinewidth\":0,\"ticks\":\"\"}},\"type\":\"scatter3d\"}],\"scattercarpet\":[{\"marker\":{\"colorbar\":{\"outlinewidth\":0,\"ticks\":\"\"}},\"type\":\"scattercarpet\"}],\"scattergeo\":[{\"marker\":{\"colorbar\":{\"outlinewidth\":0,\"ticks\":\"\"}},\"type\":\"scattergeo\"}],\"scattergl\":[{\"marker\":{\"colorbar\":{\"outlinewidth\":0,\"ticks\":\"\"}},\"type\":\"scattergl\"}],\"scattermapbox\":[{\"marker\":{\"colorbar\":{\"outlinewidth\":0,\"ticks\":\"\"}},\"type\":\"scattermapbox\"}],\"scatterpolargl\":[{\"marker\":{\"colorbar\":{\"outlinewidth\":0,\"ticks\":\"\"}},\"type\":\"scatterpolargl\"}],\"scatterpolar\":[{\"marker\":{\"colorbar\":{\"outlinewidth\":0,\"ticks\":\"\"}},\"type\":\"scatterpolar\"}],\"scatter\":[{\"fillpattern\":{\"fillmode\":\"overlay\",\"size\":10,\"solidity\":0.2},\"type\":\"scatter\"}],\"scatterternary\":[{\"marker\":{\"colorbar\":{\"outlinewidth\":0,\"ticks\":\"\"}},\"type\":\"scatterternary\"}],\"surface\":[{\"colorbar\":{\"outlinewidth\":0,\"ticks\":\"\"},\"colorscale\":[[0.0,\"#0d0887\"],[0.1111111111111111,\"#46039f\"],[0.2222222222222222,\"#7201a8\"],[0.3333333333333333,\"#9c179e\"],[0.4444444444444444,\"#bd3786\"],[0.5555555555555556,\"#d8576b\"],[0.6666666666666666,\"#ed7953\"],[0.7777777777777778,\"#fb9f3a\"],[0.8888888888888888,\"#fdca26\"],[1.0,\"#f0f921\"]],\"type\":\"surface\"}],\"table\":[{\"cells\":{\"fill\":{\"color\":\"#EBF0F8\"},\"line\":{\"color\":\"white\"}},\"header\":{\"fill\":{\"color\":\"#C8D4E3\"},\"line\":{\"color\":\"white\"}},\"type\":\"table\"}]},\"layout\":{\"annotationdefaults\":{\"arrowcolor\":\"#2a3f5f\",\"arrowhead\":0,\"arrowwidth\":1},\"autotypenumbers\":\"strict\",\"coloraxis\":{\"colorbar\":{\"outlinewidth\":0,\"ticks\":\"\"}},\"colorscale\":{\"diverging\":[[0,\"#8e0152\"],[0.1,\"#c51b7d\"],[0.2,\"#de77ae\"],[0.3,\"#f1b6da\"],[0.4,\"#fde0ef\"],[0.5,\"#f7f7f7\"],[0.6,\"#e6f5d0\"],[0.7,\"#b8e186\"],[0.8,\"#7fbc41\"],[0.9,\"#4d9221\"],[1,\"#276419\"]],\"sequential\":[[0.0,\"#0d0887\"],[0.1111111111111111,\"#46039f\"],[0.2222222222222222,\"#7201a8\"],[0.3333333333333333,\"#9c179e\"],[0.4444444444444444,\"#bd3786\"],[0.5555555555555556,\"#d8576b\"],[0.6666666666666666,\"#ed7953\"],[0.7777777777777778,\"#fb9f3a\"],[0.8888888888888888,\"#fdca26\"],[1.0,\"#f0f921\"]],\"sequentialminus\":[[0.0,\"#0d0887\"],[0.1111111111111111,\"#46039f\"],[0.2222222222222222,\"#7201a8\"],[0.3333333333333333,\"#9c179e\"],[0.4444444444444444,\"#bd3786\"],[0.5555555555555556,\"#d8576b\"],[0.6666666666666666,\"#ed7953\"],[0.7777777777777778,\"#fb9f3a\"],[0.8888888888888888,\"#fdca26\"],[1.0,\"#f0f921\"]]},\"colorway\":[\"#636efa\",\"#EF553B\",\"#00cc96\",\"#ab63fa\",\"#FFA15A\",\"#19d3f3\",\"#FF6692\",\"#B6E880\",\"#FF97FF\",\"#FECB52\"],\"font\":{\"color\":\"#2a3f5f\"},\"geo\":{\"bgcolor\":\"white\",\"lakecolor\":\"white\",\"landcolor\":\"#E5ECF6\",\"showlakes\":true,\"showland\":true,\"subunitcolor\":\"white\"},\"hoverlabel\":{\"align\":\"left\"},\"hovermode\":\"closest\",\"mapbox\":{\"style\":\"light\"},\"paper_bgcolor\":\"white\",\"plot_bgcolor\":\"#E5ECF6\",\"polar\":{\"angularaxis\":{\"gridcolor\":\"white\",\"linecolor\":\"white\",\"ticks\":\"\"},\"bgcolor\":\"#E5ECF6\",\"radialaxis\":{\"gridcolor\":\"white\",\"linecolor\":\"white\",\"ticks\":\"\"}},\"scene\":{\"xaxis\":{\"backgroundcolor\":\"#E5ECF6\",\"gridcolor\":\"white\",\"gridwidth\":2,\"linecolor\":\"white\",\"showbackground\":true,\"ticks\":\"\",\"zerolinecolor\":\"white\"},\"yaxis\":{\"backgroundcolor\":\"#E5ECF6\",\"gridcolor\":\"white\",\"gridwidth\":2,\"linecolor\":\"white\",\"showbackground\":true,\"ticks\":\"\",\"zerolinecolor\":\"white\"},\"zaxis\":{\"backgroundcolor\":\"#E5ECF6\",\"gridcolor\":\"white\",\"gridwidth\":2,\"linecolor\":\"white\",\"showbackground\":true,\"ticks\":\"\",\"zerolinecolor\":\"white\"}},\"shapedefaults\":{\"line\":{\"color\":\"#2a3f5f\"}},\"ternary\":{\"aaxis\":{\"gridcolor\":\"white\",\"linecolor\":\"white\",\"ticks\":\"\"},\"baxis\":{\"gridcolor\":\"white\",\"linecolor\":\"white\",\"ticks\":\"\"},\"bgcolor\":\"#E5ECF6\",\"caxis\":{\"gridcolor\":\"white\",\"linecolor\":\"white\",\"ticks\":\"\"}},\"title\":{\"x\":0.05},\"xaxis\":{\"automargin\":true,\"gridcolor\":\"white\",\"linecolor\":\"white\",\"ticks\":\"\",\"title\":{\"standoff\":15},\"zerolinecolor\":\"white\",\"zerolinewidth\":2},\"yaxis\":{\"automargin\":true,\"gridcolor\":\"white\",\"linecolor\":\"white\",\"ticks\":\"\",\"title\":{\"standoff\":15},\"zerolinecolor\":\"white\",\"zerolinewidth\":2}}},\"title\":{\"font\":{\"color\":\"#4D5663\"}},\"xaxis\":{\"gridcolor\":\"#E1E5ED\",\"showgrid\":true,\"tickfont\":{\"color\":\"#4D5663\"},\"title\":{\"font\":{\"color\":\"#4D5663\"},\"text\":\"\"},\"zerolinecolor\":\"#E1E5ED\"},\"yaxis\":{\"gridcolor\":\"#E1E5ED\",\"showgrid\":true,\"tickfont\":{\"color\":\"#4D5663\"},\"title\":{\"font\":{\"color\":\"#4D5663\"},\"text\":\"\"},\"zerolinecolor\":\"#E1E5ED\"}},                        {\"showLink\": true, \"linkText\": \"Export to plot.ly\", \"plotlyServerURL\": \"https://plot.ly\", \"responsive\": true}                    ).then(function(){\n",
       "                            \n",
       "var gd = document.getElementById('4204bb42-e951-4244-9d31-ca79614296ef');\n",
       "var x = new MutationObserver(function (mutations, observer) {{\n",
       "        var display = window.getComputedStyle(gd).display;\n",
       "        if (!display || display === 'none') {{\n",
       "            console.log([gd, 'removed!']);\n",
       "            Plotly.purge(gd);\n",
       "            observer.disconnect();\n",
       "        }}\n",
       "}});\n",
       "\n",
       "// Listen for the removal of the full notebook cells\n",
       "var notebookContainer = gd.closest('#notebook-container');\n",
       "if (notebookContainer) {{\n",
       "    x.observe(notebookContainer, {childList: true});\n",
       "}}\n",
       "\n",
       "// Listen for the clearing of the current output cell\n",
       "var outputEl = gd.closest('.output');\n",
       "if (outputEl) {{\n",
       "    x.observe(outputEl, {childList: true});\n",
       "}}\n",
       "\n",
       "                        })                };                });            </script>        </div>"
      ]
     },
     "metadata": {},
     "output_type": "display_data"
    }
   ],
   "source": [
    "df.iplot(kind='box')"
   ]
  },
  {
   "cell_type": "code",
   "execution_count": 53,
   "id": "4d90b4c2",
   "metadata": {
    "ExecuteTime": {
     "end_time": "2023-03-23T12:03:11.054780Z",
     "start_time": "2023-03-23T12:03:11.046759Z"
    }
   },
   "outputs": [],
   "source": [
    "df3 = pd.DataFrame({'x':[1,2,3,4,5], 'y':[10,20,30,20,10], 'z':[3,3,2,1]})"
   ]
  },
  {
   "cell_type": "code",
   "execution_count": 54,
   "id": "f1a8d867",
   "metadata": {
    "ExecuteTime": {
     "end_time": "2023-03-23T12:03:11.399810Z",
     "start_time": "2023-03-23T12:03:11.383221Z"
    }
   },
   "outputs": [
    {
     "data": {
      "text/html": [
       "<div>\n",
       "<style scoped>\n",
       "    .dataframe tbody tr th:only-of-type {\n",
       "        vertical-align: middle;\n",
       "    }\n",
       "\n",
       "    .dataframe tbody tr th {\n",
       "        vertical-align: top;\n",
       "    }\n",
       "\n",
       "    .dataframe thead th {\n",
       "        text-align: right;\n",
       "    }\n",
       "</style>\n",
       "<table border=\"1\" class=\"dataframe\">\n",
       "  <thead>\n",
       "    <tr style=\"text-align: right;\">\n",
       "      <th></th>\n",
       "      <th>x</th>\n",
       "      <th>y</th>\n",
       "      <th>z</th>\n",
       "    </tr>\n",
       "  </thead>\n",
       "  <tbody>\n",
       "    <tr>\n",
       "      <th>0</th>\n",
       "      <td>1</td>\n",
       "      <td>10</td>\n",
       "      <td>5</td>\n",
       "    </tr>\n",
       "    <tr>\n",
       "      <th>1</th>\n",
       "      <td>2</td>\n",
       "      <td>20</td>\n",
       "      <td>4</td>\n",
       "    </tr>\n",
       "    <tr>\n",
       "      <th>2</th>\n",
       "      <td>3</td>\n",
       "      <td>30</td>\n",
       "      <td>3</td>\n",
       "    </tr>\n",
       "    <tr>\n",
       "      <th>3</th>\n",
       "      <td>4</td>\n",
       "      <td>20</td>\n",
       "      <td>2</td>\n",
       "    </tr>\n",
       "    <tr>\n",
       "      <th>4</th>\n",
       "      <td>5</td>\n",
       "      <td>10</td>\n",
       "      <td>1</td>\n",
       "    </tr>\n",
       "  </tbody>\n",
       "</table>\n",
       "</div>"
      ],
      "text/plain": [
       "   x   y  z\n",
       "0  1  10  5\n",
       "1  2  20  4\n",
       "2  3  30  3\n",
       "3  4  20  2\n",
       "4  5  10  1"
      ]
     },
     "execution_count": 54,
     "metadata": {},
     "output_type": "execute_result"
    }
   ],
   "source": [
    "df3 "
   ]
  },
  {
   "cell_type": "code",
   "execution_count": 55,
   "id": "11717d4a",
   "metadata": {
    "ExecuteTime": {
     "end_time": "2023-03-23T12:03:11.871805Z",
     "start_time": "2023-03-23T12:03:11.830720Z"
    }
   },
   "outputs": [
    {
     "data": {
      "application/vnd.plotly.v1+json": {
       "config": {
        "linkText": "Export to plot.ly",
        "plotlyServerURL": "https://plot.ly",
        "showLink": true
       },
       "data": [
        {
         "colorscale": [
          [
           0,
           "rgb(255, 153, 51)"
          ],
          [
           0.1111111111111111,
           "rgb(55, 128, 191)"
          ],
          [
           0.2222222222222222,
           "rgb(50, 171, 96)"
          ],
          [
           0.3333333333333333,
           "rgb(128, 0, 128)"
          ],
          [
           0.4444444444444444,
           "rgb(219, 64, 82)"
          ],
          [
           0.5555555555555556,
           "rgb(0, 128, 128)"
          ],
          [
           0.6666666666666666,
           "rgb(255, 255, 51)"
          ],
          [
           0.7777777777777778,
           "rgb(128, 128, 0)"
          ],
          [
           0.8888888888888888,
           "rgb(251, 128, 114)"
          ],
          [
           1,
           "rgb(128, 177, 211)"
          ]
         ],
         "type": "surface",
         "x": [
          0,
          1,
          2,
          3,
          4,
          5,
          6,
          7,
          8,
          9,
          10,
          11,
          12,
          13,
          14,
          15,
          16,
          17,
          18,
          19,
          20,
          21,
          22,
          23,
          24,
          25,
          26,
          27,
          28,
          29,
          30,
          31,
          32,
          33,
          34,
          35,
          36,
          37,
          38,
          39,
          40,
          41,
          42,
          43,
          44,
          45,
          46,
          47,
          48,
          49,
          50,
          51,
          52,
          53,
          54,
          55,
          56,
          57,
          58,
          59,
          60,
          61,
          62,
          63,
          64,
          65,
          66,
          67,
          68,
          69,
          70,
          71,
          72,
          73,
          74,
          75,
          76,
          77,
          78,
          79,
          80,
          81,
          82,
          83,
          84,
          85,
          86,
          87,
          88,
          89,
          90,
          91,
          92,
          93,
          94,
          95,
          96,
          97,
          98,
          99
         ],
         "y": [
          "A",
          "B",
          "C",
          "D"
         ],
         "z": [
          [
           0.4278303063139346,
           -0.17960339661206842,
           1.0164042618967994,
           -0.7122789625358378,
           -0.6470161726957598,
           -1.5391054711001806,
           -0.816419876227612,
           0.14992634819113262,
           -0.2538297184910725,
           0.4011312596835835,
           -0.35121217557811146,
           -0.08067457705225729,
           -1.2864396719186408,
           0.46615802073452944,
           -0.3186788122439116,
           1.0143288516154085,
           -2.2806490282504535,
           0.40384690521168326,
           0.6018005259883966,
           -0.25978009976335664,
           -1.1669122342579856,
           0.8573994100521745,
           0.8623475326006868,
           -0.3544586484489518,
           0.4110630086982138,
           -0.32937147502200953,
           0.8971370723551457,
           0.42079992650952014,
           -0.4723624434704465,
           0.12777627493488986,
           0.4889927615403592,
           -0.9481653064033165,
           0.10111690399406939,
           -0.5199092906505531,
           -0.9131480083912413,
           1.091390985730131,
           -1.166766293120185,
           0.20757181583433243,
           0.6829620194836434,
           -1.0930355069538578,
           -0.02650130330699229,
           -1.2924400269578538,
           0.14418601175977652,
           -0.20223854166849403,
           0.19208883138239824,
           -0.18114204996310787,
           -0.19841663539400559,
           1.8385362877297255,
           0.15384934369884648,
           -0.3098194447686136,
           -1.2045370228630572,
           0.5327550476824217,
           -0.29441402000600364,
           0.3709208833043238,
           -1.5092728793466288,
           0.5191502262763877,
           1.4637639676598087,
           -0.7232252992171272,
           0.6980766119028778,
           -0.7563825513013476,
           -0.7421339581048623,
           1.121264011877191,
           0.013752107630780407,
           -0.5892825852411415,
           0.6056490857330595,
           0.9780201457682005,
           0.3394107574260655,
           -0.29779406831739264,
           -0.8249862472503384,
           -0.006608688646789804,
           0.9173723910209661,
           -0.03603833862910183,
           -0.6990592443026739,
           -1.342749352000533,
           -1.7062572618616654,
           -0.4379870105257444,
           -0.37396788969217615,
           -1.2152159255979396,
           0.85898836922212,
           0.2853468800286372,
           0.08525587871536675,
           0.3440875236892165,
           0.43424037380948755,
           0.5175629844710247,
           -0.06289870370813987,
           -0.3717812990629133,
           -1.3435656884172564,
           2.1465656501241304,
           0.9877233116000835,
           0.04448063913151714,
           -0.5020413908536919,
           0.13533132322167515,
           -0.4085192034480075,
           -0.5307015361759451,
           0.8328125615881095,
           0.16467398244369646,
           0.3384160963082231,
           0.5451546074803042,
           0.565600486678321,
           0.7341938436024419
          ],
          [
           0.48306040414083834,
           0.009058351407117657,
           -0.10115869895854517,
           1.299364507421079,
           -0.917630514349454,
           -0.0004417653346297867,
           -0.40798279547156635,
           0.3444360696810804,
           -0.5303963906334963,
           0.16405004030193343,
           0.3350632725543995,
           -0.1981882405566007,
           -0.24432705870638655,
           1.096647494957282,
           0.3648057242653707,
           1.792685105555086,
           1.4643582511094944,
           -0.8544839418659624,
           -0.9191036875899685,
           0.5677118433595862,
           0.3644188202879386,
           0.33595984166710796,
           1.9936047851335992,
           -0.3184669272450796,
           0.32975569755681217,
           0.4260629510999024,
           0.23486176179843596,
           -1.086942248367033,
           0.3674910042928074,
           -0.46547162469799963,
           -0.9924427421111863,
           -2.1406810439355066,
           -0.21469032628104553,
           -0.12076619656413162,
           0.7647436190552594,
           0.4929088265880474,
           -0.8771908460491088,
           2.1777215427021996,
           0.04436592206782866,
           -0.0073038619111890565,
           1.4963995074604057,
           -0.46116149162445347,
           -0.9719021840295913,
           0.6605389800911491,
           -1.160605255775432,
           0.6757450195029824,
           -0.6991125021178969,
           0.5398846034108065,
           -0.4066398571344095,
           -0.31589064660126354,
           -0.7208238632743234,
           -0.383731214271165,
           -1.3536096966031266,
           0.4987596504299444,
           0.22804262761234906,
           -0.9882108951751464,
           0.6127722213063093,
           -0.9834991873284643,
           0.14950554896813462,
           0.4830956263791654,
           0.17451464216515458,
           -1.816099518246873,
           1.1385736700100326,
           -1.0036133687647835,
           0.8188788059107236,
           1.157425588927253,
           -1.1723531019569493,
           -0.07573755585923887,
           0.17966228070772516,
           0.6285754121275586,
           1.1372469738815771,
           -0.28269154554196035,
           0.7165406494548696,
           -0.23007318691659548,
           -0.8883280341101701,
           0.3281056679583895,
           -0.5449040671497705,
           -1.5170140313832825,
           0.7159357051909687,
           1.2061881235431922,
           -1.487080206258318,
           0.219275882063202,
           0.007041079866349726,
           0.2331570317320377,
           0.0034261754096381295,
           0.08514670420553244,
           -1.1107420851889813,
           1.8460938344620215,
           -0.21158616035407998,
           0.0044370729423990705,
           -0.39390964225737446,
           -1.222526038408339,
           -0.43863339052296013,
           -0.08599763750602338,
           -0.7734350600969128,
           -0.12144896846053277,
           -0.18775311587229412,
           1.4392171860459413,
           -0.2882843728195542,
           0.364549423795677
          ],
          [
           -0.24206467032319814,
           -1.2631525698375463,
           0.4594071214617641,
           0.60077235908034,
           -0.9265626233504829,
           0.6756216034502802,
           0.7434142581111773,
           0.018262130597430336,
           -0.06392608339156247,
           1.4060464622338318,
           1.0686269655137899,
           0.002754273374794008,
           0.4605672689199664,
           0.39263815023305654,
           -0.7329865214766967,
           1.6297002427753362,
           -0.0008107283884601559,
           1.9765014199108537,
           1.2096049063087697,
           1.6213248538289111,
           -1.585873889736527,
           -0.8651655009854876,
           0.020988001541876446,
           -1.3406838702958856,
           -0.951200160119948,
           -0.497654320179825,
           -0.021054458357745297,
           -1.0574593040360256,
           1.0294055755935148,
           1.2163001342613522,
           0.17970515970423812,
           -0.11760176641969425,
           -1.0969510943885759,
           -0.5868858904725097,
           2.083934082971225,
           -0.9181885756735065,
           -0.1553782987340766,
           -0.820988776654748,
           -0.3804720882188407,
           -0.35752641236018046,
           -0.35401246761989624,
           -0.5775830532493539,
           -2.424900350237003,
           0.2855207075604285,
           0.46936376753898157,
           -0.21746001938038956,
           0.06450952686778252,
           0.7444671538036397,
           -1.2248250486686556,
           -1.416788946235324,
           1.3705699230468036,
           -0.2893623524636134,
           0.7887332621839191,
           0.6265750340329868,
           -1.7050938119207735,
           -1.710626378654247,
           -0.17212900337049927,
           0.786445692495372,
           0.8728446850178994,
           -0.04713310597221714,
           0.13142099172018107,
           0.39726379664821326,
           1.322607054992196,
           0.5354512919666429,
           1.2374262494474055,
           2.116237482381573,
           1.9044511430298887,
           1.391112716532458,
           -0.35693852947472154,
           0.4918662133612119,
           -0.5922710055561605,
           -0.7878598194918272,
           0.5265707948268116,
           -0.642020950111216,
           0.5517844245714252,
           -0.7934961397371885,
           0.7908296097983124,
           2.275523536747189,
           1.1606453869673206,
           -0.7974626361895323,
           0.005581955560807476,
           0.21689162723437547,
           0.22298419441339054,
           0.8200441699855056,
           1.19166521369793,
           -0.8976133213470465,
           -0.567476953648249,
           -0.7809052141714418,
           -0.27644458517576165,
           1.0616591780119478,
           -1.2363549285298678,
           0.1262708566305871,
           0.9525493443749347,
           -1.6866168540938908,
           -0.4902723986210022,
           -0.7992571135728221,
           -2.074657039634036,
           0.30943950283626537,
           0.9782524876015997,
           -0.1773164998324019
          ],
          [
           -1.7133387861031382,
           -1.2932945006528207,
           0.14441817391879672,
           -0.46427328484531893,
           -1.3646050456562944,
           0.4686406470154942,
           0.7474547724221794,
           -0.675305811206826,
           0.758847914674031,
           0.7428028093361997,
           -0.4065924037422975,
           0.8064727208976706,
           0.2931240500444258,
           -1.0914232991042179,
           -2.0453820137163046,
           -0.2936273028983105,
           -0.14035412942006467,
           -0.8301817516350479,
           -0.7865457087503928,
           -1.1546250246981458,
           0.3215877269843798,
           -1.3839309511016578,
           0.08209020772287838,
           0.9304230655889154,
           0.31745222546584634,
           0.11193970003501555,
           1.7139986776284593,
           -2.0967803975447517,
           1.0511375814990898,
           0.6383915109140148,
           1.2555622054890245,
           -0.5508945322176529,
           0.18747842418344107,
           -0.9803099881452719,
           0.1467935250497945,
           -0.20256265797208975,
           1.567893903926729,
           -1.644143572382776,
           0.30826059921641225,
           -0.7387013328474691,
           -0.019446660009001256,
           1.326199758941917,
           1.0410750283906138,
           1.2395301701487318,
           -2.406092741659287,
           2.416574931180957,
           0.6882233525175699,
           0.04639932826401581,
           -0.16979647167446166,
           0.08403610728427734,
           -0.3219768344393413,
           0.030567251288725984,
           0.6387071244259642,
           2.0584786699697726,
           2.2729373305352922,
           -1.4912937903346457,
           -1.7143541593610665,
           -0.34648232336346285,
           -0.23503278285029994,
           -0.15948119829612942,
           0.5131560094607199,
           0.3991080890988705,
           -0.6343936102103105,
           -0.0940156804309552,
           -0.17713779298576451,
           -0.75443203752132,
           -0.4360212088269227,
           -0.49578419347288005,
           -1.0089817430408183,
           -0.45886311889243525,
           -0.20026747240539783,
           -1.8763166449135418,
           0.3735678516046811,
           0.804719500794733,
           1.1871386676158464,
           1.3186386149058955,
           -1.0325204869497864,
           -1.7590503779541997,
           0.7025720876217167,
           0.2678085853874164,
           -0.7554939802021241,
           -2.372721493554485,
           -1.3184213475425806,
           0.46209929466084504,
           -0.7232520394848614,
           1.2672793869050392,
           -1.3645244928619236,
           0.9613521435589473,
           -1.3753146341448226,
           0.2316998510860715,
           1.7574559430991654,
           -3.098889574485068,
           1.1375254421854166,
           -0.5386418392620599,
           1.2300015496189856,
           -0.07574961938385888,
           1.9618251717642414,
           1.299537326929035,
           -1.1235054198822467,
           0.5221874567126272
          ]
         ]
        }
       ],
       "layout": {
        "legend": {
         "bgcolor": "#F5F6F9",
         "font": {
          "color": "#4D5663"
         }
        },
        "paper_bgcolor": "#F5F6F9",
        "plot_bgcolor": "#F5F6F9",
        "template": {
         "data": {
          "bar": [
           {
            "error_x": {
             "color": "#2a3f5f"
            },
            "error_y": {
             "color": "#2a3f5f"
            },
            "marker": {
             "line": {
              "color": "#E5ECF6",
              "width": 0.5
             },
             "pattern": {
              "fillmode": "overlay",
              "size": 10,
              "solidity": 0.2
             }
            },
            "type": "bar"
           }
          ],
          "barpolar": [
           {
            "marker": {
             "line": {
              "color": "#E5ECF6",
              "width": 0.5
             },
             "pattern": {
              "fillmode": "overlay",
              "size": 10,
              "solidity": 0.2
             }
            },
            "type": "barpolar"
           }
          ],
          "carpet": [
           {
            "aaxis": {
             "endlinecolor": "#2a3f5f",
             "gridcolor": "white",
             "linecolor": "white",
             "minorgridcolor": "white",
             "startlinecolor": "#2a3f5f"
            },
            "baxis": {
             "endlinecolor": "#2a3f5f",
             "gridcolor": "white",
             "linecolor": "white",
             "minorgridcolor": "white",
             "startlinecolor": "#2a3f5f"
            },
            "type": "carpet"
           }
          ],
          "choropleth": [
           {
            "colorbar": {
             "outlinewidth": 0,
             "ticks": ""
            },
            "type": "choropleth"
           }
          ],
          "contour": [
           {
            "colorbar": {
             "outlinewidth": 0,
             "ticks": ""
            },
            "colorscale": [
             [
              0,
              "#0d0887"
             ],
             [
              0.1111111111111111,
              "#46039f"
             ],
             [
              0.2222222222222222,
              "#7201a8"
             ],
             [
              0.3333333333333333,
              "#9c179e"
             ],
             [
              0.4444444444444444,
              "#bd3786"
             ],
             [
              0.5555555555555556,
              "#d8576b"
             ],
             [
              0.6666666666666666,
              "#ed7953"
             ],
             [
              0.7777777777777778,
              "#fb9f3a"
             ],
             [
              0.8888888888888888,
              "#fdca26"
             ],
             [
              1,
              "#f0f921"
             ]
            ],
            "type": "contour"
           }
          ],
          "contourcarpet": [
           {
            "colorbar": {
             "outlinewidth": 0,
             "ticks": ""
            },
            "type": "contourcarpet"
           }
          ],
          "heatmap": [
           {
            "colorbar": {
             "outlinewidth": 0,
             "ticks": ""
            },
            "colorscale": [
             [
              0,
              "#0d0887"
             ],
             [
              0.1111111111111111,
              "#46039f"
             ],
             [
              0.2222222222222222,
              "#7201a8"
             ],
             [
              0.3333333333333333,
              "#9c179e"
             ],
             [
              0.4444444444444444,
              "#bd3786"
             ],
             [
              0.5555555555555556,
              "#d8576b"
             ],
             [
              0.6666666666666666,
              "#ed7953"
             ],
             [
              0.7777777777777778,
              "#fb9f3a"
             ],
             [
              0.8888888888888888,
              "#fdca26"
             ],
             [
              1,
              "#f0f921"
             ]
            ],
            "type": "heatmap"
           }
          ],
          "heatmapgl": [
           {
            "colorbar": {
             "outlinewidth": 0,
             "ticks": ""
            },
            "colorscale": [
             [
              0,
              "#0d0887"
             ],
             [
              0.1111111111111111,
              "#46039f"
             ],
             [
              0.2222222222222222,
              "#7201a8"
             ],
             [
              0.3333333333333333,
              "#9c179e"
             ],
             [
              0.4444444444444444,
              "#bd3786"
             ],
             [
              0.5555555555555556,
              "#d8576b"
             ],
             [
              0.6666666666666666,
              "#ed7953"
             ],
             [
              0.7777777777777778,
              "#fb9f3a"
             ],
             [
              0.8888888888888888,
              "#fdca26"
             ],
             [
              1,
              "#f0f921"
             ]
            ],
            "type": "heatmapgl"
           }
          ],
          "histogram": [
           {
            "marker": {
             "pattern": {
              "fillmode": "overlay",
              "size": 10,
              "solidity": 0.2
             }
            },
            "type": "histogram"
           }
          ],
          "histogram2d": [
           {
            "colorbar": {
             "outlinewidth": 0,
             "ticks": ""
            },
            "colorscale": [
             [
              0,
              "#0d0887"
             ],
             [
              0.1111111111111111,
              "#46039f"
             ],
             [
              0.2222222222222222,
              "#7201a8"
             ],
             [
              0.3333333333333333,
              "#9c179e"
             ],
             [
              0.4444444444444444,
              "#bd3786"
             ],
             [
              0.5555555555555556,
              "#d8576b"
             ],
             [
              0.6666666666666666,
              "#ed7953"
             ],
             [
              0.7777777777777778,
              "#fb9f3a"
             ],
             [
              0.8888888888888888,
              "#fdca26"
             ],
             [
              1,
              "#f0f921"
             ]
            ],
            "type": "histogram2d"
           }
          ],
          "histogram2dcontour": [
           {
            "colorbar": {
             "outlinewidth": 0,
             "ticks": ""
            },
            "colorscale": [
             [
              0,
              "#0d0887"
             ],
             [
              0.1111111111111111,
              "#46039f"
             ],
             [
              0.2222222222222222,
              "#7201a8"
             ],
             [
              0.3333333333333333,
              "#9c179e"
             ],
             [
              0.4444444444444444,
              "#bd3786"
             ],
             [
              0.5555555555555556,
              "#d8576b"
             ],
             [
              0.6666666666666666,
              "#ed7953"
             ],
             [
              0.7777777777777778,
              "#fb9f3a"
             ],
             [
              0.8888888888888888,
              "#fdca26"
             ],
             [
              1,
              "#f0f921"
             ]
            ],
            "type": "histogram2dcontour"
           }
          ],
          "mesh3d": [
           {
            "colorbar": {
             "outlinewidth": 0,
             "ticks": ""
            },
            "type": "mesh3d"
           }
          ],
          "parcoords": [
           {
            "line": {
             "colorbar": {
              "outlinewidth": 0,
              "ticks": ""
             }
            },
            "type": "parcoords"
           }
          ],
          "pie": [
           {
            "automargin": true,
            "type": "pie"
           }
          ],
          "scatter": [
           {
            "fillpattern": {
             "fillmode": "overlay",
             "size": 10,
             "solidity": 0.2
            },
            "type": "scatter"
           }
          ],
          "scatter3d": [
           {
            "line": {
             "colorbar": {
              "outlinewidth": 0,
              "ticks": ""
             }
            },
            "marker": {
             "colorbar": {
              "outlinewidth": 0,
              "ticks": ""
             }
            },
            "type": "scatter3d"
           }
          ],
          "scattercarpet": [
           {
            "marker": {
             "colorbar": {
              "outlinewidth": 0,
              "ticks": ""
             }
            },
            "type": "scattercarpet"
           }
          ],
          "scattergeo": [
           {
            "marker": {
             "colorbar": {
              "outlinewidth": 0,
              "ticks": ""
             }
            },
            "type": "scattergeo"
           }
          ],
          "scattergl": [
           {
            "marker": {
             "colorbar": {
              "outlinewidth": 0,
              "ticks": ""
             }
            },
            "type": "scattergl"
           }
          ],
          "scattermapbox": [
           {
            "marker": {
             "colorbar": {
              "outlinewidth": 0,
              "ticks": ""
             }
            },
            "type": "scattermapbox"
           }
          ],
          "scatterpolar": [
           {
            "marker": {
             "colorbar": {
              "outlinewidth": 0,
              "ticks": ""
             }
            },
            "type": "scatterpolar"
           }
          ],
          "scatterpolargl": [
           {
            "marker": {
             "colorbar": {
              "outlinewidth": 0,
              "ticks": ""
             }
            },
            "type": "scatterpolargl"
           }
          ],
          "scatterternary": [
           {
            "marker": {
             "colorbar": {
              "outlinewidth": 0,
              "ticks": ""
             }
            },
            "type": "scatterternary"
           }
          ],
          "surface": [
           {
            "colorbar": {
             "outlinewidth": 0,
             "ticks": ""
            },
            "colorscale": [
             [
              0,
              "#0d0887"
             ],
             [
              0.1111111111111111,
              "#46039f"
             ],
             [
              0.2222222222222222,
              "#7201a8"
             ],
             [
              0.3333333333333333,
              "#9c179e"
             ],
             [
              0.4444444444444444,
              "#bd3786"
             ],
             [
              0.5555555555555556,
              "#d8576b"
             ],
             [
              0.6666666666666666,
              "#ed7953"
             ],
             [
              0.7777777777777778,
              "#fb9f3a"
             ],
             [
              0.8888888888888888,
              "#fdca26"
             ],
             [
              1,
              "#f0f921"
             ]
            ],
            "type": "surface"
           }
          ],
          "table": [
           {
            "cells": {
             "fill": {
              "color": "#EBF0F8"
             },
             "line": {
              "color": "white"
             }
            },
            "header": {
             "fill": {
              "color": "#C8D4E3"
             },
             "line": {
              "color": "white"
             }
            },
            "type": "table"
           }
          ]
         },
         "layout": {
          "annotationdefaults": {
           "arrowcolor": "#2a3f5f",
           "arrowhead": 0,
           "arrowwidth": 1
          },
          "autotypenumbers": "strict",
          "coloraxis": {
           "colorbar": {
            "outlinewidth": 0,
            "ticks": ""
           }
          },
          "colorscale": {
           "diverging": [
            [
             0,
             "#8e0152"
            ],
            [
             0.1,
             "#c51b7d"
            ],
            [
             0.2,
             "#de77ae"
            ],
            [
             0.3,
             "#f1b6da"
            ],
            [
             0.4,
             "#fde0ef"
            ],
            [
             0.5,
             "#f7f7f7"
            ],
            [
             0.6,
             "#e6f5d0"
            ],
            [
             0.7,
             "#b8e186"
            ],
            [
             0.8,
             "#7fbc41"
            ],
            [
             0.9,
             "#4d9221"
            ],
            [
             1,
             "#276419"
            ]
           ],
           "sequential": [
            [
             0,
             "#0d0887"
            ],
            [
             0.1111111111111111,
             "#46039f"
            ],
            [
             0.2222222222222222,
             "#7201a8"
            ],
            [
             0.3333333333333333,
             "#9c179e"
            ],
            [
             0.4444444444444444,
             "#bd3786"
            ],
            [
             0.5555555555555556,
             "#d8576b"
            ],
            [
             0.6666666666666666,
             "#ed7953"
            ],
            [
             0.7777777777777778,
             "#fb9f3a"
            ],
            [
             0.8888888888888888,
             "#fdca26"
            ],
            [
             1,
             "#f0f921"
            ]
           ],
           "sequentialminus": [
            [
             0,
             "#0d0887"
            ],
            [
             0.1111111111111111,
             "#46039f"
            ],
            [
             0.2222222222222222,
             "#7201a8"
            ],
            [
             0.3333333333333333,
             "#9c179e"
            ],
            [
             0.4444444444444444,
             "#bd3786"
            ],
            [
             0.5555555555555556,
             "#d8576b"
            ],
            [
             0.6666666666666666,
             "#ed7953"
            ],
            [
             0.7777777777777778,
             "#fb9f3a"
            ],
            [
             0.8888888888888888,
             "#fdca26"
            ],
            [
             1,
             "#f0f921"
            ]
           ]
          },
          "colorway": [
           "#636efa",
           "#EF553B",
           "#00cc96",
           "#ab63fa",
           "#FFA15A",
           "#19d3f3",
           "#FF6692",
           "#B6E880",
           "#FF97FF",
           "#FECB52"
          ],
          "font": {
           "color": "#2a3f5f"
          },
          "geo": {
           "bgcolor": "white",
           "lakecolor": "white",
           "landcolor": "#E5ECF6",
           "showlakes": true,
           "showland": true,
           "subunitcolor": "white"
          },
          "hoverlabel": {
           "align": "left"
          },
          "hovermode": "closest",
          "mapbox": {
           "style": "light"
          },
          "paper_bgcolor": "white",
          "plot_bgcolor": "#E5ECF6",
          "polar": {
           "angularaxis": {
            "gridcolor": "white",
            "linecolor": "white",
            "ticks": ""
           },
           "bgcolor": "#E5ECF6",
           "radialaxis": {
            "gridcolor": "white",
            "linecolor": "white",
            "ticks": ""
           }
          },
          "scene": {
           "xaxis": {
            "backgroundcolor": "#E5ECF6",
            "gridcolor": "white",
            "gridwidth": 2,
            "linecolor": "white",
            "showbackground": true,
            "ticks": "",
            "zerolinecolor": "white"
           },
           "yaxis": {
            "backgroundcolor": "#E5ECF6",
            "gridcolor": "white",
            "gridwidth": 2,
            "linecolor": "white",
            "showbackground": true,
            "ticks": "",
            "zerolinecolor": "white"
           },
           "zaxis": {
            "backgroundcolor": "#E5ECF6",
            "gridcolor": "white",
            "gridwidth": 2,
            "linecolor": "white",
            "showbackground": true,
            "ticks": "",
            "zerolinecolor": "white"
           }
          },
          "shapedefaults": {
           "line": {
            "color": "#2a3f5f"
           }
          },
          "ternary": {
           "aaxis": {
            "gridcolor": "white",
            "linecolor": "white",
            "ticks": ""
           },
           "baxis": {
            "gridcolor": "white",
            "linecolor": "white",
            "ticks": ""
           },
           "bgcolor": "#E5ECF6",
           "caxis": {
            "gridcolor": "white",
            "linecolor": "white",
            "ticks": ""
           }
          },
          "title": {
           "x": 0.05
          },
          "xaxis": {
           "automargin": true,
           "gridcolor": "white",
           "linecolor": "white",
           "ticks": "",
           "title": {
            "standoff": 15
           },
           "zerolinecolor": "white",
           "zerolinewidth": 2
          },
          "yaxis": {
           "automargin": true,
           "gridcolor": "white",
           "linecolor": "white",
           "ticks": "",
           "title": {
            "standoff": 15
           },
           "zerolinecolor": "white",
           "zerolinewidth": 2
          }
         }
        },
        "title": {
         "font": {
          "color": "#4D5663"
         }
        },
        "xaxis": {
         "gridcolor": "#E1E5ED",
         "showgrid": true,
         "tickfont": {
          "color": "#4D5663"
         },
         "title": {
          "font": {
           "color": "#4D5663"
          },
          "text": ""
         },
         "zerolinecolor": "#E1E5ED"
        },
        "yaxis": {
         "gridcolor": "#E1E5ED",
         "showgrid": true,
         "tickfont": {
          "color": "#4D5663"
         },
         "title": {
          "font": {
           "color": "#4D5663"
          },
          "text": ""
         },
         "zerolinecolor": "#E1E5ED"
        }
       }
      },
      "text/html": [
       "<div>                            <div id=\"0115a615-bcf5-4e2e-b28d-bf4c0f7585a0\" class=\"plotly-graph-div\" style=\"height:525px; width:100%;\"></div>            <script type=\"text/javascript\">                require([\"plotly\"], function(Plotly) {                    window.PLOTLYENV=window.PLOTLYENV || {};\n",
       "                    window.PLOTLYENV.BASE_URL='https://plot.ly';                                    if (document.getElementById(\"0115a615-bcf5-4e2e-b28d-bf4c0f7585a0\")) {                    Plotly.newPlot(                        \"0115a615-bcf5-4e2e-b28d-bf4c0f7585a0\",                        [{\"colorscale\":[[0.0,\"rgb(255, 153, 51)\"],[0.1111111111111111,\"rgb(55, 128, 191)\"],[0.2222222222222222,\"rgb(50, 171, 96)\"],[0.3333333333333333,\"rgb(128, 0, 128)\"],[0.4444444444444444,\"rgb(219, 64, 82)\"],[0.5555555555555556,\"rgb(0, 128, 128)\"],[0.6666666666666666,\"rgb(255, 255, 51)\"],[0.7777777777777778,\"rgb(128, 128, 0)\"],[0.8888888888888888,\"rgb(251, 128, 114)\"],[1.0,\"rgb(128, 177, 211)\"]],\"x\":[0,1,2,3,4,5,6,7,8,9,10,11,12,13,14,15,16,17,18,19,20,21,22,23,24,25,26,27,28,29,30,31,32,33,34,35,36,37,38,39,40,41,42,43,44,45,46,47,48,49,50,51,52,53,54,55,56,57,58,59,60,61,62,63,64,65,66,67,68,69,70,71,72,73,74,75,76,77,78,79,80,81,82,83,84,85,86,87,88,89,90,91,92,93,94,95,96,97,98,99],\"y\":[\"A\",\"B\",\"C\",\"D\"],\"z\":[[0.4278303063139346,-0.17960339661206842,1.0164042618967994,-0.7122789625358378,-0.6470161726957598,-1.5391054711001806,-0.816419876227612,0.14992634819113262,-0.2538297184910725,0.4011312596835835,-0.35121217557811146,-0.08067457705225729,-1.2864396719186408,0.46615802073452944,-0.3186788122439116,1.0143288516154085,-2.2806490282504535,0.40384690521168326,0.6018005259883966,-0.25978009976335664,-1.1669122342579856,0.8573994100521745,0.8623475326006868,-0.3544586484489518,0.4110630086982138,-0.32937147502200953,0.8971370723551457,0.42079992650952014,-0.4723624434704465,0.12777627493488986,0.4889927615403592,-0.9481653064033165,0.10111690399406939,-0.5199092906505531,-0.9131480083912413,1.091390985730131,-1.166766293120185,0.20757181583433243,0.6829620194836434,-1.0930355069538578,-0.02650130330699229,-1.2924400269578538,0.14418601175977652,-0.20223854166849403,0.19208883138239824,-0.18114204996310787,-0.19841663539400559,1.8385362877297255,0.15384934369884648,-0.3098194447686136,-1.2045370228630572,0.5327550476824217,-0.29441402000600364,0.3709208833043238,-1.5092728793466288,0.5191502262763877,1.4637639676598087,-0.7232252992171272,0.6980766119028778,-0.7563825513013476,-0.7421339581048623,1.121264011877191,0.013752107630780407,-0.5892825852411415,0.6056490857330595,0.9780201457682005,0.3394107574260655,-0.29779406831739264,-0.8249862472503384,-0.006608688646789804,0.9173723910209661,-0.03603833862910183,-0.6990592443026739,-1.342749352000533,-1.7062572618616654,-0.4379870105257444,-0.37396788969217615,-1.2152159255979396,0.85898836922212,0.2853468800286372,0.08525587871536675,0.3440875236892165,0.43424037380948755,0.5175629844710247,-0.06289870370813987,-0.3717812990629133,-1.3435656884172564,2.1465656501241304,0.9877233116000835,0.04448063913151714,-0.5020413908536919,0.13533132322167515,-0.4085192034480075,-0.5307015361759451,0.8328125615881095,0.16467398244369646,0.3384160963082231,0.5451546074803042,0.565600486678321,0.7341938436024419],[0.48306040414083834,0.009058351407117657,-0.10115869895854517,1.299364507421079,-0.917630514349454,-0.0004417653346297867,-0.40798279547156635,0.3444360696810804,-0.5303963906334963,0.16405004030193343,0.3350632725543995,-0.1981882405566007,-0.24432705870638655,1.096647494957282,0.3648057242653707,1.792685105555086,1.4643582511094944,-0.8544839418659624,-0.9191036875899685,0.5677118433595862,0.3644188202879386,0.33595984166710796,1.9936047851335992,-0.3184669272450796,0.32975569755681217,0.4260629510999024,0.23486176179843596,-1.086942248367033,0.3674910042928074,-0.46547162469799963,-0.9924427421111863,-2.1406810439355066,-0.21469032628104553,-0.12076619656413162,0.7647436190552594,0.4929088265880474,-0.8771908460491088,2.1777215427021996,0.04436592206782866,-0.0073038619111890565,1.4963995074604057,-0.46116149162445347,-0.9719021840295913,0.6605389800911491,-1.160605255775432,0.6757450195029824,-0.6991125021178969,0.5398846034108065,-0.4066398571344095,-0.31589064660126354,-0.7208238632743234,-0.383731214271165,-1.3536096966031266,0.4987596504299444,0.22804262761234906,-0.9882108951751464,0.6127722213063093,-0.9834991873284643,0.14950554896813462,0.4830956263791654,0.17451464216515458,-1.816099518246873,1.1385736700100326,-1.0036133687647835,0.8188788059107236,1.157425588927253,-1.1723531019569493,-0.07573755585923887,0.17966228070772516,0.6285754121275586,1.1372469738815771,-0.28269154554196035,0.7165406494548696,-0.23007318691659548,-0.8883280341101701,0.3281056679583895,-0.5449040671497705,-1.5170140313832825,0.7159357051909687,1.2061881235431922,-1.487080206258318,0.219275882063202,0.007041079866349726,0.2331570317320377,0.0034261754096381295,0.08514670420553244,-1.1107420851889813,1.8460938344620215,-0.21158616035407998,0.0044370729423990705,-0.39390964225737446,-1.222526038408339,-0.43863339052296013,-0.08599763750602338,-0.7734350600969128,-0.12144896846053277,-0.18775311587229412,1.4392171860459413,-0.2882843728195542,0.364549423795677],[-0.24206467032319814,-1.2631525698375463,0.4594071214617641,0.60077235908034,-0.9265626233504829,0.6756216034502802,0.7434142581111773,0.018262130597430336,-0.06392608339156247,1.4060464622338318,1.0686269655137899,0.002754273374794008,0.4605672689199664,0.39263815023305654,-0.7329865214766967,1.6297002427753362,-0.0008107283884601559,1.9765014199108537,1.2096049063087697,1.6213248538289111,-1.585873889736527,-0.8651655009854876,0.020988001541876446,-1.3406838702958856,-0.951200160119948,-0.497654320179825,-0.021054458357745297,-1.0574593040360256,1.0294055755935148,1.2163001342613522,0.17970515970423812,-0.11760176641969425,-1.0969510943885759,-0.5868858904725097,2.083934082971225,-0.9181885756735065,-0.1553782987340766,-0.820988776654748,-0.3804720882188407,-0.35752641236018046,-0.35401246761989624,-0.5775830532493539,-2.424900350237003,0.2855207075604285,0.46936376753898157,-0.21746001938038956,0.06450952686778252,0.7444671538036397,-1.2248250486686556,-1.416788946235324,1.3705699230468036,-0.2893623524636134,0.7887332621839191,0.6265750340329868,-1.7050938119207735,-1.710626378654247,-0.17212900337049927,0.786445692495372,0.8728446850178994,-0.04713310597221714,0.13142099172018107,0.39726379664821326,1.322607054992196,0.5354512919666429,1.2374262494474055,2.116237482381573,1.9044511430298887,1.391112716532458,-0.35693852947472154,0.4918662133612119,-0.5922710055561605,-0.7878598194918272,0.5265707948268116,-0.642020950111216,0.5517844245714252,-0.7934961397371885,0.7908296097983124,2.275523536747189,1.1606453869673206,-0.7974626361895323,0.005581955560807476,0.21689162723437547,0.22298419441339054,0.8200441699855056,1.19166521369793,-0.8976133213470465,-0.567476953648249,-0.7809052141714418,-0.27644458517576165,1.0616591780119478,-1.2363549285298678,0.1262708566305871,0.9525493443749347,-1.6866168540938908,-0.4902723986210022,-0.7992571135728221,-2.074657039634036,0.30943950283626537,0.9782524876015997,-0.1773164998324019],[-1.7133387861031382,-1.2932945006528207,0.14441817391879672,-0.46427328484531893,-1.3646050456562944,0.4686406470154942,0.7474547724221794,-0.675305811206826,0.758847914674031,0.7428028093361997,-0.4065924037422975,0.8064727208976706,0.2931240500444258,-1.0914232991042179,-2.0453820137163046,-0.2936273028983105,-0.14035412942006467,-0.8301817516350479,-0.7865457087503928,-1.1546250246981458,0.3215877269843798,-1.3839309511016578,0.08209020772287838,0.9304230655889154,0.31745222546584634,0.11193970003501555,1.7139986776284593,-2.0967803975447517,1.0511375814990898,0.6383915109140148,1.2555622054890245,-0.5508945322176529,0.18747842418344107,-0.9803099881452719,0.1467935250497945,-0.20256265797208975,1.567893903926729,-1.644143572382776,0.30826059921641225,-0.7387013328474691,-0.019446660009001256,1.326199758941917,1.0410750283906138,1.2395301701487318,-2.406092741659287,2.416574931180957,0.6882233525175699,0.04639932826401581,-0.16979647167446166,0.08403610728427734,-0.3219768344393413,0.030567251288725984,0.6387071244259642,2.0584786699697726,2.2729373305352922,-1.4912937903346457,-1.7143541593610665,-0.34648232336346285,-0.23503278285029994,-0.15948119829612942,0.5131560094607199,0.3991080890988705,-0.6343936102103105,-0.0940156804309552,-0.17713779298576451,-0.75443203752132,-0.4360212088269227,-0.49578419347288005,-1.0089817430408183,-0.45886311889243525,-0.20026747240539783,-1.8763166449135418,0.3735678516046811,0.804719500794733,1.1871386676158464,1.3186386149058955,-1.0325204869497864,-1.7590503779541997,0.7025720876217167,0.2678085853874164,-0.7554939802021241,-2.372721493554485,-1.3184213475425806,0.46209929466084504,-0.7232520394848614,1.2672793869050392,-1.3645244928619236,0.9613521435589473,-1.3753146341448226,0.2316998510860715,1.7574559430991654,-3.098889574485068,1.1375254421854166,-0.5386418392620599,1.2300015496189856,-0.07574961938385888,1.9618251717642414,1.299537326929035,-1.1235054198822467,0.5221874567126272]],\"type\":\"surface\"}],                        {\"legend\":{\"bgcolor\":\"#F5F6F9\",\"font\":{\"color\":\"#4D5663\"}},\"paper_bgcolor\":\"#F5F6F9\",\"plot_bgcolor\":\"#F5F6F9\",\"template\":{\"data\":{\"barpolar\":[{\"marker\":{\"line\":{\"color\":\"#E5ECF6\",\"width\":0.5},\"pattern\":{\"fillmode\":\"overlay\",\"size\":10,\"solidity\":0.2}},\"type\":\"barpolar\"}],\"bar\":[{\"error_x\":{\"color\":\"#2a3f5f\"},\"error_y\":{\"color\":\"#2a3f5f\"},\"marker\":{\"line\":{\"color\":\"#E5ECF6\",\"width\":0.5},\"pattern\":{\"fillmode\":\"overlay\",\"size\":10,\"solidity\":0.2}},\"type\":\"bar\"}],\"carpet\":[{\"aaxis\":{\"endlinecolor\":\"#2a3f5f\",\"gridcolor\":\"white\",\"linecolor\":\"white\",\"minorgridcolor\":\"white\",\"startlinecolor\":\"#2a3f5f\"},\"baxis\":{\"endlinecolor\":\"#2a3f5f\",\"gridcolor\":\"white\",\"linecolor\":\"white\",\"minorgridcolor\":\"white\",\"startlinecolor\":\"#2a3f5f\"},\"type\":\"carpet\"}],\"choropleth\":[{\"colorbar\":{\"outlinewidth\":0,\"ticks\":\"\"},\"type\":\"choropleth\"}],\"contourcarpet\":[{\"colorbar\":{\"outlinewidth\":0,\"ticks\":\"\"},\"type\":\"contourcarpet\"}],\"contour\":[{\"colorbar\":{\"outlinewidth\":0,\"ticks\":\"\"},\"colorscale\":[[0.0,\"#0d0887\"],[0.1111111111111111,\"#46039f\"],[0.2222222222222222,\"#7201a8\"],[0.3333333333333333,\"#9c179e\"],[0.4444444444444444,\"#bd3786\"],[0.5555555555555556,\"#d8576b\"],[0.6666666666666666,\"#ed7953\"],[0.7777777777777778,\"#fb9f3a\"],[0.8888888888888888,\"#fdca26\"],[1.0,\"#f0f921\"]],\"type\":\"contour\"}],\"heatmapgl\":[{\"colorbar\":{\"outlinewidth\":0,\"ticks\":\"\"},\"colorscale\":[[0.0,\"#0d0887\"],[0.1111111111111111,\"#46039f\"],[0.2222222222222222,\"#7201a8\"],[0.3333333333333333,\"#9c179e\"],[0.4444444444444444,\"#bd3786\"],[0.5555555555555556,\"#d8576b\"],[0.6666666666666666,\"#ed7953\"],[0.7777777777777778,\"#fb9f3a\"],[0.8888888888888888,\"#fdca26\"],[1.0,\"#f0f921\"]],\"type\":\"heatmapgl\"}],\"heatmap\":[{\"colorbar\":{\"outlinewidth\":0,\"ticks\":\"\"},\"colorscale\":[[0.0,\"#0d0887\"],[0.1111111111111111,\"#46039f\"],[0.2222222222222222,\"#7201a8\"],[0.3333333333333333,\"#9c179e\"],[0.4444444444444444,\"#bd3786\"],[0.5555555555555556,\"#d8576b\"],[0.6666666666666666,\"#ed7953\"],[0.7777777777777778,\"#fb9f3a\"],[0.8888888888888888,\"#fdca26\"],[1.0,\"#f0f921\"]],\"type\":\"heatmap\"}],\"histogram2dcontour\":[{\"colorbar\":{\"outlinewidth\":0,\"ticks\":\"\"},\"colorscale\":[[0.0,\"#0d0887\"],[0.1111111111111111,\"#46039f\"],[0.2222222222222222,\"#7201a8\"],[0.3333333333333333,\"#9c179e\"],[0.4444444444444444,\"#bd3786\"],[0.5555555555555556,\"#d8576b\"],[0.6666666666666666,\"#ed7953\"],[0.7777777777777778,\"#fb9f3a\"],[0.8888888888888888,\"#fdca26\"],[1.0,\"#f0f921\"]],\"type\":\"histogram2dcontour\"}],\"histogram2d\":[{\"colorbar\":{\"outlinewidth\":0,\"ticks\":\"\"},\"colorscale\":[[0.0,\"#0d0887\"],[0.1111111111111111,\"#46039f\"],[0.2222222222222222,\"#7201a8\"],[0.3333333333333333,\"#9c179e\"],[0.4444444444444444,\"#bd3786\"],[0.5555555555555556,\"#d8576b\"],[0.6666666666666666,\"#ed7953\"],[0.7777777777777778,\"#fb9f3a\"],[0.8888888888888888,\"#fdca26\"],[1.0,\"#f0f921\"]],\"type\":\"histogram2d\"}],\"histogram\":[{\"marker\":{\"pattern\":{\"fillmode\":\"overlay\",\"size\":10,\"solidity\":0.2}},\"type\":\"histogram\"}],\"mesh3d\":[{\"colorbar\":{\"outlinewidth\":0,\"ticks\":\"\"},\"type\":\"mesh3d\"}],\"parcoords\":[{\"line\":{\"colorbar\":{\"outlinewidth\":0,\"ticks\":\"\"}},\"type\":\"parcoords\"}],\"pie\":[{\"automargin\":true,\"type\":\"pie\"}],\"scatter3d\":[{\"line\":{\"colorbar\":{\"outlinewidth\":0,\"ticks\":\"\"}},\"marker\":{\"colorbar\":{\"outlinewidth\":0,\"ticks\":\"\"}},\"type\":\"scatter3d\"}],\"scattercarpet\":[{\"marker\":{\"colorbar\":{\"outlinewidth\":0,\"ticks\":\"\"}},\"type\":\"scattercarpet\"}],\"scattergeo\":[{\"marker\":{\"colorbar\":{\"outlinewidth\":0,\"ticks\":\"\"}},\"type\":\"scattergeo\"}],\"scattergl\":[{\"marker\":{\"colorbar\":{\"outlinewidth\":0,\"ticks\":\"\"}},\"type\":\"scattergl\"}],\"scattermapbox\":[{\"marker\":{\"colorbar\":{\"outlinewidth\":0,\"ticks\":\"\"}},\"type\":\"scattermapbox\"}],\"scatterpolargl\":[{\"marker\":{\"colorbar\":{\"outlinewidth\":0,\"ticks\":\"\"}},\"type\":\"scatterpolargl\"}],\"scatterpolar\":[{\"marker\":{\"colorbar\":{\"outlinewidth\":0,\"ticks\":\"\"}},\"type\":\"scatterpolar\"}],\"scatter\":[{\"fillpattern\":{\"fillmode\":\"overlay\",\"size\":10,\"solidity\":0.2},\"type\":\"scatter\"}],\"scatterternary\":[{\"marker\":{\"colorbar\":{\"outlinewidth\":0,\"ticks\":\"\"}},\"type\":\"scatterternary\"}],\"surface\":[{\"colorbar\":{\"outlinewidth\":0,\"ticks\":\"\"},\"colorscale\":[[0.0,\"#0d0887\"],[0.1111111111111111,\"#46039f\"],[0.2222222222222222,\"#7201a8\"],[0.3333333333333333,\"#9c179e\"],[0.4444444444444444,\"#bd3786\"],[0.5555555555555556,\"#d8576b\"],[0.6666666666666666,\"#ed7953\"],[0.7777777777777778,\"#fb9f3a\"],[0.8888888888888888,\"#fdca26\"],[1.0,\"#f0f921\"]],\"type\":\"surface\"}],\"table\":[{\"cells\":{\"fill\":{\"color\":\"#EBF0F8\"},\"line\":{\"color\":\"white\"}},\"header\":{\"fill\":{\"color\":\"#C8D4E3\"},\"line\":{\"color\":\"white\"}},\"type\":\"table\"}]},\"layout\":{\"annotationdefaults\":{\"arrowcolor\":\"#2a3f5f\",\"arrowhead\":0,\"arrowwidth\":1},\"autotypenumbers\":\"strict\",\"coloraxis\":{\"colorbar\":{\"outlinewidth\":0,\"ticks\":\"\"}},\"colorscale\":{\"diverging\":[[0,\"#8e0152\"],[0.1,\"#c51b7d\"],[0.2,\"#de77ae\"],[0.3,\"#f1b6da\"],[0.4,\"#fde0ef\"],[0.5,\"#f7f7f7\"],[0.6,\"#e6f5d0\"],[0.7,\"#b8e186\"],[0.8,\"#7fbc41\"],[0.9,\"#4d9221\"],[1,\"#276419\"]],\"sequential\":[[0.0,\"#0d0887\"],[0.1111111111111111,\"#46039f\"],[0.2222222222222222,\"#7201a8\"],[0.3333333333333333,\"#9c179e\"],[0.4444444444444444,\"#bd3786\"],[0.5555555555555556,\"#d8576b\"],[0.6666666666666666,\"#ed7953\"],[0.7777777777777778,\"#fb9f3a\"],[0.8888888888888888,\"#fdca26\"],[1.0,\"#f0f921\"]],\"sequentialminus\":[[0.0,\"#0d0887\"],[0.1111111111111111,\"#46039f\"],[0.2222222222222222,\"#7201a8\"],[0.3333333333333333,\"#9c179e\"],[0.4444444444444444,\"#bd3786\"],[0.5555555555555556,\"#d8576b\"],[0.6666666666666666,\"#ed7953\"],[0.7777777777777778,\"#fb9f3a\"],[0.8888888888888888,\"#fdca26\"],[1.0,\"#f0f921\"]]},\"colorway\":[\"#636efa\",\"#EF553B\",\"#00cc96\",\"#ab63fa\",\"#FFA15A\",\"#19d3f3\",\"#FF6692\",\"#B6E880\",\"#FF97FF\",\"#FECB52\"],\"font\":{\"color\":\"#2a3f5f\"},\"geo\":{\"bgcolor\":\"white\",\"lakecolor\":\"white\",\"landcolor\":\"#E5ECF6\",\"showlakes\":true,\"showland\":true,\"subunitcolor\":\"white\"},\"hoverlabel\":{\"align\":\"left\"},\"hovermode\":\"closest\",\"mapbox\":{\"style\":\"light\"},\"paper_bgcolor\":\"white\",\"plot_bgcolor\":\"#E5ECF6\",\"polar\":{\"angularaxis\":{\"gridcolor\":\"white\",\"linecolor\":\"white\",\"ticks\":\"\"},\"bgcolor\":\"#E5ECF6\",\"radialaxis\":{\"gridcolor\":\"white\",\"linecolor\":\"white\",\"ticks\":\"\"}},\"scene\":{\"xaxis\":{\"backgroundcolor\":\"#E5ECF6\",\"gridcolor\":\"white\",\"gridwidth\":2,\"linecolor\":\"white\",\"showbackground\":true,\"ticks\":\"\",\"zerolinecolor\":\"white\"},\"yaxis\":{\"backgroundcolor\":\"#E5ECF6\",\"gridcolor\":\"white\",\"gridwidth\":2,\"linecolor\":\"white\",\"showbackground\":true,\"ticks\":\"\",\"zerolinecolor\":\"white\"},\"zaxis\":{\"backgroundcolor\":\"#E5ECF6\",\"gridcolor\":\"white\",\"gridwidth\":2,\"linecolor\":\"white\",\"showbackground\":true,\"ticks\":\"\",\"zerolinecolor\":\"white\"}},\"shapedefaults\":{\"line\":{\"color\":\"#2a3f5f\"}},\"ternary\":{\"aaxis\":{\"gridcolor\":\"white\",\"linecolor\":\"white\",\"ticks\":\"\"},\"baxis\":{\"gridcolor\":\"white\",\"linecolor\":\"white\",\"ticks\":\"\"},\"bgcolor\":\"#E5ECF6\",\"caxis\":{\"gridcolor\":\"white\",\"linecolor\":\"white\",\"ticks\":\"\"}},\"title\":{\"x\":0.05},\"xaxis\":{\"automargin\":true,\"gridcolor\":\"white\",\"linecolor\":\"white\",\"ticks\":\"\",\"title\":{\"standoff\":15},\"zerolinecolor\":\"white\",\"zerolinewidth\":2},\"yaxis\":{\"automargin\":true,\"gridcolor\":\"white\",\"linecolor\":\"white\",\"ticks\":\"\",\"title\":{\"standoff\":15},\"zerolinecolor\":\"white\",\"zerolinewidth\":2}}},\"title\":{\"font\":{\"color\":\"#4D5663\"}},\"xaxis\":{\"gridcolor\":\"#E1E5ED\",\"showgrid\":true,\"tickfont\":{\"color\":\"#4D5663\"},\"title\":{\"font\":{\"color\":\"#4D5663\"},\"text\":\"\"},\"zerolinecolor\":\"#E1E5ED\"},\"yaxis\":{\"gridcolor\":\"#E1E5ED\",\"showgrid\":true,\"tickfont\":{\"color\":\"#4D5663\"},\"title\":{\"font\":{\"color\":\"#4D5663\"},\"text\":\"\"},\"zerolinecolor\":\"#E1E5ED\"}},                        {\"showLink\": true, \"linkText\": \"Export to plot.ly\", \"plotlyServerURL\": \"https://plot.ly\", \"responsive\": true}                    ).then(function(){\n",
       "                            \n",
       "var gd = document.getElementById('0115a615-bcf5-4e2e-b28d-bf4c0f7585a0');\n",
       "var x = new MutationObserver(function (mutations, observer) {{\n",
       "        var display = window.getComputedStyle(gd).display;\n",
       "        if (!display || display === 'none') {{\n",
       "            console.log([gd, 'removed!']);\n",
       "            Plotly.purge(gd);\n",
       "            observer.disconnect();\n",
       "        }}\n",
       "}});\n",
       "\n",
       "// Listen for the removal of the full notebook cells\n",
       "var notebookContainer = gd.closest('#notebook-container');\n",
       "if (notebookContainer) {{\n",
       "    x.observe(notebookContainer, {childList: true});\n",
       "}}\n",
       "\n",
       "// Listen for the clearing of the current output cell\n",
       "var outputEl = gd.closest('.output');\n",
       "if (outputEl) {{\n",
       "    x.observe(outputEl, {childList: true});\n",
       "}}\n",
       "\n",
       "                        })                };                });            </script>        </div>"
      ]
     },
     "metadata": {},
     "output_type": "display_data"
    }
   ],
   "source": [
    "df.iplot(kind='surface')"
   ]
  },
  {
   "cell_type": "code",
   "execution_count": 57,
   "id": "62af1959",
   "metadata": {
    "ExecuteTime": {
     "end_time": "2023-03-23T12:07:28.070091Z",
     "start_time": "2023-03-23T12:07:28.006416Z"
    }
   },
   "outputs": [
    {
     "data": {
      "application/vnd.plotly.v1+json": {
       "config": {
        "linkText": "Export to plot.ly",
        "plotlyServerURL": "https://plot.ly",
        "showLink": true
       },
       "data": [
        {
         "histfunc": "count",
         "histnorm": "",
         "marker": {
          "color": "rgba(255, 153, 51, 1.0)",
          "line": {
           "color": "#4D5663",
           "width": 1.3
          }
         },
         "name": "A",
         "nbinsx": 25,
         "opacity": 0.8,
         "orientation": "v",
         "type": "histogram",
         "x": [
          0.4278303063139346,
          -0.17960339661206842,
          1.0164042618967994,
          -0.7122789625358378,
          -0.6470161726957598,
          -1.5391054711001806,
          -0.816419876227612,
          0.14992634819113262,
          -0.2538297184910725,
          0.4011312596835835,
          -0.35121217557811146,
          -0.08067457705225729,
          -1.2864396719186408,
          0.46615802073452944,
          -0.3186788122439116,
          1.0143288516154085,
          -2.2806490282504535,
          0.40384690521168326,
          0.6018005259883966,
          -0.25978009976335664,
          -1.1669122342579856,
          0.8573994100521745,
          0.8623475326006868,
          -0.3544586484489518,
          0.4110630086982138,
          -0.32937147502200953,
          0.8971370723551457,
          0.42079992650952014,
          -0.4723624434704465,
          0.12777627493488986,
          0.4889927615403592,
          -0.9481653064033165,
          0.10111690399406939,
          -0.5199092906505531,
          -0.9131480083912413,
          1.091390985730131,
          -1.166766293120185,
          0.20757181583433243,
          0.6829620194836434,
          -1.0930355069538578,
          -0.02650130330699229,
          -1.2924400269578538,
          0.14418601175977652,
          -0.20223854166849403,
          0.19208883138239824,
          -0.18114204996310787,
          -0.19841663539400559,
          1.8385362877297255,
          0.15384934369884648,
          -0.3098194447686136,
          -1.2045370228630572,
          0.5327550476824217,
          -0.29441402000600364,
          0.3709208833043238,
          -1.5092728793466288,
          0.5191502262763877,
          1.4637639676598087,
          -0.7232252992171272,
          0.6980766119028778,
          -0.7563825513013476,
          -0.7421339581048623,
          1.121264011877191,
          0.013752107630780407,
          -0.5892825852411415,
          0.6056490857330595,
          0.9780201457682005,
          0.3394107574260655,
          -0.29779406831739264,
          -0.8249862472503384,
          -0.006608688646789804,
          0.9173723910209661,
          -0.03603833862910183,
          -0.6990592443026739,
          -1.342749352000533,
          -1.7062572618616654,
          -0.4379870105257444,
          -0.37396788969217615,
          -1.2152159255979396,
          0.85898836922212,
          0.2853468800286372,
          0.08525587871536675,
          0.3440875236892165,
          0.43424037380948755,
          0.5175629844710247,
          -0.06289870370813987,
          -0.3717812990629133,
          -1.3435656884172564,
          2.1465656501241304,
          0.9877233116000835,
          0.04448063913151714,
          -0.5020413908536919,
          0.13533132322167515,
          -0.4085192034480075,
          -0.5307015361759451,
          0.8328125615881095,
          0.16467398244369646,
          0.3384160963082231,
          0.5451546074803042,
          0.565600486678321,
          0.7341938436024419
         ]
        }
       ],
       "layout": {
        "barmode": "overlay",
        "legend": {
         "bgcolor": "#F5F6F9",
         "font": {
          "color": "#4D5663"
         }
        },
        "paper_bgcolor": "#F5F6F9",
        "plot_bgcolor": "#F5F6F9",
        "template": {
         "data": {
          "bar": [
           {
            "error_x": {
             "color": "#2a3f5f"
            },
            "error_y": {
             "color": "#2a3f5f"
            },
            "marker": {
             "line": {
              "color": "#E5ECF6",
              "width": 0.5
             },
             "pattern": {
              "fillmode": "overlay",
              "size": 10,
              "solidity": 0.2
             }
            },
            "type": "bar"
           }
          ],
          "barpolar": [
           {
            "marker": {
             "line": {
              "color": "#E5ECF6",
              "width": 0.5
             },
             "pattern": {
              "fillmode": "overlay",
              "size": 10,
              "solidity": 0.2
             }
            },
            "type": "barpolar"
           }
          ],
          "carpet": [
           {
            "aaxis": {
             "endlinecolor": "#2a3f5f",
             "gridcolor": "white",
             "linecolor": "white",
             "minorgridcolor": "white",
             "startlinecolor": "#2a3f5f"
            },
            "baxis": {
             "endlinecolor": "#2a3f5f",
             "gridcolor": "white",
             "linecolor": "white",
             "minorgridcolor": "white",
             "startlinecolor": "#2a3f5f"
            },
            "type": "carpet"
           }
          ],
          "choropleth": [
           {
            "colorbar": {
             "outlinewidth": 0,
             "ticks": ""
            },
            "type": "choropleth"
           }
          ],
          "contour": [
           {
            "colorbar": {
             "outlinewidth": 0,
             "ticks": ""
            },
            "colorscale": [
             [
              0,
              "#0d0887"
             ],
             [
              0.1111111111111111,
              "#46039f"
             ],
             [
              0.2222222222222222,
              "#7201a8"
             ],
             [
              0.3333333333333333,
              "#9c179e"
             ],
             [
              0.4444444444444444,
              "#bd3786"
             ],
             [
              0.5555555555555556,
              "#d8576b"
             ],
             [
              0.6666666666666666,
              "#ed7953"
             ],
             [
              0.7777777777777778,
              "#fb9f3a"
             ],
             [
              0.8888888888888888,
              "#fdca26"
             ],
             [
              1,
              "#f0f921"
             ]
            ],
            "type": "contour"
           }
          ],
          "contourcarpet": [
           {
            "colorbar": {
             "outlinewidth": 0,
             "ticks": ""
            },
            "type": "contourcarpet"
           }
          ],
          "heatmap": [
           {
            "colorbar": {
             "outlinewidth": 0,
             "ticks": ""
            },
            "colorscale": [
             [
              0,
              "#0d0887"
             ],
             [
              0.1111111111111111,
              "#46039f"
             ],
             [
              0.2222222222222222,
              "#7201a8"
             ],
             [
              0.3333333333333333,
              "#9c179e"
             ],
             [
              0.4444444444444444,
              "#bd3786"
             ],
             [
              0.5555555555555556,
              "#d8576b"
             ],
             [
              0.6666666666666666,
              "#ed7953"
             ],
             [
              0.7777777777777778,
              "#fb9f3a"
             ],
             [
              0.8888888888888888,
              "#fdca26"
             ],
             [
              1,
              "#f0f921"
             ]
            ],
            "type": "heatmap"
           }
          ],
          "heatmapgl": [
           {
            "colorbar": {
             "outlinewidth": 0,
             "ticks": ""
            },
            "colorscale": [
             [
              0,
              "#0d0887"
             ],
             [
              0.1111111111111111,
              "#46039f"
             ],
             [
              0.2222222222222222,
              "#7201a8"
             ],
             [
              0.3333333333333333,
              "#9c179e"
             ],
             [
              0.4444444444444444,
              "#bd3786"
             ],
             [
              0.5555555555555556,
              "#d8576b"
             ],
             [
              0.6666666666666666,
              "#ed7953"
             ],
             [
              0.7777777777777778,
              "#fb9f3a"
             ],
             [
              0.8888888888888888,
              "#fdca26"
             ],
             [
              1,
              "#f0f921"
             ]
            ],
            "type": "heatmapgl"
           }
          ],
          "histogram": [
           {
            "marker": {
             "pattern": {
              "fillmode": "overlay",
              "size": 10,
              "solidity": 0.2
             }
            },
            "type": "histogram"
           }
          ],
          "histogram2d": [
           {
            "colorbar": {
             "outlinewidth": 0,
             "ticks": ""
            },
            "colorscale": [
             [
              0,
              "#0d0887"
             ],
             [
              0.1111111111111111,
              "#46039f"
             ],
             [
              0.2222222222222222,
              "#7201a8"
             ],
             [
              0.3333333333333333,
              "#9c179e"
             ],
             [
              0.4444444444444444,
              "#bd3786"
             ],
             [
              0.5555555555555556,
              "#d8576b"
             ],
             [
              0.6666666666666666,
              "#ed7953"
             ],
             [
              0.7777777777777778,
              "#fb9f3a"
             ],
             [
              0.8888888888888888,
              "#fdca26"
             ],
             [
              1,
              "#f0f921"
             ]
            ],
            "type": "histogram2d"
           }
          ],
          "histogram2dcontour": [
           {
            "colorbar": {
             "outlinewidth": 0,
             "ticks": ""
            },
            "colorscale": [
             [
              0,
              "#0d0887"
             ],
             [
              0.1111111111111111,
              "#46039f"
             ],
             [
              0.2222222222222222,
              "#7201a8"
             ],
             [
              0.3333333333333333,
              "#9c179e"
             ],
             [
              0.4444444444444444,
              "#bd3786"
             ],
             [
              0.5555555555555556,
              "#d8576b"
             ],
             [
              0.6666666666666666,
              "#ed7953"
             ],
             [
              0.7777777777777778,
              "#fb9f3a"
             ],
             [
              0.8888888888888888,
              "#fdca26"
             ],
             [
              1,
              "#f0f921"
             ]
            ],
            "type": "histogram2dcontour"
           }
          ],
          "mesh3d": [
           {
            "colorbar": {
             "outlinewidth": 0,
             "ticks": ""
            },
            "type": "mesh3d"
           }
          ],
          "parcoords": [
           {
            "line": {
             "colorbar": {
              "outlinewidth": 0,
              "ticks": ""
             }
            },
            "type": "parcoords"
           }
          ],
          "pie": [
           {
            "automargin": true,
            "type": "pie"
           }
          ],
          "scatter": [
           {
            "fillpattern": {
             "fillmode": "overlay",
             "size": 10,
             "solidity": 0.2
            },
            "type": "scatter"
           }
          ],
          "scatter3d": [
           {
            "line": {
             "colorbar": {
              "outlinewidth": 0,
              "ticks": ""
             }
            },
            "marker": {
             "colorbar": {
              "outlinewidth": 0,
              "ticks": ""
             }
            },
            "type": "scatter3d"
           }
          ],
          "scattercarpet": [
           {
            "marker": {
             "colorbar": {
              "outlinewidth": 0,
              "ticks": ""
             }
            },
            "type": "scattercarpet"
           }
          ],
          "scattergeo": [
           {
            "marker": {
             "colorbar": {
              "outlinewidth": 0,
              "ticks": ""
             }
            },
            "type": "scattergeo"
           }
          ],
          "scattergl": [
           {
            "marker": {
             "colorbar": {
              "outlinewidth": 0,
              "ticks": ""
             }
            },
            "type": "scattergl"
           }
          ],
          "scattermapbox": [
           {
            "marker": {
             "colorbar": {
              "outlinewidth": 0,
              "ticks": ""
             }
            },
            "type": "scattermapbox"
           }
          ],
          "scatterpolar": [
           {
            "marker": {
             "colorbar": {
              "outlinewidth": 0,
              "ticks": ""
             }
            },
            "type": "scatterpolar"
           }
          ],
          "scatterpolargl": [
           {
            "marker": {
             "colorbar": {
              "outlinewidth": 0,
              "ticks": ""
             }
            },
            "type": "scatterpolargl"
           }
          ],
          "scatterternary": [
           {
            "marker": {
             "colorbar": {
              "outlinewidth": 0,
              "ticks": ""
             }
            },
            "type": "scatterternary"
           }
          ],
          "surface": [
           {
            "colorbar": {
             "outlinewidth": 0,
             "ticks": ""
            },
            "colorscale": [
             [
              0,
              "#0d0887"
             ],
             [
              0.1111111111111111,
              "#46039f"
             ],
             [
              0.2222222222222222,
              "#7201a8"
             ],
             [
              0.3333333333333333,
              "#9c179e"
             ],
             [
              0.4444444444444444,
              "#bd3786"
             ],
             [
              0.5555555555555556,
              "#d8576b"
             ],
             [
              0.6666666666666666,
              "#ed7953"
             ],
             [
              0.7777777777777778,
              "#fb9f3a"
             ],
             [
              0.8888888888888888,
              "#fdca26"
             ],
             [
              1,
              "#f0f921"
             ]
            ],
            "type": "surface"
           }
          ],
          "table": [
           {
            "cells": {
             "fill": {
              "color": "#EBF0F8"
             },
             "line": {
              "color": "white"
             }
            },
            "header": {
             "fill": {
              "color": "#C8D4E3"
             },
             "line": {
              "color": "white"
             }
            },
            "type": "table"
           }
          ]
         },
         "layout": {
          "annotationdefaults": {
           "arrowcolor": "#2a3f5f",
           "arrowhead": 0,
           "arrowwidth": 1
          },
          "autotypenumbers": "strict",
          "coloraxis": {
           "colorbar": {
            "outlinewidth": 0,
            "ticks": ""
           }
          },
          "colorscale": {
           "diverging": [
            [
             0,
             "#8e0152"
            ],
            [
             0.1,
             "#c51b7d"
            ],
            [
             0.2,
             "#de77ae"
            ],
            [
             0.3,
             "#f1b6da"
            ],
            [
             0.4,
             "#fde0ef"
            ],
            [
             0.5,
             "#f7f7f7"
            ],
            [
             0.6,
             "#e6f5d0"
            ],
            [
             0.7,
             "#b8e186"
            ],
            [
             0.8,
             "#7fbc41"
            ],
            [
             0.9,
             "#4d9221"
            ],
            [
             1,
             "#276419"
            ]
           ],
           "sequential": [
            [
             0,
             "#0d0887"
            ],
            [
             0.1111111111111111,
             "#46039f"
            ],
            [
             0.2222222222222222,
             "#7201a8"
            ],
            [
             0.3333333333333333,
             "#9c179e"
            ],
            [
             0.4444444444444444,
             "#bd3786"
            ],
            [
             0.5555555555555556,
             "#d8576b"
            ],
            [
             0.6666666666666666,
             "#ed7953"
            ],
            [
             0.7777777777777778,
             "#fb9f3a"
            ],
            [
             0.8888888888888888,
             "#fdca26"
            ],
            [
             1,
             "#f0f921"
            ]
           ],
           "sequentialminus": [
            [
             0,
             "#0d0887"
            ],
            [
             0.1111111111111111,
             "#46039f"
            ],
            [
             0.2222222222222222,
             "#7201a8"
            ],
            [
             0.3333333333333333,
             "#9c179e"
            ],
            [
             0.4444444444444444,
             "#bd3786"
            ],
            [
             0.5555555555555556,
             "#d8576b"
            ],
            [
             0.6666666666666666,
             "#ed7953"
            ],
            [
             0.7777777777777778,
             "#fb9f3a"
            ],
            [
             0.8888888888888888,
             "#fdca26"
            ],
            [
             1,
             "#f0f921"
            ]
           ]
          },
          "colorway": [
           "#636efa",
           "#EF553B",
           "#00cc96",
           "#ab63fa",
           "#FFA15A",
           "#19d3f3",
           "#FF6692",
           "#B6E880",
           "#FF97FF",
           "#FECB52"
          ],
          "font": {
           "color": "#2a3f5f"
          },
          "geo": {
           "bgcolor": "white",
           "lakecolor": "white",
           "landcolor": "#E5ECF6",
           "showlakes": true,
           "showland": true,
           "subunitcolor": "white"
          },
          "hoverlabel": {
           "align": "left"
          },
          "hovermode": "closest",
          "mapbox": {
           "style": "light"
          },
          "paper_bgcolor": "white",
          "plot_bgcolor": "#E5ECF6",
          "polar": {
           "angularaxis": {
            "gridcolor": "white",
            "linecolor": "white",
            "ticks": ""
           },
           "bgcolor": "#E5ECF6",
           "radialaxis": {
            "gridcolor": "white",
            "linecolor": "white",
            "ticks": ""
           }
          },
          "scene": {
           "xaxis": {
            "backgroundcolor": "#E5ECF6",
            "gridcolor": "white",
            "gridwidth": 2,
            "linecolor": "white",
            "showbackground": true,
            "ticks": "",
            "zerolinecolor": "white"
           },
           "yaxis": {
            "backgroundcolor": "#E5ECF6",
            "gridcolor": "white",
            "gridwidth": 2,
            "linecolor": "white",
            "showbackground": true,
            "ticks": "",
            "zerolinecolor": "white"
           },
           "zaxis": {
            "backgroundcolor": "#E5ECF6",
            "gridcolor": "white",
            "gridwidth": 2,
            "linecolor": "white",
            "showbackground": true,
            "ticks": "",
            "zerolinecolor": "white"
           }
          },
          "shapedefaults": {
           "line": {
            "color": "#2a3f5f"
           }
          },
          "ternary": {
           "aaxis": {
            "gridcolor": "white",
            "linecolor": "white",
            "ticks": ""
           },
           "baxis": {
            "gridcolor": "white",
            "linecolor": "white",
            "ticks": ""
           },
           "bgcolor": "#E5ECF6",
           "caxis": {
            "gridcolor": "white",
            "linecolor": "white",
            "ticks": ""
           }
          },
          "title": {
           "x": 0.05
          },
          "xaxis": {
           "automargin": true,
           "gridcolor": "white",
           "linecolor": "white",
           "ticks": "",
           "title": {
            "standoff": 15
           },
           "zerolinecolor": "white",
           "zerolinewidth": 2
          },
          "yaxis": {
           "automargin": true,
           "gridcolor": "white",
           "linecolor": "white",
           "ticks": "",
           "title": {
            "standoff": 15
           },
           "zerolinecolor": "white",
           "zerolinewidth": 2
          }
         }
        },
        "title": {
         "font": {
          "color": "#4D5663"
         }
        },
        "xaxis": {
         "gridcolor": "#E1E5ED",
         "showgrid": true,
         "tickfont": {
          "color": "#4D5663"
         },
         "title": {
          "font": {
           "color": "#4D5663"
          },
          "text": ""
         },
         "zerolinecolor": "#E1E5ED"
        },
        "yaxis": {
         "gridcolor": "#E1E5ED",
         "showgrid": true,
         "tickfont": {
          "color": "#4D5663"
         },
         "title": {
          "font": {
           "color": "#4D5663"
          },
          "text": ""
         },
         "zerolinecolor": "#E1E5ED"
        }
       }
      },
      "text/html": [
       "<div>                            <div id=\"b7fc8a92-0fad-4986-aa78-b9e568391ad6\" class=\"plotly-graph-div\" style=\"height:525px; width:100%;\"></div>            <script type=\"text/javascript\">                require([\"plotly\"], function(Plotly) {                    window.PLOTLYENV=window.PLOTLYENV || {};\n",
       "                    window.PLOTLYENV.BASE_URL='https://plot.ly';                                    if (document.getElementById(\"b7fc8a92-0fad-4986-aa78-b9e568391ad6\")) {                    Plotly.newPlot(                        \"b7fc8a92-0fad-4986-aa78-b9e568391ad6\",                        [{\"histfunc\":\"count\",\"histnorm\":\"\",\"marker\":{\"color\":\"rgba(255, 153, 51, 1.0)\",\"line\":{\"color\":\"#4D5663\",\"width\":1.3}},\"name\":\"A\",\"nbinsx\":25,\"opacity\":0.8,\"orientation\":\"v\",\"x\":[0.4278303063139346,-0.17960339661206842,1.0164042618967994,-0.7122789625358378,-0.6470161726957598,-1.5391054711001806,-0.816419876227612,0.14992634819113262,-0.2538297184910725,0.4011312596835835,-0.35121217557811146,-0.08067457705225729,-1.2864396719186408,0.46615802073452944,-0.3186788122439116,1.0143288516154085,-2.2806490282504535,0.40384690521168326,0.6018005259883966,-0.25978009976335664,-1.1669122342579856,0.8573994100521745,0.8623475326006868,-0.3544586484489518,0.4110630086982138,-0.32937147502200953,0.8971370723551457,0.42079992650952014,-0.4723624434704465,0.12777627493488986,0.4889927615403592,-0.9481653064033165,0.10111690399406939,-0.5199092906505531,-0.9131480083912413,1.091390985730131,-1.166766293120185,0.20757181583433243,0.6829620194836434,-1.0930355069538578,-0.02650130330699229,-1.2924400269578538,0.14418601175977652,-0.20223854166849403,0.19208883138239824,-0.18114204996310787,-0.19841663539400559,1.8385362877297255,0.15384934369884648,-0.3098194447686136,-1.2045370228630572,0.5327550476824217,-0.29441402000600364,0.3709208833043238,-1.5092728793466288,0.5191502262763877,1.4637639676598087,-0.7232252992171272,0.6980766119028778,-0.7563825513013476,-0.7421339581048623,1.121264011877191,0.013752107630780407,-0.5892825852411415,0.6056490857330595,0.9780201457682005,0.3394107574260655,-0.29779406831739264,-0.8249862472503384,-0.006608688646789804,0.9173723910209661,-0.03603833862910183,-0.6990592443026739,-1.342749352000533,-1.7062572618616654,-0.4379870105257444,-0.37396788969217615,-1.2152159255979396,0.85898836922212,0.2853468800286372,0.08525587871536675,0.3440875236892165,0.43424037380948755,0.5175629844710247,-0.06289870370813987,-0.3717812990629133,-1.3435656884172564,2.1465656501241304,0.9877233116000835,0.04448063913151714,-0.5020413908536919,0.13533132322167515,-0.4085192034480075,-0.5307015361759451,0.8328125615881095,0.16467398244369646,0.3384160963082231,0.5451546074803042,0.565600486678321,0.7341938436024419],\"type\":\"histogram\"}],                        {\"barmode\":\"overlay\",\"legend\":{\"bgcolor\":\"#F5F6F9\",\"font\":{\"color\":\"#4D5663\"}},\"paper_bgcolor\":\"#F5F6F9\",\"plot_bgcolor\":\"#F5F6F9\",\"template\":{\"data\":{\"barpolar\":[{\"marker\":{\"line\":{\"color\":\"#E5ECF6\",\"width\":0.5},\"pattern\":{\"fillmode\":\"overlay\",\"size\":10,\"solidity\":0.2}},\"type\":\"barpolar\"}],\"bar\":[{\"error_x\":{\"color\":\"#2a3f5f\"},\"error_y\":{\"color\":\"#2a3f5f\"},\"marker\":{\"line\":{\"color\":\"#E5ECF6\",\"width\":0.5},\"pattern\":{\"fillmode\":\"overlay\",\"size\":10,\"solidity\":0.2}},\"type\":\"bar\"}],\"carpet\":[{\"aaxis\":{\"endlinecolor\":\"#2a3f5f\",\"gridcolor\":\"white\",\"linecolor\":\"white\",\"minorgridcolor\":\"white\",\"startlinecolor\":\"#2a3f5f\"},\"baxis\":{\"endlinecolor\":\"#2a3f5f\",\"gridcolor\":\"white\",\"linecolor\":\"white\",\"minorgridcolor\":\"white\",\"startlinecolor\":\"#2a3f5f\"},\"type\":\"carpet\"}],\"choropleth\":[{\"colorbar\":{\"outlinewidth\":0,\"ticks\":\"\"},\"type\":\"choropleth\"}],\"contourcarpet\":[{\"colorbar\":{\"outlinewidth\":0,\"ticks\":\"\"},\"type\":\"contourcarpet\"}],\"contour\":[{\"colorbar\":{\"outlinewidth\":0,\"ticks\":\"\"},\"colorscale\":[[0.0,\"#0d0887\"],[0.1111111111111111,\"#46039f\"],[0.2222222222222222,\"#7201a8\"],[0.3333333333333333,\"#9c179e\"],[0.4444444444444444,\"#bd3786\"],[0.5555555555555556,\"#d8576b\"],[0.6666666666666666,\"#ed7953\"],[0.7777777777777778,\"#fb9f3a\"],[0.8888888888888888,\"#fdca26\"],[1.0,\"#f0f921\"]],\"type\":\"contour\"}],\"heatmapgl\":[{\"colorbar\":{\"outlinewidth\":0,\"ticks\":\"\"},\"colorscale\":[[0.0,\"#0d0887\"],[0.1111111111111111,\"#46039f\"],[0.2222222222222222,\"#7201a8\"],[0.3333333333333333,\"#9c179e\"],[0.4444444444444444,\"#bd3786\"],[0.5555555555555556,\"#d8576b\"],[0.6666666666666666,\"#ed7953\"],[0.7777777777777778,\"#fb9f3a\"],[0.8888888888888888,\"#fdca26\"],[1.0,\"#f0f921\"]],\"type\":\"heatmapgl\"}],\"heatmap\":[{\"colorbar\":{\"outlinewidth\":0,\"ticks\":\"\"},\"colorscale\":[[0.0,\"#0d0887\"],[0.1111111111111111,\"#46039f\"],[0.2222222222222222,\"#7201a8\"],[0.3333333333333333,\"#9c179e\"],[0.4444444444444444,\"#bd3786\"],[0.5555555555555556,\"#d8576b\"],[0.6666666666666666,\"#ed7953\"],[0.7777777777777778,\"#fb9f3a\"],[0.8888888888888888,\"#fdca26\"],[1.0,\"#f0f921\"]],\"type\":\"heatmap\"}],\"histogram2dcontour\":[{\"colorbar\":{\"outlinewidth\":0,\"ticks\":\"\"},\"colorscale\":[[0.0,\"#0d0887\"],[0.1111111111111111,\"#46039f\"],[0.2222222222222222,\"#7201a8\"],[0.3333333333333333,\"#9c179e\"],[0.4444444444444444,\"#bd3786\"],[0.5555555555555556,\"#d8576b\"],[0.6666666666666666,\"#ed7953\"],[0.7777777777777778,\"#fb9f3a\"],[0.8888888888888888,\"#fdca26\"],[1.0,\"#f0f921\"]],\"type\":\"histogram2dcontour\"}],\"histogram2d\":[{\"colorbar\":{\"outlinewidth\":0,\"ticks\":\"\"},\"colorscale\":[[0.0,\"#0d0887\"],[0.1111111111111111,\"#46039f\"],[0.2222222222222222,\"#7201a8\"],[0.3333333333333333,\"#9c179e\"],[0.4444444444444444,\"#bd3786\"],[0.5555555555555556,\"#d8576b\"],[0.6666666666666666,\"#ed7953\"],[0.7777777777777778,\"#fb9f3a\"],[0.8888888888888888,\"#fdca26\"],[1.0,\"#f0f921\"]],\"type\":\"histogram2d\"}],\"histogram\":[{\"marker\":{\"pattern\":{\"fillmode\":\"overlay\",\"size\":10,\"solidity\":0.2}},\"type\":\"histogram\"}],\"mesh3d\":[{\"colorbar\":{\"outlinewidth\":0,\"ticks\":\"\"},\"type\":\"mesh3d\"}],\"parcoords\":[{\"line\":{\"colorbar\":{\"outlinewidth\":0,\"ticks\":\"\"}},\"type\":\"parcoords\"}],\"pie\":[{\"automargin\":true,\"type\":\"pie\"}],\"scatter3d\":[{\"line\":{\"colorbar\":{\"outlinewidth\":0,\"ticks\":\"\"}},\"marker\":{\"colorbar\":{\"outlinewidth\":0,\"ticks\":\"\"}},\"type\":\"scatter3d\"}],\"scattercarpet\":[{\"marker\":{\"colorbar\":{\"outlinewidth\":0,\"ticks\":\"\"}},\"type\":\"scattercarpet\"}],\"scattergeo\":[{\"marker\":{\"colorbar\":{\"outlinewidth\":0,\"ticks\":\"\"}},\"type\":\"scattergeo\"}],\"scattergl\":[{\"marker\":{\"colorbar\":{\"outlinewidth\":0,\"ticks\":\"\"}},\"type\":\"scattergl\"}],\"scattermapbox\":[{\"marker\":{\"colorbar\":{\"outlinewidth\":0,\"ticks\":\"\"}},\"type\":\"scattermapbox\"}],\"scatterpolargl\":[{\"marker\":{\"colorbar\":{\"outlinewidth\":0,\"ticks\":\"\"}},\"type\":\"scatterpolargl\"}],\"scatterpolar\":[{\"marker\":{\"colorbar\":{\"outlinewidth\":0,\"ticks\":\"\"}},\"type\":\"scatterpolar\"}],\"scatter\":[{\"fillpattern\":{\"fillmode\":\"overlay\",\"size\":10,\"solidity\":0.2},\"type\":\"scatter\"}],\"scatterternary\":[{\"marker\":{\"colorbar\":{\"outlinewidth\":0,\"ticks\":\"\"}},\"type\":\"scatterternary\"}],\"surface\":[{\"colorbar\":{\"outlinewidth\":0,\"ticks\":\"\"},\"colorscale\":[[0.0,\"#0d0887\"],[0.1111111111111111,\"#46039f\"],[0.2222222222222222,\"#7201a8\"],[0.3333333333333333,\"#9c179e\"],[0.4444444444444444,\"#bd3786\"],[0.5555555555555556,\"#d8576b\"],[0.6666666666666666,\"#ed7953\"],[0.7777777777777778,\"#fb9f3a\"],[0.8888888888888888,\"#fdca26\"],[1.0,\"#f0f921\"]],\"type\":\"surface\"}],\"table\":[{\"cells\":{\"fill\":{\"color\":\"#EBF0F8\"},\"line\":{\"color\":\"white\"}},\"header\":{\"fill\":{\"color\":\"#C8D4E3\"},\"line\":{\"color\":\"white\"}},\"type\":\"table\"}]},\"layout\":{\"annotationdefaults\":{\"arrowcolor\":\"#2a3f5f\",\"arrowhead\":0,\"arrowwidth\":1},\"autotypenumbers\":\"strict\",\"coloraxis\":{\"colorbar\":{\"outlinewidth\":0,\"ticks\":\"\"}},\"colorscale\":{\"diverging\":[[0,\"#8e0152\"],[0.1,\"#c51b7d\"],[0.2,\"#de77ae\"],[0.3,\"#f1b6da\"],[0.4,\"#fde0ef\"],[0.5,\"#f7f7f7\"],[0.6,\"#e6f5d0\"],[0.7,\"#b8e186\"],[0.8,\"#7fbc41\"],[0.9,\"#4d9221\"],[1,\"#276419\"]],\"sequential\":[[0.0,\"#0d0887\"],[0.1111111111111111,\"#46039f\"],[0.2222222222222222,\"#7201a8\"],[0.3333333333333333,\"#9c179e\"],[0.4444444444444444,\"#bd3786\"],[0.5555555555555556,\"#d8576b\"],[0.6666666666666666,\"#ed7953\"],[0.7777777777777778,\"#fb9f3a\"],[0.8888888888888888,\"#fdca26\"],[1.0,\"#f0f921\"]],\"sequentialminus\":[[0.0,\"#0d0887\"],[0.1111111111111111,\"#46039f\"],[0.2222222222222222,\"#7201a8\"],[0.3333333333333333,\"#9c179e\"],[0.4444444444444444,\"#bd3786\"],[0.5555555555555556,\"#d8576b\"],[0.6666666666666666,\"#ed7953\"],[0.7777777777777778,\"#fb9f3a\"],[0.8888888888888888,\"#fdca26\"],[1.0,\"#f0f921\"]]},\"colorway\":[\"#636efa\",\"#EF553B\",\"#00cc96\",\"#ab63fa\",\"#FFA15A\",\"#19d3f3\",\"#FF6692\",\"#B6E880\",\"#FF97FF\",\"#FECB52\"],\"font\":{\"color\":\"#2a3f5f\"},\"geo\":{\"bgcolor\":\"white\",\"lakecolor\":\"white\",\"landcolor\":\"#E5ECF6\",\"showlakes\":true,\"showland\":true,\"subunitcolor\":\"white\"},\"hoverlabel\":{\"align\":\"left\"},\"hovermode\":\"closest\",\"mapbox\":{\"style\":\"light\"},\"paper_bgcolor\":\"white\",\"plot_bgcolor\":\"#E5ECF6\",\"polar\":{\"angularaxis\":{\"gridcolor\":\"white\",\"linecolor\":\"white\",\"ticks\":\"\"},\"bgcolor\":\"#E5ECF6\",\"radialaxis\":{\"gridcolor\":\"white\",\"linecolor\":\"white\",\"ticks\":\"\"}},\"scene\":{\"xaxis\":{\"backgroundcolor\":\"#E5ECF6\",\"gridcolor\":\"white\",\"gridwidth\":2,\"linecolor\":\"white\",\"showbackground\":true,\"ticks\":\"\",\"zerolinecolor\":\"white\"},\"yaxis\":{\"backgroundcolor\":\"#E5ECF6\",\"gridcolor\":\"white\",\"gridwidth\":2,\"linecolor\":\"white\",\"showbackground\":true,\"ticks\":\"\",\"zerolinecolor\":\"white\"},\"zaxis\":{\"backgroundcolor\":\"#E5ECF6\",\"gridcolor\":\"white\",\"gridwidth\":2,\"linecolor\":\"white\",\"showbackground\":true,\"ticks\":\"\",\"zerolinecolor\":\"white\"}},\"shapedefaults\":{\"line\":{\"color\":\"#2a3f5f\"}},\"ternary\":{\"aaxis\":{\"gridcolor\":\"white\",\"linecolor\":\"white\",\"ticks\":\"\"},\"baxis\":{\"gridcolor\":\"white\",\"linecolor\":\"white\",\"ticks\":\"\"},\"bgcolor\":\"#E5ECF6\",\"caxis\":{\"gridcolor\":\"white\",\"linecolor\":\"white\",\"ticks\":\"\"}},\"title\":{\"x\":0.05},\"xaxis\":{\"automargin\":true,\"gridcolor\":\"white\",\"linecolor\":\"white\",\"ticks\":\"\",\"title\":{\"standoff\":15},\"zerolinecolor\":\"white\",\"zerolinewidth\":2},\"yaxis\":{\"automargin\":true,\"gridcolor\":\"white\",\"linecolor\":\"white\",\"ticks\":\"\",\"title\":{\"standoff\":15},\"zerolinecolor\":\"white\",\"zerolinewidth\":2}}},\"title\":{\"font\":{\"color\":\"#4D5663\"}},\"xaxis\":{\"gridcolor\":\"#E1E5ED\",\"showgrid\":true,\"tickfont\":{\"color\":\"#4D5663\"},\"title\":{\"font\":{\"color\":\"#4D5663\"},\"text\":\"\"},\"zerolinecolor\":\"#E1E5ED\"},\"yaxis\":{\"gridcolor\":\"#E1E5ED\",\"showgrid\":true,\"tickfont\":{\"color\":\"#4D5663\"},\"title\":{\"font\":{\"color\":\"#4D5663\"},\"text\":\"\"},\"zerolinecolor\":\"#E1E5ED\"}},                        {\"showLink\": true, \"linkText\": \"Export to plot.ly\", \"plotlyServerURL\": \"https://plot.ly\", \"responsive\": true}                    ).then(function(){\n",
       "                            \n",
       "var gd = document.getElementById('b7fc8a92-0fad-4986-aa78-b9e568391ad6');\n",
       "var x = new MutationObserver(function (mutations, observer) {{\n",
       "        var display = window.getComputedStyle(gd).display;\n",
       "        if (!display || display === 'none') {{\n",
       "            console.log([gd, 'removed!']);\n",
       "            Plotly.purge(gd);\n",
       "            observer.disconnect();\n",
       "        }}\n",
       "}});\n",
       "\n",
       "// Listen for the removal of the full notebook cells\n",
       "var notebookContainer = gd.closest('#notebook-container');\n",
       "if (notebookContainer) {{\n",
       "    x.observe(notebookContainer, {childList: true});\n",
       "}}\n",
       "\n",
       "// Listen for the clearing of the current output cell\n",
       "var outputEl = gd.closest('.output');\n",
       "if (outputEl) {{\n",
       "    x.observe(outputEl, {childList: true});\n",
       "}}\n",
       "\n",
       "                        })                };                });            </script>        </div>"
      ]
     },
     "metadata": {},
     "output_type": "display_data"
    }
   ],
   "source": [
    "df['A'].iplot(kind='hist', bins=25)"
   ]
  },
  {
   "cell_type": "code",
   "execution_count": 58,
   "id": "6114b91a",
   "metadata": {
    "ExecuteTime": {
     "end_time": "2023-03-23T12:08:28.515281Z",
     "start_time": "2023-03-23T12:08:28.470799Z"
    }
   },
   "outputs": [
    {
     "data": {
      "application/vnd.plotly.v1+json": {
       "config": {
        "linkText": "Export to plot.ly",
        "plotlyServerURL": "https://plot.ly",
        "showLink": true
       },
       "data": [
        {
         "histfunc": "count",
         "histnorm": "",
         "marker": {
          "color": "rgba(255, 153, 51, 1.0)",
          "line": {
           "color": "#4D5663",
           "width": 1.3
          }
         },
         "name": "A",
         "opacity": 0.8,
         "orientation": "v",
         "type": "histogram",
         "x": [
          0.4278303063139346,
          -0.17960339661206842,
          1.0164042618967994,
          -0.7122789625358378,
          -0.6470161726957598,
          -1.5391054711001806,
          -0.816419876227612,
          0.14992634819113262,
          -0.2538297184910725,
          0.4011312596835835,
          -0.35121217557811146,
          -0.08067457705225729,
          -1.2864396719186408,
          0.46615802073452944,
          -0.3186788122439116,
          1.0143288516154085,
          -2.2806490282504535,
          0.40384690521168326,
          0.6018005259883966,
          -0.25978009976335664,
          -1.1669122342579856,
          0.8573994100521745,
          0.8623475326006868,
          -0.3544586484489518,
          0.4110630086982138,
          -0.32937147502200953,
          0.8971370723551457,
          0.42079992650952014,
          -0.4723624434704465,
          0.12777627493488986,
          0.4889927615403592,
          -0.9481653064033165,
          0.10111690399406939,
          -0.5199092906505531,
          -0.9131480083912413,
          1.091390985730131,
          -1.166766293120185,
          0.20757181583433243,
          0.6829620194836434,
          -1.0930355069538578,
          -0.02650130330699229,
          -1.2924400269578538,
          0.14418601175977652,
          -0.20223854166849403,
          0.19208883138239824,
          -0.18114204996310787,
          -0.19841663539400559,
          1.8385362877297255,
          0.15384934369884648,
          -0.3098194447686136,
          -1.2045370228630572,
          0.5327550476824217,
          -0.29441402000600364,
          0.3709208833043238,
          -1.5092728793466288,
          0.5191502262763877,
          1.4637639676598087,
          -0.7232252992171272,
          0.6980766119028778,
          -0.7563825513013476,
          -0.7421339581048623,
          1.121264011877191,
          0.013752107630780407,
          -0.5892825852411415,
          0.6056490857330595,
          0.9780201457682005,
          0.3394107574260655,
          -0.29779406831739264,
          -0.8249862472503384,
          -0.006608688646789804,
          0.9173723910209661,
          -0.03603833862910183,
          -0.6990592443026739,
          -1.342749352000533,
          -1.7062572618616654,
          -0.4379870105257444,
          -0.37396788969217615,
          -1.2152159255979396,
          0.85898836922212,
          0.2853468800286372,
          0.08525587871536675,
          0.3440875236892165,
          0.43424037380948755,
          0.5175629844710247,
          -0.06289870370813987,
          -0.3717812990629133,
          -1.3435656884172564,
          2.1465656501241304,
          0.9877233116000835,
          0.04448063913151714,
          -0.5020413908536919,
          0.13533132322167515,
          -0.4085192034480075,
          -0.5307015361759451,
          0.8328125615881095,
          0.16467398244369646,
          0.3384160963082231,
          0.5451546074803042,
          0.565600486678321,
          0.7341938436024419
         ]
        },
        {
         "histfunc": "count",
         "histnorm": "",
         "marker": {
          "color": "rgba(55, 128, 191, 1.0)",
          "line": {
           "color": "#4D5663",
           "width": 1.3
          }
         },
         "name": "B",
         "opacity": 0.8,
         "orientation": "v",
         "type": "histogram",
         "x": [
          0.48306040414083834,
          0.009058351407117657,
          -0.10115869895854517,
          1.299364507421079,
          -0.917630514349454,
          -0.0004417653346297867,
          -0.40798279547156635,
          0.3444360696810804,
          -0.5303963906334963,
          0.16405004030193343,
          0.3350632725543995,
          -0.1981882405566007,
          -0.24432705870638655,
          1.096647494957282,
          0.3648057242653707,
          1.792685105555086,
          1.4643582511094944,
          -0.8544839418659624,
          -0.9191036875899685,
          0.5677118433595862,
          0.3644188202879386,
          0.33595984166710796,
          1.9936047851335992,
          -0.3184669272450796,
          0.32975569755681217,
          0.4260629510999024,
          0.23486176179843596,
          -1.086942248367033,
          0.3674910042928074,
          -0.46547162469799963,
          -0.9924427421111863,
          -2.1406810439355066,
          -0.21469032628104553,
          -0.12076619656413162,
          0.7647436190552594,
          0.4929088265880474,
          -0.8771908460491088,
          2.1777215427021996,
          0.04436592206782866,
          -0.0073038619111890565,
          1.4963995074604057,
          -0.46116149162445347,
          -0.9719021840295913,
          0.6605389800911491,
          -1.160605255775432,
          0.6757450195029824,
          -0.6991125021178969,
          0.5398846034108065,
          -0.4066398571344095,
          -0.31589064660126354,
          -0.7208238632743234,
          -0.383731214271165,
          -1.3536096966031266,
          0.4987596504299444,
          0.22804262761234906,
          -0.9882108951751464,
          0.6127722213063093,
          -0.9834991873284643,
          0.14950554896813462,
          0.4830956263791654,
          0.17451464216515458,
          -1.816099518246873,
          1.1385736700100326,
          -1.0036133687647835,
          0.8188788059107236,
          1.157425588927253,
          -1.1723531019569493,
          -0.07573755585923887,
          0.17966228070772516,
          0.6285754121275586,
          1.1372469738815771,
          -0.28269154554196035,
          0.7165406494548696,
          -0.23007318691659548,
          -0.8883280341101701,
          0.3281056679583895,
          -0.5449040671497705,
          -1.5170140313832825,
          0.7159357051909687,
          1.2061881235431922,
          -1.487080206258318,
          0.219275882063202,
          0.007041079866349726,
          0.2331570317320377,
          0.0034261754096381295,
          0.08514670420553244,
          -1.1107420851889813,
          1.8460938344620215,
          -0.21158616035407998,
          0.0044370729423990705,
          -0.39390964225737446,
          -1.222526038408339,
          -0.43863339052296013,
          -0.08599763750602338,
          -0.7734350600969128,
          -0.12144896846053277,
          -0.18775311587229412,
          1.4392171860459413,
          -0.2882843728195542,
          0.364549423795677
         ]
        },
        {
         "histfunc": "count",
         "histnorm": "",
         "marker": {
          "color": "rgba(50, 171, 96, 1.0)",
          "line": {
           "color": "#4D5663",
           "width": 1.3
          }
         },
         "name": "C",
         "opacity": 0.8,
         "orientation": "v",
         "type": "histogram",
         "x": [
          -0.24206467032319814,
          -1.2631525698375463,
          0.4594071214617641,
          0.60077235908034,
          -0.9265626233504829,
          0.6756216034502802,
          0.7434142581111773,
          0.018262130597430336,
          -0.06392608339156247,
          1.4060464622338318,
          1.0686269655137899,
          0.002754273374794008,
          0.4605672689199664,
          0.39263815023305654,
          -0.7329865214766967,
          1.6297002427753362,
          -0.0008107283884601559,
          1.9765014199108537,
          1.2096049063087697,
          1.6213248538289111,
          -1.585873889736527,
          -0.8651655009854876,
          0.020988001541876446,
          -1.3406838702958856,
          -0.951200160119948,
          -0.497654320179825,
          -0.021054458357745297,
          -1.0574593040360256,
          1.0294055755935148,
          1.2163001342613522,
          0.17970515970423812,
          -0.11760176641969425,
          -1.0969510943885759,
          -0.5868858904725097,
          2.083934082971225,
          -0.9181885756735065,
          -0.1553782987340766,
          -0.820988776654748,
          -0.3804720882188407,
          -0.35752641236018046,
          -0.35401246761989624,
          -0.5775830532493539,
          -2.424900350237003,
          0.2855207075604285,
          0.46936376753898157,
          -0.21746001938038956,
          0.06450952686778252,
          0.7444671538036397,
          -1.2248250486686556,
          -1.416788946235324,
          1.3705699230468036,
          -0.2893623524636134,
          0.7887332621839191,
          0.6265750340329868,
          -1.7050938119207735,
          -1.710626378654247,
          -0.17212900337049927,
          0.786445692495372,
          0.8728446850178994,
          -0.04713310597221714,
          0.13142099172018107,
          0.39726379664821326,
          1.322607054992196,
          0.5354512919666429,
          1.2374262494474055,
          2.116237482381573,
          1.9044511430298887,
          1.391112716532458,
          -0.35693852947472154,
          0.4918662133612119,
          -0.5922710055561605,
          -0.7878598194918272,
          0.5265707948268116,
          -0.642020950111216,
          0.5517844245714252,
          -0.7934961397371885,
          0.7908296097983124,
          2.275523536747189,
          1.1606453869673206,
          -0.7974626361895323,
          0.005581955560807476,
          0.21689162723437547,
          0.22298419441339054,
          0.8200441699855056,
          1.19166521369793,
          -0.8976133213470465,
          -0.567476953648249,
          -0.7809052141714418,
          -0.27644458517576165,
          1.0616591780119478,
          -1.2363549285298678,
          0.1262708566305871,
          0.9525493443749347,
          -1.6866168540938908,
          -0.4902723986210022,
          -0.7992571135728221,
          -2.074657039634036,
          0.30943950283626537,
          0.9782524876015997,
          -0.1773164998324019
         ]
        },
        {
         "histfunc": "count",
         "histnorm": "",
         "marker": {
          "color": "rgba(128, 0, 128, 1.0)",
          "line": {
           "color": "#4D5663",
           "width": 1.3
          }
         },
         "name": "D",
         "opacity": 0.8,
         "orientation": "v",
         "type": "histogram",
         "x": [
          -1.7133387861031382,
          -1.2932945006528207,
          0.14441817391879672,
          -0.46427328484531893,
          -1.3646050456562944,
          0.4686406470154942,
          0.7474547724221794,
          -0.675305811206826,
          0.758847914674031,
          0.7428028093361997,
          -0.4065924037422975,
          0.8064727208976706,
          0.2931240500444258,
          -1.0914232991042179,
          -2.0453820137163046,
          -0.2936273028983105,
          -0.14035412942006467,
          -0.8301817516350479,
          -0.7865457087503928,
          -1.1546250246981458,
          0.3215877269843798,
          -1.3839309511016578,
          0.08209020772287838,
          0.9304230655889154,
          0.31745222546584634,
          0.11193970003501555,
          1.7139986776284593,
          -2.0967803975447517,
          1.0511375814990898,
          0.6383915109140148,
          1.2555622054890245,
          -0.5508945322176529,
          0.18747842418344107,
          -0.9803099881452719,
          0.1467935250497945,
          -0.20256265797208975,
          1.567893903926729,
          -1.644143572382776,
          0.30826059921641225,
          -0.7387013328474691,
          -0.019446660009001256,
          1.326199758941917,
          1.0410750283906138,
          1.2395301701487318,
          -2.406092741659287,
          2.416574931180957,
          0.6882233525175699,
          0.04639932826401581,
          -0.16979647167446166,
          0.08403610728427734,
          -0.3219768344393413,
          0.030567251288725984,
          0.6387071244259642,
          2.0584786699697726,
          2.2729373305352922,
          -1.4912937903346457,
          -1.7143541593610665,
          -0.34648232336346285,
          -0.23503278285029994,
          -0.15948119829612942,
          0.5131560094607199,
          0.3991080890988705,
          -0.6343936102103105,
          -0.0940156804309552,
          -0.17713779298576451,
          -0.75443203752132,
          -0.4360212088269227,
          -0.49578419347288005,
          -1.0089817430408183,
          -0.45886311889243525,
          -0.20026747240539783,
          -1.8763166449135418,
          0.3735678516046811,
          0.804719500794733,
          1.1871386676158464,
          1.3186386149058955,
          -1.0325204869497864,
          -1.7590503779541997,
          0.7025720876217167,
          0.2678085853874164,
          -0.7554939802021241,
          -2.372721493554485,
          -1.3184213475425806,
          0.46209929466084504,
          -0.7232520394848614,
          1.2672793869050392,
          -1.3645244928619236,
          0.9613521435589473,
          -1.3753146341448226,
          0.2316998510860715,
          1.7574559430991654,
          -3.098889574485068,
          1.1375254421854166,
          -0.5386418392620599,
          1.2300015496189856,
          -0.07574961938385888,
          1.9618251717642414,
          1.299537326929035,
          -1.1235054198822467,
          0.5221874567126272
         ]
        }
       ],
       "layout": {
        "barmode": "overlay",
        "legend": {
         "bgcolor": "#F5F6F9",
         "font": {
          "color": "#4D5663"
         }
        },
        "paper_bgcolor": "#F5F6F9",
        "plot_bgcolor": "#F5F6F9",
        "template": {
         "data": {
          "bar": [
           {
            "error_x": {
             "color": "#2a3f5f"
            },
            "error_y": {
             "color": "#2a3f5f"
            },
            "marker": {
             "line": {
              "color": "#E5ECF6",
              "width": 0.5
             },
             "pattern": {
              "fillmode": "overlay",
              "size": 10,
              "solidity": 0.2
             }
            },
            "type": "bar"
           }
          ],
          "barpolar": [
           {
            "marker": {
             "line": {
              "color": "#E5ECF6",
              "width": 0.5
             },
             "pattern": {
              "fillmode": "overlay",
              "size": 10,
              "solidity": 0.2
             }
            },
            "type": "barpolar"
           }
          ],
          "carpet": [
           {
            "aaxis": {
             "endlinecolor": "#2a3f5f",
             "gridcolor": "white",
             "linecolor": "white",
             "minorgridcolor": "white",
             "startlinecolor": "#2a3f5f"
            },
            "baxis": {
             "endlinecolor": "#2a3f5f",
             "gridcolor": "white",
             "linecolor": "white",
             "minorgridcolor": "white",
             "startlinecolor": "#2a3f5f"
            },
            "type": "carpet"
           }
          ],
          "choropleth": [
           {
            "colorbar": {
             "outlinewidth": 0,
             "ticks": ""
            },
            "type": "choropleth"
           }
          ],
          "contour": [
           {
            "colorbar": {
             "outlinewidth": 0,
             "ticks": ""
            },
            "colorscale": [
             [
              0,
              "#0d0887"
             ],
             [
              0.1111111111111111,
              "#46039f"
             ],
             [
              0.2222222222222222,
              "#7201a8"
             ],
             [
              0.3333333333333333,
              "#9c179e"
             ],
             [
              0.4444444444444444,
              "#bd3786"
             ],
             [
              0.5555555555555556,
              "#d8576b"
             ],
             [
              0.6666666666666666,
              "#ed7953"
             ],
             [
              0.7777777777777778,
              "#fb9f3a"
             ],
             [
              0.8888888888888888,
              "#fdca26"
             ],
             [
              1,
              "#f0f921"
             ]
            ],
            "type": "contour"
           }
          ],
          "contourcarpet": [
           {
            "colorbar": {
             "outlinewidth": 0,
             "ticks": ""
            },
            "type": "contourcarpet"
           }
          ],
          "heatmap": [
           {
            "colorbar": {
             "outlinewidth": 0,
             "ticks": ""
            },
            "colorscale": [
             [
              0,
              "#0d0887"
             ],
             [
              0.1111111111111111,
              "#46039f"
             ],
             [
              0.2222222222222222,
              "#7201a8"
             ],
             [
              0.3333333333333333,
              "#9c179e"
             ],
             [
              0.4444444444444444,
              "#bd3786"
             ],
             [
              0.5555555555555556,
              "#d8576b"
             ],
             [
              0.6666666666666666,
              "#ed7953"
             ],
             [
              0.7777777777777778,
              "#fb9f3a"
             ],
             [
              0.8888888888888888,
              "#fdca26"
             ],
             [
              1,
              "#f0f921"
             ]
            ],
            "type": "heatmap"
           }
          ],
          "heatmapgl": [
           {
            "colorbar": {
             "outlinewidth": 0,
             "ticks": ""
            },
            "colorscale": [
             [
              0,
              "#0d0887"
             ],
             [
              0.1111111111111111,
              "#46039f"
             ],
             [
              0.2222222222222222,
              "#7201a8"
             ],
             [
              0.3333333333333333,
              "#9c179e"
             ],
             [
              0.4444444444444444,
              "#bd3786"
             ],
             [
              0.5555555555555556,
              "#d8576b"
             ],
             [
              0.6666666666666666,
              "#ed7953"
             ],
             [
              0.7777777777777778,
              "#fb9f3a"
             ],
             [
              0.8888888888888888,
              "#fdca26"
             ],
             [
              1,
              "#f0f921"
             ]
            ],
            "type": "heatmapgl"
           }
          ],
          "histogram": [
           {
            "marker": {
             "pattern": {
              "fillmode": "overlay",
              "size": 10,
              "solidity": 0.2
             }
            },
            "type": "histogram"
           }
          ],
          "histogram2d": [
           {
            "colorbar": {
             "outlinewidth": 0,
             "ticks": ""
            },
            "colorscale": [
             [
              0,
              "#0d0887"
             ],
             [
              0.1111111111111111,
              "#46039f"
             ],
             [
              0.2222222222222222,
              "#7201a8"
             ],
             [
              0.3333333333333333,
              "#9c179e"
             ],
             [
              0.4444444444444444,
              "#bd3786"
             ],
             [
              0.5555555555555556,
              "#d8576b"
             ],
             [
              0.6666666666666666,
              "#ed7953"
             ],
             [
              0.7777777777777778,
              "#fb9f3a"
             ],
             [
              0.8888888888888888,
              "#fdca26"
             ],
             [
              1,
              "#f0f921"
             ]
            ],
            "type": "histogram2d"
           }
          ],
          "histogram2dcontour": [
           {
            "colorbar": {
             "outlinewidth": 0,
             "ticks": ""
            },
            "colorscale": [
             [
              0,
              "#0d0887"
             ],
             [
              0.1111111111111111,
              "#46039f"
             ],
             [
              0.2222222222222222,
              "#7201a8"
             ],
             [
              0.3333333333333333,
              "#9c179e"
             ],
             [
              0.4444444444444444,
              "#bd3786"
             ],
             [
              0.5555555555555556,
              "#d8576b"
             ],
             [
              0.6666666666666666,
              "#ed7953"
             ],
             [
              0.7777777777777778,
              "#fb9f3a"
             ],
             [
              0.8888888888888888,
              "#fdca26"
             ],
             [
              1,
              "#f0f921"
             ]
            ],
            "type": "histogram2dcontour"
           }
          ],
          "mesh3d": [
           {
            "colorbar": {
             "outlinewidth": 0,
             "ticks": ""
            },
            "type": "mesh3d"
           }
          ],
          "parcoords": [
           {
            "line": {
             "colorbar": {
              "outlinewidth": 0,
              "ticks": ""
             }
            },
            "type": "parcoords"
           }
          ],
          "pie": [
           {
            "automargin": true,
            "type": "pie"
           }
          ],
          "scatter": [
           {
            "fillpattern": {
             "fillmode": "overlay",
             "size": 10,
             "solidity": 0.2
            },
            "type": "scatter"
           }
          ],
          "scatter3d": [
           {
            "line": {
             "colorbar": {
              "outlinewidth": 0,
              "ticks": ""
             }
            },
            "marker": {
             "colorbar": {
              "outlinewidth": 0,
              "ticks": ""
             }
            },
            "type": "scatter3d"
           }
          ],
          "scattercarpet": [
           {
            "marker": {
             "colorbar": {
              "outlinewidth": 0,
              "ticks": ""
             }
            },
            "type": "scattercarpet"
           }
          ],
          "scattergeo": [
           {
            "marker": {
             "colorbar": {
              "outlinewidth": 0,
              "ticks": ""
             }
            },
            "type": "scattergeo"
           }
          ],
          "scattergl": [
           {
            "marker": {
             "colorbar": {
              "outlinewidth": 0,
              "ticks": ""
             }
            },
            "type": "scattergl"
           }
          ],
          "scattermapbox": [
           {
            "marker": {
             "colorbar": {
              "outlinewidth": 0,
              "ticks": ""
             }
            },
            "type": "scattermapbox"
           }
          ],
          "scatterpolar": [
           {
            "marker": {
             "colorbar": {
              "outlinewidth": 0,
              "ticks": ""
             }
            },
            "type": "scatterpolar"
           }
          ],
          "scatterpolargl": [
           {
            "marker": {
             "colorbar": {
              "outlinewidth": 0,
              "ticks": ""
             }
            },
            "type": "scatterpolargl"
           }
          ],
          "scatterternary": [
           {
            "marker": {
             "colorbar": {
              "outlinewidth": 0,
              "ticks": ""
             }
            },
            "type": "scatterternary"
           }
          ],
          "surface": [
           {
            "colorbar": {
             "outlinewidth": 0,
             "ticks": ""
            },
            "colorscale": [
             [
              0,
              "#0d0887"
             ],
             [
              0.1111111111111111,
              "#46039f"
             ],
             [
              0.2222222222222222,
              "#7201a8"
             ],
             [
              0.3333333333333333,
              "#9c179e"
             ],
             [
              0.4444444444444444,
              "#bd3786"
             ],
             [
              0.5555555555555556,
              "#d8576b"
             ],
             [
              0.6666666666666666,
              "#ed7953"
             ],
             [
              0.7777777777777778,
              "#fb9f3a"
             ],
             [
              0.8888888888888888,
              "#fdca26"
             ],
             [
              1,
              "#f0f921"
             ]
            ],
            "type": "surface"
           }
          ],
          "table": [
           {
            "cells": {
             "fill": {
              "color": "#EBF0F8"
             },
             "line": {
              "color": "white"
             }
            },
            "header": {
             "fill": {
              "color": "#C8D4E3"
             },
             "line": {
              "color": "white"
             }
            },
            "type": "table"
           }
          ]
         },
         "layout": {
          "annotationdefaults": {
           "arrowcolor": "#2a3f5f",
           "arrowhead": 0,
           "arrowwidth": 1
          },
          "autotypenumbers": "strict",
          "coloraxis": {
           "colorbar": {
            "outlinewidth": 0,
            "ticks": ""
           }
          },
          "colorscale": {
           "diverging": [
            [
             0,
             "#8e0152"
            ],
            [
             0.1,
             "#c51b7d"
            ],
            [
             0.2,
             "#de77ae"
            ],
            [
             0.3,
             "#f1b6da"
            ],
            [
             0.4,
             "#fde0ef"
            ],
            [
             0.5,
             "#f7f7f7"
            ],
            [
             0.6,
             "#e6f5d0"
            ],
            [
             0.7,
             "#b8e186"
            ],
            [
             0.8,
             "#7fbc41"
            ],
            [
             0.9,
             "#4d9221"
            ],
            [
             1,
             "#276419"
            ]
           ],
           "sequential": [
            [
             0,
             "#0d0887"
            ],
            [
             0.1111111111111111,
             "#46039f"
            ],
            [
             0.2222222222222222,
             "#7201a8"
            ],
            [
             0.3333333333333333,
             "#9c179e"
            ],
            [
             0.4444444444444444,
             "#bd3786"
            ],
            [
             0.5555555555555556,
             "#d8576b"
            ],
            [
             0.6666666666666666,
             "#ed7953"
            ],
            [
             0.7777777777777778,
             "#fb9f3a"
            ],
            [
             0.8888888888888888,
             "#fdca26"
            ],
            [
             1,
             "#f0f921"
            ]
           ],
           "sequentialminus": [
            [
             0,
             "#0d0887"
            ],
            [
             0.1111111111111111,
             "#46039f"
            ],
            [
             0.2222222222222222,
             "#7201a8"
            ],
            [
             0.3333333333333333,
             "#9c179e"
            ],
            [
             0.4444444444444444,
             "#bd3786"
            ],
            [
             0.5555555555555556,
             "#d8576b"
            ],
            [
             0.6666666666666666,
             "#ed7953"
            ],
            [
             0.7777777777777778,
             "#fb9f3a"
            ],
            [
             0.8888888888888888,
             "#fdca26"
            ],
            [
             1,
             "#f0f921"
            ]
           ]
          },
          "colorway": [
           "#636efa",
           "#EF553B",
           "#00cc96",
           "#ab63fa",
           "#FFA15A",
           "#19d3f3",
           "#FF6692",
           "#B6E880",
           "#FF97FF",
           "#FECB52"
          ],
          "font": {
           "color": "#2a3f5f"
          },
          "geo": {
           "bgcolor": "white",
           "lakecolor": "white",
           "landcolor": "#E5ECF6",
           "showlakes": true,
           "showland": true,
           "subunitcolor": "white"
          },
          "hoverlabel": {
           "align": "left"
          },
          "hovermode": "closest",
          "mapbox": {
           "style": "light"
          },
          "paper_bgcolor": "white",
          "plot_bgcolor": "#E5ECF6",
          "polar": {
           "angularaxis": {
            "gridcolor": "white",
            "linecolor": "white",
            "ticks": ""
           },
           "bgcolor": "#E5ECF6",
           "radialaxis": {
            "gridcolor": "white",
            "linecolor": "white",
            "ticks": ""
           }
          },
          "scene": {
           "xaxis": {
            "backgroundcolor": "#E5ECF6",
            "gridcolor": "white",
            "gridwidth": 2,
            "linecolor": "white",
            "showbackground": true,
            "ticks": "",
            "zerolinecolor": "white"
           },
           "yaxis": {
            "backgroundcolor": "#E5ECF6",
            "gridcolor": "white",
            "gridwidth": 2,
            "linecolor": "white",
            "showbackground": true,
            "ticks": "",
            "zerolinecolor": "white"
           },
           "zaxis": {
            "backgroundcolor": "#E5ECF6",
            "gridcolor": "white",
            "gridwidth": 2,
            "linecolor": "white",
            "showbackground": true,
            "ticks": "",
            "zerolinecolor": "white"
           }
          },
          "shapedefaults": {
           "line": {
            "color": "#2a3f5f"
           }
          },
          "ternary": {
           "aaxis": {
            "gridcolor": "white",
            "linecolor": "white",
            "ticks": ""
           },
           "baxis": {
            "gridcolor": "white",
            "linecolor": "white",
            "ticks": ""
           },
           "bgcolor": "#E5ECF6",
           "caxis": {
            "gridcolor": "white",
            "linecolor": "white",
            "ticks": ""
           }
          },
          "title": {
           "x": 0.05
          },
          "xaxis": {
           "automargin": true,
           "gridcolor": "white",
           "linecolor": "white",
           "ticks": "",
           "title": {
            "standoff": 15
           },
           "zerolinecolor": "white",
           "zerolinewidth": 2
          },
          "yaxis": {
           "automargin": true,
           "gridcolor": "white",
           "linecolor": "white",
           "ticks": "",
           "title": {
            "standoff": 15
           },
           "zerolinecolor": "white",
           "zerolinewidth": 2
          }
         }
        },
        "title": {
         "font": {
          "color": "#4D5663"
         }
        },
        "xaxis": {
         "gridcolor": "#E1E5ED",
         "showgrid": true,
         "tickfont": {
          "color": "#4D5663"
         },
         "title": {
          "font": {
           "color": "#4D5663"
          },
          "text": ""
         },
         "zerolinecolor": "#E1E5ED"
        },
        "yaxis": {
         "gridcolor": "#E1E5ED",
         "showgrid": true,
         "tickfont": {
          "color": "#4D5663"
         },
         "title": {
          "font": {
           "color": "#4D5663"
          },
          "text": ""
         },
         "zerolinecolor": "#E1E5ED"
        }
       }
      },
      "text/html": [
       "<div>                            <div id=\"09de240e-5cde-4a41-85be-1b7a79b76a13\" class=\"plotly-graph-div\" style=\"height:525px; width:100%;\"></div>            <script type=\"text/javascript\">                require([\"plotly\"], function(Plotly) {                    window.PLOTLYENV=window.PLOTLYENV || {};\n",
       "                    window.PLOTLYENV.BASE_URL='https://plot.ly';                                    if (document.getElementById(\"09de240e-5cde-4a41-85be-1b7a79b76a13\")) {                    Plotly.newPlot(                        \"09de240e-5cde-4a41-85be-1b7a79b76a13\",                        [{\"histfunc\":\"count\",\"histnorm\":\"\",\"marker\":{\"color\":\"rgba(255, 153, 51, 1.0)\",\"line\":{\"color\":\"#4D5663\",\"width\":1.3}},\"name\":\"A\",\"opacity\":0.8,\"orientation\":\"v\",\"x\":[0.4278303063139346,-0.17960339661206842,1.0164042618967994,-0.7122789625358378,-0.6470161726957598,-1.5391054711001806,-0.816419876227612,0.14992634819113262,-0.2538297184910725,0.4011312596835835,-0.35121217557811146,-0.08067457705225729,-1.2864396719186408,0.46615802073452944,-0.3186788122439116,1.0143288516154085,-2.2806490282504535,0.40384690521168326,0.6018005259883966,-0.25978009976335664,-1.1669122342579856,0.8573994100521745,0.8623475326006868,-0.3544586484489518,0.4110630086982138,-0.32937147502200953,0.8971370723551457,0.42079992650952014,-0.4723624434704465,0.12777627493488986,0.4889927615403592,-0.9481653064033165,0.10111690399406939,-0.5199092906505531,-0.9131480083912413,1.091390985730131,-1.166766293120185,0.20757181583433243,0.6829620194836434,-1.0930355069538578,-0.02650130330699229,-1.2924400269578538,0.14418601175977652,-0.20223854166849403,0.19208883138239824,-0.18114204996310787,-0.19841663539400559,1.8385362877297255,0.15384934369884648,-0.3098194447686136,-1.2045370228630572,0.5327550476824217,-0.29441402000600364,0.3709208833043238,-1.5092728793466288,0.5191502262763877,1.4637639676598087,-0.7232252992171272,0.6980766119028778,-0.7563825513013476,-0.7421339581048623,1.121264011877191,0.013752107630780407,-0.5892825852411415,0.6056490857330595,0.9780201457682005,0.3394107574260655,-0.29779406831739264,-0.8249862472503384,-0.006608688646789804,0.9173723910209661,-0.03603833862910183,-0.6990592443026739,-1.342749352000533,-1.7062572618616654,-0.4379870105257444,-0.37396788969217615,-1.2152159255979396,0.85898836922212,0.2853468800286372,0.08525587871536675,0.3440875236892165,0.43424037380948755,0.5175629844710247,-0.06289870370813987,-0.3717812990629133,-1.3435656884172564,2.1465656501241304,0.9877233116000835,0.04448063913151714,-0.5020413908536919,0.13533132322167515,-0.4085192034480075,-0.5307015361759451,0.8328125615881095,0.16467398244369646,0.3384160963082231,0.5451546074803042,0.565600486678321,0.7341938436024419],\"type\":\"histogram\"},{\"histfunc\":\"count\",\"histnorm\":\"\",\"marker\":{\"color\":\"rgba(55, 128, 191, 1.0)\",\"line\":{\"color\":\"#4D5663\",\"width\":1.3}},\"name\":\"B\",\"opacity\":0.8,\"orientation\":\"v\",\"x\":[0.48306040414083834,0.009058351407117657,-0.10115869895854517,1.299364507421079,-0.917630514349454,-0.0004417653346297867,-0.40798279547156635,0.3444360696810804,-0.5303963906334963,0.16405004030193343,0.3350632725543995,-0.1981882405566007,-0.24432705870638655,1.096647494957282,0.3648057242653707,1.792685105555086,1.4643582511094944,-0.8544839418659624,-0.9191036875899685,0.5677118433595862,0.3644188202879386,0.33595984166710796,1.9936047851335992,-0.3184669272450796,0.32975569755681217,0.4260629510999024,0.23486176179843596,-1.086942248367033,0.3674910042928074,-0.46547162469799963,-0.9924427421111863,-2.1406810439355066,-0.21469032628104553,-0.12076619656413162,0.7647436190552594,0.4929088265880474,-0.8771908460491088,2.1777215427021996,0.04436592206782866,-0.0073038619111890565,1.4963995074604057,-0.46116149162445347,-0.9719021840295913,0.6605389800911491,-1.160605255775432,0.6757450195029824,-0.6991125021178969,0.5398846034108065,-0.4066398571344095,-0.31589064660126354,-0.7208238632743234,-0.383731214271165,-1.3536096966031266,0.4987596504299444,0.22804262761234906,-0.9882108951751464,0.6127722213063093,-0.9834991873284643,0.14950554896813462,0.4830956263791654,0.17451464216515458,-1.816099518246873,1.1385736700100326,-1.0036133687647835,0.8188788059107236,1.157425588927253,-1.1723531019569493,-0.07573755585923887,0.17966228070772516,0.6285754121275586,1.1372469738815771,-0.28269154554196035,0.7165406494548696,-0.23007318691659548,-0.8883280341101701,0.3281056679583895,-0.5449040671497705,-1.5170140313832825,0.7159357051909687,1.2061881235431922,-1.487080206258318,0.219275882063202,0.007041079866349726,0.2331570317320377,0.0034261754096381295,0.08514670420553244,-1.1107420851889813,1.8460938344620215,-0.21158616035407998,0.0044370729423990705,-0.39390964225737446,-1.222526038408339,-0.43863339052296013,-0.08599763750602338,-0.7734350600969128,-0.12144896846053277,-0.18775311587229412,1.4392171860459413,-0.2882843728195542,0.364549423795677],\"type\":\"histogram\"},{\"histfunc\":\"count\",\"histnorm\":\"\",\"marker\":{\"color\":\"rgba(50, 171, 96, 1.0)\",\"line\":{\"color\":\"#4D5663\",\"width\":1.3}},\"name\":\"C\",\"opacity\":0.8,\"orientation\":\"v\",\"x\":[-0.24206467032319814,-1.2631525698375463,0.4594071214617641,0.60077235908034,-0.9265626233504829,0.6756216034502802,0.7434142581111773,0.018262130597430336,-0.06392608339156247,1.4060464622338318,1.0686269655137899,0.002754273374794008,0.4605672689199664,0.39263815023305654,-0.7329865214766967,1.6297002427753362,-0.0008107283884601559,1.9765014199108537,1.2096049063087697,1.6213248538289111,-1.585873889736527,-0.8651655009854876,0.020988001541876446,-1.3406838702958856,-0.951200160119948,-0.497654320179825,-0.021054458357745297,-1.0574593040360256,1.0294055755935148,1.2163001342613522,0.17970515970423812,-0.11760176641969425,-1.0969510943885759,-0.5868858904725097,2.083934082971225,-0.9181885756735065,-0.1553782987340766,-0.820988776654748,-0.3804720882188407,-0.35752641236018046,-0.35401246761989624,-0.5775830532493539,-2.424900350237003,0.2855207075604285,0.46936376753898157,-0.21746001938038956,0.06450952686778252,0.7444671538036397,-1.2248250486686556,-1.416788946235324,1.3705699230468036,-0.2893623524636134,0.7887332621839191,0.6265750340329868,-1.7050938119207735,-1.710626378654247,-0.17212900337049927,0.786445692495372,0.8728446850178994,-0.04713310597221714,0.13142099172018107,0.39726379664821326,1.322607054992196,0.5354512919666429,1.2374262494474055,2.116237482381573,1.9044511430298887,1.391112716532458,-0.35693852947472154,0.4918662133612119,-0.5922710055561605,-0.7878598194918272,0.5265707948268116,-0.642020950111216,0.5517844245714252,-0.7934961397371885,0.7908296097983124,2.275523536747189,1.1606453869673206,-0.7974626361895323,0.005581955560807476,0.21689162723437547,0.22298419441339054,0.8200441699855056,1.19166521369793,-0.8976133213470465,-0.567476953648249,-0.7809052141714418,-0.27644458517576165,1.0616591780119478,-1.2363549285298678,0.1262708566305871,0.9525493443749347,-1.6866168540938908,-0.4902723986210022,-0.7992571135728221,-2.074657039634036,0.30943950283626537,0.9782524876015997,-0.1773164998324019],\"type\":\"histogram\"},{\"histfunc\":\"count\",\"histnorm\":\"\",\"marker\":{\"color\":\"rgba(128, 0, 128, 1.0)\",\"line\":{\"color\":\"#4D5663\",\"width\":1.3}},\"name\":\"D\",\"opacity\":0.8,\"orientation\":\"v\",\"x\":[-1.7133387861031382,-1.2932945006528207,0.14441817391879672,-0.46427328484531893,-1.3646050456562944,0.4686406470154942,0.7474547724221794,-0.675305811206826,0.758847914674031,0.7428028093361997,-0.4065924037422975,0.8064727208976706,0.2931240500444258,-1.0914232991042179,-2.0453820137163046,-0.2936273028983105,-0.14035412942006467,-0.8301817516350479,-0.7865457087503928,-1.1546250246981458,0.3215877269843798,-1.3839309511016578,0.08209020772287838,0.9304230655889154,0.31745222546584634,0.11193970003501555,1.7139986776284593,-2.0967803975447517,1.0511375814990898,0.6383915109140148,1.2555622054890245,-0.5508945322176529,0.18747842418344107,-0.9803099881452719,0.1467935250497945,-0.20256265797208975,1.567893903926729,-1.644143572382776,0.30826059921641225,-0.7387013328474691,-0.019446660009001256,1.326199758941917,1.0410750283906138,1.2395301701487318,-2.406092741659287,2.416574931180957,0.6882233525175699,0.04639932826401581,-0.16979647167446166,0.08403610728427734,-0.3219768344393413,0.030567251288725984,0.6387071244259642,2.0584786699697726,2.2729373305352922,-1.4912937903346457,-1.7143541593610665,-0.34648232336346285,-0.23503278285029994,-0.15948119829612942,0.5131560094607199,0.3991080890988705,-0.6343936102103105,-0.0940156804309552,-0.17713779298576451,-0.75443203752132,-0.4360212088269227,-0.49578419347288005,-1.0089817430408183,-0.45886311889243525,-0.20026747240539783,-1.8763166449135418,0.3735678516046811,0.804719500794733,1.1871386676158464,1.3186386149058955,-1.0325204869497864,-1.7590503779541997,0.7025720876217167,0.2678085853874164,-0.7554939802021241,-2.372721493554485,-1.3184213475425806,0.46209929466084504,-0.7232520394848614,1.2672793869050392,-1.3645244928619236,0.9613521435589473,-1.3753146341448226,0.2316998510860715,1.7574559430991654,-3.098889574485068,1.1375254421854166,-0.5386418392620599,1.2300015496189856,-0.07574961938385888,1.9618251717642414,1.299537326929035,-1.1235054198822467,0.5221874567126272],\"type\":\"histogram\"}],                        {\"barmode\":\"overlay\",\"legend\":{\"bgcolor\":\"#F5F6F9\",\"font\":{\"color\":\"#4D5663\"}},\"paper_bgcolor\":\"#F5F6F9\",\"plot_bgcolor\":\"#F5F6F9\",\"template\":{\"data\":{\"barpolar\":[{\"marker\":{\"line\":{\"color\":\"#E5ECF6\",\"width\":0.5},\"pattern\":{\"fillmode\":\"overlay\",\"size\":10,\"solidity\":0.2}},\"type\":\"barpolar\"}],\"bar\":[{\"error_x\":{\"color\":\"#2a3f5f\"},\"error_y\":{\"color\":\"#2a3f5f\"},\"marker\":{\"line\":{\"color\":\"#E5ECF6\",\"width\":0.5},\"pattern\":{\"fillmode\":\"overlay\",\"size\":10,\"solidity\":0.2}},\"type\":\"bar\"}],\"carpet\":[{\"aaxis\":{\"endlinecolor\":\"#2a3f5f\",\"gridcolor\":\"white\",\"linecolor\":\"white\",\"minorgridcolor\":\"white\",\"startlinecolor\":\"#2a3f5f\"},\"baxis\":{\"endlinecolor\":\"#2a3f5f\",\"gridcolor\":\"white\",\"linecolor\":\"white\",\"minorgridcolor\":\"white\",\"startlinecolor\":\"#2a3f5f\"},\"type\":\"carpet\"}],\"choropleth\":[{\"colorbar\":{\"outlinewidth\":0,\"ticks\":\"\"},\"type\":\"choropleth\"}],\"contourcarpet\":[{\"colorbar\":{\"outlinewidth\":0,\"ticks\":\"\"},\"type\":\"contourcarpet\"}],\"contour\":[{\"colorbar\":{\"outlinewidth\":0,\"ticks\":\"\"},\"colorscale\":[[0.0,\"#0d0887\"],[0.1111111111111111,\"#46039f\"],[0.2222222222222222,\"#7201a8\"],[0.3333333333333333,\"#9c179e\"],[0.4444444444444444,\"#bd3786\"],[0.5555555555555556,\"#d8576b\"],[0.6666666666666666,\"#ed7953\"],[0.7777777777777778,\"#fb9f3a\"],[0.8888888888888888,\"#fdca26\"],[1.0,\"#f0f921\"]],\"type\":\"contour\"}],\"heatmapgl\":[{\"colorbar\":{\"outlinewidth\":0,\"ticks\":\"\"},\"colorscale\":[[0.0,\"#0d0887\"],[0.1111111111111111,\"#46039f\"],[0.2222222222222222,\"#7201a8\"],[0.3333333333333333,\"#9c179e\"],[0.4444444444444444,\"#bd3786\"],[0.5555555555555556,\"#d8576b\"],[0.6666666666666666,\"#ed7953\"],[0.7777777777777778,\"#fb9f3a\"],[0.8888888888888888,\"#fdca26\"],[1.0,\"#f0f921\"]],\"type\":\"heatmapgl\"}],\"heatmap\":[{\"colorbar\":{\"outlinewidth\":0,\"ticks\":\"\"},\"colorscale\":[[0.0,\"#0d0887\"],[0.1111111111111111,\"#46039f\"],[0.2222222222222222,\"#7201a8\"],[0.3333333333333333,\"#9c179e\"],[0.4444444444444444,\"#bd3786\"],[0.5555555555555556,\"#d8576b\"],[0.6666666666666666,\"#ed7953\"],[0.7777777777777778,\"#fb9f3a\"],[0.8888888888888888,\"#fdca26\"],[1.0,\"#f0f921\"]],\"type\":\"heatmap\"}],\"histogram2dcontour\":[{\"colorbar\":{\"outlinewidth\":0,\"ticks\":\"\"},\"colorscale\":[[0.0,\"#0d0887\"],[0.1111111111111111,\"#46039f\"],[0.2222222222222222,\"#7201a8\"],[0.3333333333333333,\"#9c179e\"],[0.4444444444444444,\"#bd3786\"],[0.5555555555555556,\"#d8576b\"],[0.6666666666666666,\"#ed7953\"],[0.7777777777777778,\"#fb9f3a\"],[0.8888888888888888,\"#fdca26\"],[1.0,\"#f0f921\"]],\"type\":\"histogram2dcontour\"}],\"histogram2d\":[{\"colorbar\":{\"outlinewidth\":0,\"ticks\":\"\"},\"colorscale\":[[0.0,\"#0d0887\"],[0.1111111111111111,\"#46039f\"],[0.2222222222222222,\"#7201a8\"],[0.3333333333333333,\"#9c179e\"],[0.4444444444444444,\"#bd3786\"],[0.5555555555555556,\"#d8576b\"],[0.6666666666666666,\"#ed7953\"],[0.7777777777777778,\"#fb9f3a\"],[0.8888888888888888,\"#fdca26\"],[1.0,\"#f0f921\"]],\"type\":\"histogram2d\"}],\"histogram\":[{\"marker\":{\"pattern\":{\"fillmode\":\"overlay\",\"size\":10,\"solidity\":0.2}},\"type\":\"histogram\"}],\"mesh3d\":[{\"colorbar\":{\"outlinewidth\":0,\"ticks\":\"\"},\"type\":\"mesh3d\"}],\"parcoords\":[{\"line\":{\"colorbar\":{\"outlinewidth\":0,\"ticks\":\"\"}},\"type\":\"parcoords\"}],\"pie\":[{\"automargin\":true,\"type\":\"pie\"}],\"scatter3d\":[{\"line\":{\"colorbar\":{\"outlinewidth\":0,\"ticks\":\"\"}},\"marker\":{\"colorbar\":{\"outlinewidth\":0,\"ticks\":\"\"}},\"type\":\"scatter3d\"}],\"scattercarpet\":[{\"marker\":{\"colorbar\":{\"outlinewidth\":0,\"ticks\":\"\"}},\"type\":\"scattercarpet\"}],\"scattergeo\":[{\"marker\":{\"colorbar\":{\"outlinewidth\":0,\"ticks\":\"\"}},\"type\":\"scattergeo\"}],\"scattergl\":[{\"marker\":{\"colorbar\":{\"outlinewidth\":0,\"ticks\":\"\"}},\"type\":\"scattergl\"}],\"scattermapbox\":[{\"marker\":{\"colorbar\":{\"outlinewidth\":0,\"ticks\":\"\"}},\"type\":\"scattermapbox\"}],\"scatterpolargl\":[{\"marker\":{\"colorbar\":{\"outlinewidth\":0,\"ticks\":\"\"}},\"type\":\"scatterpolargl\"}],\"scatterpolar\":[{\"marker\":{\"colorbar\":{\"outlinewidth\":0,\"ticks\":\"\"}},\"type\":\"scatterpolar\"}],\"scatter\":[{\"fillpattern\":{\"fillmode\":\"overlay\",\"size\":10,\"solidity\":0.2},\"type\":\"scatter\"}],\"scatterternary\":[{\"marker\":{\"colorbar\":{\"outlinewidth\":0,\"ticks\":\"\"}},\"type\":\"scatterternary\"}],\"surface\":[{\"colorbar\":{\"outlinewidth\":0,\"ticks\":\"\"},\"colorscale\":[[0.0,\"#0d0887\"],[0.1111111111111111,\"#46039f\"],[0.2222222222222222,\"#7201a8\"],[0.3333333333333333,\"#9c179e\"],[0.4444444444444444,\"#bd3786\"],[0.5555555555555556,\"#d8576b\"],[0.6666666666666666,\"#ed7953\"],[0.7777777777777778,\"#fb9f3a\"],[0.8888888888888888,\"#fdca26\"],[1.0,\"#f0f921\"]],\"type\":\"surface\"}],\"table\":[{\"cells\":{\"fill\":{\"color\":\"#EBF0F8\"},\"line\":{\"color\":\"white\"}},\"header\":{\"fill\":{\"color\":\"#C8D4E3\"},\"line\":{\"color\":\"white\"}},\"type\":\"table\"}]},\"layout\":{\"annotationdefaults\":{\"arrowcolor\":\"#2a3f5f\",\"arrowhead\":0,\"arrowwidth\":1},\"autotypenumbers\":\"strict\",\"coloraxis\":{\"colorbar\":{\"outlinewidth\":0,\"ticks\":\"\"}},\"colorscale\":{\"diverging\":[[0,\"#8e0152\"],[0.1,\"#c51b7d\"],[0.2,\"#de77ae\"],[0.3,\"#f1b6da\"],[0.4,\"#fde0ef\"],[0.5,\"#f7f7f7\"],[0.6,\"#e6f5d0\"],[0.7,\"#b8e186\"],[0.8,\"#7fbc41\"],[0.9,\"#4d9221\"],[1,\"#276419\"]],\"sequential\":[[0.0,\"#0d0887\"],[0.1111111111111111,\"#46039f\"],[0.2222222222222222,\"#7201a8\"],[0.3333333333333333,\"#9c179e\"],[0.4444444444444444,\"#bd3786\"],[0.5555555555555556,\"#d8576b\"],[0.6666666666666666,\"#ed7953\"],[0.7777777777777778,\"#fb9f3a\"],[0.8888888888888888,\"#fdca26\"],[1.0,\"#f0f921\"]],\"sequentialminus\":[[0.0,\"#0d0887\"],[0.1111111111111111,\"#46039f\"],[0.2222222222222222,\"#7201a8\"],[0.3333333333333333,\"#9c179e\"],[0.4444444444444444,\"#bd3786\"],[0.5555555555555556,\"#d8576b\"],[0.6666666666666666,\"#ed7953\"],[0.7777777777777778,\"#fb9f3a\"],[0.8888888888888888,\"#fdca26\"],[1.0,\"#f0f921\"]]},\"colorway\":[\"#636efa\",\"#EF553B\",\"#00cc96\",\"#ab63fa\",\"#FFA15A\",\"#19d3f3\",\"#FF6692\",\"#B6E880\",\"#FF97FF\",\"#FECB52\"],\"font\":{\"color\":\"#2a3f5f\"},\"geo\":{\"bgcolor\":\"white\",\"lakecolor\":\"white\",\"landcolor\":\"#E5ECF6\",\"showlakes\":true,\"showland\":true,\"subunitcolor\":\"white\"},\"hoverlabel\":{\"align\":\"left\"},\"hovermode\":\"closest\",\"mapbox\":{\"style\":\"light\"},\"paper_bgcolor\":\"white\",\"plot_bgcolor\":\"#E5ECF6\",\"polar\":{\"angularaxis\":{\"gridcolor\":\"white\",\"linecolor\":\"white\",\"ticks\":\"\"},\"bgcolor\":\"#E5ECF6\",\"radialaxis\":{\"gridcolor\":\"white\",\"linecolor\":\"white\",\"ticks\":\"\"}},\"scene\":{\"xaxis\":{\"backgroundcolor\":\"#E5ECF6\",\"gridcolor\":\"white\",\"gridwidth\":2,\"linecolor\":\"white\",\"showbackground\":true,\"ticks\":\"\",\"zerolinecolor\":\"white\"},\"yaxis\":{\"backgroundcolor\":\"#E5ECF6\",\"gridcolor\":\"white\",\"gridwidth\":2,\"linecolor\":\"white\",\"showbackground\":true,\"ticks\":\"\",\"zerolinecolor\":\"white\"},\"zaxis\":{\"backgroundcolor\":\"#E5ECF6\",\"gridcolor\":\"white\",\"gridwidth\":2,\"linecolor\":\"white\",\"showbackground\":true,\"ticks\":\"\",\"zerolinecolor\":\"white\"}},\"shapedefaults\":{\"line\":{\"color\":\"#2a3f5f\"}},\"ternary\":{\"aaxis\":{\"gridcolor\":\"white\",\"linecolor\":\"white\",\"ticks\":\"\"},\"baxis\":{\"gridcolor\":\"white\",\"linecolor\":\"white\",\"ticks\":\"\"},\"bgcolor\":\"#E5ECF6\",\"caxis\":{\"gridcolor\":\"white\",\"linecolor\":\"white\",\"ticks\":\"\"}},\"title\":{\"x\":0.05},\"xaxis\":{\"automargin\":true,\"gridcolor\":\"white\",\"linecolor\":\"white\",\"ticks\":\"\",\"title\":{\"standoff\":15},\"zerolinecolor\":\"white\",\"zerolinewidth\":2},\"yaxis\":{\"automargin\":true,\"gridcolor\":\"white\",\"linecolor\":\"white\",\"ticks\":\"\",\"title\":{\"standoff\":15},\"zerolinecolor\":\"white\",\"zerolinewidth\":2}}},\"title\":{\"font\":{\"color\":\"#4D5663\"}},\"xaxis\":{\"gridcolor\":\"#E1E5ED\",\"showgrid\":true,\"tickfont\":{\"color\":\"#4D5663\"},\"title\":{\"font\":{\"color\":\"#4D5663\"},\"text\":\"\"},\"zerolinecolor\":\"#E1E5ED\"},\"yaxis\":{\"gridcolor\":\"#E1E5ED\",\"showgrid\":true,\"tickfont\":{\"color\":\"#4D5663\"},\"title\":{\"font\":{\"color\":\"#4D5663\"},\"text\":\"\"},\"zerolinecolor\":\"#E1E5ED\"}},                        {\"showLink\": true, \"linkText\": \"Export to plot.ly\", \"plotlyServerURL\": \"https://plot.ly\", \"responsive\": true}                    ).then(function(){\n",
       "                            \n",
       "var gd = document.getElementById('09de240e-5cde-4a41-85be-1b7a79b76a13');\n",
       "var x = new MutationObserver(function (mutations, observer) {{\n",
       "        var display = window.getComputedStyle(gd).display;\n",
       "        if (!display || display === 'none') {{\n",
       "            console.log([gd, 'removed!']);\n",
       "            Plotly.purge(gd);\n",
       "            observer.disconnect();\n",
       "        }}\n",
       "}});\n",
       "\n",
       "// Listen for the removal of the full notebook cells\n",
       "var notebookContainer = gd.closest('#notebook-container');\n",
       "if (notebookContainer) {{\n",
       "    x.observe(notebookContainer, {childList: true});\n",
       "}}\n",
       "\n",
       "// Listen for the clearing of the current output cell\n",
       "var outputEl = gd.closest('.output');\n",
       "if (outputEl) {{\n",
       "    x.observe(outputEl, {childList: true});\n",
       "}}\n",
       "\n",
       "                        })                };                });            </script>        </div>"
      ]
     },
     "metadata": {},
     "output_type": "display_data"
    }
   ],
   "source": [
    "df.iplot(kind='hist')"
   ]
  },
  {
   "cell_type": "code",
   "execution_count": 59,
   "id": "36736728",
   "metadata": {
    "ExecuteTime": {
     "end_time": "2023-03-23T12:09:35.839262Z",
     "start_time": "2023-03-23T12:09:35.815153Z"
    }
   },
   "outputs": [
    {
     "data": {
      "text/html": [
       "<div>\n",
       "<style scoped>\n",
       "    .dataframe tbody tr th:only-of-type {\n",
       "        vertical-align: middle;\n",
       "    }\n",
       "\n",
       "    .dataframe tbody tr th {\n",
       "        vertical-align: top;\n",
       "    }\n",
       "\n",
       "    .dataframe thead th {\n",
       "        text-align: right;\n",
       "    }\n",
       "</style>\n",
       "<table border=\"1\" class=\"dataframe\">\n",
       "  <thead>\n",
       "    <tr style=\"text-align: right;\">\n",
       "      <th></th>\n",
       "      <th>A</th>\n",
       "      <th>B</th>\n",
       "    </tr>\n",
       "  </thead>\n",
       "  <tbody>\n",
       "    <tr>\n",
       "      <th>0</th>\n",
       "      <td>0.427830</td>\n",
       "      <td>0.483060</td>\n",
       "    </tr>\n",
       "    <tr>\n",
       "      <th>1</th>\n",
       "      <td>-0.179603</td>\n",
       "      <td>0.009058</td>\n",
       "    </tr>\n",
       "    <tr>\n",
       "      <th>2</th>\n",
       "      <td>1.016404</td>\n",
       "      <td>-0.101159</td>\n",
       "    </tr>\n",
       "    <tr>\n",
       "      <th>3</th>\n",
       "      <td>-0.712279</td>\n",
       "      <td>1.299365</td>\n",
       "    </tr>\n",
       "    <tr>\n",
       "      <th>4</th>\n",
       "      <td>-0.647016</td>\n",
       "      <td>-0.917631</td>\n",
       "    </tr>\n",
       "    <tr>\n",
       "      <th>...</th>\n",
       "      <td>...</td>\n",
       "      <td>...</td>\n",
       "    </tr>\n",
       "    <tr>\n",
       "      <th>95</th>\n",
       "      <td>0.164674</td>\n",
       "      <td>-0.121449</td>\n",
       "    </tr>\n",
       "    <tr>\n",
       "      <th>96</th>\n",
       "      <td>0.338416</td>\n",
       "      <td>-0.187753</td>\n",
       "    </tr>\n",
       "    <tr>\n",
       "      <th>97</th>\n",
       "      <td>0.545155</td>\n",
       "      <td>1.439217</td>\n",
       "    </tr>\n",
       "    <tr>\n",
       "      <th>98</th>\n",
       "      <td>0.565600</td>\n",
       "      <td>-0.288284</td>\n",
       "    </tr>\n",
       "    <tr>\n",
       "      <th>99</th>\n",
       "      <td>0.734194</td>\n",
       "      <td>0.364549</td>\n",
       "    </tr>\n",
       "  </tbody>\n",
       "</table>\n",
       "<p>100 rows × 2 columns</p>\n",
       "</div>"
      ],
      "text/plain": [
       "           A         B\n",
       "0   0.427830  0.483060\n",
       "1  -0.179603  0.009058\n",
       "2   1.016404 -0.101159\n",
       "3  -0.712279  1.299365\n",
       "4  -0.647016 -0.917631\n",
       "..       ...       ...\n",
       "95  0.164674 -0.121449\n",
       "96  0.338416 -0.187753\n",
       "97  0.545155  1.439217\n",
       "98  0.565600 -0.288284\n",
       "99  0.734194  0.364549\n",
       "\n",
       "[100 rows x 2 columns]"
      ]
     },
     "execution_count": 59,
     "metadata": {},
     "output_type": "execute_result"
    }
   ],
   "source": [
    "df[['A','B']]"
   ]
  },
  {
   "cell_type": "code",
   "execution_count": 61,
   "id": "4e8166a0",
   "metadata": {
    "ExecuteTime": {
     "end_time": "2023-03-23T12:11:36.840434Z",
     "start_time": "2023-03-23T12:11:36.799908Z"
    }
   },
   "outputs": [
    {
     "name": "stderr",
     "output_type": "stream",
     "text": [
      "C:\\Users\\Leon\\anaconda3\\envs\\WorkData\\lib\\site-packages\\cufflinks\\plotlytools.py:849: FutureWarning:\n",
      "\n",
      "The pandas.np module is deprecated and will be removed from pandas in a future version. Import numpy directly instead.\n",
      "\n",
      "C:\\Users\\Leon\\anaconda3\\envs\\WorkData\\lib\\site-packages\\cufflinks\\plotlytools.py:850: FutureWarning:\n",
      "\n",
      "The pandas.np module is deprecated and will be removed from pandas in a future version. Import numpy directly instead.\n",
      "\n"
     ]
    },
    {
     "data": {
      "application/vnd.plotly.v1+json": {
       "config": {
        "linkText": "Export to plot.ly",
        "plotlyServerURL": "https://plot.ly",
        "showLink": true
       },
       "data": [
        {
         "line": {
          "color": "rgba(255, 153, 51, 1.0)",
          "dash": "solid",
          "shape": "linear",
          "width": 1.3
         },
         "mode": "lines",
         "name": "A",
         "text": "",
         "type": "scatter",
         "x": [
          0,
          1,
          2,
          3,
          4,
          5,
          6,
          7,
          8,
          9,
          10,
          11,
          12,
          13,
          14,
          15,
          16,
          17,
          18,
          19,
          20,
          21,
          22,
          23,
          24,
          25,
          26,
          27,
          28,
          29,
          30,
          31,
          32,
          33,
          34,
          35,
          36,
          37,
          38,
          39,
          40,
          41,
          42,
          43,
          44,
          45,
          46,
          47,
          48,
          49,
          50,
          51,
          52,
          53,
          54,
          55,
          56,
          57,
          58,
          59,
          60,
          61,
          62,
          63,
          64,
          65,
          66,
          67,
          68,
          69,
          70,
          71,
          72,
          73,
          74,
          75,
          76,
          77,
          78,
          79,
          80,
          81,
          82,
          83,
          84,
          85,
          86,
          87,
          88,
          89,
          90,
          91,
          92,
          93,
          94,
          95,
          96,
          97,
          98,
          99
         ],
         "y": [
          0.4278303063139346,
          -0.17960339661206842,
          1.0164042618967994,
          -0.7122789625358378,
          -0.6470161726957598,
          -1.5391054711001806,
          -0.816419876227612,
          0.14992634819113262,
          -0.2538297184910725,
          0.4011312596835835,
          -0.35121217557811146,
          -0.08067457705225729,
          -1.2864396719186408,
          0.46615802073452944,
          -0.3186788122439116,
          1.0143288516154085,
          -2.2806490282504535,
          0.40384690521168326,
          0.6018005259883966,
          -0.25978009976335664,
          -1.1669122342579856,
          0.8573994100521745,
          0.8623475326006868,
          -0.3544586484489518,
          0.4110630086982138,
          -0.32937147502200953,
          0.8971370723551457,
          0.42079992650952014,
          -0.4723624434704465,
          0.12777627493488986,
          0.4889927615403592,
          -0.9481653064033165,
          0.10111690399406939,
          -0.5199092906505531,
          -0.9131480083912413,
          1.091390985730131,
          -1.166766293120185,
          0.20757181583433243,
          0.6829620194836434,
          -1.0930355069538578,
          -0.02650130330699229,
          -1.2924400269578538,
          0.14418601175977652,
          -0.20223854166849403,
          0.19208883138239824,
          -0.18114204996310787,
          -0.19841663539400559,
          1.8385362877297255,
          0.15384934369884648,
          -0.3098194447686136,
          -1.2045370228630572,
          0.5327550476824217,
          -0.29441402000600364,
          0.3709208833043238,
          -1.5092728793466288,
          0.5191502262763877,
          1.4637639676598087,
          -0.7232252992171272,
          0.6980766119028778,
          -0.7563825513013476,
          -0.7421339581048623,
          1.121264011877191,
          0.013752107630780407,
          -0.5892825852411415,
          0.6056490857330595,
          0.9780201457682005,
          0.3394107574260655,
          -0.29779406831739264,
          -0.8249862472503384,
          -0.006608688646789804,
          0.9173723910209661,
          -0.03603833862910183,
          -0.6990592443026739,
          -1.342749352000533,
          -1.7062572618616654,
          -0.4379870105257444,
          -0.37396788969217615,
          -1.2152159255979396,
          0.85898836922212,
          0.2853468800286372,
          0.08525587871536675,
          0.3440875236892165,
          0.43424037380948755,
          0.5175629844710247,
          -0.06289870370813987,
          -0.3717812990629133,
          -1.3435656884172564,
          2.1465656501241304,
          0.9877233116000835,
          0.04448063913151714,
          -0.5020413908536919,
          0.13533132322167515,
          -0.4085192034480075,
          -0.5307015361759451,
          0.8328125615881095,
          0.16467398244369646,
          0.3384160963082231,
          0.5451546074803042,
          0.565600486678321,
          0.7341938436024419
         ]
        },
        {
         "line": {
          "color": "rgba(55, 128, 191, 1.0)",
          "dash": "solid",
          "shape": "linear",
          "width": 1.3
         },
         "mode": "lines",
         "name": "B",
         "text": "",
         "type": "scatter",
         "x": [
          0,
          1,
          2,
          3,
          4,
          5,
          6,
          7,
          8,
          9,
          10,
          11,
          12,
          13,
          14,
          15,
          16,
          17,
          18,
          19,
          20,
          21,
          22,
          23,
          24,
          25,
          26,
          27,
          28,
          29,
          30,
          31,
          32,
          33,
          34,
          35,
          36,
          37,
          38,
          39,
          40,
          41,
          42,
          43,
          44,
          45,
          46,
          47,
          48,
          49,
          50,
          51,
          52,
          53,
          54,
          55,
          56,
          57,
          58,
          59,
          60,
          61,
          62,
          63,
          64,
          65,
          66,
          67,
          68,
          69,
          70,
          71,
          72,
          73,
          74,
          75,
          76,
          77,
          78,
          79,
          80,
          81,
          82,
          83,
          84,
          85,
          86,
          87,
          88,
          89,
          90,
          91,
          92,
          93,
          94,
          95,
          96,
          97,
          98,
          99
         ],
         "y": [
          0.48306040414083834,
          0.009058351407117657,
          -0.10115869895854517,
          1.299364507421079,
          -0.917630514349454,
          -0.0004417653346297867,
          -0.40798279547156635,
          0.3444360696810804,
          -0.5303963906334963,
          0.16405004030193343,
          0.3350632725543995,
          -0.1981882405566007,
          -0.24432705870638655,
          1.096647494957282,
          0.3648057242653707,
          1.792685105555086,
          1.4643582511094944,
          -0.8544839418659624,
          -0.9191036875899685,
          0.5677118433595862,
          0.3644188202879386,
          0.33595984166710796,
          1.9936047851335992,
          -0.3184669272450796,
          0.32975569755681217,
          0.4260629510999024,
          0.23486176179843596,
          -1.086942248367033,
          0.3674910042928074,
          -0.46547162469799963,
          -0.9924427421111863,
          -2.1406810439355066,
          -0.21469032628104553,
          -0.12076619656413162,
          0.7647436190552594,
          0.4929088265880474,
          -0.8771908460491088,
          2.1777215427021996,
          0.04436592206782866,
          -0.0073038619111890565,
          1.4963995074604057,
          -0.46116149162445347,
          -0.9719021840295913,
          0.6605389800911491,
          -1.160605255775432,
          0.6757450195029824,
          -0.6991125021178969,
          0.5398846034108065,
          -0.4066398571344095,
          -0.31589064660126354,
          -0.7208238632743234,
          -0.383731214271165,
          -1.3536096966031266,
          0.4987596504299444,
          0.22804262761234906,
          -0.9882108951751464,
          0.6127722213063093,
          -0.9834991873284643,
          0.14950554896813462,
          0.4830956263791654,
          0.17451464216515458,
          -1.816099518246873,
          1.1385736700100326,
          -1.0036133687647835,
          0.8188788059107236,
          1.157425588927253,
          -1.1723531019569493,
          -0.07573755585923887,
          0.17966228070772516,
          0.6285754121275586,
          1.1372469738815771,
          -0.28269154554196035,
          0.7165406494548696,
          -0.23007318691659548,
          -0.8883280341101701,
          0.3281056679583895,
          -0.5449040671497705,
          -1.5170140313832825,
          0.7159357051909687,
          1.2061881235431922,
          -1.487080206258318,
          0.219275882063202,
          0.007041079866349726,
          0.2331570317320377,
          0.0034261754096381295,
          0.08514670420553244,
          -1.1107420851889813,
          1.8460938344620215,
          -0.21158616035407998,
          0.0044370729423990705,
          -0.39390964225737446,
          -1.222526038408339,
          -0.43863339052296013,
          -0.08599763750602338,
          -0.7734350600969128,
          -0.12144896846053277,
          -0.18775311587229412,
          1.4392171860459413,
          -0.2882843728195542,
          0.364549423795677
         ]
        },
        {
         "connectgaps": false,
         "fill": "tozeroy",
         "line": {
          "color": "green",
          "dash": "solid",
          "shape": "linear",
          "width": 0.5
         },
         "mode": "lines",
         "name": "Spread",
         "showlegend": false,
         "type": "scatter",
         "x": [
          0,
          1,
          2,
          3,
          4,
          5,
          6,
          7,
          8,
          9,
          10,
          11,
          12,
          13,
          14,
          15,
          16,
          17,
          18,
          19,
          20,
          21,
          22,
          23,
          24,
          25,
          26,
          27,
          28,
          29,
          30,
          31,
          32,
          33,
          34,
          35,
          36,
          37,
          38,
          39,
          40,
          41,
          42,
          43,
          44,
          45,
          46,
          47,
          48,
          49,
          50,
          51,
          52,
          53,
          54,
          55,
          56,
          57,
          58,
          59,
          60,
          61,
          62,
          63,
          64,
          65,
          66,
          67,
          68,
          69,
          70,
          71,
          72,
          73,
          74,
          75,
          76,
          77,
          78,
          79,
          80,
          81,
          82,
          83,
          84,
          85,
          86,
          87,
          88,
          89,
          90,
          91,
          92,
          93,
          94,
          95,
          96,
          97,
          98,
          99
         ],
         "xaxis": "x2",
         "y": [
          "",
          "",
          1.1175629608553446,
          "",
          0.27061434165369413,
          "",
          "",
          "",
          0.2765666721424238,
          0.23708121938165005,
          "",
          0.1175136635043434,
          "",
          "",
          "",
          "",
          "",
          1.2583308470776458,
          1.520904213578365,
          "",
          "",
          0.5214395683850666,
          "",
          "",
          0.08130731114140166,
          "",
          0.6622753105567097,
          1.5077421748765532,
          "",
          0.5932478996328895,
          1.4814355036515456,
          1.1925157375321902,
          0.3158072302751149,
          "",
          "",
          0.5984821591420835,
          "",
          "",
          0.6385960974158148,
          "",
          "",
          "",
          1.1160881957893678,
          "",
          1.3526940871578303,
          "",
          0.5006958667238913,
          1.298651684318919,
          0.5604892008332559,
          0.0060712018326499195,
          "",
          0.9164862619535867,
          1.0591956765971229,
          "",
          "",
          1.5073611214515341,
          0.8509917463534994,
          0.2602738881113371,
          0.5485710629347432,
          "",
          "",
          2.937363530124064,
          "",
          0.41433078352364194,
          "",
          "",
          1.5117638593830147,
          "",
          "",
          "",
          "",
          0.24665320691285852,
          "",
          "",
          "",
          "",
          0.17093617745759432,
          0.30179810578534294,
          0.14305266403115124,
          "",
          1.5723360849736847,
          0.12481164162601452,
          0.4271992939431378,
          0.28440595273898694,
          "",
          "",
          "",
          0.3004718156621089,
          1.1993094719541635,
          0.04004356618911807,
          "",
          1.357857361630014,
          0.030114187074952614,
          "",
          1.6062476216850223,
          0.28612295090422923,
          0.5261692121805173,
          "",
          0.8538848594978752,
          0.3696444198067649
         ],
         "yaxis": "y2"
        },
        {
         "connectgaps": false,
         "fill": "tozeroy",
         "line": {
          "color": "red",
          "dash": "solid",
          "shape": "linear",
          "width": 0.5
         },
         "mode": "lines",
         "name": "Spread",
         "showlegend": false,
         "type": "scatter",
         "x": [
          0,
          1,
          2,
          3,
          4,
          5,
          6,
          7,
          8,
          9,
          10,
          11,
          12,
          13,
          14,
          15,
          16,
          17,
          18,
          19,
          20,
          21,
          22,
          23,
          24,
          25,
          26,
          27,
          28,
          29,
          30,
          31,
          32,
          33,
          34,
          35,
          36,
          37,
          38,
          39,
          40,
          41,
          42,
          43,
          44,
          45,
          46,
          47,
          48,
          49,
          50,
          51,
          52,
          53,
          54,
          55,
          56,
          57,
          58,
          59,
          60,
          61,
          62,
          63,
          64,
          65,
          66,
          67,
          68,
          69,
          70,
          71,
          72,
          73,
          74,
          75,
          76,
          77,
          78,
          79,
          80,
          81,
          82,
          83,
          84,
          85,
          86,
          87,
          88,
          89,
          90,
          91,
          92,
          93,
          94,
          95,
          96,
          97,
          98,
          99
         ],
         "xaxis": "x2",
         "y": [
          -0.055230097826903746,
          -0.1886617480191861,
          "",
          -2.011643469956917,
          "",
          -1.5386637057655508,
          -0.4084370807560457,
          -0.1945097214899478,
          "",
          "",
          -0.686275448132511,
          "",
          -1.0421126132122542,
          -0.6304894742227525,
          -0.6834845365092823,
          -0.7783562539396776,
          -3.745007279359948,
          "",
          "",
          -0.8274919431229428,
          -1.5313310545459242,
          "",
          -1.1312572525329125,
          -0.03599172120387223,
          "",
          -0.7554344261219119,
          "",
          "",
          -0.8398534477632539,
          "",
          "",
          "",
          "",
          -0.3991430940864215,
          -1.6778916274465008,
          "",
          -0.2895754470710762,
          -1.9701497268678672,
          "",
          -1.0857316450426686,
          -1.522900810767398,
          -0.8312785353334002,
          "",
          -0.8627775217596432,
          "",
          -0.8568870694660903,
          "",
          "",
          "",
          "",
          -0.48371315958873384,
          "",
          "",
          -0.1278387671256206,
          -1.7373155069589779,
          "",
          "",
          "",
          "",
          -1.239478177680513,
          -0.9166486002700168,
          "",
          -1.1248215623792521,
          "",
          -0.21322972017766406,
          -0.17940544315905238,
          "",
          -0.22205651245815378,
          -1.0046485279580635,
          -0.6351841007743484,
          -0.219874582860611,
          "",
          -1.4155998937575434,
          -1.1126761650839374,
          -0.8179292277514952,
          -0.766092678484134,
          "",
          "",
          "",
          -0.920841243514555,
          "",
          "",
          "",
          "",
          -0.066324879117778,
          -0.45692800326844574,
          -0.2328236032282751,
          "",
          "",
          "",
          -0.10813174859631747,
          "",
          "",
          -0.44470389866992166,
          "",
          "",
          "",
          -0.8940625785656371,
          "",
          ""
         ],
         "yaxis": "y2"
        }
       ],
       "layout": {
        "hovermode": "x",
        "legend": {
         "bgcolor": "#F5F6F9",
         "font": {
          "color": "#4D5663"
         }
        },
        "paper_bgcolor": "#F5F6F9",
        "plot_bgcolor": "#F5F6F9",
        "template": {
         "data": {
          "bar": [
           {
            "error_x": {
             "color": "#2a3f5f"
            },
            "error_y": {
             "color": "#2a3f5f"
            },
            "marker": {
             "line": {
              "color": "#E5ECF6",
              "width": 0.5
             },
             "pattern": {
              "fillmode": "overlay",
              "size": 10,
              "solidity": 0.2
             }
            },
            "type": "bar"
           }
          ],
          "barpolar": [
           {
            "marker": {
             "line": {
              "color": "#E5ECF6",
              "width": 0.5
             },
             "pattern": {
              "fillmode": "overlay",
              "size": 10,
              "solidity": 0.2
             }
            },
            "type": "barpolar"
           }
          ],
          "carpet": [
           {
            "aaxis": {
             "endlinecolor": "#2a3f5f",
             "gridcolor": "white",
             "linecolor": "white",
             "minorgridcolor": "white",
             "startlinecolor": "#2a3f5f"
            },
            "baxis": {
             "endlinecolor": "#2a3f5f",
             "gridcolor": "white",
             "linecolor": "white",
             "minorgridcolor": "white",
             "startlinecolor": "#2a3f5f"
            },
            "type": "carpet"
           }
          ],
          "choropleth": [
           {
            "colorbar": {
             "outlinewidth": 0,
             "ticks": ""
            },
            "type": "choropleth"
           }
          ],
          "contour": [
           {
            "colorbar": {
             "outlinewidth": 0,
             "ticks": ""
            },
            "colorscale": [
             [
              0,
              "#0d0887"
             ],
             [
              0.1111111111111111,
              "#46039f"
             ],
             [
              0.2222222222222222,
              "#7201a8"
             ],
             [
              0.3333333333333333,
              "#9c179e"
             ],
             [
              0.4444444444444444,
              "#bd3786"
             ],
             [
              0.5555555555555556,
              "#d8576b"
             ],
             [
              0.6666666666666666,
              "#ed7953"
             ],
             [
              0.7777777777777778,
              "#fb9f3a"
             ],
             [
              0.8888888888888888,
              "#fdca26"
             ],
             [
              1,
              "#f0f921"
             ]
            ],
            "type": "contour"
           }
          ],
          "contourcarpet": [
           {
            "colorbar": {
             "outlinewidth": 0,
             "ticks": ""
            },
            "type": "contourcarpet"
           }
          ],
          "heatmap": [
           {
            "colorbar": {
             "outlinewidth": 0,
             "ticks": ""
            },
            "colorscale": [
             [
              0,
              "#0d0887"
             ],
             [
              0.1111111111111111,
              "#46039f"
             ],
             [
              0.2222222222222222,
              "#7201a8"
             ],
             [
              0.3333333333333333,
              "#9c179e"
             ],
             [
              0.4444444444444444,
              "#bd3786"
             ],
             [
              0.5555555555555556,
              "#d8576b"
             ],
             [
              0.6666666666666666,
              "#ed7953"
             ],
             [
              0.7777777777777778,
              "#fb9f3a"
             ],
             [
              0.8888888888888888,
              "#fdca26"
             ],
             [
              1,
              "#f0f921"
             ]
            ],
            "type": "heatmap"
           }
          ],
          "heatmapgl": [
           {
            "colorbar": {
             "outlinewidth": 0,
             "ticks": ""
            },
            "colorscale": [
             [
              0,
              "#0d0887"
             ],
             [
              0.1111111111111111,
              "#46039f"
             ],
             [
              0.2222222222222222,
              "#7201a8"
             ],
             [
              0.3333333333333333,
              "#9c179e"
             ],
             [
              0.4444444444444444,
              "#bd3786"
             ],
             [
              0.5555555555555556,
              "#d8576b"
             ],
             [
              0.6666666666666666,
              "#ed7953"
             ],
             [
              0.7777777777777778,
              "#fb9f3a"
             ],
             [
              0.8888888888888888,
              "#fdca26"
             ],
             [
              1,
              "#f0f921"
             ]
            ],
            "type": "heatmapgl"
           }
          ],
          "histogram": [
           {
            "marker": {
             "pattern": {
              "fillmode": "overlay",
              "size": 10,
              "solidity": 0.2
             }
            },
            "type": "histogram"
           }
          ],
          "histogram2d": [
           {
            "colorbar": {
             "outlinewidth": 0,
             "ticks": ""
            },
            "colorscale": [
             [
              0,
              "#0d0887"
             ],
             [
              0.1111111111111111,
              "#46039f"
             ],
             [
              0.2222222222222222,
              "#7201a8"
             ],
             [
              0.3333333333333333,
              "#9c179e"
             ],
             [
              0.4444444444444444,
              "#bd3786"
             ],
             [
              0.5555555555555556,
              "#d8576b"
             ],
             [
              0.6666666666666666,
              "#ed7953"
             ],
             [
              0.7777777777777778,
              "#fb9f3a"
             ],
             [
              0.8888888888888888,
              "#fdca26"
             ],
             [
              1,
              "#f0f921"
             ]
            ],
            "type": "histogram2d"
           }
          ],
          "histogram2dcontour": [
           {
            "colorbar": {
             "outlinewidth": 0,
             "ticks": ""
            },
            "colorscale": [
             [
              0,
              "#0d0887"
             ],
             [
              0.1111111111111111,
              "#46039f"
             ],
             [
              0.2222222222222222,
              "#7201a8"
             ],
             [
              0.3333333333333333,
              "#9c179e"
             ],
             [
              0.4444444444444444,
              "#bd3786"
             ],
             [
              0.5555555555555556,
              "#d8576b"
             ],
             [
              0.6666666666666666,
              "#ed7953"
             ],
             [
              0.7777777777777778,
              "#fb9f3a"
             ],
             [
              0.8888888888888888,
              "#fdca26"
             ],
             [
              1,
              "#f0f921"
             ]
            ],
            "type": "histogram2dcontour"
           }
          ],
          "mesh3d": [
           {
            "colorbar": {
             "outlinewidth": 0,
             "ticks": ""
            },
            "type": "mesh3d"
           }
          ],
          "parcoords": [
           {
            "line": {
             "colorbar": {
              "outlinewidth": 0,
              "ticks": ""
             }
            },
            "type": "parcoords"
           }
          ],
          "pie": [
           {
            "automargin": true,
            "type": "pie"
           }
          ],
          "scatter": [
           {
            "fillpattern": {
             "fillmode": "overlay",
             "size": 10,
             "solidity": 0.2
            },
            "type": "scatter"
           }
          ],
          "scatter3d": [
           {
            "line": {
             "colorbar": {
              "outlinewidth": 0,
              "ticks": ""
             }
            },
            "marker": {
             "colorbar": {
              "outlinewidth": 0,
              "ticks": ""
             }
            },
            "type": "scatter3d"
           }
          ],
          "scattercarpet": [
           {
            "marker": {
             "colorbar": {
              "outlinewidth": 0,
              "ticks": ""
             }
            },
            "type": "scattercarpet"
           }
          ],
          "scattergeo": [
           {
            "marker": {
             "colorbar": {
              "outlinewidth": 0,
              "ticks": ""
             }
            },
            "type": "scattergeo"
           }
          ],
          "scattergl": [
           {
            "marker": {
             "colorbar": {
              "outlinewidth": 0,
              "ticks": ""
             }
            },
            "type": "scattergl"
           }
          ],
          "scattermapbox": [
           {
            "marker": {
             "colorbar": {
              "outlinewidth": 0,
              "ticks": ""
             }
            },
            "type": "scattermapbox"
           }
          ],
          "scatterpolar": [
           {
            "marker": {
             "colorbar": {
              "outlinewidth": 0,
              "ticks": ""
             }
            },
            "type": "scatterpolar"
           }
          ],
          "scatterpolargl": [
           {
            "marker": {
             "colorbar": {
              "outlinewidth": 0,
              "ticks": ""
             }
            },
            "type": "scatterpolargl"
           }
          ],
          "scatterternary": [
           {
            "marker": {
             "colorbar": {
              "outlinewidth": 0,
              "ticks": ""
             }
            },
            "type": "scatterternary"
           }
          ],
          "surface": [
           {
            "colorbar": {
             "outlinewidth": 0,
             "ticks": ""
            },
            "colorscale": [
             [
              0,
              "#0d0887"
             ],
             [
              0.1111111111111111,
              "#46039f"
             ],
             [
              0.2222222222222222,
              "#7201a8"
             ],
             [
              0.3333333333333333,
              "#9c179e"
             ],
             [
              0.4444444444444444,
              "#bd3786"
             ],
             [
              0.5555555555555556,
              "#d8576b"
             ],
             [
              0.6666666666666666,
              "#ed7953"
             ],
             [
              0.7777777777777778,
              "#fb9f3a"
             ],
             [
              0.8888888888888888,
              "#fdca26"
             ],
             [
              1,
              "#f0f921"
             ]
            ],
            "type": "surface"
           }
          ],
          "table": [
           {
            "cells": {
             "fill": {
              "color": "#EBF0F8"
             },
             "line": {
              "color": "white"
             }
            },
            "header": {
             "fill": {
              "color": "#C8D4E3"
             },
             "line": {
              "color": "white"
             }
            },
            "type": "table"
           }
          ]
         },
         "layout": {
          "annotationdefaults": {
           "arrowcolor": "#2a3f5f",
           "arrowhead": 0,
           "arrowwidth": 1
          },
          "autotypenumbers": "strict",
          "coloraxis": {
           "colorbar": {
            "outlinewidth": 0,
            "ticks": ""
           }
          },
          "colorscale": {
           "diverging": [
            [
             0,
             "#8e0152"
            ],
            [
             0.1,
             "#c51b7d"
            ],
            [
             0.2,
             "#de77ae"
            ],
            [
             0.3,
             "#f1b6da"
            ],
            [
             0.4,
             "#fde0ef"
            ],
            [
             0.5,
             "#f7f7f7"
            ],
            [
             0.6,
             "#e6f5d0"
            ],
            [
             0.7,
             "#b8e186"
            ],
            [
             0.8,
             "#7fbc41"
            ],
            [
             0.9,
             "#4d9221"
            ],
            [
             1,
             "#276419"
            ]
           ],
           "sequential": [
            [
             0,
             "#0d0887"
            ],
            [
             0.1111111111111111,
             "#46039f"
            ],
            [
             0.2222222222222222,
             "#7201a8"
            ],
            [
             0.3333333333333333,
             "#9c179e"
            ],
            [
             0.4444444444444444,
             "#bd3786"
            ],
            [
             0.5555555555555556,
             "#d8576b"
            ],
            [
             0.6666666666666666,
             "#ed7953"
            ],
            [
             0.7777777777777778,
             "#fb9f3a"
            ],
            [
             0.8888888888888888,
             "#fdca26"
            ],
            [
             1,
             "#f0f921"
            ]
           ],
           "sequentialminus": [
            [
             0,
             "#0d0887"
            ],
            [
             0.1111111111111111,
             "#46039f"
            ],
            [
             0.2222222222222222,
             "#7201a8"
            ],
            [
             0.3333333333333333,
             "#9c179e"
            ],
            [
             0.4444444444444444,
             "#bd3786"
            ],
            [
             0.5555555555555556,
             "#d8576b"
            ],
            [
             0.6666666666666666,
             "#ed7953"
            ],
            [
             0.7777777777777778,
             "#fb9f3a"
            ],
            [
             0.8888888888888888,
             "#fdca26"
            ],
            [
             1,
             "#f0f921"
            ]
           ]
          },
          "colorway": [
           "#636efa",
           "#EF553B",
           "#00cc96",
           "#ab63fa",
           "#FFA15A",
           "#19d3f3",
           "#FF6692",
           "#B6E880",
           "#FF97FF",
           "#FECB52"
          ],
          "font": {
           "color": "#2a3f5f"
          },
          "geo": {
           "bgcolor": "white",
           "lakecolor": "white",
           "landcolor": "#E5ECF6",
           "showlakes": true,
           "showland": true,
           "subunitcolor": "white"
          },
          "hoverlabel": {
           "align": "left"
          },
          "hovermode": "closest",
          "mapbox": {
           "style": "light"
          },
          "paper_bgcolor": "white",
          "plot_bgcolor": "#E5ECF6",
          "polar": {
           "angularaxis": {
            "gridcolor": "white",
            "linecolor": "white",
            "ticks": ""
           },
           "bgcolor": "#E5ECF6",
           "radialaxis": {
            "gridcolor": "white",
            "linecolor": "white",
            "ticks": ""
           }
          },
          "scene": {
           "xaxis": {
            "backgroundcolor": "#E5ECF6",
            "gridcolor": "white",
            "gridwidth": 2,
            "linecolor": "white",
            "showbackground": true,
            "ticks": "",
            "zerolinecolor": "white"
           },
           "yaxis": {
            "backgroundcolor": "#E5ECF6",
            "gridcolor": "white",
            "gridwidth": 2,
            "linecolor": "white",
            "showbackground": true,
            "ticks": "",
            "zerolinecolor": "white"
           },
           "zaxis": {
            "backgroundcolor": "#E5ECF6",
            "gridcolor": "white",
            "gridwidth": 2,
            "linecolor": "white",
            "showbackground": true,
            "ticks": "",
            "zerolinecolor": "white"
           }
          },
          "shapedefaults": {
           "line": {
            "color": "#2a3f5f"
           }
          },
          "ternary": {
           "aaxis": {
            "gridcolor": "white",
            "linecolor": "white",
            "ticks": ""
           },
           "baxis": {
            "gridcolor": "white",
            "linecolor": "white",
            "ticks": ""
           },
           "bgcolor": "#E5ECF6",
           "caxis": {
            "gridcolor": "white",
            "linecolor": "white",
            "ticks": ""
           }
          },
          "title": {
           "x": 0.05
          },
          "xaxis": {
           "automargin": true,
           "gridcolor": "white",
           "linecolor": "white",
           "ticks": "",
           "title": {
            "standoff": 15
           },
           "zerolinecolor": "white",
           "zerolinewidth": 2
          },
          "yaxis": {
           "automargin": true,
           "gridcolor": "white",
           "linecolor": "white",
           "ticks": "",
           "title": {
            "standoff": 15
           },
           "zerolinecolor": "white",
           "zerolinewidth": 2
          }
         }
        },
        "title": {
         "font": {
          "color": "#4D5663"
         }
        },
        "xaxis": {
         "gridcolor": "#E1E5ED",
         "showgrid": true,
         "tickfont": {
          "color": "#4D5663"
         },
         "title": {
          "font": {
           "color": "#4D5663"
          },
          "text": ""
         },
         "zerolinecolor": "#E1E5ED"
        },
        "xaxis2": {
         "anchor": "y2",
         "gridcolor": "#E1E5ED",
         "showgrid": true,
         "showticklabels": false,
         "tickfont": {
          "color": "#4D5663"
         },
         "title": {
          "font": {
           "color": "#4D5663"
          },
          "text": ""
         },
         "zerolinecolor": "#E1E5ED"
        },
        "yaxis": {
         "domain": [
          0.3,
          1
         ],
         "gridcolor": "#E1E5ED",
         "showgrid": true,
         "tickfont": {
          "color": "#4D5663"
         },
         "title": {
          "font": {
           "color": "#4D5663"
          },
          "text": ""
         },
         "zerolinecolor": "#E1E5ED"
        },
        "yaxis2": {
         "domain": [
          0,
          0.25
         ],
         "gridcolor": "#E1E5ED",
         "showgrid": true,
         "tickfont": {
          "color": "#4D5663"
         },
         "title": {
          "font": {
           "color": "#4D5663"
          },
          "text": "Spread"
         },
         "zerolinecolor": "#E1E5ED"
        }
       }
      },
      "text/html": [
       "<div>                            <div id=\"706ab56e-a79b-438e-83b6-e78072616175\" class=\"plotly-graph-div\" style=\"height:525px; width:100%;\"></div>            <script type=\"text/javascript\">                require([\"plotly\"], function(Plotly) {                    window.PLOTLYENV=window.PLOTLYENV || {};\n",
       "                    window.PLOTLYENV.BASE_URL='https://plot.ly';                                    if (document.getElementById(\"706ab56e-a79b-438e-83b6-e78072616175\")) {                    Plotly.newPlot(                        \"706ab56e-a79b-438e-83b6-e78072616175\",                        [{\"line\":{\"color\":\"rgba(255, 153, 51, 1.0)\",\"dash\":\"solid\",\"shape\":\"linear\",\"width\":1.3},\"mode\":\"lines\",\"name\":\"A\",\"text\":\"\",\"x\":[0,1,2,3,4,5,6,7,8,9,10,11,12,13,14,15,16,17,18,19,20,21,22,23,24,25,26,27,28,29,30,31,32,33,34,35,36,37,38,39,40,41,42,43,44,45,46,47,48,49,50,51,52,53,54,55,56,57,58,59,60,61,62,63,64,65,66,67,68,69,70,71,72,73,74,75,76,77,78,79,80,81,82,83,84,85,86,87,88,89,90,91,92,93,94,95,96,97,98,99],\"y\":[0.4278303063139346,-0.17960339661206842,1.0164042618967994,-0.7122789625358378,-0.6470161726957598,-1.5391054711001806,-0.816419876227612,0.14992634819113262,-0.2538297184910725,0.4011312596835835,-0.35121217557811146,-0.08067457705225729,-1.2864396719186408,0.46615802073452944,-0.3186788122439116,1.0143288516154085,-2.2806490282504535,0.40384690521168326,0.6018005259883966,-0.25978009976335664,-1.1669122342579856,0.8573994100521745,0.8623475326006868,-0.3544586484489518,0.4110630086982138,-0.32937147502200953,0.8971370723551457,0.42079992650952014,-0.4723624434704465,0.12777627493488986,0.4889927615403592,-0.9481653064033165,0.10111690399406939,-0.5199092906505531,-0.9131480083912413,1.091390985730131,-1.166766293120185,0.20757181583433243,0.6829620194836434,-1.0930355069538578,-0.02650130330699229,-1.2924400269578538,0.14418601175977652,-0.20223854166849403,0.19208883138239824,-0.18114204996310787,-0.19841663539400559,1.8385362877297255,0.15384934369884648,-0.3098194447686136,-1.2045370228630572,0.5327550476824217,-0.29441402000600364,0.3709208833043238,-1.5092728793466288,0.5191502262763877,1.4637639676598087,-0.7232252992171272,0.6980766119028778,-0.7563825513013476,-0.7421339581048623,1.121264011877191,0.013752107630780407,-0.5892825852411415,0.6056490857330595,0.9780201457682005,0.3394107574260655,-0.29779406831739264,-0.8249862472503384,-0.006608688646789804,0.9173723910209661,-0.03603833862910183,-0.6990592443026739,-1.342749352000533,-1.7062572618616654,-0.4379870105257444,-0.37396788969217615,-1.2152159255979396,0.85898836922212,0.2853468800286372,0.08525587871536675,0.3440875236892165,0.43424037380948755,0.5175629844710247,-0.06289870370813987,-0.3717812990629133,-1.3435656884172564,2.1465656501241304,0.9877233116000835,0.04448063913151714,-0.5020413908536919,0.13533132322167515,-0.4085192034480075,-0.5307015361759451,0.8328125615881095,0.16467398244369646,0.3384160963082231,0.5451546074803042,0.565600486678321,0.7341938436024419],\"type\":\"scatter\"},{\"line\":{\"color\":\"rgba(55, 128, 191, 1.0)\",\"dash\":\"solid\",\"shape\":\"linear\",\"width\":1.3},\"mode\":\"lines\",\"name\":\"B\",\"text\":\"\",\"x\":[0,1,2,3,4,5,6,7,8,9,10,11,12,13,14,15,16,17,18,19,20,21,22,23,24,25,26,27,28,29,30,31,32,33,34,35,36,37,38,39,40,41,42,43,44,45,46,47,48,49,50,51,52,53,54,55,56,57,58,59,60,61,62,63,64,65,66,67,68,69,70,71,72,73,74,75,76,77,78,79,80,81,82,83,84,85,86,87,88,89,90,91,92,93,94,95,96,97,98,99],\"y\":[0.48306040414083834,0.009058351407117657,-0.10115869895854517,1.299364507421079,-0.917630514349454,-0.0004417653346297867,-0.40798279547156635,0.3444360696810804,-0.5303963906334963,0.16405004030193343,0.3350632725543995,-0.1981882405566007,-0.24432705870638655,1.096647494957282,0.3648057242653707,1.792685105555086,1.4643582511094944,-0.8544839418659624,-0.9191036875899685,0.5677118433595862,0.3644188202879386,0.33595984166710796,1.9936047851335992,-0.3184669272450796,0.32975569755681217,0.4260629510999024,0.23486176179843596,-1.086942248367033,0.3674910042928074,-0.46547162469799963,-0.9924427421111863,-2.1406810439355066,-0.21469032628104553,-0.12076619656413162,0.7647436190552594,0.4929088265880474,-0.8771908460491088,2.1777215427021996,0.04436592206782866,-0.0073038619111890565,1.4963995074604057,-0.46116149162445347,-0.9719021840295913,0.6605389800911491,-1.160605255775432,0.6757450195029824,-0.6991125021178969,0.5398846034108065,-0.4066398571344095,-0.31589064660126354,-0.7208238632743234,-0.383731214271165,-1.3536096966031266,0.4987596504299444,0.22804262761234906,-0.9882108951751464,0.6127722213063093,-0.9834991873284643,0.14950554896813462,0.4830956263791654,0.17451464216515458,-1.816099518246873,1.1385736700100326,-1.0036133687647835,0.8188788059107236,1.157425588927253,-1.1723531019569493,-0.07573755585923887,0.17966228070772516,0.6285754121275586,1.1372469738815771,-0.28269154554196035,0.7165406494548696,-0.23007318691659548,-0.8883280341101701,0.3281056679583895,-0.5449040671497705,-1.5170140313832825,0.7159357051909687,1.2061881235431922,-1.487080206258318,0.219275882063202,0.007041079866349726,0.2331570317320377,0.0034261754096381295,0.08514670420553244,-1.1107420851889813,1.8460938344620215,-0.21158616035407998,0.0044370729423990705,-0.39390964225737446,-1.222526038408339,-0.43863339052296013,-0.08599763750602338,-0.7734350600969128,-0.12144896846053277,-0.18775311587229412,1.4392171860459413,-0.2882843728195542,0.364549423795677],\"type\":\"scatter\"},{\"connectgaps\":false,\"fill\":\"tozeroy\",\"line\":{\"color\":\"green\",\"dash\":\"solid\",\"shape\":\"linear\",\"width\":0.5},\"mode\":\"lines\",\"name\":\"Spread\",\"showlegend\":false,\"x\":[0,1,2,3,4,5,6,7,8,9,10,11,12,13,14,15,16,17,18,19,20,21,22,23,24,25,26,27,28,29,30,31,32,33,34,35,36,37,38,39,40,41,42,43,44,45,46,47,48,49,50,51,52,53,54,55,56,57,58,59,60,61,62,63,64,65,66,67,68,69,70,71,72,73,74,75,76,77,78,79,80,81,82,83,84,85,86,87,88,89,90,91,92,93,94,95,96,97,98,99],\"xaxis\":\"x2\",\"y\":[\"\",\"\",1.1175629608553446,\"\",0.27061434165369413,\"\",\"\",\"\",0.2765666721424238,0.23708121938165005,\"\",0.1175136635043434,\"\",\"\",\"\",\"\",\"\",1.2583308470776458,1.520904213578365,\"\",\"\",0.5214395683850666,\"\",\"\",0.08130731114140166,\"\",0.6622753105567097,1.5077421748765532,\"\",0.5932478996328895,1.4814355036515456,1.1925157375321902,0.3158072302751149,\"\",\"\",0.5984821591420835,\"\",\"\",0.6385960974158148,\"\",\"\",\"\",1.1160881957893678,\"\",1.3526940871578303,\"\",0.5006958667238913,1.298651684318919,0.5604892008332559,0.0060712018326499195,\"\",0.9164862619535867,1.0591956765971229,\"\",\"\",1.5073611214515341,0.8509917463534994,0.2602738881113371,0.5485710629347432,\"\",\"\",2.937363530124064,\"\",0.41433078352364194,\"\",\"\",1.5117638593830147,\"\",\"\",\"\",\"\",0.24665320691285852,\"\",\"\",\"\",\"\",0.17093617745759432,0.30179810578534294,0.14305266403115124,\"\",1.5723360849736847,0.12481164162601452,0.4271992939431378,0.28440595273898694,\"\",\"\",\"\",0.3004718156621089,1.1993094719541635,0.04004356618911807,\"\",1.357857361630014,0.030114187074952614,\"\",1.6062476216850223,0.28612295090422923,0.5261692121805173,\"\",0.8538848594978752,0.3696444198067649],\"yaxis\":\"y2\",\"type\":\"scatter\"},{\"connectgaps\":false,\"fill\":\"tozeroy\",\"line\":{\"color\":\"red\",\"dash\":\"solid\",\"shape\":\"linear\",\"width\":0.5},\"mode\":\"lines\",\"name\":\"Spread\",\"showlegend\":false,\"x\":[0,1,2,3,4,5,6,7,8,9,10,11,12,13,14,15,16,17,18,19,20,21,22,23,24,25,26,27,28,29,30,31,32,33,34,35,36,37,38,39,40,41,42,43,44,45,46,47,48,49,50,51,52,53,54,55,56,57,58,59,60,61,62,63,64,65,66,67,68,69,70,71,72,73,74,75,76,77,78,79,80,81,82,83,84,85,86,87,88,89,90,91,92,93,94,95,96,97,98,99],\"xaxis\":\"x2\",\"y\":[-0.055230097826903746,-0.1886617480191861,\"\",-2.011643469956917,\"\",-1.5386637057655508,-0.4084370807560457,-0.1945097214899478,\"\",\"\",-0.686275448132511,\"\",-1.0421126132122542,-0.6304894742227525,-0.6834845365092823,-0.7783562539396776,-3.745007279359948,\"\",\"\",-0.8274919431229428,-1.5313310545459242,\"\",-1.1312572525329125,-0.03599172120387223,\"\",-0.7554344261219119,\"\",\"\",-0.8398534477632539,\"\",\"\",\"\",\"\",-0.3991430940864215,-1.6778916274465008,\"\",-0.2895754470710762,-1.9701497268678672,\"\",-1.0857316450426686,-1.522900810767398,-0.8312785353334002,\"\",-0.8627775217596432,\"\",-0.8568870694660903,\"\",\"\",\"\",\"\",-0.48371315958873384,\"\",\"\",-0.1278387671256206,-1.7373155069589779,\"\",\"\",\"\",\"\",-1.239478177680513,-0.9166486002700168,\"\",-1.1248215623792521,\"\",-0.21322972017766406,-0.17940544315905238,\"\",-0.22205651245815378,-1.0046485279580635,-0.6351841007743484,-0.219874582860611,\"\",-1.4155998937575434,-1.1126761650839374,-0.8179292277514952,-0.766092678484134,\"\",\"\",\"\",-0.920841243514555,\"\",\"\",\"\",\"\",-0.066324879117778,-0.45692800326844574,-0.2328236032282751,\"\",\"\",\"\",-0.10813174859631747,\"\",\"\",-0.44470389866992166,\"\",\"\",\"\",-0.8940625785656371,\"\",\"\"],\"yaxis\":\"y2\",\"type\":\"scatter\"}],                        {\"hovermode\":\"x\",\"legend\":{\"bgcolor\":\"#F5F6F9\",\"font\":{\"color\":\"#4D5663\"}},\"paper_bgcolor\":\"#F5F6F9\",\"plot_bgcolor\":\"#F5F6F9\",\"template\":{\"data\":{\"barpolar\":[{\"marker\":{\"line\":{\"color\":\"#E5ECF6\",\"width\":0.5},\"pattern\":{\"fillmode\":\"overlay\",\"size\":10,\"solidity\":0.2}},\"type\":\"barpolar\"}],\"bar\":[{\"error_x\":{\"color\":\"#2a3f5f\"},\"error_y\":{\"color\":\"#2a3f5f\"},\"marker\":{\"line\":{\"color\":\"#E5ECF6\",\"width\":0.5},\"pattern\":{\"fillmode\":\"overlay\",\"size\":10,\"solidity\":0.2}},\"type\":\"bar\"}],\"carpet\":[{\"aaxis\":{\"endlinecolor\":\"#2a3f5f\",\"gridcolor\":\"white\",\"linecolor\":\"white\",\"minorgridcolor\":\"white\",\"startlinecolor\":\"#2a3f5f\"},\"baxis\":{\"endlinecolor\":\"#2a3f5f\",\"gridcolor\":\"white\",\"linecolor\":\"white\",\"minorgridcolor\":\"white\",\"startlinecolor\":\"#2a3f5f\"},\"type\":\"carpet\"}],\"choropleth\":[{\"colorbar\":{\"outlinewidth\":0,\"ticks\":\"\"},\"type\":\"choropleth\"}],\"contourcarpet\":[{\"colorbar\":{\"outlinewidth\":0,\"ticks\":\"\"},\"type\":\"contourcarpet\"}],\"contour\":[{\"colorbar\":{\"outlinewidth\":0,\"ticks\":\"\"},\"colorscale\":[[0.0,\"#0d0887\"],[0.1111111111111111,\"#46039f\"],[0.2222222222222222,\"#7201a8\"],[0.3333333333333333,\"#9c179e\"],[0.4444444444444444,\"#bd3786\"],[0.5555555555555556,\"#d8576b\"],[0.6666666666666666,\"#ed7953\"],[0.7777777777777778,\"#fb9f3a\"],[0.8888888888888888,\"#fdca26\"],[1.0,\"#f0f921\"]],\"type\":\"contour\"}],\"heatmapgl\":[{\"colorbar\":{\"outlinewidth\":0,\"ticks\":\"\"},\"colorscale\":[[0.0,\"#0d0887\"],[0.1111111111111111,\"#46039f\"],[0.2222222222222222,\"#7201a8\"],[0.3333333333333333,\"#9c179e\"],[0.4444444444444444,\"#bd3786\"],[0.5555555555555556,\"#d8576b\"],[0.6666666666666666,\"#ed7953\"],[0.7777777777777778,\"#fb9f3a\"],[0.8888888888888888,\"#fdca26\"],[1.0,\"#f0f921\"]],\"type\":\"heatmapgl\"}],\"heatmap\":[{\"colorbar\":{\"outlinewidth\":0,\"ticks\":\"\"},\"colorscale\":[[0.0,\"#0d0887\"],[0.1111111111111111,\"#46039f\"],[0.2222222222222222,\"#7201a8\"],[0.3333333333333333,\"#9c179e\"],[0.4444444444444444,\"#bd3786\"],[0.5555555555555556,\"#d8576b\"],[0.6666666666666666,\"#ed7953\"],[0.7777777777777778,\"#fb9f3a\"],[0.8888888888888888,\"#fdca26\"],[1.0,\"#f0f921\"]],\"type\":\"heatmap\"}],\"histogram2dcontour\":[{\"colorbar\":{\"outlinewidth\":0,\"ticks\":\"\"},\"colorscale\":[[0.0,\"#0d0887\"],[0.1111111111111111,\"#46039f\"],[0.2222222222222222,\"#7201a8\"],[0.3333333333333333,\"#9c179e\"],[0.4444444444444444,\"#bd3786\"],[0.5555555555555556,\"#d8576b\"],[0.6666666666666666,\"#ed7953\"],[0.7777777777777778,\"#fb9f3a\"],[0.8888888888888888,\"#fdca26\"],[1.0,\"#f0f921\"]],\"type\":\"histogram2dcontour\"}],\"histogram2d\":[{\"colorbar\":{\"outlinewidth\":0,\"ticks\":\"\"},\"colorscale\":[[0.0,\"#0d0887\"],[0.1111111111111111,\"#46039f\"],[0.2222222222222222,\"#7201a8\"],[0.3333333333333333,\"#9c179e\"],[0.4444444444444444,\"#bd3786\"],[0.5555555555555556,\"#d8576b\"],[0.6666666666666666,\"#ed7953\"],[0.7777777777777778,\"#fb9f3a\"],[0.8888888888888888,\"#fdca26\"],[1.0,\"#f0f921\"]],\"type\":\"histogram2d\"}],\"histogram\":[{\"marker\":{\"pattern\":{\"fillmode\":\"overlay\",\"size\":10,\"solidity\":0.2}},\"type\":\"histogram\"}],\"mesh3d\":[{\"colorbar\":{\"outlinewidth\":0,\"ticks\":\"\"},\"type\":\"mesh3d\"}],\"parcoords\":[{\"line\":{\"colorbar\":{\"outlinewidth\":0,\"ticks\":\"\"}},\"type\":\"parcoords\"}],\"pie\":[{\"automargin\":true,\"type\":\"pie\"}],\"scatter3d\":[{\"line\":{\"colorbar\":{\"outlinewidth\":0,\"ticks\":\"\"}},\"marker\":{\"colorbar\":{\"outlinewidth\":0,\"ticks\":\"\"}},\"type\":\"scatter3d\"}],\"scattercarpet\":[{\"marker\":{\"colorbar\":{\"outlinewidth\":0,\"ticks\":\"\"}},\"type\":\"scattercarpet\"}],\"scattergeo\":[{\"marker\":{\"colorbar\":{\"outlinewidth\":0,\"ticks\":\"\"}},\"type\":\"scattergeo\"}],\"scattergl\":[{\"marker\":{\"colorbar\":{\"outlinewidth\":0,\"ticks\":\"\"}},\"type\":\"scattergl\"}],\"scattermapbox\":[{\"marker\":{\"colorbar\":{\"outlinewidth\":0,\"ticks\":\"\"}},\"type\":\"scattermapbox\"}],\"scatterpolargl\":[{\"marker\":{\"colorbar\":{\"outlinewidth\":0,\"ticks\":\"\"}},\"type\":\"scatterpolargl\"}],\"scatterpolar\":[{\"marker\":{\"colorbar\":{\"outlinewidth\":0,\"ticks\":\"\"}},\"type\":\"scatterpolar\"}],\"scatter\":[{\"fillpattern\":{\"fillmode\":\"overlay\",\"size\":10,\"solidity\":0.2},\"type\":\"scatter\"}],\"scatterternary\":[{\"marker\":{\"colorbar\":{\"outlinewidth\":0,\"ticks\":\"\"}},\"type\":\"scatterternary\"}],\"surface\":[{\"colorbar\":{\"outlinewidth\":0,\"ticks\":\"\"},\"colorscale\":[[0.0,\"#0d0887\"],[0.1111111111111111,\"#46039f\"],[0.2222222222222222,\"#7201a8\"],[0.3333333333333333,\"#9c179e\"],[0.4444444444444444,\"#bd3786\"],[0.5555555555555556,\"#d8576b\"],[0.6666666666666666,\"#ed7953\"],[0.7777777777777778,\"#fb9f3a\"],[0.8888888888888888,\"#fdca26\"],[1.0,\"#f0f921\"]],\"type\":\"surface\"}],\"table\":[{\"cells\":{\"fill\":{\"color\":\"#EBF0F8\"},\"line\":{\"color\":\"white\"}},\"header\":{\"fill\":{\"color\":\"#C8D4E3\"},\"line\":{\"color\":\"white\"}},\"type\":\"table\"}]},\"layout\":{\"annotationdefaults\":{\"arrowcolor\":\"#2a3f5f\",\"arrowhead\":0,\"arrowwidth\":1},\"autotypenumbers\":\"strict\",\"coloraxis\":{\"colorbar\":{\"outlinewidth\":0,\"ticks\":\"\"}},\"colorscale\":{\"diverging\":[[0,\"#8e0152\"],[0.1,\"#c51b7d\"],[0.2,\"#de77ae\"],[0.3,\"#f1b6da\"],[0.4,\"#fde0ef\"],[0.5,\"#f7f7f7\"],[0.6,\"#e6f5d0\"],[0.7,\"#b8e186\"],[0.8,\"#7fbc41\"],[0.9,\"#4d9221\"],[1,\"#276419\"]],\"sequential\":[[0.0,\"#0d0887\"],[0.1111111111111111,\"#46039f\"],[0.2222222222222222,\"#7201a8\"],[0.3333333333333333,\"#9c179e\"],[0.4444444444444444,\"#bd3786\"],[0.5555555555555556,\"#d8576b\"],[0.6666666666666666,\"#ed7953\"],[0.7777777777777778,\"#fb9f3a\"],[0.8888888888888888,\"#fdca26\"],[1.0,\"#f0f921\"]],\"sequentialminus\":[[0.0,\"#0d0887\"],[0.1111111111111111,\"#46039f\"],[0.2222222222222222,\"#7201a8\"],[0.3333333333333333,\"#9c179e\"],[0.4444444444444444,\"#bd3786\"],[0.5555555555555556,\"#d8576b\"],[0.6666666666666666,\"#ed7953\"],[0.7777777777777778,\"#fb9f3a\"],[0.8888888888888888,\"#fdca26\"],[1.0,\"#f0f921\"]]},\"colorway\":[\"#636efa\",\"#EF553B\",\"#00cc96\",\"#ab63fa\",\"#FFA15A\",\"#19d3f3\",\"#FF6692\",\"#B6E880\",\"#FF97FF\",\"#FECB52\"],\"font\":{\"color\":\"#2a3f5f\"},\"geo\":{\"bgcolor\":\"white\",\"lakecolor\":\"white\",\"landcolor\":\"#E5ECF6\",\"showlakes\":true,\"showland\":true,\"subunitcolor\":\"white\"},\"hoverlabel\":{\"align\":\"left\"},\"hovermode\":\"closest\",\"mapbox\":{\"style\":\"light\"},\"paper_bgcolor\":\"white\",\"plot_bgcolor\":\"#E5ECF6\",\"polar\":{\"angularaxis\":{\"gridcolor\":\"white\",\"linecolor\":\"white\",\"ticks\":\"\"},\"bgcolor\":\"#E5ECF6\",\"radialaxis\":{\"gridcolor\":\"white\",\"linecolor\":\"white\",\"ticks\":\"\"}},\"scene\":{\"xaxis\":{\"backgroundcolor\":\"#E5ECF6\",\"gridcolor\":\"white\",\"gridwidth\":2,\"linecolor\":\"white\",\"showbackground\":true,\"ticks\":\"\",\"zerolinecolor\":\"white\"},\"yaxis\":{\"backgroundcolor\":\"#E5ECF6\",\"gridcolor\":\"white\",\"gridwidth\":2,\"linecolor\":\"white\",\"showbackground\":true,\"ticks\":\"\",\"zerolinecolor\":\"white\"},\"zaxis\":{\"backgroundcolor\":\"#E5ECF6\",\"gridcolor\":\"white\",\"gridwidth\":2,\"linecolor\":\"white\",\"showbackground\":true,\"ticks\":\"\",\"zerolinecolor\":\"white\"}},\"shapedefaults\":{\"line\":{\"color\":\"#2a3f5f\"}},\"ternary\":{\"aaxis\":{\"gridcolor\":\"white\",\"linecolor\":\"white\",\"ticks\":\"\"},\"baxis\":{\"gridcolor\":\"white\",\"linecolor\":\"white\",\"ticks\":\"\"},\"bgcolor\":\"#E5ECF6\",\"caxis\":{\"gridcolor\":\"white\",\"linecolor\":\"white\",\"ticks\":\"\"}},\"title\":{\"x\":0.05},\"xaxis\":{\"automargin\":true,\"gridcolor\":\"white\",\"linecolor\":\"white\",\"ticks\":\"\",\"title\":{\"standoff\":15},\"zerolinecolor\":\"white\",\"zerolinewidth\":2},\"yaxis\":{\"automargin\":true,\"gridcolor\":\"white\",\"linecolor\":\"white\",\"ticks\":\"\",\"title\":{\"standoff\":15},\"zerolinecolor\":\"white\",\"zerolinewidth\":2}}},\"title\":{\"font\":{\"color\":\"#4D5663\"}},\"xaxis\":{\"gridcolor\":\"#E1E5ED\",\"showgrid\":true,\"tickfont\":{\"color\":\"#4D5663\"},\"title\":{\"font\":{\"color\":\"#4D5663\"},\"text\":\"\"},\"zerolinecolor\":\"#E1E5ED\"},\"yaxis\":{\"domain\":[0.3,1],\"gridcolor\":\"#E1E5ED\",\"showgrid\":true,\"tickfont\":{\"color\":\"#4D5663\"},\"title\":{\"font\":{\"color\":\"#4D5663\"},\"text\":\"\"},\"zerolinecolor\":\"#E1E5ED\"},\"yaxis2\":{\"domain\":[0,0.25],\"gridcolor\":\"#E1E5ED\",\"showgrid\":true,\"tickfont\":{\"color\":\"#4D5663\"},\"title\":{\"font\":{\"color\":\"#4D5663\"},\"text\":\"Spread\"},\"zerolinecolor\":\"#E1E5ED\"},\"xaxis2\":{\"anchor\":\"y2\",\"gridcolor\":\"#E1E5ED\",\"showgrid\":true,\"showticklabels\":false,\"tickfont\":{\"color\":\"#4D5663\"},\"title\":{\"font\":{\"color\":\"#4D5663\"},\"text\":\"\"},\"zerolinecolor\":\"#E1E5ED\"}},                        {\"showLink\": true, \"linkText\": \"Export to plot.ly\", \"plotlyServerURL\": \"https://plot.ly\", \"responsive\": true}                    ).then(function(){\n",
       "                            \n",
       "var gd = document.getElementById('706ab56e-a79b-438e-83b6-e78072616175');\n",
       "var x = new MutationObserver(function (mutations, observer) {{\n",
       "        var display = window.getComputedStyle(gd).display;\n",
       "        if (!display || display === 'none') {{\n",
       "            console.log([gd, 'removed!']);\n",
       "            Plotly.purge(gd);\n",
       "            observer.disconnect();\n",
       "        }}\n",
       "}});\n",
       "\n",
       "// Listen for the removal of the full notebook cells\n",
       "var notebookContainer = gd.closest('#notebook-container');\n",
       "if (notebookContainer) {{\n",
       "    x.observe(notebookContainer, {childList: true});\n",
       "}}\n",
       "\n",
       "// Listen for the clearing of the current output cell\n",
       "var outputEl = gd.closest('.output');\n",
       "if (outputEl) {{\n",
       "    x.observe(outputEl, {childList: true});\n",
       "}}\n",
       "\n",
       "                        })                };                });            </script>        </div>"
      ]
     },
     "metadata": {},
     "output_type": "display_data"
    }
   ],
   "source": [
    "df[['A','B']].iplot(kind='spread')"
   ]
  },
  {
   "cell_type": "code",
   "execution_count": 64,
   "id": "9bab0044",
   "metadata": {
    "ExecuteTime": {
     "end_time": "2023-03-23T12:12:32.376172Z",
     "start_time": "2023-03-23T12:12:32.311576Z"
    }
   },
   "outputs": [
    {
     "data": {
      "application/vnd.plotly.v1+json": {
       "config": {
        "linkText": "Export to plot.ly",
        "plotlyServerURL": "https://plot.ly",
        "showLink": true
       },
       "data": [
        {
         "marker": {
          "color": [
           "rgb(255, 153, 51)",
           "rgb(55, 128, 191)",
           "rgb(50, 171, 96)",
           "rgb(128, 0, 128)",
           "rgb(219, 64, 82)",
           "rgb(0, 128, 128)",
           "rgb(255, 255, 51)",
           "rgb(128, 128, 0)",
           "rgb(251, 128, 114)",
           "rgb(128, 177, 211)"
          ],
          "line": {
           "width": 1.3
          },
          "size": [
           58,
           36,
           73,
           76,
           43,
           77,
           79,
           63,
           62,
           93,
           86,
           63,
           73,
           71,
           47,
           98,
           63,
           105,
           89,
           98,
           29,
           45,
           64,
           35,
           43,
           53,
           63,
           41,
           85,
           89,
           67,
           61,
           40,
           51,
           107,
           44,
           60,
           46,
           55,
           55,
           56,
           51,
           12,
           69,
           73,
           58,
           64,
           79,
           37,
           33,
           92,
           57,
           80,
           76,
           27,
           27,
           59,
           80,
           82,
           62,
           66,
           72,
           91,
           74,
           89,
           108,
           104,
           93,
           55,
           74,
           50,
           46,
           74,
           49,
           75,
           46,
           80,
           112,
           88,
           46,
           63,
           68,
           68,
           81,
           88,
           44,
           51,
           46,
           57,
           86,
           37,
           66,
           83,
           27,
           53,
           46,
           19,
           70,
           84,
           59
          ],
          "symbol": "circle"
         },
         "mode": "markers",
         "text": "",
         "type": "scatter",
         "x": [
          0.4278303063139346,
          -0.17960339661206842,
          1.0164042618967994,
          -0.7122789625358378,
          -0.6470161726957598,
          -1.5391054711001806,
          -0.816419876227612,
          0.14992634819113262,
          -0.2538297184910725,
          0.4011312596835835,
          -0.35121217557811146,
          -0.08067457705225729,
          -1.2864396719186408,
          0.46615802073452944,
          -0.3186788122439116,
          1.0143288516154085,
          -2.2806490282504535,
          0.40384690521168326,
          0.6018005259883966,
          -0.25978009976335664,
          -1.1669122342579856,
          0.8573994100521745,
          0.8623475326006868,
          -0.3544586484489518,
          0.4110630086982138,
          -0.32937147502200953,
          0.8971370723551457,
          0.42079992650952014,
          -0.4723624434704465,
          0.12777627493488986,
          0.4889927615403592,
          -0.9481653064033165,
          0.10111690399406939,
          -0.5199092906505531,
          -0.9131480083912413,
          1.091390985730131,
          -1.166766293120185,
          0.20757181583433243,
          0.6829620194836434,
          -1.0930355069538578,
          -0.02650130330699229,
          -1.2924400269578538,
          0.14418601175977652,
          -0.20223854166849403,
          0.19208883138239824,
          -0.18114204996310787,
          -0.19841663539400559,
          1.8385362877297255,
          0.15384934369884648,
          -0.3098194447686136,
          -1.2045370228630572,
          0.5327550476824217,
          -0.29441402000600364,
          0.3709208833043238,
          -1.5092728793466288,
          0.5191502262763877,
          1.4637639676598087,
          -0.7232252992171272,
          0.6980766119028778,
          -0.7563825513013476,
          -0.7421339581048623,
          1.121264011877191,
          0.013752107630780407,
          -0.5892825852411415,
          0.6056490857330595,
          0.9780201457682005,
          0.3394107574260655,
          -0.29779406831739264,
          -0.8249862472503384,
          -0.006608688646789804,
          0.9173723910209661,
          -0.03603833862910183,
          -0.6990592443026739,
          -1.342749352000533,
          -1.7062572618616654,
          -0.4379870105257444,
          -0.37396788969217615,
          -1.2152159255979396,
          0.85898836922212,
          0.2853468800286372,
          0.08525587871536675,
          0.3440875236892165,
          0.43424037380948755,
          0.5175629844710247,
          -0.06289870370813987,
          -0.3717812990629133,
          -1.3435656884172564,
          2.1465656501241304,
          0.9877233116000835,
          0.04448063913151714,
          -0.5020413908536919,
          0.13533132322167515,
          -0.4085192034480075,
          -0.5307015361759451,
          0.8328125615881095,
          0.16467398244369646,
          0.3384160963082231,
          0.5451546074803042,
          0.565600486678321,
          0.7341938436024419
         ],
         "y": [
          0.48306040414083834,
          0.009058351407117657,
          -0.10115869895854517,
          1.299364507421079,
          -0.917630514349454,
          -0.0004417653346297867,
          -0.40798279547156635,
          0.3444360696810804,
          -0.5303963906334963,
          0.16405004030193343,
          0.3350632725543995,
          -0.1981882405566007,
          -0.24432705870638655,
          1.096647494957282,
          0.3648057242653707,
          1.792685105555086,
          1.4643582511094944,
          -0.8544839418659624,
          -0.9191036875899685,
          0.5677118433595862,
          0.3644188202879386,
          0.33595984166710796,
          1.9936047851335992,
          -0.3184669272450796,
          0.32975569755681217,
          0.4260629510999024,
          0.23486176179843596,
          -1.086942248367033,
          0.3674910042928074,
          -0.46547162469799963,
          -0.9924427421111863,
          -2.1406810439355066,
          -0.21469032628104553,
          -0.12076619656413162,
          0.7647436190552594,
          0.4929088265880474,
          -0.8771908460491088,
          2.1777215427021996,
          0.04436592206782866,
          -0.0073038619111890565,
          1.4963995074604057,
          -0.46116149162445347,
          -0.9719021840295913,
          0.6605389800911491,
          -1.160605255775432,
          0.6757450195029824,
          -0.6991125021178969,
          0.5398846034108065,
          -0.4066398571344095,
          -0.31589064660126354,
          -0.7208238632743234,
          -0.383731214271165,
          -1.3536096966031266,
          0.4987596504299444,
          0.22804262761234906,
          -0.9882108951751464,
          0.6127722213063093,
          -0.9834991873284643,
          0.14950554896813462,
          0.4830956263791654,
          0.17451464216515458,
          -1.816099518246873,
          1.1385736700100326,
          -1.0036133687647835,
          0.8188788059107236,
          1.157425588927253,
          -1.1723531019569493,
          -0.07573755585923887,
          0.17966228070772516,
          0.6285754121275586,
          1.1372469738815771,
          -0.28269154554196035,
          0.7165406494548696,
          -0.23007318691659548,
          -0.8883280341101701,
          0.3281056679583895,
          -0.5449040671497705,
          -1.5170140313832825,
          0.7159357051909687,
          1.2061881235431922,
          -1.487080206258318,
          0.219275882063202,
          0.007041079866349726,
          0.2331570317320377,
          0.0034261754096381295,
          0.08514670420553244,
          -1.1107420851889813,
          1.8460938344620215,
          -0.21158616035407998,
          0.0044370729423990705,
          -0.39390964225737446,
          -1.222526038408339,
          -0.43863339052296013,
          -0.08599763750602338,
          -0.7734350600969128,
          -0.12144896846053277,
          -0.18775311587229412,
          1.4392171860459413,
          -0.2882843728195542,
          0.364549423795677
         ]
        }
       ],
       "layout": {
        "legend": {
         "bgcolor": "#F5F6F9",
         "font": {
          "color": "#4D5663"
         }
        },
        "paper_bgcolor": "#F5F6F9",
        "plot_bgcolor": "#F5F6F9",
        "template": {
         "data": {
          "bar": [
           {
            "error_x": {
             "color": "#2a3f5f"
            },
            "error_y": {
             "color": "#2a3f5f"
            },
            "marker": {
             "line": {
              "color": "#E5ECF6",
              "width": 0.5
             },
             "pattern": {
              "fillmode": "overlay",
              "size": 10,
              "solidity": 0.2
             }
            },
            "type": "bar"
           }
          ],
          "barpolar": [
           {
            "marker": {
             "line": {
              "color": "#E5ECF6",
              "width": 0.5
             },
             "pattern": {
              "fillmode": "overlay",
              "size": 10,
              "solidity": 0.2
             }
            },
            "type": "barpolar"
           }
          ],
          "carpet": [
           {
            "aaxis": {
             "endlinecolor": "#2a3f5f",
             "gridcolor": "white",
             "linecolor": "white",
             "minorgridcolor": "white",
             "startlinecolor": "#2a3f5f"
            },
            "baxis": {
             "endlinecolor": "#2a3f5f",
             "gridcolor": "white",
             "linecolor": "white",
             "minorgridcolor": "white",
             "startlinecolor": "#2a3f5f"
            },
            "type": "carpet"
           }
          ],
          "choropleth": [
           {
            "colorbar": {
             "outlinewidth": 0,
             "ticks": ""
            },
            "type": "choropleth"
           }
          ],
          "contour": [
           {
            "colorbar": {
             "outlinewidth": 0,
             "ticks": ""
            },
            "colorscale": [
             [
              0,
              "#0d0887"
             ],
             [
              0.1111111111111111,
              "#46039f"
             ],
             [
              0.2222222222222222,
              "#7201a8"
             ],
             [
              0.3333333333333333,
              "#9c179e"
             ],
             [
              0.4444444444444444,
              "#bd3786"
             ],
             [
              0.5555555555555556,
              "#d8576b"
             ],
             [
              0.6666666666666666,
              "#ed7953"
             ],
             [
              0.7777777777777778,
              "#fb9f3a"
             ],
             [
              0.8888888888888888,
              "#fdca26"
             ],
             [
              1,
              "#f0f921"
             ]
            ],
            "type": "contour"
           }
          ],
          "contourcarpet": [
           {
            "colorbar": {
             "outlinewidth": 0,
             "ticks": ""
            },
            "type": "contourcarpet"
           }
          ],
          "heatmap": [
           {
            "colorbar": {
             "outlinewidth": 0,
             "ticks": ""
            },
            "colorscale": [
             [
              0,
              "#0d0887"
             ],
             [
              0.1111111111111111,
              "#46039f"
             ],
             [
              0.2222222222222222,
              "#7201a8"
             ],
             [
              0.3333333333333333,
              "#9c179e"
             ],
             [
              0.4444444444444444,
              "#bd3786"
             ],
             [
              0.5555555555555556,
              "#d8576b"
             ],
             [
              0.6666666666666666,
              "#ed7953"
             ],
             [
              0.7777777777777778,
              "#fb9f3a"
             ],
             [
              0.8888888888888888,
              "#fdca26"
             ],
             [
              1,
              "#f0f921"
             ]
            ],
            "type": "heatmap"
           }
          ],
          "heatmapgl": [
           {
            "colorbar": {
             "outlinewidth": 0,
             "ticks": ""
            },
            "colorscale": [
             [
              0,
              "#0d0887"
             ],
             [
              0.1111111111111111,
              "#46039f"
             ],
             [
              0.2222222222222222,
              "#7201a8"
             ],
             [
              0.3333333333333333,
              "#9c179e"
             ],
             [
              0.4444444444444444,
              "#bd3786"
             ],
             [
              0.5555555555555556,
              "#d8576b"
             ],
             [
              0.6666666666666666,
              "#ed7953"
             ],
             [
              0.7777777777777778,
              "#fb9f3a"
             ],
             [
              0.8888888888888888,
              "#fdca26"
             ],
             [
              1,
              "#f0f921"
             ]
            ],
            "type": "heatmapgl"
           }
          ],
          "histogram": [
           {
            "marker": {
             "pattern": {
              "fillmode": "overlay",
              "size": 10,
              "solidity": 0.2
             }
            },
            "type": "histogram"
           }
          ],
          "histogram2d": [
           {
            "colorbar": {
             "outlinewidth": 0,
             "ticks": ""
            },
            "colorscale": [
             [
              0,
              "#0d0887"
             ],
             [
              0.1111111111111111,
              "#46039f"
             ],
             [
              0.2222222222222222,
              "#7201a8"
             ],
             [
              0.3333333333333333,
              "#9c179e"
             ],
             [
              0.4444444444444444,
              "#bd3786"
             ],
             [
              0.5555555555555556,
              "#d8576b"
             ],
             [
              0.6666666666666666,
              "#ed7953"
             ],
             [
              0.7777777777777778,
              "#fb9f3a"
             ],
             [
              0.8888888888888888,
              "#fdca26"
             ],
             [
              1,
              "#f0f921"
             ]
            ],
            "type": "histogram2d"
           }
          ],
          "histogram2dcontour": [
           {
            "colorbar": {
             "outlinewidth": 0,
             "ticks": ""
            },
            "colorscale": [
             [
              0,
              "#0d0887"
             ],
             [
              0.1111111111111111,
              "#46039f"
             ],
             [
              0.2222222222222222,
              "#7201a8"
             ],
             [
              0.3333333333333333,
              "#9c179e"
             ],
             [
              0.4444444444444444,
              "#bd3786"
             ],
             [
              0.5555555555555556,
              "#d8576b"
             ],
             [
              0.6666666666666666,
              "#ed7953"
             ],
             [
              0.7777777777777778,
              "#fb9f3a"
             ],
             [
              0.8888888888888888,
              "#fdca26"
             ],
             [
              1,
              "#f0f921"
             ]
            ],
            "type": "histogram2dcontour"
           }
          ],
          "mesh3d": [
           {
            "colorbar": {
             "outlinewidth": 0,
             "ticks": ""
            },
            "type": "mesh3d"
           }
          ],
          "parcoords": [
           {
            "line": {
             "colorbar": {
              "outlinewidth": 0,
              "ticks": ""
             }
            },
            "type": "parcoords"
           }
          ],
          "pie": [
           {
            "automargin": true,
            "type": "pie"
           }
          ],
          "scatter": [
           {
            "fillpattern": {
             "fillmode": "overlay",
             "size": 10,
             "solidity": 0.2
            },
            "type": "scatter"
           }
          ],
          "scatter3d": [
           {
            "line": {
             "colorbar": {
              "outlinewidth": 0,
              "ticks": ""
             }
            },
            "marker": {
             "colorbar": {
              "outlinewidth": 0,
              "ticks": ""
             }
            },
            "type": "scatter3d"
           }
          ],
          "scattercarpet": [
           {
            "marker": {
             "colorbar": {
              "outlinewidth": 0,
              "ticks": ""
             }
            },
            "type": "scattercarpet"
           }
          ],
          "scattergeo": [
           {
            "marker": {
             "colorbar": {
              "outlinewidth": 0,
              "ticks": ""
             }
            },
            "type": "scattergeo"
           }
          ],
          "scattergl": [
           {
            "marker": {
             "colorbar": {
              "outlinewidth": 0,
              "ticks": ""
             }
            },
            "type": "scattergl"
           }
          ],
          "scattermapbox": [
           {
            "marker": {
             "colorbar": {
              "outlinewidth": 0,
              "ticks": ""
             }
            },
            "type": "scattermapbox"
           }
          ],
          "scatterpolar": [
           {
            "marker": {
             "colorbar": {
              "outlinewidth": 0,
              "ticks": ""
             }
            },
            "type": "scatterpolar"
           }
          ],
          "scatterpolargl": [
           {
            "marker": {
             "colorbar": {
              "outlinewidth": 0,
              "ticks": ""
             }
            },
            "type": "scatterpolargl"
           }
          ],
          "scatterternary": [
           {
            "marker": {
             "colorbar": {
              "outlinewidth": 0,
              "ticks": ""
             }
            },
            "type": "scatterternary"
           }
          ],
          "surface": [
           {
            "colorbar": {
             "outlinewidth": 0,
             "ticks": ""
            },
            "colorscale": [
             [
              0,
              "#0d0887"
             ],
             [
              0.1111111111111111,
              "#46039f"
             ],
             [
              0.2222222222222222,
              "#7201a8"
             ],
             [
              0.3333333333333333,
              "#9c179e"
             ],
             [
              0.4444444444444444,
              "#bd3786"
             ],
             [
              0.5555555555555556,
              "#d8576b"
             ],
             [
              0.6666666666666666,
              "#ed7953"
             ],
             [
              0.7777777777777778,
              "#fb9f3a"
             ],
             [
              0.8888888888888888,
              "#fdca26"
             ],
             [
              1,
              "#f0f921"
             ]
            ],
            "type": "surface"
           }
          ],
          "table": [
           {
            "cells": {
             "fill": {
              "color": "#EBF0F8"
             },
             "line": {
              "color": "white"
             }
            },
            "header": {
             "fill": {
              "color": "#C8D4E3"
             },
             "line": {
              "color": "white"
             }
            },
            "type": "table"
           }
          ]
         },
         "layout": {
          "annotationdefaults": {
           "arrowcolor": "#2a3f5f",
           "arrowhead": 0,
           "arrowwidth": 1
          },
          "autotypenumbers": "strict",
          "coloraxis": {
           "colorbar": {
            "outlinewidth": 0,
            "ticks": ""
           }
          },
          "colorscale": {
           "diverging": [
            [
             0,
             "#8e0152"
            ],
            [
             0.1,
             "#c51b7d"
            ],
            [
             0.2,
             "#de77ae"
            ],
            [
             0.3,
             "#f1b6da"
            ],
            [
             0.4,
             "#fde0ef"
            ],
            [
             0.5,
             "#f7f7f7"
            ],
            [
             0.6,
             "#e6f5d0"
            ],
            [
             0.7,
             "#b8e186"
            ],
            [
             0.8,
             "#7fbc41"
            ],
            [
             0.9,
             "#4d9221"
            ],
            [
             1,
             "#276419"
            ]
           ],
           "sequential": [
            [
             0,
             "#0d0887"
            ],
            [
             0.1111111111111111,
             "#46039f"
            ],
            [
             0.2222222222222222,
             "#7201a8"
            ],
            [
             0.3333333333333333,
             "#9c179e"
            ],
            [
             0.4444444444444444,
             "#bd3786"
            ],
            [
             0.5555555555555556,
             "#d8576b"
            ],
            [
             0.6666666666666666,
             "#ed7953"
            ],
            [
             0.7777777777777778,
             "#fb9f3a"
            ],
            [
             0.8888888888888888,
             "#fdca26"
            ],
            [
             1,
             "#f0f921"
            ]
           ],
           "sequentialminus": [
            [
             0,
             "#0d0887"
            ],
            [
             0.1111111111111111,
             "#46039f"
            ],
            [
             0.2222222222222222,
             "#7201a8"
            ],
            [
             0.3333333333333333,
             "#9c179e"
            ],
            [
             0.4444444444444444,
             "#bd3786"
            ],
            [
             0.5555555555555556,
             "#d8576b"
            ],
            [
             0.6666666666666666,
             "#ed7953"
            ],
            [
             0.7777777777777778,
             "#fb9f3a"
            ],
            [
             0.8888888888888888,
             "#fdca26"
            ],
            [
             1,
             "#f0f921"
            ]
           ]
          },
          "colorway": [
           "#636efa",
           "#EF553B",
           "#00cc96",
           "#ab63fa",
           "#FFA15A",
           "#19d3f3",
           "#FF6692",
           "#B6E880",
           "#FF97FF",
           "#FECB52"
          ],
          "font": {
           "color": "#2a3f5f"
          },
          "geo": {
           "bgcolor": "white",
           "lakecolor": "white",
           "landcolor": "#E5ECF6",
           "showlakes": true,
           "showland": true,
           "subunitcolor": "white"
          },
          "hoverlabel": {
           "align": "left"
          },
          "hovermode": "closest",
          "mapbox": {
           "style": "light"
          },
          "paper_bgcolor": "white",
          "plot_bgcolor": "#E5ECF6",
          "polar": {
           "angularaxis": {
            "gridcolor": "white",
            "linecolor": "white",
            "ticks": ""
           },
           "bgcolor": "#E5ECF6",
           "radialaxis": {
            "gridcolor": "white",
            "linecolor": "white",
            "ticks": ""
           }
          },
          "scene": {
           "xaxis": {
            "backgroundcolor": "#E5ECF6",
            "gridcolor": "white",
            "gridwidth": 2,
            "linecolor": "white",
            "showbackground": true,
            "ticks": "",
            "zerolinecolor": "white"
           },
           "yaxis": {
            "backgroundcolor": "#E5ECF6",
            "gridcolor": "white",
            "gridwidth": 2,
            "linecolor": "white",
            "showbackground": true,
            "ticks": "",
            "zerolinecolor": "white"
           },
           "zaxis": {
            "backgroundcolor": "#E5ECF6",
            "gridcolor": "white",
            "gridwidth": 2,
            "linecolor": "white",
            "showbackground": true,
            "ticks": "",
            "zerolinecolor": "white"
           }
          },
          "shapedefaults": {
           "line": {
            "color": "#2a3f5f"
           }
          },
          "ternary": {
           "aaxis": {
            "gridcolor": "white",
            "linecolor": "white",
            "ticks": ""
           },
           "baxis": {
            "gridcolor": "white",
            "linecolor": "white",
            "ticks": ""
           },
           "bgcolor": "#E5ECF6",
           "caxis": {
            "gridcolor": "white",
            "linecolor": "white",
            "ticks": ""
           }
          },
          "title": {
           "x": 0.05
          },
          "xaxis": {
           "automargin": true,
           "gridcolor": "white",
           "linecolor": "white",
           "ticks": "",
           "title": {
            "standoff": 15
           },
           "zerolinecolor": "white",
           "zerolinewidth": 2
          },
          "yaxis": {
           "automargin": true,
           "gridcolor": "white",
           "linecolor": "white",
           "ticks": "",
           "title": {
            "standoff": 15
           },
           "zerolinecolor": "white",
           "zerolinewidth": 2
          }
         }
        },
        "title": {
         "font": {
          "color": "#4D5663"
         }
        },
        "xaxis": {
         "gridcolor": "#E1E5ED",
         "showgrid": true,
         "tickfont": {
          "color": "#4D5663"
         },
         "title": {
          "font": {
           "color": "#4D5663"
          },
          "text": ""
         },
         "zerolinecolor": "#E1E5ED"
        },
        "yaxis": {
         "gridcolor": "#E1E5ED",
         "showgrid": true,
         "tickfont": {
          "color": "#4D5663"
         },
         "title": {
          "font": {
           "color": "#4D5663"
          },
          "text": ""
         },
         "zerolinecolor": "#E1E5ED"
        }
       }
      },
      "text/html": [
       "<div>                            <div id=\"06e91527-c440-4d63-9489-2a58a16f3199\" class=\"plotly-graph-div\" style=\"height:525px; width:100%;\"></div>            <script type=\"text/javascript\">                require([\"plotly\"], function(Plotly) {                    window.PLOTLYENV=window.PLOTLYENV || {};\n",
       "                    window.PLOTLYENV.BASE_URL='https://plot.ly';                                    if (document.getElementById(\"06e91527-c440-4d63-9489-2a58a16f3199\")) {                    Plotly.newPlot(                        \"06e91527-c440-4d63-9489-2a58a16f3199\",                        [{\"marker\":{\"color\":[\"rgb(255, 153, 51)\",\"rgb(55, 128, 191)\",\"rgb(50, 171, 96)\",\"rgb(128, 0, 128)\",\"rgb(219, 64, 82)\",\"rgb(0, 128, 128)\",\"rgb(255, 255, 51)\",\"rgb(128, 128, 0)\",\"rgb(251, 128, 114)\",\"rgb(128, 177, 211)\"],\"line\":{\"width\":1.3},\"size\":[58,36,73,76,43,77,79,63,62,93,86,63,73,71,47,98,63,105,89,98,29,45,64,35,43,53,63,41,85,89,67,61,40,51,107,44,60,46,55,55,56,51,12,69,73,58,64,79,37,33,92,57,80,76,27,27,59,80,82,62,66,72,91,74,89,108,104,93,55,74,50,46,74,49,75,46,80,112,88,46,63,68,68,81,88,44,51,46,57,86,37,66,83,27,53,46,19,70,84,59],\"symbol\":\"circle\"},\"mode\":\"markers\",\"text\":\"\",\"x\":[0.4278303063139346,-0.17960339661206842,1.0164042618967994,-0.7122789625358378,-0.6470161726957598,-1.5391054711001806,-0.816419876227612,0.14992634819113262,-0.2538297184910725,0.4011312596835835,-0.35121217557811146,-0.08067457705225729,-1.2864396719186408,0.46615802073452944,-0.3186788122439116,1.0143288516154085,-2.2806490282504535,0.40384690521168326,0.6018005259883966,-0.25978009976335664,-1.1669122342579856,0.8573994100521745,0.8623475326006868,-0.3544586484489518,0.4110630086982138,-0.32937147502200953,0.8971370723551457,0.42079992650952014,-0.4723624434704465,0.12777627493488986,0.4889927615403592,-0.9481653064033165,0.10111690399406939,-0.5199092906505531,-0.9131480083912413,1.091390985730131,-1.166766293120185,0.20757181583433243,0.6829620194836434,-1.0930355069538578,-0.02650130330699229,-1.2924400269578538,0.14418601175977652,-0.20223854166849403,0.19208883138239824,-0.18114204996310787,-0.19841663539400559,1.8385362877297255,0.15384934369884648,-0.3098194447686136,-1.2045370228630572,0.5327550476824217,-0.29441402000600364,0.3709208833043238,-1.5092728793466288,0.5191502262763877,1.4637639676598087,-0.7232252992171272,0.6980766119028778,-0.7563825513013476,-0.7421339581048623,1.121264011877191,0.013752107630780407,-0.5892825852411415,0.6056490857330595,0.9780201457682005,0.3394107574260655,-0.29779406831739264,-0.8249862472503384,-0.006608688646789804,0.9173723910209661,-0.03603833862910183,-0.6990592443026739,-1.342749352000533,-1.7062572618616654,-0.4379870105257444,-0.37396788969217615,-1.2152159255979396,0.85898836922212,0.2853468800286372,0.08525587871536675,0.3440875236892165,0.43424037380948755,0.5175629844710247,-0.06289870370813987,-0.3717812990629133,-1.3435656884172564,2.1465656501241304,0.9877233116000835,0.04448063913151714,-0.5020413908536919,0.13533132322167515,-0.4085192034480075,-0.5307015361759451,0.8328125615881095,0.16467398244369646,0.3384160963082231,0.5451546074803042,0.565600486678321,0.7341938436024419],\"y\":[0.48306040414083834,0.009058351407117657,-0.10115869895854517,1.299364507421079,-0.917630514349454,-0.0004417653346297867,-0.40798279547156635,0.3444360696810804,-0.5303963906334963,0.16405004030193343,0.3350632725543995,-0.1981882405566007,-0.24432705870638655,1.096647494957282,0.3648057242653707,1.792685105555086,1.4643582511094944,-0.8544839418659624,-0.9191036875899685,0.5677118433595862,0.3644188202879386,0.33595984166710796,1.9936047851335992,-0.3184669272450796,0.32975569755681217,0.4260629510999024,0.23486176179843596,-1.086942248367033,0.3674910042928074,-0.46547162469799963,-0.9924427421111863,-2.1406810439355066,-0.21469032628104553,-0.12076619656413162,0.7647436190552594,0.4929088265880474,-0.8771908460491088,2.1777215427021996,0.04436592206782866,-0.0073038619111890565,1.4963995074604057,-0.46116149162445347,-0.9719021840295913,0.6605389800911491,-1.160605255775432,0.6757450195029824,-0.6991125021178969,0.5398846034108065,-0.4066398571344095,-0.31589064660126354,-0.7208238632743234,-0.383731214271165,-1.3536096966031266,0.4987596504299444,0.22804262761234906,-0.9882108951751464,0.6127722213063093,-0.9834991873284643,0.14950554896813462,0.4830956263791654,0.17451464216515458,-1.816099518246873,1.1385736700100326,-1.0036133687647835,0.8188788059107236,1.157425588927253,-1.1723531019569493,-0.07573755585923887,0.17966228070772516,0.6285754121275586,1.1372469738815771,-0.28269154554196035,0.7165406494548696,-0.23007318691659548,-0.8883280341101701,0.3281056679583895,-0.5449040671497705,-1.5170140313832825,0.7159357051909687,1.2061881235431922,-1.487080206258318,0.219275882063202,0.007041079866349726,0.2331570317320377,0.0034261754096381295,0.08514670420553244,-1.1107420851889813,1.8460938344620215,-0.21158616035407998,0.0044370729423990705,-0.39390964225737446,-1.222526038408339,-0.43863339052296013,-0.08599763750602338,-0.7734350600969128,-0.12144896846053277,-0.18775311587229412,1.4392171860459413,-0.2882843728195542,0.364549423795677],\"type\":\"scatter\"}],                        {\"legend\":{\"bgcolor\":\"#F5F6F9\",\"font\":{\"color\":\"#4D5663\"}},\"paper_bgcolor\":\"#F5F6F9\",\"plot_bgcolor\":\"#F5F6F9\",\"template\":{\"data\":{\"barpolar\":[{\"marker\":{\"line\":{\"color\":\"#E5ECF6\",\"width\":0.5},\"pattern\":{\"fillmode\":\"overlay\",\"size\":10,\"solidity\":0.2}},\"type\":\"barpolar\"}],\"bar\":[{\"error_x\":{\"color\":\"#2a3f5f\"},\"error_y\":{\"color\":\"#2a3f5f\"},\"marker\":{\"line\":{\"color\":\"#E5ECF6\",\"width\":0.5},\"pattern\":{\"fillmode\":\"overlay\",\"size\":10,\"solidity\":0.2}},\"type\":\"bar\"}],\"carpet\":[{\"aaxis\":{\"endlinecolor\":\"#2a3f5f\",\"gridcolor\":\"white\",\"linecolor\":\"white\",\"minorgridcolor\":\"white\",\"startlinecolor\":\"#2a3f5f\"},\"baxis\":{\"endlinecolor\":\"#2a3f5f\",\"gridcolor\":\"white\",\"linecolor\":\"white\",\"minorgridcolor\":\"white\",\"startlinecolor\":\"#2a3f5f\"},\"type\":\"carpet\"}],\"choropleth\":[{\"colorbar\":{\"outlinewidth\":0,\"ticks\":\"\"},\"type\":\"choropleth\"}],\"contourcarpet\":[{\"colorbar\":{\"outlinewidth\":0,\"ticks\":\"\"},\"type\":\"contourcarpet\"}],\"contour\":[{\"colorbar\":{\"outlinewidth\":0,\"ticks\":\"\"},\"colorscale\":[[0.0,\"#0d0887\"],[0.1111111111111111,\"#46039f\"],[0.2222222222222222,\"#7201a8\"],[0.3333333333333333,\"#9c179e\"],[0.4444444444444444,\"#bd3786\"],[0.5555555555555556,\"#d8576b\"],[0.6666666666666666,\"#ed7953\"],[0.7777777777777778,\"#fb9f3a\"],[0.8888888888888888,\"#fdca26\"],[1.0,\"#f0f921\"]],\"type\":\"contour\"}],\"heatmapgl\":[{\"colorbar\":{\"outlinewidth\":0,\"ticks\":\"\"},\"colorscale\":[[0.0,\"#0d0887\"],[0.1111111111111111,\"#46039f\"],[0.2222222222222222,\"#7201a8\"],[0.3333333333333333,\"#9c179e\"],[0.4444444444444444,\"#bd3786\"],[0.5555555555555556,\"#d8576b\"],[0.6666666666666666,\"#ed7953\"],[0.7777777777777778,\"#fb9f3a\"],[0.8888888888888888,\"#fdca26\"],[1.0,\"#f0f921\"]],\"type\":\"heatmapgl\"}],\"heatmap\":[{\"colorbar\":{\"outlinewidth\":0,\"ticks\":\"\"},\"colorscale\":[[0.0,\"#0d0887\"],[0.1111111111111111,\"#46039f\"],[0.2222222222222222,\"#7201a8\"],[0.3333333333333333,\"#9c179e\"],[0.4444444444444444,\"#bd3786\"],[0.5555555555555556,\"#d8576b\"],[0.6666666666666666,\"#ed7953\"],[0.7777777777777778,\"#fb9f3a\"],[0.8888888888888888,\"#fdca26\"],[1.0,\"#f0f921\"]],\"type\":\"heatmap\"}],\"histogram2dcontour\":[{\"colorbar\":{\"outlinewidth\":0,\"ticks\":\"\"},\"colorscale\":[[0.0,\"#0d0887\"],[0.1111111111111111,\"#46039f\"],[0.2222222222222222,\"#7201a8\"],[0.3333333333333333,\"#9c179e\"],[0.4444444444444444,\"#bd3786\"],[0.5555555555555556,\"#d8576b\"],[0.6666666666666666,\"#ed7953\"],[0.7777777777777778,\"#fb9f3a\"],[0.8888888888888888,\"#fdca26\"],[1.0,\"#f0f921\"]],\"type\":\"histogram2dcontour\"}],\"histogram2d\":[{\"colorbar\":{\"outlinewidth\":0,\"ticks\":\"\"},\"colorscale\":[[0.0,\"#0d0887\"],[0.1111111111111111,\"#46039f\"],[0.2222222222222222,\"#7201a8\"],[0.3333333333333333,\"#9c179e\"],[0.4444444444444444,\"#bd3786\"],[0.5555555555555556,\"#d8576b\"],[0.6666666666666666,\"#ed7953\"],[0.7777777777777778,\"#fb9f3a\"],[0.8888888888888888,\"#fdca26\"],[1.0,\"#f0f921\"]],\"type\":\"histogram2d\"}],\"histogram\":[{\"marker\":{\"pattern\":{\"fillmode\":\"overlay\",\"size\":10,\"solidity\":0.2}},\"type\":\"histogram\"}],\"mesh3d\":[{\"colorbar\":{\"outlinewidth\":0,\"ticks\":\"\"},\"type\":\"mesh3d\"}],\"parcoords\":[{\"line\":{\"colorbar\":{\"outlinewidth\":0,\"ticks\":\"\"}},\"type\":\"parcoords\"}],\"pie\":[{\"automargin\":true,\"type\":\"pie\"}],\"scatter3d\":[{\"line\":{\"colorbar\":{\"outlinewidth\":0,\"ticks\":\"\"}},\"marker\":{\"colorbar\":{\"outlinewidth\":0,\"ticks\":\"\"}},\"type\":\"scatter3d\"}],\"scattercarpet\":[{\"marker\":{\"colorbar\":{\"outlinewidth\":0,\"ticks\":\"\"}},\"type\":\"scattercarpet\"}],\"scattergeo\":[{\"marker\":{\"colorbar\":{\"outlinewidth\":0,\"ticks\":\"\"}},\"type\":\"scattergeo\"}],\"scattergl\":[{\"marker\":{\"colorbar\":{\"outlinewidth\":0,\"ticks\":\"\"}},\"type\":\"scattergl\"}],\"scattermapbox\":[{\"marker\":{\"colorbar\":{\"outlinewidth\":0,\"ticks\":\"\"}},\"type\":\"scattermapbox\"}],\"scatterpolargl\":[{\"marker\":{\"colorbar\":{\"outlinewidth\":0,\"ticks\":\"\"}},\"type\":\"scatterpolargl\"}],\"scatterpolar\":[{\"marker\":{\"colorbar\":{\"outlinewidth\":0,\"ticks\":\"\"}},\"type\":\"scatterpolar\"}],\"scatter\":[{\"fillpattern\":{\"fillmode\":\"overlay\",\"size\":10,\"solidity\":0.2},\"type\":\"scatter\"}],\"scatterternary\":[{\"marker\":{\"colorbar\":{\"outlinewidth\":0,\"ticks\":\"\"}},\"type\":\"scatterternary\"}],\"surface\":[{\"colorbar\":{\"outlinewidth\":0,\"ticks\":\"\"},\"colorscale\":[[0.0,\"#0d0887\"],[0.1111111111111111,\"#46039f\"],[0.2222222222222222,\"#7201a8\"],[0.3333333333333333,\"#9c179e\"],[0.4444444444444444,\"#bd3786\"],[0.5555555555555556,\"#d8576b\"],[0.6666666666666666,\"#ed7953\"],[0.7777777777777778,\"#fb9f3a\"],[0.8888888888888888,\"#fdca26\"],[1.0,\"#f0f921\"]],\"type\":\"surface\"}],\"table\":[{\"cells\":{\"fill\":{\"color\":\"#EBF0F8\"},\"line\":{\"color\":\"white\"}},\"header\":{\"fill\":{\"color\":\"#C8D4E3\"},\"line\":{\"color\":\"white\"}},\"type\":\"table\"}]},\"layout\":{\"annotationdefaults\":{\"arrowcolor\":\"#2a3f5f\",\"arrowhead\":0,\"arrowwidth\":1},\"autotypenumbers\":\"strict\",\"coloraxis\":{\"colorbar\":{\"outlinewidth\":0,\"ticks\":\"\"}},\"colorscale\":{\"diverging\":[[0,\"#8e0152\"],[0.1,\"#c51b7d\"],[0.2,\"#de77ae\"],[0.3,\"#f1b6da\"],[0.4,\"#fde0ef\"],[0.5,\"#f7f7f7\"],[0.6,\"#e6f5d0\"],[0.7,\"#b8e186\"],[0.8,\"#7fbc41\"],[0.9,\"#4d9221\"],[1,\"#276419\"]],\"sequential\":[[0.0,\"#0d0887\"],[0.1111111111111111,\"#46039f\"],[0.2222222222222222,\"#7201a8\"],[0.3333333333333333,\"#9c179e\"],[0.4444444444444444,\"#bd3786\"],[0.5555555555555556,\"#d8576b\"],[0.6666666666666666,\"#ed7953\"],[0.7777777777777778,\"#fb9f3a\"],[0.8888888888888888,\"#fdca26\"],[1.0,\"#f0f921\"]],\"sequentialminus\":[[0.0,\"#0d0887\"],[0.1111111111111111,\"#46039f\"],[0.2222222222222222,\"#7201a8\"],[0.3333333333333333,\"#9c179e\"],[0.4444444444444444,\"#bd3786\"],[0.5555555555555556,\"#d8576b\"],[0.6666666666666666,\"#ed7953\"],[0.7777777777777778,\"#fb9f3a\"],[0.8888888888888888,\"#fdca26\"],[1.0,\"#f0f921\"]]},\"colorway\":[\"#636efa\",\"#EF553B\",\"#00cc96\",\"#ab63fa\",\"#FFA15A\",\"#19d3f3\",\"#FF6692\",\"#B6E880\",\"#FF97FF\",\"#FECB52\"],\"font\":{\"color\":\"#2a3f5f\"},\"geo\":{\"bgcolor\":\"white\",\"lakecolor\":\"white\",\"landcolor\":\"#E5ECF6\",\"showlakes\":true,\"showland\":true,\"subunitcolor\":\"white\"},\"hoverlabel\":{\"align\":\"left\"},\"hovermode\":\"closest\",\"mapbox\":{\"style\":\"light\"},\"paper_bgcolor\":\"white\",\"plot_bgcolor\":\"#E5ECF6\",\"polar\":{\"angularaxis\":{\"gridcolor\":\"white\",\"linecolor\":\"white\",\"ticks\":\"\"},\"bgcolor\":\"#E5ECF6\",\"radialaxis\":{\"gridcolor\":\"white\",\"linecolor\":\"white\",\"ticks\":\"\"}},\"scene\":{\"xaxis\":{\"backgroundcolor\":\"#E5ECF6\",\"gridcolor\":\"white\",\"gridwidth\":2,\"linecolor\":\"white\",\"showbackground\":true,\"ticks\":\"\",\"zerolinecolor\":\"white\"},\"yaxis\":{\"backgroundcolor\":\"#E5ECF6\",\"gridcolor\":\"white\",\"gridwidth\":2,\"linecolor\":\"white\",\"showbackground\":true,\"ticks\":\"\",\"zerolinecolor\":\"white\"},\"zaxis\":{\"backgroundcolor\":\"#E5ECF6\",\"gridcolor\":\"white\",\"gridwidth\":2,\"linecolor\":\"white\",\"showbackground\":true,\"ticks\":\"\",\"zerolinecolor\":\"white\"}},\"shapedefaults\":{\"line\":{\"color\":\"#2a3f5f\"}},\"ternary\":{\"aaxis\":{\"gridcolor\":\"white\",\"linecolor\":\"white\",\"ticks\":\"\"},\"baxis\":{\"gridcolor\":\"white\",\"linecolor\":\"white\",\"ticks\":\"\"},\"bgcolor\":\"#E5ECF6\",\"caxis\":{\"gridcolor\":\"white\",\"linecolor\":\"white\",\"ticks\":\"\"}},\"title\":{\"x\":0.05},\"xaxis\":{\"automargin\":true,\"gridcolor\":\"white\",\"linecolor\":\"white\",\"ticks\":\"\",\"title\":{\"standoff\":15},\"zerolinecolor\":\"white\",\"zerolinewidth\":2},\"yaxis\":{\"automargin\":true,\"gridcolor\":\"white\",\"linecolor\":\"white\",\"ticks\":\"\",\"title\":{\"standoff\":15},\"zerolinecolor\":\"white\",\"zerolinewidth\":2}}},\"title\":{\"font\":{\"color\":\"#4D5663\"}},\"xaxis\":{\"gridcolor\":\"#E1E5ED\",\"showgrid\":true,\"tickfont\":{\"color\":\"#4D5663\"},\"title\":{\"font\":{\"color\":\"#4D5663\"},\"text\":\"\"},\"zerolinecolor\":\"#E1E5ED\"},\"yaxis\":{\"gridcolor\":\"#E1E5ED\",\"showgrid\":true,\"tickfont\":{\"color\":\"#4D5663\"},\"title\":{\"font\":{\"color\":\"#4D5663\"},\"text\":\"\"},\"zerolinecolor\":\"#E1E5ED\"}},                        {\"showLink\": true, \"linkText\": \"Export to plot.ly\", \"plotlyServerURL\": \"https://plot.ly\", \"responsive\": true}                    ).then(function(){\n",
       "                            \n",
       "var gd = document.getElementById('06e91527-c440-4d63-9489-2a58a16f3199');\n",
       "var x = new MutationObserver(function (mutations, observer) {{\n",
       "        var display = window.getComputedStyle(gd).display;\n",
       "        if (!display || display === 'none') {{\n",
       "            console.log([gd, 'removed!']);\n",
       "            Plotly.purge(gd);\n",
       "            observer.disconnect();\n",
       "        }}\n",
       "}});\n",
       "\n",
       "// Listen for the removal of the full notebook cells\n",
       "var notebookContainer = gd.closest('#notebook-container');\n",
       "if (notebookContainer) {{\n",
       "    x.observe(notebookContainer, {childList: true});\n",
       "}}\n",
       "\n",
       "// Listen for the clearing of the current output cell\n",
       "var outputEl = gd.closest('.output');\n",
       "if (outputEl) {{\n",
       "    x.observe(outputEl, {childList: true});\n",
       "}}\n",
       "\n",
       "                        })                };                });            </script>        </div>"
      ]
     },
     "metadata": {},
     "output_type": "display_data"
    }
   ],
   "source": [
    "df.iplot(kind='bubble', x='A',y='B', size='C')"
   ]
  },
  {
   "cell_type": "code",
   "execution_count": 66,
   "id": "e19b116f",
   "metadata": {
    "ExecuteTime": {
     "end_time": "2023-03-23T12:13:34.342309Z",
     "start_time": "2023-03-23T12:13:33.782039Z"
    }
   },
   "outputs": [
    {
     "data": {
      "application/vnd.plotly.v1+json": {
       "config": {
        "linkText": "Export to plot.ly",
        "plotlyServerURL": "https://plot.ly",
        "showLink": true
       },
       "data": [
        {
         "histfunc": "count",
         "histnorm": "",
         "marker": {
          "color": "rgba(255, 153, 51, 1.0)",
          "line": {
           "color": "#4D5663",
           "width": 1.3
          }
         },
         "name": "A",
         "nbinsx": 10,
         "opacity": 0.8,
         "orientation": "v",
         "type": "histogram",
         "x": [
          0.4278303063139346,
          -0.17960339661206842,
          1.0164042618967994,
          -0.7122789625358378,
          -0.6470161726957598,
          -1.5391054711001806,
          -0.816419876227612,
          0.14992634819113262,
          -0.2538297184910725,
          0.4011312596835835,
          -0.35121217557811146,
          -0.08067457705225729,
          -1.2864396719186408,
          0.46615802073452944,
          -0.3186788122439116,
          1.0143288516154085,
          -2.2806490282504535,
          0.40384690521168326,
          0.6018005259883966,
          -0.25978009976335664,
          -1.1669122342579856,
          0.8573994100521745,
          0.8623475326006868,
          -0.3544586484489518,
          0.4110630086982138,
          -0.32937147502200953,
          0.8971370723551457,
          0.42079992650952014,
          -0.4723624434704465,
          0.12777627493488986,
          0.4889927615403592,
          -0.9481653064033165,
          0.10111690399406939,
          -0.5199092906505531,
          -0.9131480083912413,
          1.091390985730131,
          -1.166766293120185,
          0.20757181583433243,
          0.6829620194836434,
          -1.0930355069538578,
          -0.02650130330699229,
          -1.2924400269578538,
          0.14418601175977652,
          -0.20223854166849403,
          0.19208883138239824,
          -0.18114204996310787,
          -0.19841663539400559,
          1.8385362877297255,
          0.15384934369884648,
          -0.3098194447686136,
          -1.2045370228630572,
          0.5327550476824217,
          -0.29441402000600364,
          0.3709208833043238,
          -1.5092728793466288,
          0.5191502262763877,
          1.4637639676598087,
          -0.7232252992171272,
          0.6980766119028778,
          -0.7563825513013476,
          -0.7421339581048623,
          1.121264011877191,
          0.013752107630780407,
          -0.5892825852411415,
          0.6056490857330595,
          0.9780201457682005,
          0.3394107574260655,
          -0.29779406831739264,
          -0.8249862472503384,
          -0.006608688646789804,
          0.9173723910209661,
          -0.03603833862910183,
          -0.6990592443026739,
          -1.342749352000533,
          -1.7062572618616654,
          -0.4379870105257444,
          -0.37396788969217615,
          -1.2152159255979396,
          0.85898836922212,
          0.2853468800286372,
          0.08525587871536675,
          0.3440875236892165,
          0.43424037380948755,
          0.5175629844710247,
          -0.06289870370813987,
          -0.3717812990629133,
          -1.3435656884172564,
          2.1465656501241304,
          0.9877233116000835,
          0.04448063913151714,
          -0.5020413908536919,
          0.13533132322167515,
          -0.4085192034480075,
          -0.5307015361759451,
          0.8328125615881095,
          0.16467398244369646,
          0.3384160963082231,
          0.5451546074803042,
          0.565600486678321,
          0.7341938436024419
         ],
         "xaxis": "x",
         "yaxis": "y"
        },
        {
         "line": {
          "color": "rgba(128, 128, 128, 1.0)",
          "dash": "solid",
          "shape": "linear",
          "width": 1.3
         },
         "marker": {
          "size": 2,
          "symbol": "circle"
         },
         "mode": "markers",
         "name": "A",
         "text": "",
         "type": "scatter",
         "x": [
          0.48306040414083834,
          0.009058351407117657,
          -0.10115869895854517,
          1.299364507421079,
          -0.917630514349454,
          -0.0004417653346297867,
          -0.40798279547156635,
          0.3444360696810804,
          -0.5303963906334963,
          0.16405004030193343,
          0.3350632725543995,
          -0.1981882405566007,
          -0.24432705870638655,
          1.096647494957282,
          0.3648057242653707,
          1.792685105555086,
          1.4643582511094944,
          -0.8544839418659624,
          -0.9191036875899685,
          0.5677118433595862,
          0.3644188202879386,
          0.33595984166710796,
          1.9936047851335992,
          -0.3184669272450796,
          0.32975569755681217,
          0.4260629510999024,
          0.23486176179843596,
          -1.086942248367033,
          0.3674910042928074,
          -0.46547162469799963,
          -0.9924427421111863,
          -2.1406810439355066,
          -0.21469032628104553,
          -0.12076619656413162,
          0.7647436190552594,
          0.4929088265880474,
          -0.8771908460491088,
          2.1777215427021996,
          0.04436592206782866,
          -0.0073038619111890565,
          1.4963995074604057,
          -0.46116149162445347,
          -0.9719021840295913,
          0.6605389800911491,
          -1.160605255775432,
          0.6757450195029824,
          -0.6991125021178969,
          0.5398846034108065,
          -0.4066398571344095,
          -0.31589064660126354,
          -0.7208238632743234,
          -0.383731214271165,
          -1.3536096966031266,
          0.4987596504299444,
          0.22804262761234906,
          -0.9882108951751464,
          0.6127722213063093,
          -0.9834991873284643,
          0.14950554896813462,
          0.4830956263791654,
          0.17451464216515458,
          -1.816099518246873,
          1.1385736700100326,
          -1.0036133687647835,
          0.8188788059107236,
          1.157425588927253,
          -1.1723531019569493,
          -0.07573755585923887,
          0.17966228070772516,
          0.6285754121275586,
          1.1372469738815771,
          -0.28269154554196035,
          0.7165406494548696,
          -0.23007318691659548,
          -0.8883280341101701,
          0.3281056679583895,
          -0.5449040671497705,
          -1.5170140313832825,
          0.7159357051909687,
          1.2061881235431922,
          -1.487080206258318,
          0.219275882063202,
          0.007041079866349726,
          0.2331570317320377,
          0.0034261754096381295,
          0.08514670420553244,
          -1.1107420851889813,
          1.8460938344620215,
          -0.21158616035407998,
          0.0044370729423990705,
          -0.39390964225737446,
          -1.222526038408339,
          -0.43863339052296013,
          -0.08599763750602338,
          -0.7734350600969128,
          -0.12144896846053277,
          -0.18775311587229412,
          1.4392171860459413,
          -0.2882843728195542,
          0.364549423795677
         ],
         "xaxis": "x2",
         "y": [
          0.4278303063139346,
          -0.17960339661206842,
          1.0164042618967994,
          -0.7122789625358378,
          -0.6470161726957598,
          -1.5391054711001806,
          -0.816419876227612,
          0.14992634819113262,
          -0.2538297184910725,
          0.4011312596835835,
          -0.35121217557811146,
          -0.08067457705225729,
          -1.2864396719186408,
          0.46615802073452944,
          -0.3186788122439116,
          1.0143288516154085,
          -2.2806490282504535,
          0.40384690521168326,
          0.6018005259883966,
          -0.25978009976335664,
          -1.1669122342579856,
          0.8573994100521745,
          0.8623475326006868,
          -0.3544586484489518,
          0.4110630086982138,
          -0.32937147502200953,
          0.8971370723551457,
          0.42079992650952014,
          -0.4723624434704465,
          0.12777627493488986,
          0.4889927615403592,
          -0.9481653064033165,
          0.10111690399406939,
          -0.5199092906505531,
          -0.9131480083912413,
          1.091390985730131,
          -1.166766293120185,
          0.20757181583433243,
          0.6829620194836434,
          -1.0930355069538578,
          -0.02650130330699229,
          -1.2924400269578538,
          0.14418601175977652,
          -0.20223854166849403,
          0.19208883138239824,
          -0.18114204996310787,
          -0.19841663539400559,
          1.8385362877297255,
          0.15384934369884648,
          -0.3098194447686136,
          -1.2045370228630572,
          0.5327550476824217,
          -0.29441402000600364,
          0.3709208833043238,
          -1.5092728793466288,
          0.5191502262763877,
          1.4637639676598087,
          -0.7232252992171272,
          0.6980766119028778,
          -0.7563825513013476,
          -0.7421339581048623,
          1.121264011877191,
          0.013752107630780407,
          -0.5892825852411415,
          0.6056490857330595,
          0.9780201457682005,
          0.3394107574260655,
          -0.29779406831739264,
          -0.8249862472503384,
          -0.006608688646789804,
          0.9173723910209661,
          -0.03603833862910183,
          -0.6990592443026739,
          -1.342749352000533,
          -1.7062572618616654,
          -0.4379870105257444,
          -0.37396788969217615,
          -1.2152159255979396,
          0.85898836922212,
          0.2853468800286372,
          0.08525587871536675,
          0.3440875236892165,
          0.43424037380948755,
          0.5175629844710247,
          -0.06289870370813987,
          -0.3717812990629133,
          -1.3435656884172564,
          2.1465656501241304,
          0.9877233116000835,
          0.04448063913151714,
          -0.5020413908536919,
          0.13533132322167515,
          -0.4085192034480075,
          -0.5307015361759451,
          0.8328125615881095,
          0.16467398244369646,
          0.3384160963082231,
          0.5451546074803042,
          0.565600486678321,
          0.7341938436024419
         ],
         "yaxis": "y2"
        },
        {
         "line": {
          "color": "rgba(128, 128, 128, 1.0)",
          "dash": "solid",
          "shape": "linear",
          "width": 1.3
         },
         "marker": {
          "size": 2,
          "symbol": "circle"
         },
         "mode": "markers",
         "name": "A",
         "text": "",
         "type": "scatter",
         "x": [
          -0.24206467032319814,
          -1.2631525698375463,
          0.4594071214617641,
          0.60077235908034,
          -0.9265626233504829,
          0.6756216034502802,
          0.7434142581111773,
          0.018262130597430336,
          -0.06392608339156247,
          1.4060464622338318,
          1.0686269655137899,
          0.002754273374794008,
          0.4605672689199664,
          0.39263815023305654,
          -0.7329865214766967,
          1.6297002427753362,
          -0.0008107283884601559,
          1.9765014199108537,
          1.2096049063087697,
          1.6213248538289111,
          -1.585873889736527,
          -0.8651655009854876,
          0.020988001541876446,
          -1.3406838702958856,
          -0.951200160119948,
          -0.497654320179825,
          -0.021054458357745297,
          -1.0574593040360256,
          1.0294055755935148,
          1.2163001342613522,
          0.17970515970423812,
          -0.11760176641969425,
          -1.0969510943885759,
          -0.5868858904725097,
          2.083934082971225,
          -0.9181885756735065,
          -0.1553782987340766,
          -0.820988776654748,
          -0.3804720882188407,
          -0.35752641236018046,
          -0.35401246761989624,
          -0.5775830532493539,
          -2.424900350237003,
          0.2855207075604285,
          0.46936376753898157,
          -0.21746001938038956,
          0.06450952686778252,
          0.7444671538036397,
          -1.2248250486686556,
          -1.416788946235324,
          1.3705699230468036,
          -0.2893623524636134,
          0.7887332621839191,
          0.6265750340329868,
          -1.7050938119207735,
          -1.710626378654247,
          -0.17212900337049927,
          0.786445692495372,
          0.8728446850178994,
          -0.04713310597221714,
          0.13142099172018107,
          0.39726379664821326,
          1.322607054992196,
          0.5354512919666429,
          1.2374262494474055,
          2.116237482381573,
          1.9044511430298887,
          1.391112716532458,
          -0.35693852947472154,
          0.4918662133612119,
          -0.5922710055561605,
          -0.7878598194918272,
          0.5265707948268116,
          -0.642020950111216,
          0.5517844245714252,
          -0.7934961397371885,
          0.7908296097983124,
          2.275523536747189,
          1.1606453869673206,
          -0.7974626361895323,
          0.005581955560807476,
          0.21689162723437547,
          0.22298419441339054,
          0.8200441699855056,
          1.19166521369793,
          -0.8976133213470465,
          -0.567476953648249,
          -0.7809052141714418,
          -0.27644458517576165,
          1.0616591780119478,
          -1.2363549285298678,
          0.1262708566305871,
          0.9525493443749347,
          -1.6866168540938908,
          -0.4902723986210022,
          -0.7992571135728221,
          -2.074657039634036,
          0.30943950283626537,
          0.9782524876015997,
          -0.1773164998324019
         ],
         "xaxis": "x3",
         "y": [
          0.4278303063139346,
          -0.17960339661206842,
          1.0164042618967994,
          -0.7122789625358378,
          -0.6470161726957598,
          -1.5391054711001806,
          -0.816419876227612,
          0.14992634819113262,
          -0.2538297184910725,
          0.4011312596835835,
          -0.35121217557811146,
          -0.08067457705225729,
          -1.2864396719186408,
          0.46615802073452944,
          -0.3186788122439116,
          1.0143288516154085,
          -2.2806490282504535,
          0.40384690521168326,
          0.6018005259883966,
          -0.25978009976335664,
          -1.1669122342579856,
          0.8573994100521745,
          0.8623475326006868,
          -0.3544586484489518,
          0.4110630086982138,
          -0.32937147502200953,
          0.8971370723551457,
          0.42079992650952014,
          -0.4723624434704465,
          0.12777627493488986,
          0.4889927615403592,
          -0.9481653064033165,
          0.10111690399406939,
          -0.5199092906505531,
          -0.9131480083912413,
          1.091390985730131,
          -1.166766293120185,
          0.20757181583433243,
          0.6829620194836434,
          -1.0930355069538578,
          -0.02650130330699229,
          -1.2924400269578538,
          0.14418601175977652,
          -0.20223854166849403,
          0.19208883138239824,
          -0.18114204996310787,
          -0.19841663539400559,
          1.8385362877297255,
          0.15384934369884648,
          -0.3098194447686136,
          -1.2045370228630572,
          0.5327550476824217,
          -0.29441402000600364,
          0.3709208833043238,
          -1.5092728793466288,
          0.5191502262763877,
          1.4637639676598087,
          -0.7232252992171272,
          0.6980766119028778,
          -0.7563825513013476,
          -0.7421339581048623,
          1.121264011877191,
          0.013752107630780407,
          -0.5892825852411415,
          0.6056490857330595,
          0.9780201457682005,
          0.3394107574260655,
          -0.29779406831739264,
          -0.8249862472503384,
          -0.006608688646789804,
          0.9173723910209661,
          -0.03603833862910183,
          -0.6990592443026739,
          -1.342749352000533,
          -1.7062572618616654,
          -0.4379870105257444,
          -0.37396788969217615,
          -1.2152159255979396,
          0.85898836922212,
          0.2853468800286372,
          0.08525587871536675,
          0.3440875236892165,
          0.43424037380948755,
          0.5175629844710247,
          -0.06289870370813987,
          -0.3717812990629133,
          -1.3435656884172564,
          2.1465656501241304,
          0.9877233116000835,
          0.04448063913151714,
          -0.5020413908536919,
          0.13533132322167515,
          -0.4085192034480075,
          -0.5307015361759451,
          0.8328125615881095,
          0.16467398244369646,
          0.3384160963082231,
          0.5451546074803042,
          0.565600486678321,
          0.7341938436024419
         ],
         "yaxis": "y3"
        },
        {
         "line": {
          "color": "rgba(128, 128, 128, 1.0)",
          "dash": "solid",
          "shape": "linear",
          "width": 1.3
         },
         "marker": {
          "size": 2,
          "symbol": "circle"
         },
         "mode": "markers",
         "name": "A",
         "text": "",
         "type": "scatter",
         "x": [
          -1.7133387861031382,
          -1.2932945006528207,
          0.14441817391879672,
          -0.46427328484531893,
          -1.3646050456562944,
          0.4686406470154942,
          0.7474547724221794,
          -0.675305811206826,
          0.758847914674031,
          0.7428028093361997,
          -0.4065924037422975,
          0.8064727208976706,
          0.2931240500444258,
          -1.0914232991042179,
          -2.0453820137163046,
          -0.2936273028983105,
          -0.14035412942006467,
          -0.8301817516350479,
          -0.7865457087503928,
          -1.1546250246981458,
          0.3215877269843798,
          -1.3839309511016578,
          0.08209020772287838,
          0.9304230655889154,
          0.31745222546584634,
          0.11193970003501555,
          1.7139986776284593,
          -2.0967803975447517,
          1.0511375814990898,
          0.6383915109140148,
          1.2555622054890245,
          -0.5508945322176529,
          0.18747842418344107,
          -0.9803099881452719,
          0.1467935250497945,
          -0.20256265797208975,
          1.567893903926729,
          -1.644143572382776,
          0.30826059921641225,
          -0.7387013328474691,
          -0.019446660009001256,
          1.326199758941917,
          1.0410750283906138,
          1.2395301701487318,
          -2.406092741659287,
          2.416574931180957,
          0.6882233525175699,
          0.04639932826401581,
          -0.16979647167446166,
          0.08403610728427734,
          -0.3219768344393413,
          0.030567251288725984,
          0.6387071244259642,
          2.0584786699697726,
          2.2729373305352922,
          -1.4912937903346457,
          -1.7143541593610665,
          -0.34648232336346285,
          -0.23503278285029994,
          -0.15948119829612942,
          0.5131560094607199,
          0.3991080890988705,
          -0.6343936102103105,
          -0.0940156804309552,
          -0.17713779298576451,
          -0.75443203752132,
          -0.4360212088269227,
          -0.49578419347288005,
          -1.0089817430408183,
          -0.45886311889243525,
          -0.20026747240539783,
          -1.8763166449135418,
          0.3735678516046811,
          0.804719500794733,
          1.1871386676158464,
          1.3186386149058955,
          -1.0325204869497864,
          -1.7590503779541997,
          0.7025720876217167,
          0.2678085853874164,
          -0.7554939802021241,
          -2.372721493554485,
          -1.3184213475425806,
          0.46209929466084504,
          -0.7232520394848614,
          1.2672793869050392,
          -1.3645244928619236,
          0.9613521435589473,
          -1.3753146341448226,
          0.2316998510860715,
          1.7574559430991654,
          -3.098889574485068,
          1.1375254421854166,
          -0.5386418392620599,
          1.2300015496189856,
          -0.07574961938385888,
          1.9618251717642414,
          1.299537326929035,
          -1.1235054198822467,
          0.5221874567126272
         ],
         "xaxis": "x4",
         "y": [
          0.4278303063139346,
          -0.17960339661206842,
          1.0164042618967994,
          -0.7122789625358378,
          -0.6470161726957598,
          -1.5391054711001806,
          -0.816419876227612,
          0.14992634819113262,
          -0.2538297184910725,
          0.4011312596835835,
          -0.35121217557811146,
          -0.08067457705225729,
          -1.2864396719186408,
          0.46615802073452944,
          -0.3186788122439116,
          1.0143288516154085,
          -2.2806490282504535,
          0.40384690521168326,
          0.6018005259883966,
          -0.25978009976335664,
          -1.1669122342579856,
          0.8573994100521745,
          0.8623475326006868,
          -0.3544586484489518,
          0.4110630086982138,
          -0.32937147502200953,
          0.8971370723551457,
          0.42079992650952014,
          -0.4723624434704465,
          0.12777627493488986,
          0.4889927615403592,
          -0.9481653064033165,
          0.10111690399406939,
          -0.5199092906505531,
          -0.9131480083912413,
          1.091390985730131,
          -1.166766293120185,
          0.20757181583433243,
          0.6829620194836434,
          -1.0930355069538578,
          -0.02650130330699229,
          -1.2924400269578538,
          0.14418601175977652,
          -0.20223854166849403,
          0.19208883138239824,
          -0.18114204996310787,
          -0.19841663539400559,
          1.8385362877297255,
          0.15384934369884648,
          -0.3098194447686136,
          -1.2045370228630572,
          0.5327550476824217,
          -0.29441402000600364,
          0.3709208833043238,
          -1.5092728793466288,
          0.5191502262763877,
          1.4637639676598087,
          -0.7232252992171272,
          0.6980766119028778,
          -0.7563825513013476,
          -0.7421339581048623,
          1.121264011877191,
          0.013752107630780407,
          -0.5892825852411415,
          0.6056490857330595,
          0.9780201457682005,
          0.3394107574260655,
          -0.29779406831739264,
          -0.8249862472503384,
          -0.006608688646789804,
          0.9173723910209661,
          -0.03603833862910183,
          -0.6990592443026739,
          -1.342749352000533,
          -1.7062572618616654,
          -0.4379870105257444,
          -0.37396788969217615,
          -1.2152159255979396,
          0.85898836922212,
          0.2853468800286372,
          0.08525587871536675,
          0.3440875236892165,
          0.43424037380948755,
          0.5175629844710247,
          -0.06289870370813987,
          -0.3717812990629133,
          -1.3435656884172564,
          2.1465656501241304,
          0.9877233116000835,
          0.04448063913151714,
          -0.5020413908536919,
          0.13533132322167515,
          -0.4085192034480075,
          -0.5307015361759451,
          0.8328125615881095,
          0.16467398244369646,
          0.3384160963082231,
          0.5451546074803042,
          0.565600486678321,
          0.7341938436024419
         ],
         "yaxis": "y4"
        },
        {
         "line": {
          "color": "rgba(128, 128, 128, 1.0)",
          "dash": "solid",
          "shape": "linear",
          "width": 1.3
         },
         "marker": {
          "size": 2,
          "symbol": "circle"
         },
         "mode": "markers",
         "name": "B",
         "text": "",
         "type": "scatter",
         "x": [
          0.4278303063139346,
          -0.17960339661206842,
          1.0164042618967994,
          -0.7122789625358378,
          -0.6470161726957598,
          -1.5391054711001806,
          -0.816419876227612,
          0.14992634819113262,
          -0.2538297184910725,
          0.4011312596835835,
          -0.35121217557811146,
          -0.08067457705225729,
          -1.2864396719186408,
          0.46615802073452944,
          -0.3186788122439116,
          1.0143288516154085,
          -2.2806490282504535,
          0.40384690521168326,
          0.6018005259883966,
          -0.25978009976335664,
          -1.1669122342579856,
          0.8573994100521745,
          0.8623475326006868,
          -0.3544586484489518,
          0.4110630086982138,
          -0.32937147502200953,
          0.8971370723551457,
          0.42079992650952014,
          -0.4723624434704465,
          0.12777627493488986,
          0.4889927615403592,
          -0.9481653064033165,
          0.10111690399406939,
          -0.5199092906505531,
          -0.9131480083912413,
          1.091390985730131,
          -1.166766293120185,
          0.20757181583433243,
          0.6829620194836434,
          -1.0930355069538578,
          -0.02650130330699229,
          -1.2924400269578538,
          0.14418601175977652,
          -0.20223854166849403,
          0.19208883138239824,
          -0.18114204996310787,
          -0.19841663539400559,
          1.8385362877297255,
          0.15384934369884648,
          -0.3098194447686136,
          -1.2045370228630572,
          0.5327550476824217,
          -0.29441402000600364,
          0.3709208833043238,
          -1.5092728793466288,
          0.5191502262763877,
          1.4637639676598087,
          -0.7232252992171272,
          0.6980766119028778,
          -0.7563825513013476,
          -0.7421339581048623,
          1.121264011877191,
          0.013752107630780407,
          -0.5892825852411415,
          0.6056490857330595,
          0.9780201457682005,
          0.3394107574260655,
          -0.29779406831739264,
          -0.8249862472503384,
          -0.006608688646789804,
          0.9173723910209661,
          -0.03603833862910183,
          -0.6990592443026739,
          -1.342749352000533,
          -1.7062572618616654,
          -0.4379870105257444,
          -0.37396788969217615,
          -1.2152159255979396,
          0.85898836922212,
          0.2853468800286372,
          0.08525587871536675,
          0.3440875236892165,
          0.43424037380948755,
          0.5175629844710247,
          -0.06289870370813987,
          -0.3717812990629133,
          -1.3435656884172564,
          2.1465656501241304,
          0.9877233116000835,
          0.04448063913151714,
          -0.5020413908536919,
          0.13533132322167515,
          -0.4085192034480075,
          -0.5307015361759451,
          0.8328125615881095,
          0.16467398244369646,
          0.3384160963082231,
          0.5451546074803042,
          0.565600486678321,
          0.7341938436024419
         ],
         "xaxis": "x5",
         "y": [
          0.48306040414083834,
          0.009058351407117657,
          -0.10115869895854517,
          1.299364507421079,
          -0.917630514349454,
          -0.0004417653346297867,
          -0.40798279547156635,
          0.3444360696810804,
          -0.5303963906334963,
          0.16405004030193343,
          0.3350632725543995,
          -0.1981882405566007,
          -0.24432705870638655,
          1.096647494957282,
          0.3648057242653707,
          1.792685105555086,
          1.4643582511094944,
          -0.8544839418659624,
          -0.9191036875899685,
          0.5677118433595862,
          0.3644188202879386,
          0.33595984166710796,
          1.9936047851335992,
          -0.3184669272450796,
          0.32975569755681217,
          0.4260629510999024,
          0.23486176179843596,
          -1.086942248367033,
          0.3674910042928074,
          -0.46547162469799963,
          -0.9924427421111863,
          -2.1406810439355066,
          -0.21469032628104553,
          -0.12076619656413162,
          0.7647436190552594,
          0.4929088265880474,
          -0.8771908460491088,
          2.1777215427021996,
          0.04436592206782866,
          -0.0073038619111890565,
          1.4963995074604057,
          -0.46116149162445347,
          -0.9719021840295913,
          0.6605389800911491,
          -1.160605255775432,
          0.6757450195029824,
          -0.6991125021178969,
          0.5398846034108065,
          -0.4066398571344095,
          -0.31589064660126354,
          -0.7208238632743234,
          -0.383731214271165,
          -1.3536096966031266,
          0.4987596504299444,
          0.22804262761234906,
          -0.9882108951751464,
          0.6127722213063093,
          -0.9834991873284643,
          0.14950554896813462,
          0.4830956263791654,
          0.17451464216515458,
          -1.816099518246873,
          1.1385736700100326,
          -1.0036133687647835,
          0.8188788059107236,
          1.157425588927253,
          -1.1723531019569493,
          -0.07573755585923887,
          0.17966228070772516,
          0.6285754121275586,
          1.1372469738815771,
          -0.28269154554196035,
          0.7165406494548696,
          -0.23007318691659548,
          -0.8883280341101701,
          0.3281056679583895,
          -0.5449040671497705,
          -1.5170140313832825,
          0.7159357051909687,
          1.2061881235431922,
          -1.487080206258318,
          0.219275882063202,
          0.007041079866349726,
          0.2331570317320377,
          0.0034261754096381295,
          0.08514670420553244,
          -1.1107420851889813,
          1.8460938344620215,
          -0.21158616035407998,
          0.0044370729423990705,
          -0.39390964225737446,
          -1.222526038408339,
          -0.43863339052296013,
          -0.08599763750602338,
          -0.7734350600969128,
          -0.12144896846053277,
          -0.18775311587229412,
          1.4392171860459413,
          -0.2882843728195542,
          0.364549423795677
         ],
         "yaxis": "y5"
        },
        {
         "histfunc": "count",
         "histnorm": "",
         "marker": {
          "color": "rgba(55, 128, 191, 1.0)",
          "line": {
           "color": "#4D5663",
           "width": 1.3
          }
         },
         "name": "B",
         "nbinsx": 10,
         "opacity": 0.8,
         "orientation": "v",
         "type": "histogram",
         "x": [
          0.48306040414083834,
          0.009058351407117657,
          -0.10115869895854517,
          1.299364507421079,
          -0.917630514349454,
          -0.0004417653346297867,
          -0.40798279547156635,
          0.3444360696810804,
          -0.5303963906334963,
          0.16405004030193343,
          0.3350632725543995,
          -0.1981882405566007,
          -0.24432705870638655,
          1.096647494957282,
          0.3648057242653707,
          1.792685105555086,
          1.4643582511094944,
          -0.8544839418659624,
          -0.9191036875899685,
          0.5677118433595862,
          0.3644188202879386,
          0.33595984166710796,
          1.9936047851335992,
          -0.3184669272450796,
          0.32975569755681217,
          0.4260629510999024,
          0.23486176179843596,
          -1.086942248367033,
          0.3674910042928074,
          -0.46547162469799963,
          -0.9924427421111863,
          -2.1406810439355066,
          -0.21469032628104553,
          -0.12076619656413162,
          0.7647436190552594,
          0.4929088265880474,
          -0.8771908460491088,
          2.1777215427021996,
          0.04436592206782866,
          -0.0073038619111890565,
          1.4963995074604057,
          -0.46116149162445347,
          -0.9719021840295913,
          0.6605389800911491,
          -1.160605255775432,
          0.6757450195029824,
          -0.6991125021178969,
          0.5398846034108065,
          -0.4066398571344095,
          -0.31589064660126354,
          -0.7208238632743234,
          -0.383731214271165,
          -1.3536096966031266,
          0.4987596504299444,
          0.22804262761234906,
          -0.9882108951751464,
          0.6127722213063093,
          -0.9834991873284643,
          0.14950554896813462,
          0.4830956263791654,
          0.17451464216515458,
          -1.816099518246873,
          1.1385736700100326,
          -1.0036133687647835,
          0.8188788059107236,
          1.157425588927253,
          -1.1723531019569493,
          -0.07573755585923887,
          0.17966228070772516,
          0.6285754121275586,
          1.1372469738815771,
          -0.28269154554196035,
          0.7165406494548696,
          -0.23007318691659548,
          -0.8883280341101701,
          0.3281056679583895,
          -0.5449040671497705,
          -1.5170140313832825,
          0.7159357051909687,
          1.2061881235431922,
          -1.487080206258318,
          0.219275882063202,
          0.007041079866349726,
          0.2331570317320377,
          0.0034261754096381295,
          0.08514670420553244,
          -1.1107420851889813,
          1.8460938344620215,
          -0.21158616035407998,
          0.0044370729423990705,
          -0.39390964225737446,
          -1.222526038408339,
          -0.43863339052296013,
          -0.08599763750602338,
          -0.7734350600969128,
          -0.12144896846053277,
          -0.18775311587229412,
          1.4392171860459413,
          -0.2882843728195542,
          0.364549423795677
         ],
         "xaxis": "x6",
         "yaxis": "y6"
        },
        {
         "line": {
          "color": "rgba(128, 128, 128, 1.0)",
          "dash": "solid",
          "shape": "linear",
          "width": 1.3
         },
         "marker": {
          "size": 2,
          "symbol": "circle"
         },
         "mode": "markers",
         "name": "B",
         "text": "",
         "type": "scatter",
         "x": [
          -0.24206467032319814,
          -1.2631525698375463,
          0.4594071214617641,
          0.60077235908034,
          -0.9265626233504829,
          0.6756216034502802,
          0.7434142581111773,
          0.018262130597430336,
          -0.06392608339156247,
          1.4060464622338318,
          1.0686269655137899,
          0.002754273374794008,
          0.4605672689199664,
          0.39263815023305654,
          -0.7329865214766967,
          1.6297002427753362,
          -0.0008107283884601559,
          1.9765014199108537,
          1.2096049063087697,
          1.6213248538289111,
          -1.585873889736527,
          -0.8651655009854876,
          0.020988001541876446,
          -1.3406838702958856,
          -0.951200160119948,
          -0.497654320179825,
          -0.021054458357745297,
          -1.0574593040360256,
          1.0294055755935148,
          1.2163001342613522,
          0.17970515970423812,
          -0.11760176641969425,
          -1.0969510943885759,
          -0.5868858904725097,
          2.083934082971225,
          -0.9181885756735065,
          -0.1553782987340766,
          -0.820988776654748,
          -0.3804720882188407,
          -0.35752641236018046,
          -0.35401246761989624,
          -0.5775830532493539,
          -2.424900350237003,
          0.2855207075604285,
          0.46936376753898157,
          -0.21746001938038956,
          0.06450952686778252,
          0.7444671538036397,
          -1.2248250486686556,
          -1.416788946235324,
          1.3705699230468036,
          -0.2893623524636134,
          0.7887332621839191,
          0.6265750340329868,
          -1.7050938119207735,
          -1.710626378654247,
          -0.17212900337049927,
          0.786445692495372,
          0.8728446850178994,
          -0.04713310597221714,
          0.13142099172018107,
          0.39726379664821326,
          1.322607054992196,
          0.5354512919666429,
          1.2374262494474055,
          2.116237482381573,
          1.9044511430298887,
          1.391112716532458,
          -0.35693852947472154,
          0.4918662133612119,
          -0.5922710055561605,
          -0.7878598194918272,
          0.5265707948268116,
          -0.642020950111216,
          0.5517844245714252,
          -0.7934961397371885,
          0.7908296097983124,
          2.275523536747189,
          1.1606453869673206,
          -0.7974626361895323,
          0.005581955560807476,
          0.21689162723437547,
          0.22298419441339054,
          0.8200441699855056,
          1.19166521369793,
          -0.8976133213470465,
          -0.567476953648249,
          -0.7809052141714418,
          -0.27644458517576165,
          1.0616591780119478,
          -1.2363549285298678,
          0.1262708566305871,
          0.9525493443749347,
          -1.6866168540938908,
          -0.4902723986210022,
          -0.7992571135728221,
          -2.074657039634036,
          0.30943950283626537,
          0.9782524876015997,
          -0.1773164998324019
         ],
         "xaxis": "x7",
         "y": [
          0.48306040414083834,
          0.009058351407117657,
          -0.10115869895854517,
          1.299364507421079,
          -0.917630514349454,
          -0.0004417653346297867,
          -0.40798279547156635,
          0.3444360696810804,
          -0.5303963906334963,
          0.16405004030193343,
          0.3350632725543995,
          -0.1981882405566007,
          -0.24432705870638655,
          1.096647494957282,
          0.3648057242653707,
          1.792685105555086,
          1.4643582511094944,
          -0.8544839418659624,
          -0.9191036875899685,
          0.5677118433595862,
          0.3644188202879386,
          0.33595984166710796,
          1.9936047851335992,
          -0.3184669272450796,
          0.32975569755681217,
          0.4260629510999024,
          0.23486176179843596,
          -1.086942248367033,
          0.3674910042928074,
          -0.46547162469799963,
          -0.9924427421111863,
          -2.1406810439355066,
          -0.21469032628104553,
          -0.12076619656413162,
          0.7647436190552594,
          0.4929088265880474,
          -0.8771908460491088,
          2.1777215427021996,
          0.04436592206782866,
          -0.0073038619111890565,
          1.4963995074604057,
          -0.46116149162445347,
          -0.9719021840295913,
          0.6605389800911491,
          -1.160605255775432,
          0.6757450195029824,
          -0.6991125021178969,
          0.5398846034108065,
          -0.4066398571344095,
          -0.31589064660126354,
          -0.7208238632743234,
          -0.383731214271165,
          -1.3536096966031266,
          0.4987596504299444,
          0.22804262761234906,
          -0.9882108951751464,
          0.6127722213063093,
          -0.9834991873284643,
          0.14950554896813462,
          0.4830956263791654,
          0.17451464216515458,
          -1.816099518246873,
          1.1385736700100326,
          -1.0036133687647835,
          0.8188788059107236,
          1.157425588927253,
          -1.1723531019569493,
          -0.07573755585923887,
          0.17966228070772516,
          0.6285754121275586,
          1.1372469738815771,
          -0.28269154554196035,
          0.7165406494548696,
          -0.23007318691659548,
          -0.8883280341101701,
          0.3281056679583895,
          -0.5449040671497705,
          -1.5170140313832825,
          0.7159357051909687,
          1.2061881235431922,
          -1.487080206258318,
          0.219275882063202,
          0.007041079866349726,
          0.2331570317320377,
          0.0034261754096381295,
          0.08514670420553244,
          -1.1107420851889813,
          1.8460938344620215,
          -0.21158616035407998,
          0.0044370729423990705,
          -0.39390964225737446,
          -1.222526038408339,
          -0.43863339052296013,
          -0.08599763750602338,
          -0.7734350600969128,
          -0.12144896846053277,
          -0.18775311587229412,
          1.4392171860459413,
          -0.2882843728195542,
          0.364549423795677
         ],
         "yaxis": "y7"
        },
        {
         "line": {
          "color": "rgba(128, 128, 128, 1.0)",
          "dash": "solid",
          "shape": "linear",
          "width": 1.3
         },
         "marker": {
          "size": 2,
          "symbol": "circle"
         },
         "mode": "markers",
         "name": "B",
         "text": "",
         "type": "scatter",
         "x": [
          -1.7133387861031382,
          -1.2932945006528207,
          0.14441817391879672,
          -0.46427328484531893,
          -1.3646050456562944,
          0.4686406470154942,
          0.7474547724221794,
          -0.675305811206826,
          0.758847914674031,
          0.7428028093361997,
          -0.4065924037422975,
          0.8064727208976706,
          0.2931240500444258,
          -1.0914232991042179,
          -2.0453820137163046,
          -0.2936273028983105,
          -0.14035412942006467,
          -0.8301817516350479,
          -0.7865457087503928,
          -1.1546250246981458,
          0.3215877269843798,
          -1.3839309511016578,
          0.08209020772287838,
          0.9304230655889154,
          0.31745222546584634,
          0.11193970003501555,
          1.7139986776284593,
          -2.0967803975447517,
          1.0511375814990898,
          0.6383915109140148,
          1.2555622054890245,
          -0.5508945322176529,
          0.18747842418344107,
          -0.9803099881452719,
          0.1467935250497945,
          -0.20256265797208975,
          1.567893903926729,
          -1.644143572382776,
          0.30826059921641225,
          -0.7387013328474691,
          -0.019446660009001256,
          1.326199758941917,
          1.0410750283906138,
          1.2395301701487318,
          -2.406092741659287,
          2.416574931180957,
          0.6882233525175699,
          0.04639932826401581,
          -0.16979647167446166,
          0.08403610728427734,
          -0.3219768344393413,
          0.030567251288725984,
          0.6387071244259642,
          2.0584786699697726,
          2.2729373305352922,
          -1.4912937903346457,
          -1.7143541593610665,
          -0.34648232336346285,
          -0.23503278285029994,
          -0.15948119829612942,
          0.5131560094607199,
          0.3991080890988705,
          -0.6343936102103105,
          -0.0940156804309552,
          -0.17713779298576451,
          -0.75443203752132,
          -0.4360212088269227,
          -0.49578419347288005,
          -1.0089817430408183,
          -0.45886311889243525,
          -0.20026747240539783,
          -1.8763166449135418,
          0.3735678516046811,
          0.804719500794733,
          1.1871386676158464,
          1.3186386149058955,
          -1.0325204869497864,
          -1.7590503779541997,
          0.7025720876217167,
          0.2678085853874164,
          -0.7554939802021241,
          -2.372721493554485,
          -1.3184213475425806,
          0.46209929466084504,
          -0.7232520394848614,
          1.2672793869050392,
          -1.3645244928619236,
          0.9613521435589473,
          -1.3753146341448226,
          0.2316998510860715,
          1.7574559430991654,
          -3.098889574485068,
          1.1375254421854166,
          -0.5386418392620599,
          1.2300015496189856,
          -0.07574961938385888,
          1.9618251717642414,
          1.299537326929035,
          -1.1235054198822467,
          0.5221874567126272
         ],
         "xaxis": "x8",
         "y": [
          0.48306040414083834,
          0.009058351407117657,
          -0.10115869895854517,
          1.299364507421079,
          -0.917630514349454,
          -0.0004417653346297867,
          -0.40798279547156635,
          0.3444360696810804,
          -0.5303963906334963,
          0.16405004030193343,
          0.3350632725543995,
          -0.1981882405566007,
          -0.24432705870638655,
          1.096647494957282,
          0.3648057242653707,
          1.792685105555086,
          1.4643582511094944,
          -0.8544839418659624,
          -0.9191036875899685,
          0.5677118433595862,
          0.3644188202879386,
          0.33595984166710796,
          1.9936047851335992,
          -0.3184669272450796,
          0.32975569755681217,
          0.4260629510999024,
          0.23486176179843596,
          -1.086942248367033,
          0.3674910042928074,
          -0.46547162469799963,
          -0.9924427421111863,
          -2.1406810439355066,
          -0.21469032628104553,
          -0.12076619656413162,
          0.7647436190552594,
          0.4929088265880474,
          -0.8771908460491088,
          2.1777215427021996,
          0.04436592206782866,
          -0.0073038619111890565,
          1.4963995074604057,
          -0.46116149162445347,
          -0.9719021840295913,
          0.6605389800911491,
          -1.160605255775432,
          0.6757450195029824,
          -0.6991125021178969,
          0.5398846034108065,
          -0.4066398571344095,
          -0.31589064660126354,
          -0.7208238632743234,
          -0.383731214271165,
          -1.3536096966031266,
          0.4987596504299444,
          0.22804262761234906,
          -0.9882108951751464,
          0.6127722213063093,
          -0.9834991873284643,
          0.14950554896813462,
          0.4830956263791654,
          0.17451464216515458,
          -1.816099518246873,
          1.1385736700100326,
          -1.0036133687647835,
          0.8188788059107236,
          1.157425588927253,
          -1.1723531019569493,
          -0.07573755585923887,
          0.17966228070772516,
          0.6285754121275586,
          1.1372469738815771,
          -0.28269154554196035,
          0.7165406494548696,
          -0.23007318691659548,
          -0.8883280341101701,
          0.3281056679583895,
          -0.5449040671497705,
          -1.5170140313832825,
          0.7159357051909687,
          1.2061881235431922,
          -1.487080206258318,
          0.219275882063202,
          0.007041079866349726,
          0.2331570317320377,
          0.0034261754096381295,
          0.08514670420553244,
          -1.1107420851889813,
          1.8460938344620215,
          -0.21158616035407998,
          0.0044370729423990705,
          -0.39390964225737446,
          -1.222526038408339,
          -0.43863339052296013,
          -0.08599763750602338,
          -0.7734350600969128,
          -0.12144896846053277,
          -0.18775311587229412,
          1.4392171860459413,
          -0.2882843728195542,
          0.364549423795677
         ],
         "yaxis": "y8"
        },
        {
         "line": {
          "color": "rgba(128, 128, 128, 1.0)",
          "dash": "solid",
          "shape": "linear",
          "width": 1.3
         },
         "marker": {
          "size": 2,
          "symbol": "circle"
         },
         "mode": "markers",
         "name": "C",
         "text": "",
         "type": "scatter",
         "x": [
          0.4278303063139346,
          -0.17960339661206842,
          1.0164042618967994,
          -0.7122789625358378,
          -0.6470161726957598,
          -1.5391054711001806,
          -0.816419876227612,
          0.14992634819113262,
          -0.2538297184910725,
          0.4011312596835835,
          -0.35121217557811146,
          -0.08067457705225729,
          -1.2864396719186408,
          0.46615802073452944,
          -0.3186788122439116,
          1.0143288516154085,
          -2.2806490282504535,
          0.40384690521168326,
          0.6018005259883966,
          -0.25978009976335664,
          -1.1669122342579856,
          0.8573994100521745,
          0.8623475326006868,
          -0.3544586484489518,
          0.4110630086982138,
          -0.32937147502200953,
          0.8971370723551457,
          0.42079992650952014,
          -0.4723624434704465,
          0.12777627493488986,
          0.4889927615403592,
          -0.9481653064033165,
          0.10111690399406939,
          -0.5199092906505531,
          -0.9131480083912413,
          1.091390985730131,
          -1.166766293120185,
          0.20757181583433243,
          0.6829620194836434,
          -1.0930355069538578,
          -0.02650130330699229,
          -1.2924400269578538,
          0.14418601175977652,
          -0.20223854166849403,
          0.19208883138239824,
          -0.18114204996310787,
          -0.19841663539400559,
          1.8385362877297255,
          0.15384934369884648,
          -0.3098194447686136,
          -1.2045370228630572,
          0.5327550476824217,
          -0.29441402000600364,
          0.3709208833043238,
          -1.5092728793466288,
          0.5191502262763877,
          1.4637639676598087,
          -0.7232252992171272,
          0.6980766119028778,
          -0.7563825513013476,
          -0.7421339581048623,
          1.121264011877191,
          0.013752107630780407,
          -0.5892825852411415,
          0.6056490857330595,
          0.9780201457682005,
          0.3394107574260655,
          -0.29779406831739264,
          -0.8249862472503384,
          -0.006608688646789804,
          0.9173723910209661,
          -0.03603833862910183,
          -0.6990592443026739,
          -1.342749352000533,
          -1.7062572618616654,
          -0.4379870105257444,
          -0.37396788969217615,
          -1.2152159255979396,
          0.85898836922212,
          0.2853468800286372,
          0.08525587871536675,
          0.3440875236892165,
          0.43424037380948755,
          0.5175629844710247,
          -0.06289870370813987,
          -0.3717812990629133,
          -1.3435656884172564,
          2.1465656501241304,
          0.9877233116000835,
          0.04448063913151714,
          -0.5020413908536919,
          0.13533132322167515,
          -0.4085192034480075,
          -0.5307015361759451,
          0.8328125615881095,
          0.16467398244369646,
          0.3384160963082231,
          0.5451546074803042,
          0.565600486678321,
          0.7341938436024419
         ],
         "xaxis": "x9",
         "y": [
          -0.24206467032319814,
          -1.2631525698375463,
          0.4594071214617641,
          0.60077235908034,
          -0.9265626233504829,
          0.6756216034502802,
          0.7434142581111773,
          0.018262130597430336,
          -0.06392608339156247,
          1.4060464622338318,
          1.0686269655137899,
          0.002754273374794008,
          0.4605672689199664,
          0.39263815023305654,
          -0.7329865214766967,
          1.6297002427753362,
          -0.0008107283884601559,
          1.9765014199108537,
          1.2096049063087697,
          1.6213248538289111,
          -1.585873889736527,
          -0.8651655009854876,
          0.020988001541876446,
          -1.3406838702958856,
          -0.951200160119948,
          -0.497654320179825,
          -0.021054458357745297,
          -1.0574593040360256,
          1.0294055755935148,
          1.2163001342613522,
          0.17970515970423812,
          -0.11760176641969425,
          -1.0969510943885759,
          -0.5868858904725097,
          2.083934082971225,
          -0.9181885756735065,
          -0.1553782987340766,
          -0.820988776654748,
          -0.3804720882188407,
          -0.35752641236018046,
          -0.35401246761989624,
          -0.5775830532493539,
          -2.424900350237003,
          0.2855207075604285,
          0.46936376753898157,
          -0.21746001938038956,
          0.06450952686778252,
          0.7444671538036397,
          -1.2248250486686556,
          -1.416788946235324,
          1.3705699230468036,
          -0.2893623524636134,
          0.7887332621839191,
          0.6265750340329868,
          -1.7050938119207735,
          -1.710626378654247,
          -0.17212900337049927,
          0.786445692495372,
          0.8728446850178994,
          -0.04713310597221714,
          0.13142099172018107,
          0.39726379664821326,
          1.322607054992196,
          0.5354512919666429,
          1.2374262494474055,
          2.116237482381573,
          1.9044511430298887,
          1.391112716532458,
          -0.35693852947472154,
          0.4918662133612119,
          -0.5922710055561605,
          -0.7878598194918272,
          0.5265707948268116,
          -0.642020950111216,
          0.5517844245714252,
          -0.7934961397371885,
          0.7908296097983124,
          2.275523536747189,
          1.1606453869673206,
          -0.7974626361895323,
          0.005581955560807476,
          0.21689162723437547,
          0.22298419441339054,
          0.8200441699855056,
          1.19166521369793,
          -0.8976133213470465,
          -0.567476953648249,
          -0.7809052141714418,
          -0.27644458517576165,
          1.0616591780119478,
          -1.2363549285298678,
          0.1262708566305871,
          0.9525493443749347,
          -1.6866168540938908,
          -0.4902723986210022,
          -0.7992571135728221,
          -2.074657039634036,
          0.30943950283626537,
          0.9782524876015997,
          -0.1773164998324019
         ],
         "yaxis": "y9"
        },
        {
         "line": {
          "color": "rgba(128, 128, 128, 1.0)",
          "dash": "solid",
          "shape": "linear",
          "width": 1.3
         },
         "marker": {
          "size": 2,
          "symbol": "circle"
         },
         "mode": "markers",
         "name": "C",
         "text": "",
         "type": "scatter",
         "x": [
          0.48306040414083834,
          0.009058351407117657,
          -0.10115869895854517,
          1.299364507421079,
          -0.917630514349454,
          -0.0004417653346297867,
          -0.40798279547156635,
          0.3444360696810804,
          -0.5303963906334963,
          0.16405004030193343,
          0.3350632725543995,
          -0.1981882405566007,
          -0.24432705870638655,
          1.096647494957282,
          0.3648057242653707,
          1.792685105555086,
          1.4643582511094944,
          -0.8544839418659624,
          -0.9191036875899685,
          0.5677118433595862,
          0.3644188202879386,
          0.33595984166710796,
          1.9936047851335992,
          -0.3184669272450796,
          0.32975569755681217,
          0.4260629510999024,
          0.23486176179843596,
          -1.086942248367033,
          0.3674910042928074,
          -0.46547162469799963,
          -0.9924427421111863,
          -2.1406810439355066,
          -0.21469032628104553,
          -0.12076619656413162,
          0.7647436190552594,
          0.4929088265880474,
          -0.8771908460491088,
          2.1777215427021996,
          0.04436592206782866,
          -0.0073038619111890565,
          1.4963995074604057,
          -0.46116149162445347,
          -0.9719021840295913,
          0.6605389800911491,
          -1.160605255775432,
          0.6757450195029824,
          -0.6991125021178969,
          0.5398846034108065,
          -0.4066398571344095,
          -0.31589064660126354,
          -0.7208238632743234,
          -0.383731214271165,
          -1.3536096966031266,
          0.4987596504299444,
          0.22804262761234906,
          -0.9882108951751464,
          0.6127722213063093,
          -0.9834991873284643,
          0.14950554896813462,
          0.4830956263791654,
          0.17451464216515458,
          -1.816099518246873,
          1.1385736700100326,
          -1.0036133687647835,
          0.8188788059107236,
          1.157425588927253,
          -1.1723531019569493,
          -0.07573755585923887,
          0.17966228070772516,
          0.6285754121275586,
          1.1372469738815771,
          -0.28269154554196035,
          0.7165406494548696,
          -0.23007318691659548,
          -0.8883280341101701,
          0.3281056679583895,
          -0.5449040671497705,
          -1.5170140313832825,
          0.7159357051909687,
          1.2061881235431922,
          -1.487080206258318,
          0.219275882063202,
          0.007041079866349726,
          0.2331570317320377,
          0.0034261754096381295,
          0.08514670420553244,
          -1.1107420851889813,
          1.8460938344620215,
          -0.21158616035407998,
          0.0044370729423990705,
          -0.39390964225737446,
          -1.222526038408339,
          -0.43863339052296013,
          -0.08599763750602338,
          -0.7734350600969128,
          -0.12144896846053277,
          -0.18775311587229412,
          1.4392171860459413,
          -0.2882843728195542,
          0.364549423795677
         ],
         "xaxis": "x10",
         "y": [
          -0.24206467032319814,
          -1.2631525698375463,
          0.4594071214617641,
          0.60077235908034,
          -0.9265626233504829,
          0.6756216034502802,
          0.7434142581111773,
          0.018262130597430336,
          -0.06392608339156247,
          1.4060464622338318,
          1.0686269655137899,
          0.002754273374794008,
          0.4605672689199664,
          0.39263815023305654,
          -0.7329865214766967,
          1.6297002427753362,
          -0.0008107283884601559,
          1.9765014199108537,
          1.2096049063087697,
          1.6213248538289111,
          -1.585873889736527,
          -0.8651655009854876,
          0.020988001541876446,
          -1.3406838702958856,
          -0.951200160119948,
          -0.497654320179825,
          -0.021054458357745297,
          -1.0574593040360256,
          1.0294055755935148,
          1.2163001342613522,
          0.17970515970423812,
          -0.11760176641969425,
          -1.0969510943885759,
          -0.5868858904725097,
          2.083934082971225,
          -0.9181885756735065,
          -0.1553782987340766,
          -0.820988776654748,
          -0.3804720882188407,
          -0.35752641236018046,
          -0.35401246761989624,
          -0.5775830532493539,
          -2.424900350237003,
          0.2855207075604285,
          0.46936376753898157,
          -0.21746001938038956,
          0.06450952686778252,
          0.7444671538036397,
          -1.2248250486686556,
          -1.416788946235324,
          1.3705699230468036,
          -0.2893623524636134,
          0.7887332621839191,
          0.6265750340329868,
          -1.7050938119207735,
          -1.710626378654247,
          -0.17212900337049927,
          0.786445692495372,
          0.8728446850178994,
          -0.04713310597221714,
          0.13142099172018107,
          0.39726379664821326,
          1.322607054992196,
          0.5354512919666429,
          1.2374262494474055,
          2.116237482381573,
          1.9044511430298887,
          1.391112716532458,
          -0.35693852947472154,
          0.4918662133612119,
          -0.5922710055561605,
          -0.7878598194918272,
          0.5265707948268116,
          -0.642020950111216,
          0.5517844245714252,
          -0.7934961397371885,
          0.7908296097983124,
          2.275523536747189,
          1.1606453869673206,
          -0.7974626361895323,
          0.005581955560807476,
          0.21689162723437547,
          0.22298419441339054,
          0.8200441699855056,
          1.19166521369793,
          -0.8976133213470465,
          -0.567476953648249,
          -0.7809052141714418,
          -0.27644458517576165,
          1.0616591780119478,
          -1.2363549285298678,
          0.1262708566305871,
          0.9525493443749347,
          -1.6866168540938908,
          -0.4902723986210022,
          -0.7992571135728221,
          -2.074657039634036,
          0.30943950283626537,
          0.9782524876015997,
          -0.1773164998324019
         ],
         "yaxis": "y10"
        },
        {
         "histfunc": "count",
         "histnorm": "",
         "marker": {
          "color": "rgba(50, 171, 96, 1.0)",
          "line": {
           "color": "#4D5663",
           "width": 1.3
          }
         },
         "name": "C",
         "nbinsx": 10,
         "opacity": 0.8,
         "orientation": "v",
         "type": "histogram",
         "x": [
          -0.24206467032319814,
          -1.2631525698375463,
          0.4594071214617641,
          0.60077235908034,
          -0.9265626233504829,
          0.6756216034502802,
          0.7434142581111773,
          0.018262130597430336,
          -0.06392608339156247,
          1.4060464622338318,
          1.0686269655137899,
          0.002754273374794008,
          0.4605672689199664,
          0.39263815023305654,
          -0.7329865214766967,
          1.6297002427753362,
          -0.0008107283884601559,
          1.9765014199108537,
          1.2096049063087697,
          1.6213248538289111,
          -1.585873889736527,
          -0.8651655009854876,
          0.020988001541876446,
          -1.3406838702958856,
          -0.951200160119948,
          -0.497654320179825,
          -0.021054458357745297,
          -1.0574593040360256,
          1.0294055755935148,
          1.2163001342613522,
          0.17970515970423812,
          -0.11760176641969425,
          -1.0969510943885759,
          -0.5868858904725097,
          2.083934082971225,
          -0.9181885756735065,
          -0.1553782987340766,
          -0.820988776654748,
          -0.3804720882188407,
          -0.35752641236018046,
          -0.35401246761989624,
          -0.5775830532493539,
          -2.424900350237003,
          0.2855207075604285,
          0.46936376753898157,
          -0.21746001938038956,
          0.06450952686778252,
          0.7444671538036397,
          -1.2248250486686556,
          -1.416788946235324,
          1.3705699230468036,
          -0.2893623524636134,
          0.7887332621839191,
          0.6265750340329868,
          -1.7050938119207735,
          -1.710626378654247,
          -0.17212900337049927,
          0.786445692495372,
          0.8728446850178994,
          -0.04713310597221714,
          0.13142099172018107,
          0.39726379664821326,
          1.322607054992196,
          0.5354512919666429,
          1.2374262494474055,
          2.116237482381573,
          1.9044511430298887,
          1.391112716532458,
          -0.35693852947472154,
          0.4918662133612119,
          -0.5922710055561605,
          -0.7878598194918272,
          0.5265707948268116,
          -0.642020950111216,
          0.5517844245714252,
          -0.7934961397371885,
          0.7908296097983124,
          2.275523536747189,
          1.1606453869673206,
          -0.7974626361895323,
          0.005581955560807476,
          0.21689162723437547,
          0.22298419441339054,
          0.8200441699855056,
          1.19166521369793,
          -0.8976133213470465,
          -0.567476953648249,
          -0.7809052141714418,
          -0.27644458517576165,
          1.0616591780119478,
          -1.2363549285298678,
          0.1262708566305871,
          0.9525493443749347,
          -1.6866168540938908,
          -0.4902723986210022,
          -0.7992571135728221,
          -2.074657039634036,
          0.30943950283626537,
          0.9782524876015997,
          -0.1773164998324019
         ],
         "xaxis": "x11",
         "yaxis": "y11"
        },
        {
         "line": {
          "color": "rgba(128, 128, 128, 1.0)",
          "dash": "solid",
          "shape": "linear",
          "width": 1.3
         },
         "marker": {
          "size": 2,
          "symbol": "circle"
         },
         "mode": "markers",
         "name": "C",
         "text": "",
         "type": "scatter",
         "x": [
          -1.7133387861031382,
          -1.2932945006528207,
          0.14441817391879672,
          -0.46427328484531893,
          -1.3646050456562944,
          0.4686406470154942,
          0.7474547724221794,
          -0.675305811206826,
          0.758847914674031,
          0.7428028093361997,
          -0.4065924037422975,
          0.8064727208976706,
          0.2931240500444258,
          -1.0914232991042179,
          -2.0453820137163046,
          -0.2936273028983105,
          -0.14035412942006467,
          -0.8301817516350479,
          -0.7865457087503928,
          -1.1546250246981458,
          0.3215877269843798,
          -1.3839309511016578,
          0.08209020772287838,
          0.9304230655889154,
          0.31745222546584634,
          0.11193970003501555,
          1.7139986776284593,
          -2.0967803975447517,
          1.0511375814990898,
          0.6383915109140148,
          1.2555622054890245,
          -0.5508945322176529,
          0.18747842418344107,
          -0.9803099881452719,
          0.1467935250497945,
          -0.20256265797208975,
          1.567893903926729,
          -1.644143572382776,
          0.30826059921641225,
          -0.7387013328474691,
          -0.019446660009001256,
          1.326199758941917,
          1.0410750283906138,
          1.2395301701487318,
          -2.406092741659287,
          2.416574931180957,
          0.6882233525175699,
          0.04639932826401581,
          -0.16979647167446166,
          0.08403610728427734,
          -0.3219768344393413,
          0.030567251288725984,
          0.6387071244259642,
          2.0584786699697726,
          2.2729373305352922,
          -1.4912937903346457,
          -1.7143541593610665,
          -0.34648232336346285,
          -0.23503278285029994,
          -0.15948119829612942,
          0.5131560094607199,
          0.3991080890988705,
          -0.6343936102103105,
          -0.0940156804309552,
          -0.17713779298576451,
          -0.75443203752132,
          -0.4360212088269227,
          -0.49578419347288005,
          -1.0089817430408183,
          -0.45886311889243525,
          -0.20026747240539783,
          -1.8763166449135418,
          0.3735678516046811,
          0.804719500794733,
          1.1871386676158464,
          1.3186386149058955,
          -1.0325204869497864,
          -1.7590503779541997,
          0.7025720876217167,
          0.2678085853874164,
          -0.7554939802021241,
          -2.372721493554485,
          -1.3184213475425806,
          0.46209929466084504,
          -0.7232520394848614,
          1.2672793869050392,
          -1.3645244928619236,
          0.9613521435589473,
          -1.3753146341448226,
          0.2316998510860715,
          1.7574559430991654,
          -3.098889574485068,
          1.1375254421854166,
          -0.5386418392620599,
          1.2300015496189856,
          -0.07574961938385888,
          1.9618251717642414,
          1.299537326929035,
          -1.1235054198822467,
          0.5221874567126272
         ],
         "xaxis": "x12",
         "y": [
          -0.24206467032319814,
          -1.2631525698375463,
          0.4594071214617641,
          0.60077235908034,
          -0.9265626233504829,
          0.6756216034502802,
          0.7434142581111773,
          0.018262130597430336,
          -0.06392608339156247,
          1.4060464622338318,
          1.0686269655137899,
          0.002754273374794008,
          0.4605672689199664,
          0.39263815023305654,
          -0.7329865214766967,
          1.6297002427753362,
          -0.0008107283884601559,
          1.9765014199108537,
          1.2096049063087697,
          1.6213248538289111,
          -1.585873889736527,
          -0.8651655009854876,
          0.020988001541876446,
          -1.3406838702958856,
          -0.951200160119948,
          -0.497654320179825,
          -0.021054458357745297,
          -1.0574593040360256,
          1.0294055755935148,
          1.2163001342613522,
          0.17970515970423812,
          -0.11760176641969425,
          -1.0969510943885759,
          -0.5868858904725097,
          2.083934082971225,
          -0.9181885756735065,
          -0.1553782987340766,
          -0.820988776654748,
          -0.3804720882188407,
          -0.35752641236018046,
          -0.35401246761989624,
          -0.5775830532493539,
          -2.424900350237003,
          0.2855207075604285,
          0.46936376753898157,
          -0.21746001938038956,
          0.06450952686778252,
          0.7444671538036397,
          -1.2248250486686556,
          -1.416788946235324,
          1.3705699230468036,
          -0.2893623524636134,
          0.7887332621839191,
          0.6265750340329868,
          -1.7050938119207735,
          -1.710626378654247,
          -0.17212900337049927,
          0.786445692495372,
          0.8728446850178994,
          -0.04713310597221714,
          0.13142099172018107,
          0.39726379664821326,
          1.322607054992196,
          0.5354512919666429,
          1.2374262494474055,
          2.116237482381573,
          1.9044511430298887,
          1.391112716532458,
          -0.35693852947472154,
          0.4918662133612119,
          -0.5922710055561605,
          -0.7878598194918272,
          0.5265707948268116,
          -0.642020950111216,
          0.5517844245714252,
          -0.7934961397371885,
          0.7908296097983124,
          2.275523536747189,
          1.1606453869673206,
          -0.7974626361895323,
          0.005581955560807476,
          0.21689162723437547,
          0.22298419441339054,
          0.8200441699855056,
          1.19166521369793,
          -0.8976133213470465,
          -0.567476953648249,
          -0.7809052141714418,
          -0.27644458517576165,
          1.0616591780119478,
          -1.2363549285298678,
          0.1262708566305871,
          0.9525493443749347,
          -1.6866168540938908,
          -0.4902723986210022,
          -0.7992571135728221,
          -2.074657039634036,
          0.30943950283626537,
          0.9782524876015997,
          -0.1773164998324019
         ],
         "yaxis": "y12"
        },
        {
         "line": {
          "color": "rgba(128, 128, 128, 1.0)",
          "dash": "solid",
          "shape": "linear",
          "width": 1.3
         },
         "marker": {
          "size": 2,
          "symbol": "circle"
         },
         "mode": "markers",
         "name": "D",
         "text": "",
         "type": "scatter",
         "x": [
          0.4278303063139346,
          -0.17960339661206842,
          1.0164042618967994,
          -0.7122789625358378,
          -0.6470161726957598,
          -1.5391054711001806,
          -0.816419876227612,
          0.14992634819113262,
          -0.2538297184910725,
          0.4011312596835835,
          -0.35121217557811146,
          -0.08067457705225729,
          -1.2864396719186408,
          0.46615802073452944,
          -0.3186788122439116,
          1.0143288516154085,
          -2.2806490282504535,
          0.40384690521168326,
          0.6018005259883966,
          -0.25978009976335664,
          -1.1669122342579856,
          0.8573994100521745,
          0.8623475326006868,
          -0.3544586484489518,
          0.4110630086982138,
          -0.32937147502200953,
          0.8971370723551457,
          0.42079992650952014,
          -0.4723624434704465,
          0.12777627493488986,
          0.4889927615403592,
          -0.9481653064033165,
          0.10111690399406939,
          -0.5199092906505531,
          -0.9131480083912413,
          1.091390985730131,
          -1.166766293120185,
          0.20757181583433243,
          0.6829620194836434,
          -1.0930355069538578,
          -0.02650130330699229,
          -1.2924400269578538,
          0.14418601175977652,
          -0.20223854166849403,
          0.19208883138239824,
          -0.18114204996310787,
          -0.19841663539400559,
          1.8385362877297255,
          0.15384934369884648,
          -0.3098194447686136,
          -1.2045370228630572,
          0.5327550476824217,
          -0.29441402000600364,
          0.3709208833043238,
          -1.5092728793466288,
          0.5191502262763877,
          1.4637639676598087,
          -0.7232252992171272,
          0.6980766119028778,
          -0.7563825513013476,
          -0.7421339581048623,
          1.121264011877191,
          0.013752107630780407,
          -0.5892825852411415,
          0.6056490857330595,
          0.9780201457682005,
          0.3394107574260655,
          -0.29779406831739264,
          -0.8249862472503384,
          -0.006608688646789804,
          0.9173723910209661,
          -0.03603833862910183,
          -0.6990592443026739,
          -1.342749352000533,
          -1.7062572618616654,
          -0.4379870105257444,
          -0.37396788969217615,
          -1.2152159255979396,
          0.85898836922212,
          0.2853468800286372,
          0.08525587871536675,
          0.3440875236892165,
          0.43424037380948755,
          0.5175629844710247,
          -0.06289870370813987,
          -0.3717812990629133,
          -1.3435656884172564,
          2.1465656501241304,
          0.9877233116000835,
          0.04448063913151714,
          -0.5020413908536919,
          0.13533132322167515,
          -0.4085192034480075,
          -0.5307015361759451,
          0.8328125615881095,
          0.16467398244369646,
          0.3384160963082231,
          0.5451546074803042,
          0.565600486678321,
          0.7341938436024419
         ],
         "xaxis": "x13",
         "y": [
          -1.7133387861031382,
          -1.2932945006528207,
          0.14441817391879672,
          -0.46427328484531893,
          -1.3646050456562944,
          0.4686406470154942,
          0.7474547724221794,
          -0.675305811206826,
          0.758847914674031,
          0.7428028093361997,
          -0.4065924037422975,
          0.8064727208976706,
          0.2931240500444258,
          -1.0914232991042179,
          -2.0453820137163046,
          -0.2936273028983105,
          -0.14035412942006467,
          -0.8301817516350479,
          -0.7865457087503928,
          -1.1546250246981458,
          0.3215877269843798,
          -1.3839309511016578,
          0.08209020772287838,
          0.9304230655889154,
          0.31745222546584634,
          0.11193970003501555,
          1.7139986776284593,
          -2.0967803975447517,
          1.0511375814990898,
          0.6383915109140148,
          1.2555622054890245,
          -0.5508945322176529,
          0.18747842418344107,
          -0.9803099881452719,
          0.1467935250497945,
          -0.20256265797208975,
          1.567893903926729,
          -1.644143572382776,
          0.30826059921641225,
          -0.7387013328474691,
          -0.019446660009001256,
          1.326199758941917,
          1.0410750283906138,
          1.2395301701487318,
          -2.406092741659287,
          2.416574931180957,
          0.6882233525175699,
          0.04639932826401581,
          -0.16979647167446166,
          0.08403610728427734,
          -0.3219768344393413,
          0.030567251288725984,
          0.6387071244259642,
          2.0584786699697726,
          2.2729373305352922,
          -1.4912937903346457,
          -1.7143541593610665,
          -0.34648232336346285,
          -0.23503278285029994,
          -0.15948119829612942,
          0.5131560094607199,
          0.3991080890988705,
          -0.6343936102103105,
          -0.0940156804309552,
          -0.17713779298576451,
          -0.75443203752132,
          -0.4360212088269227,
          -0.49578419347288005,
          -1.0089817430408183,
          -0.45886311889243525,
          -0.20026747240539783,
          -1.8763166449135418,
          0.3735678516046811,
          0.804719500794733,
          1.1871386676158464,
          1.3186386149058955,
          -1.0325204869497864,
          -1.7590503779541997,
          0.7025720876217167,
          0.2678085853874164,
          -0.7554939802021241,
          -2.372721493554485,
          -1.3184213475425806,
          0.46209929466084504,
          -0.7232520394848614,
          1.2672793869050392,
          -1.3645244928619236,
          0.9613521435589473,
          -1.3753146341448226,
          0.2316998510860715,
          1.7574559430991654,
          -3.098889574485068,
          1.1375254421854166,
          -0.5386418392620599,
          1.2300015496189856,
          -0.07574961938385888,
          1.9618251717642414,
          1.299537326929035,
          -1.1235054198822467,
          0.5221874567126272
         ],
         "yaxis": "y13"
        },
        {
         "line": {
          "color": "rgba(128, 128, 128, 1.0)",
          "dash": "solid",
          "shape": "linear",
          "width": 1.3
         },
         "marker": {
          "size": 2,
          "symbol": "circle"
         },
         "mode": "markers",
         "name": "D",
         "text": "",
         "type": "scatter",
         "x": [
          0.48306040414083834,
          0.009058351407117657,
          -0.10115869895854517,
          1.299364507421079,
          -0.917630514349454,
          -0.0004417653346297867,
          -0.40798279547156635,
          0.3444360696810804,
          -0.5303963906334963,
          0.16405004030193343,
          0.3350632725543995,
          -0.1981882405566007,
          -0.24432705870638655,
          1.096647494957282,
          0.3648057242653707,
          1.792685105555086,
          1.4643582511094944,
          -0.8544839418659624,
          -0.9191036875899685,
          0.5677118433595862,
          0.3644188202879386,
          0.33595984166710796,
          1.9936047851335992,
          -0.3184669272450796,
          0.32975569755681217,
          0.4260629510999024,
          0.23486176179843596,
          -1.086942248367033,
          0.3674910042928074,
          -0.46547162469799963,
          -0.9924427421111863,
          -2.1406810439355066,
          -0.21469032628104553,
          -0.12076619656413162,
          0.7647436190552594,
          0.4929088265880474,
          -0.8771908460491088,
          2.1777215427021996,
          0.04436592206782866,
          -0.0073038619111890565,
          1.4963995074604057,
          -0.46116149162445347,
          -0.9719021840295913,
          0.6605389800911491,
          -1.160605255775432,
          0.6757450195029824,
          -0.6991125021178969,
          0.5398846034108065,
          -0.4066398571344095,
          -0.31589064660126354,
          -0.7208238632743234,
          -0.383731214271165,
          -1.3536096966031266,
          0.4987596504299444,
          0.22804262761234906,
          -0.9882108951751464,
          0.6127722213063093,
          -0.9834991873284643,
          0.14950554896813462,
          0.4830956263791654,
          0.17451464216515458,
          -1.816099518246873,
          1.1385736700100326,
          -1.0036133687647835,
          0.8188788059107236,
          1.157425588927253,
          -1.1723531019569493,
          -0.07573755585923887,
          0.17966228070772516,
          0.6285754121275586,
          1.1372469738815771,
          -0.28269154554196035,
          0.7165406494548696,
          -0.23007318691659548,
          -0.8883280341101701,
          0.3281056679583895,
          -0.5449040671497705,
          -1.5170140313832825,
          0.7159357051909687,
          1.2061881235431922,
          -1.487080206258318,
          0.219275882063202,
          0.007041079866349726,
          0.2331570317320377,
          0.0034261754096381295,
          0.08514670420553244,
          -1.1107420851889813,
          1.8460938344620215,
          -0.21158616035407998,
          0.0044370729423990705,
          -0.39390964225737446,
          -1.222526038408339,
          -0.43863339052296013,
          -0.08599763750602338,
          -0.7734350600969128,
          -0.12144896846053277,
          -0.18775311587229412,
          1.4392171860459413,
          -0.2882843728195542,
          0.364549423795677
         ],
         "xaxis": "x14",
         "y": [
          -1.7133387861031382,
          -1.2932945006528207,
          0.14441817391879672,
          -0.46427328484531893,
          -1.3646050456562944,
          0.4686406470154942,
          0.7474547724221794,
          -0.675305811206826,
          0.758847914674031,
          0.7428028093361997,
          -0.4065924037422975,
          0.8064727208976706,
          0.2931240500444258,
          -1.0914232991042179,
          -2.0453820137163046,
          -0.2936273028983105,
          -0.14035412942006467,
          -0.8301817516350479,
          -0.7865457087503928,
          -1.1546250246981458,
          0.3215877269843798,
          -1.3839309511016578,
          0.08209020772287838,
          0.9304230655889154,
          0.31745222546584634,
          0.11193970003501555,
          1.7139986776284593,
          -2.0967803975447517,
          1.0511375814990898,
          0.6383915109140148,
          1.2555622054890245,
          -0.5508945322176529,
          0.18747842418344107,
          -0.9803099881452719,
          0.1467935250497945,
          -0.20256265797208975,
          1.567893903926729,
          -1.644143572382776,
          0.30826059921641225,
          -0.7387013328474691,
          -0.019446660009001256,
          1.326199758941917,
          1.0410750283906138,
          1.2395301701487318,
          -2.406092741659287,
          2.416574931180957,
          0.6882233525175699,
          0.04639932826401581,
          -0.16979647167446166,
          0.08403610728427734,
          -0.3219768344393413,
          0.030567251288725984,
          0.6387071244259642,
          2.0584786699697726,
          2.2729373305352922,
          -1.4912937903346457,
          -1.7143541593610665,
          -0.34648232336346285,
          -0.23503278285029994,
          -0.15948119829612942,
          0.5131560094607199,
          0.3991080890988705,
          -0.6343936102103105,
          -0.0940156804309552,
          -0.17713779298576451,
          -0.75443203752132,
          -0.4360212088269227,
          -0.49578419347288005,
          -1.0089817430408183,
          -0.45886311889243525,
          -0.20026747240539783,
          -1.8763166449135418,
          0.3735678516046811,
          0.804719500794733,
          1.1871386676158464,
          1.3186386149058955,
          -1.0325204869497864,
          -1.7590503779541997,
          0.7025720876217167,
          0.2678085853874164,
          -0.7554939802021241,
          -2.372721493554485,
          -1.3184213475425806,
          0.46209929466084504,
          -0.7232520394848614,
          1.2672793869050392,
          -1.3645244928619236,
          0.9613521435589473,
          -1.3753146341448226,
          0.2316998510860715,
          1.7574559430991654,
          -3.098889574485068,
          1.1375254421854166,
          -0.5386418392620599,
          1.2300015496189856,
          -0.07574961938385888,
          1.9618251717642414,
          1.299537326929035,
          -1.1235054198822467,
          0.5221874567126272
         ],
         "yaxis": "y14"
        },
        {
         "line": {
          "color": "rgba(128, 128, 128, 1.0)",
          "dash": "solid",
          "shape": "linear",
          "width": 1.3
         },
         "marker": {
          "size": 2,
          "symbol": "circle"
         },
         "mode": "markers",
         "name": "D",
         "text": "",
         "type": "scatter",
         "x": [
          -0.24206467032319814,
          -1.2631525698375463,
          0.4594071214617641,
          0.60077235908034,
          -0.9265626233504829,
          0.6756216034502802,
          0.7434142581111773,
          0.018262130597430336,
          -0.06392608339156247,
          1.4060464622338318,
          1.0686269655137899,
          0.002754273374794008,
          0.4605672689199664,
          0.39263815023305654,
          -0.7329865214766967,
          1.6297002427753362,
          -0.0008107283884601559,
          1.9765014199108537,
          1.2096049063087697,
          1.6213248538289111,
          -1.585873889736527,
          -0.8651655009854876,
          0.020988001541876446,
          -1.3406838702958856,
          -0.951200160119948,
          -0.497654320179825,
          -0.021054458357745297,
          -1.0574593040360256,
          1.0294055755935148,
          1.2163001342613522,
          0.17970515970423812,
          -0.11760176641969425,
          -1.0969510943885759,
          -0.5868858904725097,
          2.083934082971225,
          -0.9181885756735065,
          -0.1553782987340766,
          -0.820988776654748,
          -0.3804720882188407,
          -0.35752641236018046,
          -0.35401246761989624,
          -0.5775830532493539,
          -2.424900350237003,
          0.2855207075604285,
          0.46936376753898157,
          -0.21746001938038956,
          0.06450952686778252,
          0.7444671538036397,
          -1.2248250486686556,
          -1.416788946235324,
          1.3705699230468036,
          -0.2893623524636134,
          0.7887332621839191,
          0.6265750340329868,
          -1.7050938119207735,
          -1.710626378654247,
          -0.17212900337049927,
          0.786445692495372,
          0.8728446850178994,
          -0.04713310597221714,
          0.13142099172018107,
          0.39726379664821326,
          1.322607054992196,
          0.5354512919666429,
          1.2374262494474055,
          2.116237482381573,
          1.9044511430298887,
          1.391112716532458,
          -0.35693852947472154,
          0.4918662133612119,
          -0.5922710055561605,
          -0.7878598194918272,
          0.5265707948268116,
          -0.642020950111216,
          0.5517844245714252,
          -0.7934961397371885,
          0.7908296097983124,
          2.275523536747189,
          1.1606453869673206,
          -0.7974626361895323,
          0.005581955560807476,
          0.21689162723437547,
          0.22298419441339054,
          0.8200441699855056,
          1.19166521369793,
          -0.8976133213470465,
          -0.567476953648249,
          -0.7809052141714418,
          -0.27644458517576165,
          1.0616591780119478,
          -1.2363549285298678,
          0.1262708566305871,
          0.9525493443749347,
          -1.6866168540938908,
          -0.4902723986210022,
          -0.7992571135728221,
          -2.074657039634036,
          0.30943950283626537,
          0.9782524876015997,
          -0.1773164998324019
         ],
         "xaxis": "x15",
         "y": [
          -1.7133387861031382,
          -1.2932945006528207,
          0.14441817391879672,
          -0.46427328484531893,
          -1.3646050456562944,
          0.4686406470154942,
          0.7474547724221794,
          -0.675305811206826,
          0.758847914674031,
          0.7428028093361997,
          -0.4065924037422975,
          0.8064727208976706,
          0.2931240500444258,
          -1.0914232991042179,
          -2.0453820137163046,
          -0.2936273028983105,
          -0.14035412942006467,
          -0.8301817516350479,
          -0.7865457087503928,
          -1.1546250246981458,
          0.3215877269843798,
          -1.3839309511016578,
          0.08209020772287838,
          0.9304230655889154,
          0.31745222546584634,
          0.11193970003501555,
          1.7139986776284593,
          -2.0967803975447517,
          1.0511375814990898,
          0.6383915109140148,
          1.2555622054890245,
          -0.5508945322176529,
          0.18747842418344107,
          -0.9803099881452719,
          0.1467935250497945,
          -0.20256265797208975,
          1.567893903926729,
          -1.644143572382776,
          0.30826059921641225,
          -0.7387013328474691,
          -0.019446660009001256,
          1.326199758941917,
          1.0410750283906138,
          1.2395301701487318,
          -2.406092741659287,
          2.416574931180957,
          0.6882233525175699,
          0.04639932826401581,
          -0.16979647167446166,
          0.08403610728427734,
          -0.3219768344393413,
          0.030567251288725984,
          0.6387071244259642,
          2.0584786699697726,
          2.2729373305352922,
          -1.4912937903346457,
          -1.7143541593610665,
          -0.34648232336346285,
          -0.23503278285029994,
          -0.15948119829612942,
          0.5131560094607199,
          0.3991080890988705,
          -0.6343936102103105,
          -0.0940156804309552,
          -0.17713779298576451,
          -0.75443203752132,
          -0.4360212088269227,
          -0.49578419347288005,
          -1.0089817430408183,
          -0.45886311889243525,
          -0.20026747240539783,
          -1.8763166449135418,
          0.3735678516046811,
          0.804719500794733,
          1.1871386676158464,
          1.3186386149058955,
          -1.0325204869497864,
          -1.7590503779541997,
          0.7025720876217167,
          0.2678085853874164,
          -0.7554939802021241,
          -2.372721493554485,
          -1.3184213475425806,
          0.46209929466084504,
          -0.7232520394848614,
          1.2672793869050392,
          -1.3645244928619236,
          0.9613521435589473,
          -1.3753146341448226,
          0.2316998510860715,
          1.7574559430991654,
          -3.098889574485068,
          1.1375254421854166,
          -0.5386418392620599,
          1.2300015496189856,
          -0.07574961938385888,
          1.9618251717642414,
          1.299537326929035,
          -1.1235054198822467,
          0.5221874567126272
         ],
         "yaxis": "y15"
        },
        {
         "histfunc": "count",
         "histnorm": "",
         "marker": {
          "color": "rgba(128, 0, 128, 1.0)",
          "line": {
           "color": "#4D5663",
           "width": 1.3
          }
         },
         "name": "D",
         "nbinsx": 10,
         "opacity": 0.8,
         "orientation": "v",
         "type": "histogram",
         "x": [
          -1.7133387861031382,
          -1.2932945006528207,
          0.14441817391879672,
          -0.46427328484531893,
          -1.3646050456562944,
          0.4686406470154942,
          0.7474547724221794,
          -0.675305811206826,
          0.758847914674031,
          0.7428028093361997,
          -0.4065924037422975,
          0.8064727208976706,
          0.2931240500444258,
          -1.0914232991042179,
          -2.0453820137163046,
          -0.2936273028983105,
          -0.14035412942006467,
          -0.8301817516350479,
          -0.7865457087503928,
          -1.1546250246981458,
          0.3215877269843798,
          -1.3839309511016578,
          0.08209020772287838,
          0.9304230655889154,
          0.31745222546584634,
          0.11193970003501555,
          1.7139986776284593,
          -2.0967803975447517,
          1.0511375814990898,
          0.6383915109140148,
          1.2555622054890245,
          -0.5508945322176529,
          0.18747842418344107,
          -0.9803099881452719,
          0.1467935250497945,
          -0.20256265797208975,
          1.567893903926729,
          -1.644143572382776,
          0.30826059921641225,
          -0.7387013328474691,
          -0.019446660009001256,
          1.326199758941917,
          1.0410750283906138,
          1.2395301701487318,
          -2.406092741659287,
          2.416574931180957,
          0.6882233525175699,
          0.04639932826401581,
          -0.16979647167446166,
          0.08403610728427734,
          -0.3219768344393413,
          0.030567251288725984,
          0.6387071244259642,
          2.0584786699697726,
          2.2729373305352922,
          -1.4912937903346457,
          -1.7143541593610665,
          -0.34648232336346285,
          -0.23503278285029994,
          -0.15948119829612942,
          0.5131560094607199,
          0.3991080890988705,
          -0.6343936102103105,
          -0.0940156804309552,
          -0.17713779298576451,
          -0.75443203752132,
          -0.4360212088269227,
          -0.49578419347288005,
          -1.0089817430408183,
          -0.45886311889243525,
          -0.20026747240539783,
          -1.8763166449135418,
          0.3735678516046811,
          0.804719500794733,
          1.1871386676158464,
          1.3186386149058955,
          -1.0325204869497864,
          -1.7590503779541997,
          0.7025720876217167,
          0.2678085853874164,
          -0.7554939802021241,
          -2.372721493554485,
          -1.3184213475425806,
          0.46209929466084504,
          -0.7232520394848614,
          1.2672793869050392,
          -1.3645244928619236,
          0.9613521435589473,
          -1.3753146341448226,
          0.2316998510860715,
          1.7574559430991654,
          -3.098889574485068,
          1.1375254421854166,
          -0.5386418392620599,
          1.2300015496189856,
          -0.07574961938385888,
          1.9618251717642414,
          1.299537326929035,
          -1.1235054198822467,
          0.5221874567126272
         ],
         "xaxis": "x16",
         "yaxis": "y16"
        }
       ],
       "layout": {
        "bargap": 0.02,
        "legend": {
         "bgcolor": "#F5F6F9",
         "font": {
          "color": "#4D5663"
         }
        },
        "paper_bgcolor": "#F5F6F9",
        "plot_bgcolor": "#F5F6F9",
        "showlegend": false,
        "template": {
         "data": {
          "bar": [
           {
            "error_x": {
             "color": "#2a3f5f"
            },
            "error_y": {
             "color": "#2a3f5f"
            },
            "marker": {
             "line": {
              "color": "#E5ECF6",
              "width": 0.5
             },
             "pattern": {
              "fillmode": "overlay",
              "size": 10,
              "solidity": 0.2
             }
            },
            "type": "bar"
           }
          ],
          "barpolar": [
           {
            "marker": {
             "line": {
              "color": "#E5ECF6",
              "width": 0.5
             },
             "pattern": {
              "fillmode": "overlay",
              "size": 10,
              "solidity": 0.2
             }
            },
            "type": "barpolar"
           }
          ],
          "carpet": [
           {
            "aaxis": {
             "endlinecolor": "#2a3f5f",
             "gridcolor": "white",
             "linecolor": "white",
             "minorgridcolor": "white",
             "startlinecolor": "#2a3f5f"
            },
            "baxis": {
             "endlinecolor": "#2a3f5f",
             "gridcolor": "white",
             "linecolor": "white",
             "minorgridcolor": "white",
             "startlinecolor": "#2a3f5f"
            },
            "type": "carpet"
           }
          ],
          "choropleth": [
           {
            "colorbar": {
             "outlinewidth": 0,
             "ticks": ""
            },
            "type": "choropleth"
           }
          ],
          "contour": [
           {
            "colorbar": {
             "outlinewidth": 0,
             "ticks": ""
            },
            "colorscale": [
             [
              0,
              "#0d0887"
             ],
             [
              0.1111111111111111,
              "#46039f"
             ],
             [
              0.2222222222222222,
              "#7201a8"
             ],
             [
              0.3333333333333333,
              "#9c179e"
             ],
             [
              0.4444444444444444,
              "#bd3786"
             ],
             [
              0.5555555555555556,
              "#d8576b"
             ],
             [
              0.6666666666666666,
              "#ed7953"
             ],
             [
              0.7777777777777778,
              "#fb9f3a"
             ],
             [
              0.8888888888888888,
              "#fdca26"
             ],
             [
              1,
              "#f0f921"
             ]
            ],
            "type": "contour"
           }
          ],
          "contourcarpet": [
           {
            "colorbar": {
             "outlinewidth": 0,
             "ticks": ""
            },
            "type": "contourcarpet"
           }
          ],
          "heatmap": [
           {
            "colorbar": {
             "outlinewidth": 0,
             "ticks": ""
            },
            "colorscale": [
             [
              0,
              "#0d0887"
             ],
             [
              0.1111111111111111,
              "#46039f"
             ],
             [
              0.2222222222222222,
              "#7201a8"
             ],
             [
              0.3333333333333333,
              "#9c179e"
             ],
             [
              0.4444444444444444,
              "#bd3786"
             ],
             [
              0.5555555555555556,
              "#d8576b"
             ],
             [
              0.6666666666666666,
              "#ed7953"
             ],
             [
              0.7777777777777778,
              "#fb9f3a"
             ],
             [
              0.8888888888888888,
              "#fdca26"
             ],
             [
              1,
              "#f0f921"
             ]
            ],
            "type": "heatmap"
           }
          ],
          "heatmapgl": [
           {
            "colorbar": {
             "outlinewidth": 0,
             "ticks": ""
            },
            "colorscale": [
             [
              0,
              "#0d0887"
             ],
             [
              0.1111111111111111,
              "#46039f"
             ],
             [
              0.2222222222222222,
              "#7201a8"
             ],
             [
              0.3333333333333333,
              "#9c179e"
             ],
             [
              0.4444444444444444,
              "#bd3786"
             ],
             [
              0.5555555555555556,
              "#d8576b"
             ],
             [
              0.6666666666666666,
              "#ed7953"
             ],
             [
              0.7777777777777778,
              "#fb9f3a"
             ],
             [
              0.8888888888888888,
              "#fdca26"
             ],
             [
              1,
              "#f0f921"
             ]
            ],
            "type": "heatmapgl"
           }
          ],
          "histogram": [
           {
            "marker": {
             "pattern": {
              "fillmode": "overlay",
              "size": 10,
              "solidity": 0.2
             }
            },
            "type": "histogram"
           }
          ],
          "histogram2d": [
           {
            "colorbar": {
             "outlinewidth": 0,
             "ticks": ""
            },
            "colorscale": [
             [
              0,
              "#0d0887"
             ],
             [
              0.1111111111111111,
              "#46039f"
             ],
             [
              0.2222222222222222,
              "#7201a8"
             ],
             [
              0.3333333333333333,
              "#9c179e"
             ],
             [
              0.4444444444444444,
              "#bd3786"
             ],
             [
              0.5555555555555556,
              "#d8576b"
             ],
             [
              0.6666666666666666,
              "#ed7953"
             ],
             [
              0.7777777777777778,
              "#fb9f3a"
             ],
             [
              0.8888888888888888,
              "#fdca26"
             ],
             [
              1,
              "#f0f921"
             ]
            ],
            "type": "histogram2d"
           }
          ],
          "histogram2dcontour": [
           {
            "colorbar": {
             "outlinewidth": 0,
             "ticks": ""
            },
            "colorscale": [
             [
              0,
              "#0d0887"
             ],
             [
              0.1111111111111111,
              "#46039f"
             ],
             [
              0.2222222222222222,
              "#7201a8"
             ],
             [
              0.3333333333333333,
              "#9c179e"
             ],
             [
              0.4444444444444444,
              "#bd3786"
             ],
             [
              0.5555555555555556,
              "#d8576b"
             ],
             [
              0.6666666666666666,
              "#ed7953"
             ],
             [
              0.7777777777777778,
              "#fb9f3a"
             ],
             [
              0.8888888888888888,
              "#fdca26"
             ],
             [
              1,
              "#f0f921"
             ]
            ],
            "type": "histogram2dcontour"
           }
          ],
          "mesh3d": [
           {
            "colorbar": {
             "outlinewidth": 0,
             "ticks": ""
            },
            "type": "mesh3d"
           }
          ],
          "parcoords": [
           {
            "line": {
             "colorbar": {
              "outlinewidth": 0,
              "ticks": ""
             }
            },
            "type": "parcoords"
           }
          ],
          "pie": [
           {
            "automargin": true,
            "type": "pie"
           }
          ],
          "scatter": [
           {
            "fillpattern": {
             "fillmode": "overlay",
             "size": 10,
             "solidity": 0.2
            },
            "type": "scatter"
           }
          ],
          "scatter3d": [
           {
            "line": {
             "colorbar": {
              "outlinewidth": 0,
              "ticks": ""
             }
            },
            "marker": {
             "colorbar": {
              "outlinewidth": 0,
              "ticks": ""
             }
            },
            "type": "scatter3d"
           }
          ],
          "scattercarpet": [
           {
            "marker": {
             "colorbar": {
              "outlinewidth": 0,
              "ticks": ""
             }
            },
            "type": "scattercarpet"
           }
          ],
          "scattergeo": [
           {
            "marker": {
             "colorbar": {
              "outlinewidth": 0,
              "ticks": ""
             }
            },
            "type": "scattergeo"
           }
          ],
          "scattergl": [
           {
            "marker": {
             "colorbar": {
              "outlinewidth": 0,
              "ticks": ""
             }
            },
            "type": "scattergl"
           }
          ],
          "scattermapbox": [
           {
            "marker": {
             "colorbar": {
              "outlinewidth": 0,
              "ticks": ""
             }
            },
            "type": "scattermapbox"
           }
          ],
          "scatterpolar": [
           {
            "marker": {
             "colorbar": {
              "outlinewidth": 0,
              "ticks": ""
             }
            },
            "type": "scatterpolar"
           }
          ],
          "scatterpolargl": [
           {
            "marker": {
             "colorbar": {
              "outlinewidth": 0,
              "ticks": ""
             }
            },
            "type": "scatterpolargl"
           }
          ],
          "scatterternary": [
           {
            "marker": {
             "colorbar": {
              "outlinewidth": 0,
              "ticks": ""
             }
            },
            "type": "scatterternary"
           }
          ],
          "surface": [
           {
            "colorbar": {
             "outlinewidth": 0,
             "ticks": ""
            },
            "colorscale": [
             [
              0,
              "#0d0887"
             ],
             [
              0.1111111111111111,
              "#46039f"
             ],
             [
              0.2222222222222222,
              "#7201a8"
             ],
             [
              0.3333333333333333,
              "#9c179e"
             ],
             [
              0.4444444444444444,
              "#bd3786"
             ],
             [
              0.5555555555555556,
              "#d8576b"
             ],
             [
              0.6666666666666666,
              "#ed7953"
             ],
             [
              0.7777777777777778,
              "#fb9f3a"
             ],
             [
              0.8888888888888888,
              "#fdca26"
             ],
             [
              1,
              "#f0f921"
             ]
            ],
            "type": "surface"
           }
          ],
          "table": [
           {
            "cells": {
             "fill": {
              "color": "#EBF0F8"
             },
             "line": {
              "color": "white"
             }
            },
            "header": {
             "fill": {
              "color": "#C8D4E3"
             },
             "line": {
              "color": "white"
             }
            },
            "type": "table"
           }
          ]
         },
         "layout": {
          "annotationdefaults": {
           "arrowcolor": "#2a3f5f",
           "arrowhead": 0,
           "arrowwidth": 1
          },
          "autotypenumbers": "strict",
          "coloraxis": {
           "colorbar": {
            "outlinewidth": 0,
            "ticks": ""
           }
          },
          "colorscale": {
           "diverging": [
            [
             0,
             "#8e0152"
            ],
            [
             0.1,
             "#c51b7d"
            ],
            [
             0.2,
             "#de77ae"
            ],
            [
             0.3,
             "#f1b6da"
            ],
            [
             0.4,
             "#fde0ef"
            ],
            [
             0.5,
             "#f7f7f7"
            ],
            [
             0.6,
             "#e6f5d0"
            ],
            [
             0.7,
             "#b8e186"
            ],
            [
             0.8,
             "#7fbc41"
            ],
            [
             0.9,
             "#4d9221"
            ],
            [
             1,
             "#276419"
            ]
           ],
           "sequential": [
            [
             0,
             "#0d0887"
            ],
            [
             0.1111111111111111,
             "#46039f"
            ],
            [
             0.2222222222222222,
             "#7201a8"
            ],
            [
             0.3333333333333333,
             "#9c179e"
            ],
            [
             0.4444444444444444,
             "#bd3786"
            ],
            [
             0.5555555555555556,
             "#d8576b"
            ],
            [
             0.6666666666666666,
             "#ed7953"
            ],
            [
             0.7777777777777778,
             "#fb9f3a"
            ],
            [
             0.8888888888888888,
             "#fdca26"
            ],
            [
             1,
             "#f0f921"
            ]
           ],
           "sequentialminus": [
            [
             0,
             "#0d0887"
            ],
            [
             0.1111111111111111,
             "#46039f"
            ],
            [
             0.2222222222222222,
             "#7201a8"
            ],
            [
             0.3333333333333333,
             "#9c179e"
            ],
            [
             0.4444444444444444,
             "#bd3786"
            ],
            [
             0.5555555555555556,
             "#d8576b"
            ],
            [
             0.6666666666666666,
             "#ed7953"
            ],
            [
             0.7777777777777778,
             "#fb9f3a"
            ],
            [
             0.8888888888888888,
             "#fdca26"
            ],
            [
             1,
             "#f0f921"
            ]
           ]
          },
          "colorway": [
           "#636efa",
           "#EF553B",
           "#00cc96",
           "#ab63fa",
           "#FFA15A",
           "#19d3f3",
           "#FF6692",
           "#B6E880",
           "#FF97FF",
           "#FECB52"
          ],
          "font": {
           "color": "#2a3f5f"
          },
          "geo": {
           "bgcolor": "white",
           "lakecolor": "white",
           "landcolor": "#E5ECF6",
           "showlakes": true,
           "showland": true,
           "subunitcolor": "white"
          },
          "hoverlabel": {
           "align": "left"
          },
          "hovermode": "closest",
          "mapbox": {
           "style": "light"
          },
          "paper_bgcolor": "white",
          "plot_bgcolor": "#E5ECF6",
          "polar": {
           "angularaxis": {
            "gridcolor": "white",
            "linecolor": "white",
            "ticks": ""
           },
           "bgcolor": "#E5ECF6",
           "radialaxis": {
            "gridcolor": "white",
            "linecolor": "white",
            "ticks": ""
           }
          },
          "scene": {
           "xaxis": {
            "backgroundcolor": "#E5ECF6",
            "gridcolor": "white",
            "gridwidth": 2,
            "linecolor": "white",
            "showbackground": true,
            "ticks": "",
            "zerolinecolor": "white"
           },
           "yaxis": {
            "backgroundcolor": "#E5ECF6",
            "gridcolor": "white",
            "gridwidth": 2,
            "linecolor": "white",
            "showbackground": true,
            "ticks": "",
            "zerolinecolor": "white"
           },
           "zaxis": {
            "backgroundcolor": "#E5ECF6",
            "gridcolor": "white",
            "gridwidth": 2,
            "linecolor": "white",
            "showbackground": true,
            "ticks": "",
            "zerolinecolor": "white"
           }
          },
          "shapedefaults": {
           "line": {
            "color": "#2a3f5f"
           }
          },
          "ternary": {
           "aaxis": {
            "gridcolor": "white",
            "linecolor": "white",
            "ticks": ""
           },
           "baxis": {
            "gridcolor": "white",
            "linecolor": "white",
            "ticks": ""
           },
           "bgcolor": "#E5ECF6",
           "caxis": {
            "gridcolor": "white",
            "linecolor": "white",
            "ticks": ""
           }
          },
          "title": {
           "x": 0.05
          },
          "xaxis": {
           "automargin": true,
           "gridcolor": "white",
           "linecolor": "white",
           "ticks": "",
           "title": {
            "standoff": 15
           },
           "zerolinecolor": "white",
           "zerolinewidth": 2
          },
          "yaxis": {
           "automargin": true,
           "gridcolor": "white",
           "linecolor": "white",
           "ticks": "",
           "title": {
            "standoff": 15
           },
           "zerolinecolor": "white",
           "zerolinewidth": 2
          }
         }
        },
        "title": {
         "font": {
          "color": "#4D5663"
         }
        },
        "xaxis": {
         "anchor": "y",
         "domain": [
          0,
          0.2125
         ],
         "gridcolor": "#E1E5ED",
         "showgrid": false,
         "tickfont": {
          "color": "#4D5663"
         },
         "title": {
          "font": {
           "color": "#4D5663"
          },
          "text": ""
         },
         "zerolinecolor": "#E1E5ED"
        },
        "xaxis10": {
         "anchor": "y10",
         "domain": [
          0.2625,
          0.475
         ],
         "gridcolor": "#E1E5ED",
         "showgrid": false,
         "tickfont": {
          "color": "#4D5663"
         },
         "title": {
          "font": {
           "color": "#4D5663"
          },
          "text": ""
         },
         "zerolinecolor": "#E1E5ED"
        },
        "xaxis11": {
         "anchor": "y11",
         "domain": [
          0.525,
          0.7375
         ],
         "gridcolor": "#E1E5ED",
         "showgrid": false,
         "tickfont": {
          "color": "#4D5663"
         },
         "title": {
          "font": {
           "color": "#4D5663"
          },
          "text": ""
         },
         "zerolinecolor": "#E1E5ED"
        },
        "xaxis12": {
         "anchor": "y12",
         "domain": [
          0.7875,
          1
         ],
         "gridcolor": "#E1E5ED",
         "showgrid": false,
         "tickfont": {
          "color": "#4D5663"
         },
         "title": {
          "font": {
           "color": "#4D5663"
          },
          "text": ""
         },
         "zerolinecolor": "#E1E5ED"
        },
        "xaxis13": {
         "anchor": "y13",
         "domain": [
          0,
          0.2125
         ],
         "gridcolor": "#E1E5ED",
         "showgrid": false,
         "tickfont": {
          "color": "#4D5663"
         },
         "title": {
          "font": {
           "color": "#4D5663"
          },
          "text": ""
         },
         "zerolinecolor": "#E1E5ED"
        },
        "xaxis14": {
         "anchor": "y14",
         "domain": [
          0.2625,
          0.475
         ],
         "gridcolor": "#E1E5ED",
         "showgrid": false,
         "tickfont": {
          "color": "#4D5663"
         },
         "title": {
          "font": {
           "color": "#4D5663"
          },
          "text": ""
         },
         "zerolinecolor": "#E1E5ED"
        },
        "xaxis15": {
         "anchor": "y15",
         "domain": [
          0.525,
          0.7375
         ],
         "gridcolor": "#E1E5ED",
         "showgrid": false,
         "tickfont": {
          "color": "#4D5663"
         },
         "title": {
          "font": {
           "color": "#4D5663"
          },
          "text": ""
         },
         "zerolinecolor": "#E1E5ED"
        },
        "xaxis16": {
         "anchor": "y16",
         "domain": [
          0.7875,
          1
         ],
         "gridcolor": "#E1E5ED",
         "showgrid": false,
         "tickfont": {
          "color": "#4D5663"
         },
         "title": {
          "font": {
           "color": "#4D5663"
          },
          "text": ""
         },
         "zerolinecolor": "#E1E5ED"
        },
        "xaxis2": {
         "anchor": "y2",
         "domain": [
          0.2625,
          0.475
         ],
         "gridcolor": "#E1E5ED",
         "showgrid": false,
         "tickfont": {
          "color": "#4D5663"
         },
         "title": {
          "font": {
           "color": "#4D5663"
          },
          "text": ""
         },
         "zerolinecolor": "#E1E5ED"
        },
        "xaxis3": {
         "anchor": "y3",
         "domain": [
          0.525,
          0.7375
         ],
         "gridcolor": "#E1E5ED",
         "showgrid": false,
         "tickfont": {
          "color": "#4D5663"
         },
         "title": {
          "font": {
           "color": "#4D5663"
          },
          "text": ""
         },
         "zerolinecolor": "#E1E5ED"
        },
        "xaxis4": {
         "anchor": "y4",
         "domain": [
          0.7875,
          1
         ],
         "gridcolor": "#E1E5ED",
         "showgrid": false,
         "tickfont": {
          "color": "#4D5663"
         },
         "title": {
          "font": {
           "color": "#4D5663"
          },
          "text": ""
         },
         "zerolinecolor": "#E1E5ED"
        },
        "xaxis5": {
         "anchor": "y5",
         "domain": [
          0,
          0.2125
         ],
         "gridcolor": "#E1E5ED",
         "showgrid": false,
         "tickfont": {
          "color": "#4D5663"
         },
         "title": {
          "font": {
           "color": "#4D5663"
          },
          "text": ""
         },
         "zerolinecolor": "#E1E5ED"
        },
        "xaxis6": {
         "anchor": "y6",
         "domain": [
          0.2625,
          0.475
         ],
         "gridcolor": "#E1E5ED",
         "showgrid": false,
         "tickfont": {
          "color": "#4D5663"
         },
         "title": {
          "font": {
           "color": "#4D5663"
          },
          "text": ""
         },
         "zerolinecolor": "#E1E5ED"
        },
        "xaxis7": {
         "anchor": "y7",
         "domain": [
          0.525,
          0.7375
         ],
         "gridcolor": "#E1E5ED",
         "showgrid": false,
         "tickfont": {
          "color": "#4D5663"
         },
         "title": {
          "font": {
           "color": "#4D5663"
          },
          "text": ""
         },
         "zerolinecolor": "#E1E5ED"
        },
        "xaxis8": {
         "anchor": "y8",
         "domain": [
          0.7875,
          1
         ],
         "gridcolor": "#E1E5ED",
         "showgrid": false,
         "tickfont": {
          "color": "#4D5663"
         },
         "title": {
          "font": {
           "color": "#4D5663"
          },
          "text": ""
         },
         "zerolinecolor": "#E1E5ED"
        },
        "xaxis9": {
         "anchor": "y9",
         "domain": [
          0,
          0.2125
         ],
         "gridcolor": "#E1E5ED",
         "showgrid": false,
         "tickfont": {
          "color": "#4D5663"
         },
         "title": {
          "font": {
           "color": "#4D5663"
          },
          "text": ""
         },
         "zerolinecolor": "#E1E5ED"
        },
        "yaxis": {
         "anchor": "x",
         "domain": [
          0.8025,
          1
         ],
         "gridcolor": "#E1E5ED",
         "showgrid": false,
         "tickfont": {
          "color": "#4D5663"
         },
         "title": {
          "font": {
           "color": "#4D5663"
          },
          "text": ""
         },
         "zerolinecolor": "#E1E5ED"
        },
        "yaxis10": {
         "anchor": "x10",
         "domain": [
          0.2675,
          0.465
         ],
         "gridcolor": "#E1E5ED",
         "showgrid": false,
         "tickfont": {
          "color": "#4D5663"
         },
         "title": {
          "font": {
           "color": "#4D5663"
          },
          "text": ""
         },
         "zerolinecolor": "#E1E5ED"
        },
        "yaxis11": {
         "anchor": "x11",
         "domain": [
          0.2675,
          0.465
         ],
         "gridcolor": "#E1E5ED",
         "showgrid": false,
         "tickfont": {
          "color": "#4D5663"
         },
         "title": {
          "font": {
           "color": "#4D5663"
          },
          "text": ""
         },
         "zerolinecolor": "#E1E5ED"
        },
        "yaxis12": {
         "anchor": "x12",
         "domain": [
          0.2675,
          0.465
         ],
         "gridcolor": "#E1E5ED",
         "showgrid": false,
         "tickfont": {
          "color": "#4D5663"
         },
         "title": {
          "font": {
           "color": "#4D5663"
          },
          "text": ""
         },
         "zerolinecolor": "#E1E5ED"
        },
        "yaxis13": {
         "anchor": "x13",
         "domain": [
          0,
          0.1975
         ],
         "gridcolor": "#E1E5ED",
         "showgrid": false,
         "tickfont": {
          "color": "#4D5663"
         },
         "title": {
          "font": {
           "color": "#4D5663"
          },
          "text": ""
         },
         "zerolinecolor": "#E1E5ED"
        },
        "yaxis14": {
         "anchor": "x14",
         "domain": [
          0,
          0.1975
         ],
         "gridcolor": "#E1E5ED",
         "showgrid": false,
         "tickfont": {
          "color": "#4D5663"
         },
         "title": {
          "font": {
           "color": "#4D5663"
          },
          "text": ""
         },
         "zerolinecolor": "#E1E5ED"
        },
        "yaxis15": {
         "anchor": "x15",
         "domain": [
          0,
          0.1975
         ],
         "gridcolor": "#E1E5ED",
         "showgrid": false,
         "tickfont": {
          "color": "#4D5663"
         },
         "title": {
          "font": {
           "color": "#4D5663"
          },
          "text": ""
         },
         "zerolinecolor": "#E1E5ED"
        },
        "yaxis16": {
         "anchor": "x16",
         "domain": [
          0,
          0.1975
         ],
         "gridcolor": "#E1E5ED",
         "showgrid": false,
         "tickfont": {
          "color": "#4D5663"
         },
         "title": {
          "font": {
           "color": "#4D5663"
          },
          "text": ""
         },
         "zerolinecolor": "#E1E5ED"
        },
        "yaxis2": {
         "anchor": "x2",
         "domain": [
          0.8025,
          1
         ],
         "gridcolor": "#E1E5ED",
         "showgrid": false,
         "tickfont": {
          "color": "#4D5663"
         },
         "title": {
          "font": {
           "color": "#4D5663"
          },
          "text": ""
         },
         "zerolinecolor": "#E1E5ED"
        },
        "yaxis3": {
         "anchor": "x3",
         "domain": [
          0.8025,
          1
         ],
         "gridcolor": "#E1E5ED",
         "showgrid": false,
         "tickfont": {
          "color": "#4D5663"
         },
         "title": {
          "font": {
           "color": "#4D5663"
          },
          "text": ""
         },
         "zerolinecolor": "#E1E5ED"
        },
        "yaxis4": {
         "anchor": "x4",
         "domain": [
          0.8025,
          1
         ],
         "gridcolor": "#E1E5ED",
         "showgrid": false,
         "tickfont": {
          "color": "#4D5663"
         },
         "title": {
          "font": {
           "color": "#4D5663"
          },
          "text": ""
         },
         "zerolinecolor": "#E1E5ED"
        },
        "yaxis5": {
         "anchor": "x5",
         "domain": [
          0.535,
          0.7325
         ],
         "gridcolor": "#E1E5ED",
         "showgrid": false,
         "tickfont": {
          "color": "#4D5663"
         },
         "title": {
          "font": {
           "color": "#4D5663"
          },
          "text": ""
         },
         "zerolinecolor": "#E1E5ED"
        },
        "yaxis6": {
         "anchor": "x6",
         "domain": [
          0.535,
          0.7325
         ],
         "gridcolor": "#E1E5ED",
         "showgrid": false,
         "tickfont": {
          "color": "#4D5663"
         },
         "title": {
          "font": {
           "color": "#4D5663"
          },
          "text": ""
         },
         "zerolinecolor": "#E1E5ED"
        },
        "yaxis7": {
         "anchor": "x7",
         "domain": [
          0.535,
          0.7325
         ],
         "gridcolor": "#E1E5ED",
         "showgrid": false,
         "tickfont": {
          "color": "#4D5663"
         },
         "title": {
          "font": {
           "color": "#4D5663"
          },
          "text": ""
         },
         "zerolinecolor": "#E1E5ED"
        },
        "yaxis8": {
         "anchor": "x8",
         "domain": [
          0.535,
          0.7325
         ],
         "gridcolor": "#E1E5ED",
         "showgrid": false,
         "tickfont": {
          "color": "#4D5663"
         },
         "title": {
          "font": {
           "color": "#4D5663"
          },
          "text": ""
         },
         "zerolinecolor": "#E1E5ED"
        },
        "yaxis9": {
         "anchor": "x9",
         "domain": [
          0.2675,
          0.465
         ],
         "gridcolor": "#E1E5ED",
         "showgrid": false,
         "tickfont": {
          "color": "#4D5663"
         },
         "title": {
          "font": {
           "color": "#4D5663"
          },
          "text": ""
         },
         "zerolinecolor": "#E1E5ED"
        }
       }
      },
      "text/html": [
       "<div>                            <div id=\"fa9bbe7d-b3bb-4305-bdc1-82cec06cbd61\" class=\"plotly-graph-div\" style=\"height:525px; width:100%;\"></div>            <script type=\"text/javascript\">                require([\"plotly\"], function(Plotly) {                    window.PLOTLYENV=window.PLOTLYENV || {};\n",
       "                    window.PLOTLYENV.BASE_URL='https://plot.ly';                                    if (document.getElementById(\"fa9bbe7d-b3bb-4305-bdc1-82cec06cbd61\")) {                    Plotly.newPlot(                        \"fa9bbe7d-b3bb-4305-bdc1-82cec06cbd61\",                        [{\"histfunc\":\"count\",\"histnorm\":\"\",\"marker\":{\"color\":\"rgba(255, 153, 51, 1.0)\",\"line\":{\"color\":\"#4D5663\",\"width\":1.3}},\"name\":\"A\",\"nbinsx\":10,\"opacity\":0.8,\"orientation\":\"v\",\"x\":[0.4278303063139346,-0.17960339661206842,1.0164042618967994,-0.7122789625358378,-0.6470161726957598,-1.5391054711001806,-0.816419876227612,0.14992634819113262,-0.2538297184910725,0.4011312596835835,-0.35121217557811146,-0.08067457705225729,-1.2864396719186408,0.46615802073452944,-0.3186788122439116,1.0143288516154085,-2.2806490282504535,0.40384690521168326,0.6018005259883966,-0.25978009976335664,-1.1669122342579856,0.8573994100521745,0.8623475326006868,-0.3544586484489518,0.4110630086982138,-0.32937147502200953,0.8971370723551457,0.42079992650952014,-0.4723624434704465,0.12777627493488986,0.4889927615403592,-0.9481653064033165,0.10111690399406939,-0.5199092906505531,-0.9131480083912413,1.091390985730131,-1.166766293120185,0.20757181583433243,0.6829620194836434,-1.0930355069538578,-0.02650130330699229,-1.2924400269578538,0.14418601175977652,-0.20223854166849403,0.19208883138239824,-0.18114204996310787,-0.19841663539400559,1.8385362877297255,0.15384934369884648,-0.3098194447686136,-1.2045370228630572,0.5327550476824217,-0.29441402000600364,0.3709208833043238,-1.5092728793466288,0.5191502262763877,1.4637639676598087,-0.7232252992171272,0.6980766119028778,-0.7563825513013476,-0.7421339581048623,1.121264011877191,0.013752107630780407,-0.5892825852411415,0.6056490857330595,0.9780201457682005,0.3394107574260655,-0.29779406831739264,-0.8249862472503384,-0.006608688646789804,0.9173723910209661,-0.03603833862910183,-0.6990592443026739,-1.342749352000533,-1.7062572618616654,-0.4379870105257444,-0.37396788969217615,-1.2152159255979396,0.85898836922212,0.2853468800286372,0.08525587871536675,0.3440875236892165,0.43424037380948755,0.5175629844710247,-0.06289870370813987,-0.3717812990629133,-1.3435656884172564,2.1465656501241304,0.9877233116000835,0.04448063913151714,-0.5020413908536919,0.13533132322167515,-0.4085192034480075,-0.5307015361759451,0.8328125615881095,0.16467398244369646,0.3384160963082231,0.5451546074803042,0.565600486678321,0.7341938436024419],\"xaxis\":\"x\",\"yaxis\":\"y\",\"type\":\"histogram\"},{\"line\":{\"color\":\"rgba(128, 128, 128, 1.0)\",\"dash\":\"solid\",\"shape\":\"linear\",\"width\":1.3},\"marker\":{\"size\":2,\"symbol\":\"circle\"},\"mode\":\"markers\",\"name\":\"A\",\"text\":\"\",\"x\":[0.48306040414083834,0.009058351407117657,-0.10115869895854517,1.299364507421079,-0.917630514349454,-0.0004417653346297867,-0.40798279547156635,0.3444360696810804,-0.5303963906334963,0.16405004030193343,0.3350632725543995,-0.1981882405566007,-0.24432705870638655,1.096647494957282,0.3648057242653707,1.792685105555086,1.4643582511094944,-0.8544839418659624,-0.9191036875899685,0.5677118433595862,0.3644188202879386,0.33595984166710796,1.9936047851335992,-0.3184669272450796,0.32975569755681217,0.4260629510999024,0.23486176179843596,-1.086942248367033,0.3674910042928074,-0.46547162469799963,-0.9924427421111863,-2.1406810439355066,-0.21469032628104553,-0.12076619656413162,0.7647436190552594,0.4929088265880474,-0.8771908460491088,2.1777215427021996,0.04436592206782866,-0.0073038619111890565,1.4963995074604057,-0.46116149162445347,-0.9719021840295913,0.6605389800911491,-1.160605255775432,0.6757450195029824,-0.6991125021178969,0.5398846034108065,-0.4066398571344095,-0.31589064660126354,-0.7208238632743234,-0.383731214271165,-1.3536096966031266,0.4987596504299444,0.22804262761234906,-0.9882108951751464,0.6127722213063093,-0.9834991873284643,0.14950554896813462,0.4830956263791654,0.17451464216515458,-1.816099518246873,1.1385736700100326,-1.0036133687647835,0.8188788059107236,1.157425588927253,-1.1723531019569493,-0.07573755585923887,0.17966228070772516,0.6285754121275586,1.1372469738815771,-0.28269154554196035,0.7165406494548696,-0.23007318691659548,-0.8883280341101701,0.3281056679583895,-0.5449040671497705,-1.5170140313832825,0.7159357051909687,1.2061881235431922,-1.487080206258318,0.219275882063202,0.007041079866349726,0.2331570317320377,0.0034261754096381295,0.08514670420553244,-1.1107420851889813,1.8460938344620215,-0.21158616035407998,0.0044370729423990705,-0.39390964225737446,-1.222526038408339,-0.43863339052296013,-0.08599763750602338,-0.7734350600969128,-0.12144896846053277,-0.18775311587229412,1.4392171860459413,-0.2882843728195542,0.364549423795677],\"xaxis\":\"x2\",\"y\":[0.4278303063139346,-0.17960339661206842,1.0164042618967994,-0.7122789625358378,-0.6470161726957598,-1.5391054711001806,-0.816419876227612,0.14992634819113262,-0.2538297184910725,0.4011312596835835,-0.35121217557811146,-0.08067457705225729,-1.2864396719186408,0.46615802073452944,-0.3186788122439116,1.0143288516154085,-2.2806490282504535,0.40384690521168326,0.6018005259883966,-0.25978009976335664,-1.1669122342579856,0.8573994100521745,0.8623475326006868,-0.3544586484489518,0.4110630086982138,-0.32937147502200953,0.8971370723551457,0.42079992650952014,-0.4723624434704465,0.12777627493488986,0.4889927615403592,-0.9481653064033165,0.10111690399406939,-0.5199092906505531,-0.9131480083912413,1.091390985730131,-1.166766293120185,0.20757181583433243,0.6829620194836434,-1.0930355069538578,-0.02650130330699229,-1.2924400269578538,0.14418601175977652,-0.20223854166849403,0.19208883138239824,-0.18114204996310787,-0.19841663539400559,1.8385362877297255,0.15384934369884648,-0.3098194447686136,-1.2045370228630572,0.5327550476824217,-0.29441402000600364,0.3709208833043238,-1.5092728793466288,0.5191502262763877,1.4637639676598087,-0.7232252992171272,0.6980766119028778,-0.7563825513013476,-0.7421339581048623,1.121264011877191,0.013752107630780407,-0.5892825852411415,0.6056490857330595,0.9780201457682005,0.3394107574260655,-0.29779406831739264,-0.8249862472503384,-0.006608688646789804,0.9173723910209661,-0.03603833862910183,-0.6990592443026739,-1.342749352000533,-1.7062572618616654,-0.4379870105257444,-0.37396788969217615,-1.2152159255979396,0.85898836922212,0.2853468800286372,0.08525587871536675,0.3440875236892165,0.43424037380948755,0.5175629844710247,-0.06289870370813987,-0.3717812990629133,-1.3435656884172564,2.1465656501241304,0.9877233116000835,0.04448063913151714,-0.5020413908536919,0.13533132322167515,-0.4085192034480075,-0.5307015361759451,0.8328125615881095,0.16467398244369646,0.3384160963082231,0.5451546074803042,0.565600486678321,0.7341938436024419],\"yaxis\":\"y2\",\"type\":\"scatter\"},{\"line\":{\"color\":\"rgba(128, 128, 128, 1.0)\",\"dash\":\"solid\",\"shape\":\"linear\",\"width\":1.3},\"marker\":{\"size\":2,\"symbol\":\"circle\"},\"mode\":\"markers\",\"name\":\"A\",\"text\":\"\",\"x\":[-0.24206467032319814,-1.2631525698375463,0.4594071214617641,0.60077235908034,-0.9265626233504829,0.6756216034502802,0.7434142581111773,0.018262130597430336,-0.06392608339156247,1.4060464622338318,1.0686269655137899,0.002754273374794008,0.4605672689199664,0.39263815023305654,-0.7329865214766967,1.6297002427753362,-0.0008107283884601559,1.9765014199108537,1.2096049063087697,1.6213248538289111,-1.585873889736527,-0.8651655009854876,0.020988001541876446,-1.3406838702958856,-0.951200160119948,-0.497654320179825,-0.021054458357745297,-1.0574593040360256,1.0294055755935148,1.2163001342613522,0.17970515970423812,-0.11760176641969425,-1.0969510943885759,-0.5868858904725097,2.083934082971225,-0.9181885756735065,-0.1553782987340766,-0.820988776654748,-0.3804720882188407,-0.35752641236018046,-0.35401246761989624,-0.5775830532493539,-2.424900350237003,0.2855207075604285,0.46936376753898157,-0.21746001938038956,0.06450952686778252,0.7444671538036397,-1.2248250486686556,-1.416788946235324,1.3705699230468036,-0.2893623524636134,0.7887332621839191,0.6265750340329868,-1.7050938119207735,-1.710626378654247,-0.17212900337049927,0.786445692495372,0.8728446850178994,-0.04713310597221714,0.13142099172018107,0.39726379664821326,1.322607054992196,0.5354512919666429,1.2374262494474055,2.116237482381573,1.9044511430298887,1.391112716532458,-0.35693852947472154,0.4918662133612119,-0.5922710055561605,-0.7878598194918272,0.5265707948268116,-0.642020950111216,0.5517844245714252,-0.7934961397371885,0.7908296097983124,2.275523536747189,1.1606453869673206,-0.7974626361895323,0.005581955560807476,0.21689162723437547,0.22298419441339054,0.8200441699855056,1.19166521369793,-0.8976133213470465,-0.567476953648249,-0.7809052141714418,-0.27644458517576165,1.0616591780119478,-1.2363549285298678,0.1262708566305871,0.9525493443749347,-1.6866168540938908,-0.4902723986210022,-0.7992571135728221,-2.074657039634036,0.30943950283626537,0.9782524876015997,-0.1773164998324019],\"xaxis\":\"x3\",\"y\":[0.4278303063139346,-0.17960339661206842,1.0164042618967994,-0.7122789625358378,-0.6470161726957598,-1.5391054711001806,-0.816419876227612,0.14992634819113262,-0.2538297184910725,0.4011312596835835,-0.35121217557811146,-0.08067457705225729,-1.2864396719186408,0.46615802073452944,-0.3186788122439116,1.0143288516154085,-2.2806490282504535,0.40384690521168326,0.6018005259883966,-0.25978009976335664,-1.1669122342579856,0.8573994100521745,0.8623475326006868,-0.3544586484489518,0.4110630086982138,-0.32937147502200953,0.8971370723551457,0.42079992650952014,-0.4723624434704465,0.12777627493488986,0.4889927615403592,-0.9481653064033165,0.10111690399406939,-0.5199092906505531,-0.9131480083912413,1.091390985730131,-1.166766293120185,0.20757181583433243,0.6829620194836434,-1.0930355069538578,-0.02650130330699229,-1.2924400269578538,0.14418601175977652,-0.20223854166849403,0.19208883138239824,-0.18114204996310787,-0.19841663539400559,1.8385362877297255,0.15384934369884648,-0.3098194447686136,-1.2045370228630572,0.5327550476824217,-0.29441402000600364,0.3709208833043238,-1.5092728793466288,0.5191502262763877,1.4637639676598087,-0.7232252992171272,0.6980766119028778,-0.7563825513013476,-0.7421339581048623,1.121264011877191,0.013752107630780407,-0.5892825852411415,0.6056490857330595,0.9780201457682005,0.3394107574260655,-0.29779406831739264,-0.8249862472503384,-0.006608688646789804,0.9173723910209661,-0.03603833862910183,-0.6990592443026739,-1.342749352000533,-1.7062572618616654,-0.4379870105257444,-0.37396788969217615,-1.2152159255979396,0.85898836922212,0.2853468800286372,0.08525587871536675,0.3440875236892165,0.43424037380948755,0.5175629844710247,-0.06289870370813987,-0.3717812990629133,-1.3435656884172564,2.1465656501241304,0.9877233116000835,0.04448063913151714,-0.5020413908536919,0.13533132322167515,-0.4085192034480075,-0.5307015361759451,0.8328125615881095,0.16467398244369646,0.3384160963082231,0.5451546074803042,0.565600486678321,0.7341938436024419],\"yaxis\":\"y3\",\"type\":\"scatter\"},{\"line\":{\"color\":\"rgba(128, 128, 128, 1.0)\",\"dash\":\"solid\",\"shape\":\"linear\",\"width\":1.3},\"marker\":{\"size\":2,\"symbol\":\"circle\"},\"mode\":\"markers\",\"name\":\"A\",\"text\":\"\",\"x\":[-1.7133387861031382,-1.2932945006528207,0.14441817391879672,-0.46427328484531893,-1.3646050456562944,0.4686406470154942,0.7474547724221794,-0.675305811206826,0.758847914674031,0.7428028093361997,-0.4065924037422975,0.8064727208976706,0.2931240500444258,-1.0914232991042179,-2.0453820137163046,-0.2936273028983105,-0.14035412942006467,-0.8301817516350479,-0.7865457087503928,-1.1546250246981458,0.3215877269843798,-1.3839309511016578,0.08209020772287838,0.9304230655889154,0.31745222546584634,0.11193970003501555,1.7139986776284593,-2.0967803975447517,1.0511375814990898,0.6383915109140148,1.2555622054890245,-0.5508945322176529,0.18747842418344107,-0.9803099881452719,0.1467935250497945,-0.20256265797208975,1.567893903926729,-1.644143572382776,0.30826059921641225,-0.7387013328474691,-0.019446660009001256,1.326199758941917,1.0410750283906138,1.2395301701487318,-2.406092741659287,2.416574931180957,0.6882233525175699,0.04639932826401581,-0.16979647167446166,0.08403610728427734,-0.3219768344393413,0.030567251288725984,0.6387071244259642,2.0584786699697726,2.2729373305352922,-1.4912937903346457,-1.7143541593610665,-0.34648232336346285,-0.23503278285029994,-0.15948119829612942,0.5131560094607199,0.3991080890988705,-0.6343936102103105,-0.0940156804309552,-0.17713779298576451,-0.75443203752132,-0.4360212088269227,-0.49578419347288005,-1.0089817430408183,-0.45886311889243525,-0.20026747240539783,-1.8763166449135418,0.3735678516046811,0.804719500794733,1.1871386676158464,1.3186386149058955,-1.0325204869497864,-1.7590503779541997,0.7025720876217167,0.2678085853874164,-0.7554939802021241,-2.372721493554485,-1.3184213475425806,0.46209929466084504,-0.7232520394848614,1.2672793869050392,-1.3645244928619236,0.9613521435589473,-1.3753146341448226,0.2316998510860715,1.7574559430991654,-3.098889574485068,1.1375254421854166,-0.5386418392620599,1.2300015496189856,-0.07574961938385888,1.9618251717642414,1.299537326929035,-1.1235054198822467,0.5221874567126272],\"xaxis\":\"x4\",\"y\":[0.4278303063139346,-0.17960339661206842,1.0164042618967994,-0.7122789625358378,-0.6470161726957598,-1.5391054711001806,-0.816419876227612,0.14992634819113262,-0.2538297184910725,0.4011312596835835,-0.35121217557811146,-0.08067457705225729,-1.2864396719186408,0.46615802073452944,-0.3186788122439116,1.0143288516154085,-2.2806490282504535,0.40384690521168326,0.6018005259883966,-0.25978009976335664,-1.1669122342579856,0.8573994100521745,0.8623475326006868,-0.3544586484489518,0.4110630086982138,-0.32937147502200953,0.8971370723551457,0.42079992650952014,-0.4723624434704465,0.12777627493488986,0.4889927615403592,-0.9481653064033165,0.10111690399406939,-0.5199092906505531,-0.9131480083912413,1.091390985730131,-1.166766293120185,0.20757181583433243,0.6829620194836434,-1.0930355069538578,-0.02650130330699229,-1.2924400269578538,0.14418601175977652,-0.20223854166849403,0.19208883138239824,-0.18114204996310787,-0.19841663539400559,1.8385362877297255,0.15384934369884648,-0.3098194447686136,-1.2045370228630572,0.5327550476824217,-0.29441402000600364,0.3709208833043238,-1.5092728793466288,0.5191502262763877,1.4637639676598087,-0.7232252992171272,0.6980766119028778,-0.7563825513013476,-0.7421339581048623,1.121264011877191,0.013752107630780407,-0.5892825852411415,0.6056490857330595,0.9780201457682005,0.3394107574260655,-0.29779406831739264,-0.8249862472503384,-0.006608688646789804,0.9173723910209661,-0.03603833862910183,-0.6990592443026739,-1.342749352000533,-1.7062572618616654,-0.4379870105257444,-0.37396788969217615,-1.2152159255979396,0.85898836922212,0.2853468800286372,0.08525587871536675,0.3440875236892165,0.43424037380948755,0.5175629844710247,-0.06289870370813987,-0.3717812990629133,-1.3435656884172564,2.1465656501241304,0.9877233116000835,0.04448063913151714,-0.5020413908536919,0.13533132322167515,-0.4085192034480075,-0.5307015361759451,0.8328125615881095,0.16467398244369646,0.3384160963082231,0.5451546074803042,0.565600486678321,0.7341938436024419],\"yaxis\":\"y4\",\"type\":\"scatter\"},{\"line\":{\"color\":\"rgba(128, 128, 128, 1.0)\",\"dash\":\"solid\",\"shape\":\"linear\",\"width\":1.3},\"marker\":{\"size\":2,\"symbol\":\"circle\"},\"mode\":\"markers\",\"name\":\"B\",\"text\":\"\",\"x\":[0.4278303063139346,-0.17960339661206842,1.0164042618967994,-0.7122789625358378,-0.6470161726957598,-1.5391054711001806,-0.816419876227612,0.14992634819113262,-0.2538297184910725,0.4011312596835835,-0.35121217557811146,-0.08067457705225729,-1.2864396719186408,0.46615802073452944,-0.3186788122439116,1.0143288516154085,-2.2806490282504535,0.40384690521168326,0.6018005259883966,-0.25978009976335664,-1.1669122342579856,0.8573994100521745,0.8623475326006868,-0.3544586484489518,0.4110630086982138,-0.32937147502200953,0.8971370723551457,0.42079992650952014,-0.4723624434704465,0.12777627493488986,0.4889927615403592,-0.9481653064033165,0.10111690399406939,-0.5199092906505531,-0.9131480083912413,1.091390985730131,-1.166766293120185,0.20757181583433243,0.6829620194836434,-1.0930355069538578,-0.02650130330699229,-1.2924400269578538,0.14418601175977652,-0.20223854166849403,0.19208883138239824,-0.18114204996310787,-0.19841663539400559,1.8385362877297255,0.15384934369884648,-0.3098194447686136,-1.2045370228630572,0.5327550476824217,-0.29441402000600364,0.3709208833043238,-1.5092728793466288,0.5191502262763877,1.4637639676598087,-0.7232252992171272,0.6980766119028778,-0.7563825513013476,-0.7421339581048623,1.121264011877191,0.013752107630780407,-0.5892825852411415,0.6056490857330595,0.9780201457682005,0.3394107574260655,-0.29779406831739264,-0.8249862472503384,-0.006608688646789804,0.9173723910209661,-0.03603833862910183,-0.6990592443026739,-1.342749352000533,-1.7062572618616654,-0.4379870105257444,-0.37396788969217615,-1.2152159255979396,0.85898836922212,0.2853468800286372,0.08525587871536675,0.3440875236892165,0.43424037380948755,0.5175629844710247,-0.06289870370813987,-0.3717812990629133,-1.3435656884172564,2.1465656501241304,0.9877233116000835,0.04448063913151714,-0.5020413908536919,0.13533132322167515,-0.4085192034480075,-0.5307015361759451,0.8328125615881095,0.16467398244369646,0.3384160963082231,0.5451546074803042,0.565600486678321,0.7341938436024419],\"xaxis\":\"x5\",\"y\":[0.48306040414083834,0.009058351407117657,-0.10115869895854517,1.299364507421079,-0.917630514349454,-0.0004417653346297867,-0.40798279547156635,0.3444360696810804,-0.5303963906334963,0.16405004030193343,0.3350632725543995,-0.1981882405566007,-0.24432705870638655,1.096647494957282,0.3648057242653707,1.792685105555086,1.4643582511094944,-0.8544839418659624,-0.9191036875899685,0.5677118433595862,0.3644188202879386,0.33595984166710796,1.9936047851335992,-0.3184669272450796,0.32975569755681217,0.4260629510999024,0.23486176179843596,-1.086942248367033,0.3674910042928074,-0.46547162469799963,-0.9924427421111863,-2.1406810439355066,-0.21469032628104553,-0.12076619656413162,0.7647436190552594,0.4929088265880474,-0.8771908460491088,2.1777215427021996,0.04436592206782866,-0.0073038619111890565,1.4963995074604057,-0.46116149162445347,-0.9719021840295913,0.6605389800911491,-1.160605255775432,0.6757450195029824,-0.6991125021178969,0.5398846034108065,-0.4066398571344095,-0.31589064660126354,-0.7208238632743234,-0.383731214271165,-1.3536096966031266,0.4987596504299444,0.22804262761234906,-0.9882108951751464,0.6127722213063093,-0.9834991873284643,0.14950554896813462,0.4830956263791654,0.17451464216515458,-1.816099518246873,1.1385736700100326,-1.0036133687647835,0.8188788059107236,1.157425588927253,-1.1723531019569493,-0.07573755585923887,0.17966228070772516,0.6285754121275586,1.1372469738815771,-0.28269154554196035,0.7165406494548696,-0.23007318691659548,-0.8883280341101701,0.3281056679583895,-0.5449040671497705,-1.5170140313832825,0.7159357051909687,1.2061881235431922,-1.487080206258318,0.219275882063202,0.007041079866349726,0.2331570317320377,0.0034261754096381295,0.08514670420553244,-1.1107420851889813,1.8460938344620215,-0.21158616035407998,0.0044370729423990705,-0.39390964225737446,-1.222526038408339,-0.43863339052296013,-0.08599763750602338,-0.7734350600969128,-0.12144896846053277,-0.18775311587229412,1.4392171860459413,-0.2882843728195542,0.364549423795677],\"yaxis\":\"y5\",\"type\":\"scatter\"},{\"histfunc\":\"count\",\"histnorm\":\"\",\"marker\":{\"color\":\"rgba(55, 128, 191, 1.0)\",\"line\":{\"color\":\"#4D5663\",\"width\":1.3}},\"name\":\"B\",\"nbinsx\":10,\"opacity\":0.8,\"orientation\":\"v\",\"x\":[0.48306040414083834,0.009058351407117657,-0.10115869895854517,1.299364507421079,-0.917630514349454,-0.0004417653346297867,-0.40798279547156635,0.3444360696810804,-0.5303963906334963,0.16405004030193343,0.3350632725543995,-0.1981882405566007,-0.24432705870638655,1.096647494957282,0.3648057242653707,1.792685105555086,1.4643582511094944,-0.8544839418659624,-0.9191036875899685,0.5677118433595862,0.3644188202879386,0.33595984166710796,1.9936047851335992,-0.3184669272450796,0.32975569755681217,0.4260629510999024,0.23486176179843596,-1.086942248367033,0.3674910042928074,-0.46547162469799963,-0.9924427421111863,-2.1406810439355066,-0.21469032628104553,-0.12076619656413162,0.7647436190552594,0.4929088265880474,-0.8771908460491088,2.1777215427021996,0.04436592206782866,-0.0073038619111890565,1.4963995074604057,-0.46116149162445347,-0.9719021840295913,0.6605389800911491,-1.160605255775432,0.6757450195029824,-0.6991125021178969,0.5398846034108065,-0.4066398571344095,-0.31589064660126354,-0.7208238632743234,-0.383731214271165,-1.3536096966031266,0.4987596504299444,0.22804262761234906,-0.9882108951751464,0.6127722213063093,-0.9834991873284643,0.14950554896813462,0.4830956263791654,0.17451464216515458,-1.816099518246873,1.1385736700100326,-1.0036133687647835,0.8188788059107236,1.157425588927253,-1.1723531019569493,-0.07573755585923887,0.17966228070772516,0.6285754121275586,1.1372469738815771,-0.28269154554196035,0.7165406494548696,-0.23007318691659548,-0.8883280341101701,0.3281056679583895,-0.5449040671497705,-1.5170140313832825,0.7159357051909687,1.2061881235431922,-1.487080206258318,0.219275882063202,0.007041079866349726,0.2331570317320377,0.0034261754096381295,0.08514670420553244,-1.1107420851889813,1.8460938344620215,-0.21158616035407998,0.0044370729423990705,-0.39390964225737446,-1.222526038408339,-0.43863339052296013,-0.08599763750602338,-0.7734350600969128,-0.12144896846053277,-0.18775311587229412,1.4392171860459413,-0.2882843728195542,0.364549423795677],\"xaxis\":\"x6\",\"yaxis\":\"y6\",\"type\":\"histogram\"},{\"line\":{\"color\":\"rgba(128, 128, 128, 1.0)\",\"dash\":\"solid\",\"shape\":\"linear\",\"width\":1.3},\"marker\":{\"size\":2,\"symbol\":\"circle\"},\"mode\":\"markers\",\"name\":\"B\",\"text\":\"\",\"x\":[-0.24206467032319814,-1.2631525698375463,0.4594071214617641,0.60077235908034,-0.9265626233504829,0.6756216034502802,0.7434142581111773,0.018262130597430336,-0.06392608339156247,1.4060464622338318,1.0686269655137899,0.002754273374794008,0.4605672689199664,0.39263815023305654,-0.7329865214766967,1.6297002427753362,-0.0008107283884601559,1.9765014199108537,1.2096049063087697,1.6213248538289111,-1.585873889736527,-0.8651655009854876,0.020988001541876446,-1.3406838702958856,-0.951200160119948,-0.497654320179825,-0.021054458357745297,-1.0574593040360256,1.0294055755935148,1.2163001342613522,0.17970515970423812,-0.11760176641969425,-1.0969510943885759,-0.5868858904725097,2.083934082971225,-0.9181885756735065,-0.1553782987340766,-0.820988776654748,-0.3804720882188407,-0.35752641236018046,-0.35401246761989624,-0.5775830532493539,-2.424900350237003,0.2855207075604285,0.46936376753898157,-0.21746001938038956,0.06450952686778252,0.7444671538036397,-1.2248250486686556,-1.416788946235324,1.3705699230468036,-0.2893623524636134,0.7887332621839191,0.6265750340329868,-1.7050938119207735,-1.710626378654247,-0.17212900337049927,0.786445692495372,0.8728446850178994,-0.04713310597221714,0.13142099172018107,0.39726379664821326,1.322607054992196,0.5354512919666429,1.2374262494474055,2.116237482381573,1.9044511430298887,1.391112716532458,-0.35693852947472154,0.4918662133612119,-0.5922710055561605,-0.7878598194918272,0.5265707948268116,-0.642020950111216,0.5517844245714252,-0.7934961397371885,0.7908296097983124,2.275523536747189,1.1606453869673206,-0.7974626361895323,0.005581955560807476,0.21689162723437547,0.22298419441339054,0.8200441699855056,1.19166521369793,-0.8976133213470465,-0.567476953648249,-0.7809052141714418,-0.27644458517576165,1.0616591780119478,-1.2363549285298678,0.1262708566305871,0.9525493443749347,-1.6866168540938908,-0.4902723986210022,-0.7992571135728221,-2.074657039634036,0.30943950283626537,0.9782524876015997,-0.1773164998324019],\"xaxis\":\"x7\",\"y\":[0.48306040414083834,0.009058351407117657,-0.10115869895854517,1.299364507421079,-0.917630514349454,-0.0004417653346297867,-0.40798279547156635,0.3444360696810804,-0.5303963906334963,0.16405004030193343,0.3350632725543995,-0.1981882405566007,-0.24432705870638655,1.096647494957282,0.3648057242653707,1.792685105555086,1.4643582511094944,-0.8544839418659624,-0.9191036875899685,0.5677118433595862,0.3644188202879386,0.33595984166710796,1.9936047851335992,-0.3184669272450796,0.32975569755681217,0.4260629510999024,0.23486176179843596,-1.086942248367033,0.3674910042928074,-0.46547162469799963,-0.9924427421111863,-2.1406810439355066,-0.21469032628104553,-0.12076619656413162,0.7647436190552594,0.4929088265880474,-0.8771908460491088,2.1777215427021996,0.04436592206782866,-0.0073038619111890565,1.4963995074604057,-0.46116149162445347,-0.9719021840295913,0.6605389800911491,-1.160605255775432,0.6757450195029824,-0.6991125021178969,0.5398846034108065,-0.4066398571344095,-0.31589064660126354,-0.7208238632743234,-0.383731214271165,-1.3536096966031266,0.4987596504299444,0.22804262761234906,-0.9882108951751464,0.6127722213063093,-0.9834991873284643,0.14950554896813462,0.4830956263791654,0.17451464216515458,-1.816099518246873,1.1385736700100326,-1.0036133687647835,0.8188788059107236,1.157425588927253,-1.1723531019569493,-0.07573755585923887,0.17966228070772516,0.6285754121275586,1.1372469738815771,-0.28269154554196035,0.7165406494548696,-0.23007318691659548,-0.8883280341101701,0.3281056679583895,-0.5449040671497705,-1.5170140313832825,0.7159357051909687,1.2061881235431922,-1.487080206258318,0.219275882063202,0.007041079866349726,0.2331570317320377,0.0034261754096381295,0.08514670420553244,-1.1107420851889813,1.8460938344620215,-0.21158616035407998,0.0044370729423990705,-0.39390964225737446,-1.222526038408339,-0.43863339052296013,-0.08599763750602338,-0.7734350600969128,-0.12144896846053277,-0.18775311587229412,1.4392171860459413,-0.2882843728195542,0.364549423795677],\"yaxis\":\"y7\",\"type\":\"scatter\"},{\"line\":{\"color\":\"rgba(128, 128, 128, 1.0)\",\"dash\":\"solid\",\"shape\":\"linear\",\"width\":1.3},\"marker\":{\"size\":2,\"symbol\":\"circle\"},\"mode\":\"markers\",\"name\":\"B\",\"text\":\"\",\"x\":[-1.7133387861031382,-1.2932945006528207,0.14441817391879672,-0.46427328484531893,-1.3646050456562944,0.4686406470154942,0.7474547724221794,-0.675305811206826,0.758847914674031,0.7428028093361997,-0.4065924037422975,0.8064727208976706,0.2931240500444258,-1.0914232991042179,-2.0453820137163046,-0.2936273028983105,-0.14035412942006467,-0.8301817516350479,-0.7865457087503928,-1.1546250246981458,0.3215877269843798,-1.3839309511016578,0.08209020772287838,0.9304230655889154,0.31745222546584634,0.11193970003501555,1.7139986776284593,-2.0967803975447517,1.0511375814990898,0.6383915109140148,1.2555622054890245,-0.5508945322176529,0.18747842418344107,-0.9803099881452719,0.1467935250497945,-0.20256265797208975,1.567893903926729,-1.644143572382776,0.30826059921641225,-0.7387013328474691,-0.019446660009001256,1.326199758941917,1.0410750283906138,1.2395301701487318,-2.406092741659287,2.416574931180957,0.6882233525175699,0.04639932826401581,-0.16979647167446166,0.08403610728427734,-0.3219768344393413,0.030567251288725984,0.6387071244259642,2.0584786699697726,2.2729373305352922,-1.4912937903346457,-1.7143541593610665,-0.34648232336346285,-0.23503278285029994,-0.15948119829612942,0.5131560094607199,0.3991080890988705,-0.6343936102103105,-0.0940156804309552,-0.17713779298576451,-0.75443203752132,-0.4360212088269227,-0.49578419347288005,-1.0089817430408183,-0.45886311889243525,-0.20026747240539783,-1.8763166449135418,0.3735678516046811,0.804719500794733,1.1871386676158464,1.3186386149058955,-1.0325204869497864,-1.7590503779541997,0.7025720876217167,0.2678085853874164,-0.7554939802021241,-2.372721493554485,-1.3184213475425806,0.46209929466084504,-0.7232520394848614,1.2672793869050392,-1.3645244928619236,0.9613521435589473,-1.3753146341448226,0.2316998510860715,1.7574559430991654,-3.098889574485068,1.1375254421854166,-0.5386418392620599,1.2300015496189856,-0.07574961938385888,1.9618251717642414,1.299537326929035,-1.1235054198822467,0.5221874567126272],\"xaxis\":\"x8\",\"y\":[0.48306040414083834,0.009058351407117657,-0.10115869895854517,1.299364507421079,-0.917630514349454,-0.0004417653346297867,-0.40798279547156635,0.3444360696810804,-0.5303963906334963,0.16405004030193343,0.3350632725543995,-0.1981882405566007,-0.24432705870638655,1.096647494957282,0.3648057242653707,1.792685105555086,1.4643582511094944,-0.8544839418659624,-0.9191036875899685,0.5677118433595862,0.3644188202879386,0.33595984166710796,1.9936047851335992,-0.3184669272450796,0.32975569755681217,0.4260629510999024,0.23486176179843596,-1.086942248367033,0.3674910042928074,-0.46547162469799963,-0.9924427421111863,-2.1406810439355066,-0.21469032628104553,-0.12076619656413162,0.7647436190552594,0.4929088265880474,-0.8771908460491088,2.1777215427021996,0.04436592206782866,-0.0073038619111890565,1.4963995074604057,-0.46116149162445347,-0.9719021840295913,0.6605389800911491,-1.160605255775432,0.6757450195029824,-0.6991125021178969,0.5398846034108065,-0.4066398571344095,-0.31589064660126354,-0.7208238632743234,-0.383731214271165,-1.3536096966031266,0.4987596504299444,0.22804262761234906,-0.9882108951751464,0.6127722213063093,-0.9834991873284643,0.14950554896813462,0.4830956263791654,0.17451464216515458,-1.816099518246873,1.1385736700100326,-1.0036133687647835,0.8188788059107236,1.157425588927253,-1.1723531019569493,-0.07573755585923887,0.17966228070772516,0.6285754121275586,1.1372469738815771,-0.28269154554196035,0.7165406494548696,-0.23007318691659548,-0.8883280341101701,0.3281056679583895,-0.5449040671497705,-1.5170140313832825,0.7159357051909687,1.2061881235431922,-1.487080206258318,0.219275882063202,0.007041079866349726,0.2331570317320377,0.0034261754096381295,0.08514670420553244,-1.1107420851889813,1.8460938344620215,-0.21158616035407998,0.0044370729423990705,-0.39390964225737446,-1.222526038408339,-0.43863339052296013,-0.08599763750602338,-0.7734350600969128,-0.12144896846053277,-0.18775311587229412,1.4392171860459413,-0.2882843728195542,0.364549423795677],\"yaxis\":\"y8\",\"type\":\"scatter\"},{\"line\":{\"color\":\"rgba(128, 128, 128, 1.0)\",\"dash\":\"solid\",\"shape\":\"linear\",\"width\":1.3},\"marker\":{\"size\":2,\"symbol\":\"circle\"},\"mode\":\"markers\",\"name\":\"C\",\"text\":\"\",\"x\":[0.4278303063139346,-0.17960339661206842,1.0164042618967994,-0.7122789625358378,-0.6470161726957598,-1.5391054711001806,-0.816419876227612,0.14992634819113262,-0.2538297184910725,0.4011312596835835,-0.35121217557811146,-0.08067457705225729,-1.2864396719186408,0.46615802073452944,-0.3186788122439116,1.0143288516154085,-2.2806490282504535,0.40384690521168326,0.6018005259883966,-0.25978009976335664,-1.1669122342579856,0.8573994100521745,0.8623475326006868,-0.3544586484489518,0.4110630086982138,-0.32937147502200953,0.8971370723551457,0.42079992650952014,-0.4723624434704465,0.12777627493488986,0.4889927615403592,-0.9481653064033165,0.10111690399406939,-0.5199092906505531,-0.9131480083912413,1.091390985730131,-1.166766293120185,0.20757181583433243,0.6829620194836434,-1.0930355069538578,-0.02650130330699229,-1.2924400269578538,0.14418601175977652,-0.20223854166849403,0.19208883138239824,-0.18114204996310787,-0.19841663539400559,1.8385362877297255,0.15384934369884648,-0.3098194447686136,-1.2045370228630572,0.5327550476824217,-0.29441402000600364,0.3709208833043238,-1.5092728793466288,0.5191502262763877,1.4637639676598087,-0.7232252992171272,0.6980766119028778,-0.7563825513013476,-0.7421339581048623,1.121264011877191,0.013752107630780407,-0.5892825852411415,0.6056490857330595,0.9780201457682005,0.3394107574260655,-0.29779406831739264,-0.8249862472503384,-0.006608688646789804,0.9173723910209661,-0.03603833862910183,-0.6990592443026739,-1.342749352000533,-1.7062572618616654,-0.4379870105257444,-0.37396788969217615,-1.2152159255979396,0.85898836922212,0.2853468800286372,0.08525587871536675,0.3440875236892165,0.43424037380948755,0.5175629844710247,-0.06289870370813987,-0.3717812990629133,-1.3435656884172564,2.1465656501241304,0.9877233116000835,0.04448063913151714,-0.5020413908536919,0.13533132322167515,-0.4085192034480075,-0.5307015361759451,0.8328125615881095,0.16467398244369646,0.3384160963082231,0.5451546074803042,0.565600486678321,0.7341938436024419],\"xaxis\":\"x9\",\"y\":[-0.24206467032319814,-1.2631525698375463,0.4594071214617641,0.60077235908034,-0.9265626233504829,0.6756216034502802,0.7434142581111773,0.018262130597430336,-0.06392608339156247,1.4060464622338318,1.0686269655137899,0.002754273374794008,0.4605672689199664,0.39263815023305654,-0.7329865214766967,1.6297002427753362,-0.0008107283884601559,1.9765014199108537,1.2096049063087697,1.6213248538289111,-1.585873889736527,-0.8651655009854876,0.020988001541876446,-1.3406838702958856,-0.951200160119948,-0.497654320179825,-0.021054458357745297,-1.0574593040360256,1.0294055755935148,1.2163001342613522,0.17970515970423812,-0.11760176641969425,-1.0969510943885759,-0.5868858904725097,2.083934082971225,-0.9181885756735065,-0.1553782987340766,-0.820988776654748,-0.3804720882188407,-0.35752641236018046,-0.35401246761989624,-0.5775830532493539,-2.424900350237003,0.2855207075604285,0.46936376753898157,-0.21746001938038956,0.06450952686778252,0.7444671538036397,-1.2248250486686556,-1.416788946235324,1.3705699230468036,-0.2893623524636134,0.7887332621839191,0.6265750340329868,-1.7050938119207735,-1.710626378654247,-0.17212900337049927,0.786445692495372,0.8728446850178994,-0.04713310597221714,0.13142099172018107,0.39726379664821326,1.322607054992196,0.5354512919666429,1.2374262494474055,2.116237482381573,1.9044511430298887,1.391112716532458,-0.35693852947472154,0.4918662133612119,-0.5922710055561605,-0.7878598194918272,0.5265707948268116,-0.642020950111216,0.5517844245714252,-0.7934961397371885,0.7908296097983124,2.275523536747189,1.1606453869673206,-0.7974626361895323,0.005581955560807476,0.21689162723437547,0.22298419441339054,0.8200441699855056,1.19166521369793,-0.8976133213470465,-0.567476953648249,-0.7809052141714418,-0.27644458517576165,1.0616591780119478,-1.2363549285298678,0.1262708566305871,0.9525493443749347,-1.6866168540938908,-0.4902723986210022,-0.7992571135728221,-2.074657039634036,0.30943950283626537,0.9782524876015997,-0.1773164998324019],\"yaxis\":\"y9\",\"type\":\"scatter\"},{\"line\":{\"color\":\"rgba(128, 128, 128, 1.0)\",\"dash\":\"solid\",\"shape\":\"linear\",\"width\":1.3},\"marker\":{\"size\":2,\"symbol\":\"circle\"},\"mode\":\"markers\",\"name\":\"C\",\"text\":\"\",\"x\":[0.48306040414083834,0.009058351407117657,-0.10115869895854517,1.299364507421079,-0.917630514349454,-0.0004417653346297867,-0.40798279547156635,0.3444360696810804,-0.5303963906334963,0.16405004030193343,0.3350632725543995,-0.1981882405566007,-0.24432705870638655,1.096647494957282,0.3648057242653707,1.792685105555086,1.4643582511094944,-0.8544839418659624,-0.9191036875899685,0.5677118433595862,0.3644188202879386,0.33595984166710796,1.9936047851335992,-0.3184669272450796,0.32975569755681217,0.4260629510999024,0.23486176179843596,-1.086942248367033,0.3674910042928074,-0.46547162469799963,-0.9924427421111863,-2.1406810439355066,-0.21469032628104553,-0.12076619656413162,0.7647436190552594,0.4929088265880474,-0.8771908460491088,2.1777215427021996,0.04436592206782866,-0.0073038619111890565,1.4963995074604057,-0.46116149162445347,-0.9719021840295913,0.6605389800911491,-1.160605255775432,0.6757450195029824,-0.6991125021178969,0.5398846034108065,-0.4066398571344095,-0.31589064660126354,-0.7208238632743234,-0.383731214271165,-1.3536096966031266,0.4987596504299444,0.22804262761234906,-0.9882108951751464,0.6127722213063093,-0.9834991873284643,0.14950554896813462,0.4830956263791654,0.17451464216515458,-1.816099518246873,1.1385736700100326,-1.0036133687647835,0.8188788059107236,1.157425588927253,-1.1723531019569493,-0.07573755585923887,0.17966228070772516,0.6285754121275586,1.1372469738815771,-0.28269154554196035,0.7165406494548696,-0.23007318691659548,-0.8883280341101701,0.3281056679583895,-0.5449040671497705,-1.5170140313832825,0.7159357051909687,1.2061881235431922,-1.487080206258318,0.219275882063202,0.007041079866349726,0.2331570317320377,0.0034261754096381295,0.08514670420553244,-1.1107420851889813,1.8460938344620215,-0.21158616035407998,0.0044370729423990705,-0.39390964225737446,-1.222526038408339,-0.43863339052296013,-0.08599763750602338,-0.7734350600969128,-0.12144896846053277,-0.18775311587229412,1.4392171860459413,-0.2882843728195542,0.364549423795677],\"xaxis\":\"x10\",\"y\":[-0.24206467032319814,-1.2631525698375463,0.4594071214617641,0.60077235908034,-0.9265626233504829,0.6756216034502802,0.7434142581111773,0.018262130597430336,-0.06392608339156247,1.4060464622338318,1.0686269655137899,0.002754273374794008,0.4605672689199664,0.39263815023305654,-0.7329865214766967,1.6297002427753362,-0.0008107283884601559,1.9765014199108537,1.2096049063087697,1.6213248538289111,-1.585873889736527,-0.8651655009854876,0.020988001541876446,-1.3406838702958856,-0.951200160119948,-0.497654320179825,-0.021054458357745297,-1.0574593040360256,1.0294055755935148,1.2163001342613522,0.17970515970423812,-0.11760176641969425,-1.0969510943885759,-0.5868858904725097,2.083934082971225,-0.9181885756735065,-0.1553782987340766,-0.820988776654748,-0.3804720882188407,-0.35752641236018046,-0.35401246761989624,-0.5775830532493539,-2.424900350237003,0.2855207075604285,0.46936376753898157,-0.21746001938038956,0.06450952686778252,0.7444671538036397,-1.2248250486686556,-1.416788946235324,1.3705699230468036,-0.2893623524636134,0.7887332621839191,0.6265750340329868,-1.7050938119207735,-1.710626378654247,-0.17212900337049927,0.786445692495372,0.8728446850178994,-0.04713310597221714,0.13142099172018107,0.39726379664821326,1.322607054992196,0.5354512919666429,1.2374262494474055,2.116237482381573,1.9044511430298887,1.391112716532458,-0.35693852947472154,0.4918662133612119,-0.5922710055561605,-0.7878598194918272,0.5265707948268116,-0.642020950111216,0.5517844245714252,-0.7934961397371885,0.7908296097983124,2.275523536747189,1.1606453869673206,-0.7974626361895323,0.005581955560807476,0.21689162723437547,0.22298419441339054,0.8200441699855056,1.19166521369793,-0.8976133213470465,-0.567476953648249,-0.7809052141714418,-0.27644458517576165,1.0616591780119478,-1.2363549285298678,0.1262708566305871,0.9525493443749347,-1.6866168540938908,-0.4902723986210022,-0.7992571135728221,-2.074657039634036,0.30943950283626537,0.9782524876015997,-0.1773164998324019],\"yaxis\":\"y10\",\"type\":\"scatter\"},{\"histfunc\":\"count\",\"histnorm\":\"\",\"marker\":{\"color\":\"rgba(50, 171, 96, 1.0)\",\"line\":{\"color\":\"#4D5663\",\"width\":1.3}},\"name\":\"C\",\"nbinsx\":10,\"opacity\":0.8,\"orientation\":\"v\",\"x\":[-0.24206467032319814,-1.2631525698375463,0.4594071214617641,0.60077235908034,-0.9265626233504829,0.6756216034502802,0.7434142581111773,0.018262130597430336,-0.06392608339156247,1.4060464622338318,1.0686269655137899,0.002754273374794008,0.4605672689199664,0.39263815023305654,-0.7329865214766967,1.6297002427753362,-0.0008107283884601559,1.9765014199108537,1.2096049063087697,1.6213248538289111,-1.585873889736527,-0.8651655009854876,0.020988001541876446,-1.3406838702958856,-0.951200160119948,-0.497654320179825,-0.021054458357745297,-1.0574593040360256,1.0294055755935148,1.2163001342613522,0.17970515970423812,-0.11760176641969425,-1.0969510943885759,-0.5868858904725097,2.083934082971225,-0.9181885756735065,-0.1553782987340766,-0.820988776654748,-0.3804720882188407,-0.35752641236018046,-0.35401246761989624,-0.5775830532493539,-2.424900350237003,0.2855207075604285,0.46936376753898157,-0.21746001938038956,0.06450952686778252,0.7444671538036397,-1.2248250486686556,-1.416788946235324,1.3705699230468036,-0.2893623524636134,0.7887332621839191,0.6265750340329868,-1.7050938119207735,-1.710626378654247,-0.17212900337049927,0.786445692495372,0.8728446850178994,-0.04713310597221714,0.13142099172018107,0.39726379664821326,1.322607054992196,0.5354512919666429,1.2374262494474055,2.116237482381573,1.9044511430298887,1.391112716532458,-0.35693852947472154,0.4918662133612119,-0.5922710055561605,-0.7878598194918272,0.5265707948268116,-0.642020950111216,0.5517844245714252,-0.7934961397371885,0.7908296097983124,2.275523536747189,1.1606453869673206,-0.7974626361895323,0.005581955560807476,0.21689162723437547,0.22298419441339054,0.8200441699855056,1.19166521369793,-0.8976133213470465,-0.567476953648249,-0.7809052141714418,-0.27644458517576165,1.0616591780119478,-1.2363549285298678,0.1262708566305871,0.9525493443749347,-1.6866168540938908,-0.4902723986210022,-0.7992571135728221,-2.074657039634036,0.30943950283626537,0.9782524876015997,-0.1773164998324019],\"xaxis\":\"x11\",\"yaxis\":\"y11\",\"type\":\"histogram\"},{\"line\":{\"color\":\"rgba(128, 128, 128, 1.0)\",\"dash\":\"solid\",\"shape\":\"linear\",\"width\":1.3},\"marker\":{\"size\":2,\"symbol\":\"circle\"},\"mode\":\"markers\",\"name\":\"C\",\"text\":\"\",\"x\":[-1.7133387861031382,-1.2932945006528207,0.14441817391879672,-0.46427328484531893,-1.3646050456562944,0.4686406470154942,0.7474547724221794,-0.675305811206826,0.758847914674031,0.7428028093361997,-0.4065924037422975,0.8064727208976706,0.2931240500444258,-1.0914232991042179,-2.0453820137163046,-0.2936273028983105,-0.14035412942006467,-0.8301817516350479,-0.7865457087503928,-1.1546250246981458,0.3215877269843798,-1.3839309511016578,0.08209020772287838,0.9304230655889154,0.31745222546584634,0.11193970003501555,1.7139986776284593,-2.0967803975447517,1.0511375814990898,0.6383915109140148,1.2555622054890245,-0.5508945322176529,0.18747842418344107,-0.9803099881452719,0.1467935250497945,-0.20256265797208975,1.567893903926729,-1.644143572382776,0.30826059921641225,-0.7387013328474691,-0.019446660009001256,1.326199758941917,1.0410750283906138,1.2395301701487318,-2.406092741659287,2.416574931180957,0.6882233525175699,0.04639932826401581,-0.16979647167446166,0.08403610728427734,-0.3219768344393413,0.030567251288725984,0.6387071244259642,2.0584786699697726,2.2729373305352922,-1.4912937903346457,-1.7143541593610665,-0.34648232336346285,-0.23503278285029994,-0.15948119829612942,0.5131560094607199,0.3991080890988705,-0.6343936102103105,-0.0940156804309552,-0.17713779298576451,-0.75443203752132,-0.4360212088269227,-0.49578419347288005,-1.0089817430408183,-0.45886311889243525,-0.20026747240539783,-1.8763166449135418,0.3735678516046811,0.804719500794733,1.1871386676158464,1.3186386149058955,-1.0325204869497864,-1.7590503779541997,0.7025720876217167,0.2678085853874164,-0.7554939802021241,-2.372721493554485,-1.3184213475425806,0.46209929466084504,-0.7232520394848614,1.2672793869050392,-1.3645244928619236,0.9613521435589473,-1.3753146341448226,0.2316998510860715,1.7574559430991654,-3.098889574485068,1.1375254421854166,-0.5386418392620599,1.2300015496189856,-0.07574961938385888,1.9618251717642414,1.299537326929035,-1.1235054198822467,0.5221874567126272],\"xaxis\":\"x12\",\"y\":[-0.24206467032319814,-1.2631525698375463,0.4594071214617641,0.60077235908034,-0.9265626233504829,0.6756216034502802,0.7434142581111773,0.018262130597430336,-0.06392608339156247,1.4060464622338318,1.0686269655137899,0.002754273374794008,0.4605672689199664,0.39263815023305654,-0.7329865214766967,1.6297002427753362,-0.0008107283884601559,1.9765014199108537,1.2096049063087697,1.6213248538289111,-1.585873889736527,-0.8651655009854876,0.020988001541876446,-1.3406838702958856,-0.951200160119948,-0.497654320179825,-0.021054458357745297,-1.0574593040360256,1.0294055755935148,1.2163001342613522,0.17970515970423812,-0.11760176641969425,-1.0969510943885759,-0.5868858904725097,2.083934082971225,-0.9181885756735065,-0.1553782987340766,-0.820988776654748,-0.3804720882188407,-0.35752641236018046,-0.35401246761989624,-0.5775830532493539,-2.424900350237003,0.2855207075604285,0.46936376753898157,-0.21746001938038956,0.06450952686778252,0.7444671538036397,-1.2248250486686556,-1.416788946235324,1.3705699230468036,-0.2893623524636134,0.7887332621839191,0.6265750340329868,-1.7050938119207735,-1.710626378654247,-0.17212900337049927,0.786445692495372,0.8728446850178994,-0.04713310597221714,0.13142099172018107,0.39726379664821326,1.322607054992196,0.5354512919666429,1.2374262494474055,2.116237482381573,1.9044511430298887,1.391112716532458,-0.35693852947472154,0.4918662133612119,-0.5922710055561605,-0.7878598194918272,0.5265707948268116,-0.642020950111216,0.5517844245714252,-0.7934961397371885,0.7908296097983124,2.275523536747189,1.1606453869673206,-0.7974626361895323,0.005581955560807476,0.21689162723437547,0.22298419441339054,0.8200441699855056,1.19166521369793,-0.8976133213470465,-0.567476953648249,-0.7809052141714418,-0.27644458517576165,1.0616591780119478,-1.2363549285298678,0.1262708566305871,0.9525493443749347,-1.6866168540938908,-0.4902723986210022,-0.7992571135728221,-2.074657039634036,0.30943950283626537,0.9782524876015997,-0.1773164998324019],\"yaxis\":\"y12\",\"type\":\"scatter\"},{\"line\":{\"color\":\"rgba(128, 128, 128, 1.0)\",\"dash\":\"solid\",\"shape\":\"linear\",\"width\":1.3},\"marker\":{\"size\":2,\"symbol\":\"circle\"},\"mode\":\"markers\",\"name\":\"D\",\"text\":\"\",\"x\":[0.4278303063139346,-0.17960339661206842,1.0164042618967994,-0.7122789625358378,-0.6470161726957598,-1.5391054711001806,-0.816419876227612,0.14992634819113262,-0.2538297184910725,0.4011312596835835,-0.35121217557811146,-0.08067457705225729,-1.2864396719186408,0.46615802073452944,-0.3186788122439116,1.0143288516154085,-2.2806490282504535,0.40384690521168326,0.6018005259883966,-0.25978009976335664,-1.1669122342579856,0.8573994100521745,0.8623475326006868,-0.3544586484489518,0.4110630086982138,-0.32937147502200953,0.8971370723551457,0.42079992650952014,-0.4723624434704465,0.12777627493488986,0.4889927615403592,-0.9481653064033165,0.10111690399406939,-0.5199092906505531,-0.9131480083912413,1.091390985730131,-1.166766293120185,0.20757181583433243,0.6829620194836434,-1.0930355069538578,-0.02650130330699229,-1.2924400269578538,0.14418601175977652,-0.20223854166849403,0.19208883138239824,-0.18114204996310787,-0.19841663539400559,1.8385362877297255,0.15384934369884648,-0.3098194447686136,-1.2045370228630572,0.5327550476824217,-0.29441402000600364,0.3709208833043238,-1.5092728793466288,0.5191502262763877,1.4637639676598087,-0.7232252992171272,0.6980766119028778,-0.7563825513013476,-0.7421339581048623,1.121264011877191,0.013752107630780407,-0.5892825852411415,0.6056490857330595,0.9780201457682005,0.3394107574260655,-0.29779406831739264,-0.8249862472503384,-0.006608688646789804,0.9173723910209661,-0.03603833862910183,-0.6990592443026739,-1.342749352000533,-1.7062572618616654,-0.4379870105257444,-0.37396788969217615,-1.2152159255979396,0.85898836922212,0.2853468800286372,0.08525587871536675,0.3440875236892165,0.43424037380948755,0.5175629844710247,-0.06289870370813987,-0.3717812990629133,-1.3435656884172564,2.1465656501241304,0.9877233116000835,0.04448063913151714,-0.5020413908536919,0.13533132322167515,-0.4085192034480075,-0.5307015361759451,0.8328125615881095,0.16467398244369646,0.3384160963082231,0.5451546074803042,0.565600486678321,0.7341938436024419],\"xaxis\":\"x13\",\"y\":[-1.7133387861031382,-1.2932945006528207,0.14441817391879672,-0.46427328484531893,-1.3646050456562944,0.4686406470154942,0.7474547724221794,-0.675305811206826,0.758847914674031,0.7428028093361997,-0.4065924037422975,0.8064727208976706,0.2931240500444258,-1.0914232991042179,-2.0453820137163046,-0.2936273028983105,-0.14035412942006467,-0.8301817516350479,-0.7865457087503928,-1.1546250246981458,0.3215877269843798,-1.3839309511016578,0.08209020772287838,0.9304230655889154,0.31745222546584634,0.11193970003501555,1.7139986776284593,-2.0967803975447517,1.0511375814990898,0.6383915109140148,1.2555622054890245,-0.5508945322176529,0.18747842418344107,-0.9803099881452719,0.1467935250497945,-0.20256265797208975,1.567893903926729,-1.644143572382776,0.30826059921641225,-0.7387013328474691,-0.019446660009001256,1.326199758941917,1.0410750283906138,1.2395301701487318,-2.406092741659287,2.416574931180957,0.6882233525175699,0.04639932826401581,-0.16979647167446166,0.08403610728427734,-0.3219768344393413,0.030567251288725984,0.6387071244259642,2.0584786699697726,2.2729373305352922,-1.4912937903346457,-1.7143541593610665,-0.34648232336346285,-0.23503278285029994,-0.15948119829612942,0.5131560094607199,0.3991080890988705,-0.6343936102103105,-0.0940156804309552,-0.17713779298576451,-0.75443203752132,-0.4360212088269227,-0.49578419347288005,-1.0089817430408183,-0.45886311889243525,-0.20026747240539783,-1.8763166449135418,0.3735678516046811,0.804719500794733,1.1871386676158464,1.3186386149058955,-1.0325204869497864,-1.7590503779541997,0.7025720876217167,0.2678085853874164,-0.7554939802021241,-2.372721493554485,-1.3184213475425806,0.46209929466084504,-0.7232520394848614,1.2672793869050392,-1.3645244928619236,0.9613521435589473,-1.3753146341448226,0.2316998510860715,1.7574559430991654,-3.098889574485068,1.1375254421854166,-0.5386418392620599,1.2300015496189856,-0.07574961938385888,1.9618251717642414,1.299537326929035,-1.1235054198822467,0.5221874567126272],\"yaxis\":\"y13\",\"type\":\"scatter\"},{\"line\":{\"color\":\"rgba(128, 128, 128, 1.0)\",\"dash\":\"solid\",\"shape\":\"linear\",\"width\":1.3},\"marker\":{\"size\":2,\"symbol\":\"circle\"},\"mode\":\"markers\",\"name\":\"D\",\"text\":\"\",\"x\":[0.48306040414083834,0.009058351407117657,-0.10115869895854517,1.299364507421079,-0.917630514349454,-0.0004417653346297867,-0.40798279547156635,0.3444360696810804,-0.5303963906334963,0.16405004030193343,0.3350632725543995,-0.1981882405566007,-0.24432705870638655,1.096647494957282,0.3648057242653707,1.792685105555086,1.4643582511094944,-0.8544839418659624,-0.9191036875899685,0.5677118433595862,0.3644188202879386,0.33595984166710796,1.9936047851335992,-0.3184669272450796,0.32975569755681217,0.4260629510999024,0.23486176179843596,-1.086942248367033,0.3674910042928074,-0.46547162469799963,-0.9924427421111863,-2.1406810439355066,-0.21469032628104553,-0.12076619656413162,0.7647436190552594,0.4929088265880474,-0.8771908460491088,2.1777215427021996,0.04436592206782866,-0.0073038619111890565,1.4963995074604057,-0.46116149162445347,-0.9719021840295913,0.6605389800911491,-1.160605255775432,0.6757450195029824,-0.6991125021178969,0.5398846034108065,-0.4066398571344095,-0.31589064660126354,-0.7208238632743234,-0.383731214271165,-1.3536096966031266,0.4987596504299444,0.22804262761234906,-0.9882108951751464,0.6127722213063093,-0.9834991873284643,0.14950554896813462,0.4830956263791654,0.17451464216515458,-1.816099518246873,1.1385736700100326,-1.0036133687647835,0.8188788059107236,1.157425588927253,-1.1723531019569493,-0.07573755585923887,0.17966228070772516,0.6285754121275586,1.1372469738815771,-0.28269154554196035,0.7165406494548696,-0.23007318691659548,-0.8883280341101701,0.3281056679583895,-0.5449040671497705,-1.5170140313832825,0.7159357051909687,1.2061881235431922,-1.487080206258318,0.219275882063202,0.007041079866349726,0.2331570317320377,0.0034261754096381295,0.08514670420553244,-1.1107420851889813,1.8460938344620215,-0.21158616035407998,0.0044370729423990705,-0.39390964225737446,-1.222526038408339,-0.43863339052296013,-0.08599763750602338,-0.7734350600969128,-0.12144896846053277,-0.18775311587229412,1.4392171860459413,-0.2882843728195542,0.364549423795677],\"xaxis\":\"x14\",\"y\":[-1.7133387861031382,-1.2932945006528207,0.14441817391879672,-0.46427328484531893,-1.3646050456562944,0.4686406470154942,0.7474547724221794,-0.675305811206826,0.758847914674031,0.7428028093361997,-0.4065924037422975,0.8064727208976706,0.2931240500444258,-1.0914232991042179,-2.0453820137163046,-0.2936273028983105,-0.14035412942006467,-0.8301817516350479,-0.7865457087503928,-1.1546250246981458,0.3215877269843798,-1.3839309511016578,0.08209020772287838,0.9304230655889154,0.31745222546584634,0.11193970003501555,1.7139986776284593,-2.0967803975447517,1.0511375814990898,0.6383915109140148,1.2555622054890245,-0.5508945322176529,0.18747842418344107,-0.9803099881452719,0.1467935250497945,-0.20256265797208975,1.567893903926729,-1.644143572382776,0.30826059921641225,-0.7387013328474691,-0.019446660009001256,1.326199758941917,1.0410750283906138,1.2395301701487318,-2.406092741659287,2.416574931180957,0.6882233525175699,0.04639932826401581,-0.16979647167446166,0.08403610728427734,-0.3219768344393413,0.030567251288725984,0.6387071244259642,2.0584786699697726,2.2729373305352922,-1.4912937903346457,-1.7143541593610665,-0.34648232336346285,-0.23503278285029994,-0.15948119829612942,0.5131560094607199,0.3991080890988705,-0.6343936102103105,-0.0940156804309552,-0.17713779298576451,-0.75443203752132,-0.4360212088269227,-0.49578419347288005,-1.0089817430408183,-0.45886311889243525,-0.20026747240539783,-1.8763166449135418,0.3735678516046811,0.804719500794733,1.1871386676158464,1.3186386149058955,-1.0325204869497864,-1.7590503779541997,0.7025720876217167,0.2678085853874164,-0.7554939802021241,-2.372721493554485,-1.3184213475425806,0.46209929466084504,-0.7232520394848614,1.2672793869050392,-1.3645244928619236,0.9613521435589473,-1.3753146341448226,0.2316998510860715,1.7574559430991654,-3.098889574485068,1.1375254421854166,-0.5386418392620599,1.2300015496189856,-0.07574961938385888,1.9618251717642414,1.299537326929035,-1.1235054198822467,0.5221874567126272],\"yaxis\":\"y14\",\"type\":\"scatter\"},{\"line\":{\"color\":\"rgba(128, 128, 128, 1.0)\",\"dash\":\"solid\",\"shape\":\"linear\",\"width\":1.3},\"marker\":{\"size\":2,\"symbol\":\"circle\"},\"mode\":\"markers\",\"name\":\"D\",\"text\":\"\",\"x\":[-0.24206467032319814,-1.2631525698375463,0.4594071214617641,0.60077235908034,-0.9265626233504829,0.6756216034502802,0.7434142581111773,0.018262130597430336,-0.06392608339156247,1.4060464622338318,1.0686269655137899,0.002754273374794008,0.4605672689199664,0.39263815023305654,-0.7329865214766967,1.6297002427753362,-0.0008107283884601559,1.9765014199108537,1.2096049063087697,1.6213248538289111,-1.585873889736527,-0.8651655009854876,0.020988001541876446,-1.3406838702958856,-0.951200160119948,-0.497654320179825,-0.021054458357745297,-1.0574593040360256,1.0294055755935148,1.2163001342613522,0.17970515970423812,-0.11760176641969425,-1.0969510943885759,-0.5868858904725097,2.083934082971225,-0.9181885756735065,-0.1553782987340766,-0.820988776654748,-0.3804720882188407,-0.35752641236018046,-0.35401246761989624,-0.5775830532493539,-2.424900350237003,0.2855207075604285,0.46936376753898157,-0.21746001938038956,0.06450952686778252,0.7444671538036397,-1.2248250486686556,-1.416788946235324,1.3705699230468036,-0.2893623524636134,0.7887332621839191,0.6265750340329868,-1.7050938119207735,-1.710626378654247,-0.17212900337049927,0.786445692495372,0.8728446850178994,-0.04713310597221714,0.13142099172018107,0.39726379664821326,1.322607054992196,0.5354512919666429,1.2374262494474055,2.116237482381573,1.9044511430298887,1.391112716532458,-0.35693852947472154,0.4918662133612119,-0.5922710055561605,-0.7878598194918272,0.5265707948268116,-0.642020950111216,0.5517844245714252,-0.7934961397371885,0.7908296097983124,2.275523536747189,1.1606453869673206,-0.7974626361895323,0.005581955560807476,0.21689162723437547,0.22298419441339054,0.8200441699855056,1.19166521369793,-0.8976133213470465,-0.567476953648249,-0.7809052141714418,-0.27644458517576165,1.0616591780119478,-1.2363549285298678,0.1262708566305871,0.9525493443749347,-1.6866168540938908,-0.4902723986210022,-0.7992571135728221,-2.074657039634036,0.30943950283626537,0.9782524876015997,-0.1773164998324019],\"xaxis\":\"x15\",\"y\":[-1.7133387861031382,-1.2932945006528207,0.14441817391879672,-0.46427328484531893,-1.3646050456562944,0.4686406470154942,0.7474547724221794,-0.675305811206826,0.758847914674031,0.7428028093361997,-0.4065924037422975,0.8064727208976706,0.2931240500444258,-1.0914232991042179,-2.0453820137163046,-0.2936273028983105,-0.14035412942006467,-0.8301817516350479,-0.7865457087503928,-1.1546250246981458,0.3215877269843798,-1.3839309511016578,0.08209020772287838,0.9304230655889154,0.31745222546584634,0.11193970003501555,1.7139986776284593,-2.0967803975447517,1.0511375814990898,0.6383915109140148,1.2555622054890245,-0.5508945322176529,0.18747842418344107,-0.9803099881452719,0.1467935250497945,-0.20256265797208975,1.567893903926729,-1.644143572382776,0.30826059921641225,-0.7387013328474691,-0.019446660009001256,1.326199758941917,1.0410750283906138,1.2395301701487318,-2.406092741659287,2.416574931180957,0.6882233525175699,0.04639932826401581,-0.16979647167446166,0.08403610728427734,-0.3219768344393413,0.030567251288725984,0.6387071244259642,2.0584786699697726,2.2729373305352922,-1.4912937903346457,-1.7143541593610665,-0.34648232336346285,-0.23503278285029994,-0.15948119829612942,0.5131560094607199,0.3991080890988705,-0.6343936102103105,-0.0940156804309552,-0.17713779298576451,-0.75443203752132,-0.4360212088269227,-0.49578419347288005,-1.0089817430408183,-0.45886311889243525,-0.20026747240539783,-1.8763166449135418,0.3735678516046811,0.804719500794733,1.1871386676158464,1.3186386149058955,-1.0325204869497864,-1.7590503779541997,0.7025720876217167,0.2678085853874164,-0.7554939802021241,-2.372721493554485,-1.3184213475425806,0.46209929466084504,-0.7232520394848614,1.2672793869050392,-1.3645244928619236,0.9613521435589473,-1.3753146341448226,0.2316998510860715,1.7574559430991654,-3.098889574485068,1.1375254421854166,-0.5386418392620599,1.2300015496189856,-0.07574961938385888,1.9618251717642414,1.299537326929035,-1.1235054198822467,0.5221874567126272],\"yaxis\":\"y15\",\"type\":\"scatter\"},{\"histfunc\":\"count\",\"histnorm\":\"\",\"marker\":{\"color\":\"rgba(128, 0, 128, 1.0)\",\"line\":{\"color\":\"#4D5663\",\"width\":1.3}},\"name\":\"D\",\"nbinsx\":10,\"opacity\":0.8,\"orientation\":\"v\",\"x\":[-1.7133387861031382,-1.2932945006528207,0.14441817391879672,-0.46427328484531893,-1.3646050456562944,0.4686406470154942,0.7474547724221794,-0.675305811206826,0.758847914674031,0.7428028093361997,-0.4065924037422975,0.8064727208976706,0.2931240500444258,-1.0914232991042179,-2.0453820137163046,-0.2936273028983105,-0.14035412942006467,-0.8301817516350479,-0.7865457087503928,-1.1546250246981458,0.3215877269843798,-1.3839309511016578,0.08209020772287838,0.9304230655889154,0.31745222546584634,0.11193970003501555,1.7139986776284593,-2.0967803975447517,1.0511375814990898,0.6383915109140148,1.2555622054890245,-0.5508945322176529,0.18747842418344107,-0.9803099881452719,0.1467935250497945,-0.20256265797208975,1.567893903926729,-1.644143572382776,0.30826059921641225,-0.7387013328474691,-0.019446660009001256,1.326199758941917,1.0410750283906138,1.2395301701487318,-2.406092741659287,2.416574931180957,0.6882233525175699,0.04639932826401581,-0.16979647167446166,0.08403610728427734,-0.3219768344393413,0.030567251288725984,0.6387071244259642,2.0584786699697726,2.2729373305352922,-1.4912937903346457,-1.7143541593610665,-0.34648232336346285,-0.23503278285029994,-0.15948119829612942,0.5131560094607199,0.3991080890988705,-0.6343936102103105,-0.0940156804309552,-0.17713779298576451,-0.75443203752132,-0.4360212088269227,-0.49578419347288005,-1.0089817430408183,-0.45886311889243525,-0.20026747240539783,-1.8763166449135418,0.3735678516046811,0.804719500794733,1.1871386676158464,1.3186386149058955,-1.0325204869497864,-1.7590503779541997,0.7025720876217167,0.2678085853874164,-0.7554939802021241,-2.372721493554485,-1.3184213475425806,0.46209929466084504,-0.7232520394848614,1.2672793869050392,-1.3645244928619236,0.9613521435589473,-1.3753146341448226,0.2316998510860715,1.7574559430991654,-3.098889574485068,1.1375254421854166,-0.5386418392620599,1.2300015496189856,-0.07574961938385888,1.9618251717642414,1.299537326929035,-1.1235054198822467,0.5221874567126272],\"xaxis\":\"x16\",\"yaxis\":\"y16\",\"type\":\"histogram\"}],                        {\"bargap\":0.02,\"legend\":{\"bgcolor\":\"#F5F6F9\",\"font\":{\"color\":\"#4D5663\"}},\"paper_bgcolor\":\"#F5F6F9\",\"plot_bgcolor\":\"#F5F6F9\",\"showlegend\":false,\"template\":{\"data\":{\"barpolar\":[{\"marker\":{\"line\":{\"color\":\"#E5ECF6\",\"width\":0.5},\"pattern\":{\"fillmode\":\"overlay\",\"size\":10,\"solidity\":0.2}},\"type\":\"barpolar\"}],\"bar\":[{\"error_x\":{\"color\":\"#2a3f5f\"},\"error_y\":{\"color\":\"#2a3f5f\"},\"marker\":{\"line\":{\"color\":\"#E5ECF6\",\"width\":0.5},\"pattern\":{\"fillmode\":\"overlay\",\"size\":10,\"solidity\":0.2}},\"type\":\"bar\"}],\"carpet\":[{\"aaxis\":{\"endlinecolor\":\"#2a3f5f\",\"gridcolor\":\"white\",\"linecolor\":\"white\",\"minorgridcolor\":\"white\",\"startlinecolor\":\"#2a3f5f\"},\"baxis\":{\"endlinecolor\":\"#2a3f5f\",\"gridcolor\":\"white\",\"linecolor\":\"white\",\"minorgridcolor\":\"white\",\"startlinecolor\":\"#2a3f5f\"},\"type\":\"carpet\"}],\"choropleth\":[{\"colorbar\":{\"outlinewidth\":0,\"ticks\":\"\"},\"type\":\"choropleth\"}],\"contourcarpet\":[{\"colorbar\":{\"outlinewidth\":0,\"ticks\":\"\"},\"type\":\"contourcarpet\"}],\"contour\":[{\"colorbar\":{\"outlinewidth\":0,\"ticks\":\"\"},\"colorscale\":[[0.0,\"#0d0887\"],[0.1111111111111111,\"#46039f\"],[0.2222222222222222,\"#7201a8\"],[0.3333333333333333,\"#9c179e\"],[0.4444444444444444,\"#bd3786\"],[0.5555555555555556,\"#d8576b\"],[0.6666666666666666,\"#ed7953\"],[0.7777777777777778,\"#fb9f3a\"],[0.8888888888888888,\"#fdca26\"],[1.0,\"#f0f921\"]],\"type\":\"contour\"}],\"heatmapgl\":[{\"colorbar\":{\"outlinewidth\":0,\"ticks\":\"\"},\"colorscale\":[[0.0,\"#0d0887\"],[0.1111111111111111,\"#46039f\"],[0.2222222222222222,\"#7201a8\"],[0.3333333333333333,\"#9c179e\"],[0.4444444444444444,\"#bd3786\"],[0.5555555555555556,\"#d8576b\"],[0.6666666666666666,\"#ed7953\"],[0.7777777777777778,\"#fb9f3a\"],[0.8888888888888888,\"#fdca26\"],[1.0,\"#f0f921\"]],\"type\":\"heatmapgl\"}],\"heatmap\":[{\"colorbar\":{\"outlinewidth\":0,\"ticks\":\"\"},\"colorscale\":[[0.0,\"#0d0887\"],[0.1111111111111111,\"#46039f\"],[0.2222222222222222,\"#7201a8\"],[0.3333333333333333,\"#9c179e\"],[0.4444444444444444,\"#bd3786\"],[0.5555555555555556,\"#d8576b\"],[0.6666666666666666,\"#ed7953\"],[0.7777777777777778,\"#fb9f3a\"],[0.8888888888888888,\"#fdca26\"],[1.0,\"#f0f921\"]],\"type\":\"heatmap\"}],\"histogram2dcontour\":[{\"colorbar\":{\"outlinewidth\":0,\"ticks\":\"\"},\"colorscale\":[[0.0,\"#0d0887\"],[0.1111111111111111,\"#46039f\"],[0.2222222222222222,\"#7201a8\"],[0.3333333333333333,\"#9c179e\"],[0.4444444444444444,\"#bd3786\"],[0.5555555555555556,\"#d8576b\"],[0.6666666666666666,\"#ed7953\"],[0.7777777777777778,\"#fb9f3a\"],[0.8888888888888888,\"#fdca26\"],[1.0,\"#f0f921\"]],\"type\":\"histogram2dcontour\"}],\"histogram2d\":[{\"colorbar\":{\"outlinewidth\":0,\"ticks\":\"\"},\"colorscale\":[[0.0,\"#0d0887\"],[0.1111111111111111,\"#46039f\"],[0.2222222222222222,\"#7201a8\"],[0.3333333333333333,\"#9c179e\"],[0.4444444444444444,\"#bd3786\"],[0.5555555555555556,\"#d8576b\"],[0.6666666666666666,\"#ed7953\"],[0.7777777777777778,\"#fb9f3a\"],[0.8888888888888888,\"#fdca26\"],[1.0,\"#f0f921\"]],\"type\":\"histogram2d\"}],\"histogram\":[{\"marker\":{\"pattern\":{\"fillmode\":\"overlay\",\"size\":10,\"solidity\":0.2}},\"type\":\"histogram\"}],\"mesh3d\":[{\"colorbar\":{\"outlinewidth\":0,\"ticks\":\"\"},\"type\":\"mesh3d\"}],\"parcoords\":[{\"line\":{\"colorbar\":{\"outlinewidth\":0,\"ticks\":\"\"}},\"type\":\"parcoords\"}],\"pie\":[{\"automargin\":true,\"type\":\"pie\"}],\"scatter3d\":[{\"line\":{\"colorbar\":{\"outlinewidth\":0,\"ticks\":\"\"}},\"marker\":{\"colorbar\":{\"outlinewidth\":0,\"ticks\":\"\"}},\"type\":\"scatter3d\"}],\"scattercarpet\":[{\"marker\":{\"colorbar\":{\"outlinewidth\":0,\"ticks\":\"\"}},\"type\":\"scattercarpet\"}],\"scattergeo\":[{\"marker\":{\"colorbar\":{\"outlinewidth\":0,\"ticks\":\"\"}},\"type\":\"scattergeo\"}],\"scattergl\":[{\"marker\":{\"colorbar\":{\"outlinewidth\":0,\"ticks\":\"\"}},\"type\":\"scattergl\"}],\"scattermapbox\":[{\"marker\":{\"colorbar\":{\"outlinewidth\":0,\"ticks\":\"\"}},\"type\":\"scattermapbox\"}],\"scatterpolargl\":[{\"marker\":{\"colorbar\":{\"outlinewidth\":0,\"ticks\":\"\"}},\"type\":\"scatterpolargl\"}],\"scatterpolar\":[{\"marker\":{\"colorbar\":{\"outlinewidth\":0,\"ticks\":\"\"}},\"type\":\"scatterpolar\"}],\"scatter\":[{\"fillpattern\":{\"fillmode\":\"overlay\",\"size\":10,\"solidity\":0.2},\"type\":\"scatter\"}],\"scatterternary\":[{\"marker\":{\"colorbar\":{\"outlinewidth\":0,\"ticks\":\"\"}},\"type\":\"scatterternary\"}],\"surface\":[{\"colorbar\":{\"outlinewidth\":0,\"ticks\":\"\"},\"colorscale\":[[0.0,\"#0d0887\"],[0.1111111111111111,\"#46039f\"],[0.2222222222222222,\"#7201a8\"],[0.3333333333333333,\"#9c179e\"],[0.4444444444444444,\"#bd3786\"],[0.5555555555555556,\"#d8576b\"],[0.6666666666666666,\"#ed7953\"],[0.7777777777777778,\"#fb9f3a\"],[0.8888888888888888,\"#fdca26\"],[1.0,\"#f0f921\"]],\"type\":\"surface\"}],\"table\":[{\"cells\":{\"fill\":{\"color\":\"#EBF0F8\"},\"line\":{\"color\":\"white\"}},\"header\":{\"fill\":{\"color\":\"#C8D4E3\"},\"line\":{\"color\":\"white\"}},\"type\":\"table\"}]},\"layout\":{\"annotationdefaults\":{\"arrowcolor\":\"#2a3f5f\",\"arrowhead\":0,\"arrowwidth\":1},\"autotypenumbers\":\"strict\",\"coloraxis\":{\"colorbar\":{\"outlinewidth\":0,\"ticks\":\"\"}},\"colorscale\":{\"diverging\":[[0,\"#8e0152\"],[0.1,\"#c51b7d\"],[0.2,\"#de77ae\"],[0.3,\"#f1b6da\"],[0.4,\"#fde0ef\"],[0.5,\"#f7f7f7\"],[0.6,\"#e6f5d0\"],[0.7,\"#b8e186\"],[0.8,\"#7fbc41\"],[0.9,\"#4d9221\"],[1,\"#276419\"]],\"sequential\":[[0.0,\"#0d0887\"],[0.1111111111111111,\"#46039f\"],[0.2222222222222222,\"#7201a8\"],[0.3333333333333333,\"#9c179e\"],[0.4444444444444444,\"#bd3786\"],[0.5555555555555556,\"#d8576b\"],[0.6666666666666666,\"#ed7953\"],[0.7777777777777778,\"#fb9f3a\"],[0.8888888888888888,\"#fdca26\"],[1.0,\"#f0f921\"]],\"sequentialminus\":[[0.0,\"#0d0887\"],[0.1111111111111111,\"#46039f\"],[0.2222222222222222,\"#7201a8\"],[0.3333333333333333,\"#9c179e\"],[0.4444444444444444,\"#bd3786\"],[0.5555555555555556,\"#d8576b\"],[0.6666666666666666,\"#ed7953\"],[0.7777777777777778,\"#fb9f3a\"],[0.8888888888888888,\"#fdca26\"],[1.0,\"#f0f921\"]]},\"colorway\":[\"#636efa\",\"#EF553B\",\"#00cc96\",\"#ab63fa\",\"#FFA15A\",\"#19d3f3\",\"#FF6692\",\"#B6E880\",\"#FF97FF\",\"#FECB52\"],\"font\":{\"color\":\"#2a3f5f\"},\"geo\":{\"bgcolor\":\"white\",\"lakecolor\":\"white\",\"landcolor\":\"#E5ECF6\",\"showlakes\":true,\"showland\":true,\"subunitcolor\":\"white\"},\"hoverlabel\":{\"align\":\"left\"},\"hovermode\":\"closest\",\"mapbox\":{\"style\":\"light\"},\"paper_bgcolor\":\"white\",\"plot_bgcolor\":\"#E5ECF6\",\"polar\":{\"angularaxis\":{\"gridcolor\":\"white\",\"linecolor\":\"white\",\"ticks\":\"\"},\"bgcolor\":\"#E5ECF6\",\"radialaxis\":{\"gridcolor\":\"white\",\"linecolor\":\"white\",\"ticks\":\"\"}},\"scene\":{\"xaxis\":{\"backgroundcolor\":\"#E5ECF6\",\"gridcolor\":\"white\",\"gridwidth\":2,\"linecolor\":\"white\",\"showbackground\":true,\"ticks\":\"\",\"zerolinecolor\":\"white\"},\"yaxis\":{\"backgroundcolor\":\"#E5ECF6\",\"gridcolor\":\"white\",\"gridwidth\":2,\"linecolor\":\"white\",\"showbackground\":true,\"ticks\":\"\",\"zerolinecolor\":\"white\"},\"zaxis\":{\"backgroundcolor\":\"#E5ECF6\",\"gridcolor\":\"white\",\"gridwidth\":2,\"linecolor\":\"white\",\"showbackground\":true,\"ticks\":\"\",\"zerolinecolor\":\"white\"}},\"shapedefaults\":{\"line\":{\"color\":\"#2a3f5f\"}},\"ternary\":{\"aaxis\":{\"gridcolor\":\"white\",\"linecolor\":\"white\",\"ticks\":\"\"},\"baxis\":{\"gridcolor\":\"white\",\"linecolor\":\"white\",\"ticks\":\"\"},\"bgcolor\":\"#E5ECF6\",\"caxis\":{\"gridcolor\":\"white\",\"linecolor\":\"white\",\"ticks\":\"\"}},\"title\":{\"x\":0.05},\"xaxis\":{\"automargin\":true,\"gridcolor\":\"white\",\"linecolor\":\"white\",\"ticks\":\"\",\"title\":{\"standoff\":15},\"zerolinecolor\":\"white\",\"zerolinewidth\":2},\"yaxis\":{\"automargin\":true,\"gridcolor\":\"white\",\"linecolor\":\"white\",\"ticks\":\"\",\"title\":{\"standoff\":15},\"zerolinecolor\":\"white\",\"zerolinewidth\":2}}},\"title\":{\"font\":{\"color\":\"#4D5663\"}},\"xaxis\":{\"anchor\":\"y\",\"domain\":[0.0,0.2125],\"gridcolor\":\"#E1E5ED\",\"showgrid\":false,\"tickfont\":{\"color\":\"#4D5663\"},\"title\":{\"font\":{\"color\":\"#4D5663\"},\"text\":\"\"},\"zerolinecolor\":\"#E1E5ED\"},\"yaxis\":{\"anchor\":\"x\",\"domain\":[0.8025,1.0],\"gridcolor\":\"#E1E5ED\",\"showgrid\":false,\"tickfont\":{\"color\":\"#4D5663\"},\"title\":{\"font\":{\"color\":\"#4D5663\"},\"text\":\"\"},\"zerolinecolor\":\"#E1E5ED\"},\"xaxis2\":{\"anchor\":\"y2\",\"domain\":[0.2625,0.475],\"gridcolor\":\"#E1E5ED\",\"showgrid\":false,\"tickfont\":{\"color\":\"#4D5663\"},\"title\":{\"font\":{\"color\":\"#4D5663\"},\"text\":\"\"},\"zerolinecolor\":\"#E1E5ED\"},\"yaxis2\":{\"anchor\":\"x2\",\"domain\":[0.8025,1.0],\"gridcolor\":\"#E1E5ED\",\"showgrid\":false,\"tickfont\":{\"color\":\"#4D5663\"},\"title\":{\"font\":{\"color\":\"#4D5663\"},\"text\":\"\"},\"zerolinecolor\":\"#E1E5ED\"},\"xaxis3\":{\"anchor\":\"y3\",\"domain\":[0.525,0.7375],\"gridcolor\":\"#E1E5ED\",\"showgrid\":false,\"tickfont\":{\"color\":\"#4D5663\"},\"title\":{\"font\":{\"color\":\"#4D5663\"},\"text\":\"\"},\"zerolinecolor\":\"#E1E5ED\"},\"yaxis3\":{\"anchor\":\"x3\",\"domain\":[0.8025,1.0],\"gridcolor\":\"#E1E5ED\",\"showgrid\":false,\"tickfont\":{\"color\":\"#4D5663\"},\"title\":{\"font\":{\"color\":\"#4D5663\"},\"text\":\"\"},\"zerolinecolor\":\"#E1E5ED\"},\"xaxis4\":{\"anchor\":\"y4\",\"domain\":[0.7875,1.0],\"gridcolor\":\"#E1E5ED\",\"showgrid\":false,\"tickfont\":{\"color\":\"#4D5663\"},\"title\":{\"font\":{\"color\":\"#4D5663\"},\"text\":\"\"},\"zerolinecolor\":\"#E1E5ED\"},\"yaxis4\":{\"anchor\":\"x4\",\"domain\":[0.8025,1.0],\"gridcolor\":\"#E1E5ED\",\"showgrid\":false,\"tickfont\":{\"color\":\"#4D5663\"},\"title\":{\"font\":{\"color\":\"#4D5663\"},\"text\":\"\"},\"zerolinecolor\":\"#E1E5ED\"},\"xaxis5\":{\"anchor\":\"y5\",\"domain\":[0.0,0.2125],\"gridcolor\":\"#E1E5ED\",\"showgrid\":false,\"tickfont\":{\"color\":\"#4D5663\"},\"title\":{\"font\":{\"color\":\"#4D5663\"},\"text\":\"\"},\"zerolinecolor\":\"#E1E5ED\"},\"yaxis5\":{\"anchor\":\"x5\",\"domain\":[0.535,0.7325],\"gridcolor\":\"#E1E5ED\",\"showgrid\":false,\"tickfont\":{\"color\":\"#4D5663\"},\"title\":{\"font\":{\"color\":\"#4D5663\"},\"text\":\"\"},\"zerolinecolor\":\"#E1E5ED\"},\"xaxis6\":{\"anchor\":\"y6\",\"domain\":[0.2625,0.475],\"gridcolor\":\"#E1E5ED\",\"showgrid\":false,\"tickfont\":{\"color\":\"#4D5663\"},\"title\":{\"font\":{\"color\":\"#4D5663\"},\"text\":\"\"},\"zerolinecolor\":\"#E1E5ED\"},\"yaxis6\":{\"anchor\":\"x6\",\"domain\":[0.535,0.7325],\"gridcolor\":\"#E1E5ED\",\"showgrid\":false,\"tickfont\":{\"color\":\"#4D5663\"},\"title\":{\"font\":{\"color\":\"#4D5663\"},\"text\":\"\"},\"zerolinecolor\":\"#E1E5ED\"},\"xaxis7\":{\"anchor\":\"y7\",\"domain\":[0.525,0.7375],\"gridcolor\":\"#E1E5ED\",\"showgrid\":false,\"tickfont\":{\"color\":\"#4D5663\"},\"title\":{\"font\":{\"color\":\"#4D5663\"},\"text\":\"\"},\"zerolinecolor\":\"#E1E5ED\"},\"yaxis7\":{\"anchor\":\"x7\",\"domain\":[0.535,0.7325],\"gridcolor\":\"#E1E5ED\",\"showgrid\":false,\"tickfont\":{\"color\":\"#4D5663\"},\"title\":{\"font\":{\"color\":\"#4D5663\"},\"text\":\"\"},\"zerolinecolor\":\"#E1E5ED\"},\"xaxis8\":{\"anchor\":\"y8\",\"domain\":[0.7875,1.0],\"gridcolor\":\"#E1E5ED\",\"showgrid\":false,\"tickfont\":{\"color\":\"#4D5663\"},\"title\":{\"font\":{\"color\":\"#4D5663\"},\"text\":\"\"},\"zerolinecolor\":\"#E1E5ED\"},\"yaxis8\":{\"anchor\":\"x8\",\"domain\":[0.535,0.7325],\"gridcolor\":\"#E1E5ED\",\"showgrid\":false,\"tickfont\":{\"color\":\"#4D5663\"},\"title\":{\"font\":{\"color\":\"#4D5663\"},\"text\":\"\"},\"zerolinecolor\":\"#E1E5ED\"},\"xaxis9\":{\"anchor\":\"y9\",\"domain\":[0.0,0.2125],\"gridcolor\":\"#E1E5ED\",\"showgrid\":false,\"tickfont\":{\"color\":\"#4D5663\"},\"title\":{\"font\":{\"color\":\"#4D5663\"},\"text\":\"\"},\"zerolinecolor\":\"#E1E5ED\"},\"yaxis9\":{\"anchor\":\"x9\",\"domain\":[0.2675,0.465],\"gridcolor\":\"#E1E5ED\",\"showgrid\":false,\"tickfont\":{\"color\":\"#4D5663\"},\"title\":{\"font\":{\"color\":\"#4D5663\"},\"text\":\"\"},\"zerolinecolor\":\"#E1E5ED\"},\"xaxis10\":{\"anchor\":\"y10\",\"domain\":[0.2625,0.475],\"gridcolor\":\"#E1E5ED\",\"showgrid\":false,\"tickfont\":{\"color\":\"#4D5663\"},\"title\":{\"font\":{\"color\":\"#4D5663\"},\"text\":\"\"},\"zerolinecolor\":\"#E1E5ED\"},\"yaxis10\":{\"anchor\":\"x10\",\"domain\":[0.2675,0.465],\"gridcolor\":\"#E1E5ED\",\"showgrid\":false,\"tickfont\":{\"color\":\"#4D5663\"},\"title\":{\"font\":{\"color\":\"#4D5663\"},\"text\":\"\"},\"zerolinecolor\":\"#E1E5ED\"},\"xaxis11\":{\"anchor\":\"y11\",\"domain\":[0.525,0.7375],\"gridcolor\":\"#E1E5ED\",\"showgrid\":false,\"tickfont\":{\"color\":\"#4D5663\"},\"title\":{\"font\":{\"color\":\"#4D5663\"},\"text\":\"\"},\"zerolinecolor\":\"#E1E5ED\"},\"yaxis11\":{\"anchor\":\"x11\",\"domain\":[0.2675,0.465],\"gridcolor\":\"#E1E5ED\",\"showgrid\":false,\"tickfont\":{\"color\":\"#4D5663\"},\"title\":{\"font\":{\"color\":\"#4D5663\"},\"text\":\"\"},\"zerolinecolor\":\"#E1E5ED\"},\"xaxis12\":{\"anchor\":\"y12\",\"domain\":[0.7875,1.0],\"gridcolor\":\"#E1E5ED\",\"showgrid\":false,\"tickfont\":{\"color\":\"#4D5663\"},\"title\":{\"font\":{\"color\":\"#4D5663\"},\"text\":\"\"},\"zerolinecolor\":\"#E1E5ED\"},\"yaxis12\":{\"anchor\":\"x12\",\"domain\":[0.2675,0.465],\"gridcolor\":\"#E1E5ED\",\"showgrid\":false,\"tickfont\":{\"color\":\"#4D5663\"},\"title\":{\"font\":{\"color\":\"#4D5663\"},\"text\":\"\"},\"zerolinecolor\":\"#E1E5ED\"},\"xaxis13\":{\"anchor\":\"y13\",\"domain\":[0.0,0.2125],\"gridcolor\":\"#E1E5ED\",\"showgrid\":false,\"tickfont\":{\"color\":\"#4D5663\"},\"title\":{\"font\":{\"color\":\"#4D5663\"},\"text\":\"\"},\"zerolinecolor\":\"#E1E5ED\"},\"yaxis13\":{\"anchor\":\"x13\",\"domain\":[0.0,0.1975],\"gridcolor\":\"#E1E5ED\",\"showgrid\":false,\"tickfont\":{\"color\":\"#4D5663\"},\"title\":{\"font\":{\"color\":\"#4D5663\"},\"text\":\"\"},\"zerolinecolor\":\"#E1E5ED\"},\"xaxis14\":{\"anchor\":\"y14\",\"domain\":[0.2625,0.475],\"gridcolor\":\"#E1E5ED\",\"showgrid\":false,\"tickfont\":{\"color\":\"#4D5663\"},\"title\":{\"font\":{\"color\":\"#4D5663\"},\"text\":\"\"},\"zerolinecolor\":\"#E1E5ED\"},\"yaxis14\":{\"anchor\":\"x14\",\"domain\":[0.0,0.1975],\"gridcolor\":\"#E1E5ED\",\"showgrid\":false,\"tickfont\":{\"color\":\"#4D5663\"},\"title\":{\"font\":{\"color\":\"#4D5663\"},\"text\":\"\"},\"zerolinecolor\":\"#E1E5ED\"},\"xaxis15\":{\"anchor\":\"y15\",\"domain\":[0.525,0.7375],\"gridcolor\":\"#E1E5ED\",\"showgrid\":false,\"tickfont\":{\"color\":\"#4D5663\"},\"title\":{\"font\":{\"color\":\"#4D5663\"},\"text\":\"\"},\"zerolinecolor\":\"#E1E5ED\"},\"yaxis15\":{\"anchor\":\"x15\",\"domain\":[0.0,0.1975],\"gridcolor\":\"#E1E5ED\",\"showgrid\":false,\"tickfont\":{\"color\":\"#4D5663\"},\"title\":{\"font\":{\"color\":\"#4D5663\"},\"text\":\"\"},\"zerolinecolor\":\"#E1E5ED\"},\"xaxis16\":{\"anchor\":\"y16\",\"domain\":[0.7875,1.0],\"gridcolor\":\"#E1E5ED\",\"showgrid\":false,\"tickfont\":{\"color\":\"#4D5663\"},\"title\":{\"font\":{\"color\":\"#4D5663\"},\"text\":\"\"},\"zerolinecolor\":\"#E1E5ED\"},\"yaxis16\":{\"anchor\":\"x16\",\"domain\":[0.0,0.1975],\"gridcolor\":\"#E1E5ED\",\"showgrid\":false,\"tickfont\":{\"color\":\"#4D5663\"},\"title\":{\"font\":{\"color\":\"#4D5663\"},\"text\":\"\"},\"zerolinecolor\":\"#E1E5ED\"}},                        {\"showLink\": true, \"linkText\": \"Export to plot.ly\", \"plotlyServerURL\": \"https://plot.ly\", \"responsive\": true}                    ).then(function(){\n",
       "                            \n",
       "var gd = document.getElementById('fa9bbe7d-b3bb-4305-bdc1-82cec06cbd61');\n",
       "var x = new MutationObserver(function (mutations, observer) {{\n",
       "        var display = window.getComputedStyle(gd).display;\n",
       "        if (!display || display === 'none') {{\n",
       "            console.log([gd, 'removed!']);\n",
       "            Plotly.purge(gd);\n",
       "            observer.disconnect();\n",
       "        }}\n",
       "}});\n",
       "\n",
       "// Listen for the removal of the full notebook cells\n",
       "var notebookContainer = gd.closest('#notebook-container');\n",
       "if (notebookContainer) {{\n",
       "    x.observe(notebookContainer, {childList: true});\n",
       "}}\n",
       "\n",
       "// Listen for the clearing of the current output cell\n",
       "var outputEl = gd.closest('.output');\n",
       "if (outputEl) {{\n",
       "    x.observe(outputEl, {childList: true});\n",
       "}}\n",
       "\n",
       "                        })                };                });            </script>        </div>"
      ]
     },
     "metadata": {},
     "output_type": "display_data"
    }
   ],
   "source": [
    "df.scatter_matrix()"
   ]
  },
  {
   "cell_type": "code",
   "execution_count": null,
   "id": "71632684",
   "metadata": {},
   "outputs": [],
   "source": []
  }
 ],
 "metadata": {
  "kernelspec": {
   "display_name": "Python 3 (ipykernel)",
   "language": "python",
   "name": "python3"
  },
  "language_info": {
   "codemirror_mode": {
    "name": "ipython",
    "version": 3
   },
   "file_extension": ".py",
   "mimetype": "text/x-python",
   "name": "python",
   "nbconvert_exporter": "python",
   "pygments_lexer": "ipython3",
   "version": "3.9.15"
  }
 },
 "nbformat": 4,
 "nbformat_minor": 5
}
